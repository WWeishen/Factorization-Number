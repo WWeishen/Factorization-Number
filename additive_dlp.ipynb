{
 "cells": [
  {
   "metadata": {},
   "cell_type": "markdown",
   "source": "# Discret logarithmic problème",
   "id": "628dcd60adcd9c80"
  },
  {
   "cell_type": "code",
   "execution_count": null,
   "id": "initial_id",
   "metadata": {
    "collapsed": true
   },
   "outputs": [],
   "source": [
    "import sympy as sp\n",
    "import numpy as np\n",
    "import math"
   ]
  },
  {
   "metadata": {},
   "cell_type": "markdown",
   "source": [
    "## Dans le groupe additif $( \\mathbb{Z}_p, + )$\n",
    "\n",
    "étant donné un nombre premier \\(p\\), un générateur \\(g\\) du groupe additif $\\mathbb{Z}_p$, et un élément $y \\in \\mathbb{Z}_p$, trouver $x$ tel que :\n",
    "    $a \\cdot x \\equiv b \\pmod{p}$\n",
    "\n",
    "On utilise algorithme de Euclide pour résoudre le problème"
   ],
   "id": "38d80c142e9ea19a"
  },
  {
   "metadata": {},
   "cell_type": "code",
   "outputs": [],
   "execution_count": null,
   "source": [
    "# Find (gcd, x, y) while ax + by = gcd(a, b)\n",
    "def extended_gcd(a, b):\n",
    "    if b == 0:\n",
    "        return a, 1, 0\n",
    "    else:\n",
    "        d, x1, y1 = extended_gcd(b, a % b)\n",
    "        x, y = y1, x1 - (a // b) * y1\n",
    "        return d, x, y\n",
    "\n",
    "# calculate g * x ≡ h mod n\n",
    "def solve_additive_dlp(g, h, n):\n",
    "    d, x, y = extended_gcd(g, n)\n",
    "\n",
    "    if h % d != 0:\n",
    "        return None  # no solution\n",
    "\n",
    "    # simplify the coeef\n",
    "    g_ = g // d\n",
    "    h_ = h // d\n",
    "    n_ = n // d\n",
    "\n",
    "    # calculate g'^(-1) mod n'\n",
    "    _, inv_g_, _ = extended_gcd(g_, n_)\n",
    "    inv_g_ = inv_g_ % n_\n",
    "\n",
    "    # min solution\n",
    "    solution = (h_ * inv_g_) % n_\n",
    "\n",
    "    # donner tout les solutions du groupe ：x ≡ x0 mod n'\n",
    "    # solutions = [(x0 + k * n_) % n for k in range(d)]  # tous les solution possible dans le groupe\n",
    "\n",
    "    return solution"
   ],
   "id": "709a88054d3139af"
  },
  {
   "metadata": {},
   "cell_type": "code",
   "outputs": [],
   "execution_count": null,
   "source": [
    "# exemple\n",
    "g = 6\n",
    "h = 8\n",
    "n = 14\n",
    "\n",
    "solution = solve_additive_dlp(g, h, n)\n",
    "\n",
    "if solution:\n",
    "    print(f\" {g}*x ≡ {h} mod {n} a solution(s) x={solution}\")\n",
    "else:\n",
    "    print(f\" {g}*x ≡ {h} mod {n} n'a pas de solution.\")"
   ],
   "id": "f16bacbc82313618"
  }
 ],
 "metadata": {
  "kernelspec": {
   "display_name": "Python 3",
   "language": "python",
   "name": "python3"
  },
  "language_info": {
   "codemirror_mode": {
    "name": "ipython",
    "version": 2
   },
   "file_extension": ".py",
   "mimetype": "text/x-python",
   "name": "python",
   "nbconvert_exporter": "python",
   "pygments_lexer": "ipython2",
   "version": "2.7.6"
  }
 },
 "nbformat": 4,
 "nbformat_minor": 5
}
