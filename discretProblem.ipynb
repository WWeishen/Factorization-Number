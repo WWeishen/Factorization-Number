{
 "cells": [
  {
   "cell_type": "markdown",
   "metadata": {},
   "source": "# Discret logarithmic problème"
  },
  {
   "cell_type": "code",
   "metadata": {
    "ExecuteTime": {
     "end_time": "2025-06-25T12:56:03.116191Z",
     "start_time": "2025-06-25T12:55:59.809924Z"
    }
   },
   "source": [
    "import sympy as sp\n",
    "import numpy as np\n",
    "import math"
   ],
   "outputs": [],
   "execution_count": 1
  },
  {
   "metadata": {},
   "cell_type": "markdown",
   "source": [
    "## Dans le groupe additif $( \\mathbb{Z}_p, + )$\n",
    "\n",
    "étant donné un nombre premier \\(p\\), un générateur \\(g\\) du groupe additif $\\mathbb{Z}_p$, et un élément $y \\in \\mathbb{Z}_p$, trouver $x$ tel que :\n",
    "    $a \\cdot x \\equiv b \\pmod{p}$"
   ]
  },
  {
   "metadata": {
    "ExecuteTime": {
     "end_time": "2025-06-25T12:56:03.142556Z",
     "start_time": "2025-06-25T12:56:03.135469Z"
    }
   },
   "cell_type": "code",
   "source": [
    "# variables globales\n",
    "variables=[]\n",
    "dictionaire_auxiliary_variable={}\n",
    "res=1\n",
    "variables_Ising =[]\n",
    "dict_variable_model_map={}\n",
    "x=sp.Add()\n",
    "k=sp.Add()"
   ],
   "outputs": [],
   "execution_count": 2
  },
  {
   "cell_type": "code",
   "metadata": {
    "ExecuteTime": {
     "end_time": "2025-06-25T12:56:07.141648Z",
     "start_time": "2025-06-25T12:56:04.240763Z"
    }
   },
   "source": [
    "# Créer un symbole à partir d'un nom en string\n",
    "def create_variables(var_name):\n",
    "    if isinstance(var_name, str) :\n",
    "        try:\n",
    "            symbol = sp.symbols(var_name)\n",
    "            globals()[var_name] = symbol\n",
    "            variables.append(symbol)\n",
    "        except ValueError:\n",
    "            print(f\"{var_name} ValueError\")\n",
    "    return symbol\n",
    "\n",
    "def reduct_variable_power_term(term):\n",
    "    new_term = 1\n",
    "    for variable,power in term.as_powers_dict().items():\n",
    "        new_term *= variable\n",
    "    return new_term\n",
    "\n",
    "def reduct_variable_power_function(expr):\n",
    "    expanded_expr = sp.expand(expr)\n",
    "    expanded_reducted = 0\n",
    "    for term in expanded_expr.args:\n",
    "        new_term = reduct_variable_power_term(term)\n",
    "        expanded_reducted += new_term\n",
    "    return expanded_reducted\n",
    "\n",
    "# les varaiables sont sort par la lettre puis un nombre: \"x12\" -> \"x\" 12\n",
    "def sort_key(variable):\n",
    "    name = str(variable)\n",
    "    # Split le nom du variable aux deux parties: letter & number\n",
    "    letter = name[0]\n",
    "    number = int(name[1:])\n",
    "    return (letter, number)\n",
    "\n",
    "def rest_term(coef , rest_variable_liste):\n",
    "    new_term = coef\n",
    "    while(len(rest_variable_liste)!=0):\n",
    "        new_term = new_term * rest_variable_liste[0]\n",
    "        rest_variable_liste.pop()\n",
    "    return new_term\n",
    "\n",
    "# si #variables > 2 : diemension -1\n",
    "def reduct_demension_term(coef,variables_liste):\n",
    "    global res\n",
    "\n",
    "    # sélection les 3 premières variables\n",
    "    [x_1, x_2, x_3] = variables_liste[:3]\n",
    "\n",
    "    # garder le reste des variables\n",
    "    rest_variables_liste= variables_liste[3:]\n",
    "    rest_expr = rest_term(coef , rest_variables_liste)\n",
    "\n",
    "    # commence la réduction dimension\n",
    "    tup=(x_1,x_2)\n",
    "    #check dict s'il existe déjà une variable auxiliary qui = les deux meme variable\n",
    "    key = next((k for k, v in dictionaire_auxiliary_variable.items() if v == tup), None)\n",
    "    if key==None:#sinon, il faut creer une variable auxiliary\n",
    "        var_name = \"x\" + str(res)\n",
    "        x_4 = create_variables(var_name)\n",
    "        dictionaire_auxiliary_variable[x_4]=(x_1,x_2)\n",
    "        res += 1\n",
    "    else:\n",
    "        x_4 = key\n",
    "\n",
    "    expr_reduct_formula = x_4 * x_3 + 2 * (x_1 * x_2 - 2 * x_1 * x_4 - 2 * x_2 * x_4 + 3 * x_4)\n",
    "\n",
    "    expr_reduct = rest_expr * expr_reduct_formula\n",
    "    return sp.expand(expr_reduct)\n",
    "\n",
    "def reduct_demension_expression(expr):\n",
    "    new_expr = 0\n",
    "    need_reduction = False\n",
    "\n",
    "    for term in expr.args:\n",
    "        # get coefficant(la constante) et variables(dans une liste)\n",
    "        variables_liste = sorted(term.free_symbols, key=sort_key)\n",
    "        coef = term.as_coeff_mul()[0]\n",
    "\n",
    "        # pour les termes qui ont plus de 2 variables, il faut appliquer la formule de réduction\n",
    "        if len(variables_liste) > 2 :\n",
    "            if len(variables_liste) > 3 :\n",
    "                need_reduction = True\n",
    "            new_term = reduct_demension_term(coef, variables_liste)\n",
    "            new_expr +=  new_term\n",
    "        else:\n",
    "            # sinon, on ne fait rien et les met directement dans la nouvelle expression\n",
    "            new_expr += term\n",
    "\n",
    "    if need_reduction: # récursive\n",
    "        return reduct_demension_expression(new_expr)\n",
    "    else:\n",
    "        return new_expr\n",
    "\n",
    "def transfers_qubo2Ising(reduct_demension_expr):\n",
    "    subs_relations = {(variable, ( variable + 1 ) /2) for variable in variables}\n",
    "\n",
    "    # Après la substitution, variables dans l'expression sont des variables d'Ising dans {-1,+1}\n",
    "    new_expr = reduct_demension_expr.subs(subs_relations)\n",
    "    new_expr = sp.expand(new_expr)\n",
    "    return new_expr\n",
    "\n",
    "import dimod\n",
    "from dwave.preprocessing.composites import SpinReversalTransformComposite\n",
    "\n",
    "# Compose the sampler\n",
    "base_sampler = dimod.ExactSolver()\n",
    "composed_sampler = SpinReversalTransformComposite(base_sampler)\n",
    "\n",
    "def get_solver_parameter(expr_ising):\n",
    "    linear = {}\n",
    "    quadratic ={}\n",
    "    offset = 0\n",
    "\n",
    "    for term in expr_ising.args:\n",
    "        variables_liste = sorted(term.free_symbols, key=sort_key)\n",
    "        coef = term.as_coeff_mul()[0]\n",
    "        if len(term.free_symbols) ==0:\n",
    "            offset = coef\n",
    "        if len(term.free_symbols) ==1:\n",
    "            linear[variables_liste[0].name] = coef\n",
    "        elif len(term.free_symbols) ==2:\n",
    "            quadratic[(variables_liste[0].name,variables_liste[1].name)] = coef\n",
    "\n",
    "    return (linear,quadratic,offset)\n",
    "\n",
    "def get_solution(expr_ising):\n",
    "    (linear,quadratic,offset) = get_solver_parameter(expr_ising)\n",
    "    response = composed_sampler.sample_ising(linear, quadratic)  #response.data() return (solution, energy, num_occurrences)\n",
    "    solution = next(response.data())[0]\n",
    "    return solution"
   ],
   "outputs": [],
   "execution_count": 3
  },
  {
   "cell_type": "code",
   "metadata": {
    "ExecuteTime": {
     "end_time": "2025-06-25T12:56:07.638642Z",
     "start_time": "2025-06-25T12:56:07.629317Z"
    }
   },
   "source": [
    "# set variable en binaire qui est dans {0,...,p-1}\n",
    "\n",
    "# exemple : x = u1 + 2u2 + 4u3 + ... + 2^(n-2)un-1 + (p-2^(n-1)+1)un\n",
    "def set_x_expression(n,p):  # n est length de x en binaire\n",
    "    # len(x) = len(p)\n",
    "    expr_x = 0\n",
    "    # de u1 à un-1\n",
    "    for i in range(1,n):\n",
    "        var_name = ('u' + str(i))\n",
    "        var = create_variables(var_name)\n",
    "        expr_x = 2**(i-1) * var + expr_x\n",
    "    # un\n",
    "    expr_x = expr_x + (p-2**(n-1)+1) * create_variables('u' + str(n))\n",
    "    return expr_x\n",
    "\n",
    "def set_k_expression(n):  # l est length de k en binaire\n",
    "    l = math.floor(math.log2(n)) + 1\n",
    "    expr_k = 0\n",
    "    # de u1 à un-1\n",
    "    for i in range(1,l):\n",
    "        var_name = ('k' + str(i))\n",
    "        var = create_variables(var_name)\n",
    "        expr_k = 2**(i-1) * var + expr_k\n",
    "    # un\n",
    "    expr_k = expr_k + (n-2**(l-1)+1) * create_variables('k' + str(l))\n",
    "    return expr_k"
   ],
   "outputs": [],
   "execution_count": 4
  },
  {
   "metadata": {},
   "cell_type": "markdown",
   "source": "Ici on donne la taille de x :n = 3 comme parapmètre, x et p ont la même taille."
  },
  {
   "metadata": {
    "ExecuteTime": {
     "end_time": "2025-06-25T12:56:11.035614Z",
     "start_time": "2025-06-25T12:56:10.917133Z"
    }
   },
   "cell_type": "code",
   "source": [
    "x = set_x_expression(3,5)\n",
    "x"
   ],
   "outputs": [
    {
     "data": {
      "text/plain": [
       "u1 + 2*u2 + 2*u3"
      ],
      "text/latex": "$\\displaystyle u_{1} + 2 u_{2} + 2 u_{3}$"
     },
     "execution_count": 5,
     "metadata": {},
     "output_type": "execute_result"
    }
   ],
   "execution_count": 5
  },
  {
   "metadata": {},
   "cell_type": "markdown",
   "source": [
    "### définir fonction\n",
    "$(x \\cdot a \\bmod p ) + (-b \\bmod p) - k\\cdot p = 0 $"
   ]
  },
  {
   "cell_type": "code",
   "metadata": {
    "ExecuteTime": {
     "end_time": "2025-06-25T12:56:13.651703Z",
     "start_time": "2025-06-25T12:56:13.641794Z"
    }
   },
   "source": [
    "def define_function(a, b, p):\n",
    "    # set variables for x\n",
    "    n = math.ceil(math.log2(p))  # len de x == len de p\n",
    "    global x\n",
    "    x = set_x_expression(n,p)\n",
    "\n",
    "    #set variables for k\n",
    "    global k\n",
    "    k = set_k_expression(n)\n",
    "\n",
    "    # set expression\n",
    "    expr = x * sp.Mod(a,p)\n",
    "    expr = expr + sp.Mod(-b,p)\n",
    "    expr = expr - (k * p)\n",
    "    expr = (expr) **2\n",
    "    expr = sp.expand(expr)\n",
    "    return expr"
   ],
   "outputs": [],
   "execution_count": 6
  },
  {
   "cell_type": "code",
   "metadata": {
    "ExecuteTime": {
     "end_time": "2025-06-25T12:56:16.444723Z",
     "start_time": "2025-06-25T12:56:16.389777Z"
    }
   },
   "source": [
    "expr = define_function(2,3,5)\n",
    "expr"
   ],
   "outputs": [
    {
     "data": {
      "text/plain": [
       "25*k1**2 + 100*k1*k2 - 20*k1*u1 - 40*k1*u2 - 40*k1*u3 - 20*k1 + 100*k2**2 - 40*k2*u1 - 80*k2*u2 - 80*k2*u3 - 40*k2 + 4*u1**2 + 16*u1*u2 + 16*u1*u3 + 8*u1 + 16*u2**2 + 32*u2*u3 + 16*u2 + 16*u3**2 + 16*u3 + 4"
      ],
      "text/latex": "$\\displaystyle 25 k_{1}^{2} + 100 k_{1} k_{2} - 20 k_{1} u_{1} - 40 k_{1} u_{2} - 40 k_{1} u_{3} - 20 k_{1} + 100 k_{2}^{2} - 40 k_{2} u_{1} - 80 k_{2} u_{2} - 80 k_{2} u_{3} - 40 k_{2} + 4 u_{1}^{2} + 16 u_{1} u_{2} + 16 u_{1} u_{3} + 8 u_{1} + 16 u_{2}^{2} + 32 u_{2} u_{3} + 16 u_{2} + 16 u_{3}^{2} + 16 u_{3} + 4$"
     },
     "execution_count": 7,
     "metadata": {},
     "output_type": "execute_result"
    }
   ],
   "execution_count": 7
  },
  {
   "cell_type": "code",
   "metadata": {
    "ExecuteTime": {
     "end_time": "2025-06-25T12:56:17.613969Z",
     "start_time": "2025-06-25T12:56:17.572693Z"
    }
   },
   "source": [
    "expr_reduct_power = reduct_variable_power_function(expr)\n",
    "expr_reduct_power"
   ],
   "outputs": [
    {
     "data": {
      "text/plain": [
       "100*k1*k2 - 20*k1*u1 - 40*k1*u2 - 40*k1*u3 + 5*k1 - 40*k2*u1 - 80*k2*u2 - 80*k2*u3 + 60*k2 + 16*u1*u2 + 16*u1*u3 + 12*u1 + 32*u2*u3 + 32*u2 + 32*u3 + 4"
      ],
      "text/latex": "$\\displaystyle 100 k_{1} k_{2} - 20 k_{1} u_{1} - 40 k_{1} u_{2} - 40 k_{1} u_{3} + 5 k_{1} - 40 k_{2} u_{1} - 80 k_{2} u_{2} - 80 k_{2} u_{3} + 60 k_{2} + 16 u_{1} u_{2} + 16 u_{1} u_{3} + 12 u_{1} + 32 u_{2} u_{3} + 32 u_{2} + 32 u_{3} + 4$"
     },
     "execution_count": 8,
     "metadata": {},
     "output_type": "execute_result"
    }
   ],
   "execution_count": 8
  },
  {
   "cell_type": "code",
   "metadata": {
    "ExecuteTime": {
     "end_time": "2025-06-25T12:56:19.111645Z",
     "start_time": "2025-06-25T12:56:19.105699Z"
    }
   },
   "source": [
    "# obtient l'expression finale\n",
    "def get_reduct_expression(a,b,p):\n",
    "    expr = define_function(a,b,p)\n",
    "    expr_reduct_power = reduct_variable_power_function(expr)\n",
    "    reduct_demension_expr = reduct_demension_expression(expr_reduct_power)\n",
    "    return reduct_demension_expr"
   ],
   "outputs": [],
   "execution_count": 9
  },
  {
   "cell_type": "code",
   "metadata": {
    "ExecuteTime": {
     "end_time": "2025-06-25T12:56:21.412764Z",
     "start_time": "2025-06-25T12:56:21.393533Z"
    }
   },
   "source": [
    "reduct_demension_expr = reduct_demension_expression(expr_reduct_power)\n",
    "reduct_demension_expr"
   ],
   "outputs": [
    {
     "data": {
      "text/plain": [
       "100*k1*k2 - 20*k1*u1 - 40*k1*u2 - 40*k1*u3 + 5*k1 - 40*k2*u1 - 80*k2*u2 - 80*k2*u3 + 60*k2 + 16*u1*u2 + 16*u1*u3 + 12*u1 + 32*u2*u3 + 32*u2 + 32*u3 + 4"
      ],
      "text/latex": "$\\displaystyle 100 k_{1} k_{2} - 20 k_{1} u_{1} - 40 k_{1} u_{2} - 40 k_{1} u_{3} + 5 k_{1} - 40 k_{2} u_{1} - 80 k_{2} u_{2} - 80 k_{2} u_{3} + 60 k_{2} + 16 u_{1} u_{2} + 16 u_{1} u_{3} + 12 u_{1} + 32 u_{2} u_{3} + 32 u_{2} + 32 u_{3} + 4$"
     },
     "execution_count": 10,
     "metadata": {},
     "output_type": "execute_result"
    }
   ],
   "execution_count": 10
  },
  {
   "metadata": {},
   "cell_type": "markdown",
   "source": "## On obtient l'expression sous forme de QUBO, ensuit on peut la transferer sous forme de modèle d'Ising"
  },
  {
   "metadata": {
    "ExecuteTime": {
     "end_time": "2025-06-25T12:56:23.669519Z",
     "start_time": "2025-06-25T12:56:23.597700Z"
    }
   },
   "cell_type": "code",
   "source": [
    "expr_ising = transfers_qubo2Ising(reduct_demension_expr)\n",
    "expr_ising"
   ],
   "outputs": [
    {
     "data": {
      "text/plain": [
       "25*k1*k2 - 5*k1*u1 - 10*k1*u2 - 10*k1*u3 + 5*k1/2 - 10*k2*u1 - 20*k2*u2 - 20*k2*u3 + 5*k2 + 4*u1*u2 + 4*u1*u3 - u1 + 8*u2*u3 - 2*u2 - 2*u3 + 81/2"
      ],
      "text/latex": "$\\displaystyle 25 k_{1} k_{2} - 5 k_{1} u_{1} - 10 k_{1} u_{2} - 10 k_{1} u_{3} + \\frac{5 k_{1}}{2} - 10 k_{2} u_{1} - 20 k_{2} u_{2} - 20 k_{2} u_{3} + 5 k_{2} + 4 u_{1} u_{2} + 4 u_{1} u_{3} - u_{1} + 8 u_{2} u_{3} - 2 u_{2} - 2 u_{3} + \\frac{81}{2}$"
     },
     "execution_count": 11,
     "metadata": {},
     "output_type": "execute_result"
    }
   ],
   "execution_count": 11
  },
  {
   "metadata": {},
   "cell_type": "markdown",
   "source": "# Find solution avec dimon bibilothèque"
  },
  {
   "metadata": {
    "ExecuteTime": {
     "end_time": "2025-06-25T12:56:25.228717Z",
     "start_time": "2025-06-25T12:56:25.205912Z"
    }
   },
   "cell_type": "code",
   "source": [
    "solution = get_solution(expr_ising)\n",
    "solution"
   ],
   "outputs": [
    {
     "data": {
      "text/plain": [
       "{'k2': np.int8(1),\n",
       " 'u2': np.int8(1),\n",
       " 'u3': np.int8(1),\n",
       " 'k1': np.int8(-1),\n",
       " 'u1': np.int8(-1)}"
      ]
     },
     "execution_count": 12,
     "metadata": {},
     "output_type": "execute_result"
    }
   ],
   "execution_count": 12
  },
  {
   "cell_type": "code",
   "metadata": {
    "ExecuteTime": {
     "end_time": "2025-06-25T12:56:29.132313Z",
     "start_time": "2025-06-25T12:56:29.123894Z"
    }
   },
   "source": [
    "def calcule_x(solution,x,k):\n",
    "    dic_varialbe_value = {}\n",
    "    for var in variables:\n",
    "        if(solution[var.name] == np.int8(1)):\n",
    "            dic_varialbe_value[var] = int(1)\n",
    "        else:\n",
    "            dic_varialbe_value[var] = int(0)\n",
    "\n",
    "    x_value = x.subs(dic_varialbe_value)\n",
    "    k_value = k.subs(dic_varialbe_value)\n",
    "    \n",
    "    return (x_value.evalf(),k_value.evalf())\n",
    "\n",
    "\n",
    "def factorization(a, b, p):\n",
    "    global variables, variables_Ising, dictionaire_auxiliary_variable, res,x,k\n",
    "    variables = []\n",
    "    variables_Ising = []\n",
    "    dictionaire_auxiliary_variable = {}\n",
    "    res = 1\n",
    "    x= sp.Add()\n",
    "    k= sp.Add()\n",
    "\n",
    "\n",
    "    reduct_demension_expr = get_reduct_expression(a,b,p)\n",
    "    expr_ising = transfers_qubo2Ising(reduct_demension_expr)\n",
    "    solution = get_solution(expr_ising)\n",
    "    (x_val,k_val) = calcule_x(solution,x,k)\n",
    "    x_int = int(x_val)\n",
    "    k_int = int(k_val)\n",
    "    print(f\" k: {k_int}\")\n",
    "    print(f\"The solution of {a} * x = {b} mod {p} is : x = {x_int}.\")"
   ],
   "outputs": [],
   "execution_count": 13
  },
  {
   "metadata": {
    "ExecuteTime": {
     "end_time": "2025-06-25T12:56:31.372068Z",
     "start_time": "2025-06-25T12:56:31.362673Z"
    }
   },
   "cell_type": "code",
   "source": [
    "a=2\n",
    "b=3\n",
    "p=5\n",
    "factorization(a, b, p)"
   ],
   "outputs": [
    {
     "name": "stdout",
     "output_type": "stream",
     "text": [
      " k: 2\n",
      "The solution of 2 * x = 3 mod 5 is : x = 4.\n"
     ]
    }
   ],
   "execution_count": 14
  },
  {
   "metadata": {
    "ExecuteTime": {
     "end_time": "2025-06-25T12:56:32.671063Z",
     "start_time": "2025-06-25T12:56:32.622191Z"
    }
   },
   "cell_type": "code",
   "source": [
    "a=5\n",
    "b=5\n",
    "p=7\n",
    "factorization(a, b, p)"
   ],
   "outputs": [
    {
     "name": "stdout",
     "output_type": "stream",
     "text": [
      " k: 1\n",
      "The solution of 5 * x = 5 mod 7 is : x = 1.\n"
     ]
    }
   ],
   "execution_count": 15
  },
  {
   "metadata": {},
   "cell_type": "markdown",
   "source": "# Dans le groupe multiplicative $( \\mathbb{Z}_p, \\cdot )$"
  },
  {
   "metadata": {},
   "cell_type": "markdown",
   "source": [
    "## Brutal approach\n",
    "On define le DLP comme ceci:\n",
    "    $g^y = h $\n",
    "\n",
    "Ensuite, dans $\\mathbb{F}_p, g,h \\in \\{1, \\cdots , p-1\\}, y \\in \\{1, \\cdots, \\text{Ord}(g)\\}$\n",
    "\n",
    "\n",
    "$g^y \\equiv h \\pmod{p}$\n"
   ]
  },
  {
   "metadata": {},
   "cell_type": "markdown",
   "source": [
    "#### Defint y:\n",
    "set $m$ est le nombre de bits de $y$ = bitlength of ord(g).\n",
    "\n",
    "$y$ peux être définit comme ceci:\n",
    "    $ y = 2^{m - 1} u_m + \\cdots + 2u_2 + u_1$\n",
    "\n",
    "union de equation 6 et 8, on obtient equation 13"
   ]
  },
  {
   "metadata": {},
   "cell_type": "markdown",
   "source": [
    "## Fonctions basiques:\n",
    "1. calculer ord(g) dans p\n",
    "2. définir valeur unconnu en l'expression composé des variables binaires"
   ]
  },
  {
   "metadata": {
    "ExecuteTime": {
     "end_time": "2025-06-25T12:56:39.502551Z",
     "start_time": "2025-06-25T12:56:39.496404Z"
    }
   },
   "cell_type": "code",
   "source": [
    "def calculate_order(g, p):\n",
    "    # ord(g): le min k qui satisfait g^k = 1 mod p\n",
    "    if g <= 0 or g >= p:\n",
    "        print(f\"error：g should in { 1, p-1} \")\n",
    "        return None\n",
    "\n",
    "    order = 1\n",
    "    current = g % p\n",
    "\n",
    "    while current != 1:\n",
    "        # g^(order+1) mod p\n",
    "        current = (current * g) % p\n",
    "        order += 1\n",
    "\n",
    "        if order > p-1:\n",
    "            print(f\"error：p is not prime or g and p are not prime\")\n",
    "            return None\n",
    "    return order\n",
    "\n",
    "def set_variable_expression(n,prefix):  # n is the length of variable and the prefix of each binary variable\n",
    "    expr_var = 0\n",
    "    # de u1 à un\n",
    "    for i in range(1,n+1):\n",
    "        var_name = (prefix + str(i))\n",
    "        var = create_variables(var_name)\n",
    "        expr_var = 2**(i-1) * var + expr_var\n",
    "    return expr_var"
   ],
   "outputs": [],
   "execution_count": 16
  },
  {
   "metadata": {
    "ExecuteTime": {
     "end_time": "2025-06-25T12:56:42.390876Z",
     "start_time": "2025-06-25T12:56:42.379029Z"
    }
   },
   "cell_type": "code",
   "source": [
    "g= 2\n",
    "p= 5\n",
    "h= 3\n",
    "ord = calculate_order(g,p)\n",
    "n = math.ceil(math.log2(ord))\n",
    "expr_y = set_variable_expression(n,'u')\n",
    "print(f\"expression of y: {expr_y}\")\n",
    "expr_k = set_variable_expression(n,'k')\n",
    "print(f\"expression of k: {expr_k}\")"
   ],
   "outputs": [
    {
     "name": "stdout",
     "output_type": "stream",
     "text": [
      "expression of y: u1 + 2*u2\n",
      "expression of k: k1 + 2*k2\n"
     ]
    }
   ],
   "execution_count": 17
  },
  {
   "metadata": {},
   "cell_type": "markdown",
   "source": [
    "## Definir $g^y$ en forme de equation 6:\n",
    "\n",
    "$g^y = g^{2^{m-1} \\cdot u_m+\\cdots+2u_2+u_1}  = g^{2^{m-1}} \\cdots g^{2u_2}g^{u_1}$"
   ]
  },
  {
   "metadata": {
    "ExecuteTime": {
     "end_time": "2025-06-25T12:56:53.232147Z",
     "start_time": "2025-06-25T12:56:53.226343Z"
    }
   },
   "cell_type": "code",
   "source": [
    "def create_g_power_expression(expr_y,g):\n",
    "    \"\"\"\n",
    "    g^y = g^(2^0*u₁ + 2^1*u₂+ ... + 2^(n-1)*uₙ)\n",
    "    \"\"\"\n",
    "    #global g_symbol\n",
    "    #g_symbol = sp.Symbol('g')\n",
    "\n",
    "    g_power_y = g ** expr_y\n",
    "\n",
    "    return g_power_y\n",
    "\n",
    "def decompose_g_power(g_power_expr):\n",
    "    \"\"\"\n",
    "    g^y = g^(2^0*u₁) * g^(2^1*u₂) * ... * g^(2^(n-1)*uₙ)\n",
    "    \"\"\"\n",
    "    exponent = g_power_expr.as_base_exp()[1]\n",
    "    base = g_power_expr.as_base_exp()[0]\n",
    "    decomposed_expr = 1\n",
    "\n",
    "    # u₁ + u₂·2¹ + ... + uₙ·2ⁿ⁻¹\n",
    "    for term in exponent.args:\n",
    "        decomposed_expr = decomposed_expr * base**term\n",
    "    return decomposed_expr"
   ],
   "outputs": [],
   "execution_count": 18
  },
  {
   "metadata": {
    "ExecuteTime": {
     "end_time": "2025-06-25T12:56:55.138568Z",
     "start_time": "2025-06-25T12:56:55.126708Z"
    }
   },
   "cell_type": "code",
   "source": [
    "g_power_y = create_g_power_expression(expr_y,g)\n",
    "print(f\"expression of g^y : {g_power_y}\")\n",
    "\n",
    "decomposed_expr = decompose_g_power(g_power_y)\n",
    "print(f\"expression of decomposed g^y : {decomposed_expr}\")"
   ],
   "outputs": [
    {
     "name": "stdout",
     "output_type": "stream",
     "text": [
      "expression of g^y : 2**(u1 + 2*u2)\n",
      "expression of decomposed g^y : 2**u1*2**(2*u2)\n"
     ]
    }
   ],
   "execution_count": 19
  },
  {
   "metadata": {},
   "cell_type": "markdown",
   "source": [
    "## Transforme en utilisant l'équation 8 de l'equation 6\n",
    "transfert formule : $g^{2^{i-1} \\cdot u_i} = 1+u_i(g^{2^{i-1}}-1)$\n",
    "\n",
    "$g^y =(1 + u_m(g^{2^{m−1}}− 1))  \\cdots (1 + u_2 (g^2 − 1)) \\dot (1 + u_1 (g − 1))$\n"
   ]
  },
  {
   "metadata": {
    "ExecuteTime": {
     "end_time": "2025-06-25T12:57:03.424089Z",
     "start_time": "2025-06-25T12:57:03.417148Z"
    }
   },
   "cell_type": "code",
   "source": [
    "def transform_using_formula(decomposed_expr):\n",
    "    \"\"\"\n",
    "    g^(2^(i-1) * u_i) = 1 + u_i * (g^(2^(i-1)) - 1 % p)   #equation 13\n",
    "    \"\"\"\n",
    "    terms = []\n",
    "    for element in decomposed_expr.args:\n",
    "        ele = element.exp\n",
    "\n",
    "        if ele.is_symbol:\n",
    "            #i = 1\n",
    "            transformed_element = 1 + ele * (element.base - 1)\n",
    "            terms.append(transformed_element)\n",
    "        elif ele.is_Mul:\n",
    "            [coeff, u_var] = ele.args\n",
    "            transformed_element = 1 + u_var * (element.base**(coeff) - 1)\n",
    "            terms.append(transformed_element)\n",
    "    return sp.Mul(*terms)"
   ],
   "outputs": [],
   "execution_count": 20
  },
  {
   "metadata": {
    "ExecuteTime": {
     "end_time": "2025-06-25T12:57:04.919416Z",
     "start_time": "2025-06-25T12:57:04.913538Z"
    }
   },
   "cell_type": "code",
   "source": [
    "transformed_expr = transform_using_formula(decomposed_expr)\n",
    "print(f\"expression of transformed g^y: {transformed_expr}\")"
   ],
   "outputs": [
    {
     "name": "stdout",
     "output_type": "stream",
     "text": [
      "expression of transformed g^y: (u1 + 1)*(3*u2 + 1)\n"
     ]
    }
   ],
   "execution_count": 21
  },
  {
   "metadata": {},
   "cell_type": "markdown",
   "source": [
    "## Définir la fonction objective\n",
    "$ (( f-h ) \\bmod p - (k \\cdot p))^2 = 0 $\n",
    "\n",
    "avec $f =(1 + u_m(g^{2^{m−1}}− 1))  \\cdots (1 + u_2 (g^2 − 1)) \\dot (1 + u_1 (g − 1))$"
   ]
  },
  {
   "metadata": {
    "ExecuteTime": {
     "end_time": "2025-06-25T13:14:44.348878Z",
     "start_time": "2025-06-25T13:14:44.338759Z"
    }
   },
   "cell_type": "code",
   "source": [
    "def define_function(g, h, p):\n",
    "    # set variables for\n",
    "    ord = calculate_order(g,p)\n",
    "    if ord :\n",
    "        n = math.ceil(math.log2(ord))\n",
    "    else:\n",
    "        print(f\"ord({g}) is none \")\n",
    "        return None\n",
    "\n",
    "    global expr_y\n",
    "    expr_y = set_variable_expression(n,'u')\n",
    "    print(f\"expression of y: {expr_y}\")\n",
    "\n",
    "    # g^y = transformed_expr\n",
    "    g_power_expr = create_g_power_expression(expr_y,g)\n",
    "    decomposed_expr = decompose_g_power(g_power_expr)\n",
    "    transformed_expr = transform_using_formula(decomposed_expr)\n",
    "    print(f\"expression of transformed g^y: {transformed_expr}\")\n",
    "\n",
    "    #set variables for k\n",
    "    global expr_k\n",
    "    expr_k = set_variable_expression(n,'k')   # contains variables : ki\n",
    "    print(f\"expression of k: {expr_k}\")\n",
    "\n",
    "    # set expression(equation 15)\n",
    "    print(\"+++++++++++++++++++++\")\n",
    "    expr = transformed_expr - h\n",
    "    expr = sp.expand(expr)\n",
    "\n",
    "    expr = expr % p\n",
    "    expr = sp.expand(expr)\n",
    "\n",
    "    expr = expr - (expr_k * p)\n",
    "    expr = sp.expand(expr)\n",
    "\n",
    "    expr = (expr) **2\n",
    "    expr = sp.expand(expr)\n",
    "    return expr"
   ],
   "outputs": [],
   "execution_count": 24
  },
  {
   "metadata": {
    "ExecuteTime": {
     "end_time": "2025-06-25T13:14:47.199702Z",
     "start_time": "2025-06-25T13:14:47.021991Z"
    }
   },
   "cell_type": "code",
   "source": [
    "# variables globales\n",
    "variables=[]\n",
    "dictionaire_auxiliary_variable={}\n",
    "res=1\n",
    "variables_Ising =[]\n",
    "dict_variable_model_map={}\n",
    "y=sp.Add()\n",
    "k=sp.Add()\n",
    "\n",
    "reduct_demension_expr = get_reduct_expression(2,3,5)\n",
    "print(f\"reducted demension expression : {reduct_demension_expr}\")\n",
    "expr_ising = transfers_qubo2Ising(reduct_demension_expr)\n",
    "print(f\"ising expression : {expr_ising}\")\n",
    "#get_solution(expr_ising)\n",
    "solution = get_solution(expr_ising)\n",
    "solution"
   ],
   "outputs": [
    {
     "name": "stdout",
     "output_type": "stream",
     "text": [
      "expression of y: u1 + 2*u2\n",
      "expression of transformed g^y: (u1 + 1)*(3*u2 + 1)\n",
      "expression of k: k1 + 2*k2\n",
      "+++++++++++++++++++++\n",
      "reducted demension expression : 100*k1*k2 - 20*k1*u1 + 40*k1*x2 + 25*k1 - 40*k2*u1 + 80*k2*x1 + 100*k2 + 80*u1*x1 + 40*u1*x2 - 20*u2*x1 - 10*u2*x2 - 120*x1 - 60*x2 + Mod(3*u1*u2 + u1 + 3*u2 + 3, 5)\n",
      "ising expression : 25*k1*k2 - 5*k1*u1 + 10*k1*x2 + 85*k1/2 - 10*k2*u1 + 20*k2*x1 + 85*k2 + 20*u1*x1 + 10*u1*x2 + 15*u1 - 5*u2*x1 - 5*u2*x2/2 - 15*u2/2 - 25*x1 - 25*x2/2 + Mod(3*u1*u2/4 + 5*u1/4 + 9*u2/4 + 3/4, 5) + 35\n"
     ]
    },
    {
     "data": {
      "text/plain": [
       "{'k2': np.int8(-1),\n",
       " 'u1': np.int8(-1),\n",
       " 'k1': np.int8(-1),\n",
       " 'u2': np.int8(1),\n",
       " 'x1': np.int8(1),\n",
       " 'x2': np.int8(1)}"
      ]
     },
     "execution_count": 25,
     "metadata": {},
     "output_type": "execute_result"
    }
   ],
   "execution_count": 25
  },
  {
   "metadata": {
    "ExecuteTime": {
     "end_time": "2025-06-25T13:14:52.931915Z",
     "start_time": "2025-06-25T13:14:52.922066Z"
    }
   },
   "cell_type": "code",
   "source": [
    "def calcule_y(solution,expr_y,expr_k):\n",
    "    dic_varialbe_value = {}\n",
    "    for var in variables:\n",
    "        if(solution[var.name] == np.int8(1)):\n",
    "            dic_varialbe_value[var] = int(1)\n",
    "        else:\n",
    "            dic_varialbe_value[var] = int(0)\n",
    "\n",
    "    y_value = expr_y.subs(dic_varialbe_value)\n",
    "    k_value = expr_k.subs(dic_varialbe_value)\n",
    "\n",
    "    return (y_value.evalf(),k_value.evalf())\n",
    "\n",
    "calcule_y(solution,expr_y,expr_k)"
   ],
   "outputs": [
    {
     "data": {
      "text/plain": [
       "(2.00000000000000, 0)"
      ]
     },
     "execution_count": 26,
     "metadata": {},
     "output_type": "execute_result"
    }
   ],
   "execution_count": 26
  },
  {
   "metadata": {},
   "cell_type": "markdown",
   "source": ""
  }
 ],
 "metadata": {
  "kernelspec": {
   "display_name": "Python 3",
   "language": "python",
   "name": "python3"
  },
  "language_info": {
   "codemirror_mode": {
    "name": "ipython",
    "version": 3
   },
   "file_extension": ".py",
   "mimetype": "text/x-python",
   "name": "python",
   "nbconvert_exporter": "python",
   "pygments_lexer": "ipython3",
   "version": "3.13.2"
  }
 },
 "nbformat": 4,
 "nbformat_minor": 2
}
