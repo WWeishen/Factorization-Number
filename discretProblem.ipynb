{
 "cells": [
  {
   "cell_type": "markdown",
   "metadata": {},
   "source": "# Discret logarithmic problème"
  },
  {
   "metadata": {},
   "cell_type": "markdown",
   "source": [
    "## Dans le groupe additif $( \\mathbb{Z}_p, + )$\n",
    "\n",
    "étant donné un nombre premier \\(p\\), un générateur \\(g\\) du groupe additif $\\mathbb{Z}_p$, et un élément $y \\in \\mathbb{Z}_p$, trouver $x$ tel que :\n",
    "    $a \\cdot x \\equiv b \\pmod{p}$"
   ]
  },
  {
   "cell_type": "code",
   "metadata": {
    "ExecuteTime": {
     "end_time": "2025-06-30T10:43:26.074915Z",
     "start_time": "2025-06-30T10:43:24.641860Z"
    }
   },
   "source": [
    "import sympy as sp\n",
    "import numpy as np\n",
    "import math\n",
    "\n",
    "# variables globales\n",
    "variables=[]  # tout les variables créés\n",
    "dictionaire_auxiliary_variable={}\n",
    "res=1\n",
    "x=sp.Add()\n",
    "y=sp.Add()\n",
    "k=sp.Add()\n",
    "\n",
    "# Créer un symbole à partir d'un nom en string\n",
    "def create_variables(var_name):\n",
    "    if isinstance(var_name, str) :\n",
    "        try:\n",
    "            symbol = sp.symbols(var_name)\n",
    "            globals()[var_name] = symbol\n",
    "            variables.append(symbol)\n",
    "        except ValueError:\n",
    "            print(f\"{var_name} ValueError\")\n",
    "    return symbol\n",
    "\n",
    "def reduct_variable_power_term(term):\n",
    "    new_term = 1\n",
    "    for variable,power in term.as_powers_dict().items():\n",
    "        new_term *= variable\n",
    "    return new_term\n",
    "\n",
    "def reduct_variable_power_function(expr):\n",
    "    expanded_expr = sp.expand(expr)\n",
    "    expanded_reducted = 0\n",
    "    for term in expanded_expr.args:\n",
    "        new_term = reduct_variable_power_term(term)\n",
    "        expanded_reducted += new_term\n",
    "    return expanded_reducted\n",
    "\n",
    "# les varaiables sont sort par la lettre puis un nombre: \"x12\" -> \"x\" 12\n",
    "def sort_key(variable):\n",
    "    name = str(variable)\n",
    "    # Split le nom du variable aux deux parties: letter & number\n",
    "    letter = name[0]\n",
    "    number = int(name[1:])\n",
    "    return (letter, number)\n",
    "\n",
    "def rest_term(coef , rest_variable_liste):\n",
    "    new_term = coef\n",
    "    while(len(rest_variable_liste)!=0):\n",
    "        new_term = new_term * rest_variable_liste[0]\n",
    "        rest_variable_liste.pop()\n",
    "    return new_term\n",
    "\n",
    "# si #variables > 2 : diemension -1\n",
    "def reduct_demension_term(coef,variables_liste):\n",
    "    global res\n",
    "\n",
    "    # sélection les 3 premières variables\n",
    "    [x_1, x_2, x_3] = variables_liste[:3]\n",
    "\n",
    "    # garder le reste des variables\n",
    "    rest_variables_liste= variables_liste[3:]\n",
    "    rest_expr = rest_term(coef , rest_variables_liste)\n",
    "\n",
    "    # commence la réduction dimension\n",
    "    tup=(x_1,x_2)\n",
    "    #check dict s'il existe déjà une variable auxiliary qui = les deux meme variable\n",
    "    key = next((k for k, v in dictionaire_auxiliary_variable.items() if v == tup), None)\n",
    "    if key==None:#sinon, il faut creer une variable auxiliary\n",
    "        var_name = \"x\" + str(res)\n",
    "        x_4 = create_variables(var_name)\n",
    "        dictionaire_auxiliary_variable[x_4]=(x_1,x_2)\n",
    "        res += 1\n",
    "    else:\n",
    "        x_4 = key\n",
    "\n",
    "    expr_reduct_formula = x_4 * x_3 + 2 * (x_1 * x_2 - 2 * x_1 * x_4 - 2 * x_2 * x_4 + 3 * x_4)\n",
    "\n",
    "    expr_reduct = rest_expr * expr_reduct_formula\n",
    "    return sp.expand(expr_reduct)\n",
    "\n",
    "def reduct_demension_expression(expr):\n",
    "    new_expr = 0\n",
    "    need_reduction = False\n",
    "\n",
    "    for term in expr.args:\n",
    "        # get coefficant(la constante) et variables(dans une liste)\n",
    "        variables_liste = sorted(term.free_symbols, key=sort_key)\n",
    "        coef = term.as_coeff_mul()[0]\n",
    "\n",
    "        # pour les termes qui ont plus de 2 variables, il faut appliquer la formule de réduction\n",
    "        if len(variables_liste) > 2 :\n",
    "            if len(variables_liste) > 3 :\n",
    "                need_reduction = True\n",
    "            new_term = reduct_demension_term(coef, variables_liste)\n",
    "            new_expr +=  new_term\n",
    "        else:\n",
    "            # sinon, on ne fait rien et les met directement dans la nouvelle expression\n",
    "            new_expr += term\n",
    "\n",
    "    if need_reduction: # récursive\n",
    "        return reduct_demension_expression(new_expr)\n",
    "    else:\n",
    "        return new_expr\n",
    "\n",
    "def get_reduct_expression(a,b,p):\n",
    "    expr = define_function(a,b,p)\n",
    "    print(f\" define_function : {expr}\")\n",
    "    expr_reduct_power = reduct_variable_power_function(expr)\n",
    "    reduct_demension_expr = reduct_demension_expression(expr_reduct_power)\n",
    "    return reduct_demension_expr\n",
    "\n",
    "def transfers_qubo2Ising(reduct_demension_expr):\n",
    "    subs_relations = {(variable, ( variable + 1 ) /2) for variable in variables}\n",
    "\n",
    "    # Après la substitution, variables dans l'expression sont des variables d'Ising dans {-1,+1}\n",
    "    new_expr = reduct_demension_expr.subs(subs_relations)\n",
    "    new_expr = sp.expand(new_expr)\n",
    "    return new_expr\n",
    "\n",
    "import dimod\n",
    "from dwave.preprocessing.composites import SpinReversalTransformComposite\n",
    "\n",
    "# Compose the sampler\n",
    "base_sampler = dimod.ExactSolver()\n",
    "composed_sampler = SpinReversalTransformComposite(base_sampler)\n",
    "\n",
    "def get_solver_parameter(expr_ising):\n",
    "    linear = {}\n",
    "    quadratic ={}\n",
    "    offset = 0\n",
    "\n",
    "    for term in expr_ising.args:\n",
    "        variables_liste = sorted(term.free_symbols, key=sort_key)\n",
    "        coef = term.as_coeff_mul()[0]\n",
    "        if len(term.free_symbols) ==0:\n",
    "            offset = coef\n",
    "        if len(term.free_symbols) ==1:\n",
    "            linear[variables_liste[0].name] = coef\n",
    "        elif len(term.free_symbols) ==2:\n",
    "            quadratic[(variables_liste[0].name,variables_liste[1].name)] = coef\n",
    "\n",
    "    return (linear,quadratic,offset)\n",
    "\n",
    "def get_solution(expr_ising):\n",
    "    (linear,quadratic,offset) = get_solver_parameter(expr_ising)\n",
    "    response = composed_sampler.sample_ising(linear, quadratic)  #response.data() return (solution, energy, num_occurrences)\n",
    "    solution = next(response.data())[0]\n",
    "    return solution"
   ],
   "outputs": [],
   "execution_count": 1
  },
  {
   "metadata": {},
   "cell_type": "markdown",
   "source": [
    "### définir fonction\n",
    "$(x \\cdot a \\bmod p ) + (-b \\bmod p) - k\\cdot p = 0 $"
   ]
  },
  {
   "metadata": {
    "ExecuteTime": {
     "end_time": "2025-06-30T10:43:26.090463Z",
     "start_time": "2025-06-30T10:43:26.081664Z"
    }
   },
   "cell_type": "code",
   "source": [
    "# set variable en binaire qui est dans {0,...,p-1}\n",
    "\n",
    "# exemple : x = u1 + 2u2 + 4u3 + ... + 2^(n-2)un-1 + (p-2^(n-1)+1)un\n",
    "def set_x_expression(n,p):  # n est length de x en binaire\n",
    "    # len(x) = len(p)\n",
    "    expr_x = 0\n",
    "    # de u1 à un-1\n",
    "    for i in range(1,n):\n",
    "        var_name = ('u' + str(i))\n",
    "        var = create_variables(var_name)\n",
    "        expr_x = 2**(i-1) * var + expr_x\n",
    "    # un\n",
    "    expr_x = expr_x + (p-2**(n-1)+1) * create_variables('u' + str(n))\n",
    "    return expr_x\n",
    "\n",
    "def set_k_expression(n):  # l est length de k en binaire\n",
    "    l = math.floor(math.log2(n)) + 1\n",
    "    expr_k = 0\n",
    "    # de u1 à un-1\n",
    "    for i in range(1,l):\n",
    "        var_name = ('k' + str(i))\n",
    "        var = create_variables(var_name)\n",
    "        expr_k = 2**(i-1) * var + expr_k\n",
    "    # un\n",
    "    expr_k = expr_k + (n-2**(l-1)+1) * create_variables('k' + str(l))\n",
    "    return expr_k\n",
    "\n",
    "def define_function(a, b, p):\n",
    "    # set variables for x\n",
    "    n = math.ceil(math.log2(p))  # len de x == len de p\n",
    "    global x\n",
    "    x = set_x_expression(n,p)\n",
    "\n",
    "    #set variables for k\n",
    "    global k\n",
    "    k = set_k_expression(n)\n",
    "\n",
    "    # set expression\n",
    "    expr = x * sp.Mod(a,p)\n",
    "    expr = expr + sp.Mod(-b,p)\n",
    "    expr = expr - (k * p)\n",
    "    expr = (expr) **2\n",
    "    expr = sp.expand(expr)\n",
    "    return expr"
   ],
   "outputs": [],
   "execution_count": 2
  },
  {
   "cell_type": "code",
   "metadata": {
    "ExecuteTime": {
     "end_time": "2025-06-30T10:43:26.494917Z",
     "start_time": "2025-06-30T10:43:26.383894Z"
    }
   },
   "source": [
    "expr = define_function(2,3,5)\n",
    "expr"
   ],
   "outputs": [
    {
     "data": {
      "text/plain": [
       "25*k1**2 + 100*k1*k2 - 20*k1*u1 - 40*k1*u2 - 40*k1*u3 - 20*k1 + 100*k2**2 - 40*k2*u1 - 80*k2*u2 - 80*k2*u3 - 40*k2 + 4*u1**2 + 16*u1*u2 + 16*u1*u3 + 8*u1 + 16*u2**2 + 32*u2*u3 + 16*u2 + 16*u3**2 + 16*u3 + 4"
      ],
      "text/latex": "$\\displaystyle 25 k_{1}^{2} + 100 k_{1} k_{2} - 20 k_{1} u_{1} - 40 k_{1} u_{2} - 40 k_{1} u_{3} - 20 k_{1} + 100 k_{2}^{2} - 40 k_{2} u_{1} - 80 k_{2} u_{2} - 80 k_{2} u_{3} - 40 k_{2} + 4 u_{1}^{2} + 16 u_{1} u_{2} + 16 u_{1} u_{3} + 8 u_{1} + 16 u_{2}^{2} + 32 u_{2} u_{3} + 16 u_{2} + 16 u_{3}^{2} + 16 u_{3} + 4$"
     },
     "execution_count": 3,
     "metadata": {},
     "output_type": "execute_result"
    }
   ],
   "execution_count": 3
  },
  {
   "cell_type": "code",
   "metadata": {
    "ExecuteTime": {
     "end_time": "2025-06-30T10:43:26.665442Z",
     "start_time": "2025-06-30T10:43:26.594747Z"
    }
   },
   "source": [
    "expr_reduct_power = reduct_variable_power_function(expr)\n",
    "expr_reduct_power"
   ],
   "outputs": [
    {
     "data": {
      "text/plain": [
       "100*k1*k2 - 20*k1*u1 - 40*k1*u2 - 40*k1*u3 + 5*k1 - 40*k2*u1 - 80*k2*u2 - 80*k2*u3 + 60*k2 + 16*u1*u2 + 16*u1*u3 + 12*u1 + 32*u2*u3 + 32*u2 + 32*u3 + 4"
      ],
      "text/latex": "$\\displaystyle 100 k_{1} k_{2} - 20 k_{1} u_{1} - 40 k_{1} u_{2} - 40 k_{1} u_{3} + 5 k_{1} - 40 k_{2} u_{1} - 80 k_{2} u_{2} - 80 k_{2} u_{3} + 60 k_{2} + 16 u_{1} u_{2} + 16 u_{1} u_{3} + 12 u_{1} + 32 u_{2} u_{3} + 32 u_{2} + 32 u_{3} + 4$"
     },
     "execution_count": 4,
     "metadata": {},
     "output_type": "execute_result"
    }
   ],
   "execution_count": 4
  },
  {
   "cell_type": "code",
   "metadata": {
    "ExecuteTime": {
     "end_time": "2025-06-30T10:43:26.948980Z",
     "start_time": "2025-06-30T10:43:26.917813Z"
    }
   },
   "source": [
    "reduct_demension_expr = reduct_demension_expression(expr_reduct_power)\n",
    "reduct_demension_expr"
   ],
   "outputs": [
    {
     "data": {
      "text/plain": [
       "100*k1*k2 - 20*k1*u1 - 40*k1*u2 - 40*k1*u3 + 5*k1 - 40*k2*u1 - 80*k2*u2 - 80*k2*u3 + 60*k2 + 16*u1*u2 + 16*u1*u3 + 12*u1 + 32*u2*u3 + 32*u2 + 32*u3 + 4"
      ],
      "text/latex": "$\\displaystyle 100 k_{1} k_{2} - 20 k_{1} u_{1} - 40 k_{1} u_{2} - 40 k_{1} u_{3} + 5 k_{1} - 40 k_{2} u_{1} - 80 k_{2} u_{2} - 80 k_{2} u_{3} + 60 k_{2} + 16 u_{1} u_{2} + 16 u_{1} u_{3} + 12 u_{1} + 32 u_{2} u_{3} + 32 u_{2} + 32 u_{3} + 4$"
     },
     "execution_count": 5,
     "metadata": {},
     "output_type": "execute_result"
    }
   ],
   "execution_count": 5
  },
  {
   "metadata": {},
   "cell_type": "markdown",
   "source": "## On obtient l'expression sous forme de QUBO, ensuit on peut la transferer sous forme de modèle d'Ising"
  },
  {
   "metadata": {
    "ExecuteTime": {
     "end_time": "2025-06-30T10:43:27.362095Z",
     "start_time": "2025-06-30T10:43:27.263671Z"
    }
   },
   "cell_type": "code",
   "source": [
    "expr_ising = transfers_qubo2Ising(reduct_demension_expr)\n",
    "expr_ising"
   ],
   "outputs": [
    {
     "data": {
      "text/plain": [
       "25*k1*k2 - 5*k1*u1 - 10*k1*u2 - 10*k1*u3 + 5*k1/2 - 10*k2*u1 - 20*k2*u2 - 20*k2*u3 + 5*k2 + 4*u1*u2 + 4*u1*u3 - u1 + 8*u2*u3 - 2*u2 - 2*u3 + 81/2"
      ],
      "text/latex": "$\\displaystyle 25 k_{1} k_{2} - 5 k_{1} u_{1} - 10 k_{1} u_{2} - 10 k_{1} u_{3} + \\frac{5 k_{1}}{2} - 10 k_{2} u_{1} - 20 k_{2} u_{2} - 20 k_{2} u_{3} + 5 k_{2} + 4 u_{1} u_{2} + 4 u_{1} u_{3} - u_{1} + 8 u_{2} u_{3} - 2 u_{2} - 2 u_{3} + \\frac{81}{2}$"
     },
     "execution_count": 6,
     "metadata": {},
     "output_type": "execute_result"
    }
   ],
   "execution_count": 6
  },
  {
   "metadata": {},
   "cell_type": "markdown",
   "source": "# Find solution avec dimon bibilothèque"
  },
  {
   "metadata": {
    "ExecuteTime": {
     "end_time": "2025-06-30T10:43:27.594865Z",
     "start_time": "2025-06-30T10:43:27.575567Z"
    }
   },
   "cell_type": "code",
   "source": [
    "solution = get_solution(expr_ising)\n",
    "solution"
   ],
   "outputs": [
    {
     "data": {
      "text/plain": [
       "{'k2': np.int8(1),\n",
       " 'u2': np.int8(1),\n",
       " 'u3': np.int8(1),\n",
       " 'k1': np.int8(-1),\n",
       " 'u1': np.int8(-1)}"
      ]
     },
     "execution_count": 7,
     "metadata": {},
     "output_type": "execute_result"
    }
   ],
   "execution_count": 7
  },
  {
   "cell_type": "code",
   "metadata": {
    "ExecuteTime": {
     "end_time": "2025-06-30T10:43:27.980918Z",
     "start_time": "2025-06-30T10:43:27.965984Z"
    }
   },
   "source": [
    "def calcule_x(solution,x,k):\n",
    "    dic_varialbe_value = {}\n",
    "    for var in variables:\n",
    "        if(solution[var.name] == np.int8(1)):\n",
    "            dic_varialbe_value[var] = int(1)\n",
    "        else:\n",
    "            dic_varialbe_value[var] = int(0)\n",
    "    x_value = x.subs(dic_varialbe_value)\n",
    "    k_value = k.subs(dic_varialbe_value)\n",
    "    \n",
    "    return (x_value.evalf(),k_value.evalf())\n",
    "\n",
    "\n",
    "def factorization(a, b, p):\n",
    "    global variables, dictionaire_auxiliary_variable, res,x,k\n",
    "    variables = []\n",
    "    dictionaire_auxiliary_variable = {}\n",
    "    res = 1\n",
    "    x= sp.Add()\n",
    "    k= sp.Add()\n",
    "\n",
    "\n",
    "    reduct_demension_expr = get_reduct_expression(a,b,p)\n",
    "    expr_ising = transfers_qubo2Ising(reduct_demension_expr)\n",
    "    solution = get_solution(expr_ising)\n",
    "    (x_val,k_val) = calcule_x(solution,x,k)\n",
    "    x_int = int(x_val)\n",
    "    k_int = int(k_val)\n",
    "    print(f\" k: {k_int}\")\n",
    "    print(f\"The solution of {a} * x = {b} mod {p} is : x = {x_int}.\")"
   ],
   "outputs": [],
   "execution_count": 8
  },
  {
   "metadata": {
    "ExecuteTime": {
     "end_time": "2025-06-30T10:43:28.038571Z",
     "start_time": "2025-06-30T10:43:28.014364Z"
    }
   },
   "cell_type": "code",
   "source": [
    "a=2\n",
    "b=3\n",
    "p=5\n",
    "factorization(a, b, p)"
   ],
   "outputs": [
    {
     "name": "stdout",
     "output_type": "stream",
     "text": [
      " define_function : 25*k1**2 + 100*k1*k2 - 20*k1*u1 - 40*k1*u2 - 40*k1*u3 - 20*k1 + 100*k2**2 - 40*k2*u1 - 80*k2*u2 - 80*k2*u3 - 40*k2 + 4*u1**2 + 16*u1*u2 + 16*u1*u3 + 8*u1 + 16*u2**2 + 32*u2*u3 + 16*u2 + 16*u3**2 + 16*u3 + 4\n",
      " k: 2\n",
      "The solution of 2 * x = 3 mod 5 is : x = 4.\n"
     ]
    }
   ],
   "execution_count": 9
  },
  {
   "metadata": {
    "ExecuteTime": {
     "end_time": "2025-06-30T10:43:28.200819Z",
     "start_time": "2025-06-30T10:43:28.133097Z"
    }
   },
   "cell_type": "code",
   "source": [
    "a=5\n",
    "b=5\n",
    "p=7\n",
    "factorization(a, b, p)"
   ],
   "outputs": [
    {
     "name": "stdout",
     "output_type": "stream",
     "text": [
      " define_function : 49*k1**2 + 196*k1*k2 - 70*k1*u1 - 140*k1*u2 - 280*k1*u3 - 28*k1 + 196*k2**2 - 140*k2*u1 - 280*k2*u2 - 560*k2*u3 - 56*k2 + 25*u1**2 + 100*u1*u2 + 200*u1*u3 + 20*u1 + 100*u2**2 + 400*u2*u3 + 40*u2 + 400*u3**2 + 80*u3 + 4\n",
      " k: 1\n",
      "The solution of 5 * x = 5 mod 7 is : x = 1.\n"
     ]
    }
   ],
   "execution_count": 10
  },
  {
   "metadata": {},
   "cell_type": "markdown",
   "source": "# Dans le groupe multiplicative $( \\mathbb{Z}_p, \\cdot )$"
  },
  {
   "metadata": {},
   "cell_type": "markdown",
   "source": [
    "## Brutal approach\n",
    "On define le DLP comme ceci:\n",
    "    $g^y = h $\n",
    "\n",
    "Ensuite, dans $\\mathbb{F}_p, g,h \\in \\{1, \\cdots , p-1\\}, y \\in \\{1, \\cdots, \\text{Ord}(g)\\}$\n",
    "\n",
    "\n",
    "$g^y \\equiv h \\pmod{p}$\n"
   ]
  },
  {
   "metadata": {},
   "cell_type": "markdown",
   "source": [
    "#### Defint y:\n",
    "set $m$ est le nombre de bits de $y$ = bitlength of ord(g).\n",
    "\n",
    "$y$ peux être définit comme ceci:\n",
    "    $ y = 2^{m - 1} u_m + \\cdots + 2u_2 + u_1$\n",
    "\n",
    "union de equation 6 et 8, on obtient equation 13"
   ]
  },
  {
   "metadata": {},
   "cell_type": "markdown",
   "source": [
    "## Fonctions basiques:\n",
    "1. calculer ord(g) dans p\n",
    "2. définir valeur unconnu en l'expression composé des variables binaires"
   ]
  },
  {
   "metadata": {
    "ExecuteTime": {
     "end_time": "2025-06-30T10:43:28.309153Z",
     "start_time": "2025-06-30T10:43:28.298284Z"
    }
   },
   "cell_type": "code",
   "source": [
    "def calculate_order(g, p):\n",
    "    # ord(g): le min k qui satisfait g^k = 1 mod p\n",
    "    if g <= 0 or g >= p:\n",
    "        print(f\"error：g should in { 1, p-1} \")\n",
    "        return None\n",
    "\n",
    "    order = 1\n",
    "    current = g % p\n",
    "\n",
    "    while current != 1:\n",
    "        # g^(order+1) mod p\n",
    "        current = (current * g) % p\n",
    "        order += 1\n",
    "\n",
    "        if order > p-1:\n",
    "            print(f\"error：p is not prime or g and p are not prime\")\n",
    "            return None\n",
    "    return order\n",
    "\n",
    "def set_variable_expression(n,prefix):  # n is the length of variable and the prefix of each binary variable\n",
    "    expr_var = 0\n",
    "    # de u1 à un\n",
    "    for i in range(1,n+1):\n",
    "        var_name = (prefix + str(i))\n",
    "        var = create_variables(var_name)\n",
    "        expr_var = 2**(i-1) * var + expr_var\n",
    "    return expr_var"
   ],
   "outputs": [],
   "execution_count": 11
  },
  {
   "metadata": {},
   "cell_type": "markdown",
   "source": [
    "\n",
    "# $g^y$\n",
    "## Definir $g^y$ en forme de equation 6:\n",
    "\n",
    "$g^y = g^{2^{m-1} \\cdot u_m+\\cdots+2u_2+u_1}  = g^{2^{m-1}} \\cdots g^{2u_2}g^{u_1}$"
   ]
  },
  {
   "metadata": {
    "ExecuteTime": {
     "end_time": "2025-06-30T10:43:28.383062Z",
     "start_time": "2025-06-30T10:43:28.376747Z"
    }
   },
   "cell_type": "code",
   "source": [
    "def create_g_power_expression(expr_y,g):\n",
    "    \"\"\"\n",
    "    g^y = g^(2^0*u₁ + 2^1*u₂+ ... + 2^(n-1)*uₙ)\n",
    "    \"\"\"\n",
    "\n",
    "    g_power_y = g ** expr_y\n",
    "\n",
    "    return g_power_y\n",
    "\n",
    "def decompose_g_power(g_power_expr):\n",
    "    \"\"\"\n",
    "    g^y = g^(2^0*u₁) * g^(2^1*u₂) * ... * g^(2^(n-1)*uₙ)\n",
    "    \"\"\"\n",
    "    exponent = g_power_expr.as_base_exp()[1]\n",
    "    base = g_power_expr.as_base_exp()[0]\n",
    "    decomposed_expr = 1\n",
    "\n",
    "    for term in exponent.args:\n",
    "        decomposed_expr = decomposed_expr * base ** term\n",
    "    return decomposed_expr"
   ],
   "outputs": [],
   "execution_count": 12
  },
  {
   "metadata": {
    "ExecuteTime": {
     "end_time": "2025-06-30T10:43:28.479541Z",
     "start_time": "2025-06-30T10:43:28.468278Z"
    }
   },
   "cell_type": "code",
   "source": [
    "g=2\n",
    "h=3\n",
    "p=5\n",
    "\n",
    "ord = calculate_order(g,p)\n",
    "n = math.ceil(math.log2(ord))+1\n",
    "\n",
    "expr_y = set_variable_expression(n,'u')\n",
    "g_power_y = create_g_power_expression(expr_y,g)\n",
    "print(f\"expression of g^y : {g_power_y}\")\n",
    "\n",
    "decomposed_expr = decompose_g_power(g_power_y)\n",
    "print(f\"expression of decomposed g^y : {decomposed_expr}\")"
   ],
   "outputs": [
    {
     "name": "stdout",
     "output_type": "stream",
     "text": [
      "expression of g^y : 2**(u1 + 2*u2 + 4*u3)\n",
      "expression of decomposed g^y : 2**u1*2**(2*u2)*2**(4*u3)\n"
     ]
    }
   ],
   "execution_count": 13
  },
  {
   "metadata": {},
   "cell_type": "markdown",
   "source": [
    "## Transforme en utilisant l'équation 8 de l'equation 6\n",
    "transfert formule : $g^{2^{i-1} \\cdot u_i} = 1+u_i(g^{2^{i-1}}-1)$\n",
    "\n",
    "$g^y =(1 + u_m(g^{2^{m−1}}− 1))  \\cdots (1 + u_2 (g^2 − 1)) \\dot (1 + u_1 (g − 1))$\n"
   ]
  },
  {
   "metadata": {
    "ExecuteTime": {
     "end_time": "2025-06-30T10:43:28.725208Z",
     "start_time": "2025-06-30T10:43:28.714528Z"
    }
   },
   "cell_type": "code",
   "source": [
    "def transform_using_formula(decomposed_expr,p):\n",
    "    \"\"\"\n",
    "    g^(2^(i-1) * u_i) = 1 + u_i * (g^(2^(i-1)) - 1 % p)\n",
    "    \"\"\"\n",
    "    terms = []\n",
    "    for element in decomposed_expr.args:\n",
    "        ele = element.exp\n",
    "\n",
    "        if ele.is_symbol:\n",
    "            #u_1\n",
    "            transformed_element = 1 + ele * (element.base - 1)\n",
    "            terms.append(transformed_element)\n",
    "        elif ele.is_Mul:\n",
    "            [coeff, u_var] = ele.args\n",
    "            #val = pow(int(element.base), int(coeff), int(p))\n",
    "            #transformed_element = 1 + u_var * (val - 1)\n",
    "            transformed_element = 1 + u_var * (element.base**(coeff) - 1)\n",
    "            terms.append(transformed_element)\n",
    "    return sp.Mul(*terms)"
   ],
   "outputs": [],
   "execution_count": 14
  },
  {
   "metadata": {
    "ExecuteTime": {
     "end_time": "2025-06-30T10:43:28.847286Z",
     "start_time": "2025-06-30T10:43:28.820384Z"
    }
   },
   "cell_type": "code",
   "source": [
    "transformed_expr = transform_using_formula(decomposed_expr,p)\n",
    "print(f\"expression of transformed g^y: {transformed_expr}\")\n",
    "\n",
    "sp.expand(transformed_expr)"
   ],
   "outputs": [
    {
     "name": "stdout",
     "output_type": "stream",
     "text": [
      "expression of transformed g^y: (u1 + 1)*(3*u2 + 1)*(15*u3 + 1)\n"
     ]
    },
    {
     "data": {
      "text/plain": [
       "45*u1*u2*u3 + 3*u1*u2 + 15*u1*u3 + u1 + 45*u2*u3 + 3*u2 + 15*u3 + 1"
      ],
      "text/latex": "$\\displaystyle 45 u_{1} u_{2} u_{3} + 3 u_{1} u_{2} + 15 u_{1} u_{3} + u_{1} + 45 u_{2} u_{3} + 3 u_{2} + 15 u_{3} + 1$"
     },
     "execution_count": 15,
     "metadata": {},
     "output_type": "execute_result"
    }
   ],
   "execution_count": 15
  },
  {
   "metadata": {},
   "cell_type": "markdown",
   "source": [
    "## f : linear form of $g^y$\n",
    "\n",
    "$f = 1 + u_1(g − 1) + u_2(g^2 − 1) + u_1u_2(g − 1) (g^2 − 1)$\n",
    "\n",
    "En ajoutant nouveau variables v_i:\n",
    "\n",
    "$f = 1 + u_1(g − 1) + u_2(g^2 − 1) + v_1(g − 1) (g^2 − 1)$ avec $v_1 = u_1 * u_2$"
   ]
  },
  {
   "metadata": {
    "ExecuteTime": {
     "end_time": "2025-06-30T10:43:28.955273Z",
     "start_time": "2025-06-30T10:43:28.944249Z"
    }
   },
   "cell_type": "code",
   "source": [
    "def linaire_form_expr(transformed_expr):\n",
    "    expr = sp.expand(transformed_expr)\n",
    "    i = 1\n",
    "    new_expr = expr\n",
    "    changed = True\n",
    "\n",
    "    while changed:\n",
    "        changed = False\n",
    "        for element in new_expr.args:\n",
    "            if len(element.free_symbols) == 2:\n",
    "                vars_list = list(element.free_symbols)\n",
    "                new_var = create_variables(\"v\"+str(i))\n",
    "                product = sp.Mul(vars_list[0], vars_list[1])\n",
    "                dictionaire_auxiliary_variable[new_var.name] = product\n",
    "                new_expr = new_expr.subs(product, new_var)\n",
    "                i += 1\n",
    "                changed = True\n",
    "    return new_expr"
   ],
   "outputs": [],
   "execution_count": 16
  },
  {
   "metadata": {
    "ExecuteTime": {
     "end_time": "2025-06-30T10:43:29.165049Z",
     "start_time": "2025-06-30T10:43:29.136002Z"
    }
   },
   "cell_type": "code",
   "source": [
    "linaire_expr=linaire_form_expr(transformed_expr)\n",
    "linaire_expr"
   ],
   "outputs": [
    {
     "data": {
      "text/plain": [
       "u1 + 3*u2 + 15*u3 + 3*v1 + 15*v2 + 45*v3 + 45*v4 + 1"
      ],
      "text/latex": "$\\displaystyle u_{1} + 3 u_{2} + 15 u_{3} + 3 v_{1} + 15 v_{2} + 45 v_{3} + 45 v_{4} + 1$"
     },
     "execution_count": 17,
     "metadata": {},
     "output_type": "execute_result"
    }
   ],
   "execution_count": 17
  },
  {
   "metadata": {},
   "cell_type": "markdown",
   "source": [
    "## Définir la fonction objective\n",
    "$ (( f-h ) - (k \\cdot p))^2 = 0 $"
   ]
  },
  {
   "metadata": {
    "ExecuteTime": {
     "end_time": "2025-06-30T10:43:29.321216Z",
     "start_time": "2025-06-30T10:43:29.309168Z"
    }
   },
   "cell_type": "code",
   "source": [
    "expr_k = set_variable_expression(n,'k')\n",
    "expr_k"
   ],
   "outputs": [
    {
     "data": {
      "text/plain": [
       "k1 + 2*k2 + 4*k3"
      ],
      "text/latex": "$\\displaystyle k_{1} + 2 k_{2} + 4 k_{3}$"
     },
     "execution_count": 18,
     "metadata": {},
     "output_type": "execute_result"
    }
   ],
   "execution_count": 18
  },
  {
   "metadata": {
    "ExecuteTime": {
     "end_time": "2025-06-30T10:43:29.589659Z",
     "start_time": "2025-06-30T10:43:29.480054Z"
    }
   },
   "cell_type": "code",
   "source": [
    "expr = linaire_expr - h\n",
    "expr = expr - (expr_k * p)\n",
    "expr = (expr)**2\n",
    "expr = sp.expand(expr)\n",
    "expr"
   ],
   "outputs": [
    {
     "data": {
      "text/plain": [
       "25*k1**2 + 100*k1*k2 + 200*k1*k3 - 10*k1*u1 - 30*k1*u2 - 150*k1*u3 - 30*k1*v1 - 150*k1*v2 - 450*k1*v3 - 450*k1*v4 + 20*k1 + 100*k2**2 + 400*k2*k3 - 20*k2*u1 - 60*k2*u2 - 300*k2*u3 - 60*k2*v1 - 300*k2*v2 - 900*k2*v3 - 900*k2*v4 + 40*k2 + 400*k3**2 - 40*k3*u1 - 120*k3*u2 - 600*k3*u3 - 120*k3*v1 - 600*k3*v2 - 1800*k3*v3 - 1800*k3*v4 + 80*k3 + u1**2 + 6*u1*u2 + 30*u1*u3 + 6*u1*v1 + 30*u1*v2 + 90*u1*v3 + 90*u1*v4 - 4*u1 + 9*u2**2 + 90*u2*u3 + 18*u2*v1 + 90*u2*v2 + 270*u2*v3 + 270*u2*v4 - 12*u2 + 225*u3**2 + 90*u3*v1 + 450*u3*v2 + 1350*u3*v3 + 1350*u3*v4 - 60*u3 + 9*v1**2 + 90*v1*v2 + 270*v1*v3 + 270*v1*v4 - 12*v1 + 225*v2**2 + 1350*v2*v3 + 1350*v2*v4 - 60*v2 + 2025*v3**2 + 4050*v3*v4 - 180*v3 + 2025*v4**2 - 180*v4 + 4"
      ],
      "text/latex": "$\\displaystyle 25 k_{1}^{2} + 100 k_{1} k_{2} + 200 k_{1} k_{3} - 10 k_{1} u_{1} - 30 k_{1} u_{2} - 150 k_{1} u_{3} - 30 k_{1} v_{1} - 150 k_{1} v_{2} - 450 k_{1} v_{3} - 450 k_{1} v_{4} + 20 k_{1} + 100 k_{2}^{2} + 400 k_{2} k_{3} - 20 k_{2} u_{1} - 60 k_{2} u_{2} - 300 k_{2} u_{3} - 60 k_{2} v_{1} - 300 k_{2} v_{2} - 900 k_{2} v_{3} - 900 k_{2} v_{4} + 40 k_{2} + 400 k_{3}^{2} - 40 k_{3} u_{1} - 120 k_{3} u_{2} - 600 k_{3} u_{3} - 120 k_{3} v_{1} - 600 k_{3} v_{2} - 1800 k_{3} v_{3} - 1800 k_{3} v_{4} + 80 k_{3} + u_{1}^{2} + 6 u_{1} u_{2} + 30 u_{1} u_{3} + 6 u_{1} v_{1} + 30 u_{1} v_{2} + 90 u_{1} v_{3} + 90 u_{1} v_{4} - 4 u_{1} + 9 u_{2}^{2} + 90 u_{2} u_{3} + 18 u_{2} v_{1} + 90 u_{2} v_{2} + 270 u_{2} v_{3} + 270 u_{2} v_{4} - 12 u_{2} + 225 u_{3}^{2} + 90 u_{3} v_{1} + 450 u_{3} v_{2} + 1350 u_{3} v_{3} + 1350 u_{3} v_{4} - 60 u_{3} + 9 v_{1}^{2} + 90 v_{1} v_{2} + 270 v_{1} v_{3} + 270 v_{1} v_{4} - 12 v_{1} + 225 v_{2}^{2} + 1350 v_{2} v_{3} + 1350 v_{2} v_{4} - 60 v_{2} + 2025 v_{3}^{2} + 4050 v_{3} v_{4} - 180 v_{3} + 2025 v_{4}^{2} - 180 v_{4} + 4$"
     },
     "execution_count": 19,
     "metadata": {},
     "output_type": "execute_result"
    }
   ],
   "execution_count": 19
  },
  {
   "metadata": {
    "ExecuteTime": {
     "end_time": "2025-06-30T10:43:29.821299Z",
     "start_time": "2025-06-30T10:43:29.807507Z"
    }
   },
   "cell_type": "code",
   "source": [
    "def define_function(g, h, p):\n",
    "    # set variables for\n",
    "    ord = calculate_order(g,p)\n",
    "    if ord :\n",
    "        n = math.ceil(math.log2(ord))+1\n",
    "    else:\n",
    "        print(f\"ord({g}) is none \")\n",
    "        return None\n",
    "\n",
    "    global expr_y\n",
    "    expr_y = set_variable_expression(n,'u')\n",
    "\n",
    "    # g^y = transformed_expr\n",
    "    g_power_expr = create_g_power_expression(expr_y,g)\n",
    "    decomposed_expr = decompose_g_power(g_power_expr)\n",
    "    transformed_expr = transform_using_formula(decomposed_expr,p)\n",
    "    linaire_expr = linaire_form_expr(transformed_expr)\n",
    "    print(f\"linaire_expr : {linaire_expr}\")\n",
    "\n",
    "    #set variables for k\n",
    "    global expr_k\n",
    "    expr_k = set_variable_expression(n,'k')\n",
    "\n",
    "    expr = linaire_expr - h\n",
    "    expr = expr - (expr_k * p)\n",
    "    expr = (expr)**2\n",
    "    expr = sp.expand(expr)\n",
    "    return expr"
   ],
   "outputs": [],
   "execution_count": 20
  },
  {
   "metadata": {
    "ExecuteTime": {
     "end_time": "2025-06-30T10:43:30.138292Z",
     "start_time": "2025-06-30T10:43:29.947883Z"
    }
   },
   "cell_type": "code",
   "source": [
    "# reduction\n",
    "expr_reduct_power = reduct_variable_power_function(expr)\n",
    "expr_reduct_power"
   ],
   "outputs": [
    {
     "data": {
      "text/plain": [
       "100*k1*k2 + 200*k1*k3 - 10*k1*u1 - 30*k1*u2 - 150*k1*u3 - 30*k1*v1 - 150*k1*v2 - 450*k1*v3 - 450*k1*v4 + 45*k1 + 400*k2*k3 - 20*k2*u1 - 60*k2*u2 - 300*k2*u3 - 60*k2*v1 - 300*k2*v2 - 900*k2*v3 - 900*k2*v4 + 140*k2 - 40*k3*u1 - 120*k3*u2 - 600*k3*u3 - 120*k3*v1 - 600*k3*v2 - 1800*k3*v3 - 1800*k3*v4 + 480*k3 + 6*u1*u2 + 30*u1*u3 + 6*u1*v1 + 30*u1*v2 + 90*u1*v3 + 90*u1*v4 - 3*u1 + 90*u2*u3 + 18*u2*v1 + 90*u2*v2 + 270*u2*v3 + 270*u2*v4 - 3*u2 + 90*u3*v1 + 450*u3*v2 + 1350*u3*v3 + 1350*u3*v4 + 165*u3 + 90*v1*v2 + 270*v1*v3 + 270*v1*v4 - 3*v1 + 1350*v2*v3 + 1350*v2*v4 + 165*v2 + 4050*v3*v4 + 1845*v3 + 1845*v4 + 4"
      ],
      "text/latex": "$\\displaystyle 100 k_{1} k_{2} + 200 k_{1} k_{3} - 10 k_{1} u_{1} - 30 k_{1} u_{2} - 150 k_{1} u_{3} - 30 k_{1} v_{1} - 150 k_{1} v_{2} - 450 k_{1} v_{3} - 450 k_{1} v_{4} + 45 k_{1} + 400 k_{2} k_{3} - 20 k_{2} u_{1} - 60 k_{2} u_{2} - 300 k_{2} u_{3} - 60 k_{2} v_{1} - 300 k_{2} v_{2} - 900 k_{2} v_{3} - 900 k_{2} v_{4} + 140 k_{2} - 40 k_{3} u_{1} - 120 k_{3} u_{2} - 600 k_{3} u_{3} - 120 k_{3} v_{1} - 600 k_{3} v_{2} - 1800 k_{3} v_{3} - 1800 k_{3} v_{4} + 480 k_{3} + 6 u_{1} u_{2} + 30 u_{1} u_{3} + 6 u_{1} v_{1} + 30 u_{1} v_{2} + 90 u_{1} v_{3} + 90 u_{1} v_{4} - 3 u_{1} + 90 u_{2} u_{3} + 18 u_{2} v_{1} + 90 u_{2} v_{2} + 270 u_{2} v_{3} + 270 u_{2} v_{4} - 3 u_{2} + 90 u_{3} v_{1} + 450 u_{3} v_{2} + 1350 u_{3} v_{3} + 1350 u_{3} v_{4} + 165 u_{3} + 90 v_{1} v_{2} + 270 v_{1} v_{3} + 270 v_{1} v_{4} - 3 v_{1} + 1350 v_{2} v_{3} + 1350 v_{2} v_{4} + 165 v_{2} + 4050 v_{3} v_{4} + 1845 v_{3} + 1845 v_{4} + 4$"
     },
     "execution_count": 21,
     "metadata": {},
     "output_type": "execute_result"
    }
   ],
   "execution_count": 21
  },
  {
   "metadata": {
    "ExecuteTime": {
     "end_time": "2025-06-30T10:43:30.324719Z",
     "start_time": "2025-06-30T10:43:30.254899Z"
    }
   },
   "cell_type": "code",
   "source": [
    "reduct_demension_expr = reduct_demension_expression(expr_reduct_power)\n",
    "reduct_demension_expr"
   ],
   "outputs": [
    {
     "data": {
      "text/plain": [
       "100*k1*k2 + 200*k1*k3 - 10*k1*u1 - 30*k1*u2 - 150*k1*u3 - 30*k1*v1 - 150*k1*v2 - 450*k1*v3 - 450*k1*v4 + 45*k1 + 400*k2*k3 - 20*k2*u1 - 60*k2*u2 - 300*k2*u3 - 60*k2*v1 - 300*k2*v2 - 900*k2*v3 - 900*k2*v4 + 140*k2 - 40*k3*u1 - 120*k3*u2 - 600*k3*u3 - 120*k3*v1 - 600*k3*v2 - 1800*k3*v3 - 1800*k3*v4 + 480*k3 + 6*u1*u2 + 30*u1*u3 + 6*u1*v1 + 30*u1*v2 + 90*u1*v3 + 90*u1*v4 - 3*u1 + 90*u2*u3 + 18*u2*v1 + 90*u2*v2 + 270*u2*v3 + 270*u2*v4 - 3*u2 + 90*u3*v1 + 450*u3*v2 + 1350*u3*v3 + 1350*u3*v4 + 165*u3 + 90*v1*v2 + 270*v1*v3 + 270*v1*v4 - 3*v1 + 1350*v2*v3 + 1350*v2*v4 + 165*v2 + 4050*v3*v4 + 1845*v3 + 1845*v4 + 4"
      ],
      "text/latex": "$\\displaystyle 100 k_{1} k_{2} + 200 k_{1} k_{3} - 10 k_{1} u_{1} - 30 k_{1} u_{2} - 150 k_{1} u_{3} - 30 k_{1} v_{1} - 150 k_{1} v_{2} - 450 k_{1} v_{3} - 450 k_{1} v_{4} + 45 k_{1} + 400 k_{2} k_{3} - 20 k_{2} u_{1} - 60 k_{2} u_{2} - 300 k_{2} u_{3} - 60 k_{2} v_{1} - 300 k_{2} v_{2} - 900 k_{2} v_{3} - 900 k_{2} v_{4} + 140 k_{2} - 40 k_{3} u_{1} - 120 k_{3} u_{2} - 600 k_{3} u_{3} - 120 k_{3} v_{1} - 600 k_{3} v_{2} - 1800 k_{3} v_{3} - 1800 k_{3} v_{4} + 480 k_{3} + 6 u_{1} u_{2} + 30 u_{1} u_{3} + 6 u_{1} v_{1} + 30 u_{1} v_{2} + 90 u_{1} v_{3} + 90 u_{1} v_{4} - 3 u_{1} + 90 u_{2} u_{3} + 18 u_{2} v_{1} + 90 u_{2} v_{2} + 270 u_{2} v_{3} + 270 u_{2} v_{4} - 3 u_{2} + 90 u_{3} v_{1} + 450 u_{3} v_{2} + 1350 u_{3} v_{3} + 1350 u_{3} v_{4} + 165 u_{3} + 90 v_{1} v_{2} + 270 v_{1} v_{3} + 270 v_{1} v_{4} - 3 v_{1} + 1350 v_{2} v_{3} + 1350 v_{2} v_{4} + 165 v_{2} + 4050 v_{3} v_{4} + 1845 v_{3} + 1845 v_{4} + 4$"
     },
     "execution_count": 22,
     "metadata": {},
     "output_type": "execute_result"
    }
   ],
   "execution_count": 22
  },
  {
   "metadata": {
    "ExecuteTime": {
     "end_time": "2025-06-30T10:43:30.511685Z",
     "start_time": "2025-06-30T10:43:30.493291Z"
    }
   },
   "cell_type": "code",
   "source": "expr_reduct_power == reduct_demension_expr",
   "outputs": [
    {
     "data": {
      "text/plain": [
       "True"
      ]
     },
     "execution_count": 23,
     "metadata": {},
     "output_type": "execute_result"
    }
   ],
   "execution_count": 23
  },
  {
   "metadata": {
    "ExecuteTime": {
     "end_time": "2025-06-30T10:43:30.974599Z",
     "start_time": "2025-06-30T10:43:30.690293Z"
    }
   },
   "cell_type": "code",
   "source": [
    "expr_ising = transfers_qubo2Ising(reduct_demension_expr)\n",
    "solution = get_solution(expr_ising)\n",
    "solution"
   ],
   "outputs": [
    {
     "data": {
      "text/plain": [
       "{'k3': np.int8(-1),\n",
       " 'v3': np.int8(-1),\n",
       " 'v4': np.int8(-1),\n",
       " 'k2': np.int8(-1),\n",
       " 'u3': np.int8(-1),\n",
       " 'v2': np.int8(-1),\n",
       " 'u2': np.int8(1),\n",
       " 'v1': np.int8(1),\n",
       " 'u1': np.int8(1),\n",
       " 'k1': np.int8(1)}"
      ]
     },
     "execution_count": 24,
     "metadata": {},
     "output_type": "execute_result"
    }
   ],
   "execution_count": 24
  },
  {
   "metadata": {},
   "cell_type": "markdown",
   "source": "# test"
  },
  {
   "metadata": {
    "ExecuteTime": {
     "end_time": "2025-06-30T10:43:31.097063Z",
     "start_time": "2025-06-30T10:43:31.089139Z"
    }
   },
   "cell_type": "code",
   "source": [
    "def calcule_y(solution,expr_y,expr_k):\n",
    "    dic_varialbe_value = {}\n",
    "\n",
    "    for var in variables:\n",
    "        valeur_ising = solution.get(var.name, np.int8(-1))\n",
    "\n",
    "        if(valeur_ising == np.int8(1)):\n",
    "            dic_varialbe_value[var] = int(1)\n",
    "        else:\n",
    "            dic_varialbe_value[var] = int(0)\n",
    "\n",
    "    y_value = expr_y.subs(dic_varialbe_value)\n",
    "    k_value = expr_k.subs(dic_varialbe_value)\n",
    "\n",
    "    return (y_value.evalf(),k_value.evalf())"
   ],
   "outputs": [],
   "execution_count": 25
  },
  {
   "metadata": {
    "ExecuteTime": {
     "end_time": "2025-06-30T10:43:31.181675Z",
     "start_time": "2025-06-30T10:43:31.167185Z"
    }
   },
   "cell_type": "code",
   "source": "calcule_y(solution,expr_y,expr_k)",
   "outputs": [
    {
     "data": {
      "text/plain": [
       "(3.00000000000000, 1.00000000000000)"
      ]
     },
     "execution_count": 26,
     "metadata": {},
     "output_type": "execute_result"
    }
   ],
   "execution_count": 26
  },
  {
   "metadata": {},
   "cell_type": "markdown",
   "source": "## sum up fonction"
  },
  {
   "metadata": {
    "ExecuteTime": {
     "end_time": "2025-06-30T10:43:31.355101Z",
     "start_time": "2025-06-30T10:43:31.343953Z"
    }
   },
   "cell_type": "code",
   "source": [
    "def factorization(g,h,p):\n",
    "    global variables, dictionaire_auxiliary_variable, res,expr_y,expr_k\n",
    "    variables=[]\n",
    "    dictionaire_auxiliary_variable={}\n",
    "    res=1\n",
    "    expr_y=sp.Add()\n",
    "    expr_k=sp.Add()\n",
    "\n",
    "    reduct_demension_expr = get_reduct_expression(g,h,p)\n",
    "    expr_ising = transfers_qubo2Ising(reduct_demension_expr)\n",
    "    solution = get_solution(expr_ising)\n",
    "    print(solution)\n",
    "    (y_val,k_val) = calcule_y(solution,expr_y,expr_k)\n",
    "    y_int = int(y_val)\n",
    "    k_int = int(k_val)\n",
    "    print(f\" k: {k_int}\")\n",
    "    print(f\"The solution of {g} ^ y = {h} mod {p} is : y = {y_int}.\")"
   ],
   "outputs": [],
   "execution_count": 27
  },
  {
   "metadata": {
    "ExecuteTime": {
     "end_time": "2025-06-30T10:44:04.358933Z",
     "start_time": "2025-06-30T10:44:04.286026Z"
    }
   },
   "cell_type": "code",
   "source": [
    "g = 2\n",
    "h = 3\n",
    "p = 5\n",
    "factorization(g,h,p)"
   ],
   "outputs": [
    {
     "name": "stdout",
     "output_type": "stream",
     "text": [
      "linaire_expr : u1 + 3*u2 + 15*u3 + 3*v1 + 15*v2 + 45*v3 + 45*v4 + 1\n",
      " define_function : 25*k1**2 + 100*k1*k2 + 200*k1*k3 - 10*k1*u1 - 30*k1*u2 - 150*k1*u3 - 30*k1*v1 - 150*k1*v2 - 450*k1*v3 - 450*k1*v4 + 20*k1 + 100*k2**2 + 400*k2*k3 - 20*k2*u1 - 60*k2*u2 - 300*k2*u3 - 60*k2*v1 - 300*k2*v2 - 900*k2*v3 - 900*k2*v4 + 40*k2 + 400*k3**2 - 40*k3*u1 - 120*k3*u2 - 600*k3*u3 - 120*k3*v1 - 600*k3*v2 - 1800*k3*v3 - 1800*k3*v4 + 80*k3 + u1**2 + 6*u1*u2 + 30*u1*u3 + 6*u1*v1 + 30*u1*v2 + 90*u1*v3 + 90*u1*v4 - 4*u1 + 9*u2**2 + 90*u2*u3 + 18*u2*v1 + 90*u2*v2 + 270*u2*v3 + 270*u2*v4 - 12*u2 + 225*u3**2 + 90*u3*v1 + 450*u3*v2 + 1350*u3*v3 + 1350*u3*v4 - 60*u3 + 9*v1**2 + 90*v1*v2 + 270*v1*v3 + 270*v1*v4 - 12*v1 + 225*v2**2 + 1350*v2*v3 + 1350*v2*v4 - 60*v2 + 2025*v3**2 + 4050*v3*v4 - 180*v3 + 2025*v4**2 - 180*v4 + 4\n",
      "{'k3': np.int8(1), 'v3': np.int8(-1), 'v4': np.int8(-1), 'k2': np.int8(-1), 'u3': np.int8(-1), 'v2': np.int8(1), 'u2': np.int8(1), 'v1': np.int8(1), 'u1': np.int8(1), 'k1': np.int8(-1)}\n",
      " k: 4\n",
      "The solution of 2 ^ y = 3 mod 5 is : y = 3.\n"
     ]
    }
   ],
   "execution_count": 35
  },
  {
   "metadata": {
    "ExecuteTime": {
     "end_time": "2025-06-30T10:43:34.627164Z",
     "start_time": "2025-06-30T10:43:31.809354Z"
    }
   },
   "cell_type": "code",
   "source": [
    "g = 5\n",
    "h = 4\n",
    "p = 7\n",
    "factorization(g,h,p)"
   ],
   "outputs": [
    {
     "name": "stdout",
     "output_type": "stream",
     "text": [
      "linaire_expr : 4*u1 + 24*u2 + 624*u3 + 390624*u4 + 96*v1 + 5849985024*v10 + 23399940096*v11 + 2496*v2 + 14976*v3 + 1562496*v4 + 9374976*v5 + 243749376*v6 + 59904*v7 + 37499904*v8 + 974997504*v9 + 1\n",
      " define_function : 49*k1**2 + 196*k1*k2 + 392*k1*k3 + 784*k1*k4 - 56*k1*u1 - 336*k1*u2 - 8736*k1*u3 - 5468736*k1*u4 - 1344*k1*v1 - 81899790336*k1*v10 - 327599161344*k1*v11 - 34944*k1*v2 - 209664*k1*v3 - 21874944*k1*v4 - 131249664*k1*v5 - 3412491264*k1*v6 - 838656*k1*v7 - 524998656*k1*v8 - 13649965056*k1*v9 + 42*k1 + 196*k2**2 + 784*k2*k3 + 1568*k2*k4 - 112*k2*u1 - 672*k2*u2 - 17472*k2*u3 - 10937472*k2*u4 - 2688*k2*v1 - 163799580672*k2*v10 - 655198322688*k2*v11 - 69888*k2*v2 - 419328*k2*v3 - 43749888*k2*v4 - 262499328*k2*v5 - 6824982528*k2*v6 - 1677312*k2*v7 - 1049997312*k2*v8 - 27299930112*k2*v9 + 84*k2 + 784*k3**2 + 3136*k3*k4 - 224*k3*u1 - 1344*k3*u2 - 34944*k3*u3 - 21874944*k3*u4 - 5376*k3*v1 - 327599161344*k3*v10 - 1310396645376*k3*v11 - 139776*k3*v2 - 838656*k3*v3 - 87499776*k3*v4 - 524998656*k3*v5 - 13649965056*k3*v6 - 3354624*k3*v7 - 2099994624*k3*v8 - 54599860224*k3*v9 + 168*k3 + 3136*k4**2 - 448*k4*u1 - 2688*k4*u2 - 69888*k4*u3 - 43749888*k4*u4 - 10752*k4*v1 - 655198322688*k4*v10 - 2620793290752*k4*v11 - 279552*k4*v2 - 1677312*k4*v3 - 174999552*k4*v4 - 1049997312*k4*v5 - 27299930112*k4*v6 - 6709248*k4*v7 - 4199989248*k4*v8 - 109199720448*k4*v9 + 336*k4 + 16*u1**2 + 192*u1*u2 + 4992*u1*u3 + 3124992*u1*u4 + 768*u1*v1 + 46799880192*u1*v10 + 187199520768*u1*v11 + 19968*u1*v2 + 119808*u1*v3 + 12499968*u1*v4 + 74999808*u1*v5 + 1949995008*u1*v6 + 479232*u1*v7 + 299999232*u1*v8 + 7799980032*u1*v9 - 24*u1 + 576*u2**2 + 29952*u2*u3 + 18749952*u2*u4 + 4608*u2*v1 + 280799281152*u2*v10 + 1123197124608*u2*v11 + 119808*u2*v2 + 718848*u2*v3 + 74999808*u2*v4 + 449998848*u2*v5 + 11699970048*u2*v6 + 2875392*u2*v7 + 1799995392*u2*v8 + 46799880192*u2*v9 - 144*u2 + 389376*u3**2 + 487498752*u3*u4 + 119808*u3*v1 + 7300781309952*u3*v10 + 29203125239808*u3*v11 + 3115008*u3*v2 + 18690048*u3*v3 + 1949995008*u3*v4 + 11699970048*u3*v5 + 304199221248*u3*v6 + 74760192*u3*v7 + 46799880192*u3*v8 + 1216796884992*u3*v9 - 3744*u3 + 152587109376*u4**2 + 74999808*u4*v1 + 4570289100029952*u4*v10 + 18281156400119808*u4*v11 + 1949995008*u4*v2 + 11699970048*u4*v3 + 1220696875008*u4*v4 + 7324181250048*u4*v5 + 190428712501248*u4*v6 + 46799880192*u4*v7 + 29296725000192*u4*v8 + 761714850004992*u4*v9 - 2343744*u4 + 9216*v1**2 + 1123197124608*v1*v10 + 4492788498432*v1*v11 + 479232*v1*v2 + 2875392*v1*v3 + 299999232*v1*v4 + 1799995392*v1*v5 + 46799880192*v1*v6 + 11501568*v1*v7 + 7199981568*v1*v8 + 187199520768*v1*v9 - 576*v1 + 34222324781024280576*v10**2 + 273778598248194244608*v10*v11 + 29203125239808*v10*v2 + 175218751438848*v10*v3 + 18281156400119808*v10*v4 + 109686938400718848*v10*v5 + 2851860398418690048*v10*v6 + 700875005755392*v10*v7 + 438747753602875392*v10*v8 + 11407441593674760192*v10*v9 - 35099910144*v10 + 547557196496388489216*v11**2 + 116812500959232*v11*v2 + 700875005755392*v11*v3 + 73124625600479232*v11*v4 + 438747753602875392*v11*v5 + 11407441593674760192*v11*v6 + 2803500023021568*v11*v7 + 1754991014411501568*v11*v8 + 45629766374699040768*v11*v9 - 140399640576*v11 + 6230016*v2**2 + 74760192*v2*v3 + 7799980032*v2*v4 + 46799880192*v2*v5 + 1216796884992*v2*v6 + 299040768*v2*v7 + 187199520768*v2*v8 + 4867187539968*v2*v9 - 14976*v2 + 224280576*v3**2 + 46799880192*v3*v4 + 280799281152*v3*v5 + 7300781309952*v3*v6 + 1794244608*v3*v7 + 1123197124608*v3*v8 + 29203125239808*v3*v9 - 89856*v3 + 2441393750016*v4**2 + 29296725000192*v4*v5 + 761714850004992*v4*v6 + 187199520768*v4*v7 + 117186900000768*v4*v8 + 3046859400019968*v4*v9 - 9374976*v4 + 87890175000576*v5**2 + 4570289100029952*v5*v6 + 1123197124608*v5*v7 + 703121400004608*v5*v8 + 18281156400119808*v5*v9 - 56249856*v5 + 59413758300389376*v6**2 + 29203125239808*v6*v7 + 18281156400119808*v6*v8 + 475310066403115008*v6*v9 - 1462496256*v6 + 3588489216*v7**2 + 4492788498432*v7*v8 + 116812500959232*v7*v9 - 359424*v7 + 1406242800009216*v8**2 + 73124625600479232*v8*v9 - 224999424*v8 + 950620132806230016*v9**2 - 5849985024*v9 + 9\n",
      "{'k4': np.int8(1), 'v11': np.int8(-1), 'k3': np.int8(-1), 'k2': np.int8(1), 'v10': np.int8(-1), 'k1': np.int8(-1), 'v9': np.int8(-1), 'v6': np.int8(-1), 'v8': np.int8(-1), 'v5': np.int8(-1), 'v4': np.int8(-1), 'u4': np.int8(-1), 'v7': np.int8(-1), 'v3': np.int8(-1), 'v2': np.int8(-1), 'u3': np.int8(-1), 'v1': np.int8(-1), 'u2': np.int8(1), 'u1': np.int8(-1)}\n",
      " k: 10\n",
      "The solution of 5 ^ y = 4 mod 7 is : y = 2.\n"
     ]
    }
   ],
   "execution_count": 29
  }
 ],
 "metadata": {
  "kernelspec": {
   "display_name": "Python 3",
   "language": "python",
   "name": "python3"
  },
  "language_info": {
   "codemirror_mode": {
    "name": "ipython",
    "version": 3
   },
   "file_extension": ".py",
   "mimetype": "text/x-python",
   "name": "python",
   "nbconvert_exporter": "python",
   "pygments_lexer": "ipython3",
   "version": "3.13.2"
  }
 },
 "nbformat": 4,
 "nbformat_minor": 2
}
