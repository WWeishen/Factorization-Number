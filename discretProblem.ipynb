{
 "cells": [
  {
   "cell_type": "markdown",
   "metadata": {},
   "source": "# Discret logarithmic problème"
  },
  {
   "cell_type": "code",
   "metadata": {
    "ExecuteTime": {
     "end_time": "2025-06-26T12:19:28.429897Z",
     "start_time": "2025-06-26T12:19:27.685974Z"
    }
   },
   "source": [
    "import sympy as sp\n",
    "import numpy as np\n",
    "import math"
   ],
   "outputs": [],
   "execution_count": 1
  },
  {
   "metadata": {},
   "cell_type": "markdown",
   "source": [
    "## Dans le groupe additif $( \\mathbb{Z}_p, + )$\n",
    "\n",
    "étant donné un nombre premier \\(p\\), un générateur \\(g\\) du groupe additif $\\mathbb{Z}_p$, et un élément $y \\in \\mathbb{Z}_p$, trouver $x$ tel que :\n",
    "    $a \\cdot x \\equiv b \\pmod{p}$"
   ]
  },
  {
   "metadata": {
    "ExecuteTime": {
     "end_time": "2025-06-26T12:19:28.442161Z",
     "start_time": "2025-06-26T12:19:28.437798Z"
    }
   },
   "cell_type": "code",
   "source": [
    "# variables globales\n",
    "variables=[]\n",
    "dictionaire_auxiliary_variable={}\n",
    "res=1\n",
    "variables_Ising =[]\n",
    "dict_variable_model_map={}\n",
    "x=sp.Add()\n",
    "y=sp.Add()\n",
    "k=sp.Add()"
   ],
   "outputs": [],
   "execution_count": 2
  },
  {
   "cell_type": "code",
   "metadata": {
    "ExecuteTime": {
     "end_time": "2025-06-26T12:19:29.325254Z",
     "start_time": "2025-06-26T12:19:28.645489Z"
    }
   },
   "source": [
    "# Créer un symbole à partir d'un nom en string\n",
    "def create_variables(var_name):\n",
    "    if isinstance(var_name, str) :\n",
    "        try:\n",
    "            symbol = sp.symbols(var_name)\n",
    "            globals()[var_name] = symbol\n",
    "            variables.append(symbol)\n",
    "        except ValueError:\n",
    "            print(f\"{var_name} ValueError\")\n",
    "    return symbol\n",
    "\n",
    "def reduct_variable_power_term(term):\n",
    "    new_term = 1\n",
    "    for variable,power in term.as_powers_dict().items():\n",
    "        new_term *= variable\n",
    "    return new_term\n",
    "\n",
    "def reduct_variable_power_function(expr):\n",
    "    expanded_expr = sp.expand(expr)\n",
    "    expanded_reducted = 0\n",
    "    for term in expanded_expr.args:\n",
    "        new_term = reduct_variable_power_term(term)\n",
    "        expanded_reducted += new_term\n",
    "    return expanded_reducted\n",
    "\n",
    "# les varaiables sont sort par la lettre puis un nombre: \"x12\" -> \"x\" 12\n",
    "def sort_key(variable):\n",
    "    name = str(variable)\n",
    "    # Split le nom du variable aux deux parties: letter & number\n",
    "    letter = name[0]\n",
    "    number = int(name[1:])\n",
    "    return (letter, number)\n",
    "\n",
    "def rest_term(coef , rest_variable_liste):\n",
    "    new_term = coef\n",
    "    while(len(rest_variable_liste)!=0):\n",
    "        new_term = new_term * rest_variable_liste[0]\n",
    "        rest_variable_liste.pop()\n",
    "    return new_term\n",
    "\n",
    "# si #variables > 2 : diemension -1\n",
    "def reduct_demension_term(coef,variables_liste):\n",
    "    global res\n",
    "\n",
    "    # sélection les 3 premières variables\n",
    "    [x_1, x_2, x_3] = variables_liste[:3]\n",
    "\n",
    "    # garder le reste des variables\n",
    "    rest_variables_liste= variables_liste[3:]\n",
    "    rest_expr = rest_term(coef , rest_variables_liste)\n",
    "\n",
    "    # commence la réduction dimension\n",
    "    tup=(x_1,x_2)\n",
    "    #check dict s'il existe déjà une variable auxiliary qui = les deux meme variable\n",
    "    key = next((k for k, v in dictionaire_auxiliary_variable.items() if v == tup), None)\n",
    "    if key==None:#sinon, il faut creer une variable auxiliary\n",
    "        var_name = \"x\" + str(res)\n",
    "        x_4 = create_variables(var_name)\n",
    "        dictionaire_auxiliary_variable[x_4]=(x_1,x_2)\n",
    "        res += 1\n",
    "    else:\n",
    "        x_4 = key\n",
    "\n",
    "    expr_reduct_formula = x_4 * x_3 + 2 * (x_1 * x_2 - 2 * x_1 * x_4 - 2 * x_2 * x_4 + 3 * x_4)\n",
    "\n",
    "    expr_reduct = rest_expr * expr_reduct_formula\n",
    "    return sp.expand(expr_reduct)\n",
    "\n",
    "def reduct_demension_expression(expr):\n",
    "    new_expr = 0\n",
    "    need_reduction = False\n",
    "\n",
    "    for term in expr.args:\n",
    "        # get coefficant(la constante) et variables(dans une liste)\n",
    "        variables_liste = sorted(term.free_symbols, key=sort_key)\n",
    "        coef = term.as_coeff_mul()[0]\n",
    "\n",
    "        # pour les termes qui ont plus de 2 variables, il faut appliquer la formule de réduction\n",
    "        if len(variables_liste) > 2 :\n",
    "            if len(variables_liste) > 3 :\n",
    "                need_reduction = True\n",
    "            new_term = reduct_demension_term(coef, variables_liste)\n",
    "            new_expr +=  new_term\n",
    "        else:\n",
    "            # sinon, on ne fait rien et les met directement dans la nouvelle expression\n",
    "            new_expr += term\n",
    "\n",
    "    if need_reduction: # récursive\n",
    "        return reduct_demension_expression(new_expr)\n",
    "    else:\n",
    "        return new_expr\n",
    "\n",
    "def get_reduct_expression(a,b,p):\n",
    "    expr = define_function(a,b,p)\n",
    "    print(f\" define_function : {expr}\")\n",
    "    expr_reduct_power = reduct_variable_power_function(expr)\n",
    "    reduct_demension_expr = reduct_demension_expression(expr_reduct_power)\n",
    "    return reduct_demension_expr\n",
    "\n",
    "def transfers_qubo2Ising(reduct_demension_expr):\n",
    "    subs_relations = {(variable, ( variable + 1 ) /2) for variable in variables}\n",
    "\n",
    "    # Après la substitution, variables dans l'expression sont des variables d'Ising dans {-1,+1}\n",
    "    new_expr = reduct_demension_expr.subs(subs_relations)\n",
    "    new_expr = sp.expand(new_expr)\n",
    "    return new_expr\n",
    "\n",
    "import dimod\n",
    "from dwave.preprocessing.composites import SpinReversalTransformComposite\n",
    "\n",
    "# Compose the sampler\n",
    "base_sampler = dimod.ExactSolver()\n",
    "composed_sampler = SpinReversalTransformComposite(base_sampler)\n",
    "\n",
    "def get_solver_parameter(expr_ising):\n",
    "    linear = {}\n",
    "    quadratic ={}\n",
    "    offset = 0\n",
    "\n",
    "    for term in expr_ising.args:\n",
    "        variables_liste = sorted(term.free_symbols, key=sort_key)\n",
    "        coef = term.as_coeff_mul()[0]\n",
    "        if len(term.free_symbols) ==0:\n",
    "            offset = coef\n",
    "        if len(term.free_symbols) ==1:\n",
    "            linear[variables_liste[0].name] = coef\n",
    "        elif len(term.free_symbols) ==2:\n",
    "            quadratic[(variables_liste[0].name,variables_liste[1].name)] = coef\n",
    "\n",
    "    return (linear,quadratic,offset)\n",
    "\n",
    "def get_solution(expr_ising):\n",
    "    (linear,quadratic,offset) = get_solver_parameter(expr_ising)\n",
    "    response = composed_sampler.sample_ising(linear, quadratic)  #response.data() return (solution, energy, num_occurrences)\n",
    "    solution = next(response.data())[0]\n",
    "    return solution"
   ],
   "outputs": [],
   "execution_count": 3
  },
  {
   "cell_type": "code",
   "metadata": {
    "ExecuteTime": {
     "end_time": "2025-06-26T12:19:29.362039Z",
     "start_time": "2025-06-26T12:19:29.354300Z"
    }
   },
   "source": [
    "# set variable en binaire qui est dans {0,...,p-1}\n",
    "\n",
    "# exemple : x = u1 + 2u2 + 4u3 + ... + 2^(n-2)un-1 + (p-2^(n-1)+1)un\n",
    "def set_x_expression(n,p):  # n est length de x en binaire\n",
    "    # len(x) = len(p)\n",
    "    expr_x = 0\n",
    "    # de u1 à un-1\n",
    "    for i in range(1,n):\n",
    "        var_name = ('u' + str(i))\n",
    "        var = create_variables(var_name)\n",
    "        expr_x = 2**(i-1) * var + expr_x\n",
    "    # un\n",
    "    expr_x = expr_x + (p-2**(n-1)+1) * create_variables('u' + str(n))\n",
    "    return expr_x\n",
    "\n",
    "def set_k_expression(n):  # l est length de k en binaire\n",
    "    l = math.floor(math.log2(n)) + 1\n",
    "    expr_k = 0\n",
    "    # de u1 à un-1\n",
    "    for i in range(1,l):\n",
    "        var_name = ('k' + str(i))\n",
    "        var = create_variables(var_name)\n",
    "        expr_k = 2**(i-1) * var + expr_k\n",
    "    # un\n",
    "    expr_k = expr_k + (n-2**(l-1)+1) * create_variables('k' + str(l))\n",
    "    return expr_k"
   ],
   "outputs": [],
   "execution_count": 4
  },
  {
   "metadata": {},
   "cell_type": "markdown",
   "source": "Ici on donne la taille de x :n = 3 comme parapmètre, x et p ont la même taille."
  },
  {
   "metadata": {
    "ExecuteTime": {
     "end_time": "2025-06-26T12:19:29.489955Z",
     "start_time": "2025-06-26T12:19:29.395832Z"
    }
   },
   "cell_type": "code",
   "source": [
    "x = set_x_expression(3,5)\n",
    "x"
   ],
   "outputs": [
    {
     "data": {
      "text/plain": [
       "u1 + 2*u2 + 2*u3"
      ],
      "text/latex": "$\\displaystyle u_{1} + 2 u_{2} + 2 u_{3}$"
     },
     "execution_count": 5,
     "metadata": {},
     "output_type": "execute_result"
    }
   ],
   "execution_count": 5
  },
  {
   "metadata": {},
   "cell_type": "markdown",
   "source": [
    "### définir fonction\n",
    "$(x \\cdot a \\bmod p ) + (-b \\bmod p) - k\\cdot p = 0 $"
   ]
  },
  {
   "cell_type": "code",
   "metadata": {
    "ExecuteTime": {
     "end_time": "2025-06-26T12:19:29.609469Z",
     "start_time": "2025-06-26T12:19:29.601456Z"
    }
   },
   "source": [
    "def define_function(a, b, p):\n",
    "    # set variables for x\n",
    "    n = math.ceil(math.log2(p))  # len de x == len de p\n",
    "    global x\n",
    "    x = set_x_expression(n,p)\n",
    "\n",
    "    #set variables for k\n",
    "    global k\n",
    "    k = set_k_expression(n)\n",
    "\n",
    "    # set expression\n",
    "    expr = x * sp.Mod(a,p)\n",
    "    expr = expr + sp.Mod(-b,p)\n",
    "    expr = expr - (k * p)\n",
    "    expr = (expr) **2\n",
    "    expr = sp.expand(expr)\n",
    "    return expr"
   ],
   "outputs": [],
   "execution_count": 6
  },
  {
   "cell_type": "code",
   "metadata": {
    "ExecuteTime": {
     "end_time": "2025-06-26T12:19:29.805284Z",
     "start_time": "2025-06-26T12:19:29.762428Z"
    }
   },
   "source": [
    "expr = define_function(2,3,5)\n",
    "expr"
   ],
   "outputs": [
    {
     "data": {
      "text/plain": [
       "25*k1**2 + 100*k1*k2 - 20*k1*u1 - 40*k1*u2 - 40*k1*u3 - 20*k1 + 100*k2**2 - 40*k2*u1 - 80*k2*u2 - 80*k2*u3 - 40*k2 + 4*u1**2 + 16*u1*u2 + 16*u1*u3 + 8*u1 + 16*u2**2 + 32*u2*u3 + 16*u2 + 16*u3**2 + 16*u3 + 4"
      ],
      "text/latex": "$\\displaystyle 25 k_{1}^{2} + 100 k_{1} k_{2} - 20 k_{1} u_{1} - 40 k_{1} u_{2} - 40 k_{1} u_{3} - 20 k_{1} + 100 k_{2}^{2} - 40 k_{2} u_{1} - 80 k_{2} u_{2} - 80 k_{2} u_{3} - 40 k_{2} + 4 u_{1}^{2} + 16 u_{1} u_{2} + 16 u_{1} u_{3} + 8 u_{1} + 16 u_{2}^{2} + 32 u_{2} u_{3} + 16 u_{2} + 16 u_{3}^{2} + 16 u_{3} + 4$"
     },
     "execution_count": 7,
     "metadata": {},
     "output_type": "execute_result"
    }
   ],
   "execution_count": 7
  },
  {
   "cell_type": "code",
   "metadata": {
    "ExecuteTime": {
     "end_time": "2025-06-26T12:19:29.971015Z",
     "start_time": "2025-06-26T12:19:29.930356Z"
    }
   },
   "source": [
    "expr_reduct_power = reduct_variable_power_function(expr)\n",
    "expr_reduct_power"
   ],
   "outputs": [
    {
     "data": {
      "text/plain": [
       "100*k1*k2 - 20*k1*u1 - 40*k1*u2 - 40*k1*u3 + 5*k1 - 40*k2*u1 - 80*k2*u2 - 80*k2*u3 + 60*k2 + 16*u1*u2 + 16*u1*u3 + 12*u1 + 32*u2*u3 + 32*u2 + 32*u3 + 4"
      ],
      "text/latex": "$\\displaystyle 100 k_{1} k_{2} - 20 k_{1} u_{1} - 40 k_{1} u_{2} - 40 k_{1} u_{3} + 5 k_{1} - 40 k_{2} u_{1} - 80 k_{2} u_{2} - 80 k_{2} u_{3} + 60 k_{2} + 16 u_{1} u_{2} + 16 u_{1} u_{3} + 12 u_{1} + 32 u_{2} u_{3} + 32 u_{2} + 32 u_{3} + 4$"
     },
     "execution_count": 8,
     "metadata": {},
     "output_type": "execute_result"
    }
   ],
   "execution_count": 8
  },
  {
   "cell_type": "code",
   "metadata": {
    "ExecuteTime": {
     "end_time": "2025-06-26T12:19:30.294710Z",
     "start_time": "2025-06-26T12:19:30.270278Z"
    }
   },
   "source": [
    "reduct_demension_expr = reduct_demension_expression(expr_reduct_power)\n",
    "reduct_demension_expr"
   ],
   "outputs": [
    {
     "data": {
      "text/plain": [
       "100*k1*k2 - 20*k1*u1 - 40*k1*u2 - 40*k1*u3 + 5*k1 - 40*k2*u1 - 80*k2*u2 - 80*k2*u3 + 60*k2 + 16*u1*u2 + 16*u1*u3 + 12*u1 + 32*u2*u3 + 32*u2 + 32*u3 + 4"
      ],
      "text/latex": "$\\displaystyle 100 k_{1} k_{2} - 20 k_{1} u_{1} - 40 k_{1} u_{2} - 40 k_{1} u_{3} + 5 k_{1} - 40 k_{2} u_{1} - 80 k_{2} u_{2} - 80 k_{2} u_{3} + 60 k_{2} + 16 u_{1} u_{2} + 16 u_{1} u_{3} + 12 u_{1} + 32 u_{2} u_{3} + 32 u_{2} + 32 u_{3} + 4$"
     },
     "execution_count": 9,
     "metadata": {},
     "output_type": "execute_result"
    }
   ],
   "execution_count": 9
  },
  {
   "metadata": {},
   "cell_type": "markdown",
   "source": "## On obtient l'expression sous forme de QUBO, ensuit on peut la transferer sous forme de modèle d'Ising"
  },
  {
   "metadata": {
    "ExecuteTime": {
     "end_time": "2025-06-26T12:19:30.716172Z",
     "start_time": "2025-06-26T12:19:30.631579Z"
    }
   },
   "cell_type": "code",
   "source": [
    "expr_ising = transfers_qubo2Ising(reduct_demension_expr)\n",
    "expr_ising"
   ],
   "outputs": [
    {
     "data": {
      "text/plain": [
       "25*k1*k2 - 5*k1*u1 - 10*k1*u2 - 10*k1*u3 + 5*k1/2 - 10*k2*u1 - 20*k2*u2 - 20*k2*u3 + 5*k2 + 4*u1*u2 + 4*u1*u3 - u1 + 8*u2*u3 - 2*u2 - 2*u3 + 81/2"
      ],
      "text/latex": "$\\displaystyle 25 k_{1} k_{2} - 5 k_{1} u_{1} - 10 k_{1} u_{2} - 10 k_{1} u_{3} + \\frac{5 k_{1}}{2} - 10 k_{2} u_{1} - 20 k_{2} u_{2} - 20 k_{2} u_{3} + 5 k_{2} + 4 u_{1} u_{2} + 4 u_{1} u_{3} - u_{1} + 8 u_{2} u_{3} - 2 u_{2} - 2 u_{3} + \\frac{81}{2}$"
     },
     "execution_count": 10,
     "metadata": {},
     "output_type": "execute_result"
    }
   ],
   "execution_count": 10
  },
  {
   "metadata": {},
   "cell_type": "markdown",
   "source": "# Find solution avec dimon bibilothèque"
  },
  {
   "metadata": {
    "ExecuteTime": {
     "end_time": "2025-06-26T12:19:30.986169Z",
     "start_time": "2025-06-26T12:19:30.962287Z"
    }
   },
   "cell_type": "code",
   "source": [
    "solution = get_solution(expr_ising)\n",
    "solution"
   ],
   "outputs": [
    {
     "data": {
      "text/plain": [
       "{'k2': np.int8(1),\n",
       " 'u2': np.int8(1),\n",
       " 'u3': np.int8(1),\n",
       " 'k1': np.int8(-1),\n",
       " 'u1': np.int8(-1)}"
      ]
     },
     "execution_count": 11,
     "metadata": {},
     "output_type": "execute_result"
    }
   ],
   "execution_count": 11
  },
  {
   "cell_type": "code",
   "metadata": {
    "ExecuteTime": {
     "end_time": "2025-06-26T12:19:31.284379Z",
     "start_time": "2025-06-26T12:19:31.276700Z"
    }
   },
   "source": [
    "def calcule_x(solution,x,k):\n",
    "    dic_varialbe_value = {}\n",
    "    for var in variables:\n",
    "        if(solution[var.name] == np.int8(1)):\n",
    "            dic_varialbe_value[var] = int(1)\n",
    "        else:\n",
    "            dic_varialbe_value[var] = int(0)\n",
    "    x_value = x.subs(dic_varialbe_value)\n",
    "    k_value = k.subs(dic_varialbe_value)\n",
    "    \n",
    "    return (x_value.evalf(),k_value.evalf())\n",
    "\n",
    "\n",
    "def factorization(a, b, p):\n",
    "    global variables, variables_Ising, dictionaire_auxiliary_variable, res,x,k\n",
    "    variables = []\n",
    "    variables_Ising = []\n",
    "    dictionaire_auxiliary_variable = {}\n",
    "    res = 1\n",
    "    x= sp.Add()\n",
    "    k= sp.Add()\n",
    "\n",
    "\n",
    "    reduct_demension_expr = get_reduct_expression(a,b,p)\n",
    "    expr_ising = transfers_qubo2Ising(reduct_demension_expr)\n",
    "    solution = get_solution(expr_ising)\n",
    "    (x_val,k_val) = calcule_x(solution,x,k)\n",
    "    x_int = int(x_val)\n",
    "    k_int = int(k_val)\n",
    "    print(f\" k: {k_int}\")\n",
    "    print(f\"The solution of {a} * x = {b} mod {p} is : x = {x_int}.\")"
   ],
   "outputs": [],
   "execution_count": 12
  },
  {
   "metadata": {
    "ExecuteTime": {
     "end_time": "2025-06-26T12:19:31.378955Z",
     "start_time": "2025-06-26T12:19:31.362815Z"
    }
   },
   "cell_type": "code",
   "source": [
    "a=2\n",
    "b=3\n",
    "p=5\n",
    "factorization(a, b, p)"
   ],
   "outputs": [
    {
     "name": "stdout",
     "output_type": "stream",
     "text": [
      " define_function : 25*k1**2 + 100*k1*k2 - 20*k1*u1 - 40*k1*u2 - 40*k1*u3 - 20*k1 + 100*k2**2 - 40*k2*u1 - 80*k2*u2 - 80*k2*u3 - 40*k2 + 4*u1**2 + 16*u1*u2 + 16*u1*u3 + 8*u1 + 16*u2**2 + 32*u2*u3 + 16*u2 + 16*u3**2 + 16*u3 + 4\n",
      " k: 2\n",
      "The solution of 2 * x = 3 mod 5 is : x = 4.\n"
     ]
    }
   ],
   "execution_count": 13
  },
  {
   "metadata": {
    "ExecuteTime": {
     "end_time": "2025-06-26T12:19:31.615997Z",
     "start_time": "2025-06-26T12:19:31.563466Z"
    }
   },
   "cell_type": "code",
   "source": [
    "a=5\n",
    "b=5\n",
    "p=7\n",
    "factorization(a, b, p)"
   ],
   "outputs": [
    {
     "name": "stdout",
     "output_type": "stream",
     "text": [
      " define_function : 49*k1**2 + 196*k1*k2 - 70*k1*u1 - 140*k1*u2 - 280*k1*u3 - 28*k1 + 196*k2**2 - 140*k2*u1 - 280*k2*u2 - 560*k2*u3 - 56*k2 + 25*u1**2 + 100*u1*u2 + 200*u1*u3 + 20*u1 + 100*u2**2 + 400*u2*u3 + 40*u2 + 400*u3**2 + 80*u3 + 4\n",
      " k: 1\n",
      "The solution of 5 * x = 5 mod 7 is : x = 1.\n"
     ]
    }
   ],
   "execution_count": 14
  },
  {
   "metadata": {},
   "cell_type": "markdown",
   "source": "# Dans le groupe multiplicative $( \\mathbb{Z}_p, \\cdot )$"
  },
  {
   "metadata": {},
   "cell_type": "markdown",
   "source": [
    "## Brutal approach\n",
    "On define le DLP comme ceci:\n",
    "    $g^y = h $\n",
    "\n",
    "Ensuite, dans $\\mathbb{F}_p, g,h \\in \\{1, \\cdots , p-1\\}, y \\in \\{1, \\cdots, \\text{Ord}(g)\\}$\n",
    "\n",
    "\n",
    "$g^y \\equiv h \\pmod{p}$\n"
   ]
  },
  {
   "metadata": {},
   "cell_type": "markdown",
   "source": [
    "#### Defint y:\n",
    "set $m$ est le nombre de bits de $y$ = bitlength of ord(g).\n",
    "\n",
    "$y$ peux être définit comme ceci:\n",
    "    $ y = 2^{m - 1} u_m + \\cdots + 2u_2 + u_1$\n",
    "\n",
    "union de equation 6 et 8, on obtient equation 13"
   ]
  },
  {
   "metadata": {},
   "cell_type": "markdown",
   "source": [
    "## Fonctions basiques:\n",
    "1. calculer ord(g) dans p\n",
    "2. définir valeur unconnu en l'expression composé des variables binaires"
   ]
  },
  {
   "metadata": {
    "ExecuteTime": {
     "end_time": "2025-06-26T12:19:31.809771Z",
     "start_time": "2025-06-26T12:19:31.799987Z"
    }
   },
   "cell_type": "code",
   "source": [
    "def calculate_order(g, p):\n",
    "    # ord(g): le min k qui satisfait g^k = 1 mod p\n",
    "    if g <= 0 or g >= p:\n",
    "        print(f\"error：g should in { 1, p-1} \")\n",
    "        return None\n",
    "\n",
    "    order = 1\n",
    "    current = g % p\n",
    "\n",
    "    while current != 1:\n",
    "        # g^(order+1) mod p\n",
    "        current = (current * g) % p\n",
    "        order += 1\n",
    "\n",
    "        if order > p-1:\n",
    "            print(f\"error：p is not prime or g and p are not prime\")\n",
    "            return None\n",
    "    return order\n",
    "\n",
    "def set_variable_expression(n,prefix):  # n is the length of variable and the prefix of each binary variable\n",
    "    expr_var = 0\n",
    "    # de u1 à un\n",
    "    for i in range(1,n+1):\n",
    "        var_name = (prefix + str(i))\n",
    "        var = create_variables(var_name)\n",
    "        expr_var = 2**(i-1) * var + expr_var\n",
    "    return expr_var"
   ],
   "outputs": [],
   "execution_count": 15
  },
  {
   "metadata": {
    "ExecuteTime": {
     "end_time": "2025-06-26T12:19:31.891483Z",
     "start_time": "2025-06-26T12:19:31.874895Z"
    }
   },
   "cell_type": "code",
   "source": [
    "g= 2\n",
    "p= 5\n",
    "h= 3\n",
    "ord = calculate_order(g,p)\n",
    "n = math.ceil(math.log2(ord))+1\n",
    "print(ord,n)\n",
    "expr_y = set_variable_expression(n,'u')\n",
    "print(f\"expression of y: {expr_y}\")\n",
    "expr_k = set_variable_expression(n,'k')\n",
    "print(f\"expression of k: {expr_k}\")"
   ],
   "outputs": [
    {
     "name": "stdout",
     "output_type": "stream",
     "text": [
      "4 3\n",
      "expression of y: u1 + 2*u2 + 4*u3\n",
      "expression of k: k1 + 2*k2 + 4*k3\n"
     ]
    }
   ],
   "execution_count": 16
  },
  {
   "metadata": {},
   "cell_type": "markdown",
   "source": [
    "## Definir $g^y$ en forme de equation 6:\n",
    "\n",
    "$g^y = g^{2^{m-1} \\cdot u_m+\\cdots+2u_2+u_1}  = g^{2^{m-1}} \\cdots g^{2u_2}g^{u_1}$"
   ]
  },
  {
   "metadata": {
    "ExecuteTime": {
     "end_time": "2025-06-26T12:19:32.080425Z",
     "start_time": "2025-06-26T12:19:32.074556Z"
    }
   },
   "cell_type": "code",
   "source": [
    "def create_g_power_expression(expr_y,g):\n",
    "    \"\"\"\n",
    "    g^y = g^(2^0*u₁ + 2^1*u₂+ ... + 2^(n-1)*uₙ)\n",
    "    \"\"\"\n",
    "    #global g_symbol\n",
    "    #g_symbol = sp.Symbol('g')\n",
    "\n",
    "    g_power_y = g ** expr_y\n",
    "\n",
    "    return g_power_y\n",
    "\n",
    "def decompose_g_power(g_power_expr):\n",
    "    \"\"\"\n",
    "    g^y = g^(2^0*u₁) * g^(2^1*u₂) * ... * g^(2^(n-1)*uₙ)\n",
    "    \"\"\"\n",
    "    exponent = g_power_expr.as_base_exp()[1]\n",
    "    base = g_power_expr.as_base_exp()[0]\n",
    "    decomposed_expr = 1\n",
    "\n",
    "    # u₁ + u₂·2¹ + ... + uₙ·2ⁿ⁻¹\n",
    "    for term in exponent.args:\n",
    "        decomposed_expr = decomposed_expr * base**term\n",
    "    return decomposed_expr"
   ],
   "outputs": [],
   "execution_count": 17
  },
  {
   "metadata": {
    "ExecuteTime": {
     "end_time": "2025-06-26T12:19:32.159591Z",
     "start_time": "2025-06-26T12:19:32.148545Z"
    }
   },
   "cell_type": "code",
   "source": [
    "g_power_y = create_g_power_expression(expr_y,g)\n",
    "print(f\"expression of g^y : {g_power_y}\")\n",
    "\n",
    "decomposed_expr = decompose_g_power(g_power_y)\n",
    "print(f\"expression of decomposed g^y : {decomposed_expr}\")"
   ],
   "outputs": [
    {
     "name": "stdout",
     "output_type": "stream",
     "text": [
      "expression of g^y : 2**(u1 + 2*u2 + 4*u3)\n",
      "expression of decomposed g^y : 2**u1*2**(2*u2)*2**(4*u3)\n"
     ]
    }
   ],
   "execution_count": 18
  },
  {
   "metadata": {},
   "cell_type": "markdown",
   "source": [
    "## Transforme en utilisant l'équation 8 de l'equation 6\n",
    "transfert formule : $g^{2^{i-1} \\cdot u_i} = 1+u_i(g^{2^{i-1}}-1)$\n",
    "\n",
    "$g^y =(1 + u_m(g^{2^{m−1}}− 1))  \\cdots (1 + u_2 (g^2 − 1)) \\dot (1 + u_1 (g − 1))$\n"
   ]
  },
  {
   "metadata": {
    "ExecuteTime": {
     "end_time": "2025-06-26T12:19:32.268510Z",
     "start_time": "2025-06-26T12:19:32.262192Z"
    }
   },
   "cell_type": "code",
   "source": [
    "def transform_using_formula(decomposed_expr):\n",
    "    \"\"\"\n",
    "    g^(2^(i-1) * u_i) = 1 + u_i * (g^(2^(i-1)) - 1 % p)   #equation 13\n",
    "    \"\"\"\n",
    "    terms = []\n",
    "    for element in decomposed_expr.args:\n",
    "        ele = element.exp\n",
    "\n",
    "        if ele.is_symbol:\n",
    "            #i = 1\n",
    "            transformed_element = 1 + ele * (element.base - 1)\n",
    "            terms.append(transformed_element)\n",
    "        elif ele.is_Mul:\n",
    "            [coeff, u_var] = ele.args\n",
    "            transformed_element = 1 + u_var * (element.base**(coeff) - 1)\n",
    "            terms.append(transformed_element)\n",
    "    return sp.Mul(*terms)"
   ],
   "outputs": [],
   "execution_count": 19
  },
  {
   "metadata": {
    "ExecuteTime": {
     "end_time": "2025-06-26T12:19:32.388156Z",
     "start_time": "2025-06-26T12:19:32.376501Z"
    }
   },
   "cell_type": "code",
   "source": [
    "transformed_expr = transform_using_formula(decomposed_expr)\n",
    "print(f\"expression of transformed g^y: {transformed_expr}\")"
   ],
   "outputs": [
    {
     "name": "stdout",
     "output_type": "stream",
     "text": [
      "expression of transformed g^y: (u1 + 1)*(3*u2 + 1)*(15*u3 + 1)\n"
     ]
    }
   ],
   "execution_count": 20
  },
  {
   "metadata": {},
   "cell_type": "markdown",
   "source": "## f : linear form of $g^y$"
  },
  {
   "metadata": {
    "ExecuteTime": {
     "end_time": "2025-06-26T12:19:32.559028Z",
     "start_time": "2025-06-26T12:19:32.547944Z"
    }
   },
   "cell_type": "code",
   "source": [
    "def linaire_form_expr(transformed_expr):\n",
    "    expr = sp.expand(transformed_expr)\n",
    "    i = 1\n",
    "    new_expr = expr\n",
    "    changed = True\n",
    "\n",
    "    while changed:\n",
    "        changed = False\n",
    "        for element in new_expr.args:\n",
    "            if len(element.free_symbols) == 2:\n",
    "                vars_list = list(element.free_symbols)\n",
    "                new_var = create_variables(\"v\"+str(i))\n",
    "                product = sp.Mul(vars_list[0], vars_list[1])\n",
    "                dictionaire_auxiliary_variable[new_var.name] = product\n",
    "                new_expr = new_expr.subs(product, new_var)\n",
    "                i += 1\n",
    "                changed = True\n",
    "    return new_expr"
   ],
   "outputs": [],
   "execution_count": 21
  },
  {
   "metadata": {
    "ExecuteTime": {
     "end_time": "2025-06-26T12:19:32.694437Z",
     "start_time": "2025-06-26T12:19:32.674682Z"
    }
   },
   "cell_type": "code",
   "source": [
    "linaire_expr=linaire_form_expr(transformed_expr)\n",
    "linaire_expr"
   ],
   "outputs": [
    {
     "data": {
      "text/plain": [
       "u1 + 3*u2 + 15*u3 + 3*v1 + 15*v2 + 45*v3 + 45*v4 + 1"
      ],
      "text/latex": "$\\displaystyle u_{1} + 3 u_{2} + 15 u_{3} + 3 v_{1} + 15 v_{2} + 45 v_{3} + 45 v_{4} + 1$"
     },
     "execution_count": 22,
     "metadata": {},
     "output_type": "execute_result"
    }
   ],
   "execution_count": 22
  },
  {
   "metadata": {},
   "cell_type": "markdown",
   "source": [
    "## Définir la fonction objective\n",
    "$ (( f-h ) \\bmod p - (k \\cdot p))^2 = 0 $\n",
    "\n",
    "avec $f =(1 + u_m(g^{2^{m−1}}− 1))  \\cdots (1 + u_2 (g^2 − 1)) \\dot (1 + u_1 (g − 1))$"
   ]
  },
  {
   "metadata": {
    "ExecuteTime": {
     "end_time": "2025-06-26T12:19:32.871948Z",
     "start_time": "2025-06-26T12:19:32.862101Z"
    }
   },
   "cell_type": "code",
   "source": [
    "def define_function(g, h, p):\n",
    "    # set variables for\n",
    "    ord = calculate_order(g,p)\n",
    "    if ord :\n",
    "        n = math.ceil(math.log2(ord))+1\n",
    "    else:\n",
    "        print(f\"ord({g}) is none \")\n",
    "        return None\n",
    "\n",
    "    global expr_y\n",
    "    expr_y = set_variable_expression(n,'u')\n",
    "\n",
    "    # g^y = transformed_expr\n",
    "    g_power_expr = create_g_power_expression(expr_y,g)\n",
    "    decomposed_expr = decompose_g_power(g_power_expr)\n",
    "    transformed_expr = transform_using_formula(decomposed_expr)\n",
    "    linaire_expr = linaire_form_expr(transformed_expr)\n",
    "    print(f\"linaire_expr : {linaire_expr}\")\n",
    "\n",
    "    #set variables for k\n",
    "    global expr_k\n",
    "    expr_k = set_variable_expression(n,'k')   # contains variables : ki\n",
    "\n",
    "    # set expression(equation 15)\n",
    "    expr = linaire_expr - h\n",
    "\n",
    "    #expr = sp.Mod(expr, p)\n",
    "    #print(expr)\n",
    "    #expr = sp.expand(expr)\n",
    "    #print(expr)\n",
    "\n",
    "    expr = expr - (expr_k * p)\n",
    "    expr = sp.expand(expr)\n",
    "\n",
    "    expr = (expr)**2\n",
    "    expr = sp.expand(expr)\n",
    "    return expr"
   ],
   "outputs": [],
   "execution_count": 23
  },
  {
   "metadata": {
    "ExecuteTime": {
     "end_time": "2025-06-26T12:19:33.237367Z",
     "start_time": "2025-06-26T12:19:32.950028Z"
    }
   },
   "cell_type": "code",
   "source": [
    "# variables globales\n",
    "variables=[]\n",
    "dictionaire_auxiliary_variable={}\n",
    "res=1\n",
    "variables_Ising =[]\n",
    "dict_variable_model_map={}\n",
    "y=sp.Add()\n",
    "k=sp.Add()\n",
    "\n",
    "reduct_demension_expr = get_reduct_expression(2,3,5)\n",
    "expr_ising = transfers_qubo2Ising(reduct_demension_expr)\n",
    "#get_solution(expr_ising)\n",
    "solution = get_solution(expr_ising)\n",
    "solution"
   ],
   "outputs": [
    {
     "name": "stdout",
     "output_type": "stream",
     "text": [
      "linaire_expr : u1 + 3*u2 + 15*u3 + 3*v1 + 15*v2 + 45*v3 + 45*v4 + 1\n",
      " define_function : 25*k1**2 + 100*k1*k2 + 200*k1*k3 - 10*k1*u1 - 30*k1*u2 - 150*k1*u3 - 30*k1*v1 - 150*k1*v2 - 450*k1*v3 - 450*k1*v4 + 20*k1 + 100*k2**2 + 400*k2*k3 - 20*k2*u1 - 60*k2*u2 - 300*k2*u3 - 60*k2*v1 - 300*k2*v2 - 900*k2*v3 - 900*k2*v4 + 40*k2 + 400*k3**2 - 40*k3*u1 - 120*k3*u2 - 600*k3*u3 - 120*k3*v1 - 600*k3*v2 - 1800*k3*v3 - 1800*k3*v4 + 80*k3 + u1**2 + 6*u1*u2 + 30*u1*u3 + 6*u1*v1 + 30*u1*v2 + 90*u1*v3 + 90*u1*v4 - 4*u1 + 9*u2**2 + 90*u2*u3 + 18*u2*v1 + 90*u2*v2 + 270*u2*v3 + 270*u2*v4 - 12*u2 + 225*u3**2 + 90*u3*v1 + 450*u3*v2 + 1350*u3*v3 + 1350*u3*v4 - 60*u3 + 9*v1**2 + 90*v1*v2 + 270*v1*v3 + 270*v1*v4 - 12*v1 + 225*v2**2 + 1350*v2*v3 + 1350*v2*v4 - 60*v2 + 2025*v3**2 + 4050*v3*v4 - 180*v3 + 2025*v4**2 - 180*v4 + 4\n"
     ]
    },
    {
     "data": {
      "text/plain": [
       "{'k3': np.int8(1),\n",
       " 'v3': np.int8(-1),\n",
       " 'v4': np.int8(-1),\n",
       " 'k2': np.int8(-1),\n",
       " 'u3': np.int8(1),\n",
       " 'v2': np.int8(-1),\n",
       " 'u2': np.int8(1),\n",
       " 'v1': np.int8(1),\n",
       " 'u1': np.int8(1),\n",
       " 'k1': np.int8(-1)}"
      ]
     },
     "execution_count": 24,
     "metadata": {},
     "output_type": "execute_result"
    }
   ],
   "execution_count": 24
  },
  {
   "metadata": {
    "ExecuteTime": {
     "end_time": "2025-06-26T12:19:33.388897Z",
     "start_time": "2025-06-26T12:19:33.378070Z"
    }
   },
   "cell_type": "code",
   "source": [
    "def calcule_y(solution,expr_y,expr_k):\n",
    "    print(solution)\n",
    "    print(expr_y)\n",
    "    print(expr_k)\n",
    "    print(variables)\n",
    "    dic_varialbe_value = {}\n",
    "\n",
    "    for var in variables:\n",
    "        if(solution[var.name] == np.int8(1)):\n",
    "            dic_varialbe_value[var] = int(1)\n",
    "        else:\n",
    "            dic_varialbe_value[var] = int(0)\n",
    "    print(dic_varialbe_value)\n",
    "    y_value = expr_y.subs(dic_varialbe_value)\n",
    "    k_value = expr_k.subs(dic_varialbe_value)\n",
    "\n",
    "    return (y_value.evalf(),k_value.evalf())"
   ],
   "outputs": [],
   "execution_count": 25
  },
  {
   "metadata": {
    "ExecuteTime": {
     "end_time": "2025-06-26T12:19:33.490912Z",
     "start_time": "2025-06-26T12:19:33.477213Z"
    }
   },
   "cell_type": "code",
   "source": "calcule_y(solution,expr_y,expr_k)",
   "outputs": [
    {
     "name": "stdout",
     "output_type": "stream",
     "text": [
      "{'k3': np.int8(1), 'v3': np.int8(-1), 'v4': np.int8(-1), 'k2': np.int8(-1), 'u3': np.int8(1), 'v2': np.int8(-1), 'u2': np.int8(1), 'v1': np.int8(1), 'u1': np.int8(1), 'k1': np.int8(-1)}\n",
      "u1 + 2*u2 + 4*u3\n",
      "k1 + 2*k2 + 4*k3\n",
      "[u1, u2, u3, v1, v2, v3, v4, k1, k2, k3]\n",
      "{u1: 1, u2: 1, u3: 1, v1: 1, v2: 0, v3: 0, v4: 0, k1: 0, k2: 0, k3: 1}\n"
     ]
    },
    {
     "data": {
      "text/plain": [
       "(7.00000000000000, 4.00000000000000)"
      ]
     },
     "execution_count": 26,
     "metadata": {},
     "output_type": "execute_result"
    }
   ],
   "execution_count": 26
  },
  {
   "metadata": {},
   "cell_type": "markdown",
   "source": "## sum up fonction"
  },
  {
   "metadata": {
    "ExecuteTime": {
     "end_time": "2025-06-26T12:19:33.728611Z",
     "start_time": "2025-06-26T12:19:33.711497Z"
    }
   },
   "cell_type": "code",
   "source": [
    "def factorization(g,h,p):\n",
    "    global variables, variables_Ising, dictionaire_auxiliary_variable, dict_variable_model_map, res,expr_y,expr_k\n",
    "    variables=[]\n",
    "    dictionaire_auxiliary_variable={}\n",
    "    res=1\n",
    "    variables_Ising =[]\n",
    "    dict_variable_model_map={}\n",
    "    expr_y=sp.Add()\n",
    "    expr_k=sp.Add()\n",
    "\n",
    "\n",
    "\n",
    "    reduct_demension_expr = get_reduct_expression(g,h,p)\n",
    "    expr_ising = transfers_qubo2Ising(reduct_demension_expr)\n",
    "    solution = get_solution(expr_ising)\n",
    "    (y_val,k_val) = calcule_y(solution,expr_y,expr_k)\n",
    "    y_int = int(y_val)\n",
    "    k_int = int(k_val)\n",
    "    print(f\" k: {k_int}\")\n",
    "    print(f\"The solution of {g} ^ y = {h} mod {p} is : y = {y_int}.\")"
   ],
   "outputs": [],
   "execution_count": 27
  },
  {
   "metadata": {
    "ExecuteTime": {
     "end_time": "2025-06-26T12:19:34.152233Z",
     "start_time": "2025-06-26T12:19:33.977880Z"
    }
   },
   "cell_type": "code",
   "source": [
    "g = 2\n",
    "h = 3\n",
    "p = 5\n",
    "factorization(g,h,p)"
   ],
   "outputs": [
    {
     "name": "stdout",
     "output_type": "stream",
     "text": [
      "linaire_expr : u1 + 3*u2 + 15*u3 + 3*v1 + 15*v2 + 45*v3 + 45*v4 + 1\n",
      " define_function : 25*k1**2 + 100*k1*k2 + 200*k1*k3 - 10*k1*u1 - 30*k1*u2 - 150*k1*u3 - 30*k1*v1 - 150*k1*v2 - 450*k1*v3 - 450*k1*v4 + 20*k1 + 100*k2**2 + 400*k2*k3 - 20*k2*u1 - 60*k2*u2 - 300*k2*u3 - 60*k2*v1 - 300*k2*v2 - 900*k2*v3 - 900*k2*v4 + 40*k2 + 400*k3**2 - 40*k3*u1 - 120*k3*u2 - 600*k3*u3 - 120*k3*v1 - 600*k3*v2 - 1800*k3*v3 - 1800*k3*v4 + 80*k3 + u1**2 + 6*u1*u2 + 30*u1*u3 + 6*u1*v1 + 30*u1*v2 + 90*u1*v3 + 90*u1*v4 - 4*u1 + 9*u2**2 + 90*u2*u3 + 18*u2*v1 + 90*u2*v2 + 270*u2*v3 + 270*u2*v4 - 12*u2 + 225*u3**2 + 90*u3*v1 + 450*u3*v2 + 1350*u3*v3 + 1350*u3*v4 - 60*u3 + 9*v1**2 + 90*v1*v2 + 270*v1*v3 + 270*v1*v4 - 12*v1 + 225*v2**2 + 1350*v2*v3 + 1350*v2*v4 - 60*v2 + 2025*v3**2 + 4050*v3*v4 - 180*v3 + 2025*v4**2 - 180*v4 + 4\n",
      "{'k3': np.int8(-1), 'v3': np.int8(-1), 'v4': np.int8(-1), 'k2': np.int8(-1), 'u3': np.int8(-1), 'v2': np.int8(-1), 'u2': np.int8(1), 'v1': np.int8(1), 'u1': np.int8(1), 'k1': np.int8(1)}\n",
      "u1 + 2*u2 + 4*u3\n",
      "k1 + 2*k2 + 4*k3\n",
      "[u1, u2, u3, v1, v2, v3, v4, k1, k2, k3]\n",
      "{u1: 1, u2: 1, u3: 0, v1: 1, v2: 0, v3: 0, v4: 0, k1: 1, k2: 0, k3: 0}\n",
      " k: 1\n",
      "The solution of 2 ^ y = 3 mod 5 is : y = 3.\n"
     ]
    }
   ],
   "execution_count": 28
  },
  {
   "metadata": {
    "ExecuteTime": {
     "end_time": "2025-06-26T12:22:11.981760Z",
     "start_time": "2025-06-26T12:20:36.616694Z"
    }
   },
   "cell_type": "code",
   "source": [
    "g = 5\n",
    "h = 4\n",
    "p = 23\n",
    "factorization(g,h,p)"
   ],
   "outputs": [
    {
     "name": "stdout",
     "output_type": "stream",
     "text": [
      "linaire_expr : 4*u1 + 24*u2 + 624*u3 + 390624*u4 + 152587890624*u5 + 23283064365386962890624*u6 + 96*v1 + 59604492187109376*v10 + 93132257461547851562496*v11 + 558793544769287109374976*v12 + 14528632164001464843749376*v13 + 9094923734664916992187109376*v14 + 3552713678777217864990081787109376*v15 + 59904*v16 + 37499904*v17 + 974997504*v18 + 5849985024*v19 + 2496*v2 + 23399940096*v20 + 14648437499904*v21 + 380859374997504*v22 + 2285156249985024*v23 + 9140624999940096*v24 + 238417968748437504*v25 + 1430507812490625024*v26 + 5722031249962500096*v27 + 37193203124756250624*v28 + 148772812499025002496*v29 + 14976*v3 + 892636874994150014976*v30 + 2235174179077148437499904*v31 + 58114528656005859374997504*v32 + 348687171936035156249985024*v33 + 1394748687744140624999940096*v34 + 36379694938659667968748437504*v35 + 218278169631958007812490625024*v36 + 873112678527832031249962500096*v37 + 5675232410430908203124756250624*v38 + 22700929641723632812499025002496*v39 + 1562496*v4 + 136205577850341796874994150014976*v40 + 14210854715108871459960327148437504*v41 + 85265128290653228759761962890625024*v42 + 341060513162612915039047851562500096*v43 + 2216893335556983947753811035156250624*v44 + 8867573342227935791015244140625002496*v45 + 53205440053367614746091464843750014976*v46 + 1387775228058671951293885708007812890624*v47 + 5551100912234687805175542832031251562496*v48 + 33306605473408126831053256992187509374976*v49 + 9374976*v5 + 865971742308611297607384681796875243749376*v50 + 3570547499976600059904*v51 + 544822311401367187499976600059904*v52 + 212821760213470458984365859375000059904*v53 + 133226421893632507324213027968750037499904*v54 + 3463886969234445190429538727187500974997504*v55 + 20783321815406671142577232363125005849985024*v56 + 83133287261626684570308929452500023399940096*v57 + 243749376*v6 + 610351562496*v7 + 3662109374976*v8 + 95214843749376*v9 + 1\n",
      " define_function : 529*k1**2 + 2116*k1*k2 + 4232*k1*k3 + 8464*k1*k4 + 16928*k1*k5 + 33856*k1*k6 - 184*k1*u1 - 1104*k1*u2 - 28704*k1*u3 - 17968704*k1*u4 - 7019042968704*k1*u5 - 1071020960807800292968704*k1*u6 - 4416*k1*v1 - 2741806640607031296*k1*v10 - 4284083843231201171874816*k1*v11 - 25704503059387207031248896*k1*v12 - 668317079544067382812471296*k1*v13 - 418366491794586181640607031296*k1*v14 - 163424829223752021789543762207031296*k1*v15 - 2755584*k1*v16 - 1724995584*k1*v17 - 44849885184*k1*v18 - 269099311104*k1*v19 - 114816*k1*v2 - 1076397244416*k1*v20 - 673828124995584*k1*v21 - 17519531249885184*k1*v22 - 105117187499311104*k1*v23 - 420468749997244416*k1*v24 - 10967226562428125184*k1*v25 - 65803359374568751104*k1*v26 - 263213437498275004416*k1*v27 - 1710887343738787528704*k1*v28 - 6843549374955150114816*k1*v29 - 688896*k1*v3 - 41061296249730900688896*k1*v30 - 102818012237548828124995584*k1*v31 - 2673268318176269531249885184*k1*v32 - 16039609909057617187499311104*k1*v33 - 64158439636230468749997244416*k1*v34 - 1673465967178344726562428125184*k1*v35 - 10040795803070068359374568751104*k1*v36 - 40163183212280273437498275004416*k1*v37 - 261060690879821777343738787528704*k1*v38 - 1044242763519287109374955150114816*k1*v39 - 71874816*k1*v4 - 6265456581115722656249730900688896*k1*v40 - 653699316895008087158175048828125184*k1*v41 - 3922195901370048522949050292968751104*k1*v42 - 15688783605480194091796201171875004416*k1*v43 - 101977093435621261596675307617187528704*k1*v44 - 407908373742485046386701230468750114816*k1*v45 - 2447450242454910278320207382812500688896*k1*v46 - 63837660490698909759518742568359392968704*k1*v47 - 255350641962795639038074970273437571874816*k1*v48 - 1532103851776773834228449821640625431248896*k1*v49 - 431248896*k1*v5 - 39834700146196119689939695362656261212471296*k1*v50 - 164245184998923602755584*k1*v51 - 25061826324462890624998923602755584*k1*v52 - 9789800969819641113280829531250002755584*k1*v53 - 6128415407107095336913799286562501724995584*k1*v54 - 159338800584784478759758781450625044849885184*k1*v55 - 956032803508706872558552688703750269099311104*k1*v56 - 3824131214034827490234210754815001076397244416*k1*v57 - 11212471296*k1*v6 - 28076171874816*k1*v7 - 168457031248896*k1*v8 - 4379882812471296*k1*v9 + 138*k1 + 2116*k2**2 + 8464*k2*k3 + 16928*k2*k4 + 33856*k2*k5 + 67712*k2*k6 - 368*k2*u1 - 2208*k2*u2 - 57408*k2*u3 - 35937408*k2*u4 - 14038085937408*k2*u5 - 2142041921615600585937408*k2*u6 - 8832*k2*v1 - 5483613281214062592*k2*v10 - 8568167686462402343749632*k2*v11 - 51409006118774414062497792*k2*v12 - 1336634159088134765624942592*k2*v13 - 836732983589172363281214062592*k2*v14 - 326849658447504043579087524414062592*k2*v15 - 5511168*k2*v16 - 3449991168*k2*v17 - 89699770368*k2*v18 - 538198622208*k2*v19 - 229632*k2*v2 - 2152794488832*k2*v20 - 1347656249991168*k2*v21 - 35039062499770368*k2*v22 - 210234374998622208*k2*v23 - 840937499994488832*k2*v24 - 21934453124856250368*k2*v25 - 131606718749137502208*k2*v26 - 526426874996550008832*k2*v27 - 3421774687477575057408*k2*v28 - 13687098749910300229632*k2*v29 - 1377792*k2*v3 - 82122592499461801377792*k2*v30 - 205636024475097656249991168*k2*v31 - 5346536636352539062499770368*k2*v32 - 32079219818115234374998622208*k2*v33 - 128316879272460937499994488832*k2*v34 - 3346931934356689453124856250368*k2*v35 - 20081591606140136718749137502208*k2*v36 - 80326366424560546874996550008832*k2*v37 - 522121381759643554687477575057408*k2*v38 - 2088485527038574218749910300229632*k2*v39 - 143749632*k2*v4 - 12530913162231445312499461801377792*k2*v40 - 1307398633790016174316350097656250368*k2*v41 - 7844391802740097045898100585937502208*k2*v42 - 31377567210960388183592402343750008832*k2*v43 - 203954186871242523193350615234375057408*k2*v44 - 815816747484970092773402460937500229632*k2*v45 - 4894900484909820556640414765625001377792*k2*v46 - 127675320981397819519037485136718785937408*k2*v47 - 510701283925591278076149940546875143749632*k2*v48 - 3064207703553547668456899643281250862497792*k2*v49 - 862497792*k2*v5 - 79669400292392239379879390725312522424942592*k2*v50 - 328490369997847205511168*k2*v51 - 50123652648925781249997847205511168*k2*v52 - 19579601939639282226561659062500005511168*k2*v53 - 12256830814214190673827598573125003449991168*k2*v54 - 318677601169568957519517562901250089699770368*k2*v55 - 1912065607017413745117105377407500538198622208*k2*v56 - 7648262428069654980468421509630002152794488832*k2*v57 - 22424942592*k2*v6 - 56152343749632*k2*v7 - 336914062497792*k2*v8 - 8759765624942592*k2*v9 + 276*k2 + 8464*k3**2 + 33856*k3*k4 + 67712*k3*k5 + 135424*k3*k6 - 736*k3*u1 - 4416*k3*u2 - 114816*k3*u3 - 71874816*k3*u4 - 28076171874816*k3*u5 - 4284083843231201171874816*k3*u6 - 17664*k3*v1 - 10967226562428125184*k3*v10 - 17136335372924804687499264*k3*v11 - 102818012237548828124995584*k3*v12 - 2673268318176269531249885184*k3*v13 - 1673465967178344726562428125184*k3*v14 - 653699316895008087158175048828125184*k3*v15 - 11022336*k3*v16 - 6899982336*k3*v17 - 179399540736*k3*v18 - 1076397244416*k3*v19 - 459264*k3*v2 - 4305588977664*k3*v20 - 2695312499982336*k3*v21 - 70078124999540736*k3*v22 - 420468749997244416*k3*v23 - 1681874999988977664*k3*v24 - 43868906249712500736*k3*v25 - 263213437498275004416*k3*v26 - 1052853749993100017664*k3*v27 - 6843549374955150114816*k3*v28 - 27374197499820600459264*k3*v29 - 2755584*k3*v3 - 164245184998923602755584*k3*v30 - 411272048950195312499982336*k3*v31 - 10693073272705078124999540736*k3*v32 - 64158439636230468749997244416*k3*v33 - 256633758544921874999988977664*k3*v34 - 6693863868713378906249712500736*k3*v35 - 40163183212280273437498275004416*k3*v36 - 160652732849121093749993100017664*k3*v37 - 1044242763519287109374955150114816*k3*v38 - 4176971054077148437499820600459264*k3*v39 - 287499264*k3*v4 - 25061826324462890624998923602755584*k3*v40 - 2614797267580032348632700195312500736*k3*v41 - 15688783605480194091796201171875004416*k3*v42 - 62755134421920776367184804687500017664*k3*v43 - 407908373742485046386701230468750114816*k3*v44 - 1631633494969940185546804921875000459264*k3*v45 - 9789800969819641113280829531250002755584*k3*v46 - 255350641962795639038074970273437571874816*k3*v47 - 1021402567851182556152299881093750287499264*k3*v48 - 6128415407107095336913799286562501724995584*k3*v49 - 1724995584*k3*v5 - 159338800584784478759758781450625044849885184*k3*v50 - 656980739995694411022336*k3*v51 - 100247305297851562499995694411022336*k3*v52 - 39159203879278564453123318125000011022336*k3*v53 - 24513661628428381347655197146250006899982336*k3*v54 - 637355202339137915039035125802500179399540736*k3*v55 - 3824131214034827490234210754815001076397244416*k3*v56 - 15296524856139309960936843019260004305588977664*k3*v57 - 44849885184*k3*v6 - 112304687499264*k3*v7 - 673828124995584*k3*v8 - 17519531249885184*k3*v9 + 552*k3 + 33856*k4**2 + 135424*k4*k5 + 270848*k4*k6 - 1472*k4*u1 - 8832*k4*u2 - 229632*k4*u3 - 143749632*k4*u4 - 56152343749632*k4*u5 - 8568167686462402343749632*k4*u6 - 35328*k4*v1 - 21934453124856250368*k4*v10 - 34272670745849609374998528*k4*v11 - 205636024475097656249991168*k4*v12 - 5346536636352539062499770368*k4*v13 - 3346931934356689453124856250368*k4*v14 - 1307398633790016174316350097656250368*k4*v15 - 22044672*k4*v16 - 13799964672*k4*v17 - 358799081472*k4*v18 - 2152794488832*k4*v19 - 918528*k4*v2 - 8611177955328*k4*v20 - 5390624999964672*k4*v21 - 140156249999081472*k4*v22 - 840937499994488832*k4*v23 - 3363749999977955328*k4*v24 - 87737812499425001472*k4*v25 - 526426874996550008832*k4*v26 - 2105707499986200035328*k4*v27 - 13687098749910300229632*k4*v28 - 54748394999641200918528*k4*v29 - 5511168*k4*v3 - 328490369997847205511168*k4*v30 - 822544097900390624999964672*k4*v31 - 21386146545410156249999081472*k4*v32 - 128316879272460937499994488832*k4*v33 - 513267517089843749999977955328*k4*v34 - 13387727737426757812499425001472*k4*v35 - 80326366424560546874996550008832*k4*v36 - 321305465698242187499986200035328*k4*v37 - 2088485527038574218749910300229632*k4*v38 - 8353942108154296874999641200918528*k4*v39 - 574998528*k4*v4 - 50123652648925781249997847205511168*k4*v40 - 5229594535160064697265400390625001472*k4*v41 - 31377567210960388183592402343750008832*k4*v42 - 125510268843841552734369609375000035328*k4*v43 - 815816747484970092773402460937500229632*k4*v44 - 3263266989939880371093609843750000918528*k4*v45 - 19579601939639282226561659062500005511168*k4*v46 - 510701283925591278076149940546875143749632*k4*v47 - 2042805135702365112304599762187500574998528*k4*v48 - 12256830814214190673827598573125003449991168*k4*v49 - 3449991168*k4*v5 - 318677601169568957519517562901250089699770368*k4*v50 - 1313961479991388822044672*k4*v51 - 200494610595703124999991388822044672*k4*v52 - 78318407758557128906246636250000022044672*k4*v53 - 49027323256856762695310394292500013799964672*k4*v54 - 1274710404678275830078070251605000358799081472*k4*v55 - 7648262428069654980468421509630002152794488832*k4*v56 - 30593049712278619921873686038520008611177955328*k4*v57 - 89699770368*k4*v6 - 224609374998528*k4*v7 - 1347656249991168*k4*v8 - 35039062499770368*k4*v9 + 1104*k4 + 135424*k5**2 + 541696*k5*k6 - 2944*k5*u1 - 17664*k5*u2 - 459264*k5*u3 - 287499264*k5*u4 - 112304687499264*k5*u5 - 17136335372924804687499264*k5*u6 - 70656*k5*v1 - 43868906249712500736*k5*v10 - 68545341491699218749997056*k5*v11 - 411272048950195312499982336*k5*v12 - 10693073272705078124999540736*k5*v13 - 6693863868713378906249712500736*k5*v14 - 2614797267580032348632700195312500736*k5*v15 - 44089344*k5*v16 - 27599929344*k5*v17 - 717598162944*k5*v18 - 4305588977664*k5*v19 - 1837056*k5*v2 - 17222355910656*k5*v20 - 10781249999929344*k5*v21 - 280312499998162944*k5*v22 - 1681874999988977664*k5*v23 - 6727499999955910656*k5*v24 - 175475624998850002944*k5*v25 - 1052853749993100017664*k5*v26 - 4211414999972400070656*k5*v27 - 27374197499820600459264*k5*v28 - 109496789999282401837056*k5*v29 - 11022336*k5*v3 - 656980739995694411022336*k5*v30 - 1645088195800781249999929344*k5*v31 - 42772293090820312499998162944*k5*v32 - 256633758544921874999988977664*k5*v33 - 1026535034179687499999955910656*k5*v34 - 26775455474853515624998850002944*k5*v35 - 160652732849121093749993100017664*k5*v36 - 642610931396484374999972400070656*k5*v37 - 4176971054077148437499820600459264*k5*v38 - 16707884216308593749999282401837056*k5*v39 - 1149997056*k5*v4 - 100247305297851562499995694411022336*k5*v40 - 10459189070320129394530800781250002944*k5*v41 - 62755134421920776367184804687500017664*k5*v42 - 251020537687683105468739218750000070656*k5*v43 - 1631633494969940185546804921875000459264*k5*v44 - 6526533979879760742187219687500001837056*k5*v45 - 39159203879278564453123318125000011022336*k5*v46 - 1021402567851182556152299881093750287499264*k5*v47 - 4085610271404730224609199524375001149997056*k5*v48 - 24513661628428381347655197146250006899982336*k5*v49 - 6899982336*k5*v5 - 637355202339137915039035125802500179399540736*k5*v50 - 2627922959982777644089344*k5*v51 - 400989221191406249999982777644089344*k5*v52 - 156636815517114257812493272500000044089344*k5*v53 - 98054646513713525390620788585000027599929344*k5*v54 - 2549420809356551660156140503210000717598162944*k5*v55 - 15296524856139309960936843019260004305588977664*k5*v56 - 61186099424557239843747372077040017222355910656*k5*v57 - 179399540736*k5*v6 - 449218749997056*k5*v7 - 2695312499982336*k5*v8 - 70078124999540736*k5*v9 + 2208*k5 + 541696*k6**2 - 5888*k6*u1 - 35328*k6*u2 - 918528*k6*u3 - 574998528*k6*u4 - 224609374998528*k6*u5 - 34272670745849609374998528*k6*u6 - 141312*k6*v1 - 87737812499425001472*k6*v10 - 137090682983398437499994112*k6*v11 - 822544097900390624999964672*k6*v12 - 21386146545410156249999081472*k6*v13 - 13387727737426757812499425001472*k6*v14 - 5229594535160064697265400390625001472*k6*v15 - 88178688*k6*v16 - 55199858688*k6*v17 - 1435196325888*k6*v18 - 8611177955328*k6*v19 - 3674112*k6*v2 - 34444711821312*k6*v20 - 21562499999858688*k6*v21 - 560624999996325888*k6*v22 - 3363749999977955328*k6*v23 - 13454999999911821312*k6*v24 - 350951249997700005888*k6*v25 - 2105707499986200035328*k6*v26 - 8422829999944800141312*k6*v27 - 54748394999641200918528*k6*v28 - 218993579998564803674112*k6*v29 - 22044672*k6*v3 - 1313961479991388822044672*k6*v30 - 3290176391601562499999858688*k6*v31 - 85544586181640624999996325888*k6*v32 - 513267517089843749999977955328*k6*v33 - 2053070068359374999999911821312*k6*v34 - 53550910949707031249997700005888*k6*v35 - 321305465698242187499986200035328*k6*v36 - 1285221862792968749999944800141312*k6*v37 - 8353942108154296874999641200918528*k6*v38 - 33415768432617187499998564803674112*k6*v39 - 2299994112*k6*v4 - 200494610595703124999991388822044672*k6*v40 - 20918378140640258789061601562500005888*k6*v41 - 125510268843841552734369609375000035328*k6*v42 - 502041075375366210937478437500000141312*k6*v43 - 3263266989939880371093609843750000918528*k6*v44 - 13053067959759521484374439375000003674112*k6*v45 - 78318407758557128906246636250000022044672*k6*v46 - 2042805135702365112304599762187500574998528*k6*v47 - 8171220542809460449218399048750002299994112*k6*v48 - 49027323256856762695310394292500013799964672*k6*v49 - 13799964672*k6*v5 - 1274710404678275830078070251605000358799081472*k6*v50 - 5255845919965555288178688*k6*v51 - 801978442382812499999965555288178688*k6*v52 - 313273631034228515624986545000000088178688*k6*v53 - 196109293027427050781241577170000055199858688*k6*v54 - 5098841618713103320312281006420001435196325888*k6*v55 - 30593049712278619921873686038520008611177955328*k6*v56 - 122372198849114479687494744154080034444711821312*k6*v57 - 358799081472*k6*v6 - 898437499994112*k6*v7 - 5390624999964672*k6*v8 - 140156249999081472*k6*v9 + 4416*k6 + 16*u1**2 + 192*u1*u2 + 4992*u1*u3 + 3124992*u1*u4 + 1220703124992*u1*u5 + 186264514923095703124992*u1*u6 + 768*u1*v1 + 476835937496875008*u1*v10 + 745058059692382812499968*u1*v11 + 4470348358154296874999808*u1*v12 + 116229057312011718749995008*u1*v13 + 72759389877319335937496875008*u1*v14 + 28421709430217742919920654296875008*u1*v15 + 479232*u1*v16 + 299999232*u1*v17 + 7799980032*u1*v18 + 46799880192*u1*v19 + 19968*u1*v2 + 187199520768*u1*v20 + 117187499999232*u1*v21 + 3046874999980032*u1*v22 + 18281249999880192*u1*v23 + 73124999999520768*u1*v24 + 1907343749987500032*u1*v25 + 11444062499925000192*u1*v26 + 45776249999700000768*u1*v27 + 297545624998050004992*u1*v28 + 1190182499992200019968*u1*v29 + 119808*u1*v3 + 7141094999953200119808*u1*v30 + 17881393432617187499999232*u1*v31 + 464916229248046874999980032*u1*v32 + 2789497375488281249999880192*u1*v33 + 11157989501953124999999520768*u1*v34 + 291037559509277343749987500032*u1*v35 + 1746225357055664062499925000192*u1*v36 + 6984901428222656249999700000768*u1*v37 + 45401859283447265624998050004992*u1*v38 + 181607437133789062499992200019968*u1*v39 + 12499968*u1*v4 + 1089644622802734374999953200119808*u1*v40 + 113686837720870971679682617187500032*u1*v41 + 682121026325225830078095703125000192*u1*v42 + 2728484105300903320312382812500000768*u1*v43 + 17735146684455871582030488281250004992*u1*v44 + 70940586737823486328121953125000019968*u1*v45 + 425643520426940917968731718750000119808*u1*v46 + 11102201824469375610351085664062503124992*u1*v47 + 44408807297877502441404342656250012499968*u1*v48 + 266452843787265014648426055937500074999808*u1*v49 + 74999808*u1*v5 + 6927773938468890380859077454375001949995008*u1*v50 + 28564379999812800479232*u1*v51 + 4358578491210937499999812800479232*u1*v52 + 1702574081707763671874926875000000479232*u1*v53 + 1065811375149060058593704223750000299999232*u1*v54 + 27711095753875561523436309817500007799980032*u1*v55 + 166266574523253369140617858905000046799880192*u1*v56 + 665066298093013476562471435620000187199520768*u1*v57 + 1949995008*u1*v6 + 4882812499968*u1*v7 + 29296874999808*u1*v8 + 761718749995008*u1*v9 - 24*u1 + 576*u2**2 + 29952*u2*u3 + 18749952*u2*u4 + 7324218749952*u2*u5 + 1117587089538574218749952*u2*u6 + 4608*u2*v1 + 2861015624981250048*u2*v10 + 4470348358154296874999808*u2*v11 + 26822090148925781249998848*u2*v12 + 697374343872070312499970048*u2*v13 + 436556339263916015624981250048*u2*v14 + 170530256581306457519523925781250048*u2*v15 + 2875392*u2*v16 + 1799995392*u2*v17 + 46799880192*u2*v18 + 280799281152*u2*v19 + 119808*u2*v2 + 1123197124608*u2*v20 + 703124999995392*u2*v21 + 18281249999880192*u2*v22 + 109687499999281152*u2*v23 + 438749999997124608*u2*v24 + 11444062499925000192*u2*v25 + 68664374999550001152*u2*v26 + 274657499998200004608*u2*v27 + 1785273749988300029952*u2*v28 + 7141094999953200119808*u2*v29 + 718848*u2*v3 + 42846569999719200718848*u2*v30 + 107288360595703124999995392*u2*v31 + 2789497375488281249999880192*u2*v32 + 16736984252929687499999281152*u2*v33 + 66947937011718749999997124608*u2*v34 + 1746225357055664062499925000192*u2*v35 + 10477352142333984374999550001152*u2*v36 + 41909408569335937499998200004608*u2*v37 + 272411155700683593749988300029952*u2*v38 + 1089644622802734374999953200119808*u2*v39 + 74999808*u2*v4 + 6537867736816406249999719200718848*u2*v40 + 682121026325225830078095703125000192*u2*v41 + 4092726157951354980468574218750001152*u2*v42 + 16370904631805419921874296875000004608*u2*v43 + 106410880106735229492182929687500029952*u2*v44 + 425643520426940917968731718750000119808*u2*v45 + 2553861122561645507812390312500000718848*u2*v46 + 66613210946816253662106513984375018749952*u2*v47 + 266452843787265014648426055937500074999808*u2*v48 + 1598717062723590087890556335625000449998848*u2*v49 + 449998848*u2*v5 + 41566643630813342285154464726250011699970048*u2*v50 + 171386279998876802875392*u2*v51 + 26151470947265624999998876802875392*u2*v52 + 10215444490246582031249561250000002875392*u2*v53 + 6394868250894360351562225342500001799995392*u2*v54 + 166266574523253369140617858905000046799880192*u2*v55 + 997599447139520214843707153430000280799281152*u2*v56 + 3990397788558080859374828613720001123197124608*u2*v57 + 11699970048*u2*v6 + 29296874999808*u2*v7 + 175781249998848*u2*v8 + 4570312499970048*u2*v9 - 144*u2 + 389376*u3**2 + 487498752*u3*u4 + 190429687498752*u3*u5 + 29057264328002929687498752*u3*u6 + 119808*u3*v1 + 74386406249512501248*u3*v10 + 116229057312011718749995008*u3*v11 + 697374343872070312499970048*u3*v12 + 18131732940673828124999221248*u3*v13 + 11350464820861816406249512501248*u3*v14 + 4433786671113967895507622070312501248*u3*v15 + 74760192*u3*v16 + 46799880192*u3*v17 + 1216796884992*u3*v18 + 7300781309952*u3*v19 + 3115008*u3*v2 + 29203125239808*u3*v20 + 18281249999880192*u3*v21 + 475312499996884992*u3*v22 + 2851874999981309952*u3*v23 + 11407499999925239808*u3*v24 + 297545624998050004992*u3*v25 + 1785273749988300029952*u3*v26 + 7141094999953200119808*u3*v27 + 46417117499695800778752*u3*v28 + 185668469998783203115008*u3*v29 + 18690048*u3*v3 + 1114010819992699218690048*u3*v30 + 2789497375488281249999880192*u3*v31 + 72526931762695312499996884992*u3*v32 + 435161590576171874999981309952*u3*v33 + 1740646362304687499999925239808*u3*v34 + 45401859283447265624998050004992*u3*v35 + 272411155700683593749988300029952*u3*v36 + 1089644622802734374999953200119808*u3*v37 + 7082690048217773437499695800778752*u3*v38 + 28330760192871093749998783203115008*u3*v39 + 1949995008*u3*v4 + 169984561157226562499992699218690048*u3*v40 + 17735146684455871582030488281250004992*u3*v41 + 106410880106735229492182929687500029952*u3*v42 + 425643520426940917968731718750000119808*u3*v43 + 2766682882775115966796756171875000778752*u3*v44 + 11066731531100463867187024687500003115008*u3*v45 + 66400389186602783203122148125000018690048*u3*v46 + 1731943484617222595214769363593750487498752*u3*v47 + 6927773938468890380859077454375001949995008*u3*v48 + 41566643630813342285154464726250011699970048*u3*v49 + 11699970048*u3*v5 + 1080732734401146899414016082882500304199221248*u3*v50 + 4456043279970796874760192*u3*v51 + 679938244628906249999970796874760192*u3*v52 + 265601556746411132812488592500000074760192*u3*v53 + 166266574523253369140617858905000046799880192*u3*v54 + 4322930937604587597656064331530001216796884992*u3*v55 + 25937585625627525585936385989180007300781309952*u3*v56 + 103750342502510102343745543956720029203125239808*u3*v57 + 304199221248*u3*v6 + 761718749995008*u3*v7 + 4570312499970048*u3*v8 + 118828124999221248*u3*v9 - 3744*u3 + 152587109376*u4**2 + 119208984374218752*u4*u5 + 18189847469329833984374218752*u4*u6 + 74999808*u4*v1 + 46565890312194825781248*u4*v10 + 72759389877319335937496875008*u4*v11 + 436556339263916015624981250048*u4*v12 + 11350464820861816406249512501248*u4*v13 + 7105390977859497070312194825781248*u4*v14 + 2775550456117343902587771416015625781248*u4*v15 + 46799880192*u4*v16 + 29296725000192*u4*v17 + 761714850004992*u4*v18 + 4570289100029952*u4*v19 + 1949995008*u4*v2 + 18281156400119808*u4*v20 + 11444062499925000192*u4*v21 + 297545624998050004992*u4*v22 + 1785273749988300029952*u4*v23 + 7141094999953200119808*u4*v24 + 186263561248779303124992*u4*v25 + 1117581367492675818749952*u4*v26 + 4470325469970703274999808*u4*v27 + 29057115554809571287498752*u4*v28 + 116228462219238285149995008*u4*v29 + 11699970048*u4*v3 + 697370773315429710899970048*u4*v30 + 1746225357055664062499925000192*u4*v31 + 45401859283447265624998050004992*u4*v32 + 272411155700683593749988300029952*u4*v33 + 1089644622802734374999953200119808*u4*v34 + 28421563911437988281248779303124992*u4*v35 + 170529383468627929687492675818749952*u4*v36 + 682117533874511718749970703274999808*u4*v37 + 4433763970184326171874809571287498752*u4*v38 + 17735055880737304687499238285149995008*u4*v39 + 1220696875008*u4*v4 + 106410335284423828124995429710899970048*u4*v40 + 11102201824469375610351085664062503124992*u4*v41 + 66613210946816253662106513984375018749952*u4*v42 + 266452843787265014648426055937500074999808*u4*v43 + 1731943484617222595214769363593750487498752*u4*v44 + 6927773938468890380859077454375001949995008*u4*v45 + 41566643630813342285154464726250011699970048*u4*v46 + 1084196621370381344604445621609687805174218752*u4*v47 + 4336786485481525378417782486438751220696875008*u4*v48 + 26020718912889152270506694918632507324181250048*u4*v49 + 7324181250048*u4*v5 + 676538691735117959033174067884445190428712501248*u4*v50 + 2789483093261718843599880192*u4*v51 + 425641341137695312499981718843599880192*u4*v52 + 166266574523253369140617858905000046799880192*u4*v53 + 104082875651556609082026779674530029296725000192*u4*v54 + 2706154766940471836132696271537780761714850004992*u4*v55 + 16236928601642831016796177629226684570289100029952*u4*v56 + 64947714406571324067184710516906738281156400119808*u4*v57 + 190428712501248*u4*v6 + 476835937496875008*u4*v7 + 2861015624981250048*u4*v8 + 74386406249512501248*u4*v9 - 2343744*u4 + 23283064365081787109376*u5**2 + 7105427357554435729980163574218752*u5*u6 + 29296874999808*u5*v1 + 18189847469091416015625781248*u5*v10 + 28421709430217742919920654296875008*u5*v11 + 170530256581306457519523925781250048*u5*v12 + 4433786671113967895507622070312501248*u5*v13 + 2775550456117343902587771416015625781248*u5*v14 + 1084202172471293579292250797152519836425781248*u5*v15 + 18281249999880192*u5*v16 + 11444062499925000192*u5*v17 + 297545624998050004992*u5*v18 + 1785273749988300029952*u5*v19 + 761718749995008*u5*v2 + 7141094999953200119808*u5*v20 + 4470348358095703125000192*u5*v21 + 116229057310488281250004992*u5*v22 + 697374343862929687500029952*u5*v23 + 2789497375451718750000119808*u5*v24 + 72759389876365664062503124992*u5*v25 + 436556339258193984375018749952*u5*v26 + 1746225357032775937500074999808*u5*v27 + 11350464820713043593750487498752*u5*v28 + 45401859282852174375001949995008*u5*v29 + 4570312499970048*u5*v3 + 272411155697113046250011699970048*u5*v30 + 682121026325225830078095703125000192*u5*v31 + 17735146684455871582030488281250004992*u5*v32 + 106410880106735229492182929687500029952*u5*v33 + 425643520426940917968731718750000119808*u5*v34 + 11102201824469375610351085664062503124992*u5*v35 + 66613210946816253662106513984375018749952*u5*v36 + 266452843787265014648426055937500074999808*u5*v37 + 1731943484617222595214769363593750487498752*u5*v38 + 6927773938468890380859077454375001949995008*u5*v39 + 476835937496875008*u5*v4 + 41566643630813342285154464726250011699970048*u5*v40 + 4336808689885174317169003188610079345703124992*u5*v41 + 26020852139311045903014019131660476074218749952*u5*v42 + 104083408557244183612056076526641904296874999808*u5*v43 + 676542155622087193478364497423172377929687498752*u5*v44 + 2706168622488348773913457989692689511718749995008*u5*v45 + 16237011734930092643480747938156137070312499970048*u5*v46 + 423515389419426583117456175386905908583984374218752*u5*v47 + 1694061557677706332469824701547623634335937496875008*u5*v48 + 10164369346066237994818948209285741806015624981250048*u5*v49 + 2861015624981250048*u5*v5 + 264273602997722187865292653441429286956406249512501248*u5*v50 + 1089644622788452185000046799880192*u5*v51 + 166266574523253369140617858905000046799880192*u5*v52 + 64948046939720370573922991752624548281249999880192*u5*v53 + 40657477384264951979275792837142967224062499925000192*u5*v54 + 1057094411990888751461170613765717147825624998050004992*u5*v55 + 6342566471945332508767023682594302886953749988300029952*u5*v56 + 25370265887781330035068094730377211547814999953200119808*u5*v57 + 74386406249512501248*u5*v6 + 186264514920654296875008*u5*v7 + 1117587089523925781250048*u5*v8 + 29057264327622070312501248*u5*v9 - 915527343744*u5 + 542101086242752217003679834306240081787109376*u6**2 + 4470348358154296874999808*u6*v1 + 2775550456117343902587771416015625781248*u6*v10 + 4336808689942017736029438674449920654296875008*u6*v11 + 26020852139652106416176632046699523925781250048*u6*v12 + 676542155630954766820592433214187622070312501248*u6*v13 + 423515389424977684029690863192081451416015625781248*u6*v14 + 165436122509521332801782023125270009040832519836425781248*u6*v15 + 2789497375488281249999880192*u6*v16 + 1746225357055664062499925000192*u6*v17 + 45401859283447265624998050004992*u6*v18 + 272411155700683593749988300029952*u6*v19 + 116229057312011718749995008*u6*v2 + 1089644622802734374999953200119808*u6*v20 + 682121026325225830078095703125000192*u6*v21 + 17735146684455871582030488281250004992*u6*v22 + 106410880106735229492182929687500029952*u6*v23 + 425643520426940917968731718750000119808*u6*v24 + 11102201824469375610351085664062503124992*u6*v25 + 66613210946816253662106513984375018749952*u6*v26 + 266452843787265014648426055937500074999808*u6*v27 + 1731943484617222595214769363593750487498752*u6*v28 + 6927773938468890380859077454375001949995008*u6*v29 + 697374343872070312499970048*u6*v3 + 41566643630813342285154464726250011699970048*u6*v30 + 104083408558608425664706528186798095703125000192*u6*v31 + 2706168622523819067282369732856750488281250004992*u6*v32 + 16237011735142914403694218397140502929687500029952*u6*v33 + 64948046940571657614776873588562011718750000119808*u6*v34 + 1694061557699910736118763452768325805664062503124992*u6*v35 + 10164369346199464416712580716609954833984375018749952*u6*v36 + 40657477384797857666850322866439819335937500074999808*u6*v37 + 264273603001186074834527098631858825683593750487498752*u6*v38 + 1057094412004744299338108394527435302734375001949995008*u6*v39 + 72759389877319335937496875008*u6*v4 + 6342566472028465796028650367164611816406250011699970048*u6*v40 + 661744490038085331207128092501080036163330079345703124992*u6*v41 + 3970466940228511987242768555006480216979980476074218749952*u6*v42 + 15881867760914047948971074220025920867919921904296874999808*u6*v43 + 103232140445941311668311982430168485641479492377929687498752*u6*v44 + 412928561783765246673247929720673942565917969511718749995008*u6*v45 + 2477571370702591480039487578324043655395507817070312499970048*u6*v46 + 64623319919159261104363301001285472011566162228583984374218752*u6*v47 + 258493279676637044417453204005141888046264648914335937496875008*u6*v48 + 1550959678059822266504719224030851328277587893486015624981250048*u6*v49 + 436556339263916015624981250048*u6*v5 + 40324951629555378929122699824802134535217285230636406249512501248*u6*v50 + 166266574523253369140617858905000046799880192*u6*v51 + 25370265888113863184114601468658447265625000046799880192*u6*v52 + 9910285482810365920157950313296174621582031268281249999880192*u6*v53 + 6203838712239289066018876896123405313110351573944062499925000192*u6*v54 + 161299806518221515716490799299208538140869140922545624998050004992*u6*v55 + 967798839109329094298944795795251228845214845535273749988300029952*u6*v56 + 3871195356437316377195779183181004915380859382141094999953200119808*u6*v57 + 11350464820861816406249512501248*u6*v6 + 28421709430217742919920654296875008*u6*v7 + 170530256581306457519523925781250048*u6*v8 + 4433786671113967895507622070312501248*u6*v9 - 139698386192321777343744*u6 + 9216*v1**2 + 11444062499925000192*v1*v10 + 17881393432617187499999232*v1*v11 + 107288360595703124999995392*v1*v12 + 2789497375488281249999880192*v1*v13 + 1746225357055664062499925000192*v1*v14 + 682121026325225830078095703125000192*v1*v15 + 11501568*v1*v16 + 7199981568*v1*v17 + 187199520768*v1*v18 + 1123197124608*v1*v19 + 479232*v1*v2 + 4492788498432*v1*v20 + 2812499999981568*v1*v21 + 73124999999520768*v1*v22 + 438749999997124608*v1*v23 + 1754999999988498432*v1*v24 + 45776249999700000768*v1*v25 + 274657499998200004608*v1*v26 + 1098629999992800018432*v1*v27 + 7141094999953200119808*v1*v28 + 28564379999812800479232*v1*v29 + 2875392*v1*v3 + 171386279998876802875392*v1*v30 + 429153442382812499999981568*v1*v31 + 11157989501953124999999520768*v1*v32 + 66947937011718749999997124608*v1*v33 + 267791748046874999999988498432*v1*v34 + 6984901428222656249999700000768*v1*v35 + 41909408569335937499998200004608*v1*v36 + 167637634277343749999992800018432*v1*v37 + 1089644622802734374999953200119808*v1*v38 + 4358578491210937499999812800479232*v1*v39 + 299999232*v1*v4 + 26151470947265624999998876802875392*v1*v40 + 2728484105300903320312382812500000768*v1*v41 + 16370904631805419921874296875000004608*v1*v42 + 65483618527221679687497187500000018432*v1*v43 + 425643520426940917968731718750000119808*v1*v44 + 1702574081707763671874926875000000479232*v1*v45 + 10215444490246582031249561250000002875392*v1*v46 + 266452843787265014648426055937500074999808*v1*v47 + 1065811375149060058593704223750000299999232*v1*v48 + 6394868250894360351562225342500001799995392*v1*v49 + 1799995392*v1*v5 + 166266574523253369140617858905000046799880192*v1*v50 + 685545119995507211501568*v1*v51 + 104605883789062499999995507211501568*v1*v52 + 40861777960986328124998245000000011501568*v1*v53 + 25579473003577441406248901370000007199981568*v1*v54 + 665066298093013476562471435620000187199520768*v1*v55 + 3990397788558080859374828613720001123197124608*v1*v56 + 15961591154232323437499314454880004492788498432*v1*v57 + 46799880192*v1*v6 + 117187499999232*v1*v7 + 703124999995392*v1*v8 + 18281249999880192*v1*v9 - 576*v1 + 3552695488883182644843902587109376*v10**2 + 11102201824469375610351085664062503124992*v10*v11 + 66613210946816253662106513984375018749952*v10*v12 + 1731943484617222595214769363593750487498752*v10*v13 + 1084196621370381344604445621609687805174218752*v10*v14 + 423515389419426583117456175386905908583984374218752*v10*v15 + 7141094999953200119808*v10*v16 + 4470325469970703274999808*v10*v17 + 116228462219238285149995008*v10*v18 + 697370773315429710899970048*v10*v19 + 297545624998050004992*v10*v2 + 2789483093261718843599880192*v10*v20 + 1746225357032775937500074999808*v10*v21 + 45401859282852174375001949995008*v10*v22 + 272411155697113046250011699970048*v10*v23 + 1089644622788452185000046799880192*v10*v24 + 28421563911065461158751220696875008*v10*v25 + 170529383466392766952507324181250048*v10*v26 + 682117533865571067810029296725000192*v10*v27 + 4433763970126211940765190428712501248*v10*v28 + 17735055880504847763060761714850004992*v10*v29 + 1785273749988300029952*v10*v3 + 106410335283029086578364570289100029952*v10*v30 + 266452843787265014648426055937500074999808*v10*v31 + 6927773938468890380859077454375001949995008*v10*v32 + 41566643630813342285154464726250011699970048*v10*v33 + 166266574523253369140617858905000046799880192*v10*v34 + 4336786485481525378417782486438751220696875008*v10*v35 + 26020718912889152270506694918632507324181250048*v10*v36 + 104082875651556609082026779674530029296725000192*v10*v37 + 676538691735117959033174067884445190428712501248*v10*v38 + 2706154766940471836132696271537780761714850004992*v10*v39 + 186263561248779303124992*v10*v4 + 16236928601642831016796177629226684570289100029952*v10*v40 + 1694061557677706332469824701547623634335937496875008*v10*v41 + 10164369346066237994818948209285741806015624981250048*v10*v42 + 40657477384264951979275792837142967224062499925000192*v10*v43 + 264273602997722187865292653441429286956406249512501248*v10*v44 + 1057094411990888751461170613765717147825624998050004992*v10*v45 + 6342566471945332508767023682594302886953749988300029952*v10*v46 + 165435275476574089603673201054334733634710312194825781248*v10*v47 + 661741101906296358414692804217338934538841248779303124992*v10*v48 + 3970446611437778150488156825304033607233047492675818749952*v10*v49 + 1117581367492675818749952*v10*v5 + 103231611897382231912692077457904873788059234809571287498752*v10*v50 + 425641341132116346313458281156400119808*v10*v51 + 64947714406571324067184710516906738281156400119808*v10*v52 + 25370265887781330035068094730377211547814999953200119808*v10*v53 + 15881786445751112601952627301216134428932189970703274999808*v10*v54 + 412926447589528927650768309831619495152236939238285149995008*v10*v55 + 2477558685537173565904609858989716970913421635429710899970048*v10*v56 + 9910234742148694263618439435958867883653686541718843599880192*v10*v57 + 29057115554809571287498752*v10*v6 + 72759389876365664062503124992*v10*v7 + 436556339258193984375018749952*v10*v8 + 11350464820713043593750487498752*v10*v9 - 357626953122656256*v10 + 8673617379884035472058877348899841308593750016*v11**2 + 104083408558608425664706528186798095703125000192*v11*v12 + 2706168622523819067282369732856750488281250004992*v11*v13 + 1694061557699910736118763452768325805664062503124992*v11*v14 + 661744490038085331207128092501080036163330079345703124992*v11*v15 + 11157989501953124999999520768*v11*v16 + 6984901428222656249999700000768*v11*v17 + 181607437133789062499992200019968*v11*v18 + 1089644622802734374999953200119808*v11*v19 + 464916229248046874999980032*v11*v2 + 4358578491210937499999812800479232*v11*v20 + 2728484105300903320312382812500000768*v11*v21 + 70940586737823486328121953125000019968*v11*v22 + 425643520426940917968731718750000119808*v11*v23 + 1702574081707763671874926875000000479232*v11*v24 + 44408807297877502441404342656250012499968*v11*v25 + 266452843787265014648426055937500074999808*v11*v26 + 1065811375149060058593704223750000299999232*v11*v27 + 6927773938468890380859077454375001949995008*v11*v28 + 27711095753875561523436309817500007799980032*v11*v29 + 2789497375488281249999880192*v11*v3 + 166266574523253369140617858905000046799880192*v11*v30 + 416333634234433702658826112747192382812500000768*v11*v31 + 10824674490095276269129478931427001953125000019968*v11*v32 + 64948046940571657614776873588562011718750000119808*v11*v33 + 259792187762286630459107494354248046875000000479232*v11*v34 + 6776246230799642944475053811073303222656250012499968*v11*v35 + 40657477384797857666850322866439819335937500074999808*v11*v36 + 162629909539191430667401291465759277343750000299999232*v11*v37 + 1057094412004744299338108394527435302734375001949995008*v11*v38 + 4228377648018977197352433578109741210937500007799980032*v11*v39 + 291037559509277343749987500032*v11*v4 + 25370265888113863184114601468658447265625000046799880192*v11*v40 + 2646977960152341324828512370004320144653320317382812499968*v11*v41 + 15881867760914047948971074220025920867919921904296874999808*v11*v42 + 63527471043656191795884296880103683471679687617187499999232*v11*v43 + 412928561783765246673247929720673942565917969511718749995008*v11*v44 + 1651714247135060986692991718882695770263671878046874999980032*v11*v45 + 9910285482810365920157950313296174621582031268281249999880192*v11*v46 + 258493279676637044417453204005141888046264648914335937496875008*v11*v47 + 1033973118706548177669812816020567552185058595657343749987500032*v11*v48 + 6203838712239289066018876896123405313110351573944062499925000192*v11*v49 + 1746225357055664062499925000192*v11*v5 + 161299806518221515716490799299208538140869140922545624998050004992*v11*v50 + 665066298093013476562471435620000187199520768*v11*v51 + 101481063552455452736458405874633789062500000187199520768*v11*v52 + 39641141931241463680631801253184698486328125073124999999520768*v11*v53 + 24815354848957156264075507584493621252441406295776249999700000768*v11*v54 + 645199226072886062865963197196834152563476563690182499992200019968*v11*v55 + 3871195356437316377195779183181004915380859382141094999953200119808*v11*v56 + 15484781425749265508783116732724019661523437528564379999812800479232*v11*v57 + 45401859283447265624998050004992*v11*v6 + 113686837720870971679682617187500032*v11*v7 + 682121026325225830078095703125000192*v11*v8 + 17735146684455871582030488281250004992*v11*v9 - 558793544769287109374976*v11 + 312250225675825276994119584560394287109375000576*v12**2 + 16237011735142914403694218397140502929687500029952*v12*v13 + 10164369346199464416712580716609954833984375018749952*v12*v14 + 3970466940228511987242768555006480216979980476074218749952*v12*v15 + 66947937011718749999997124608*v12*v16 + 41909408569335937499998200004608*v12*v17 + 1089644622802734374999953200119808*v12*v18 + 6537867736816406249999719200718848*v12*v19 + 2789497375488281249999880192*v12*v2 + 26151470947265624999998876802875392*v12*v20 + 16370904631805419921874296875000004608*v12*v21 + 425643520426940917968731718750000119808*v12*v22 + 2553861122561645507812390312500000718848*v12*v23 + 10215444490246582031249561250000002875392*v12*v24 + 266452843787265014648426055937500074999808*v12*v25 + 1598717062723590087890556335625000449998848*v12*v26 + 6394868250894360351562225342500001799995392*v12*v27 + 41566643630813342285154464726250011699970048*v12*v28 + 166266574523253369140617858905000046799880192*v12*v29 + 16736984252929687499999281152*v12*v3 + 997599447139520214843707153430000280799281152*v12*v30 + 2498001805406602215952956676483154296875000004608*v12*v31 + 64948046940571657614776873588562011718750000119808*v12*v32 + 389688281643429945688661241531372070312500000718848*v12*v33 + 1558753126573719782754644966125488281250000002875392*v12*v34 + 40657477384797857666850322866439819335937500074999808*v12*v35 + 243944864308787146001101937198638916015625000449998848*v12*v36 + 975779457235148584004407748794555664062500001799995392*v12*v37 + 6342566472028465796028650367164611816406250011699970048*v12*v38 + 25370265888113863184114601468658447265625000046799880192*v12*v39 + 1746225357055664062499925000192*v12*v4 + 152221595328683179104687608811950683593750000280799281152*v12*v40 + 15881867760914047948971074220025920867919921904296874999808*v12*v41 + 95291206565484287693826445320155525207519531425781249998848*v12*v42 + 381164826261937150775305781280622100830078125703124999995392*v12*v43 + 2477571370702591480039487578324043655395507817070312499970048*v12*v44 + 9910285482810365920157950313296174621582031268281249999880192*v12*v45 + 59461712896862195520947701879777047729492187609687499999281152*v12*v46 + 1550959678059822266504719224030851328277587893486015624981250048*v12*v47 + 6203838712239289066018876896123405313110351573944062499925000192*v12*v48 + 37223032273435734396113261376740431878662109443664374999550001152*v12*v49 + 10477352142333984374999550001152*v12*v5 + 967798839109329094298944795795251228845214845535273749988300029952*v12*v50 + 3990397788558080859374828613720001123197124608*v12*v51 + 608886381314732716418750435247802734375000001123197124608*v12*v52 + 237846851587448782083790807519108190917968750438749999997124608*v12*v53 + 148892129093742937584453045506961727514648437774657499998200004608*v12*v54 + 3871195356437316377195779183181004915380859382141094999953200119808*v12*v55 + 23227172138623898263174675099086029492285156292846569999719200718848*v12*v56 + 92908688554495593052698700396344117969140625171386279998876802875392*v12*v57 + 272411155700683593749988300029952*v12*v6 + 682121026325225830078095703125000192*v12*v7 + 4092726157951354980468574218750001152*v12*v8 + 106410880106735229492182929687500029952*v12*v9 - 3352761268615722656249856*v12 + 211081152556857887248024839162826538085937500389376*v13**2 + 264273603001186074834527098631858825683593750487498752*v13*v14 + 103232140445941311668311982430168485641479492377929687498752*v13*v15 + 1740646362304687499999925239808*v13*v16 + 1089644622802734374999953200119808*v13*v17 + 28330760192871093749998783203115008*v13*v18 + 169984561157226562499992699218690048*v13*v19 + 72526931762695312499996884992*v13*v2 + 679938244628906249999970796874760192*v13*v20 + 425643520426940917968731718750000119808*v13*v21 + 11066731531100463867187024687500003115008*v13*v22 + 66400389186602783203122148125000018690048*v13*v23 + 265601556746411132812488592500000074760192*v13*v24 + 6927773938468890380859077454375001949995008*v13*v25 + 41566643630813342285154464726250011699970048*v13*v26 + 166266574523253369140617858905000046799880192*v13*v27 + 1080732734401146899414016082882500304199221248*v13*v28 + 4322930937604587597656064331530001216796884992*v13*v29 + 435161590576171874999981309952*v13*v3 + 25937585625627525585936385989180007300781309952*v13*v30 + 64948046940571657614776873588562011718750000119808*v13*v31 + 1688649220454863097984198713302612304687500003115008*v13*v32 + 10131895322729178587905192279815673828125000018690048*v13*v33 + 40527581290916714351620769119262695312500000074760192*v13*v34 + 1057094412004744299338108394527435302734375001949995008*v13*v35 + 6342566472028465796028650367164611816406250011699970048*v13*v36 + 25370265888113863184114601468658447265625000046799880192*v13*v37 + 164906728272740110696744909546279907226562500304199221248*v13*v38 + 659626913090960442786979638185119628906250001216796884992*v13*v39 + 45401859283447265624998050004992*v13*v4 + 3957761478545762656721877829110717773437500007300781309952*v13*v40 + 412928561783765246673247929720673942565917969511718749995008*v13*v41 + 2477571370702591480039487578324043655395507817070312499970048*v13*v42 + 9910285482810365920157950313296174621582031268281249999880192*v13*v43 + 64416855638267378481026677036425135040283203243828124999221248*v13*v44 + 257667422553069513924106708145700540161132812975312499996884992*v13*v45 + 1546004535318417083544640248874203240966796877851874999981309952*v13*v46 + 40324951629555378929122699824802134535217285230636406249512501248*v13*v47 + 161299806518221515716490799299208538140869140922545624998050004992*v13*v48 + 967798839109329094298944795795251228845214845535273749988300029952*v13*v49 + 272411155700683593749988300029952*v13*v5 + 25162769816842556451772564690676531949975585983917117499695800778752*v13*v50 + 103750342502510102343745543956720029203125239808*v13*v51 + 15831045914183050626887511316442871093750000029203125239808*v13*v52 + 6184018141273668334178560995496812963867187511407499999925239808*v13*v53 + 3871195356437316377195779183181004915380859382141094999953200119808*v13*v54 + 100651079267370225807090258762706127799902343935668469998783203115008*v13*v55 + 603906475604221354842541552576236766799414063614010819992699218690048*v13*v56 + 2415625902416885419370166210304947067197656254456043279970796874760192*v13*v57 + 7082690048217773437499695800778752*v13*v6 + 17735146684455871582030488281250004992*v13*v7 + 106410880106735229492182929687500029952*v13*v8 + 2766682882775115966796756171875000778752*v13*v9 - 87171792984008789062496256*v13 + 82717637739371241423206981871771812438964843902587109376*v14**2 + 64623319919159261104363301001285472011566162228583984374218752*v14*v15 + 1089644622802734374999953200119808*v14*v16 + 682117533874511718749970703274999808*v14*v17 + 17735055880737304687499238285149995008*v14*v18 + 106410335284423828124995429710899970048*v14*v19 + 45401859283447265624998050004992*v14*v2 + 425641341137695312499981718843599880192*v14*v20 + 266452843787265014648426055937500074999808*v14*v21 + 6927773938468890380859077454375001949995008*v14*v22 + 41566643630813342285154464726250011699970048*v14*v23 + 166266574523253369140617858905000046799880192*v14*v24 + 4336786485481525378417782486438751220696875008*v14*v25 + 26020718912889152270506694918632507324181250048*v14*v26 + 104082875651556609082026779674530029296725000192*v14*v27 + 676538691735117959033174067884445190428712501248*v14*v28 + 2706154766940471836132696271537780761714850004992*v14*v29 + 272411155700683593749988300029952*v14*v3 + 16236928601642831016796177629226684570289100029952*v14*v30 + 40657477384797857666850322866439819335937500074999808*v14*v31 + 1057094412004744299338108394527435302734375001949995008*v14*v32 + 6342566472028465796028650367164611816406250011699970048*v14*v33 + 25370265888113863184114601468658447265625000046799880192*v14*v34 + 661741101914969931385655854974174499511718751220696875008*v14*v35 + 3970446611489819588313935129845046997070312507324181250048*v14*v36 + 15881786445959278353255740519380187988281250029296725000192*v14*v37 + 103231611898735309296162313375971221923828125190428712501248*v14*v38 + 412926447594941237184649253503884887695312500761714850004992*v14*v39 + 28421563911437988281248779303124992*v14*v4 + 2477558685569647423107895521023309326171875004570289100029952*v14*v40 + 258493279676637044417453204005141888046264648914335937496875008*v14*v41 + 1550959678059822266504719224030851328277587893486015624981250048*v14*v42 + 6203838712239289066018876896123405313110351573944062499925000192*v14*v43 + 40324951629555378929122699824802134535217285230636406249512501248*v14*v44 + 161299806518221515716490799299208538140869140922545624998050004992*v14*v45 + 967798839109329094298944795795251228845214845535273749988300029952*v14*v46 + 25243419720101667209630810090326136219046020554378390312194825781248*v14*v47 + 100973678880406668838523240361304544876184082217513561248779303124992*v14*v48 + 605842073282440013031139442167827269257104493305081367492675818749952*v14*v49 + 170529383468627929687492675818749952*v14*v5 + 15751893905343440338809625496363509000684716825932115554809571287498752*v14*v50 + 64947714406571324067184710516906738281156400119808*v14*v51 + 9910234742278589692431582084093237304687500018281156400119808*v14*v52 + 3871195356437316377195779183181004915380859382141094999953200119808*v14*v53 + 2423368293129760052124557768671309077028417973220325469970703274999808*v14*v54 + 63007575621373761355238501985454036002738867303728462219238285149995008*v14*v55 + 378045453728242568131431011912724216016433203822370773315429710899970048*v14*v56 + 1512181814912970272525724047650896864065732815289483093261718843599880192*v14*v57 + 4433763970184326171874809571287498752*v14*v6 + 11102201824469375610351085664062503124992*v14*v7 + 66613210946816253662106513984375018749952*v14*v8 + 1731943484617222595214769363593750487498752*v14*v9 - 54569542407989501953122656256*v14 + 12621774483370752764076509408464069394995021843351423740081787109376*v15**2 + 425643520426940917968731718750000119808*v15*v16 + 266452843787265014648426055937500074999808*v15*v17 + 6927773938468890380859077454375001949995008*v15*v18 + 41566643630813342285154464726250011699970048*v15*v19 + 17735146684455871582030488281250004992*v15*v2 + 166266574523253369140617858905000046799880192*v15*v20 + 104083408557244183612056076526641904296874999808*v15*v21 + 2706168622488348773913457989692689511718749995008*v15*v22 + 16237011734930092643480747938156137070312499970048*v15*v23 + 64948046939720370573922991752624548281249999880192*v15*v24 + 1694061557677706332469824701547623634335937496875008*v15*v25 + 10164369346066237994818948209285741806015624981250048*v15*v26 + 40657477384264951979275792837142967224062499925000192*v15*v27 + 264273602997722187865292653441429286956406249512501248*v15*v28 + 1057094411990888751461170613765717147825624998050004992*v15*v29 + 106410880106735229492182929687500029952*v15*v3 + 6342566471945332508767023682594302886953749988300029952*v15*v30 + 15881867760914047948971074220025920867919921904296874999808*v15*v31 + 412928561783765246673247929720673942565917969511718749995008*v15*v32 + 2477571370702591480039487578324043655395507817070312499970048*v15*v33 + 9910285482810365920157950313296174621582031268281249999880192*v15*v34 + 258493279676637044417453204005141888046264648914335937496875008*v15*v35 + 1550959678059822266504719224030851328277587893486015624981250048*v15*v36 + 6203838712239289066018876896123405313110351573944062499925000192*v15*v37 + 40324951629555378929122699824802134535217285230636406249512501248*v15*v38 + 161299806518221515716490799299208538140869140922545624998050004992*v15*v39 + 11102201824469375610351085664062503124992*v15*v4 + 967798839109329094298944795795251228845214845535273749988300029952*v15*v40 + 100974195866966022112612075267712555159960174746811389920654296875008*v15*v41 + 605845175201796132675672451606275330959761048480868339523925781250048*v15*v42 + 2423380700807184530702689806425101323839044193923473358095703125000192*v15*v43 + 15751974555246699449567483741763158604953787260502576827622070312501248*v15*v44 + 63007898220986797798269934967052634419815149042010307310488281250004992*v15*v45 + 378047389325920786789619609802315806518890894252061843862929687500029952*v15*v46 + 9860736071584433855429244822343737286701070825074613094091416015625781248*v15*v47 + 39442944286337735421716979289374949146804283300298452376365664062503124992*v15*v48 + 236657665718026412530301875736249694880825699801790714258193984375018749952*v15*v49 + 66613210946816253662106513984375018749952*v15*v5 + 6153099308668686725787848769142492066901468194846558570713043593750487498752*v15*v50 + 25370265887781330035068094730377211547814999953200119808*v15*v51 + 3871195356437316377195779183181004915380859382141094999953200119808*v15*v52 + 1512189557303683147158478439209263226075563577008247375451718750000119808*v15*v53 + 946630662872105650121207502944998779523302799207162857032775937500074999808*v15*v54 + 24612397234674746903151395076569968267605872779386234282852174375001949995008*v15*v55 + 147674383408048481418908370459419809605635236676317405697113046250011699970048*v15*v56 + 590697533632193925675633481837679238422540946705269622788452185000046799880192*v15*v57 + 1731943484617222595214769363593750487498752*v15*v6 + 4336808689885174317169003188610079345703124992*v15*v7 + 26020852139311045903014019131660476074218749952*v15*v8 + 676542155622087193478364497423172377929687498752*v15*v9 - 21316282072663307189940490722656256*v15 + 3588489216*v16**2 + 4492788498432*v16*v17 + 116812500959232*v16*v18 + 700875005755392*v16*v19 + 299040768*v16*v2 + 2803500023021568*v16*v20 + 1754999999988498432*v16*v21 + 45629999999700959232*v16*v22 + 273779999998205755392*v16*v23 + 1095119999992823021568*v16*v24 + 28564379999812800479232*v16*v25 + 171386279998876802875392*v16*v26 + 685545119995507211501568*v16*v27 + 4456043279970796874760192*v16*v28 + 17824173119883187499040768*v16*v29 + 1794244608*v16*v3 + 106945038719299124994244608*v16*v30 + 267791748046874999999988498432*v16*v31 + 6962585449218749999999700959232*v16*v32 + 41775512695312499999998205755392*v16*v33 + 167102050781249999999992823021568*v16*v34 + 4358578491210937499999812800479232*v16*v35 + 26151470947265624999998876802875392*v16*v36 + 104605883789062499999995507211501568*v16*v37 + 679938244628906249999970796874760192*v16*v38 + 2719752978515624999999883187499040768*v16*v39 + 187199520768*v16*v4 + 16318517871093749999999299124994244608*v16*v40 + 1702574081707763671874926875000000479232*v16*v41 + 10215444490246582031249561250000002875392*v16*v42 + 40861777960986328124998245000000011501568*v16*v43 + 265601556746411132812488592500000074760192*v16*v44 + 1062406226985644531249954370000000299040768*v16*v45 + 6374437361913867187499726220000001794244608*v16*v46 + 166266574523253369140617858905000046799880192*v16*v47 + 665066298093013476562471435620000187199520768*v16*v48 + 3990397788558080859374828613720001123197124608*v16*v49 + 1123197124608*v16*v5 + 103750342502510102343745543956720029203125239808*v16*v50 + 427780154877196499976978432*v16*v51 + 65274071484374999999997196499976978432*v16*v52 + 25497749447655468749998904880000007176978432*v16*v53 + 15961591154232323437499314454880004492788498432*v16*v54 + 415001370010040409374982175826880116812500959232*v16*v55 + 2490008220060242456249893054961280700875005755392*v16*v56 + 9960032880240969824999572219845122803500023021568*v16*v57 + 29203125239808*v16*v6 + 73124999999520768*v16*v7 + 438749999997124608*v16*v8 + 11407499999925239808*v16*v9 - 359424*v16 + 1406242800009216*v17**2 + 73124625600479232*v17*v18 + 438747753602875392*v17*v19 + 187199520768*v17*v2 + 1754991014411501568*v17*v20 + 1098629999992800018432*v17*v21 + 28564379999812800479232*v17*v22 + 171386279998876802875392*v17*v23 + 685545119995507211501568*v17*v24 + 17881301879882813099999232*v17*v25 + 107287811279296878599995392*v17*v26 + 429151245117187514399981568*v17*v27 + 2789483093261718843599880192*v17*v28 + 11157932373046875374399520768*v17*v29 + 1123197124608*v17*v3 + 66947594238281252246397124608*v17*v30 + 167637634277343749999992800018432*v17*v31 + 4358578491210937499999812800479232*v17*v32 + 26151470947265624999998876802875392*v17*v33 + 104605883789062499999995507211501568*v17*v34 + 2728470135498046874999882813099999232*v17*v35 + 16370820812988281249999296878599995392*v17*v36 + 65483283251953124999997187514399981568*v17*v37 + 425641341137695312499981718843599880192*v17*v38 + 1702565364550781249999926875374399520768*v17*v39 + 117186900000768*v17*v4 + 10215392187304687499999561252246397124608*v17*v40 + 1065811375149060058593704223750000299999232*v17*v41 + 6394868250894360351562225342500001799995392*v17*v42 + 25579473003577441406248901370000007199981568*v17*v43 + 166266574523253369140617858905000046799880192*v17*v44 + 665066298093013476562471435620000187199520768*v17*v45 + 3990397788558080859374828613720001123197124608*v17*v46 + 104082875651556609082026779674530029296725000192*v17*v47 + 416331502606226436328107118698120117186900000768*v17*v48 + 2497989015637358617968642712188720703121400004608*v17*v49 + 703121400004608*v17*v5 + 64947714406571324067184710516906738281156400119808*v17*v50 + 267790376953125008985588498432*v17*v51 + 40861568749218749999998245008985588498432*v17*v52 + 15961591154232323437499314454880004492788498432*v17*v53 + 9991956062549434471874570848754882812485600018432*v17*v54 + 259790857626285296268738842067626953124625600479232*v17*v55 + 1558745145757711777612433052405761718747753602875392*v17*v56 + 6234980583030847110449732209623046874991014411501568*v17*v57 + 18281156400119808*v17*v6 + 45776249999700000768*v17*v7 + 274657499998200004608*v17*v8 + 7141094999953200119808*v17*v9 - 224999424*v17 + 950620132806230016*v18**2 + 11407441593674760192*v18*v19 + 4867187539968*v18*v2 + 45629766374699040768*v18*v20 + 28564379999812800479232*v18*v21 + 742673879995132812460032*v18*v22 + 4456043279970796874760192*v18*v23 + 17824173119883187499040768*v18*v24 + 464913848876953140599980032*v18*v25 + 2789483093261718843599880192*v18*v26 + 11157932373046875374399520768*v18*v27 + 72526560424804689933596884992*v18*v28 + 290106241699218759734387539968*v18*v29 + 29203125239808*v18*v3 + 1740637450195312558406325239808*v18*v30 + 4358578491210937499999812800479232*v18*v31 + 113323040771484374999995132812460032*v18*v32 + 679938244628906249999970796874760192*v18*v33 + 2719752978515624999999883187499040768*v18*v34 + 70940223522949218749996953140599980032*v18*v35 + 425641341137695312499981718843599880192*v18*v36 + 1702565364550781249999926875374399520768*v18*v37 + 11066674869580078124999524689933596884992*v18*v38 + 44266699478320312499998098759734387539968*v18*v39 + 3046859400019968*v18*v4 + 265600196869921874999988592558406325239808*v18*v40 + 27711095753875561523436309817500007799980032*v18*v41 + 166266574523253369140617858905000046799880192*v18*v42 + 665066298093013476562471435620000187199520768*v18*v43 + 4322930937604587597656064331530001216796884992*v18*v44 + 17291723750418350390624257326120004867187539968*v18*v45 + 103750342502510102343745543956720029203125239808*v18*v46 + 2706154766940471836132696271537780761714850004992*v18*v47 + 10824619067761887344530785086151123046859400019968*v18*v48 + 64947714406571324067184710516906738281156400119808*v18*v49 + 18281156400119808*v18*v5 + 1688640574570854425746802473439575195310066403115008*v18*v50 + 6962549800781250233625300959232*v18*v51 + 1062400787479687499999954370233625300959232*v18*v52 + 415001370010040409374982175826880116812500959232*v18*v53 + 259790857626285296268738842067626953124625600479232*v18*v54 + 6754562298283417702987209893758300781240265612460032*v18*v55 + 40527373789700506217923259362549804687441593674760192*v18*v56 + 162109495158802024871693037450199218749766374699040768*v18*v57 + 475310066403115008*v18*v6 + 1190182499992200019968*v18*v7 + 7141094999953200119808*v18*v8 + 185668469998783203115008*v18*v9 - 5849985024*v18 + 34222324781024280576*v19**2 + 29203125239808*v19*v2 + 273778598248194244608*v19*v20 + 171386279998876802875392*v19*v21 + 4456043279970796874760192*v19*v22 + 26736259679824781248561152*v19*v23 + 106945038719299124994244608*v19*v24 + 2789483093261718843599880192*v19*v25 + 16736898559570313061599281152*v19*v26 + 66947594238281252246397124608*v19*v27 + 435159362548828139601581309952*v19*v28 + 1740637450195312558406325239808*v19*v29 + 175218751438848*v19*v3 + 10443824701171875350437951438848*v19*v30 + 26151470947265624999998876802875392*v19*v31 + 679938244628906249999970796874760192*v19*v32 + 4079629467773437499999824781248561152*v19*v33 + 16318517871093749999999299124994244608*v19*v34 + 425641341137695312499981718843599880192*v19*v35 + 2553848046826171874999890313061599281152*v19*v36 + 10215392187304687499999561252246397124608*v19*v37 + 66400049217480468749997148139601581309952*v19*v38 + 265600196869921874999988592558406325239808*v19*v39 + 18281156400119808*v19*v4 + 1593601181219531249999931555350437951438848*v19*v40 + 166266574523253369140617858905000046799880192*v19*v41 + 997599447139520214843707153430000280799281152*v19*v42 + 3990397788558080859374828613720001123197124608*v19*v43 + 25937585625627525585936385989180007300781309952*v19*v44 + 103750342502510102343745543956720029203125239808*v19*v45 + 622502055015060614062473263740320175218751438848*v19*v46 + 16236928601642831016796177629226684570289100029952*v19*v47 + 64947714406571324067184710516906738281156400119808*v19*v48 + 389686286439427944403108263101440429686938400718848*v19*v49 + 109686938400718848*v19*v5 + 10131843447425126554480814840637451171860398418690048*v19*v50 + 41775298804687501401751805755392*v19*v51 + 6374404724878124999999726221401751805755392*v19*v52 + 2490008220060242456249893054961280700875005755392*v19*v53 + 1558745145757711777612433052405761718747753602875392*v19*v54 + 40527373789700506217923259362549804687441593674760192*v19*v55 + 243164242738203037307539556175298828124649562048561152*v19*v56 + 972656970952812149230158224701195312498598248194244608*v19*v57 + 2851860398418690048*v19*v6 + 7141094999953200119808*v19*v7 + 42846569999719200718848*v19*v8 + 1114010819992699218690048*v19*v9 - 35099910144*v19 + 6230016*v2**2 + 116812500959232*v2*v20 + 73124999999520768*v2*v21 + 1901249999987539968*v2*v22 + 11407499999925239808*v2*v23 + 45629999999700959232*v2*v24 + 1190182499992200019968*v2*v25 + 7141094999953200119808*v2*v26 + 28564379999812800479232*v2*v27 + 185668469998783203115008*v2*v28 + 742673879995132812460032*v2*v29 + 74760192*v2*v3 + 4456043279970796874760192*v2*v30 + 11157989501953124999999520768*v2*v31 + 290107727050781249999987539968*v2*v32 + 1740646362304687499999925239808*v2*v33 + 6962585449218749999999700959232*v2*v34 + 181607437133789062499992200019968*v2*v35 + 1089644622802734374999953200119808*v2*v36 + 4358578491210937499999812800479232*v2*v37 + 28330760192871093749998783203115008*v2*v38 + 113323040771484374999995132812460032*v2*v39 + 7799980032*v2*v4 + 679938244628906249999970796874760192*v2*v40 + 70940586737823486328121953125000019968*v2*v41 + 425643520426940917968731718750000119808*v2*v42 + 1702574081707763671874926875000000479232*v2*v43 + 11066731531100463867187024687500003115008*v2*v44 + 44266926124401855468748098750000012460032*v2*v45 + 265601556746411132812488592500000074760192*v2*v46 + 6927773938468890380859077454375001949995008*v2*v47 + 27711095753875561523436309817500007799980032*v2*v48 + 166266574523253369140617858905000046799880192*v2*v49 + 46799880192*v2*v5 + 4322930937604587597656064331530001216796884992*v2*v50 + 17824173119883187499040768*v2*v51 + 2719752978515624999999883187499040768*v2*v52 + 1062406226985644531249954370000000299040768*v2*v53 + 665066298093013476562471435620000187199520768*v2*v54 + 17291723750418350390624257326120004867187539968*v2*v55 + 103750342502510102343745543956720029203125239808*v2*v56 + 415001370010040409374982175826880116812500959232*v2*v57 + 1216796884992*v2*v6 + 3046874999980032*v2*v7 + 18281249999880192*v2*v8 + 475312499996884992*v2*v9 - 14976*v2 + 547557196496388489216*v20**2 + 685545119995507211501568*v20*v21 + 17824173119883187499040768*v20*v22 + 106945038719299124994244608*v20*v23 + 427780154877196499976978432*v20*v24 + 11157932373046875374399520768*v20*v25 + 66947594238281252246397124608*v20*v26 + 267790376953125008985588498432*v20*v27 + 1740637450195312558406325239808*v20*v28 + 6962549800781250233625300959232*v20*v29 + 700875005755392*v20*v3 + 41775298804687501401751805755392*v20*v30 + 104605883789062499999995507211501568*v20*v31 + 2719752978515624999999883187499040768*v20*v32 + 16318517871093749999999299124994244608*v20*v33 + 65274071484374999999997196499976978432*v20*v34 + 1702565364550781249999926875374399520768*v20*v35 + 10215392187304687499999561252246397124608*v20*v36 + 40861568749218749999998245008985588498432*v20*v37 + 265600196869921874999988592558406325239808*v20*v38 + 1062400787479687499999954370233625300959232*v20*v39 + 73124625600479232*v20*v4 + 6374404724878124999999726221401751805755392*v20*v40 + 665066298093013476562471435620000187199520768*v20*v41 + 3990397788558080859374828613720001123197124608*v20*v42 + 15961591154232323437499314454880004492788498432*v20*v43 + 103750342502510102343745543956720029203125239808*v20*v44 + 415001370010040409374982175826880116812500959232*v20*v45 + 2490008220060242456249893054961280700875005755392*v20*v46 + 64947714406571324067184710516906738281156400119808*v20*v47 + 259790857626285296268738842067626953124625600479232*v20*v48 + 1558745145757711777612433052405761718747753602875392*v20*v49 + 438747753602875392*v20*v5 + 40527373789700506217923259362549804687441593674760192*v20*v50 + 167101195218750005607007223021568*v20*v51 + 25497618899512499999998904885607007223021568*v20*v52 + 9960032880240969824999572219845122803500023021568*v20*v53 + 6234980583030847110449732209623046874991014411501568*v20*v54 + 162109495158802024871693037450199218749766374699040768*v20*v55 + 972656970952812149230158224701195312498598248194244608*v20*v56 + 3890627883811248596920632898804781249994392992776978432*v20*v57 + 11407441593674760192*v20*v6 + 28564379999812800479232*v20*v7 + 171386279998876802875392*v20*v8 + 4456043279970796874760192*v20*v9 - 140399640576*v20 + 214576721188593750000009216*v21**2 + 11157989501806875000000479232*v21*v22 + 66947937010841250000002875392*v21*v23 + 267791748043365000000011501568*v21*v24 + 6984901428131103750000299999232*v21*v25 + 41909408568786622500001799995392*v21*v26 + 167637634275146490000007199981568*v21*v27 + 1089644622788452185000046799880192*v21*v28 + 4358578491153808740000187199520768*v21*v29 + 438749999997124608*v21*v3 + 26151470946922852440001123197124608*v21*v30 + 65483618527221679687497187500000018432*v21*v31 + 1702574081707763671874926875000000479232*v21*v32 + 10215444490246582031249561250000002875392*v21*v33 + 40861777960986328124998245000000011501568*v21*v34 + 1065811375149060058593704223750000299999232*v21*v35 + 6394868250894360351562225342500001799995392*v21*v36 + 25579473003577441406248901370000007199981568*v21*v37 + 166266574523253369140617858905000046799880192*v21*v38 + 665066298093013476562471435620000187199520768*v21*v39 + 45776249999700000768*v21*v4 + 3990397788558080859374828613720001123197124608*v21*v40 + 416333634228976734448224306106567617187499999232*v21*v41 + 2498001805373860406689345836639405703124999995392*v21*v42 + 9992007221495441626757383346557622812499999981568*v21*v43 + 64948046939720370573922991752624548281249999880192*v21*v44 + 259792187758881482295691967010498193124999999520768*v21*v45 + 1558753126553288893774151802062989158749999997124608*v21*v46 + 40657477384264951979275792837142967224062499925000192*v21*v47 + 162629909537059807917103171348571868896249999700000768*v21*v48 + 975779457222358847502619028091431213377499998200004608*v21*v49 + 274657499998200004608*v21*v5 + 25370265887781330035068094730377211547814999953200119808*v21*v50 + 104605883787691409760004492788498432*v21*v51 + 15961591154232323437499314454880004492788498432*v21*v52 + 6235012506213155575096607208251956634999999988498432*v21*v53 + 3903117828889435390010476112365724853509999992800018432*v21*v54 + 101481063551125320140272378921508846191259999812800479232*v21*v55 + 608886381306751920841634273529053077147559998876802875392*v21*v56 + 2435545525227007683366537094116212308590239995507211501568*v21*v57 + 7141094999953200119808*v21*v6 + 17881393432382812500000768*v21*v7 + 107288360594296875000004608*v21*v8 + 2789497375451718750000119808*v21*v9 - 87890624999424*v21 + 145053863523489375000006230016*v22**2 + 1740646362281872500000074760192*v22*v23 + 6962585449127490000000299040768*v22*v24 + 181607437131408697500007799980032*v22*v25 + 1089644622788452185000046799880192*v22*v26 + 4358578491153808740000187199520768*v22*v27 + 28330760192499756810001216796884992*v22*v28 + 113323040769999027240004867187539968*v22*v29 + 11407499999925239808*v22*v3 + 679938244619994163440029203125239808*v22*v30 + 1702574081707763671874926875000000479232*v22*v31 + 44266926124401855468748098750000012460032*v22*v32 + 265601556746411132812488592500000074760192*v22*v33 + 1062406226985644531249954370000000299040768*v22*v34 + 27711095753875561523436309817500007799980032*v22*v35 + 166266574523253369140617858905000046799880192*v22*v36 + 665066298093013476562471435620000187199520768*v22*v37 + 4322930937604587597656064331530001216796884992*v22*v38 + 17291723750418350390624257326120004867187539968*v22*v39 + 1190182499992200019968*v22*v4 + 103750342502510102343745543956720029203125239808*v22*v40 + 10824674489953395095653831958770758046874999980032*v22*v41 + 64948046939720370573922991752624548281249999880192*v22*v42 + 259792187758881482295691967010498193124999999520768*v22*v43 + 1688649220432729634921997785568238255312499996884992*v22*v44 + 6754596881730918539687991142272953021249999987539968*v22*v45 + 40527581290385511238127946853637718127499999925239808*v22*v46 + 1057094411990888751461170613765717147825624998050004992*v22*v47 + 4228377647963555005844682455062868591302499992200019968*v22*v48 + 25370265887781330035068094730377211547814999953200119808*v22*v49 + 7141094999953200119808*v22*v5 + 659626913082314580911770462989807500243189998783203115008*v22*v50 + 2719752978479976653760116812500959232*v22*v51 + 415001370010040409374982175826880116812500959232*v22*v52 + 162110325161542044952511787414550872509999999700959232*v22*v53 + 101481063551125320140272378921508846191259999812800479232*v22*v54 + 2638507652329258323647081851959230000972759995132812460032*v22*v55 + 15831045913975549941882491111755380005836559970796874760192*v22*v56 + 63324183655902199767529964447021520023346239883187499040768*v22*v57 + 185668469998783203115008*v22*v6 + 464916229241953125000019968*v22*v7 + 2789497375451718750000119808*v22*v8 + 72526931761744687500003115008*v22*v9 - 2285156249985024*v22 + 5221939086845617500000224280576*v23**2 + 41775512694764940000001794244608*v23*v24 + 1089644622788452185000046799880192*v23*v25 + 6537867736730713110000280799281152*v23*v26 + 26151470946922852440001123197124608*v23*v27 + 169984561154998540860007300781309952*v23*v28 + 679938244619994163440029203125239808*v23*v29 + 68444999999551438848*v23*v3 + 4079629467719964980640175218751438848*v23*v30 + 10215444490246582031249561250000002875392*v23*v31 + 265601556746411132812488592500000074760192*v23*v32 + 1593609340478466796874931555000000448561152*v23*v33 + 6374437361913867187499726220000001794244608*v23*v34 + 166266574523253369140617858905000046799880192*v23*v35 + 997599447139520214843707153430000280799281152*v23*v36 + 3990397788558080859374828613720001123197124608*v23*v37 + 25937585625627525585936385989180007300781309952*v23*v38 + 103750342502510102343745543956720029203125239808*v23*v39 + 7141094999953200119808*v23*v4 + 622502055015060614062473263740320175218751438848*v23*v40 + 64948046939720370573922991752624548281249999880192*v23*v41 + 389688281638322223443537950515747289687499999281152*v23*v42 + 1558753126553288893774151802062989158749999997124608*v23*v43 + 10131895322596377809531986713409429531874999981309952*v23*v44 + 40527581290385511238127946853637718127499999925239808*v23*v45 + 243165487742313067428767681121826308764999999551438848*v23*v46 + 6342566471945332508767023682594302886953749988300029952*v23*v47 + 25370265887781330035068094730377211547814999953200119808*v23*v48 + 152221595326687980210408568382263269286889999719200718848*v23*v49 + 42846569999719200718848*v23*v5 + 3957761478493887485470622777938845001459139992699218690048*v23*v50 + 16318517870879859922560700875005755392*v23*v51 + 2490008220060242456249893054961280700875005755392*v23*v52 + 972661950969252269715070724487305235059999998205755392*v23*v53 + 608886381306751920841634273529053077147559998876802875392*v23*v54 + 15831045913975549941882491111755380005836559970796874760192*v23*v55 + 94986275483853299651294946670532280035019359824781248561152*v23*v56 + 379945101935413198605179786682129120140077439299124994244608*v23*v57 + 1114010819992699218690048*v23*v6 + 2789497375451718750000119808*v23*v7 + 16736984252710312500000718848*v23*v8 + 435161590570468125000018690048*v23*v9 - 13710937499910144*v23 + 83551025389529880000003588489216*v24**2 + 4358578491153808740000187199520768*v24*v25 + 26151470946922852440001123197124608*v24*v26 + 104605883787691409760004492788498432*v24*v27 + 679938244619994163440029203125239808*v24*v28 + 2719752978479976653760116812500959232*v24*v29 + 273779999998205755392*v24*v3 + 16318517870879859922560700875005755392*v24*v30 + 40861777960986328124998245000000011501568*v24*v31 + 1062406226985644531249954370000000299040768*v24*v32 + 6374437361913867187499726220000001794244608*v24*v33 + 25497749447655468749998904880000007176978432*v24*v34 + 665066298093013476562471435620000187199520768*v24*v35 + 3990397788558080859374828613720001123197124608*v24*v36 + 15961591154232323437499314454880004492788498432*v24*v37 + 103750342502510102343745543956720029203125239808*v24*v38 + 415001370010040409374982175826880116812500959232*v24*v39 + 28564379999812800479232*v24*v4 + 2490008220060242456249893054961280700875005755392*v24*v40 + 259792187758881482295691967010498193124999999520768*v24*v41 + 1558753126553288893774151802062989158749999997124608*v24*v42 + 6235012506213155575096607208251956634999999988498432*v24*v43 + 40527581290385511238127946853637718127499999925239808*v24*v44 + 162110325161542044952511787414550872509999999700959232*v24*v45 + 972661950969252269715070724487305235059999998205755392*v24*v46 + 25370265887781330035068094730377211547814999953200119808*v24*v47 + 101481063551125320140272378921508846191259999812800479232*v24*v48 + 608886381306751920841634273529053077147559998876802875392*v24*v49 + 171386279998876802875392*v24*v5 + 15831045913975549941882491111755380005836559970796874760192*v24*v50 + 65274071483519439690242803500023021568*v24*v51 + 9960032880240969824999572219845122803500023021568*v24*v52 + 3890647803877009078860282897949220940239999992823021568*v24*v53 + 2435545525227007683366537094116212308590239995507211501568*v24*v54 + 63324183655902199767529964447021520023346239883187499040768*v24*v55 + 379945101935413198605179786682129120140077439299124994244608*v24*v56 + 1519780407741652794420719146728516480560309757196499976978432*v24*v57 + 4456043279970796874760192*v24*v6 + 11157989501806875000000479232*v24*v7 + 66947937010841250000002875392*v24*v8 + 1740646362281872500000074760192*v24*v9 - 54843749999640576*v24 + 56843127822130922317502441393750016*v25**2 + 682117533865571067810029296725000192*v25*v26 + 2728470135462284271240117186900000768*v25*v27 + 17735055880504847763060761714850004992*v25*v28 + 70940223522019391052243046859400019968*v25*v29 + 7141094999953200119808*v25*v3 + 425641341132116346313458281156400119808*v25*v30 + 1065811375149060058593704223750000299999232*v25*v31 + 27711095753875561523436309817500007799980032*v25*v32 + 166266574523253369140617858905000046799880192*v25*v33 + 665066298093013476562471435620000187199520768*v25*v34 + 17347145941926101513671129945755004882787500032*v25*v35 + 104082875651556609082026779674530029296725000192*v25*v36 + 416331502606226436328107118698120117186900000768*v25*v37 + 2706154766940471836132696271537780761714850004992*v25*v38 + 10824619067761887344530785086151123046859400019968*v25*v39 + 745054244995117212499968*v25*v4 + 64947714406571324067184710516906738281156400119808*v25*v40 + 6776246230710825329879298806190494537343749987500032*v25*v41 + 40657477384264951979275792837142967224062499925000192*v25*v42 + 162629909537059807917103171348571868896249999700000768*v25*v43 + 1057094411990888751461170613765717147825624998050004992*v25*v44 + 4228377647963555005844682455062868591302499992200019968*v25*v45 + 25370265887781330035068094730377211547814999953200119808*v25*v46 + 661741101906296358414692804217338934538841248779303124992*v25*v47 + 2646964407625185433658771216869355738155364995117212499968*v25*v48 + 15881786445751112601952627301216134428932189970703274999808*v25*v49 + 4470325469970703274999808*v25*v5 + 412926447589528927650768309831619495152236939238285149995008*v25*v50 + 1702565364528465385253833124625600479232*v25*v51 + 259790857626285296268738842067626953124625600479232*v25*v52 + 101481063551125320140272378921508846191259999812800479232*v25*v53 + 63527145783004450407810509204864537715728759882813099999232*v25*v54 + 1651705790358115710603073239326477980608947756953140599980032*v25*v55 + 9910234742148694263618439435958867883653686541718843599880192*v25*v56 + 39640938968594777054473757743835471534614746166875374399520768*v25*v57 + 116228462219238285149995008*v25*v6 + 291037559505462656250012499968*v25*v7 + 1746225357032775937500074999808*v25*v8 + 45401859282852174375001949995008*v25*v9 - 1430507812490625024*v25 + 2046352601596713203430087890175000576*v26**2 + 16370820812773705627440703121400004608*v26*v27 + 106410335283029086578364570289100029952*v26*v28 + 425641341132116346313458281156400119808*v26*v29 + 42846569999719200718848*v26*v3 + 2553848046792698077880749686938400718848*v26*v30 + 6394868250894360351562225342500001799995392*v26*v31 + 166266574523253369140617858905000046799880192*v26*v32 + 997599447139520214843707153430000280799281152*v26*v33 + 3990397788558080859374828613720001123197124608*v26*v34 + 104082875651556609082026779674530029296725000192*v26*v35 + 624497253909339654492160678047180175780350001152*v26*v36 + 2497989015637358617968642712188720703121400004608*v26*v37 + 16236928601642831016796177629226684570289100029952*v26*v38 + 64947714406571324067184710516906738281156400119808*v26*v39 + 4470325469970703274999808*v26*v4 + 389686286439427944403108263101440429686938400718848*v26*v40 + 40657477384264951979275792837142967224062499925000192*v26*v41 + 243944864305589711875654757022857803344374999550001152*v26*v42 + 975779457222358847502619028091431213377499998200004608*v26*v43 + 6342566471945332508767023682594302886953749988300029952*v26*v44 + 25370265887781330035068094730377211547814999953200119808*v26*v45 + 152221595326687980210408568382263269286889999719200718848*v26*v46 + 3970446611437778150488156825304033607233047492675818749952*v26*v47 + 15881786445751112601952627301216134428932189970703274999808*v26*v48 + 95290718674506675611715763807296806573593139824219649998848*v26*v49 + 26821952819824219649998848*v26*v5 + 2477558685537173565904609858989716970913421635429710899970048*v26*v50 + 10215392187170792311522998747753602875392*v26*v51 + 1558745145757711777612433052405761718747753602875392*v26*v52 + 608886381306751920841634273529053077147559998876802875392*v26*v53 + 381162874698026702446863055229187226294372559296878599995392*v26*v54 + 9910234742148694263618439435958867883653686541718843599880192*v26*v55 + 59461408452892165581710636615753207301922119250313061599281152*v26*v56 + 237845633811568662326842546463012829207688477001252246397124608*v26*v57 + 697370773315429710899970048*v26*v6 + 1746225357032775937500074999808*v26*v7 + 10477352142196655625000449998848*v26*v8 + 272411155697113046250011699970048*v26*v9 - 8583046874943750144*v26 + 32741641625547411254881406242800009216*v27**2 + 425641341132116346313458281156400119808*v27*v28 + 1702565364528465385253833124625600479232*v27*v29 + 171386279998876802875392*v27*v3 + 10215392187170792311522998747753602875392*v27*v30 + 25579473003577441406248901370000007199981568*v27*v31 + 665066298093013476562471435620000187199520768*v27*v32 + 3990397788558080859374828613720001123197124608*v27*v33 + 15961591154232323437499314454880004492788498432*v27*v34 + 416331502606226436328107118698120117186900000768*v27*v35 + 2497989015637358617968642712188720703121400004608*v27*v36 + 9991956062549434471874570848754882812485600018432*v27*v37 + 64947714406571324067184710516906738281156400119808*v27*v38 + 259790857626285296268738842067626953124625600479232*v27*v39 + 17881301879882813099999232*v27*v4 + 1558745145757711777612433052405761718747753602875392*v27*v40 + 162629909537059807917103171348571868896249999700000768*v27*v41 + 975779457222358847502619028091431213377499998200004608*v27*v42 + 3903117828889435390010476112365724853509999992800018432*v27*v43 + 25370265887781330035068094730377211547814999953200119808*v27*v44 + 101481063551125320140272378921508846191259999812800479232*v27*v45 + 608886381306751920841634273529053077147559998876802875392*v27*v46 + 15881786445751112601952627301216134428932189970703274999808*v27*v47 + 63527145783004450407810509204864537715728759882813099999232*v27*v48 + 381162874698026702446863055229187226294372559296878599995392*v27*v49 + 107287811279296878599995392*v27*v5 + 9910234742148694263618439435958867883653686541718843599880192*v27*v50 + 40861568748683169246091994991014411501568*v27*v51 + 6234980583030847110449732209623046874991014411501568*v27*v52 + 2435545525227007683366537094116212308590239995507211501568*v27*v53 + 1524651498792106809787452220916748905177490237187514399981568*v27*v54 + 39640938968594777054473757743835471534614746166875374399520768*v27*v55 + 237845633811568662326842546463012829207688477001252246397124608*v27*v56 + 951382535246274649307370185852051316830753908005008985588498432*v27*v57 + 2789483093261718843599880192*v27*v6 + 6984901428131103750000299999232*v27*v7 + 41909408568786622500001799995392*v27*v8 + 1089644622788452185000046799880192*v27*v9 - 34332187499775000576*v27 + 1383334358679378125518739413758300389376*v28**2 + 11066674869435025004149915310066403115008*v28*v29 + 1114010819992699218690048*v28*v3 + 66400049216610150024899491860398418690048*v28*v30 + 166266574523253369140617858905000046799880192*v28*v31 + 4322930937604587597656064331530001216796884992*v28*v32 + 25937585625627525585936385989180007300781309952*v28*v33 + 103750342502510102343745543956720029203125239808*v28*v34 + 2706154766940471836132696271537780761714850004992*v28*v35 + 16236928601642831016796177629226684570289100029952*v28*v36 + 64947714406571324067184710516906738281156400119808*v28*v37 + 422160143642713606436700618359893798827516600778752*v28*v38 + 1688640574570854425746802473439575195310066403115008*v28*v39 + 116228462219238285149995008*v28*v4 + 10131843447425126554480814840637451171860398418690048*v28*v40 + 1057094411990888751461170613765717147825624998050004992*v28*v41 + 6342566471945332508767023682594302886953749988300029952*v28*v42 + 25370265887781330035068094730377211547814999953200119808*v28*v43 + 164906728270578645227942615747451875060797499695800778752*v28*v44 + 659626913082314580911770462989807500243189998783203115008*v28*v45 + 3957761478493887485470622777938845001459139992699218690048*v28*v46 + 103231611897382231912692077457904873788059234809571287498752*v28*v47 + 412926447589528927650768309831619495152236939238285149995008*v28*v48 + 2477558685537173565904609858989716970913421635429710899970048*v28*v49 + 697370773315429710899970048*v28*v5 + 64416525823966512713519856333732641243748962521172483399221248*v28*v50 + 265600196866440600099597967441593674760192*v28*v51 + 40527373789700506217923259362549804687441593674760192*v28*v52 + 15831045913975549941882491111755380005836559970796874760192*v28*v53 + 9910234742148694263618439435958867883653686541718843599880192*v28*v54 + 257666103295866050854079425334930564974995850084689933596884992*v28*v55 + 1545996619775196305124476552009583389849975100508139601581309952*v28*v56 + 6183986479100785220497906208038333559399900402032558406325239808*v28*v57 + 18131640106201172483399221248*v28*v6 + 45401859282852174375001949995008*v28*v7 + 272411155697113046250011699970048*v28*v8 + 7082690048124939202500304199221248*v28*v9 - 223159218748537503744*v28 + 22133349738870050008299830620132806230016*v29**2 + 4456043279970796874760192*v29*v3 + 265600196866440600099597967441593674760192*v29*v30 + 665066298093013476562471435620000187199520768*v29*v31 + 17291723750418350390624257326120004867187539968*v29*v32 + 103750342502510102343745543956720029203125239808*v29*v33 + 415001370010040409374982175826880116812500959232*v29*v34 + 10824619067761887344530785086151123046859400019968*v29*v35 + 64947714406571324067184710516906738281156400119808*v29*v36 + 259790857626285296268738842067626953124625600479232*v29*v37 + 1688640574570854425746802473439575195310066403115008*v29*v38 + 6754562298283417702987209893758300781240265612460032*v29*v39 + 464913848876953140599980032*v29*v4 + 40527373789700506217923259362549804687441593674760192*v29*v40 + 4228377647963555005844682455062868591302499992200019968*v29*v41 + 25370265887781330035068094730377211547814999953200119808*v29*v42 + 101481063551125320140272378921508846191259999812800479232*v29*v43 + 659626913082314580911770462989807500243189998783203115008*v29*v44 + 2638507652329258323647081851959230000972759995132812460032*v29*v45 + 15831045913975549941882491111755380005836559970796874760192*v29*v46 + 412926447589528927650768309831619495152236939238285149995008*v29*v47 + 1651705790358115710603073239326477980608947756953140599980032*v29*v48 + 9910234742148694263618439435958867883653686541718843599880192*v29*v49 + 2789483093261718843599880192*v29*v5 + 257666103295866050854079425334930564974995850084689933596884992*v29*v50 + 1062400787465762400398391869766374699040768*v29*v51 + 162109495158802024871693037450199218749766374699040768*v29*v52 + 63324183655902199767529964447021520023346239883187499040768*v29*v53 + 39640938968594777054473757743835471534614746166875374399520768*v29*v54 + 1030664413183464203416317701339722259899983400338759734387539968*v29*v55 + 6183986479100785220497906208038333559399900402032558406325239808*v29*v56 + 24735945916403140881991624832153334237599601608130233625300959232*v29*v57 + 72526560424804689933596884992*v29*v6 + 181607437131408697500007799980032*v29*v7 + 1089644622788452185000046799880192*v29*v8 + 28330760192499756810001216796884992*v29*v9 - 892636874994150014976*v29 + 224280576*v3**2 + 26736259679824781248561152*v3*v30 + 66947937011718749999997124608*v3*v31 + 1740646362304687499999925239808*v3*v32 + 10443878173828124999999551438848*v3*v33 + 41775512695312499999998205755392*v3*v34 + 1089644622802734374999953200119808*v3*v35 + 6537867736816406249999719200718848*v3*v36 + 26151470947265624999998876802875392*v3*v37 + 169984561157226562499992699218690048*v3*v38 + 679938244628906249999970796874760192*v3*v39 + 46799880192*v3*v4 + 4079629467773437499999824781248561152*v3*v40 + 425643520426940917968731718750000119808*v3*v41 + 2553861122561645507812390312500000718848*v3*v42 + 10215444490246582031249561250000002875392*v3*v43 + 66400389186602783203122148125000018690048*v3*v44 + 265601556746411132812488592500000074760192*v3*v45 + 1593609340478466796874931555000000448561152*v3*v46 + 41566643630813342285154464726250011699970048*v3*v47 + 166266574523253369140617858905000046799880192*v3*v48 + 997599447139520214843707153430000280799281152*v3*v49 + 280799281152*v3*v5 + 25937585625627525585936385989180007300781309952*v3*v50 + 106945038719299124994244608*v3*v51 + 16318517871093749999999299124994244608*v3*v52 + 6374437361913867187499726220000001794244608*v3*v53 + 3990397788558080859374828613720001123197124608*v3*v54 + 103750342502510102343745543956720029203125239808*v3*v55 + 622502055015060614062473263740320175218751438848*v3*v56 + 2490008220060242456249893054961280700875005755392*v3*v57 + 7300781309952*v3*v6 + 18281249999880192*v3*v7 + 109687499999281152*v3*v8 + 2851874999981309952*v3*v9 - 89856*v3 + 796800590599321800298793902324781024280576*v30**2 + 3990397788558080859374828613720001123197124608*v30*v31 + 103750342502510102343745543956720029203125239808*v30*v32 + 622502055015060614062473263740320175218751438848*v30*v33 + 2490008220060242456249893054961280700875005755392*v30*v34 + 64947714406571324067184710516906738281156400119808*v30*v35 + 389686286439427944403108263101440429686938400718848*v30*v36 + 1558745145757711777612433052405761718747753602875392*v30*v37 + 10131843447425126554480814840637451171860398418690048*v30*v38 + 40527373789700506217923259362549804687441593674760192*v30*v39 + 2789483093261718843599880192*v30*v4 + 243164242738203037307539556175298828124649562048561152*v30*v40 + 25370265887781330035068094730377211547814999953200119808*v30*v41 + 152221595326687980210408568382263269286889999719200718848*v30*v42 + 608886381306751920841634273529053077147559998876802875392*v30*v43 + 3957761478493887485470622777938845001459139992699218690048*v30*v44 + 15831045913975549941882491111755380005836559970796874760192*v30*v45 + 94986275483853299651294946670532280035019359824781248561152*v30*v46 + 2477558685537173565904609858989716970913421635429710899970048*v30*v47 + 9910234742148694263618439435958867883653686541718843599880192*v30*v48 + 59461408452892165581710636615753207301922119250313061599281152*v30*v49 + 16736898559570313061599281152*v30*v5 + 1545996619775196305124476552009583389849975100508139601581309952*v30*v50 + 6374404724794574402390351218598248194244608*v30*v51 + 972656970952812149230158224701195312498598248194244608*v30*v52 + 379945101935413198605179786682129120140077439299124994244608*v30*v53 + 237845633811568662326842546463012829207688477001252246397124608*v30*v54 + 6183986479100785220497906208038333559399900402032558406325239808*v30*v55 + 37103918874604711322987437248230001356399402412195350437951438848*v30*v56 + 148415675498418845291949748992920005425597609648781401751805755392*v30*v57 + 435159362548828139601581309952*v30*v6 + 1089644622788452185000046799880192*v30*v7 + 6537867736730713110000280799281152*v30*v8 + 169984561154998540860007300781309952*v30*v9 - 5355821249964900089856*v30 + 4996003610813204431905913352966308593750000009216*v31**2 + 259792187762286630459107494354248046875000000479232*v31*v32 + 1558753126573719782754644966125488281250000002875392*v31*v33 + 6235012506294879131018579864501953125000000011501568*v31*v34 + 162629909539191430667401291465759277343750000299999232*v31*v35 + 975779457235148584004407748794555664062500001799995392*v31*v36 + 3903117828940594336017630995178222656250000007199981568*v31*v37 + 25370265888113863184114601468658447265625000046799880192*v31*v38 + 101481063552455452736458405874633789062500000187199520768*v31*v39 + 6984901428222656249999700000768*v31*v4 + 608886381314732716418750435247802734375000001123197124608*v31*v40 + 63527471043656191795884296880103683471679687617187499999232*v31*v41 + 381164826261937150775305781280622100830078125703124999995392*v31*v42 + 1524659305047748603101223125122488403320312502812499999981568*v31*v43 + 9910285482810365920157950313296174621582031268281249999880192*v31*v44 + 39641141931241463680631801253184698486328125073124999999520768*v31*v45 + 237846851587448782083790807519108190917968750438749999997124608*v31*v46 + 6203838712239289066018876896123405313110351573944062499925000192*v31*v47 + 24815354848957156264075507584493621252441406295776249999700000768*v31*v48 + 148892129093742937584453045506961727514648437774657499998200004608*v31*v49 + 41909408569335937499998200004608*v31*v5 + 3871195356437316377195779183181004915380859382141094999953200119808*v31*v50 + 15961591154232323437499314454880004492788498432*v31*v51 + 2435545525258930865675001740991210937500000004492788498432*v31*v52 + 951387406349795128335163230076432763671875001754999999988498432*v31*v53 + 595568516374971750337812182027846910058593751098629999992800018432*v31*v54 + 15484781425749265508783116732724019661523437528564379999812800479232*v31*v55 + 92908688554495593052698700396344117969140625171386279998876802875392*v31*v56 + 371634754217982372210794801585376471876562500685545119995507211501568*v31*v57 + 1089644622802734374999953200119808*v31*v6 + 2728484105300903320312382812500000768*v31*v7 + 16370904631805419921874296875000004608*v31*v8 + 425643520426940917968731718750000119808*v31*v9 - 13411045074462890624999424*v31 + 3377298440909726195968397426605224609375000006230016*v32**2 + 40527581290916714351620769119262695312500000074760192*v32*v33 + 162110325163666857406483076477050781250000000299040768*v32*v34 + 4228377648018977197352433578109741210937500007799980032*v32*v35 + 25370265888113863184114601468658447265625000046799880192*v32*v36 + 101481063552455452736458405874633789062500000187199520768*v32*v37 + 659626913090960442786979638185119628906250001216796884992*v32*v38 + 2638507652363841771147918552740478515625000004867187539968*v32*v39 + 181607437133789062499992200019968*v32*v4 + 15831045914183050626887511316442871093750000029203125239808*v32*v40 + 1651714247135060986692991718882695770263671878046874999980032*v32*v41 + 9910285482810365920157950313296174621582031268281249999880192*v32*v42 + 39641141931241463680631801253184698486328125073124999999520768*v32*v43 + 257667422553069513924106708145700540161132812975312499996884992*v32*v44 + 1030669690212278055696426832582802160644531251901249999987539968*v32*v45 + 6184018141273668334178560995496812963867187511407499999925239808*v32*v46 + 161299806518221515716490799299208538140869140922545624998050004992*v32*v47 + 645199226072886062865963197196834152563476563690182499992200019968*v32*v48 + 3871195356437316377195779183181004915380859382141094999953200119808*v32*v49 + 1089644622802734374999953200119808*v32*v5 + 100651079267370225807090258762706127799902343935668469998783203115008*v32*v50 + 415001370010040409374982175826880116812500959232*v32*v51 + 63324183656732202507550045265771484375000000116812500959232*v32*v52 + 24736072565094673336714243981987251855468750045629999999700959232*v32*v53 + 15484781425749265508783116732724019661523437528564379999812800479232*v32*v54 + 402604317069480903228361035050824511199609375742673879995132812460032*v32*v55 + 2415625902416885419370166210304947067197656254456043279970796874760192*v32*v56 + 9662503609667541677480664841219788268790625017824173119883187499040768*v32*v57 + 28330760192871093749998783203115008*v32*v6 + 70940586737823486328121953125000019968*v32*v7 + 425643520426940917968731718750000119808*v32*v8 + 11066731531100463867187024687500003115008*v32*v9 - 348687171936035156249985024*v32 + 121582743872750143054862307357788085937500000224280576*v33**2 + 972661950982001144438898458862304687500000001794244608*v33*v34 + 25370265888113863184114601468658447265625000046799880192*v33*v35 + 152221595328683179104687608811950683593750000280799281152*v33*v36 + 608886381314732716418750435247802734375000001123197124608*v33*v37 + 3957761478545762656721877829110717773437500007300781309952*v33*v38 + 15831045914183050626887511316442871093750000029203125239808*v33*v39 + 1089644622802734374999953200119808*v33*v4 + 94986275485098303761325067898657226562500000175218751438848*v33*v40 + 9910285482810365920157950313296174621582031268281249999880192*v33*v41 + 59461712896862195520947701879777047729492187609687499999281152*v33*v42 + 237846851587448782083790807519108190917968750438749999997124608*v33*v43 + 1546004535318417083544640248874203240966796877851874999981309952*v33*v44 + 6184018141273668334178560995496812963867187511407499999925239808*v33*v45 + 37104108847642010005071365972980877783203125068444999999551438848*v33*v46 + 967798839109329094298944795795251228845214845535273749988300029952*v33*v47 + 3871195356437316377195779183181004915380859382141094999953200119808*v33*v48 + 23227172138623898263174675099086029492285156292846569999719200718848*v33*v49 + 6537867736816406249999719200718848*v33*v5 + 603906475604221354842541552576236766799414063614010819992699218690048*v33*v50 + 2490008220060242456249893054961280700875005755392*v33*v51 + 379945101940393215045300271594628906250000000700875005755392*v33*v52 + 148416435390568040020285463891923511132812500273779999998205755392*v33*v53 + 92908688554495593052698700396344117969140625171386279998876802875392*v33*v54 + 2415625902416885419370166210304947067197656254456043279970796874760192*v33*v55 + 14493755414501312516220997261829682403185937526736259679824781248561152*v33*v56 + 57975021658005250064883989047318729612743750106945038719299124994244608*v33*v57 + 169984561157226562499992699218690048*v33*v6 + 425643520426940917968731718750000119808*v33*v7 + 2553861122561645507812390312500000718848*v33*v8 + 66400389186602783203122148125000018690048*v33*v9 - 2092123031616210937499910144*v33 + 1945323901964002288877796917724609375000000003588489216*v34**2 + 101481063552455452736458405874633789062500000187199520768*v34*v35 + 608886381314732716418750435247802734375000001123197124608*v34*v36 + 2435545525258930865675001740991210937500000004492788498432*v34*v37 + 15831045914183050626887511316442871093750000029203125239808*v34*v38 + 63324183656732202507550045265771484375000000116812500959232*v34*v39 + 4358578491210937499999812800479232*v34*v4 + 379945101940393215045300271594628906250000000700875005755392*v34*v40 + 39641141931241463680631801253184698486328125073124999999520768*v34*v41 + 237846851587448782083790807519108190917968750438749999997124608*v34*v42 + 951387406349795128335163230076432763671875001754999999988498432*v34*v43 + 6184018141273668334178560995496812963867187511407499999925239808*v34*v44 + 24736072565094673336714243981987251855468750045629999999700959232*v34*v45 + 148416435390568040020285463891923511132812500273779999998205755392*v34*v46 + 3871195356437316377195779183181004915380859382141094999953200119808*v34*v47 + 15484781425749265508783116732724019661523437528564379999812800479232*v34*v48 + 92908688554495593052698700396344117969140625171386279998876802875392*v34*v49 + 26151470947265624999998876802875392*v34*v5 + 2415625902416885419370166210304947067197656254456043279970796874760192*v34*v50 + 9960032880240969824999572219845122803500023021568*v34*v51 + 1519780407761572860181201086378515625000000002803500023021568*v34*v52 + 593665741562272160081141855567694044531250001095119999992823021568*v34*v53 + 371634754217982372210794801585376471876562500685545119995507211501568*v34*v54 + 9662503609667541677480664841219788268790625017824173119883187499040768*v34*v55 + 57975021658005250064883989047318729612743750106945038719299124994244608*v34*v56 + 231900086632021000259535956189274918450975000427780154877196499976978432*v34*v57 + 679938244628906249999970796874760192*v34*v6 + 1702574081707763671874926875000000479232*v34*v7 + 10215444490246582031249561250000002875392*v34*v8 + 265601556746411132812488592500000074760192*v34*v9 - 8368492126464843749999640576*v34 + 1323482203829939862771311709948348999023437502441393750016*v35**2 + 15881786445959278353255740519380187988281250029296725000192*v35*v36 + 63527145783837113413022962077520751953125000117186900000768*v35*v37 + 412926447594941237184649253503884887695312500761714850004992*v35*v38 + 1651705790379764948738597014015539550781250003046859400019968*v35*v39 + 113686255645751953124995117212499968*v35*v4 + 9910234742278589692431582084093237304687500018281156400119808*v35*v40 + 1033973118706548177669812816020567552185058595657343749987500032*v35*v41 + 6203838712239289066018876896123405313110351573944062499925000192*v35*v42 + 24815354848957156264075507584493621252441406295776249999700000768*v35*v43 + 161299806518221515716490799299208538140869140922545624998050004992*v35*v44 + 645199226072886062865963197196834152563476563690182499992200019968*v35*v45 + 3871195356437316377195779183181004915380859382141094999953200119808*v35*v46 + 100973678880406668838523240361304544876184082217513561248779303124992*v35*v47 + 403894715521626675354092961445218179504736328870054244995117212499968*v35*v48 + 2423368293129760052124557768671309077028417973220325469970703274999808*v35*v49 + 682117533874511718749970703274999808*v35*v5 + 63007575621373761355238501985454036002738867303728462219238285149995008*v35*v50 + 259790857626285296268738842067626953124625600479232*v35*v51 + 39640938969114358769726328336372949218750000073124625600479232*v35*v52 + 15484781425749265508783116732724019661523437528564379999812800479232*v35*v53 + 9693473172519040208498231074685236308113671892881301879882813099999232*v35*v54 + 252030302485495045420954007941816144010955469214913848876953140599980032*v35*v55 + 1512181814912970272525724047650896864065732815289483093261718843599880192*v35*v56 + 6048727259651881090102896190603587456262931261157932373046875374399520768*v35*v57 + 17735055880737304687499238285149995008*v35*v6 + 44408807297877502441404342656250012499968*v35*v7 + 266452843787265014648426055937500074999808*v35*v8 + 6927773938468890380859077454375001949995008*v35*v9 - 218278169631958007812490625024*v35 + 47645359337877835059767221558140563964843750087890175000576*v36**2 + 381162874703022680478137772465124511718750000703121400004608*v36*v37 + 2477558685569647423107895521023309326171875004570289100029952*v36*v38 + 9910234742278589692431582084093237304687500018281156400119808*v36*v39 + 682117533874511718749970703274999808*v36*v4 + 59461408453671538154589492504559423828125000109686938400718848*v36*v40 + 6203838712239289066018876896123405313110351573944062499925000192*v36*v41 + 37223032273435734396113261376740431878662109443664374999550001152*v36*v42 + 148892129093742937584453045506961727514648437774657499998200004608*v36*v43 + 967798839109329094298944795795251228845214845535273749988300029952*v36*v44 + 3871195356437316377195779183181004915380859382141094999953200119808*v36*v45 + 23227172138623898263174675099086029492285156292846569999719200718848*v36*v46 + 605842073282440013031139442167827269257104493305081367492675818749952*v36*v47 + 2423368293129760052124557768671309077028417973220325469970703274999808*v36*v48 + 14540209758778560312747346612027854462170507839321952819824219649998848*v36*v49 + 4092705203247070312499824219649998848*v36*v5 + 378045453728242568131431011912724216016433203822370773315429710899970048*v36*v50 + 1558745145757711777612433052405761718747753602875392*v36*v51 + 237845633814686152618357970018237695312500000438747753602875392*v36*v52 + 92908688554495593052698700396344117969140625171386279998876802875392*v36*v53 + 58160839035114241250989386448111417848682031357287811279296878599995392*v36*v54 + 1512181814912970272525724047650896864065732815289483093261718843599880192*v36*v55 + 9073090889477821635154344285905381184394396891736898559570313061599281152*v36*v56 + 36292363557911286540617377143621524737577587566947594238281252246397124608*v36*v57 + 106410335284423828124995429710899970048*v36*v6 + 266452843787265014648426055937500074999808*v36*v7 + 1598717062723590087890556335625000449998848*v36*v8 + 41566643630813342285154464726250011699970048*v36*v9 - 1309669017791748046874943750144*v36 + 762325749406045360956275544930249023437500001406242800009216*v37**2 + 9910234742278589692431582084093237304687500018281156400119808*v37*v38 + 39640938969114358769726328336372949218750000073124625600479232*v37*v39 + 2728470135498046874999882813099999232*v37*v4 + 237845633814686152618357970018237695312500000438747753602875392*v37*v40 + 24815354848957156264075507584493621252441406295776249999700000768*v37*v41 + 148892129093742937584453045506961727514648437774657499998200004608*v37*v42 + 595568516374971750337812182027846910058593751098629999992800018432*v37*v43 + 3871195356437316377195779183181004915380859382141094999953200119808*v37*v44 + 15484781425749265508783116732724019661523437528564379999812800479232*v37*v45 + 92908688554495593052698700396344117969140625171386279998876802875392*v37*v46 + 2423368293129760052124557768671309077028417973220325469970703274999808*v37*v47 + 9693473172519040208498231074685236308113671892881301879882813099999232*v37*v48 + 58160839035114241250989386448111417848682031357287811279296878599995392*v37*v49 + 16370820812988281249999296878599995392*v37*v5 + 1512181814912970272525724047650896864065732815289483093261718843599880192*v37*v50 + 6234980583030847110449732209623046874991014411501568*v37*v51 + 951382535258744610473431880072950781250000001754991014411501568*v37*v52 + 371634754217982372210794801585376471876562500685545119995507211501568*v37*v53 + 232643356140456965003957545792445671394728125429151245117187514399981568*v37*v54 + 6048727259651881090102896190603587456262931261157932373046875374399520768*v37*v55 + 36292363557911286540617377143621524737577587566947594238281252246397124608*v37*v56 + 145169454231645146162469508574486098950310350267790376953125008985588498432*v37*v57 + 425641341137695312499981718843599880192*v37*v6 + 1065811375149060058593704223750000299999232*v37*v7 + 6394868250894360351562225342500001799995392*v37*v8 + 166266574523253369140617858905000046799880192*v37*v9 - 5238676071166992187499775000576*v37 + 32208262912405416500402641773303021240234375059413758300389376*v38**2 + 257666103299243332003221134186424169921875000475310066403115008*v38*v39 + 17735055880737304687499238285149995008*v38*v4 + 1545996619795459992019326805118545019531250002851860398418690048*v38*v40 + 161299806518221515716490799299208538140869140922545624998050004992*v38*v41 + 967798839109329094298944795795251228845214845535273749988300029952*v38*v42 + 3871195356437316377195779183181004915380859382141094999953200119808*v38*v43 + 25162769816842556451772564690676531949975585983917117499695800778752*v38*v44 + 100651079267370225807090258762706127799902343935668469998783203115008*v38*v45 + 603906475604221354842541552576236766799414063614010819992699218690048*v38*v46 + 15751893905343440338809625496363509000684716825932115554809571287498752*v38*v47 + 63007575621373761355238501985454036002738867303728462219238285149995008*v38*v48 + 378045453728242568131431011912724216016433203822370773315429710899970048*v38*v49 + 106410335284423828124995429710899970048*v38*v5 + 9829181796934306771417206309730829616427263299381640106201172483399221248*v38*v50 + 40527373789700506217923259362549804687441593674760192*v38*v51 + 6183986479181839968077307220474180078125000011407441593674760192*v38*v52 + 2415625902416885419370166210304947067197656254456043279970796874760192*v38*v53 + 1512181814912970272525724047650896864065732815289483093261718843599880192*v38*v54 + 39316727187737227085668825238923318465709053197526560424804689933596884992*v38*v55 + 235900363126423362514012951433539910794254319185159362548828139601581309952*v38*v56 + 943601452505693450056051805734159643177017276740637450195312558406325239808*v38*v57 + 2766668717395019531249881172483399221248*v38*v6 + 6927773938468890380859077454375001949995008*v38*v7 + 41566643630813342285154464726250011699970048*v38*v8 + 1080732734401146899414016082882500304199221248*v38*v9 - 34051394462585449218748537503744*v38 + 515332206598486664006442268372848339843750000950620132806230016*v39**2 + 70940223522949218749996953140599980032*v39*v4 + 6183986479181839968077307220474180078125000011407441593674760192*v39*v40 + 645199226072886062865963197196834152563476563690182499992200019968*v39*v41 + 3871195356437316377195779183181004915380859382141094999953200119808*v39*v42 + 15484781425749265508783116732724019661523437528564379999812800479232*v39*v43 + 100651079267370225807090258762706127799902343935668469998783203115008*v39*v44 + 402604317069480903228361035050824511199609375742673879995132812460032*v39*v45 + 2415625902416885419370166210304947067197656254456043279970796874760192*v39*v46 + 63007575621373761355238501985454036002738867303728462219238285149995008*v39*v47 + 252030302485495045420954007941816144010955469214913848876953140599980032*v39*v48 + 1512181814912970272525724047650896864065732815289483093261718843599880192*v39*v49 + 425641341137695312499981718843599880192*v39*v5 + 39316727187737227085668825238923318465709053197526560424804689933596884992*v39*v50 + 162109495158802024871693037450199218749766374699040768*v39*v51 + 24735945916727359872309228881896720312500000045629766374699040768*v39*v52 + 9662503609667541677480664841219788268790625017824173119883187499040768*v39*v53 + 6048727259651881090102896190603587456262931261157932373046875374399520768*v39*v54 + 157266908750948908342675300955693273862836212790106241699218759734387539968*v39*v55 + 943601452505693450056051805734159643177017276740637450195312558406325239808*v39*v56 + 3774405810022773800224207222936638572708069106962549800781250233625300959232*v39*v57 + 11066674869580078124999524689933596884992*v39*v6 + 27711095753875561523436309817500007799980032*v39*v7 + 166266574523253369140617858905000046799880192*v39*v8 + 4322930937604587597656064331530001216796884992*v39*v9 - 136205577850341796874994150014976*v39 + 2441393750016*v4**2 + 425641341137695312499981718843599880192*v4*v40 + 44408807297877502441404342656250012499968*v4*v41 + 266452843787265014648426055937500074999808*v4*v42 + 1065811375149060058593704223750000299999232*v4*v43 + 6927773938468890380859077454375001949995008*v4*v44 + 27711095753875561523436309817500007799980032*v4*v45 + 166266574523253369140617858905000046799880192*v4*v46 + 4336786485481525378417782486438751220696875008*v4*v47 + 17347145941926101513671129945755004882787500032*v4*v48 + 104082875651556609082026779674530029296725000192*v4*v49 + 29296725000192*v4*v5 + 2706154766940471836132696271537780761714850004992*v4*v50 + 11157932373046875374399520768*v4*v51 + 1702565364550781249999926875374399520768*v4*v52 + 665066298093013476562471435620000187199520768*v4*v53 + 416331502606226436328107118698120117186900000768*v4*v54 + 10824619067761887344530785086151123046859400019968*v4*v55 + 64947714406571324067184710516906738281156400119808*v4*v56 + 259790857626285296268738842067626953124625600479232*v4*v57 + 761714850004992*v4*v6 + 1907343749987500032*v4*v7 + 11444062499925000192*v4*v8 + 297545624998050004992*v4*v9 - 9374976*v4 + 18551959437545519904231921661422540234375000034222324781024280576*v40**2 + 3871195356437316377195779183181004915380859382141094999953200119808*v40*v41 + 23227172138623898263174675099086029492285156292846569999719200718848*v40*v42 + 92908688554495593052698700396344117969140625171386279998876802875392*v40*v43 + 603906475604221354842541552576236766799414063614010819992699218690048*v40*v44 + 2415625902416885419370166210304947067197656254456043279970796874760192*v40*v45 + 14493755414501312516220997261829682403185937526736259679824781248561152*v40*v46 + 378045453728242568131431011912724216016433203822370773315429710899970048*v40*v47 + 1512181814912970272525724047650896864065732815289483093261718843599880192*v40*v48 + 9073090889477821635154344285905381184394396891736898559570313061599281152*v40*v49 + 2553848046826171874999890313061599281152*v40*v5 + 235900363126423362514012951433539910794254319185159362548828139601581309952*v40*v50 + 972656970952812149230158224701195312498598248194244608*v40*v51 + 148415675500364159233855373291380321875000000273778598248194244608*v40*v52 + 57975021658005250064883989047318729612743750106945038719299124994244608*v40*v53 + 36292363557911286540617377143621524737577587566947594238281252246397124608*v40*v54 + 943601452505693450056051805734159643177017276740637450195312558406325239808*v40*v55 + 5661608715034160700336310834404957859062103660443824701171875350437951438848*v40*v56 + 22646434860136642801345243337619831436248414641775298804687501401751805755392*v40*v57 + 66400049217480468749997148139601581309952*v40*v6 + 166266574523253369140617858905000046799880192*v40*v7 + 997599447139520214843707153430000280799281152*v40*v8 + 25937585625627525585936385989180007300781309952*v40*v9 - 817233467102050781249964900089856*v40 + 201948391733932044225224150535425110319920349493622779841308593750016*v41**2 + 2423380700807184530702689806425101323839044193923473358095703125000192*v41*v42 + 9693522803228738122810759225700405295356176775693893432382812500000768*v41*v43 + 63007898220986797798269934967052634419815149042010307310488281250004992*v41*v44 + 252031592883947191193079739868210537679260596168041229241953125000019968*v41*v45 + 1512189557303683147158478439209263226075563577008247375451718750000119808*v41*v46 + 39442944286337735421716979289374949146804283300298452376365664062503124992*v41*v47 + 157771777145350941686867917157499796587217133201193809505462656250012499968*v41*v48 + 946630662872105650121207502944998779523302799207162857032775937500074999808*v41*v49 + 266452843787265014648426055937500074999808*v41*v5 + 24612397234674746903151395076569968267605872779386234282852174375001949995008*v41*v50 + 101481063551125320140272378921508846191259999812800479232*v41*v51 + 15484781425749265508783116732724019661523437528564379999812800479232*v41*v52 + 6048758229214732588633913756837052904302254308032989501806875000000479232*v41*v53 + 3786522651488422600484830011779995118093211196828651428131103750000299999232*v41*v54 + 98449588938698987612605580306279873070423491117544937131408697500007799980032*v41*v55 + 590697533632193925675633481837679238422540946705269622788452185000046799880192*v41*v56 + 2362790134528775702702533927350716953690163786821078491153808740000187199520768*v41*v57 + 6927773938468890380859077454375001949995008*v41*v6 + 17347234759540697268676012754440317382812499968*v41*v7 + 104083408557244183612056076526641904296874999808*v41*v8 + 2706168622488348773913457989692689511718749995008*v41*v9 - 85265128290653228759761962890625024*v41 + 7270142102421553592108069419275303971517132581770420074287109375000576*v42**2 + 58161136819372428736864555354202431772137060654163360594296875000004608*v42*v43 + 378047389325920786789619609802315806518890894252061843862929687500029952*v42*v44 + 1512189557303683147158478439209263226075563577008247375451718750000119808*v42*v45 + 9073137343822098882950870635255579356453381462049484252710312500000718848*v42*v46 + 236657665718026412530301875736249694880825699801790714258193984375018749952*v42*v47 + 946630662872105650121207502944998779523302799207162857032775937500074999808*v42*v48 + 5679783977232633900727245017669992677139816795242977142196655625000449998848*v42*v49 + 1598717062723590087890556335625000449998848*v42*v5 + 147674383408048481418908370459419809605635236676317405697113046250011699970048*v42*v50 + 608886381306751920841634273529053077147559998876802875392*v42*v51 + 92908688554495593052698700396344117969140625171386279998876802875392*v42*v52 + 36292549375288395531803482541022317425813525848197937010841250000002875392*v42*v53 + 22719135908930535602908980070679970708559267180971908568786622500001799995392*v42*v54 + 590697533632193925675633481837679238422540946705269622788452185000046799880192*v42*v55 + 3544185201793163554053800891026075430535245680231617736730713110000280799281152*v42*v56 + 14176740807172654216215203564104301722140982720926470946922852440001123197124608*v42*v57 + 41566643630813342285154464726250011699970048*v42*v6 + 104083408557244183612056076526641904296874999808*v42*v7 + 624500451343465101672336459159851425781249998848*v42*v8 + 16237011734930092643480747938156137070312499970048*v42*v9 - 511590769743919372558571777343750144*v42 + 116322273638744857473729110708404863544274121308326721188593750000009216*v43**2 + 1512189557303683147158478439209263226075563577008247375451718750000119808*v43*v44 + 6048758229214732588633913756837052904302254308032989501806875000000479232*v43*v45 + 36292549375288395531803482541022317425813525848197937010841250000002875392*v43*v46 + 946630662872105650121207502944998779523302799207162857032775937500074999808*v43*v47 + 3786522651488422600484830011779995118093211196828651428131103750000299999232*v43*v48 + 22719135908930535602908980070679970708559267180971908568786622500001799995392*v43*v49 + 6394868250894360351562225342500001799995392*v43*v5 + 590697533632193925675633481837679238422540946705269622788452185000046799880192*v43*v50 + 2435545525227007683366537094116212308590239995507211501568*v43*v51 + 371634754217982372210794801585376471876562500685545119995507211501568*v43*v52 + 145170197501153582127213930164089269703254103392791748043365000000011501568*v43*v53 + 90876543635722142411635920282719882834237068723887634275146490000007199981568*v43*v54 + 2362790134528775702702533927350716953690163786821078491153808740000187199520768*v43*v55 + 14176740807172654216215203564104301722140982720926470946922852440001123197124608*v43*v56 + 56706963228690616864860814256417206888563930883705883787691409760004492788498432*v43*v57 + 166266574523253369140617858905000046799880192*v43*v6 + 416333634228976734448224306106567617187499999232*v43*v7 + 2498001805373860406689345836639405703124999995392*v43*v8 + 64948046939720370573922991752624548281249999880192*v43*v9 - 2046363078975677490234287109375000576*v43 + 4914616061236970228265054927430105484745581625276803970218085937500389376*v44**2 + 39316928489895761826120439419440843877964653002214431761744687500003115008*v44*v45 + 235901570939374570956722636516645063267787918013286590570468125000018690048*v44*v46 + 6153099308668686725787848769142492066901468194846558570713043593750487498752*v44*v47 + 24612397234674746903151395076569968267605872779386234282852174375001949995008*v44*v48 + 147674383408048481418908370459419809605635236676317405697113046250011699970048*v44*v49 + 41566643630813342285154464726250011699970048*v44*v5 + 3839533968609260516891617631944915049746516153584252548124939202500304199221248*v44*v50 + 15831045913975549941882491111755380005836559970796874760192*v44*v51 + 2415625902416885419370166210304947067197656254456043279970796874760192*v44*v52 + 943606283757498283826890546066580253071151672053146362281872500000074760192*v44*v53 + 590697533632193925675633481837679238422540946705269622788452185000046799880192*v44*v54 + 15358135874437042067566470527779660198986064614337010192499756810001216796884992*v44*v55 + 92148815246622252405398823166677961193916387686022061154998540860007300781309952*v44*v56 + 368595260986489009621595292666711844775665550744088244619994163440029203125239808*v44*v57 + 1080732734401146899414016082882500304199221248*v44*v6 + 2706168622488348773913457989692689511718749995008*v44*v7 + 16237011734930092643480747938156137070312499970048*v44*v8 + 422162305108182408730499446392059563828124999221248*v44*v9 - 13301360013341903686522866210937503744*v44 + 78633856979791523652240878838881687755929306004428863523489375000006230016*v45**2 + 943606283757498283826890546066580253071151672053146362281872500000074760192*v45*v46 + 24612397234674746903151395076569968267605872779386234282852174375001949995008*v45*v47 + 98449588938698987612605580306279873070423491117544937131408697500007799980032*v45*v48 + 590697533632193925675633481837679238422540946705269622788452185000046799880192*v45*v49 + 166266574523253369140617858905000046799880192*v45*v5 + 15358135874437042067566470527779660198986064614337010192499756810001216796884992*v45*v50 + 63324183655902199767529964447021520023346239883187499040768*v45*v51 + 9662503609667541677480664841219788268790625017824173119883187499040768*v45*v52 + 3774425135029993135307562184266321012284606688212585449127490000000299040768*v45*v53 + 2362790134528775702702533927350716953690163786821078491153808740000187199520768*v45*v54 + 61432543497748168270265882111118640795944258457348040769999027240004867187539968*v45*v55 + 368595260986489009621595292666711844775665550744088244619994163440029203125239808*v45*v56 + 1474381043945956038486381170666847379102662202976352978479976653760116812500959232*v45*v57 + 4322930937604587597656064331530001216796884992*v45*v6 + 10824674489953395095653831958770758046874999980032*v45*v7 + 64948046939720370573922991752624548281249999880192*v45*v8 + 1688649220432729634921997785568238255312499996884992*v45*v9 - 53205440053367614746091464843750014976*v45 + 2830818851272494851480671638199740759213455016159439086845617500000224280576*v46**2 + 147674383408048481418908370459419809605635236676317405697113046250011699970048*v46*v47 + 590697533632193925675633481837679238422540946705269622788452185000046799880192*v46*v48 + 3544185201793163554053800891026075430535245680231617736730713110000280799281152*v46*v49 + 997599447139520214843707153430000280799281152*v46*v5 + 92148815246622252405398823166677961193916387686022061154998540860007300781309952*v46*v50 + 379945101935413198605179786682129120140077439299124994244608*v46*v51 + 57975021658005250064883989047318729612743750106945038719299124994244608*v46*v52 + 22646550810179958811845373105597926073707640129275512694764940000001794244608*v46*v53 + 14176740807172654216215203564104301722140982720926470946922852440001123197124608*v46*v54 + 368595260986489009621595292666711844775665550744088244619994163440029203125239808*v46*v55 + 2211571565918934057729571756000271068653993304464529467719964980640175218751438848*v46*v56 + 8846286263675736230918287024001084274615973217858117870879859922560700875005755392*v46*v57 + 25937585625627525585936385989180007300781309952*v46*v6 + 64948046939720370573922991752624548281249999880192*v46*v7 + 389688281638322223443537950515747289687499999281152*v46*v8 + 10131895322596377809531986713409429531874999981309952*v46*v9 - 319232640320205688476548789062500089856*v46 + 1925920083613298945171596664741600016940159544986972832633182644843902587109376*v47**2 + 15407360668906391561372773317932800135521276359895782661065461158751220696875008*v47*v48 + 92444164013438349368236639907596800813127658159374695966392766952507324181250048*v47*v49 + 26020718912889152270506694918632507324181250048*v47*v5 + 2403548264349397083574152637597516821141319112143742095126211940765190428712501248*v47*v50 + 9910234742148694263618439435958867883653686541718843599880192*v47*v51 + 1512181814912970272525724047650896864065732815289483093261718843599880192*v47*v52 + 590697533632193925675633481837679238422540946705269622788452185000046799880192*v47*v53 + 369776656053753397472946559630387203252510632637498783865571067810029296725000192*v47*v54 + 9614193057397588334296610550390067284565276448574968380504847763060761714850004992*v47*v55 + 57685158344385530005779663302340403707391658691449810283029086578364570289100029952*v47*v56 + 230740633377542120023118653209361614829566634765799241132116346313458281156400119808*v47*v57 + 676538691735117959033174067884445190428712501248*v47*v6 + 1694061557677706332469824701547623634335937496875008*v47*v7 + 10164369346066237994818948209285741806015624981250048*v47*v8 + 264273602997722187865292653441429286956406249512501248*v47*v9 - 8326651368352031707763314248046877343744*v47 + 30814721337812783122745546635865600271042552719791565322130922317502441393750016*v48**2 + 369776656053753397472946559630387203252510632637498783865571067810029296725000192*v48*v49 + 104082875651556609082026779674530029296725000192*v48*v5 + 9614193057397588334296610550390067284565276448574968380504847763060761714850004992*v48*v50 + 39640938968594777054473757743835471534614746166875374399520768*v48*v51 + 6048727259651881090102896190603587456262931261157932373046875374399520768*v48*v52 + 2362790134528775702702533927350716953690163786821078491153808740000187199520768*v48*v53 + 1479106624215013589891786238521548813010042530549995135462284271240117186900000768*v48*v54 + 38456772229590353337186442201560269138261105794299873522019391052243046859400019968*v48*v55 + 230740633377542120023118653209361614829566634765799241132116346313458281156400119808*v48*v56 + 922962533510168480092474612837446459318266539063196964528465385253833124625600479232*v48*v57 + 2706154766940471836132696271537780761714850004992*v48*v6 + 6776246230710825329879298806190494537343749987500032*v48*v7 + 40657477384264951979275792837142967224062499925000192*v48*v8 + 1057094411990888751461170613765717147825624998050004992*v48*v9 - 33306605473408126831053256992187509374976*v48 + 1109329968161260192418839678891161609757531897912496351596713203430087890175000576*v49**2 + 624497253909339654492160678047180175780350001152*v49*v5 + 57685158344385530005779663302340403707391658691449810283029086578364570289100029952*v49*v50 + 237845633811568662326842546463012829207688477001252246397124608*v49*v51 + 36292363557911286540617377143621524737577587566947594238281252246397124608*v49*v52 + 14176740807172654216215203564104301722140982720926470946922852440001123197124608*v49*v53 + 8874639745290081539350717431129292878060255183299970812773705627440703121400004608*v49*v54 + 230740633377542120023118653209361614829566634765799241132116346313458281156400119808*v49*v55 + 1384443800265252720138711919256169688977399808594795446792698077880749686938400718848*v49*v56 + 5537775201061010880554847677024678755909599234379181787170792311522998747753602875392*v49*v57 + 16236928601642831016796177629226684570289100029952*v49*v6 + 40657477384264951979275792837142967224062499925000192*v49*v7 + 243944864305589711875654757022857803344374999550001152*v49*v8 + 6342566471945332508767023682594302886953749988300029952*v49*v9 - 199839632840448760986319541953125056249856*v49 + 87890175000576*v5**2 + 16236928601642831016796177629226684570289100029952*v5*v50 + 66947594238281252246397124608*v5*v51 + 10215392187304687499999561252246397124608*v5*v52 + 3990397788558080859374828613720001123197124608*v5*v53 + 2497989015637358617968642712188720703121400004608*v5*v54 + 64947714406571324067184710516906738281156400119808*v5*v55 + 389686286439427944403108263101440429686938400718848*v5*v56 + 1558745145757711777612433052405761718747753602875392*v5*v57 + 4570289100029952*v5*v6 + 11444062499925000192*v5*v7 + 68664374999550001152*v5*v8 + 1785273749988300029952*v5*v9 - 56249856*v5 + 749907058477011890075135622930425248196091562988847533679378125518739413758300389376*v50**2 + 6183986479100785220497906208038333559399900402032558406325239808*v50*v51 + 943601452505693450056051805734159643177017276740637450195312558406325239808*v50*v52 + 368595260986489009621595292666711844775665550744088244619994163440029203125239808*v50*v53 + 230740633377542120023118653209361614829566634765799241132116346313458281156400119808*v50*v54 + 5999256467816095120601084983443401985568732503910780269435025004149915310066403115008*v50*v55 + 35995538806896570723606509900660411913412395023464681616610150024899491860398418690048*v50*v56 + 143982155227586282894426039602641647653649580093858726466440600099597967441593674760192*v50*v57 + 422160143642713606436700618359893798827516600778752*v50*v6 + 1057094411990888751461170613765717147825624998050004992*v50*v7 + 6342566471945332508767023682594302886953749988300029952*v50*v8 + 164906728270578645227942615747451875060797499695800778752*v50*v9 - 5195830453851667785644308090781251462496256*v50 + 12748809449589148804780702437196496388489216*v51**2 + 3890627883811248596920632898804781249994392992776978432*v51*v52 + 1519780407741652794420719146728516480560309757196499976978432*v51*v53 + 951382535246274649307370185852051316830753908005008985588498432*v51*v54 + 24735945916403140881991624832153334237599601608130233625300959232*v51*v55 + 148415675498418845291949748992920005425597609648781401751805755392*v51*v56 + 593662701993675381167798995971680021702390438595125607007223021568*v51*v57 + 1740637450195312558406325239808*v51*v6 + 4358578491153808740000187199520768*v51*v7 + 26151470946922852440001123197124608*v51*v8 + 679938244619994163440029203125239808*v51*v9 - 21423284999859600359424*v51 + 296831351000728318467710746582760643750000000547557196496388489216*v52**2 + 231900086632021000259535956189274918450975000427780154877196499976978432*v52*v53 + 145169454231645146162469508574486098950310350267790376953125008985588498432*v52*v54 + 3774405810022773800224207222936638572708069106962549800781250233625300959232*v52*v55 + 22646434860136642801345243337619831436248414641775298804687501401751805755392*v52*v56 + 90585739440546571205380973350479325744993658567101195218750005607007223021568*v52*v57 + 265600196869921874999988592558406325239808*v52*v6 + 665066298093013476562471435620000187199520768*v52*v7 + 3990397788558080859374828613720001123197124608*v52*v8 + 103750342502510102343745543956720029203125239808*v52*v9 - 3268933868408203124999859600359424*v52 + 45293101620359917623690746211195852147415280258551025389529880000003588489216*v53**2 + 56706963228690616864860814256417206888563930883705883787691409760004492788498432*v53*v54 + 1474381043945956038486381170666847379102662202976352978479976653760116812500959232*v53*v55 + 8846286263675736230918287024001084274615973217858117870879859922560700875005755392*v53*v56 + 35385145054702944923673148096004337098463892871432471483519439690242803500023021568*v53*v57 + 103750342502510102343745543956720029203125239808*v53*v6 + 259792187758881482295691967010498193124999999520768*v53*v7 + 1558753126553288893774151802062989158749999997124608*v53*v8 + 40527581290385511238127946853637718127499999925239808*v53*v9 - 1276930561280822753906195156250000359424*v53 + 17749279490580163078701434862258585756120510366599941625547411254881406242800009216*v54**2 + 922962533510168480092474612837446459318266539063196964528465385253833124625600479232*v54*v55 + 5537775201061010880554847677024678755909599234379181787170792311522998747753602875392*v54*v56 + 22151100804244043522219390708098715023638396937516727148683169246091994991014411501568*v54*v57 + 64947714406571324067184710516906738281156400119808*v54*v6 + 162629909537059807917103171348571868896249999700000768*v54*v7 + 975779457222358847502619028091431213377499998200004608*v54*v8 + 25370265887781330035068094730377211547814999953200119808*v54*v9 - 799358531361795043945278167812500224999424*v54 + 11998512935632190241202169966886803971137465007821560538870050008299830620132806230016*v55**2 + 143982155227586282894426039602641647653649580093858726466440600099597967441593674760192*v55*v56 + 575928620910345131577704158410566590614598320375434905865762400398391869766374699040768*v55*v57 + 1688640574570854425746802473439575195310066403115008*v55*v6 + 4228377647963555005844682455062868591302499992200019968*v55*v7 + 25370265887781330035068094730377211547814999953200119808*v55*v8 + 659626913082314580911770462989807500243189998783203115008*v55*v9 - 20783321815406671142577232363125005849985024*v55 + 431946465682758848683278118807924942960948740281576179399321800298793902324781024280576*v56**2 + 3455571725462070789466224950463399543687589922252609435194574402390351218598248194244608*v56*v57 + 10131843447425126554480814840637451171860398418690048*v56*v6 + 25370265887781330035068094730377211547814999953200119808*v56*v7 + 152221595326687980210408568382263269286889999719200718848*v56*v8 + 3957761478493887485470622777938845001459139992699218690048*v56*v9 - 124699930892440026855463394178750035099910144*v56 + 6911143450924141578932449900926799087375179844505218870389148804780702437196496388489216*v57**2 + 40527373789700506217923259362549804687441593674760192*v57*v6 + 101481063551125320140272378921508846191259999812800479232*v57*v7 + 608886381306751920841634273529053077147559998876802875392*v57*v8 + 15831045913975549941882491111755380005836559970796874760192*v57*v9 - 498799723569760107421853576715000140399640576*v57 + 59413758300389376*v6**2 + 297545624998050004992*v6*v7 + 1785273749988300029952*v6*v8 + 46417117499695800778752*v6*v9 - 1462496256*v6 + 372529029841308593750016*v7**2 + 4470348358095703125000192*v7*v8 + 116229057310488281250004992*v7*v9 - 3662109374976*v7 + 13411045074287109375000576*v8**2 + 697374343862929687500029952*v8*v9 - 21972656249856*v8 + 9065866470218085937500389376*v9**2 - 571289062496256*v9 + 9\n"
     ]
    },
    {
     "ename": "ValueError",
     "evalue": "Maximum allowed dimension exceeded",
     "output_type": "error",
     "traceback": [
      "\u001B[31m---------------------------------------------------------------------------\u001B[39m",
      "\u001B[31mValueError\u001B[39m                                Traceback (most recent call last)",
      "\u001B[36mCell\u001B[39m\u001B[36m \u001B[39m\u001B[32mIn[30]\u001B[39m\u001B[32m, line 4\u001B[39m\n\u001B[32m      2\u001B[39m h = \u001B[32m4\u001B[39m\n\u001B[32m      3\u001B[39m p = \u001B[32m23\u001B[39m\n\u001B[32m----> \u001B[39m\u001B[32m4\u001B[39m \u001B[43mfactorization\u001B[49m\u001B[43m(\u001B[49m\u001B[43mg\u001B[49m\u001B[43m,\u001B[49m\u001B[43mh\u001B[49m\u001B[43m,\u001B[49m\u001B[43mp\u001B[49m\u001B[43m)\u001B[49m\n",
      "\u001B[36mCell\u001B[39m\u001B[36m \u001B[39m\u001B[32mIn[27]\u001B[39m\u001B[32m, line 15\u001B[39m, in \u001B[36mfactorization\u001B[39m\u001B[34m(g, h, p)\u001B[39m\n\u001B[32m     13\u001B[39m reduct_demension_expr = get_reduct_expression(g,h,p)\n\u001B[32m     14\u001B[39m expr_ising = transfers_qubo2Ising(reduct_demension_expr)\n\u001B[32m---> \u001B[39m\u001B[32m15\u001B[39m solution = \u001B[43mget_solution\u001B[49m\u001B[43m(\u001B[49m\u001B[43mexpr_ising\u001B[49m\u001B[43m)\u001B[49m\n\u001B[32m     16\u001B[39m (y_val,k_val) = calcule_y(solution,expr_y,expr_k)\n\u001B[32m     17\u001B[39m y_int = \u001B[38;5;28mint\u001B[39m(y_val)\n",
      "\u001B[36mCell\u001B[39m\u001B[36m \u001B[39m\u001B[32mIn[3]\u001B[39m\u001B[32m, line 134\u001B[39m, in \u001B[36mget_solution\u001B[39m\u001B[34m(expr_ising)\u001B[39m\n\u001B[32m    132\u001B[39m \u001B[38;5;28;01mdef\u001B[39;00m\u001B[38;5;250m \u001B[39m\u001B[34mget_solution\u001B[39m(expr_ising):\n\u001B[32m    133\u001B[39m     (linear,quadratic,offset) = get_solver_parameter(expr_ising)\n\u001B[32m--> \u001B[39m\u001B[32m134\u001B[39m     response = \u001B[43mcomposed_sampler\u001B[49m\u001B[43m.\u001B[49m\u001B[43msample_ising\u001B[49m\u001B[43m(\u001B[49m\u001B[43mlinear\u001B[49m\u001B[43m,\u001B[49m\u001B[43m \u001B[49m\u001B[43mquadratic\u001B[49m\u001B[43m)\u001B[49m  \u001B[38;5;66;03m#response.data() return (solution, energy, num_occurrences)\u001B[39;00m\n\u001B[32m    135\u001B[39m     solution = \u001B[38;5;28mnext\u001B[39m(response.data())[\u001B[32m0\u001B[39m]\n\u001B[32m    136\u001B[39m     \u001B[38;5;28;01mreturn\u001B[39;00m solution\n",
      "\u001B[36mFile \u001B[39m\u001B[32m~\\AppData\\Local\\Programs\\Python\\Python313\\Lib\\site-packages\\dimod\\core\\sampler.py:267\u001B[39m, in \u001B[36mSampler.sample_ising\u001B[39m\u001B[34m(self, h, J, **parameters)\u001B[39m\n\u001B[32m    244\u001B[39m \u001B[38;5;250m\u001B[39m\u001B[33;03m\"\"\"Sample from an Ising model using the implemented sample method.\u001B[39;00m\n\u001B[32m    245\u001B[39m \n\u001B[32m    246\u001B[39m \u001B[33;03mThis method is inherited from the :class:`.Sampler` base class.\u001B[39;00m\n\u001B[32m   (...)\u001B[39m\u001B[32m    264\u001B[39m \n\u001B[32m    265\u001B[39m \u001B[33;03m\"\"\"\u001B[39;00m\n\u001B[32m    266\u001B[39m bqm = BinaryQuadraticModel.from_ising(h, J)\n\u001B[32m--> \u001B[39m\u001B[32m267\u001B[39m \u001B[38;5;28;01mreturn\u001B[39;00m \u001B[38;5;28;43mself\u001B[39;49m\u001B[43m.\u001B[49m\u001B[43msample\u001B[49m\u001B[43m(\u001B[49m\u001B[43mbqm\u001B[49m\u001B[43m,\u001B[49m\u001B[43m \u001B[49m\u001B[43m*\u001B[49m\u001B[43m*\u001B[49m\u001B[43mparameters\u001B[49m\u001B[43m)\u001B[49m\n",
      "\u001B[36mFile \u001B[39m\u001B[32m~\\AppData\\Local\\Programs\\Python\\Python313\\Lib\\site-packages\\dimod\\decorators.py:86\u001B[39m, in \u001B[36mnonblocking_sample_method.<locals>._sample\u001B[39m\u001B[34m(*args, **kwargs)\u001B[39m\n\u001B[32m     83\u001B[39m iterator = f(*args, **kwargs)\n\u001B[32m     85\u001B[39m \u001B[38;5;66;03m# resolve blocking part now, and make hook for the non-blocking part\u001B[39;00m\n\u001B[32m---> \u001B[39m\u001B[32m86\u001B[39m \u001B[38;5;28;01mreturn\u001B[39;00m SampleSet.from_future(\u001B[38;5;28;43mnext\u001B[39;49m\u001B[43m(\u001B[49m\u001B[43miterator\u001B[49m\u001B[43m)\u001B[49m, \u001B[38;5;28;01mlambda\u001B[39;00m _: \u001B[38;5;28mnext\u001B[39m(iterator))\n",
      "\u001B[36mFile \u001B[39m\u001B[32m~\\AppData\\Local\\Programs\\Python\\Python313\\Lib\\site-packages\\dwave\\preprocessing\\composites\\spin_reversal_transform.py:201\u001B[39m, in \u001B[36mSpinReversalTransformComposite.sample\u001B[39m\u001B[34m(self, bqm, num_spin_reversal_transforms, **kwargs)\u001B[39m\n\u001B[32m    198\u001B[39m             bqm.flip_variable(v)\n\u001B[32m    199\u001B[39m     flipped[transform] = ~flipped[transform]\n\u001B[32m--> \u001B[39m\u001B[32m201\u001B[39m     samplesets.append(\u001B[43msampler\u001B[49m\u001B[43m.\u001B[49m\u001B[43msample\u001B[49m\u001B[43m(\u001B[49m\u001B[43mbqm\u001B[49m\u001B[43m,\u001B[49m\u001B[43m \u001B[49m\u001B[43m*\u001B[49m\u001B[43m*\u001B[49m\u001B[43mkwargs\u001B[49m\u001B[43m)\u001B[49m)\n\u001B[32m    203\u001B[39m \u001B[38;5;66;03m# Yield a view of the samplesets that reports done()-ness\u001B[39;00m\n\u001B[32m    204\u001B[39m \u001B[38;5;28;01myield\u001B[39;00m \u001B[38;5;28mself\u001B[39m._SampleSets(samplesets)\n",
      "\u001B[36mFile \u001B[39m\u001B[32m~\\AppData\\Local\\Programs\\Python\\Python313\\Lib\\site-packages\\dimod\\reference\\samplers\\exact_solver.py:83\u001B[39m, in \u001B[36mExactSolver.sample\u001B[39m\u001B[34m(self, bqm, **kwargs)\u001B[39m\n\u001B[32m     80\u001B[39m \u001B[38;5;28;01mif\u001B[39;00m \u001B[38;5;129;01mnot\u001B[39;00m \u001B[38;5;28mlen\u001B[39m(bqm.variables):\n\u001B[32m     81\u001B[39m     \u001B[38;5;28;01mreturn\u001B[39;00m SampleSet.from_samples([], bqm.vartype, energy=[])\n\u001B[32m---> \u001B[39m\u001B[32m83\u001B[39m samples = \u001B[43m_graycode\u001B[49m\u001B[43m(\u001B[49m\u001B[43mbqm\u001B[49m\u001B[43m)\u001B[49m\n\u001B[32m     85\u001B[39m \u001B[38;5;28;01mif\u001B[39;00m bqm.vartype \u001B[38;5;129;01mis\u001B[39;00m Vartype.SPIN:\n\u001B[32m     86\u001B[39m     samples = \u001B[32m2\u001B[39m*samples - \u001B[32m1\u001B[39m\n",
      "\u001B[36mFile \u001B[39m\u001B[32m~\\AppData\\Local\\Programs\\Python\\Python313\\Lib\\site-packages\\dimod\\reference\\samplers\\exact_solver.py:257\u001B[39m, in \u001B[36m_graycode\u001B[39m\u001B[34m(bqm)\u001B[39m\n\u001B[32m    255\u001B[39m n = \u001B[38;5;28mlen\u001B[39m(bqm.variables)\n\u001B[32m    256\u001B[39m ns = \u001B[32m1\u001B[39m << n\n\u001B[32m--> \u001B[39m\u001B[32m257\u001B[39m samples = \u001B[43mnp\u001B[49m\u001B[43m.\u001B[49m\u001B[43mempty\u001B[49m\u001B[43m(\u001B[49m\u001B[43m(\u001B[49m\u001B[43mns\u001B[49m\u001B[43m,\u001B[49m\u001B[43m \u001B[49m\u001B[43mn\u001B[49m\u001B[43m)\u001B[49m\u001B[43m,\u001B[49m\u001B[43m \u001B[49m\u001B[43mdtype\u001B[49m\u001B[43m=\u001B[49m\u001B[43mnp\u001B[49m\u001B[43m.\u001B[49m\u001B[43mint8\u001B[49m\u001B[43m)\u001B[49m\n\u001B[32m    259\u001B[39m samples[\u001B[32m0\u001B[39m, :] = \u001B[32m0\u001B[39m\n\u001B[32m    261\u001B[39m \u001B[38;5;28;01mfor\u001B[39;00m i \u001B[38;5;129;01min\u001B[39;00m \u001B[38;5;28mrange\u001B[39m(\u001B[32m1\u001B[39m, ns):\n",
      "\u001B[31mValueError\u001B[39m: Maximum allowed dimension exceeded"
     ]
    }
   ],
   "execution_count": 30
  }
 ],
 "metadata": {
  "kernelspec": {
   "display_name": "Python 3",
   "language": "python",
   "name": "python3"
  },
  "language_info": {
   "codemirror_mode": {
    "name": "ipython",
    "version": 3
   },
   "file_extension": ".py",
   "mimetype": "text/x-python",
   "name": "python",
   "nbconvert_exporter": "python",
   "pygments_lexer": "ipython3",
   "version": "3.13.2"
  }
 },
 "nbformat": 4,
 "nbformat_minor": 2
}
