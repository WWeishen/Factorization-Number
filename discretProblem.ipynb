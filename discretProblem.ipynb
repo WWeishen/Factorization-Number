{
 "cells": [
  {
   "cell_type": "markdown",
   "metadata": {},
   "source": "# Discret logarithmic problème"
  },
  {
   "cell_type": "code",
   "metadata": {
    "ExecuteTime": {
     "end_time": "2025-04-23T12:00:41.731242Z",
     "start_time": "2025-04-23T12:00:39.478695Z"
    }
   },
   "source": [
    "import sympy as sp\n",
    "import numpy as np\n",
    "import math"
   ],
   "outputs": [],
   "execution_count": 1
  },
  {
   "metadata": {},
   "cell_type": "markdown",
   "source": [
    "## Dans le groupe additif $( \\mathbb{Z}_p, + )$\n",
    "\n",
    "étant donné un nombre premier \\(p\\), un générateur \\(g\\) du groupe additif $\\mathbb{Z}_p$, et un élément $y \\in \\mathbb{Z}_p$, trouver $x$ tel que :\n",
    "    $a \\cdot x \\equiv b \\pmod{p}$"
   ]
  },
  {
   "metadata": {
    "ExecuteTime": {
     "end_time": "2025-04-23T12:00:41.749186Z",
     "start_time": "2025-04-23T12:00:41.743146Z"
    }
   },
   "cell_type": "code",
   "source": [
    "# variables globales\n",
    "variables=[]\n",
    "dictionaire_auxiliary_variable={}\n",
    "res=1\n",
    "variables_Ising =[]\n",
    "dict_variable_model_map={}\n",
    "x=sp.Add()\n",
    "k=sp.Add()"
   ],
   "outputs": [],
   "execution_count": 2
  },
  {
   "cell_type": "code",
   "metadata": {
    "ExecuteTime": {
     "end_time": "2025-04-23T12:00:42.221403Z",
     "start_time": "2025-04-23T12:00:42.208464Z"
    }
   },
   "source": [
    "# Créer un symbole à partir d'un nom en string\n",
    "def create_variables(var_name):\n",
    "    if isinstance(var_name, str) :\n",
    "        try:\n",
    "            symbol = sp.symbols(var_name)\n",
    "            globals()[var_name] = symbol\n",
    "            variables.append(symbol)\n",
    "        except ValueError:\n",
    "            print(f\"{var_name} ValueError\")\n",
    "    return symbol"
   ],
   "outputs": [],
   "execution_count": 3
  },
  {
   "cell_type": "code",
   "metadata": {
    "ExecuteTime": {
     "end_time": "2025-04-23T12:00:42.292504Z",
     "start_time": "2025-04-23T12:00:42.282031Z"
    }
   },
   "source": [
    "# set variable en binaire qui est dans {0,...,p-1}\n",
    "# exemple : x = u1 + 2u2 + 4u3 + ... + 2^(n-2)un-1 + (p-2^(n-1)+1)un\n",
    "\n",
    "def set_x_expression(n,p):  # n est length de x en binaire\n",
    "    # len(x) = len(p)\n",
    "    expr_x = 0\n",
    "    # de u1 à un-1\n",
    "    for i in range(1,n):\n",
    "        var_name = ('u' + str(i))\n",
    "        var = create_variables(var_name)\n",
    "        expr_x = 2**(i-1) * var + expr_x\n",
    "    # un\n",
    "    expr_x = expr_x + (p-2**(n-1)+1) * create_variables('u' + str(n))\n",
    "    return expr_x\n",
    "\n",
    "def set_k_expression(n):  # l est length de k en binaire\n",
    "    l = math.floor(math.log2(n)) + 1\n",
    "    expr_k = 0\n",
    "    # de u1 à un-1\n",
    "    for i in range(1,l):\n",
    "        var_name = ('k' + str(i))\n",
    "        var = create_variables(var_name)\n",
    "        expr_k = 2**(i-1) * var + expr_k\n",
    "    # un\n",
    "    expr_k = expr_k + (n-2**(l-1)+1) * create_variables('k' + str(n))\n",
    "    return expr_k"
   ],
   "outputs": [],
   "execution_count": 4
  },
  {
   "metadata": {},
   "cell_type": "markdown",
   "source": "Ici on donne n = 3 comme parapmètre mais le n de x est décidé par p, x et p ont la même taille"
  },
  {
   "metadata": {
    "ExecuteTime": {
     "end_time": "2025-04-23T12:00:42.493629Z",
     "start_time": "2025-04-23T12:00:42.334543Z"
    }
   },
   "cell_type": "code",
   "source": [
    "x = set_x_expression(3,5)\n",
    "x"
   ],
   "outputs": [
    {
     "data": {
      "text/plain": [
       "u1 + 2*u2 + 2*u3"
      ],
      "text/latex": "$\\displaystyle u_{1} + 2 u_{2} + 2 u_{3}$"
     },
     "execution_count": 5,
     "metadata": {},
     "output_type": "execute_result"
    }
   ],
   "execution_count": 5
  },
  {
   "metadata": {},
   "cell_type": "markdown",
   "source": [
    "### définir fonction\n",
    "$(x \\cdot a \\bmod p ) + (-b \\bmod p) - k\\cdot p = 0 $"
   ]
  },
  {
   "cell_type": "code",
   "metadata": {
    "ExecuteTime": {
     "end_time": "2025-04-23T12:00:42.561057Z",
     "start_time": "2025-04-23T12:00:42.545065Z"
    }
   },
   "source": [
    "def define_function(a, b, p):\n",
    "    # set variables for x\n",
    "    n = math.ceil(math.log2(p))  # len de x == len de p\n",
    "    global x\n",
    "    x = set_x_expression(n,p)\n",
    "\n",
    "    #set variables for k\n",
    "    global k\n",
    "    k = set_k_expression(n)\n",
    "\n",
    "    # set expression\n",
    "    expr = x * sp.Mod(a,p)\n",
    "    expr = expr + sp.Mod(-b,p)\n",
    "    expr = expr - (k * p)\n",
    "    expr = (expr) **2\n",
    "    expr = sp.expand(expr)\n",
    "    return expr"
   ],
   "outputs": [],
   "execution_count": 6
  },
  {
   "cell_type": "code",
   "metadata": {
    "ExecuteTime": {
     "end_time": "2025-04-23T12:00:42.754018Z",
     "start_time": "2025-04-23T12:00:42.693557Z"
    }
   },
   "source": [
    "expr = define_function(2,3,5)\n",
    "expr"
   ],
   "outputs": [
    {
     "name": "stdout",
     "output_type": "stream",
     "text": [
      "u1 + 2*u2 + 2*u3\n",
      "k1 + 2*k3\n"
     ]
    },
    {
     "data": {
      "text/plain": [
       "25*k1**2 + 100*k1*k3 - 20*k1*u1 - 40*k1*u2 - 40*k1*u3 - 20*k1 + 100*k3**2 - 40*k3*u1 - 80*k3*u2 - 80*k3*u3 - 40*k3 + 4*u1**2 + 16*u1*u2 + 16*u1*u3 + 8*u1 + 16*u2**2 + 32*u2*u3 + 16*u2 + 16*u3**2 + 16*u3 + 4"
      ],
      "text/latex": "$\\displaystyle 25 k_{1}^{2} + 100 k_{1} k_{3} - 20 k_{1} u_{1} - 40 k_{1} u_{2} - 40 k_{1} u_{3} - 20 k_{1} + 100 k_{3}^{2} - 40 k_{3} u_{1} - 80 k_{3} u_{2} - 80 k_{3} u_{3} - 40 k_{3} + 4 u_{1}^{2} + 16 u_{1} u_{2} + 16 u_{1} u_{3} + 8 u_{1} + 16 u_{2}^{2} + 32 u_{2} u_{3} + 16 u_{2} + 16 u_{3}^{2} + 16 u_{3} + 4$"
     },
     "execution_count": 7,
     "metadata": {},
     "output_type": "execute_result"
    }
   ],
   "execution_count": 7
  },
  {
   "cell_type": "code",
   "metadata": {
    "ExecuteTime": {
     "end_time": "2025-04-23T12:00:43.217530Z",
     "start_time": "2025-04-23T12:00:43.198714Z"
    }
   },
   "source": [
    "def reduct_variable_power_term(term):\n",
    "    new_term = 1\n",
    "    for variable,power in term.as_powers_dict().items():\n",
    "        new_term *= variable\n",
    "    return new_term\n",
    "\n",
    "def reduct_variable_power_function(expr):\n",
    "    expanded_expr = sp.expand(expr)\n",
    "    expanded_reducted = 0\n",
    "    for term in expanded_expr.args:\n",
    "        new_term = reduct_variable_power_term(term)\n",
    "        expanded_reducted += new_term\n",
    "    return expanded_reducted"
   ],
   "outputs": [],
   "execution_count": 8
  },
  {
   "cell_type": "code",
   "metadata": {
    "ExecuteTime": {
     "end_time": "2025-04-23T12:00:43.478413Z",
     "start_time": "2025-04-23T12:00:43.426797Z"
    }
   },
   "source": [
    "expr_reduct_power = reduct_variable_power_function(expr)\n",
    "expr_reduct_power"
   ],
   "outputs": [
    {
     "data": {
      "text/plain": [
       "100*k1*k3 - 20*k1*u1 - 40*k1*u2 - 40*k1*u3 + 5*k1 - 40*k3*u1 - 80*k3*u2 - 80*k3*u3 + 60*k3 + 16*u1*u2 + 16*u1*u3 + 12*u1 + 32*u2*u3 + 32*u2 + 32*u3 + 4"
      ],
      "text/latex": "$\\displaystyle 100 k_{1} k_{3} - 20 k_{1} u_{1} - 40 k_{1} u_{2} - 40 k_{1} u_{3} + 5 k_{1} - 40 k_{3} u_{1} - 80 k_{3} u_{2} - 80 k_{3} u_{3} + 60 k_{3} + 16 u_{1} u_{2} + 16 u_{1} u_{3} + 12 u_{1} + 32 u_{2} u_{3} + 32 u_{2} + 32 u_{3} + 4$"
     },
     "execution_count": 9,
     "metadata": {},
     "output_type": "execute_result"
    }
   ],
   "execution_count": 9
  },
  {
   "cell_type": "code",
   "metadata": {
    "ExecuteTime": {
     "end_time": "2025-04-23T12:00:43.728412Z",
     "start_time": "2025-04-23T12:00:43.692915Z"
    }
   },
   "source": [
    "# les varaiables sont sort par la lettre puis un nombre: \"x12\" -> \"x\" 12\n",
    "def sort_key(variable):\n",
    "    name = str(variable)\n",
    "    # Split le nom du variable aux deux parties: letter & number \n",
    "    letter = name[0]\n",
    "    number = int(name[1:])\n",
    "    return (letter, number)\n",
    "\n",
    "def rest_term(coef , rest_variable_liste):\n",
    "    new_term = coef\n",
    "    while(len(rest_variable_liste)!=0):\n",
    "        new_term = new_term * rest_variable_liste[0]\n",
    "        rest_variable_liste.pop()\n",
    "    return new_term\n",
    "\n",
    "# si #variables > 2 : diemension -1\n",
    "def reduct_demension_term(coef,variables_liste):    \n",
    "    global res\n",
    "\n",
    "    # sélection les 3 premières variables\n",
    "    [x_1, x_2, x_3] = variables_liste[:3]\n",
    "    \n",
    "    # garder le reste des variables\n",
    "    rest_variables_liste= variables_liste[3:]\n",
    "    rest_expr = rest_term(coef , rest_variables_liste)\n",
    "\n",
    "    # commence la réduction dimension\n",
    "    tup=(x_1,x_2)\n",
    "    #check dict s'il existe déjà une variable auxiliary qui = les deux meme variable\n",
    "    key = next((k for k, v in dictionaire_auxiliary_variable.items() if v == tup), None)\n",
    "    if key==None:#sinon, il faut creer une variable auxiliary\n",
    "        var_name = \"x\" + str(res)\n",
    "        x_4 = create_variables(var_name)\n",
    "        dictionaire_auxiliary_variable[x_4]=(x_1,x_2)\n",
    "        res += 1 \n",
    "    else:\n",
    "        x_4 = key \n",
    "\n",
    "    expr_reduct_formula = x_4 * x_3 + 2 * (x_1 * x_2 - 2 * x_1 * x_4 - 2 * x_2 * x_4 + 3 * x_4)\n",
    "\n",
    "    expr_reduct = rest_expr * expr_reduct_formula\n",
    "    return sp.expand(expr_reduct)\n",
    "\n",
    "def reduct_demension_expression(expr):\n",
    "    new_expr = 0\n",
    "    need_reduction = False\n",
    "\n",
    "    for term in expr.args:\n",
    "        # get coefficant(la constante) et variables(dans une liste)\n",
    "        variables_liste = sorted(term.free_symbols, key=sort_key)\n",
    "        coef = term.as_coeff_mul()[0]\n",
    "\n",
    "        # pour les termes qui ont plus de 2 variables, il faut appliquer la formule de réduction\n",
    "        if len(variables_liste) > 2 :\n",
    "            if len(variables_liste) > 3 :  \n",
    "                need_reduction = True\n",
    "            new_term = reduct_demension_term(coef, variables_liste) \n",
    "            new_expr +=  new_term\n",
    "        else:\n",
    "            # sinon, on ne fait rien et les met directement dans la nouvelle expression\n",
    "            new_expr += term\n",
    "\n",
    "    if need_reduction: # récursive\n",
    "        return reduct_demension_expression(new_expr)\n",
    "    else:\n",
    "        return new_expr\n",
    "    \n",
    "# obtient l'expression finale\n",
    "def get_reduct_expression(a,b,p):\n",
    "    expr = define_function(a,b,p)\n",
    "    expr_reduct_power = reduct_variable_power_function(expr)\n",
    "    reduct_demension_expr = reduct_demension_expression(expr_reduct_power)\n",
    "    return reduct_demension_expr"
   ],
   "outputs": [],
   "execution_count": 10
  },
  {
   "cell_type": "code",
   "metadata": {
    "ExecuteTime": {
     "end_time": "2025-04-23T12:00:44.042326Z",
     "start_time": "2025-04-23T12:00:44.002985Z"
    }
   },
   "source": [
    "reduct_demension_expr = reduct_demension_expression(expr_reduct_power)\n",
    "print(reduct_demension_expr)\n",
    "reduct_demension_expr"
   ],
   "outputs": [
    {
     "name": "stdout",
     "output_type": "stream",
     "text": [
      "100*k1*k3 - 20*k1*u1 - 40*k1*u2 - 40*k1*u3 + 5*k1 - 40*k3*u1 - 80*k3*u2 - 80*k3*u3 + 60*k3 + 16*u1*u2 + 16*u1*u3 + 12*u1 + 32*u2*u3 + 32*u2 + 32*u3 + 4\n"
     ]
    },
    {
     "data": {
      "text/plain": [
       "100*k1*k3 - 20*k1*u1 - 40*k1*u2 - 40*k1*u3 + 5*k1 - 40*k3*u1 - 80*k3*u2 - 80*k3*u3 + 60*k3 + 16*u1*u2 + 16*u1*u3 + 12*u1 + 32*u2*u3 + 32*u2 + 32*u3 + 4"
      ],
      "text/latex": "$\\displaystyle 100 k_{1} k_{3} - 20 k_{1} u_{1} - 40 k_{1} u_{2} - 40 k_{1} u_{3} + 5 k_{1} - 40 k_{3} u_{1} - 80 k_{3} u_{2} - 80 k_{3} u_{3} + 60 k_{3} + 16 u_{1} u_{2} + 16 u_{1} u_{3} + 12 u_{1} + 32 u_{2} u_{3} + 32 u_{2} + 32 u_{3} + 4$"
     },
     "execution_count": 11,
     "metadata": {},
     "output_type": "execute_result"
    }
   ],
   "execution_count": 11
  },
  {
   "metadata": {
    "ExecuteTime": {
     "end_time": "2025-04-23T12:00:44.301759Z",
     "start_time": "2025-04-23T12:00:44.294340Z"
    }
   },
   "cell_type": "code",
   "source": "",
   "outputs": [],
   "execution_count": null
  },
  {
   "metadata": {},
   "cell_type": "markdown",
   "source": "# transfert to Ising"
  },
  {
   "metadata": {
    "ExecuteTime": {
     "end_time": "2025-04-23T12:00:44.396377Z",
     "start_time": "2025-04-23T12:00:44.390713Z"
    }
   },
   "cell_type": "code",
   "source": "",
   "outputs": [],
   "execution_count": null
  },
  {
   "metadata": {
    "ExecuteTime": {
     "end_time": "2025-04-23T12:00:44.642299Z",
     "start_time": "2025-04-23T12:00:44.633352Z"
    }
   },
   "cell_type": "code",
   "source": [
    "def transfers_qubo2Ising(reduct_demension_expr):\n",
    "\n",
    "    subs_relations = {(variable, ( variable + 1 ) /2) for variable in variables}\n",
    "\n",
    "    # Après la substitution, variables dans l'expression sont des variables d'Ising dans {-1,+1}\n",
    "    new_expr = reduct_demension_expr.subs(subs_relations)\n",
    "    new_expr = sp.expand(new_expr)\n",
    "    return new_expr"
   ],
   "outputs": [],
   "execution_count": 12
  },
  {
   "metadata": {
    "ExecuteTime": {
     "end_time": "2025-04-23T12:00:44.886872Z",
     "start_time": "2025-04-23T12:00:44.809172Z"
    }
   },
   "cell_type": "code",
   "source": [
    "expr_ising = transfers_qubo2Ising(reduct_demension_expr)\n",
    "expr_ising"
   ],
   "outputs": [
    {
     "data": {
      "text/plain": [
       "25*k1*k3 - 5*k1*u1 - 10*k1*u2 - 10*k1*u3 + 5*k1/2 - 10*k3*u1 - 20*k3*u2 - 20*k3*u3 + 5*k3 + 4*u1*u2 + 4*u1*u3 - u1 + 8*u2*u3 - 2*u2 - 2*u3 + 81/2"
      ],
      "text/latex": "$\\displaystyle 25 k_{1} k_{3} - 5 k_{1} u_{1} - 10 k_{1} u_{2} - 10 k_{1} u_{3} + \\frac{5 k_{1}}{2} - 10 k_{3} u_{1} - 20 k_{3} u_{2} - 20 k_{3} u_{3} + 5 k_{3} + 4 u_{1} u_{2} + 4 u_{1} u_{3} - u_{1} + 8 u_{2} u_{3} - 2 u_{2} - 2 u_{3} + \\frac{81}{2}$"
     },
     "execution_count": 13,
     "metadata": {},
     "output_type": "execute_result"
    }
   ],
   "execution_count": 13
  },
  {
   "metadata": {},
   "cell_type": "markdown",
   "source": "# find solution"
  },
  {
   "cell_type": "code",
   "metadata": {
    "ExecuteTime": {
     "end_time": "2025-04-23T12:00:46.217851Z",
     "start_time": "2025-04-23T12:00:44.996242Z"
    }
   },
   "source": [
    "#import qubo modèle huristique\n",
    "import dimod\n",
    "from dwave.preprocessing.composites import SpinReversalTransformComposite\n",
    "\n",
    "# Compose the sampler\n",
    "base_sampler = dimod.ExactSolver()\n",
    "composed_sampler = SpinReversalTransformComposite(base_sampler)\n",
    "base_sampler in composed_sampler.children"
   ],
   "outputs": [
    {
     "data": {
      "text/plain": [
       "True"
      ]
     },
     "execution_count": 14,
     "metadata": {},
     "output_type": "execute_result"
    }
   ],
   "execution_count": 14
  },
  {
   "metadata": {
    "ExecuteTime": {
     "end_time": "2025-04-23T12:00:46.285421Z",
     "start_time": "2025-04-23T12:00:46.275881Z"
    }
   },
   "cell_type": "code",
   "source": [
    "def get_solver_parameter(expr_ising):\n",
    "    linear = {}\n",
    "    quadratic ={}\n",
    "    offset = 0\n",
    "\n",
    "    for term in expr_ising.args:\n",
    "        variables_liste = sorted(term.free_symbols, key=sort_key)\n",
    "        coef = term.as_coeff_mul()[0]\n",
    "        if len(term.free_symbols) ==0:\n",
    "            offset = coef\n",
    "        if len(term.free_symbols) ==1:\n",
    "            linear[variables_liste[0].name] = coef\n",
    "        elif len(term.free_symbols) ==2:\n",
    "            quadratic[(variables_liste[0].name,variables_liste[1].name)] = coef\n",
    "\n",
    "    return (linear,quadratic,offset)\n",
    "\n",
    "def get_solution(expr_ising):\n",
    "    (linear,quadratic,offset) = get_solver_parameter(expr_ising)\n",
    "    response = composed_sampler.sample_ising(linear, quadratic)  #response.data() return (solution, energy, num_occurrences)\n",
    "    solution = next(response.data())[0]\n",
    "    return solution"
   ],
   "outputs": [],
   "execution_count": 15
  },
  {
   "metadata": {
    "ExecuteTime": {
     "end_time": "2025-04-23T12:00:46.353011Z",
     "start_time": "2025-04-23T12:00:46.334051Z"
    }
   },
   "cell_type": "code",
   "source": [
    "solution = get_solution(expr_ising)\n",
    "solution"
   ],
   "outputs": [
    {
     "data": {
      "text/plain": [
       "{'k3': np.int8(1),\n",
       " 'u2': np.int8(1),\n",
       " 'u3': np.int8(1),\n",
       " 'k1': np.int8(-1),\n",
       " 'u1': np.int8(-1)}"
      ]
     },
     "execution_count": 16,
     "metadata": {},
     "output_type": "execute_result"
    }
   ],
   "execution_count": 16
  },
  {
   "metadata": {
    "ExecuteTime": {
     "end_time": "2025-04-23T12:00:46.533430Z",
     "start_time": "2025-04-23T12:00:46.526680Z"
    }
   },
   "cell_type": "code",
   "source": "",
   "outputs": [],
   "execution_count": null
  },
  {
   "metadata": {
    "ExecuteTime": {
     "end_time": "2025-04-23T12:00:46.628286Z",
     "start_time": "2025-04-23T12:00:46.620947Z"
    }
   },
   "cell_type": "code",
   "source": "",
   "outputs": [],
   "execution_count": null
  },
  {
   "cell_type": "code",
   "metadata": {
    "ExecuteTime": {
     "end_time": "2025-04-23T12:08:05.544878Z",
     "start_time": "2025-04-23T12:08:05.535218Z"
    }
   },
   "source": [
    "def calcule_x(solution,x,k):\n",
    "    dic_varialbe_value = {}\n",
    "    for var in variables:\n",
    "        if(solution[var.name] == np.int8(1)):\n",
    "            dic_varialbe_value[var] = int(1)\n",
    "        else:\n",
    "            dic_varialbe_value[var] = int(0)\n",
    "\n",
    "    x_value = x.subs(dic_varialbe_value)\n",
    "    k_value = k.subs(dic_varialbe_value)\n",
    "    \n",
    "    return (x_value.evalf(),k_value.evalf())\n",
    "\n",
    "\n",
    "def factorization(a, b, p):\n",
    "    global variables, variables_Ising, dictionaire_auxiliary_variable, res,x,k\n",
    "    variables = []\n",
    "    variables_Ising = []\n",
    "    dictionaire_auxiliary_variable = {}\n",
    "    res = 1\n",
    "    x= sp.Add()\n",
    "    k= sp.Add()\n",
    "\n",
    "\n",
    "    reduct_demension_expr = get_reduct_expression(a,b,p)\n",
    "    expr_ising = transfers_qubo2Ising(reduct_demension_expr)\n",
    "    solution = get_solution(expr_ising)\n",
    "    print(solution)\n",
    "    (x_val,k_val) = calcule_x(solution,x,k)\n",
    "    x_int = int(x_val)\n",
    "    k_int = int(k_val)\n",
    "    print(f\" k: {k_int}\")\n",
    "    print(f\"La solution de {a} * x = {b} mod {p} est x = {x_int}.\")"
   ],
   "outputs": [],
   "execution_count": 25
  },
  {
   "metadata": {
    "ExecuteTime": {
     "end_time": "2025-04-23T12:08:11.289488Z",
     "start_time": "2025-04-23T12:08:11.276572Z"
    }
   },
   "cell_type": "code",
   "source": [
    "a=2\n",
    "b=3\n",
    "p=5\n",
    "factorization(a, b, p)"
   ],
   "outputs": [
    {
     "name": "stdout",
     "output_type": "stream",
     "text": [
      "u1 + 2*u2 + 2*u3\n",
      "k1 + 2*k3\n",
      "{'k3': np.int8(1), 'u2': np.int8(1), 'u3': np.int8(1), 'k1': np.int8(-1), 'u1': np.int8(-1)}\n",
      " k: 2\n",
      "La solution de 2 * x = 3 mod 5 est x = 4.\n"
     ]
    }
   ],
   "execution_count": 27
  },
  {
   "metadata": {
    "ExecuteTime": {
     "end_time": "2025-04-23T12:11:00.762137Z",
     "start_time": "2025-04-23T12:11:00.750404Z"
    }
   },
   "cell_type": "code",
   "source": [
    "a=5\n",
    "b=5\n",
    "p=7\n",
    "factorization(a, b, p)"
   ],
   "outputs": [
    {
     "name": "stdout",
     "output_type": "stream",
     "text": [
      "u1 + 2*u2 + 4*u3\n",
      "k1 + 2*k3\n",
      "{'k3': np.int8(-1), 'u3': np.int8(-1), 'k1': np.int8(1), 'u2': np.int8(-1), 'u1': np.int8(1)}\n",
      " k: 1\n",
      "La solution de 5 * x = 5 mod 7 est x = 1.\n"
     ]
    }
   ],
   "execution_count": 28
  }
 ],
 "metadata": {
  "kernelspec": {
   "display_name": "Python 3",
   "language": "python",
   "name": "python3"
  },
  "language_info": {
   "codemirror_mode": {
    "name": "ipython",
    "version": 3
   },
   "file_extension": ".py",
   "mimetype": "text/x-python",
   "name": "python",
   "nbconvert_exporter": "python",
   "pygments_lexer": "ipython3",
   "version": "3.13.2"
  }
 },
 "nbformat": 4,
 "nbformat_minor": 2
}
