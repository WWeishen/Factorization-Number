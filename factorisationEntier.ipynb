{
 "cells": [
  {
   "cell_type": "code",
   "execution_count": 1,
   "id": "fc697531-87c3-4b1c-9b3b-2a27a85c7515",
   "metadata": {},
   "outputs": [],
   "source": [
    "import sympy as sp\n",
    "import numpy as np\n",
    "import math"
   ]
  },
  {
   "cell_type": "markdown",
   "id": "74df7cef",
   "metadata": {},
   "source": [
    "# Step 0 : dénifir la fonction f() = (N-pq)²"
   ]
  },
  {
   "cell_type": "code",
   "execution_count": 2,
   "id": "3da50a77-455a-4a61-a49e-0fc77d876a3d",
   "metadata": {},
   "outputs": [],
   "source": [
    "#créer variable à partir d'un variable name en string, check le nom n'est pas déjà utilisé\n",
    "\n",
    "#variales_name: une liste global contient des string qui sont le nom des variables, sert à conserver tout les nom des variables déjà créés\n",
    "def create_variables(var_name):\n",
    "    if isinstance(var_name, str) :#and var_name not in variables_name:\n",
    "        try:\n",
    "            #variables_name.append(var_name)\n",
    "            symbol = sp.symbols(var_name)\n",
    "            globals()[var_name] = symbol\n",
    "            variables.append(symbol)\n",
    "        except ValueError:\n",
    "            print(f\"{var_name} ValueError\")\n",
    "    return symbol"
   ]
  },
  {
   "cell_type": "code",
   "execution_count": 3,
   "id": "90024be7",
   "metadata": {},
   "outputs": [],
   "source": [
    "def define_length(N):\n",
    "    # taille de N en binaire\n",
    "    length_N = math.ceil(math.log2(N))\n",
    "\n",
    "    # length de p = l_1, length de q = l_2\n",
    "    if N == 15 :\n",
    "        l_1 = 2\n",
    "        l_2 = 3\n",
    "    else:\n",
    "        k = (length_N) // 2 \n",
    "        l_1 = k\n",
    "        if length_N % 2 ==0:\n",
    "            l_2 = k\n",
    "        else:\n",
    "            l_2 = k + 1\n",
    "\n",
    "    return l_1,l_2"
   ]
  },
  {
   "cell_type": "code",
   "execution_count": 4,
   "id": "f436a576",
   "metadata": {},
   "outputs": [],
   "source": [
    "#p(pl_1-1,..p1,1)\n",
    "#q(ql_2-1,..,q_1,1)\n",
    "\n",
    "def set_variable(N):\n",
    "    (l_1,l_2) = define_length(N)\n",
    "    #p\n",
    "    expr_p = 1\n",
    "    for i in range(1,l_1):\n",
    "        var_name = ('p'+ str(i))\n",
    "        var = create_variables(var_name)\n",
    "        expr_p = expr_p + 2**i * var\n",
    "    #q\n",
    "    expr_q = 1\n",
    "    for i in range(1,l_2):\n",
    "        var_name = ('q'+ str(i))\n",
    "        var = create_variables(var_name)\n",
    "        expr_q = expr_q + 2**i * var\n",
    "    return (expr_p,expr_q)"
   ]
  },
  {
   "cell_type": "code",
   "execution_count": 5,
   "id": "e13a11ee",
   "metadata": {},
   "outputs": [],
   "source": [
    "def define_function(N):\n",
    "    expr_pq = 1\n",
    "    pq_variable = set_variable(N)\n",
    "    for item in pq_variable:\n",
    "        expr_pq = expr_pq * item\n",
    "    return (N - expr_pq)**2\n",
    "\n",
    "#expr = define_function(15)\n",
    "#expr\n"
   ]
  },
  {
   "cell_type": "markdown",
   "id": "654fcebe",
   "metadata": {},
   "source": [
    "# Step 1 réduction l'expression de la fonction en réduissant le power des variable \n",
    "###### Par exemple p_1**2 à p_1 tout simple car 1 * 1 = 1 & 0 * 0 = 0"
   ]
  },
  {
   "cell_type": "code",
   "execution_count": 6,
   "id": "bb30b8b4",
   "metadata": {},
   "outputs": [],
   "source": [
    "# Step 1 réduction l'expression de la fonction en réduissant le power des variable \n",
    "# Par exemple p_1**2 à p_1 tout simple car 1 * 1 = 1 & 0 * 0 = 0\n",
    "\n",
    "def reduct_variable_power_term(term):\n",
    "    new_term = 1\n",
    "    for variable,power in term.as_powers_dict().items():\n",
    "        new_term *= variable\n",
    "    return new_term\n",
    "\n",
    "def reduct_variable_power_function(expr):\n",
    "    expanded_expr = sp.expand(expr)\n",
    "    expanded_reducted = 0\n",
    "    for term in expanded_expr.args:\n",
    "        new_term = reduct_variable_power_term(term)\n",
    "        expanded_reducted += new_term\n",
    "    return expanded_reducted\n",
    "\n",
    "#expr_reduct_power = reduct_variable_power_function(expr)\n",
    "#expr_reduct_power\n"
   ]
  },
  {
   "cell_type": "markdown",
   "id": "8f8c7371",
   "metadata": {},
   "source": [
    "# Step 2 réduire les termes qui ont une dimension plus que 2"
   ]
  },
  {
   "cell_type": "code",
   "execution_count": 7,
   "id": "046dc39a",
   "metadata": {},
   "outputs": [],
   "source": [
    "# Definir une function de key pour sort\n",
    "def sort_key(variable):\n",
    "    name = str(variable)\n",
    "    # Split le variable name aux deux parties: partie letter & parite number \n",
    "    letter = name[0]\n",
    "    number = int(name[1])\n",
    "    return (letter, number)\n"
   ]
  },
  {
   "cell_type": "code",
   "execution_count": 8,
   "id": "ae33fd5d",
   "metadata": {},
   "outputs": [],
   "source": [
    "def rest_term(coef , rest_variable_liste):\n",
    "    new_term = coef\n",
    "    while(len(rest_variable_liste)!=0):\n",
    "        new_term = new_term * rest_variable_liste[0]\n",
    "        rest_variable_liste.pop()\n",
    "    return new_term\n",
    "\n",
    "\n",
    "# si #variables > 2 : diemension -1\n",
    "def reduct_demension_term(coef,variables_liste):    \n",
    "    global res\n",
    "\n",
    "    # sélection les 3 premières variables\n",
    "    [x_1, x_2, x_3] = variables_liste[:3]\n",
    "    \n",
    "    # garder le reste des variables\n",
    "    rest_variables_liste= variables_liste[3:]\n",
    "    new_expr = rest_term(coef , rest_variables_liste)\n",
    "\n",
    "    # commence la réduction dimension\n",
    "    tup=(x_1,x_2)\n",
    "    key = next((k for k, v in dictionaire_auxiliary_variable.items() if v == tup), None)\n",
    "    if key==None:\n",
    "        var_name = \"x\" + str(res)\n",
    "        x_4 = create_variables(var_name)\n",
    "        dictionaire_auxiliary_variable[x_4]=(x_1,x_2)\n",
    "        res += 1 \n",
    "    else:\n",
    "        x_4 = key \n",
    "\n",
    "    expr_reduct = x_4 * x_3 + 2 * (x_1 * x_2 - 2 * x_1 * x_4 - 2 * x_2 * x_4 + 3 * x_4)\n",
    "\n",
    "    expr_reduct = new_expr * expr_reduct\n",
    "    return sp.expand(expr_reduct)\n"
   ]
  },
  {
   "cell_type": "code",
   "execution_count": 9,
   "id": "5eafc9fa",
   "metadata": {},
   "outputs": [],
   "source": [
    "\n",
    "##\n",
    "def reduct_demension_function(expr):\n",
    "    # stocker l'espression apres la réduction\n",
    "    new_expr = 0\n",
    "\n",
    "    # initialiser le variable\n",
    "    need_reduction = False\n",
    "\n",
    "\n",
    "    for term in expr.args:\n",
    "        \n",
    "        # get coefficant le constant et tout les variables en les mettant dans une liste\n",
    "        variables_liste = sorted(term.free_symbols, key=sort_key)\n",
    "        coef = term.as_coeff_mul()[0]\n",
    "\n",
    "        # pour les termes qui ont plus de 2 variables, il faut appliquer la formule de réduction\n",
    "        if len(variables_liste) > 2 :\n",
    "            new_term = reduct_demension_term(coef , variables_liste) \n",
    "            new_expr +=  new_term\n",
    "            if len(variables_liste) > 3 :  \n",
    "                need_reduction = True\n",
    "        else:\n",
    "            # sinon, on ne fait rien et les met directement dans la nouvelle expression\n",
    "            new_expr += term\n",
    "\n",
    "    if need_reduction:\n",
    "        return reduct_demension_function(new_expr)\n",
    "    else:\n",
    "        return new_expr\n",
    "\n",
    "#reduct_demension_expr = reduct_demension_function(expr_reduct_power)\n",
    "#reduct_demension_expr"
   ]
  },
  {
   "cell_type": "code",
   "execution_count": null,
   "id": "a65f22d6",
   "metadata": {},
   "outputs": [],
   "source": []
  },
  {
   "cell_type": "markdown",
   "id": "d577b4de",
   "metadata": {},
   "source": [
    "# Step3 Transferer d'Qubo à Ising:\n",
    "###### a * x_i = a * (s_i + 1) / 2 \n",
    "###### (a * x_i * x_j) = a * (s_i + 1) * (s_j + 1) / 4"
   ]
  },
  {
   "cell_type": "code",
   "execution_count": 10,
   "id": "2c3e0633",
   "metadata": {},
   "outputs": [],
   "source": [
    "#créer variable à partir des variables dans modèle d'Ising\n",
    "\n",
    "def create_variable_Ising(var_name):\n",
    "    if isinstance(var_name, str) :#and var_name not in variables_name:\n",
    "        try:\n",
    "            symbol = sp.symbols(var_name)\n",
    "            globals()[var_name] = symbol\n",
    "            variables_Ising.append(symbol)\n",
    "        except ValueError:\n",
    "            print(f\"{var_name} ValueError\")\n",
    "    return symbol\n",
    "\n",
    "\n",
    "# définir H\n",
    "def H_Ising(final_expression):\n",
    "\n",
    "    n = len(variables)\n",
    "    H = 0\n",
    "    for i in range(1,n+1):\n",
    "        var_name = ('s'+ str(i))\n",
    "        create_variable_Ising(var_name)\n",
    "\n",
    "    subs_relations = [(variables[i], (variables_Ising[i] + 1) / 2) for i in range(n)]\n",
    "    new_expr = final_expression.subs(subs_relations)\n",
    "    new_expr = sp.expand(new_expr)\n",
    "    return new_expr\n",
    "\n",
    "#h_qubo = H_qubo(reduct_demension_expr)\n",
    "#h_qubo\n"
   ]
  },
  {
   "cell_type": "code",
   "execution_count": 11,
   "id": "06c42d89",
   "metadata": {},
   "outputs": [],
   "source": [
    "def build_h(expr):\n",
    "    #len de h est le nombre de variables \n",
    "    h=()\n",
    "    for term in expr.args:\n",
    "        if len(term.free_symbols) == 1:\n",
    "            h = h + (term.as_coeff_mul()[0]/-2 ,)\n",
    "    return h\n",
    "\n",
    "\n",
    "def transfers(reduct_demension_expr):    \n",
    "    terms = reduct_demension_expr.args \n",
    "    # Update le coef des termes avec seulement des termes avec dimension 1.\n",
    "    new_expr = 0\n",
    "    # Matrice contient les coef des termes avec dimension 2. \n",
    "    matrix_J = np.zeros((len(variables_Ising), len(variables_Ising)), dtype=int)\n",
    "    for term in terms:\n",
    "        if len(term.free_symbols) == 2:\n",
    "            # 2-variables : créer la matrice J\n",
    "            list_variable_term = sorted(term.free_symbols, key=sort_key)\n",
    "            coef = term.as_coeff_mul()[0]#/4\n",
    "            i = variables_Ising.index(list_variable_term[0])\n",
    "            j = variables_Ising.index(list_variable_term[1])\n",
    "            matrix_J[i][j] = coef/2\n",
    "        else:\n",
    "            # 1-variable : reconstruire une expression pour calculer le coef des termes\n",
    "            new_expr += term\n",
    "    tuple_h = build_h(new_expr)\n",
    "\n",
    "    return tuple_h,matrix_J\n",
    "\n",
    "#transfers(h_qubo)"
   ]
  },
  {
   "cell_type": "markdown",
   "id": "a0df320d",
   "metadata": {},
   "source": [
    "sum up fonction"
   ]
  },
  {
   "cell_type": "code",
   "execution_count": 12,
   "id": "e9b403c1",
   "metadata": {},
   "outputs": [],
   "source": [
    "def get_h_and_J(N):\n",
    "    #start\n",
    "    expr = define_function(N)\n",
    "    expr_reduct_power = reduct_variable_power_function(expr)\n",
    "    reduct_demension_expr = reduct_demension_function(expr_reduct_power)\n",
    "    ising_expr = H_Ising(reduct_demension_expr)\n",
    "    return transfers(ising_expr)"
   ]
  },
  {
   "cell_type": "code",
   "execution_count": null,
   "id": "093c3a5f",
   "metadata": {},
   "outputs": [],
   "source": []
  },
  {
   "cell_type": "markdown",
   "id": "aeb18be1",
   "metadata": {},
   "source": [
    "### Qubo problème avec méthode heuristique"
   ]
  },
  {
   "cell_type": "code",
   "execution_count": 13,
   "id": "ef74242e",
   "metadata": {},
   "outputs": [],
   "source": [
    "#import qubo modèle huristique\n",
    "from pyqubo import Spin\n",
    "from pyqubo import Binary\n",
    "from pyqubo import solve_qubo\n",
    "import neal"
   ]
  },
  {
   "cell_type": "code",
   "execution_count": 14,
   "id": "45709319",
   "metadata": {},
   "outputs": [],
   "source": [
    "# définir formule  H for ising\n",
    "\n",
    "def H_pyqubo(N):\n",
    "    (h,J)=get_h_and_J(N)\n",
    "\n",
    "    hamiltonian_expr = 0\n",
    "    n=len(variables_Ising)\n",
    "\n",
    "    # définir qubo spin; nombre de spin == nombre de variables\n",
    "    spins = [Spin(f's{i + 1}') for i in range(n)]\n",
    "    for i in range(n):\n",
    "        for j in range(n):\n",
    "            hamiltonian_expr -= J[i, j] * spins[i] * spins[j]\n",
    "        hamiltonian_expr -= h[i] * spins[i]\n",
    "\n",
    "    return hamiltonian_expr"
   ]
  },
  {
   "cell_type": "code",
   "execution_count": 15,
   "id": "1f60f7e9",
   "metadata": {},
   "outputs": [],
   "source": [
    "def model_qubo(hamiltonian_expr):\n",
    "    # compiler pour obtenir QUBO modèle\n",
    "    model = hamiltonian_expr.compile()  \n",
    "    #bqm = model.to_bqm()\n",
    "\n",
    "    qubo, offset = model.to_qubo()\n",
    "    solution = solve_qubo(qubo, num_reads=10)\n",
    "    return solution"
   ]
  },
  {
   "cell_type": "code",
   "execution_count": 16,
   "id": "5f45eeb5",
   "metadata": {},
   "outputs": [],
   "source": [
    "def model_qubo1(hamiltonian_expr):\n",
    "    model = hamiltonian_expr.compile()  \n",
    "    bqm = model.to_bqm()\n",
    "    sa = neal.SimulatedAnnealingSampler()\n",
    "    sampleset = sa.sample(bqm, num_reads=10)\n",
    "    decoded_samples = model.decode_sampleset(sampleset)\n",
    "    best_sample = min(decoded_samples, key=lambda x: x.energy)\n",
    "    return best_sample.sample"
   ]
  },
  {
   "cell_type": "markdown",
   "id": "a8a5e307",
   "metadata": {},
   "source": [
    "# Call function"
   ]
  },
  {
   "cell_type": "code",
   "execution_count": 17,
   "id": "03da796e",
   "metadata": {},
   "outputs": [],
   "source": [
    "def factorization(N):\n",
    "\n",
    "    hamiltonian_expr = H_pyqubo(N)\n",
    "    #solution = model_qubo(hamiltonian_expr)\n",
    "    solution = model_qubo1(hamiltonian_expr)\n",
    "    print(variables)\n",
    "    print(variables_Ising)\n",
    "    print(solution)\n",
    "\n",
    "    p_bits = []\n",
    "    q_bits = []\n",
    "\n",
    "    for varIsing, var in zip(variables_Ising, variables):\n",
    "        if var.name.startswith('p'):\n",
    "            p_bits.append(solution[varIsing.name])\n",
    "        elif var.name.startswith('q'):\n",
    "            q_bits.append(solution[varIsing.name])\n",
    "\n",
    "    p_bits.append(1)\n",
    "    q_bits.append(1) \n",
    "\n",
    "    p_bin_str = ''.join(map(str, p_bits))\n",
    "    q_bin_str = ''.join(map(str, q_bits))\n",
    "\n",
    "    p_dec = int(p_bin_str, 2)\n",
    "    q_dec = int(q_bin_str, 2)\n",
    "\n",
    "\n",
    "    print(f\"La factorisation de {N} est {p_dec} * {q_dec}.\")\n",
    "    "
   ]
  },
  {
   "cell_type": "code",
   "execution_count": 19,
   "id": "64d092ed",
   "metadata": {},
   "outputs": [
    {
     "name": "stdout",
     "output_type": "stream",
     "text": [
      "[p1, p2, q1, q2, q3, x1, x2, x3, x4, x5, x6, x7, x8, x9, x10]\n",
      "[s1, s2, s3, s4, s5, s6, s7, s8, s9, s10, s11, s12, s13, s14, s15]\n",
      "{'s12': 1, 's1': 1, 's10': 0, 's2': 1, 's11': 1, 's13': 0, 's14': 0, 's15': 0, 's3': 1, 's4': 1, 's5': 1, 's6': 0, 's7': 0, 's8': 0, 's9': 1}\n",
      "La factorisation de 65 est 7 * 15.\n"
     ]
    }
   ],
   "source": [
    "variables=[]\n",
    "dictionaire_auxiliary_variable={}\n",
    "res=1\n",
    "variables_Ising =[]\n",
    "#variales_Ising: une liste global contient des string qui sont le nom des variables dans qubo, sert à compter le nombre de variables dans qubo\n",
    "N=65\n",
    "factorization(N)"
   ]
  },
  {
   "cell_type": "code",
   "execution_count": null,
   "id": "89e50022",
   "metadata": {},
   "outputs": [],
   "source": []
  },
  {
   "cell_type": "code",
   "execution_count": null,
   "id": "8ecc11df",
   "metadata": {},
   "outputs": [],
   "source": []
  },
  {
   "cell_type": "code",
   "execution_count": null,
   "id": "03ab2bc2",
   "metadata": {},
   "outputs": [],
   "source": []
  },
  {
   "cell_type": "code",
   "execution_count": null,
   "id": "f0c7f11a",
   "metadata": {},
   "outputs": [],
   "source": []
  },
  {
   "cell_type": "code",
   "execution_count": null,
   "id": "1ca99806",
   "metadata": {},
   "outputs": [],
   "source": []
  },
  {
   "cell_type": "code",
   "execution_count": null,
   "id": "4d03a3fe",
   "metadata": {},
   "outputs": [],
   "source": []
  },
  {
   "cell_type": "code",
   "execution_count": null,
   "id": "041e2e52",
   "metadata": {},
   "outputs": [],
   "source": []
  },
  {
   "cell_type": "code",
   "execution_count": null,
   "id": "e75ee471",
   "metadata": {},
   "outputs": [],
   "source": []
  },
  {
   "cell_type": "code",
   "execution_count": null,
   "id": "5176033d-9c91-4db1-8d82-3cdadb9c3894",
   "metadata": {},
   "outputs": [],
   "source": []
  },
  {
   "cell_type": "code",
   "execution_count": null,
   "id": "804f2148-bd65-47d8-b462-d200fb80d4a3",
   "metadata": {},
   "outputs": [],
   "source": []
  },
  {
   "cell_type": "code",
   "execution_count": null,
   "id": "8e0f48bc-e937-4edd-9212-397c9c12eb7d",
   "metadata": {},
   "outputs": [],
   "source": []
  },
  {
   "cell_type": "code",
   "execution_count": null,
   "id": "bd6c68e2-2ee6-46b3-9186-b3d40edb82b1",
   "metadata": {},
   "outputs": [],
   "source": []
  },
  {
   "cell_type": "code",
   "execution_count": null,
   "id": "71bcd81f-a623-4362-8d4e-811e8b985913",
   "metadata": {},
   "outputs": [],
   "source": []
  },
  {
   "cell_type": "code",
   "execution_count": null,
   "id": "a687a211-02e2-48bd-885a-f7c917a88c80",
   "metadata": {},
   "outputs": [],
   "source": []
  },
  {
   "cell_type": "code",
   "execution_count": null,
   "id": "3c8b6f9c-9d19-4bc2-a527-440697c934ac",
   "metadata": {},
   "outputs": [],
   "source": []
  },
  {
   "cell_type": "code",
   "execution_count": null,
   "id": "8bb0d2d3-d304-4e43-85ee-9e7350acfc8d",
   "metadata": {},
   "outputs": [],
   "source": []
  },
  {
   "cell_type": "code",
   "execution_count": null,
   "id": "a1830d8c-cc39-42a1-a9de-21de083ef10d",
   "metadata": {},
   "outputs": [],
   "source": []
  }
 ],
 "metadata": {
  "kernelspec": {
   "display_name": "Python 3",
   "language": "python",
   "name": "python3"
  },
  "language_info": {
   "codemirror_mode": {
    "name": "ipython",
    "version": 3
   },
   "file_extension": ".py",
   "mimetype": "text/x-python",
   "name": "python",
   "nbconvert_exporter": "python",
   "pygments_lexer": "ipython3",
   "version": "3.13.2"
  }
 },
 "nbformat": 4,
 "nbformat_minor": 5
}
