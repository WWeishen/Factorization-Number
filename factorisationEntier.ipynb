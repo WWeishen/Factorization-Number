{
 "cells": [
  {
   "cell_type": "code",
   "execution_count": 1,
   "id": "fc697531-87c3-4b1c-9b3b-2a27a85c7515",
   "metadata": {},
   "outputs": [],
   "source": [
    "import sympy as sp\n",
    "import numpy as np\n",
    "import math\n",
    "\n",
    "# var global\n",
    "variables_name=[]\n",
    "dictionaire_auxiliary_variable={}\n",
    "res=1"
   ]
  },
  {
   "cell_type": "code",
   "execution_count": 2,
   "id": "3da50a77-455a-4a61-a49e-0fc77d876a3d",
   "metadata": {},
   "outputs": [],
   "source": [
    "#créer variable à partir d'un variable name en string, check le nom n'est pas déjà utilisé\n",
    "\n",
    "#variales_name: une liste global contient des string qui sont le nom des variables, sert à conserver tout les nom des variables déjà créés\n",
    "def create_variables(var_name):\n",
    "    if isinstance(var_name, str) :#and var_name not in variables_name:\n",
    "        try:\n",
    "            variables_name.append(var_name)\n",
    "            symbol = sp.symbols(var_name)\n",
    "            globals()[var_name] = symbol\n",
    "        except ValueError:\n",
    "            print(f\"{var_name} ValueError\")\n",
    "    return symbol"
   ]
  },
  {
   "cell_type": "markdown",
   "id": "31a860da",
   "metadata": {},
   "source": [
    "Définir length de p et q"
   ]
  },
  {
   "cell_type": "code",
   "execution_count": 3,
   "id": "90024be7",
   "metadata": {},
   "outputs": [],
   "source": [
    "\n",
    "# N = 15(4) = 3*5  \n",
    "\n",
    "def define_length(N):\n",
    "    # taille de N en binaire\n",
    "    length_N = int(math.log2(N)) + 1\n",
    "    # length de p = l_1, length de q = l_2\n",
    "\n",
    "    if N == 15 :\n",
    "        l_1 = 2\n",
    "        l_2 = 3\n",
    "    else:\n",
    "        k = (length_N) // 2\n",
    "        l_1 = k\n",
    "        if length_N % 2 ==0:\n",
    "            l_2 = k\n",
    "        else:\n",
    "            l_2 = k + 1\n",
    "    return l_1,l_2"
   ]
  },
  {
   "cell_type": "code",
   "execution_count": 4,
   "id": "f436a576",
   "metadata": {},
   "outputs": [],
   "source": [
    "#p(pl_1-1,..p1,1)\n",
    "#q(ql_2-1,..,q_1,1)\n",
    "\n",
    "def set_variable(N):\n",
    "    (l_1,l_2) = define_length(N)\n",
    "    #p\n",
    "    expr_p = 1\n",
    "    for i in range(1,l_1):\n",
    "        var_name = ('p_'+ str(i))\n",
    "        var = create_variables(var_name)\n",
    "        expr_p = expr_p + 2**i * var\n",
    "    #q\n",
    "    expr_q = 1\n",
    "    for i in range(1,l_2):\n",
    "        var_name = ('q_'+ str(i))\n",
    "        var = create_variables(var_name)\n",
    "        expr_q = expr_q + 2**i * var\n",
    "    return (expr_p,expr_q)"
   ]
  },
  {
   "cell_type": "code",
   "execution_count": 5,
   "id": "e13a11ee",
   "metadata": {},
   "outputs": [
    {
     "data": {
      "text/latex": [
       "$\\displaystyle \\left(- \\left(2 p_{1} + 4 p_{2} + 1\\right) \\left(2 q_{1} + 4 q_{2} + 1\\right) + 35\\right)^{2}$"
      ],
      "text/plain": [
       "(-(2*p_1 + 4*p_2 + 1)*(2*q_1 + 4*q_2 + 1) + 35)**2"
      ]
     },
     "execution_count": 5,
     "metadata": {},
     "output_type": "execute_result"
    }
   ],
   "source": [
    "#variables_name=[]\n",
    "\n",
    "# f() = (N-pq)²\n",
    "def define_function(N):\n",
    "    expr_pq = 1\n",
    "    pq_variable = set_variable(N)\n",
    "    for item in pq_variable:\n",
    "        expr_pq = expr_pq * item\n",
    "    return (N - expr_pq)**2\n",
    "\n",
    "expr = define_function(35)\n",
    "expr\n"
   ]
  },
  {
   "cell_type": "code",
   "execution_count": 6,
   "id": "bb30b8b4",
   "metadata": {},
   "outputs": [],
   "source": [
    "# Step 1 réduction l'expression de la fonction en réduissant le power des variable \n",
    "# Par exemple p_1**2 à p_1 tout simple car 1 * 1 = 1 & 0 * 0 = 0\n",
    "\n",
    "def reduct_variable_power_term(term):\n",
    "    new_term = 1\n",
    "    for variable,power in term.as_powers_dict().items():\n",
    "        new_term *= variable\n",
    "    return new_term\n",
    "\n",
    "def reduct_variable_power_function(expr):\n",
    "    expanded_expr = sp.expand(expr)\n",
    "    expanded_reducted = 0\n",
    "    for term in expanded_expr.args:\n",
    "        new_term = reduct_variable_power_term(term)\n",
    "        expanded_reducted += new_term\n",
    "    return expanded_reducted\n",
    "\n",
    "#expr_reduct_power = reduct_variable_power_function(expr)\n",
    "#expr_reduct_power\n"
   ]
  },
  {
   "cell_type": "code",
   "execution_count": 7,
   "id": "046dc39a",
   "metadata": {},
   "outputs": [],
   "source": [
    "# Definir une function de key pour sort\n",
    "def sort_key(variable):\n",
    "    name = str(variable)\n",
    "    # Split le variable name aux deux parties: partie letter & parite number \n",
    "    letter = name[0]\n",
    "    number = int(name.split('_')[1])\n",
    "    return (letter, number)\n"
   ]
  },
  {
   "cell_type": "code",
   "execution_count": 8,
   "id": "ae33fd5d",
   "metadata": {},
   "outputs": [],
   "source": [
    "# Step 2 réduire les termes qui ont une dimension plus que 2\n",
    "# \n",
    "#dictionaire_auxiliary_variable={}\n",
    "#res=1\n",
    "def rest_term(coef , rest_variable_liste):\n",
    "    new_term = coef\n",
    "    while(len(rest_variable_liste)!=0):\n",
    "        new_term = new_term * rest_variable_liste[0]\n",
    "        rest_variable_liste.pop()\n",
    "    return new_term\n",
    "\n",
    "\n",
    "# si #variables > 2 : diemension -1\n",
    "def reduct_demension_term(coef,variables_liste):    \n",
    "    global res\n",
    "\n",
    "    # sélection les 3 premières variables\n",
    "    [x_1, x_2, x_3] = variables_liste[:3]\n",
    "    \n",
    "    # garder le reste des variables\n",
    "    rest_variables_liste= variables_liste[3:]\n",
    "    new_expr = rest_term(coef , rest_variables_liste)\n",
    "\n",
    "    # commence la réduction dimension\n",
    "    tup=(x_1,x_2)\n",
    "    key = next((k for k, v in dictionaire_auxiliary_variable.items() if v == tup), None)\n",
    "    if key==None:\n",
    "        var_name = \"x_\" + str(res)\n",
    "        x_4 = create_variables(var_name)\n",
    "        dictionaire_auxiliary_variable[x_4]=(x_1,x_2)\n",
    "        res += 1 \n",
    "    else:\n",
    "        x_4 = key \n",
    "\n",
    "    expr_reduct = x_4 * x_3 + 2 * (x_1 * x_2 - 2 * x_1 * x_4 - 2 * x_2 * x_4 + 3 * x_4)\n",
    "\n",
    "    expr_reduct = new_expr * expr_reduct\n",
    "    return sp.expand(expr_reduct)\n"
   ]
  },
  {
   "cell_type": "code",
   "execution_count": 9,
   "id": "5eafc9fa",
   "metadata": {},
   "outputs": [],
   "source": [
    "\n",
    "##\n",
    "def reduct_demension_function(expr):\n",
    "    # expr = reduct_variable_power_function(expr)\n",
    "\n",
    "    # stocker l'espression apres la réduction\n",
    "    new_expr = 0\n",
    "\n",
    "    # initialiser le variable\n",
    "    need_reduction = False\n",
    "\n",
    "\n",
    "    for term in expr.args:\n",
    "        \n",
    "        # get coefficant le constant et tout les variables en les mettant dans une liste\n",
    "        variables_liste = sorted(term.free_symbols, key=sort_key)\n",
    "        coef = term.as_coeff_mul()[0]\n",
    "\n",
    "        # pour les termes qui ont plus de 2 variables, il faut appliquer la formule de réduction\n",
    "        if len(variables_liste) > 2 :\n",
    "            new_term = reduct_demension_term(coef , variables_liste) \n",
    "            new_expr +=  new_term\n",
    "            if len(variables_liste) > 3 :  \n",
    "                need_reduction = True\n",
    "        else:\n",
    "            # sinon, on ne fait rien et les met directement dans la nouvelle expression\n",
    "            new_expr += term\n",
    "\n",
    "    if need_reduction:\n",
    "        return reduct_demension_function(new_expr)\n",
    "    else:\n",
    "        return new_expr\n",
    "\n",
    "#reduct_demension_expr = reduct_demension_function(expr_reduct_power)\n",
    "#reduct_demension_expr"
   ]
  },
  {
   "cell_type": "code",
   "execution_count": null,
   "id": "c556814a",
   "metadata": {},
   "outputs": [],
   "source": []
  },
  {
   "cell_type": "code",
   "execution_count": null,
   "id": "06c42d89",
   "metadata": {},
   "outputs": [],
   "source": []
  },
  {
   "cell_type": "code",
   "execution_count": null,
   "id": "8797bf96",
   "metadata": {},
   "outputs": [],
   "source": []
  },
  {
   "cell_type": "code",
   "execution_count": 10,
   "id": "0b20d3fc",
   "metadata": {},
   "outputs": [],
   "source": [
    "# Step3 Transferer d'Ising à Qubo:\n",
    "# a * x_i = a * (s_i + 1) / 2\n",
    "# (a * x_i * x_j) = a * (s_i + 1) * (s_j + 1) / 4\n",
    "# f(s_n)\n",
    "\n",
    "def build_h(expr):\n",
    "    #len de h est le nombre de variables \n",
    "    h=()\n",
    "    for term in expr.args:\n",
    "        if len(term.free_symbols) == 1:\n",
    "            h = h + (term.as_coeff_mul()[0] / -2,)\n",
    "    return h\n",
    "\n",
    "def transfers(reduct_demension_expr):    \n",
    "    terms = reduct_demension_expr.args \n",
    "    # Update le coef des termes avec seulement des termes avec dimension 1.\n",
    "    new_expr = 0\n",
    "    # Matrice contient les coef des termes avec dimension 2. \n",
    "    matrix_J = np.zeros((len(variables_name), len(variables_name)), dtype=int)\n",
    "    for term in terms:\n",
    "        if len(term.free_symbols) == 2:\n",
    "            # 2-variables : créer la matrice J\n",
    "            list_variable_term = sorted(term.free_symbols, key=sort_key)\n",
    "            coef = term.as_coeff_mul()[0]/4\n",
    "            i = variables_name.index(list_variable_term[0].name)\n",
    "            j = variables_name.index(list_variable_term[1].name)\n",
    "            matrix_J[i][j] = coef/2\n",
    "            # des 1-variables terms se produissent\n",
    "            new_expr += coef * list_variable_term[0] + coef * list_variable_term[1]\n",
    "        else:\n",
    "            # 1-variable : reconstruire une expression pour calculer le coef des termes\n",
    "            new_expr += term/2\n",
    "\n",
    "    tuple_h = build_h(new_expr)\n",
    "\n",
    "    return tuple_h,matrix_J\n",
    "\n",
    "#transfers(reduct_demension_expr)\n",
    "\n"
   ]
  },
  {
   "cell_type": "code",
   "execution_count": null,
   "id": "6cbcae55",
   "metadata": {},
   "outputs": [],
   "source": []
  },
  {
   "cell_type": "markdown",
   "id": "a0df320d",
   "metadata": {},
   "source": [
    "sum up fonction"
   ]
  },
  {
   "cell_type": "code",
   "execution_count": 11,
   "id": "e9b403c1",
   "metadata": {},
   "outputs": [],
   "source": [
    "def get_h_and_J(N):\n",
    "    #start\n",
    "    expr = define_function(N)\n",
    "    expr_reduct_power = reduct_variable_power_function(expr)\n",
    "    reduct_demension_expr = reduct_demension_function(expr_reduct_power)\n",
    "    return transfers(reduct_demension_expr)"
   ]
  },
  {
   "cell_type": "code",
   "execution_count": 12,
   "id": "fce32196",
   "metadata": {},
   "outputs": [
    {
     "data": {
      "text/plain": [
       "((58, 50, 12, -80),\n",
       " array([[  0,  25,  -6, -64],\n",
       "        [  0,   0,   2, -64],\n",
       "        [  0,   0,   0,  16],\n",
       "        [  0,   0,   0,   0]]))"
      ]
     },
     "execution_count": 12,
     "metadata": {},
     "output_type": "execute_result"
    }
   ],
   "source": [
    "variables_name=[]\n",
    "dictionaire_auxiliary_variable={}\n",
    "res=1\n",
    "get_h_and_J(15)"
   ]
  },
  {
   "cell_type": "code",
   "execution_count": null,
   "id": "6fbd3ba4",
   "metadata": {},
   "outputs": [],
   "source": []
  },
  {
   "cell_type": "code",
   "execution_count": null,
   "id": "8d639c7f",
   "metadata": {},
   "outputs": [],
   "source": []
  },
  {
   "cell_type": "code",
   "execution_count": null,
   "id": "ef74242e",
   "metadata": {},
   "outputs": [],
   "source": []
  },
  {
   "cell_type": "code",
   "execution_count": null,
   "id": "45709319",
   "metadata": {},
   "outputs": [],
   "source": []
  },
  {
   "cell_type": "code",
   "execution_count": null,
   "id": "1f60f7e9",
   "metadata": {},
   "outputs": [],
   "source": []
  },
  {
   "cell_type": "code",
   "execution_count": null,
   "id": "989976bb",
   "metadata": {},
   "outputs": [],
   "source": []
  },
  {
   "cell_type": "code",
   "execution_count": null,
   "id": "03ab2bc2",
   "metadata": {},
   "outputs": [],
   "source": []
  },
  {
   "cell_type": "code",
   "execution_count": null,
   "id": "f0c7f11a",
   "metadata": {},
   "outputs": [],
   "source": []
  },
  {
   "cell_type": "code",
   "execution_count": null,
   "id": "1ca99806",
   "metadata": {},
   "outputs": [],
   "source": []
  },
  {
   "cell_type": "code",
   "execution_count": null,
   "id": "fd546fb0",
   "metadata": {},
   "outputs": [],
   "source": [
    "# f() = (N-pq)²\n",
    "set_variable(N)"
   ]
  },
  {
   "cell_type": "code",
   "execution_count": null,
   "id": "f6e2eb27",
   "metadata": {},
   "outputs": [
    {
     "name": "stdout",
     "output_type": "stream",
     "text": [
      "1\n",
      "1\n",
      "1\n",
      "1\n"
     ]
    }
   ],
   "source": [
    "def N_bin(N):\n",
    "    for i in range(2,len(bin(N))):\n",
    "        print(bin(N)[i])\n",
    "\n",
    "N_bin(15)        "
   ]
  },
  {
   "cell_type": "code",
   "execution_count": null,
   "id": "4d03a3fe",
   "metadata": {},
   "outputs": [],
   "source": []
  },
  {
   "cell_type": "code",
   "execution_count": null,
   "id": "041e2e52",
   "metadata": {},
   "outputs": [],
   "source": []
  },
  {
   "cell_type": "code",
   "execution_count": null,
   "id": "e75ee471",
   "metadata": {},
   "outputs": [],
   "source": []
  },
  {
   "cell_type": "code",
   "execution_count": null,
   "id": "95162aa4-346a-415c-8dd9-118cacfbb184",
   "metadata": {},
   "outputs": [],
   "source": [
    "# définir l'expression\n",
    "create_variables('q_1','q_2','p_1','p_2','c_1','c_2','c_3','c_4')\n",
    "expr = (2*p_2+ 2*p_1*q_1+ 2*q_2- 8*c_2- 4*c_1+ p_1+ q_1- 3)**2 + (2*q_1 + 2*p_2*q_2+ 2*p_1+ 2*c_2- 8*c_4- 4*c_3+ p_2*q_1+ p_1*q_2+ c_1+ 1)**2 + (q_2+ p_2+ c_3+ 2*c_4- 2)**2"
   ]
  },
  {
   "cell_type": "code",
   "execution_count": null,
   "id": "f617b01b-6440-4c48-9cff-27dc65e3b100",
   "metadata": {},
   "outputs": [
    {
     "data": {
      "text/latex": [
       "$\\displaystyle \\left(c_{3} + 2 c_{4} + p_{2} + q_{2} - 2\\right)^{2} + \\left(- 4 c_{1} - 8 c_{2} + 2 p_{1} q_{1} + p_{1} + 2 p_{2} + q_{1} + 2 q_{2} - 3\\right)^{2} + \\left(c_{1} + 2 c_{2} - 4 c_{3} - 8 c_{4} + p_{1} q_{2} + 2 p_{1} + p_{2} q_{1} + 2 p_{2} q_{2} + 2 q_{1} + 1\\right)^{2}$"
      ],
      "text/plain": [
       "(c_3 + 2*c_4 + p_2 + q_2 - 2)**2 + (-4*c_1 - 8*c_2 + 2*p_1*q_1 + p_1 + 2*p_2 + q_1 + 2*q_2 - 3)**2 + (c_1 + 2*c_2 - 4*c_3 - 8*c_4 + p_1*q_2 + 2*p_1 + p_2*q_1 + 2*p_2*q_2 + 2*q_1 + 1)**2"
      ]
     },
     "execution_count": 4,
     "metadata": {},
     "output_type": "execute_result"
    }
   ],
   "source": [
    "expr"
   ]
  },
  {
   "cell_type": "code",
   "execution_count": null,
   "id": "dc414231-7e3d-4bd4-b831-73f138907f72",
   "metadata": {},
   "outputs": [
    {
     "name": "stdout",
     "output_type": "stream",
     "text": [
      "c_2*p_1*q_1, -32\n",
      "c_4*p_2*q_2, -32\n",
      "c_1*p_1*q_1, -16\n",
      "c_3*p_2*q_2, -16\n",
      "c_4*p_1*q_2, -16\n",
      "c_4*p_2*q_1, -16\n",
      "c_3*p_1*q_2, -8\n",
      "c_3*p_2*q_1, -8\n",
      "c_1*p_1*q_2, 2\n",
      "c_1*p_2*q_1, 2\n",
      "c_1*p_2*q_2, 4\n",
      "c_2*p_1*q_2, 4\n",
      "c_2*p_2*q_1, 4\n",
      "p_1*p_2*q_2**2, 4\n",
      "p_2**2*q_1*q_2, 4\n",
      "c_2*p_2*q_2, 8\n",
      "p_1*p_2*q_2, 8\n",
      "p_2*q_1*q_2, 8\n",
      "p_1*p_2*q_1, 12\n",
      "p_1*q_1*q_2, 12\n"
     ]
    }
   ],
   "source": [
    "# expand\n",
    "expanded_expr = sp.expand(expr)\n",
    "\n",
    "ternary_terms = {}\n",
    "# parcourir chaque terme\n",
    "for term in expanded_expr.args:\n",
    "    # coeffcient du terme\n",
    "    coeff = term.as_coeff_mul()[0]\n",
    "    # variable du tarme\n",
    "    variables = term.as_coeff_mul()[1]\n",
    "    # nombre des variables du terme\n",
    "    num_vars = len(set(sp.flatten(variables)))\n",
    "    if num_vars == 3:\n",
    "        # mettre le terme dans un dictionnaire s'il contient 3 variables\n",
    "        ternary_terms[sp.Mul(*variables)] = coeff\n",
    "\n",
    "for term, coeff in ternary_terms.items():\n",
    "    print(f\"{term}, {coeff}\")"
   ]
  },
  {
   "cell_type": "code",
   "execution_count": null,
   "id": "a24f20b2-2858-4001-9225-74ed568004ff",
   "metadata": {},
   "outputs": [],
   "source": [
    "# créer new varibale for a term & return a list of the variables in a term\n",
    "res=1\n",
    "def add_new_variable_for_term(term):\n",
    "    symbol_list = list(term[0].free_symbols)\n",
    "    var_name = 'x_' + str(res)\n",
    "    if var_name not in variables_name:\n",
    "        variables_name.append(var_name)\n",
    "        symbol = sp.symbols(var_name)\n",
    "        globals()[var_name] = symbol\n",
    "        symbol.append(symbol)\n",
    "        res=res+1\n",
    "    return symbol_list    "
   ]
  },
  {
   "cell_type": "code",
   "execution_count": null,
   "id": "5176033d-9c91-4db1-8d82-3cdadb9c3894",
   "metadata": {},
   "outputs": [],
   "source": []
  },
  {
   "cell_type": "code",
   "execution_count": null,
   "id": "de80bea2-0fd0-4b86-b1f1-6cb817e21926",
   "metadata": {},
   "outputs": [],
   "source": [
    "def substitution_positive_terme(term):\n",
    "    vars = add_new_variable_for_term()\n",
    "\n",
    "def substitution_negative_terme(term):\n",
    "    # on suppose que new_var = item \n",
    "    vars = add_new_variable_for_term()\n",
    "    \n",
    "    "
   ]
  },
  {
   "cell_type": "code",
   "execution_count": null,
   "id": "bdeff39d-6e0c-4b41-b52b-c3531f294892",
   "metadata": {},
   "outputs": [],
   "source": [
    "def substitution_terme(ternary_terms):\n",
    "    for term, coeff in ternary_terms.items():\n",
    "        if coeff > 0:\n",
    "            new_term = substitution_positive_terme(term)\n",
    "        else:\n",
    "            new_term = substitution_negative_terme(term)\n",
    "    return new_term"
   ]
  },
  {
   "cell_type": "markdown",
   "id": "a733b336-202a-4207-a352-55122a5ff553",
   "metadata": {},
   "source": [
    "### On prend N=143 comme exemple. On utilise la formule qui represnet la relation entre les variable en utilisant la méthode de Table dde Multp."
   ]
  },
  {
   "cell_type": "code",
   "execution_count": null,
   "id": "804f2148-bd65-47d8-b462-d200fb80d4a3",
   "metadata": {},
   "outputs": [],
   "source": []
  },
  {
   "cell_type": "code",
   "execution_count": null,
   "id": "8e0f48bc-e937-4edd-9212-397c9c12eb7d",
   "metadata": {},
   "outputs": [],
   "source": []
  },
  {
   "cell_type": "code",
   "execution_count": null,
   "id": "bd6c68e2-2ee6-46b3-9186-b3d40edb82b1",
   "metadata": {},
   "outputs": [],
   "source": []
  },
  {
   "cell_type": "code",
   "execution_count": null,
   "id": "71bcd81f-a623-4362-8d4e-811e8b985913",
   "metadata": {},
   "outputs": [],
   "source": []
  },
  {
   "cell_type": "code",
   "execution_count": null,
   "id": "a687a211-02e2-48bd-885a-f7c917a88c80",
   "metadata": {},
   "outputs": [],
   "source": []
  },
  {
   "cell_type": "code",
   "execution_count": null,
   "id": "3c8b6f9c-9d19-4bc2-a527-440697c934ac",
   "metadata": {},
   "outputs": [],
   "source": []
  },
  {
   "cell_type": "code",
   "execution_count": null,
   "id": "8bb0d2d3-d304-4e43-85ee-9e7350acfc8d",
   "metadata": {},
   "outputs": [],
   "source": []
  },
  {
   "cell_type": "code",
   "execution_count": null,
   "id": "702bac85-3c32-4287-b692-cabd9faa58fa",
   "metadata": {},
   "outputs": [],
   "source": [
    "#Formule de réduction de dimensionnalité\n",
    "x_1 = sp.symbols('x_1')\n",
    "x_2 = sp.symbols('x_2')\n",
    "x_3 = sp.symbols('x_3')\n",
    "x_4 = sp.symbols('x_4')\n",
    "\n",
    "substitution_formula = x_4 * x_3 + x_1 * x_2 - x_1 * x_4 - x_2 * x_4 + x_4\n"
   ]
  },
  {
   "cell_type": "code",
   "execution_count": null,
   "id": "a1830d8c-cc39-42a1-a9de-21de083ef10d",
   "metadata": {},
   "outputs": [],
   "source": []
  }
 ],
 "metadata": {
  "kernelspec": {
   "display_name": "Python 3",
   "language": "python",
   "name": "python3"
  },
  "language_info": {
   "codemirror_mode": {
    "name": "ipython",
    "version": 3
   },
   "file_extension": ".py",
   "mimetype": "text/x-python",
   "name": "python",
   "nbconvert_exporter": "python",
   "pygments_lexer": "ipython3",
   "version": "3.13.2"
  }
 },
 "nbformat": 4,
 "nbformat_minor": 5
}
