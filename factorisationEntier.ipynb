{
 "cells": [
  {
   "cell_type": "markdown",
   "id": "7ce0853f",
   "metadata": {},
   "source": [
    "# Factorisation d'entiers en le transformant dans le modèle QUBO (ou d'Ising)"
   ]
  },
  {
   "cell_type": "markdown",
   "id": "62443ef9",
   "metadata": {},
   "source": [
    "Présentation générale de l'idée en quelques lignes"
   ]
  },
  {
   "cell_type": "code",
   "execution_count": 1,
   "id": "fc697531-87c3-4b1c-9b3b-2a27a85c7515",
   "metadata": {},
   "outputs": [],
   "source": [
    "import sympy as sp\n",
    "import numpy as np\n",
    "import math\n",
    "from pprint import *"
   ]
  },
  {
   "cell_type": "markdown",
   "id": "f1b1ca2b",
   "metadata": {},
   "source": [
    "#### variables globales\n",
    "1. variables : une liste contient des symboles créés; utilisé dans la partie expressions\n",
    "2. dictionaire_auxiliary_variable : des variables créées pour remplacer le produit de deux variables dans p et q\n",
    "3. res : number , pour créer le nom des variables\n",
    "4. variables_Ising : variables dans Hamiltonain expresstion\n",
    "5. dict_variables_binary : map variables dans hamiltonian et variables dans modèle"
   ]
  },
  {
   "cell_type": "code",
   "execution_count": 2,
   "id": "befa202d",
   "metadata": {},
   "outputs": [],
   "source": [
    "variables=[]\n",
    "dictionaire_auxiliary_variable={}\n",
    "res=1\n",
    "variables_Ising =[]\n",
    "dict_variable_model_map={}"
   ]
  },
  {
   "cell_type": "markdown",
   "id": "dff345f4",
   "metadata": {},
   "source": [
    "# Expression"
   ]
  },
  {
   "cell_type": "markdown",
   "id": "74df7cef",
   "metadata": {},
   "source": [
    "## Step 0 : dénifir la fonction $f = (N-pq)^2$\n",
    "On utilise `Sympy` pour travailler sur des expressions symboliques du calcul formel.\n",
    "Dans le monde symbolique de `Sympy`, il faut définir des variables symboliques:"
   ]
  },
  {
   "cell_type": "code",
   "execution_count": 3,
   "id": "3da50a77-455a-4a61-a49e-0fc77d876a3d",
   "metadata": {},
   "outputs": [],
   "source": [
    "# Créer un symbole à partir d'un nom en string\n",
    "def create_variables(var_name):\n",
    "    if isinstance(var_name, str) :\n",
    "        try:\n",
    "            symbol = sp.symbols(var_name)\n",
    "            globals()[var_name] = symbol\n",
    "            variables.append(symbol)\n",
    "        except ValueError:\n",
    "            print(f\"{var_name} ValueError\")\n",
    "    return symbol"
   ]
  },
  {
   "cell_type": "markdown",
   "id": "7d804f64",
   "metadata": {},
   "source": [
    "### Définir les expressions symboliques pour les écritures de $p$ et $q$ en binaire.\n",
    "\n",
    "On suppose $p$ et $q$ impairs (sinon la factorisation de $N$ serait triviale).\n",
    "\n",
    "$p$ en binaire peut être représenté comme:\n",
    "\n",
    "(pl1-1,..p1,1) = pl1-1 * 2 ** (l1-1) + ... + p1 * 2 **1 +1\n",
    "\n",
    "$q$ en binaire peut être représenté comme:\n",
    "\n",
    "(ql2-1,..,q1,1) = ql2-1 * 2 ** (l2-1) + ... + q1 * 2 **1 +1\n",
    "\n",
    "Avec $l1=\\lfloor\\log_2(p)\\rfloor$ et $l2 =\\lfloor\\log_2(q)\\rfloor$"
   ]
  },
  {
   "cell_type": "code",
   "execution_count": 4,
   "id": "f436a576",
   "metadata": {},
   "outputs": [],
   "source": [
    "def set_variable(l1,l2):\n",
    "    #p\n",
    "    expr_p = 1\n",
    "    for i in range(1,l1):\n",
    "        var_name = ('p'+ str(i))\n",
    "        var = create_variables(var_name)\n",
    "        expr_p = 2**i * var + expr_p \n",
    "    #q\n",
    "    expr_q = 1\n",
    "    for i in range(1,l2):\n",
    "        var_name = ('q'+ str(i))\n",
    "        var = create_variables(var_name)\n",
    "        expr_q = 2**i * var + expr_q\n",
    "    return (expr_p,expr_q)"
   ]
  },
  {
   "cell_type": "code",
   "execution_count": 5,
   "id": "958c36c4",
   "metadata": {},
   "outputs": [
    {
     "name": "stdout",
     "output_type": "stream",
     "text": [
      "2*p1 + 4*p2 + 1 2*q1 + 4*q2 + 1\n"
     ]
    }
   ],
   "source": [
    "(p,q) = set_variable(3,3)\n",
    "print(p,q)"
   ]
  },
  {
   "cell_type": "markdown",
   "id": "e4a54004",
   "metadata": {},
   "source": [
    "### Définir l'expression symbolique $(N-p*q)^2$\n",
    "\n",
    "Le min de cette expression dans $\\mathbb{Z}$ est $0$, dans ce cas $N = p*q$."
   ]
  },
  {
   "cell_type": "code",
   "execution_count": 6,
   "id": "9716a1dc",
   "metadata": {},
   "outputs": [],
   "source": [
    "def define_function(N,p,q):\n",
    "    expr_pq = p *q\n",
    "    return (N - expr_pq)**2"
   ]
  },
  {
   "cell_type": "markdown",
   "id": "df75def9",
   "metadata": {},
   "source": [
    "**Exemple :** On définit l'expression symbolique pour $N=15$ avec $p=2*p_1 + 1$ et $q=2*q1 + 4*q2 + 1$"
   ]
  },
  {
   "cell_type": "code",
   "execution_count": 7,
   "id": "ad87e4ec",
   "metadata": {},
   "outputs": [
    {
     "data": {
      "text/latex": [
       "$\\displaystyle \\left(- \\left(2 p_{1} + 4 p_{2} + 1\\right) \\left(2 q_{1} + 4 q_{2} + 1\\right) + 35\\right)^{2}$"
      ],
      "text/plain": [
       "(-(2*p1 + 4*p2 + 1)*(2*q1 + 4*q2 + 1) + 35)**2"
      ]
     },
     "execution_count": 7,
     "metadata": {},
     "output_type": "execute_result"
    }
   ],
   "source": [
    "expr = define_function(35,p,q)\n",
    "expr"
   ]
  },
  {
   "cell_type": "markdown",
   "id": "4e3da051",
   "metadata": {},
   "source": [
    "On peut développer cette expression avec `sp.expand(expr)` .\n",
    "\n",
    "On obtient l'expression suivante    \n",
    "    $\\displaystyle 16 p_{1}^{2} q_{1}^{2} + 64 p_{1}^{2} q_{1} q_{2} + 16 p_{1}^{2} q_{1} + 64 p_{1}^{2} q_{2}^{2} + 32 p_{1}^{2} q_{2} + 4 p_{1}^{2} + 16 p_{1} q_{1}^{2} + 64 p_{1} q_{1} q_{2} - 104 p_{1} q_{1} + 64 p_{1} q_{2}^{2} - 208 p_{1} q_{2} - 56 p_{1} + 4 q_{1}^{2} + 16 q_{1} q_{2} - 56 q_{1} + 16 q_{2}^{2} - 112 q_{2} + 196$\n"
   ]
  },
  {
   "cell_type": "markdown",
   "id": "654fcebe",
   "metadata": {},
   "source": [
    "## Step 1: Réduire les puissances dans l'expression\n",
    "\n",
    "L'expression obtenue avant peut être simplifiée: la puissance de toutes les variables est égale à 1.\n",
    "\n",
    "$p_1^2 = p_1$, car $1 * 1 = 1$ et $0 * 0 = 0$"
   ]
  },
  {
   "cell_type": "code",
   "execution_count": 8,
   "id": "bb30b8b4",
   "metadata": {},
   "outputs": [],
   "source": [
    "def reduct_variable_power_term(term):\n",
    "    new_term = 1\n",
    "    for variable,power in term.as_powers_dict().items():\n",
    "        new_term *= variable\n",
    "    return new_term\n",
    "\n",
    "def reduct_variable_power_function(expr):\n",
    "    expanded_expr = sp.expand(expr)\n",
    "    expanded_reducted = 0\n",
    "    for term in expanded_expr.args:\n",
    "        new_term = reduct_variable_power_term(term)\n",
    "        expanded_reducted += new_term\n",
    "    return expanded_reducted\n"
   ]
  },
  {
   "cell_type": "markdown",
   "id": "40f2674b",
   "metadata": {},
   "source": [
    "**exemple (suite):** En utilisant l'expression définie avant on obtient:"
   ]
  },
  {
   "cell_type": "code",
   "execution_count": 9,
   "id": "7a37aa64",
   "metadata": {},
   "outputs": [
    {
     "data": {
      "text/latex": [
       "$\\displaystyle 256 p_{1} p_{2} q_{1} q_{2} + 128 p_{1} p_{2} q_{1} + 384 p_{1} p_{2} q_{2} + 16 p_{1} p_{2} + 128 p_{1} q_{1} q_{2} - 216 p_{1} q_{1} - 368 p_{1} q_{2} - 132 p_{1} + 384 p_{2} q_{1} q_{2} - 368 p_{2} q_{1} - 544 p_{2} q_{2} - 256 p_{2} + 16 q_{1} q_{2} - 132 q_{1} - 256 q_{2} + 1156$"
      ],
      "text/plain": [
       "256*p1*p2*q1*q2 + 128*p1*p2*q1 + 384*p1*p2*q2 + 16*p1*p2 + 128*p1*q1*q2 - 216*p1*q1 - 368*p1*q2 - 132*p1 + 384*p2*q1*q2 - 368*p2*q1 - 544*p2*q2 - 256*p2 + 16*q1*q2 - 132*q1 - 256*q2 + 1156"
      ]
     },
     "execution_count": 9,
     "metadata": {},
     "output_type": "execute_result"
    }
   ],
   "source": [
    "expr_reduct_power = reduct_variable_power_function(expr)\n",
    "expr_reduct_power"
   ]
  },
  {
   "cell_type": "markdown",
   "id": "8f8c7371",
   "metadata": {},
   "source": [
    "## Step 2: Réduire les termes pour qu'ils ne fassent jamais intervenir plus de deux variables"
   ]
  },
  {
   "cell_type": "code",
   "execution_count": 10,
   "id": "046dc39a",
   "metadata": {},
   "outputs": [],
   "source": [
    "# les varaiables sont sort par la lettre puis un nombre: \"x12\" -> \"x\" 12\n",
    "def sort_key(variable):\n",
    "    name = str(variable)\n",
    "    # Split le nom du variable aux deux parties: letter & number \n",
    "    letter = name[0]\n",
    "    number = int(name[1:])\n",
    "    return (letter, number)"
   ]
  },
  {
   "cell_type": "markdown",
   "id": "d9d7b202",
   "metadata": {},
   "source": [
    "### Réduction degrée formule"
   ]
  },
  {
   "cell_type": "code",
   "execution_count": 11,
   "id": "ae33fd5d",
   "metadata": {},
   "outputs": [],
   "source": [
    "# Pour chaque terme compose de >= 3 variables, \n",
    "# Les 3 première variables devrait participer dans la réduction\n",
    "# Les autres variables et le coef construit terme qui est terme resté\n",
    "# Un nouveau terme : mulp (réduction, teme resté)\n",
    "def build_rest_term(coef , rest_variable_liste):\n",
    "    new_term = coef\n",
    "    while(len(rest_variable_liste)!=0):\n",
    "        new_term = new_term * rest_variable_liste[0]\n",
    "        rest_variable_liste.pop()\n",
    "    return new_term\n",
    "\n",
    "# si #variables > 2 : diemension -1\n",
    "def reduct_demension_term(coef,variables_liste):    \n",
    "    global res\n",
    "\n",
    "    # sélection les 3 premières variables\n",
    "    [x_1, x_2, x_3] = variables_liste[:3]\n",
    "    \n",
    "    # garder le reste des variables\n",
    "    rest_variables_liste= variables_liste[3:]\n",
    "    rest_term = build_rest_term(coef , rest_variables_liste)\n",
    "\n",
    "    # commence la réduction dimension\n",
    "    tup=(x_1,x_2)\n",
    "    #check dict s'il existe déjà une variable auxiliary qui = les deux meme variable\n",
    "    key = next((k for k, v in dictionaire_auxiliary_variable.items() if v == tup), None)\n",
    "\n",
    "    if key==None:#sinon, il faut creer une variable auxiliary\n",
    "        var_name = \"x\" + str(res)\n",
    "        x_4 = create_variables(var_name)\n",
    "        dictionaire_auxiliary_variable[x_4]=(x_1,x_2)\n",
    "        res += 1 \n",
    "    else:\n",
    "        x_4 = key \n",
    "\n",
    "    reduct_formula = x_4 * x_3 + 2 * (x_1 * x_2 - 2 * x_1 * x_4 - 2 * x_2 * x_4 + 3 * x_4)\n",
    "    reduct_formula = sp.expand(reduct_formula)\n",
    "\n",
    "    # mulp\n",
    "    expr_reduct = rest_term * reduct_formula\n",
    "    return sp.expand(expr_reduct)\n"
   ]
  },
  {
   "cell_type": "markdown",
   "id": "64471154",
   "metadata": {},
   "source": [
    "### Réduction procède"
   ]
  },
  {
   "cell_type": "code",
   "execution_count": 12,
   "id": "5eafc9fa",
   "metadata": {},
   "outputs": [],
   "source": [
    "def reduct_demension_expression(expr):\n",
    "\n",
    "    print(\"Original expr:\", expr)\n",
    "    new_expr = 0\n",
    "    need_reduction = False\n",
    "\n",
    "    for term in expr.args:\n",
    "        # get coefficant(la constante) et variables(dans une liste)\n",
    "        variables_liste = sorted(term.free_symbols, key=sort_key)\n",
    "        coef = term.as_coeff_mul()[0]\n",
    "\n",
    "        # pour les termes qui ont plus de 2 variables, il faut appliquer la formule de réduction\n",
    "        if len(variables_liste) > 2 :\n",
    "            need_reduction = True\n",
    "            new_term = reduct_demension_term(coef, variables_liste) \n",
    "            new_expr +=  new_term\n",
    "        else:\n",
    "            # sinon, on ne fait rien et les met directement dans la nouvelle expression\n",
    "            new_expr += term\n",
    "\n",
    "    if need_reduction:\n",
    "        print(\"Recursing with:\", new_expr)\n",
    "        return reduct_demension_expression(new_expr)\n",
    "    else:\n",
    "        print(\"Final expression:\", new_expr)\n",
    "        return new_expr"
   ]
  },
  {
   "cell_type": "code",
   "execution_count": 13,
   "id": "be28b0f8",
   "metadata": {},
   "outputs": [],
   "source": [
    "def reduct_demension_expression1(expr):\n",
    "    print(\"Original expr:\", expr)\n",
    "    new_expr = 0\n",
    "\n",
    "    for term in expr.args:\n",
    "        # get coefficant(la constante) et variables(dans une liste)\n",
    "        variables_liste = sorted(term.free_symbols, key=sort_key)\n",
    "        coef = term.as_coeff_mul()[0]\n",
    "\n",
    "        # pour les termes qui ont plus de 2 variables, il faut appliquer la formule de réduction\n",
    "        if len(variables_liste) > 2 :\n",
    "            new_term = reduct_demension_term(coef, variables_liste) \n",
    "            new_expr +=  new_term\n",
    "        else:\n",
    "            # sinon, on ne fait rien et les met directement dans la nouvelle expression\n",
    "            new_expr += term\n",
    "\n",
    "    if expr != new_expr : # récursive\n",
    "        print('############')\n",
    "        return reduct_demension_expression(new_expr)\n",
    "        \n",
    "    else:\n",
    "        return new_expr"
   ]
  },
  {
   "cell_type": "markdown",
   "id": "fae28cc0",
   "metadata": {},
   "source": [
    "**Exemple (suite):** réduisons le nombre de variables utilisées dans chaque terme de l'expression simplifiée précédente:"
   ]
  },
  {
   "cell_type": "code",
   "execution_count": 14,
   "id": "96f74c95",
   "metadata": {},
   "outputs": [
    {
     "name": "stdout",
     "output_type": "stream",
     "text": [
      "Original expr: 256*p1*p2*q1*q2 + 128*p1*p2*q1 + 384*p1*p2*q2 + 16*p1*p2 + 128*p1*q1*q2 - 216*p1*q1 - 368*p1*q2 - 132*p1 + 384*p2*q1*q2 - 368*p2*q1 - 544*p2*q2 - 256*p2 + 16*q1*q2 - 132*q1 - 256*q2 + 1156\n",
      "Recursing with: 512*p1*p2*q2 + 1040*p1*p2 + 40*p1*q1 - 1024*p1*q2*x1 - 368*p1*q2 - 2048*p1*x1 - 512*p1*x2 - 132*p1 + 400*p2*q1 - 1024*p2*q2*x1 - 544*p2*q2 - 2048*p2*x1 - 1536*p2*x3 - 256*p2 + 256*q1*q2*x1 + 16*q1*q2 + 128*q1*x1 - 512*q1*x2 - 1536*q1*x3 - 132*q1 + 1920*q2*x1 + 128*q2*x2 + 384*q2*x3 - 256*q2 + 3072*x1 + 768*x2 + 2304*x3 + 1156\n",
      "Original expr: 512*p1*p2*q2 + 1040*p1*p2 + 40*p1*q1 - 1024*p1*q2*x1 - 368*p1*q2 - 2048*p1*x1 - 512*p1*x2 - 132*p1 + 400*p2*q1 - 1024*p2*q2*x1 - 544*p2*q2 - 2048*p2*x1 - 1536*p2*x3 - 256*p2 + 256*q1*q2*x1 + 16*q1*q2 + 128*q1*x1 - 512*q1*x2 - 1536*q1*x3 - 132*q1 + 1920*q2*x1 + 128*q2*x2 + 384*q2*x3 - 256*q2 + 3072*x1 + 768*x2 + 2304*x3 + 1156\n",
      "Recursing with: 2064*p1*p2 + 40*p1*q1 - 2416*p1*q2 - 4096*p1*x1 - 512*p1*x2 + 4096*p1*x4 - 132*p1 + 400*p2*q1 - 2592*p2*q2 - 4096*p2*x1 - 1536*p2*x3 + 4096*p2*x5 - 256*p2 + 528*q1*q2 + 128*q1*x1 - 512*q1*x2 - 1536*q1*x3 - 1024*q1*x6 - 132*q1 + 2432*q2*x1 + 128*q2*x2 + 384*q2*x3 + 4096*q2*x4 + 4096*q2*x5 - 1024*q2*x6 - 256*q2 - 1024*x1*x4 - 1024*x1*x5 + 256*x1*x6 + 6144*x1 + 768*x2 + 2304*x3 - 6144*x4 - 6144*x5 + 1536*x6 + 1156\n",
      "Original expr: 2064*p1*p2 + 40*p1*q1 - 2416*p1*q2 - 4096*p1*x1 - 512*p1*x2 + 4096*p1*x4 - 132*p1 + 400*p2*q1 - 2592*p2*q2 - 4096*p2*x1 - 1536*p2*x3 + 4096*p2*x5 - 256*p2 + 528*q1*q2 + 128*q1*x1 - 512*q1*x2 - 1536*q1*x3 - 1024*q1*x6 - 132*q1 + 2432*q2*x1 + 128*q2*x2 + 384*q2*x3 + 4096*q2*x4 + 4096*q2*x5 - 1024*q2*x6 - 256*q2 - 1024*x1*x4 - 1024*x1*x5 + 256*x1*x6 + 6144*x1 + 768*x2 + 2304*x3 - 6144*x4 - 6144*x5 + 1536*x6 + 1156\n",
      "Final expression: 2064*p1*p2 + 40*p1*q1 - 2416*p1*q2 - 4096*p1*x1 - 512*p1*x2 + 4096*p1*x4 - 132*p1 + 400*p2*q1 - 2592*p2*q2 - 4096*p2*x1 - 1536*p2*x3 + 4096*p2*x5 - 256*p2 + 528*q1*q2 + 128*q1*x1 - 512*q1*x2 - 1536*q1*x3 - 1024*q1*x6 - 132*q1 + 2432*q2*x1 + 128*q2*x2 + 384*q2*x3 + 4096*q2*x4 + 4096*q2*x5 - 1024*q2*x6 - 256*q2 - 1024*x1*x4 - 1024*x1*x5 + 256*x1*x6 + 6144*x1 + 768*x2 + 2304*x3 - 6144*x4 - 6144*x5 + 1536*x6 + 1156\n",
      "2064*p1*p2 + 40*p1*q1 - 2416*p1*q2 - 4096*p1*x1 - 512*p1*x2 + 4096*p1*x4 - 132*p1 + 400*p2*q1 - 2592*p2*q2 - 4096*p2*x1 - 1536*p2*x3 + 4096*p2*x5 - 256*p2 + 528*q1*q2 + 128*q1*x1 - 512*q1*x2 - 1536*q1*x3 - 1024*q1*x6 - 132*q1 + 2432*q2*x1 + 128*q2*x2 + 384*q2*x3 + 4096*q2*x4 + 4096*q2*x5 - 1024*q2*x6 - 256*q2 - 1024*x1*x4 - 1024*x1*x5 + 256*x1*x6 + 6144*x1 + 768*x2 + 2304*x3 - 6144*x4 - 6144*x5 + 1536*x6 + 1156\n"
     ]
    }
   ],
   "source": [
    "\n",
    "reduct_demension_expr = reduct_demension_expression(expr_reduct_power)\n",
    "pprint(reduct_demension_expr)"
   ]
  },
  {
   "cell_type": "code",
   "execution_count": 15,
   "id": "bc1db409",
   "metadata": {},
   "outputs": [],
   "source": [
    "# obtient l'expression finale\n",
    "def get_reduct_expression(N,p,q):\n",
    "    expr = define_function(N,p,q)\n",
    "    expr_reduct_power = reduct_variable_power_function(expr)\n",
    "    reduct_demension_expr = reduct_demension_expression(expr_reduct_power)\n",
    "    return reduct_demension_expr"
   ]
  },
  {
   "cell_type": "code",
   "execution_count": 16,
   "id": "e6424ec3",
   "metadata": {},
   "outputs": [],
   "source": [
    "# de reduct_demension_expr à reduct_variable_power_function\n",
    "# pour vérifier\n",
    "def detransfer_expr(reduct_demension_expr):\n",
    "    dict_inverse = {valeur: cle for cle, valeur in dictionaire_auxiliary_variable.items()}\n",
    "    new_expr = reduct_demension_expr.subs(dict_inverse)\n",
    "    return sp.expand(new_expr)"
   ]
  },
  {
   "cell_type": "code",
   "execution_count": 17,
   "id": "03f637ac",
   "metadata": {},
   "outputs": [
    {
     "data": {
      "text/latex": [
       "$\\displaystyle 2064 p_{1} p_{2} + 40 p_{1} q_{1} - 2416 p_{1} q_{2} - 4096 p_{1} x_{1} - 512 p_{1} x_{2} + 4096 p_{1} x_{4} - 132 p_{1} + 400 p_{2} q_{1} - 2592 p_{2} q_{2} - 4096 p_{2} x_{1} - 1536 p_{2} x_{3} + 4096 p_{2} x_{5} - 256 p_{2} + 528 q_{1} q_{2} + 128 q_{1} x_{1} - 512 q_{1} x_{2} - 1536 q_{1} x_{3} - 1024 q_{1} x_{6} - 132 q_{1} + 2432 q_{2} x_{1} + 128 q_{2} x_{2} + 384 q_{2} x_{3} + 4096 q_{2} x_{4} + 4096 q_{2} x_{5} - 1024 q_{2} x_{6} - 256 q_{2} - 1024 x_{1} x_{4} - 1024 x_{1} x_{5} + 256 x_{1} x_{6} + 6144 x_{1} + 768 x_{2} + 2304 x_{3} - 6144 x_{4} - 6144 x_{5} + 1536 x_{6} + 1156$"
      ],
      "text/plain": [
       "2064*p1*p2 + 40*p1*q1 - 2416*p1*q2 - 4096*p1*x1 - 512*p1*x2 + 4096*p1*x4 - 132*p1 + 400*p2*q1 - 2592*p2*q2 - 4096*p2*x1 - 1536*p2*x3 + 4096*p2*x5 - 256*p2 + 528*q1*q2 + 128*q1*x1 - 512*q1*x2 - 1536*q1*x3 - 1024*q1*x6 - 132*q1 + 2432*q2*x1 + 128*q2*x2 + 384*q2*x3 + 4096*q2*x4 + 4096*q2*x5 - 1024*q2*x6 - 256*q2 - 1024*x1*x4 - 1024*x1*x5 + 256*x1*x6 + 6144*x1 + 768*x2 + 2304*x3 - 6144*x4 - 6144*x5 + 1536*x6 + 1156"
      ]
     },
     "execution_count": 17,
     "metadata": {},
     "output_type": "execute_result"
    }
   ],
   "source": [
    "detransfer_expr(reduct_demension_expr)"
   ]
  },
  {
   "cell_type": "markdown",
   "id": "20fe5048",
   "metadata": {},
   "source": [
    "# Factorisation d'entiers en le transformant dans le modèle QUBO (ou d'Ising)"
   ]
  },
  {
   "cell_type": "markdown",
   "id": "3a9a759d",
   "metadata": {},
   "source": [
    "Cette expression est un problème d'optimisation binaire quadratique sans contrainte (QUBO) sur 4 variables ($p_1,q_1,q_2,x_1$) qui peut\n",
    "être transformé en un hamiltonien d'Ising équivalent"
   ]
  },
  {
   "cell_type": "markdown",
   "id": "96abd0f9",
   "metadata": {},
   "source": [
    "On fait appel à la librairie [Dimod](https://test-projecttemplate-dimod.readthedocs.io/en/release_notes/introduction.html) qui permet de créer un modèle d'Ising à partir d'une expression mathématique donnée sous la forme symbolique."
   ]
  },
  {
   "cell_type": "markdown",
   "id": "d577b4de",
   "metadata": {},
   "source": [
    "## Step3: Transfer de Qubo à Ising "
   ]
  },
  {
   "cell_type": "markdown",
   "id": "58a38959",
   "metadata": {},
   "source": [
    "De reduct_demension_expr, on remplace les variables du Qubo problème aux variables du Ising problème:\n",
    "\n",
    "$\\displaystyle variable_q \\in \\{0,1\\} = (variable_i +1)/2$ avec $ variable_i \\in \\{-1,1\\} $"
   ]
  },
  {
   "cell_type": "code",
   "execution_count": 18,
   "id": "2c3e0633",
   "metadata": {},
   "outputs": [],
   "source": [
    "def transfers_qubo2Ising(reduct_demension_expr):\n",
    "    \n",
    "    subs_relations = {(variable, ( variable + 1 ) /2) for variable in variables}\n",
    "    \n",
    "    # Après la substitution, variables dans l'expression sont des variables d'Ising dans {-1,+1}\n",
    "    new_expr = reduct_demension_expr.subs(subs_relations)\n",
    "    new_expr = sp.expand(new_expr)\n",
    "    return new_expr"
   ]
  },
  {
   "cell_type": "markdown",
   "id": "0241b72e",
   "metadata": {},
   "source": [
    "**Exemple (suite):** On transforme l'expression réduite précédente en une expression pour le modèle d'Ising qui pourra être transformé par la librairie"
   ]
  },
  {
   "cell_type": "code",
   "execution_count": 19,
   "id": "5769ee20",
   "metadata": {},
   "outputs": [
    {
     "data": {
      "text/latex": [
       "$\\displaystyle 516 p_{1} p_{2} + 10 p_{1} q_{1} - 604 p_{1} q_{2} - 1024 p_{1} x_{1} - 128 p_{1} x_{2} + 1024 p_{1} x_{4} - 272 p_{1} + 100 p_{2} q_{1} - 648 p_{2} q_{2} - 1024 p_{2} x_{1} - 384 p_{2} x_{3} + 1024 p_{2} x_{5} - 544 p_{2} + 132 q_{1} q_{2} + 32 q_{1} x_{1} - 128 q_{1} x_{2} - 384 q_{1} x_{3} - 256 q_{1} x_{6} - 560 q_{1} + 608 q_{2} x_{1} + 32 q_{2} x_{2} + 96 q_{2} x_{3} + 1024 q_{2} x_{4} + 1024 q_{2} x_{5} - 256 q_{2} x_{6} + 1280 q_{2} - 256 x_{1} x_{4} - 256 x_{1} x_{5} + 64 x_{1} x_{6} + 1216 x_{1} + 160 x_{2} + 480 x_{3} - 1280 x_{4} - 1280 x_{5} + 320 x_{6} + 338$"
      ],
      "text/plain": [
       "516*p1*p2 + 10*p1*q1 - 604*p1*q2 - 1024*p1*x1 - 128*p1*x2 + 1024*p1*x4 - 272*p1 + 100*p2*q1 - 648*p2*q2 - 1024*p2*x1 - 384*p2*x3 + 1024*p2*x5 - 544*p2 + 132*q1*q2 + 32*q1*x1 - 128*q1*x2 - 384*q1*x3 - 256*q1*x6 - 560*q1 + 608*q2*x1 + 32*q2*x2 + 96*q2*x3 + 1024*q2*x4 + 1024*q2*x5 - 256*q2*x6 + 1280*q2 - 256*x1*x4 - 256*x1*x5 + 64*x1*x6 + 1216*x1 + 160*x2 + 480*x3 - 1280*x4 - 1280*x5 + 320*x6 + 338"
      ]
     },
     "execution_count": 19,
     "metadata": {},
     "output_type": "execute_result"
    }
   ],
   "source": [
    "expr_ising = transfers_qubo2Ising(reduct_demension_expr)\n",
    "expr_ising"
   ]
  },
  {
   "cell_type": "markdown",
   "id": "da1c296b",
   "metadata": {},
   "source": [
    "#### Calcule de h et J est optionnel. h et J pourrait être utilisé pour d'autres solvers"
   ]
  },
  {
   "cell_type": "markdown",
   "id": "ab587719",
   "metadata": {},
   "source": [
    "De l'expression ising, on peut définir:\n",
    "1. h qui contient (les coeffients des termes qui ont une degrèe de 1)\n",
    "2. J est une matrice de diension 2, $J_{ij}$ est l'interaction entre $spin_i$ et $spin_j$. i et j sont l'indice des variables de la liste $variables$, $J_{ij} =$ coefficient de $(variables[i] * variables[j])$\n",
    "\n"
   ]
  },
  {
   "cell_type": "code",
   "execution_count": 20,
   "id": "2079ac07",
   "metadata": {},
   "outputs": [],
   "source": [
    "def build_h(expr):\n",
    "    #len de h est le nombre de variables \n",
    "    h=()\n",
    "    for term in expr.args:\n",
    "        if len(term.free_symbols) == 1:\n",
    "            h = h + (term.as_coeff_mul()[0],)\n",
    "    return h\n",
    "\n",
    "\n",
    "def build_J_h(expr):\n",
    "\n",
    "    terms = expr.args \n",
    "\n",
    "    # 1-variable : reconstruire une expression pour calculer le coef des termes\n",
    "    new_expr = 0\n",
    "\n",
    "    matrix_J = np.zeros((len(variables), len(variables)), dtype=int)  # les len-1 premières variables * les len-1 dernière variables\n",
    "\n",
    "    for term in terms:\n",
    "        if len(term.free_symbols) == 2:\n",
    "            # 2-variables : créer la matrice J\n",
    "            list_variable_term = sorted(term.free_symbols, key=sort_key)\n",
    "            coef = term.as_coeff_mul()[0]\n",
    "            i = variables.index(list_variable_term[0])\n",
    "            j = variables.index(list_variable_term[1])\n",
    "            \n",
    "            \n",
    "            matrix_J[i][j] = coef\n",
    "        else:\n",
    "            # 1-variable\n",
    "            new_expr += term\n",
    "\n",
    "    tuple_h = build_h(new_expr)\n",
    "    return tuple_h,matrix_J"
   ]
  },
  {
   "cell_type": "markdown",
   "id": "93011ea3",
   "metadata": {},
   "source": [
    "**Exemple (suite):** D'une expression d'Ising, on peut construire des matrices, matrice h représent l'interaction entre chaque spin et un champ externe et matrice J représent l'interaction entre tout les deux spins."
   ]
  },
  {
   "cell_type": "code",
   "execution_count": 30,
   "id": "8589cfa1",
   "metadata": {},
   "outputs": [
    {
     "name": "stdout",
     "output_type": "stream",
     "text": [
      "(-1280, -1280, -560, -544, -272, 160, 320, 480, 1216, 1280)\n",
      "[[    0   516    10  -604 -1024  -128     0  1024     0     0]\n",
      " [    0     0   100  -648 -1024     0  -384     0  1024     0]\n",
      " [    0     0     0   132    32  -128  -384     0     0  -256]\n",
      " [    0     0     0     0   608    32    96  1024  1024  -256]\n",
      " [    0     0     0     0     0     0     0  -256  -256    64]\n",
      " [    0     0     0     0     0     0     0     0     0     0]\n",
      " [    0     0     0     0     0     0     0     0     0     0]\n",
      " [    0     0     0     0     0     0     0     0     0     0]\n",
      " [    0     0     0     0     0     0     0     0     0     0]\n",
      " [    0     0     0     0     0     0     0     0     0     0]]\n"
     ]
    }
   ],
   "source": [
    "(h,J) = build_J_h(expr_ising)\n",
    "print(h)\n",
    "print(J)"
   ]
  },
  {
   "cell_type": "markdown",
   "id": "581f19cd",
   "metadata": {},
   "source": [
    "# Solveur pour Modèle Ising"
   ]
  },
  {
   "cell_type": "markdown",
   "id": "6a87ce8d",
   "metadata": {},
   "source": [
    "## Step4: Constuire linear et quadratique dictionnaire.\n",
    "\n",
    "Ils sont des paramètre nessessaire pour appeler le solveur Dimod\n",
    "1. linear dictionnaire: {key(nom du variable en string) : valeur(coef de cette variavle dans expression d'Ising)}\n",
    "\n",
    "2. quadratique dictionnaire: {key(un truple de nom des deux variables en string) : valeur(coef de ces deux variables dans expression d'Ising)}"
   ]
  },
  {
   "cell_type": "code",
   "execution_count": 22,
   "id": "ef74242e",
   "metadata": {},
   "outputs": [],
   "source": [
    "import dimod \n",
    "from dwave.preprocessing.composites import SpinReversalTransformComposite"
   ]
  },
  {
   "cell_type": "code",
   "execution_count": 23,
   "id": "ad47fd04",
   "metadata": {},
   "outputs": [
    {
     "data": {
      "text/plain": [
       "True"
      ]
     },
     "execution_count": 23,
     "metadata": {},
     "output_type": "execute_result"
    }
   ],
   "source": [
    "# Compose the sampler\n",
    "base_sampler = dimod.ExactSolver()\n",
    "composed_sampler = SpinReversalTransformComposite(base_sampler)\n",
    "base_sampler in composed_sampler.children"
   ]
  },
  {
   "cell_type": "markdown",
   "id": "bc364651",
   "metadata": {},
   "source": [
    "From h and J build linaer and quadratic dict"
   ]
  },
  {
   "cell_type": "code",
   "execution_count": 24,
   "id": "d8f7e648",
   "metadata": {},
   "outputs": [],
   "source": [
    "def get_solver_parameter(expr_ising):\n",
    "    linear = {}\n",
    "    quadratic ={}\n",
    "    offset = 0\n",
    "\n",
    "    for term in expr_ising.args:\n",
    "        variables_liste = sorted(term.free_symbols, key=sort_key)\n",
    "        coef = term.as_coeff_mul()[0]\n",
    "        if len(term.free_symbols) ==0:\n",
    "            offset = coef\n",
    "        if len(term.free_symbols) ==1:\n",
    "            linear[variables_liste[0].name] = coef\n",
    "        elif len(term.free_symbols) ==2:\n",
    "            quadratic[(variables_liste[0].name,variables_liste[1].name)] = coef\n",
    "\n",
    "    return (linear,quadratic,offset)"
   ]
  },
  {
   "cell_type": "markdown",
   "id": "83bb3f32",
   "metadata": {},
   "source": [
    "exemple"
   ]
  },
  {
   "cell_type": "code",
   "execution_count": 25,
   "id": "4f013e48",
   "metadata": {},
   "outputs": [],
   "source": [
    "#get_solver_parameter(expr_ising)"
   ]
  },
  {
   "cell_type": "markdown",
   "id": "b42a06be",
   "metadata": {},
   "source": [
    "## Step5: Compiler pour obtenir modèle et la solution"
   ]
  },
  {
   "cell_type": "code",
   "execution_count": 26,
   "id": "8f70709c",
   "metadata": {},
   "outputs": [],
   "source": [
    "def get_solution(expr_ising):\n",
    "    (linear,quadratic,offset) = get_solver_parameter(expr_ising)\n",
    "    response = composed_sampler.sample_ising(linear, quadratic)  #response.data() return (solution, energy, num_occurrences)\n",
    "    solution = next(response.data())[0]\n",
    "    return solution"
   ]
  },
  {
   "cell_type": "code",
   "execution_count": 31,
   "id": "b498e1a3",
   "metadata": {},
   "outputs": [
    {
     "data": {
      "text/plain": [
       "{'p1': np.int8(-1),\n",
       " 'x1': np.int8(-1),\n",
       " 'p2': np.int8(-1),\n",
       " 'q2': np.int8(-1),\n",
       " 'x3': np.int8(-1),\n",
       " 'q1': np.int8(1),\n",
       " 'x6': np.int8(-1),\n",
       " 'x4': np.int8(1),\n",
       " 'x5': np.int8(1),\n",
       " 'x2': np.int8(-1)}"
      ]
     },
     "execution_count": 31,
     "metadata": {},
     "output_type": "execute_result"
    }
   ],
   "source": [
    "solution = get_solution(expr_ising)\n",
    "solution"
   ]
  },
  {
   "cell_type": "markdown",
   "id": "5665b7c4",
   "metadata": {},
   "source": [
    "La solution est une dictionnaire avec le key: nom de spin/binary en string; la valeur: la valeur de spin/binary qui est -1 ou 1."
   ]
  },
  {
   "cell_type": "markdown",
   "id": "9e863d62",
   "metadata": {},
   "source": [
    "## Steps6: Factorisation\n",
    "### Calculer p et q \n",
    "On les calcule en remplaçant les valeurs dans la solution trouvée par le solver et l'expressions de p et q."
   ]
  },
  {
   "cell_type": "code",
   "execution_count": 28,
   "id": "ff513ba7",
   "metadata": {},
   "outputs": [],
   "source": [
    "def calcule_p_q(solution,p,q):\n",
    "    dic_varialbe_value = {}\n",
    "    for var in variables:\n",
    "        if(solution[var.name] == np.int8(1)):\n",
    "            dic_varialbe_value[var] = int(1)\n",
    "        else:\n",
    "            dic_varialbe_value[var] = int(0)\n",
    "\n",
    "    p_value = p.subs(dic_varialbe_value)\n",
    "    q_value = q.subs(dic_varialbe_value)\n",
    "    \n",
    "    return (p_value.evalf(),q_value.evalf())"
   ]
  },
  {
   "cell_type": "code",
   "execution_count": 29,
   "id": "5bf25903",
   "metadata": {},
   "outputs": [
    {
     "data": {
      "text/plain": [
       "(1.00000000000000, 3.00000000000000)"
      ]
     },
     "execution_count": 29,
     "metadata": {},
     "output_type": "execute_result"
    }
   ],
   "source": [
    "calcule_p_q(solution,p,q)"
   ]
  },
  {
   "cell_type": "markdown",
   "id": "c9ad4620",
   "metadata": {},
   "source": [
    "### Verifier si N est une puissance pure"
   ]
  },
  {
   "cell_type": "code",
   "execution_count": 28,
   "id": "d9c4dfa1",
   "metadata": {},
   "outputs": [],
   "source": [
    "def find_pure_power(N):\n",
    "    if N < 4:\n",
    "        return None\n",
    "    low = 2\n",
    "    high = math.ceil(math.log2(N))\n",
    "    while low <= high:\n",
    "        mid = (low + high) // 2\n",
    "        power = mid ** 2\n",
    "        if power == N:\n",
    "            return mid\n",
    "        elif power < N:\n",
    "            low = mid + 1\n",
    "        else:\n",
    "            high = mid - 1\n",
    "    return None"
   ]
  },
  {
   "cell_type": "markdown",
   "id": "c51d0e26",
   "metadata": {},
   "source": [
    "### Sum up fontion"
   ]
  },
  {
   "cell_type": "code",
   "execution_count": 29,
   "id": "e35c7c16",
   "metadata": {},
   "outputs": [],
   "source": [
    "def factorization(N,l1,l2):\n",
    "    global variables, variables_Ising, dictionaire_auxiliary_variable, res\n",
    "    variables = []\n",
    "    variables_Ising = []\n",
    "    dictionaire_auxiliary_variable = {}\n",
    "    res = 1\n",
    "\n",
    "    (p,q) = set_variable(l1,l2)### p et q expression\n",
    "\n",
    "    power = find_pure_power(N)\n",
    "    if find_pure_power(N) :\n",
    "        (p_int,q_int) = (power,power)\n",
    "    else:\n",
    "        reduct_demension_expr = get_reduct_expression(N,p,q)\n",
    "        expr_ising = transfers_qubo2Ising(reduct_demension_expr)\n",
    "        solution = get_solution(expr_ising)\n",
    "        print(solution)\n",
    "        (p_val,q_val) = calcule_p_q(solution,p,q)\n",
    "        (p_int,q_int) = (int(p_val),int(q_val))\n",
    "    print(f\"La factorisation de {N} est {p_int} * {q_int}.\")\n",
    "    print (p_int*q_int == N)"
   ]
  },
  {
   "cell_type": "markdown",
   "id": "a8a5e307",
   "metadata": {},
   "source": [
    "## Call function"
   ]
  },
  {
   "cell_type": "code",
   "execution_count": 31,
   "id": "3a63b08a",
   "metadata": {},
   "outputs": [
    {
     "name": "stdout",
     "output_type": "stream",
     "text": [
      "Original expr: 256*p1*p2*q1*q2 + 128*p1*p2*q1 + 384*p1*p2*q2 + 16*p1*p2 + 128*p1*q1*q2 - 216*p1*q1 - 368*p1*q2 - 132*p1 + 384*p2*q1*q2 - 368*p2*q1 - 544*p2*q2 - 256*p2 + 16*q1*q2 - 132*q1 - 256*q2 + 1156\n",
      "Recursing with: 512*p1*p2*q2 + 1040*p1*p2 + 40*p1*q1 - 1024*p1*q2*x1 - 368*p1*q2 - 2048*p1*x1 - 512*p1*x2 - 132*p1 + 400*p2*q1 - 1024*p2*q2*x1 - 544*p2*q2 - 2048*p2*x1 - 1536*p2*x3 - 256*p2 + 256*q1*q2*x1 + 16*q1*q2 + 128*q1*x1 - 512*q1*x2 - 1536*q1*x3 - 132*q1 + 1920*q2*x1 + 128*q2*x2 + 384*q2*x3 - 256*q2 + 3072*x1 + 768*x2 + 2304*x3 + 1156\n",
      "Original expr: 512*p1*p2*q2 + 1040*p1*p2 + 40*p1*q1 - 1024*p1*q2*x1 - 368*p1*q2 - 2048*p1*x1 - 512*p1*x2 - 132*p1 + 400*p2*q1 - 1024*p2*q2*x1 - 544*p2*q2 - 2048*p2*x1 - 1536*p2*x3 - 256*p2 + 256*q1*q2*x1 + 16*q1*q2 + 128*q1*x1 - 512*q1*x2 - 1536*q1*x3 - 132*q1 + 1920*q2*x1 + 128*q2*x2 + 384*q2*x3 - 256*q2 + 3072*x1 + 768*x2 + 2304*x3 + 1156\n",
      "Recursing with: 2064*p1*p2 + 40*p1*q1 - 2416*p1*q2 - 4096*p1*x1 - 512*p1*x2 + 4096*p1*x4 - 132*p1 + 400*p2*q1 - 2592*p2*q2 - 4096*p2*x1 - 1536*p2*x3 + 4096*p2*x5 - 256*p2 + 528*q1*q2 + 128*q1*x1 - 512*q1*x2 - 1536*q1*x3 - 1024*q1*x6 - 132*q1 + 2432*q2*x1 + 128*q2*x2 + 384*q2*x3 + 4096*q2*x4 + 4096*q2*x5 - 1024*q2*x6 - 256*q2 - 1024*x1*x4 - 1024*x1*x5 + 256*x1*x6 + 6144*x1 + 768*x2 + 2304*x3 - 6144*x4 - 6144*x5 + 1536*x6 + 1156\n",
      "Original expr: 2064*p1*p2 + 40*p1*q1 - 2416*p1*q2 - 4096*p1*x1 - 512*p1*x2 + 4096*p1*x4 - 132*p1 + 400*p2*q1 - 2592*p2*q2 - 4096*p2*x1 - 1536*p2*x3 + 4096*p2*x5 - 256*p2 + 528*q1*q2 + 128*q1*x1 - 512*q1*x2 - 1536*q1*x3 - 1024*q1*x6 - 132*q1 + 2432*q2*x1 + 128*q2*x2 + 384*q2*x3 + 4096*q2*x4 + 4096*q2*x5 - 1024*q2*x6 - 256*q2 - 1024*x1*x4 - 1024*x1*x5 + 256*x1*x6 + 6144*x1 + 768*x2 + 2304*x3 - 6144*x4 - 6144*x5 + 1536*x6 + 1156\n",
      "Final expression: 2064*p1*p2 + 40*p1*q1 - 2416*p1*q2 - 4096*p1*x1 - 512*p1*x2 + 4096*p1*x4 - 132*p1 + 400*p2*q1 - 2592*p2*q2 - 4096*p2*x1 - 1536*p2*x3 + 4096*p2*x5 - 256*p2 + 528*q1*q2 + 128*q1*x1 - 512*q1*x2 - 1536*q1*x3 - 1024*q1*x6 - 132*q1 + 2432*q2*x1 + 128*q2*x2 + 384*q2*x3 + 4096*q2*x4 + 4096*q2*x5 - 1024*q2*x6 - 256*q2 - 1024*x1*x4 - 1024*x1*x5 + 256*x1*x6 + 6144*x1 + 768*x2 + 2304*x3 - 6144*x4 - 6144*x5 + 1536*x6 + 1156\n",
      "{'p1': np.int8(-1), 'x1': np.int8(-1), 'p2': np.int8(-1), 'q2': np.int8(-1), 'x3': np.int8(-1), 'q1': np.int8(1), 'x6': np.int8(-1), 'x4': np.int8(1), 'x5': np.int8(1), 'x2': np.int8(-1)}\n",
      "La factorisation de 35 est 1 * 3.\n",
      "False\n"
     ]
    }
   ],
   "source": [
    "N=35\n",
    "l1=3\n",
    "l2=3\n",
    "factorization(N,l1,l2)"
   ]
  },
  {
   "cell_type": "code",
   "execution_count": 35,
   "id": "89e50022",
   "metadata": {},
   "outputs": [
    {
     "name": "stdout",
     "output_type": "stream",
     "text": [
      "Original expr: 128*p1*q1*q2 - 56*p1*q1 - 48*p1*q2 - 52*p1 + 16*q1*q2 - 52*q1 - 96*q2 + 196\n",
      "Recursing with: 200*p1*q1 - 48*p1*q2 - 512*p1*x1 - 52*p1 + 16*q1*q2 - 512*q1*x1 - 52*q1 + 128*q2*x1 - 96*q2 + 768*x1 + 196\n",
      "Original expr: 200*p1*q1 - 48*p1*q2 - 512*p1*x1 - 52*p1 + 16*q1*q2 - 512*q1*x1 - 52*q1 + 128*q2*x1 - 96*q2 + 768*x1 + 196\n",
      "Final expression: 200*p1*q1 - 48*p1*q2 - 512*p1*x1 - 52*p1 + 16*q1*q2 - 512*q1*x1 - 52*q1 + 128*q2*x1 - 96*q2 + 768*x1 + 196\n",
      "{'p1': np.int8(1), 'x1': np.int8(-1), 'q1': np.int8(-1), 'q2': np.int8(1)}\n",
      "La factorisation de 15 est 3 * 5.\n",
      "True\n"
     ]
    }
   ],
   "source": [
    "N=15\n",
    "l1=2\n",
    "l2=3\n",
    "factorization(N,l1,l2)"
   ]
  },
  {
   "cell_type": "code",
   "execution_count": 31,
   "id": "201c2eaf",
   "metadata": {},
   "outputs": [
    {
     "name": "stdout",
     "output_type": "stream",
     "text": [
      "############\n",
      "{'p1': np.int8(1), 'x1': np.int8(1), 'q1': np.int8(1), 'q2': np.int8(1)}\n",
      "La factorisation de 21 est 3 * 7.\n",
      "True\n"
     ]
    }
   ],
   "source": [
    "N=21\n",
    "l1=2\n",
    "l2=3\n",
    "factorization(N,l1,l2)"
   ]
  },
  {
   "cell_type": "code",
   "execution_count": 36,
   "id": "cdebbd4a",
   "metadata": {},
   "outputs": [
    {
     "name": "stdout",
     "output_type": "stream",
     "text": [
      "Original expr: 128*p1*q1*q2 + 256*p1*q1*q3 - 200*p1*q1 + 512*p1*q2*q3 - 336*p1*q2 - 416*p1*q3 - 124*p1 + 16*q1*q2 + 32*q1*q3 - 124*q1 + 64*q2*q3 - 240*q2 - 448*q3 + 1024\n",
      "Recursing with: 568*p1*q1 + 688*p1*q2 - 416*p1*q3 - 1536*p1*x1 - 2048*p1*x2 - 124*p1 + 16*q1*q2 + 32*q1*q3 - 1536*q1*x1 - 124*q1 + 64*q2*q3 + 128*q2*x1 - 2048*q2*x2 - 240*q2 + 256*q3*x1 + 512*q3*x2 - 448*q3 + 2304*x1 + 3072*x2 + 1024\n",
      "Original expr: 568*p1*q1 + 688*p1*q2 - 416*p1*q3 - 1536*p1*x1 - 2048*p1*x2 - 124*p1 + 16*q1*q2 + 32*q1*q3 - 1536*q1*x1 - 124*q1 + 64*q2*q3 + 128*q2*x1 - 2048*q2*x2 - 240*q2 + 256*q3*x1 + 512*q3*x2 - 448*q3 + 2304*x1 + 3072*x2 + 1024\n",
      "Final expression: 568*p1*q1 + 688*p1*q2 - 416*p1*q3 - 1536*p1*x1 - 2048*p1*x2 - 124*p1 + 16*q1*q2 + 32*q1*q3 - 1536*q1*x1 - 124*q1 + 64*q2*q3 + 128*q2*x1 - 2048*q2*x2 - 240*q2 + 256*q3*x1 + 512*q3*x2 - 448*q3 + 2304*x1 + 3072*x2 + 1024\n",
      "{'p1': np.int8(1), 'x2': np.int8(-1), 'q2': np.int8(-1), 'x1': np.int8(1), 'q1': np.int8(1), 'q3': np.int8(1)}\n",
      "La factorisation de 33 est 3 * 11.\n",
      "True\n"
     ]
    }
   ],
   "source": [
    "N=33\n",
    "l1=2\n",
    "l2=4\n",
    "factorization(N,l1,l2)"
   ]
  },
  {
   "cell_type": "code",
   "execution_count": 34,
   "id": "0f174bf4",
   "metadata": {},
   "outputs": [
    {
     "name": "stdout",
     "output_type": "stream",
     "text": [
      "############\n",
      "{'p1': np.int8(1), 'x2': np.int8(1), 'q2': np.int8(1), 'x1': np.int8(-1), 'q1': np.int8(-1), 'q3': np.int8(1)}\n",
      "La factorisation de 39 est 3 * 13.\n",
      "True\n"
     ]
    }
   ],
   "source": [
    "N=39\n",
    "l1=2\n",
    "l2=4\n",
    "factorization(N,l1,l2)"
   ]
  },
  {
   "cell_type": "code",
   "execution_count": 35,
   "id": "087fb663",
   "metadata": {},
   "outputs": [
    {
     "name": "stdout",
     "output_type": "stream",
     "text": [
      "############\n",
      "############\n",
      "{'p1': np.int8(-1), 'x1': np.int8(-1), 'p2': np.int8(-1), 'q3': np.int8(-1), 'x6': np.int8(1), 'x7': np.int8(1), 'x3': np.int8(-1), 'q1': np.int8(1), 'q2': np.int8(-1), 'x10': np.int8(-1), 'x5': np.int8(-1), 'x9': np.int8(-1), 'x2': np.int8(-1), 'x8': np.int8(-1), 'x4': np.int8(1)}\n",
      "La factorisation de 55 est 1 * 3.\n",
      "False\n"
     ]
    }
   ],
   "source": [
    "N=55\n",
    "l1=3\n",
    "l2=4\n",
    "factorization(N,l1,l2)"
   ]
  },
  {
   "cell_type": "code",
   "execution_count": 31,
   "id": "e4679576",
   "metadata": {},
   "outputs": [
    {
     "name": "stdout",
     "output_type": "stream",
     "text": [
      "############\n",
      "{'p1': np.int8(1), 'q2': np.int8(1), 'q1': np.int8(1), 'x1': np.int8(1)}\n",
      "La factorisation de 143 est 3 * 7.\n",
      "False\n"
     ]
    }
   ],
   "source": [
    "N=143\n",
    "l1=2\n",
    "l2=3\n",
    "factorization(N,l1,l2)"
   ]
  },
  {
   "cell_type": "code",
   "execution_count": null,
   "id": "64b88891",
   "metadata": {},
   "outputs": [],
   "source": []
  },
  {
   "cell_type": "code",
   "execution_count": null,
   "id": "1ae2c524",
   "metadata": {},
   "outputs": [],
   "source": []
  },
  {
   "cell_type": "code",
   "execution_count": null,
   "id": "7e86f90c",
   "metadata": {},
   "outputs": [],
   "source": []
  },
  {
   "cell_type": "code",
   "execution_count": null,
   "id": "26d4ec60",
   "metadata": {},
   "outputs": [],
   "source": []
  },
  {
   "cell_type": "code",
   "execution_count": null,
   "id": "31663402",
   "metadata": {},
   "outputs": [],
   "source": []
  },
  {
   "cell_type": "code",
   "execution_count": null,
   "id": "420ef95f",
   "metadata": {},
   "outputs": [],
   "source": []
  },
  {
   "cell_type": "code",
   "execution_count": null,
   "id": "5eea7b43",
   "metadata": {},
   "outputs": [],
   "source": []
  },
  {
   "cell_type": "markdown",
   "id": "a3a12e7e",
   "metadata": {},
   "source": [
    "# RunTime"
   ]
  },
  {
   "cell_type": "code",
   "execution_count": null,
   "id": "5f9bc5b9",
   "metadata": {},
   "outputs": [
    {
     "name": "stdout",
     "output_type": "stream",
     "text": [
      "****************\n",
      "N est : 15\n",
      "{'p1': np.int8(-1), 'q1': np.int8(-1), 'q2': np.int8(-1), 'x1': np.int8(-1)}\n",
      "La factorisation de 15 est 1 * 1.\n",
      "False\n",
      "N=15, l1=2, l2=3: Time = 0.0478 sec\n",
      "****************\n",
      "N est : 21\n",
      "{'p1': np.int8(-1), 'q1': np.int8(-1), 'q2': np.int8(-1), 'x1': np.int8(-1)}\n",
      "La factorisation de 21 est 1 * 1.\n",
      "False\n",
      "N=21, l1=2, l2=3: Time = 0.0269 sec\n",
      "****************\n",
      "N est : 35\n",
      "{'p1': np.int8(1), 'p2': np.int8(1), 'q1': np.int8(1), 'q2': np.int8(1), 'x1': np.int8(1), 'x2': np.int8(1), 'x3': np.int8(1), 'x4': np.int8(-1), 'x5': np.int8(-1), 'x6': np.int8(-1)}\n",
      "La factorisation de 35 est 7 * 7.\n",
      "False\n",
      "N=35, l1=3, l2=3: Time = 0.0954 sec\n"
     ]
    },
    {
     "data": {
      "image/png": "[encoded data removed]",
      "text/plain": [
       "<Figure size 1000x600 with 1 Axes>"
      ]
     },
     "metadata": {},
     "output_type": "display_data"
    }
   ],
   "source": [
    "import time\n",
    "import matplotlib.pyplot as plt\n",
    "import numpy as np\n",
    "\n",
    "# timer\n",
    "def measure_time(func, *args, **kwargs):\n",
    "    start = time.time()\n",
    "    result = func(*args, **kwargs)\n",
    "    end = time.time()\n",
    "    return result, end - start\n",
    "\n",
    "# test fonction\n",
    "def test_runtime(parameters):\n",
    "    logN_values = []\n",
    "    times = []\n",
    "    \n",
    "    for N, l1, l2 in parameters:\n",
    "        # reset variables global\n",
    "        global variables, variables_Ising, dictionaire_auxiliary_variable, res\n",
    "        variables = []\n",
    "        variables_Ising = []\n",
    "        dictionaire_auxiliary_variable = {}\n",
    "        res = 1\n",
    "        \n",
    "        # mesure time\n",
    "        _, elapsed_time = measure_time(factorization, N, l1, l2)\n",
    "        logN_values.append(np.log2(N))\n",
    "        times.append(elapsed_time)\n",
    "        print(f\"N={N}, l1={l1}, l2={l2}: Time = {elapsed_time:.4f} sec\")\n",
    "    \n",
    "    return logN_values, times\n",
    "\n",
    "\n",
    "parameters = [(15,2,3), (21,2,3), (35,3,3), ]\n",
    "#  (65,3,4),(143,4,4),(403,4,5),(899,5,50)\n",
    "logN_values, times = test_runtime(parameters)\n",
    "\n",
    "plt.figure(figsize=(10, 6))\n",
    "plt.plot(logN_values, times, 'o-', label='Execution Time')\n",
    "plt.xlabel('log₂(N)')\n",
    "plt.ylabel('Time (seconds)')\n",
    "plt.title('Factorization Runtime vs log₂(N)')\n",
    "plt.grid(True)\n",
    "plt.legend()\n",
    "\n",
    "for i, (N, l1, l2) in enumerate(parameters):\n",
    "    plt.annotate(f'log2N={math.ceil(math.log2(N))}\\nl1={l1}, l2={l2}', \n",
    "                 (logN_values[i], times[i]),\n",
    "                 textcoords=\"offset points\",\n",
    "                 xytext=(10,-15),\n",
    "                 ha='center')\n",
    "\n",
    "plt.tight_layout()\n",
    "plt.show()"
   ]
  }
 ],
 "metadata": {
  "kernelspec": {
   "display_name": "Python 3",
   "language": "python",
   "name": "python3"
  },
  "language_info": {
   "codemirror_mode": {
    "name": "ipython",
    "version": 3
   },
   "file_extension": ".py",
   "mimetype": "text/x-python",
   "name": "python",
   "nbconvert_exporter": "python",
   "pygments_lexer": "ipython3",
   "version": "3.13.2"
  }
 },
 "nbformat": 4,
 "nbformat_minor": 5
}
