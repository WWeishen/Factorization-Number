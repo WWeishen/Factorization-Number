{
 "cells": [
  {
   "cell_type": "markdown",
   "id": "7ce0853f",
   "metadata": {},
   "source": [
    "# Factorisation d'entiers en le transformant dans le modèle QUBO (ou d'Ising)"
   ]
  },
  {
   "cell_type": "markdown",
   "id": "62443ef9",
   "metadata": {},
   "source": [
    "Présentation générale de l'idée en quelques lignes"
   ]
  },
  {
   "cell_type": "code",
   "id": "fc697531-87c3-4b1c-9b3b-2a27a85c7515",
   "metadata": {
    "ExecuteTime": {
     "end_time": "2025-07-21T13:32:31.558547Z",
     "start_time": "2025-07-21T13:32:30.704355Z"
    }
   },
   "source": [
    "import sympy as sp\n",
    "import numpy as np\n",
    "import math\n",
    "from pprint import *"
   ],
   "outputs": [],
   "execution_count": 1
  },
  {
   "cell_type": "markdown",
   "id": "f1b1ca2b",
   "metadata": {},
   "source": [
    "#### variables globales\n",
    "1. variables : une liste contient des symboles créés; utilisé dans la partie expressions\n",
    "2. dictionaire_auxiliary_variable : des variables créées pour remplacer le produit de deux variables dans p et q\n",
    "3. res : number , pour créer le nom des variables\n",
    "4. variables_Ising : variables dans Hamiltonain expresstion\n",
    "5. dict_variables_binary : map variables dans hamiltonian et variables dans modèle"
   ]
  },
  {
   "cell_type": "code",
   "id": "befa202d",
   "metadata": {
    "ExecuteTime": {
     "end_time": "2025-07-21T13:32:31.570030Z",
     "start_time": "2025-07-21T13:32:31.564851Z"
    }
   },
   "source": [
    "variables=[]\n",
    "dictionaire_auxiliary_variable={}\n",
    "res=1\n",
    "variables_Ising =[]\n",
    "dict_variable_model_map={}"
   ],
   "outputs": [],
   "execution_count": 2
  },
  {
   "cell_type": "markdown",
   "id": "dff345f4",
   "metadata": {},
   "source": [
    "# Expression"
   ]
  },
  {
   "cell_type": "markdown",
   "id": "74df7cef",
   "metadata": {},
   "source": [
    "## Step 0 : dénifir la fonction $f = (N-pq)^2$\n",
    "On utilise `Sympy` pour travailler sur des expressions symboliques du calcul formel.\n",
    "Dans le monde symbolique de `Sympy`, il faut définir des variables symboliques:"
   ]
  },
  {
   "cell_type": "code",
   "id": "3da50a77-455a-4a61-a49e-0fc77d876a3d",
   "metadata": {
    "ExecuteTime": {
     "end_time": "2025-07-21T13:32:31.806365Z",
     "start_time": "2025-07-21T13:32:31.800744Z"
    }
   },
   "source": [
    "# Créer un symbole à partir d'un nom en string\n",
    "def create_variables(var_name):\n",
    "    if isinstance(var_name, str) :\n",
    "        try:\n",
    "            symbol = sp.symbols(var_name)\n",
    "            globals()[var_name] = symbol\n",
    "            variables.append(symbol)\n",
    "        except ValueError:\n",
    "            print(f\"{var_name} ValueError\")\n",
    "    return symbol"
   ],
   "outputs": [],
   "execution_count": 3
  },
  {
   "cell_type": "markdown",
   "id": "7d804f64",
   "metadata": {},
   "source": [
    "### Définir les expressions symboliques pour les écritures de $p$ et $q$ en binaire.\n",
    "\n",
    "On suppose $p$ et $q$ impairs (sinon la factorisation de $N$ serait triviale).\n",
    "\n",
    "$p$ en binaire peut être représenté comme:\n",
    "\n",
    "(pl1-1,..p1,1) = pl1-1 * 2 ** (l1-1) + ... + p1 * 2 **1 +1\n",
    "\n",
    "$q$ en binaire peut être représenté comme:\n",
    "\n",
    "(ql2-1,..,q1,1) = ql2-1 * 2 ** (l2-1) + ... + q1 * 2 **1 +1\n",
    "\n",
    "Avec $l1=\\lfloor\\log_2(p)\\rfloor$ et $l2 =\\lfloor\\log_2(q)\\rfloor$"
   ]
  },
  {
   "cell_type": "code",
   "id": "f436a576",
   "metadata": {
    "ExecuteTime": {
     "end_time": "2025-07-21T13:32:31.832426Z",
     "start_time": "2025-07-21T13:32:31.826515Z"
    }
   },
   "source": [
    "def set_variable(l1,l2):\n",
    "    # length de p et q sont suposés logN/2\n",
    "    #length_N = math.ceil(math.log2(N))\n",
    "    #l1 = l2 = math.ceil(length_N/2)\n",
    "    #p\n",
    "    expr_p = 1\n",
    "    for i in range(1,l1):\n",
    "        var_name = ('p'+ str(i))\n",
    "        var = create_variables(var_name)\n",
    "        expr_p = 2**i * var + expr_p \n",
    "    #q\n",
    "    expr_q = 1\n",
    "    for i in range(1,l2):\n",
    "        var_name = ('q'+ str(i))\n",
    "        var = create_variables(var_name)\n",
    "        expr_q = 2**i * var + expr_q\n",
    "    return (expr_p,expr_q)"
   ],
   "outputs": [],
   "execution_count": 4
  },
  {
   "cell_type": "code",
   "id": "958c36c4",
   "metadata": {
    "ExecuteTime": {
     "end_time": "2025-07-21T13:32:31.916819Z",
     "start_time": "2025-07-21T13:32:31.848082Z"
    }
   },
   "source": [
    "(p,q) = set_variable(2,3)\n",
    "print(p,q)"
   ],
   "outputs": [
    {
     "name": "stdout",
     "output_type": "stream",
     "text": [
      "2*p1 + 1 2*q1 + 4*q2 + 1\n"
     ]
    }
   ],
   "execution_count": 5
  },
  {
   "cell_type": "markdown",
   "id": "e4a54004",
   "metadata": {},
   "source": [
    "### Définir l'expression symbolique $(N-p*q)^2$\n",
    "\n",
    "Le min de cette expression dans $\\mathbb{Z}$ est $0$, dans ce cas $N = p*q$."
   ]
  },
  {
   "cell_type": "code",
   "id": "9716a1dc",
   "metadata": {
    "ExecuteTime": {
     "end_time": "2025-07-21T13:32:31.935260Z",
     "start_time": "2025-07-21T13:32:31.930106Z"
    }
   },
   "source": [
    "def define_function(N,p,q):\n",
    "    expr_pq = p *q\n",
    "    return (N - expr_pq)**2"
   ],
   "outputs": [],
   "execution_count": 6
  },
  {
   "cell_type": "markdown",
   "id": "df75def9",
   "metadata": {},
   "source": [
    "**Exemple :** On définit l'expression symbolique pour $N=15$ avec $p=2*p_1 + 1$ et $q=2*q1 + 4*q2 + 1$"
   ]
  },
  {
   "cell_type": "code",
   "id": "ad87e4ec",
   "metadata": {
    "ExecuteTime": {
     "end_time": "2025-07-21T13:32:32.008782Z",
     "start_time": "2025-07-21T13:32:31.997857Z"
    }
   },
   "source": [
    "expr = define_function(21,p,q)\n",
    "print(expr)"
   ],
   "outputs": [
    {
     "name": "stdout",
     "output_type": "stream",
     "text": [
      "(-(2*p1 + 1)*(2*q1 + 4*q2 + 1) + 21)**2\n"
     ]
    }
   ],
   "execution_count": 7
  },
  {
   "cell_type": "markdown",
   "id": "4e3da051",
   "metadata": {},
   "source": [
    "On peut développer cette expression avec `sp.expand(expr)` .\n",
    "\n",
    "On obtient l'expression suivante    \n",
    "    $\\displaystyle 16 p_{1}^{2} q_{1}^{2} + 64 p_{1}^{2} q_{1} q_{2} + 16 p_{1}^{2} q_{1} + 64 p_{1}^{2} q_{2}^{2} + 32 p_{1}^{2} q_{2} + 4 p_{1}^{2} + 16 p_{1} q_{1}^{2} + 64 p_{1} q_{1} q_{2} - 104 p_{1} q_{1} + 64 p_{1} q_{2}^{2} - 208 p_{1} q_{2} - 56 p_{1} + 4 q_{1}^{2} + 16 q_{1} q_{2} - 56 q_{1} + 16 q_{2}^{2} - 112 q_{2} + 196$\n"
   ]
  },
  {
   "cell_type": "markdown",
   "id": "654fcebe",
   "metadata": {},
   "source": [
    "## Step 1: Réduire les puissances dans l'expression\n",
    "\n",
    "L'expression obtenue avant peut être simplifiée: la puissance de toutes les variables est égale à 1.\n",
    "\n",
    "$p_1^2 = p_1$, car $1 * 1 = 1$ et $0 * 0 = 0$"
   ]
  },
  {
   "cell_type": "code",
   "id": "bb30b8b4",
   "metadata": {
    "ExecuteTime": {
     "end_time": "2025-07-21T13:32:32.131587Z",
     "start_time": "2025-07-21T13:32:32.120611Z"
    }
   },
   "source": [
    "def reduct_variable_power_term(term):\n",
    "    new_term = 1\n",
    "    for variable,power in term.as_powers_dict().items():\n",
    "        new_term *= variable\n",
    "    return new_term\n",
    "\n",
    "def reduct_variable_power_function(expr):\n",
    "    expanded_expr = sp.expand(expr)\n",
    "    expanded_reducted = 0\n",
    "    for term in expanded_expr.args:\n",
    "        new_term = reduct_variable_power_term(term)\n",
    "        expanded_reducted += new_term\n",
    "    return expanded_reducted\n"
   ],
   "outputs": [],
   "execution_count": 8
  },
  {
   "cell_type": "markdown",
   "id": "40f2674b",
   "metadata": {},
   "source": [
    "**exemple (suite):** En utilisant l'expression définie avant on obtient:"
   ]
  },
  {
   "cell_type": "code",
   "id": "7a37aa64",
   "metadata": {
    "ExecuteTime": {
     "end_time": "2025-07-21T13:32:32.196283Z",
     "start_time": "2025-07-21T13:32:32.171912Z"
    }
   },
   "source": [
    "expr_reduct_power = reduct_variable_power_function(expr)\n",
    "print(expr_reduct_power)"
   ],
   "outputs": [
    {
     "name": "stdout",
     "output_type": "stream",
     "text": [
      "128*p1*q1*q2 - 104*p1*q1 - 144*p1*q2 - 76*p1 + 16*q1*q2 - 76*q1 - 144*q2 + 400\n"
     ]
    }
   ],
   "execution_count": 9
  },
  {
   "cell_type": "markdown",
   "id": "8f8c7371",
   "metadata": {},
   "source": [
    "## Step 2: Réduire les termes pour qu'ils ne fassent jamais intervenir plus de deux variables"
   ]
  },
  {
   "cell_type": "markdown",
   "id": "d9d7b202",
   "metadata": {},
   "source": [
    "### Réduction degrée formule"
   ]
  },
  {
   "metadata": {
    "ExecuteTime": {
     "end_time": "2025-07-21T13:32:32.307831Z",
     "start_time": "2025-07-21T13:32:32.300684Z"
    }
   },
   "cell_type": "code",
   "source": [
    "# les varaiables sont sort par la lettre puis un nombre: \"x12\" -> \"x\" 12\n",
    "def sort_key(variable):\n",
    "    name = str(variable)\n",
    "    # Split le nom du variable à deux parties: letter & number \n",
    "    letter = name[0]\n",
    "    number = int(name[1:])\n",
    "    return (letter, number)"
   ],
   "id": "046dc39a",
   "outputs": [],
   "execution_count": 10
  },
  {
   "cell_type": "code",
   "id": "ae33fd5d",
   "metadata": {
    "ExecuteTime": {
     "end_time": "2025-07-21T13:32:32.346975Z",
     "start_time": "2025-07-21T13:32:32.330801Z"
    }
   },
   "source": [
    "# Pour chaque terme compose de >= 3 variables, \n",
    "# Les 3 première variables devrait participer dans la réduction\n",
    "# Les autres variables et le coef construit terme qui est terme resté\n",
    "# Un nouveau terme : mulp (réduction, teme resté)\n",
    "def build_rest_term(coef , rest_variable_liste):\n",
    "    new_term = coef\n",
    "    while(len(rest_variable_liste)!=0):\n",
    "        new_term = new_term * rest_variable_liste[-1]\n",
    "        rest_variable_liste.pop()\n",
    "    return new_term\n",
    "\n",
    "def IsExisted(variables_liste):\n",
    "    for key, value in dictionaire_auxiliary_variable.items():\n",
    "        bl = (value[0] in variables_liste) and (value[1] in variables_liste)\n",
    "        if bl :\n",
    "            return (key,value)\n",
    "    return None\n",
    "\n",
    "# si #variables > 2 : diemension -1\n",
    "def reduct_demension_term(coef,variables_liste):\n",
    "    global res\n",
    "\n",
    "    coef_is_positif = coef > 0\n",
    "\n",
    "    # sélection les 3 premières variables\n",
    "    [x_1, x_2, x_3] = variables_liste[:3]\n",
    "    \n",
    "    # garder le reste des variables\n",
    "    rest_variables_liste= variables_liste[3:]\n",
    "    rest_term = build_rest_term(abs(coef), rest_variables_liste)\n",
    "\n",
    "    # commence la réduction dimension\n",
    "    tup=(x_1,x_2)\n",
    "    #check dict s'il existe déjà une variable auxiliary qui = les deux meme variable\n",
    "    key = next((k for k, v in dictionaire_auxiliary_variable.items() if v == tup), None)\n",
    "\n",
    "    if key==None:#sinon, il faut creer une variable auxiliary\n",
    "        var_name = \"x\" + str(res)\n",
    "        x_4 = create_variables(var_name)\n",
    "        dictionaire_auxiliary_variable[x_4]=(x_1,x_2)\n",
    "        res += 1 \n",
    "    else:\n",
    "        x_4 = key \n",
    "\n",
    "    if coef_is_positif:\n",
    "        reduct_formula = x_4 * x_3 + 2 * (x_1 * x_2 - 2 * x_1 * x_4 - 2 * x_2 * x_4 + 3 * x_4)\n",
    "    else:\n",
    "        reduct_formula = -1 * x_4 * x_3 + 2 * (x_1 * x_2 - 2 * x_1 * x_4 - 2 * x_2 * x_4 + 3 * x_4)\n",
    "    reduct_formula = sp.expand(reduct_formula)\n",
    "\n",
    "    # mulp\n",
    "    expr_reduct = rest_term * reduct_formula\n",
    "    return sp.expand(expr_reduct)"
   ],
   "outputs": [],
   "execution_count": 11
  },
  {
   "cell_type": "markdown",
   "id": "64471154",
   "metadata": {},
   "source": [
    "### Réduction procède"
   ]
  },
  {
   "cell_type": "code",
   "id": "5eafc9fa",
   "metadata": {
    "ExecuteTime": {
     "end_time": "2025-07-21T13:32:32.422375Z",
     "start_time": "2025-07-21T13:32:32.406894Z"
    }
   },
   "source": [
    "def reduct_demension_expression(expr):\n",
    "\n",
    "    new_expr = 0\n",
    "    need_reduction = False\n",
    "\n",
    "    for term in expr.args:\n",
    "        # get coefficant(la constante) et variables(dans une liste)\n",
    "        variables_liste = sorted(term.free_symbols, key=sort_key)\n",
    "        coef = term.as_coeff_mul()[0]\n",
    "\n",
    "        # pour les termes qui ont plus de 2 variables, il faut appliquer la formule de réduction\n",
    "        if len(variables_liste) > 2 :\n",
    "            if len(variables_liste) > 3 :\n",
    "                need_reduction = True\n",
    "            new_term = reduct_demension_term(coef, variables_liste) \n",
    "            new_expr +=  new_term\n",
    "        else:\n",
    "            # sinon, on ne fait rien et les met directement dans la nouvelle expression\n",
    "            new_expr += term\n",
    "\n",
    "    if need_reduction:\n",
    "        return reduct_demension_expression(new_expr)\n",
    "    else:\n",
    "        return new_expr"
   ],
   "outputs": [],
   "execution_count": 12
  },
  {
   "cell_type": "markdown",
   "id": "fae28cc0",
   "metadata": {},
   "source": [
    "**Exemple (suite):** réduisons le nombre de variables utilisées dans chaque terme de l'expression simplifiée précédente:"
   ]
  },
  {
   "metadata": {
    "ExecuteTime": {
     "end_time": "2025-07-21T13:32:32.567083Z",
     "start_time": "2025-07-21T13:32:32.536466Z"
    }
   },
   "cell_type": "code",
   "source": "expr_reduct_power",
   "id": "3d65fc47aefb0a0",
   "outputs": [
    {
     "data": {
      "text/plain": [
       "128*p1*q1*q2 - 104*p1*q1 - 144*p1*q2 - 76*p1 + 16*q1*q2 - 76*q1 - 144*q2 + 400"
      ],
      "text/latex": "$\\displaystyle 128 p_{1} q_{1} q_{2} - 104 p_{1} q_{1} - 144 p_{1} q_{2} - 76 p_{1} + 16 q_{1} q_{2} - 76 q_{1} - 144 q_{2} + 400$"
     },
     "execution_count": 13,
     "metadata": {},
     "output_type": "execute_result"
    }
   ],
   "execution_count": 13
  },
  {
   "cell_type": "code",
   "id": "96f74c95",
   "metadata": {
    "ExecuteTime": {
     "end_time": "2025-07-21T13:32:32.727435Z",
     "start_time": "2025-07-21T13:32:32.700780Z"
    }
   },
   "source": [
    "\n",
    "reduct_demension_expr = reduct_demension_expression(expr_reduct_power)\n",
    "print(reduct_demension_expr)"
   ],
   "outputs": [
    {
     "name": "stdout",
     "output_type": "stream",
     "text": [
      "152*p1*q1 - 144*p1*q2 - 512*p1*x1 - 76*p1 + 16*q1*q2 - 512*q1*x1 - 76*q1 + 128*q2*x1 - 144*q2 + 768*x1 + 400\n"
     ]
    }
   ],
   "execution_count": 14
  },
  {
   "cell_type": "code",
   "id": "97d3911b",
   "metadata": {
    "ExecuteTime": {
     "end_time": "2025-07-21T13:32:32.937241Z",
     "start_time": "2025-07-21T13:32:32.929418Z"
    }
   },
   "source": [
    "dictionaire_auxiliary_variable"
   ],
   "outputs": [
    {
     "data": {
      "text/plain": [
       "{x1: (p1, q1)}"
      ]
     },
     "execution_count": 15,
     "metadata": {},
     "output_type": "execute_result"
    }
   ],
   "execution_count": 15
  },
  {
   "cell_type": "code",
   "id": "b2ae8b80",
   "metadata": {
    "ExecuteTime": {
     "end_time": "2025-07-21T13:32:33.106450Z",
     "start_time": "2025-07-21T13:32:33.094286Z"
    }
   },
   "source": [
    "variables"
   ],
   "outputs": [
    {
     "data": {
      "text/plain": [
       "[p1, q1, q2, x1]"
      ]
     },
     "execution_count": 16,
     "metadata": {},
     "output_type": "execute_result"
    }
   ],
   "execution_count": 16
  },
  {
   "cell_type": "code",
   "id": "bc1db409",
   "metadata": {
    "ExecuteTime": {
     "end_time": "2025-07-21T13:32:33.197477Z",
     "start_time": "2025-07-21T13:32:33.185027Z"
    }
   },
   "source": [
    "# obtient l'expression finale\n",
    "def get_reduct_expression(N,p,q):\n",
    "    expr = define_function(N,p,q)\n",
    "    expr_reduct_power = reduct_variable_power_function(expr)\n",
    "    reduct_demension_expr = reduct_demension_expression(expr_reduct_power)\n",
    "    return reduct_demension_expr"
   ],
   "outputs": [],
   "execution_count": 17
  },
  {
   "cell_type": "code",
   "id": "e6424ec3",
   "metadata": {
    "ExecuteTime": {
     "end_time": "2025-07-21T13:32:33.361692Z",
     "start_time": "2025-07-21T13:32:33.352804Z"
    }
   },
   "source": [
    "# de reduct_demension_expr à reduct_variable_power_function\n",
    "# pour vérifier\n",
    "def detransfer_expr(reduct_demension_expr):\n",
    "    dict_inverse = {valeur: cle for cle, valeur in dictionaire_auxiliary_variable.items()}\n",
    "    new_expr = reduct_demension_expr.subs(dict_inverse)\n",
    "    return sp.expand(new_expr)"
   ],
   "outputs": [],
   "execution_count": 18
  },
  {
   "cell_type": "code",
   "id": "03f637ac",
   "metadata": {
    "ExecuteTime": {
     "end_time": "2025-07-21T13:32:33.432832Z",
     "start_time": "2025-07-21T13:32:33.410576Z"
    }
   },
   "source": [
    "detransfer_expr(reduct_demension_expr)"
   ],
   "outputs": [
    {
     "data": {
      "text/plain": [
       "152*p1*q1 - 144*p1*q2 - 512*p1*x1 - 76*p1 + 16*q1*q2 - 512*q1*x1 - 76*q1 + 128*q2*x1 - 144*q2 + 768*x1 + 400"
      ],
      "text/latex": "$\\displaystyle 152 p_{1} q_{1} - 144 p_{1} q_{2} - 512 p_{1} x_{1} - 76 p_{1} + 16 q_{1} q_{2} - 512 q_{1} x_{1} - 76 q_{1} + 128 q_{2} x_{1} - 144 q_{2} + 768 x_{1} + 400$"
     },
     "execution_count": 19,
     "metadata": {},
     "output_type": "execute_result"
    }
   ],
   "execution_count": 19
  },
  {
   "cell_type": "markdown",
   "id": "20fe5048",
   "metadata": {},
   "source": [
    "# Factorisation d'entiers en le transformant dans le modèle QUBO (ou d'Ising)"
   ]
  },
  {
   "cell_type": "markdown",
   "id": "3a9a759d",
   "metadata": {},
   "source": [
    "Cette expression est un problème d'optimisation binaire quadratique sans contrainte (QUBO) sur 4 variables ($p_1,q_1,q_2,x_1$) qui peut\n",
    "être transformé en un hamiltonien d'Ising équivalent"
   ]
  },
  {
   "cell_type": "markdown",
   "id": "96abd0f9",
   "metadata": {},
   "source": [
    "On fait appel à la librairie [Dimod](https://test-projecttemplate-dimod.readthedocs.io/en/release_notes/introduction.html) qui permet de créer un modèle d'Ising à partir d'une expression mathématique donnée sous la forme symbolique."
   ]
  },
  {
   "cell_type": "markdown",
   "id": "d577b4de",
   "metadata": {},
   "source": [
    "## Step3: Transfer de Qubo à Ising "
   ]
  },
  {
   "cell_type": "markdown",
   "id": "58a38959",
   "metadata": {},
   "source": [
    "De reduct_demension_expr, on remplace les variables du Qubo problème aux variables du Ising problème:\n",
    "\n",
    "$\\displaystyle variable_q \\in \\{0,1\\} = (variable_i +1)/2$ avec $ variable_i \\in \\{-1,1\\} $"
   ]
  },
  {
   "cell_type": "code",
   "id": "2c3e0633",
   "metadata": {
    "ExecuteTime": {
     "end_time": "2025-07-21T13:32:33.510952Z",
     "start_time": "2025-07-21T13:32:33.501740Z"
    }
   },
   "source": [
    "def transfers_qubo2Ising(reduct_demension_expr):\n",
    "    \n",
    "    subs_relations = {(variable, ( variable + 1 ) /2) for variable in variables}\n",
    "    \n",
    "    # Après la substitution, variables dans l'expression sont des variables d'Ising dans {-1,+1}\n",
    "    new_expr = reduct_demension_expr.subs(subs_relations)\n",
    "    new_expr = sp.expand(new_expr)\n",
    "    return new_expr"
   ],
   "outputs": [],
   "execution_count": 20
  },
  {
   "cell_type": "markdown",
   "id": "0241b72e",
   "metadata": {},
   "source": [
    "**Exemple (suite):** On transforme l'expression réduite précédente en une expression pour le modèle d'Ising qui pourra être transformé par la librairie"
   ]
  },
  {
   "cell_type": "code",
   "id": "5769ee20",
   "metadata": {
    "ExecuteTime": {
     "end_time": "2025-07-21T13:32:33.576200Z",
     "start_time": "2025-07-21T13:32:33.538266Z"
    }
   },
   "source": [
    "expr_ising = transfers_qubo2Ising(reduct_demension_expr)\n",
    "print(expr_ising)"
   ],
   "outputs": [
    {
     "name": "stdout",
     "output_type": "stream",
     "text": [
      "38*p1*q1 - 36*p1*q2 - 128*p1*x1 - 164*p1 + 4*q1*q2 - 128*q1*x1 - 124*q1 + 32*q2*x1 - 72*q2 + 160*x1 + 418\n"
     ]
    }
   ],
   "execution_count": 21
  },
  {
   "cell_type": "markdown",
   "id": "da1c296b",
   "metadata": {},
   "source": [
    "#### Calcule de h et J est optionnel. h et J pourrait être utilisé pour d'autres solvers"
   ]
  },
  {
   "cell_type": "markdown",
   "id": "ab587719",
   "metadata": {},
   "source": [
    "De l'expression ising, on peut définir:\n",
    "1. h qui contient (les coeffients des termes qui ont une degrèe de 1)\n",
    "2. J est une matrice de diension 2, $J_{ij}$ est l'interaction entre $spin_i$ et $spin_j$. i et j sont l'indice des variables de la liste $variables$, $J_{ij} =$ coefficient de $(variables[i] * variables[j])$\n",
    "\n"
   ]
  },
  {
   "cell_type": "code",
   "id": "2079ac07",
   "metadata": {
    "ExecuteTime": {
     "end_time": "2025-07-21T13:32:33.630953Z",
     "start_time": "2025-07-21T13:32:33.618640Z"
    }
   },
   "source": [
    "def build_h(expr):\n",
    "    #len de h est le nombre de variables \n",
    "    h=()\n",
    "    for term in expr.args:\n",
    "        if len(term.free_symbols) == 1:\n",
    "            h = h + (term.as_coeff_mul()[0],)\n",
    "    return h\n",
    "\n",
    "\n",
    "def build_J_h(expr):\n",
    "\n",
    "    terms = expr.args \n",
    "\n",
    "    # 1-variable : reconstruire une expression pour calculer le coef des termes\n",
    "    new_expr = 0\n",
    "\n",
    "    matrix_J = np.zeros((len(variables), len(variables)), dtype=int)  # les len-1 premières variables * les len-1 dernière variables\n",
    "\n",
    "    for term in terms:\n",
    "        if len(term.free_symbols) == 2:\n",
    "            # 2-variables : créer la matrice J\n",
    "            list_variable_term = sorted(term.free_symbols, key=sort_key)\n",
    "            coef = term.as_coeff_mul()[0]\n",
    "            i = variables.index(list_variable_term[0])\n",
    "            j = variables.index(list_variable_term[1])\n",
    "            \n",
    "            \n",
    "            matrix_J[i][j] = coef\n",
    "        else:\n",
    "            # 1-variable\n",
    "            new_expr += term\n",
    "\n",
    "    tuple_h = build_h(new_expr)\n",
    "    return tuple_h,matrix_J"
   ],
   "outputs": [],
   "execution_count": 22
  },
  {
   "cell_type": "markdown",
   "id": "93011ea3",
   "metadata": {},
   "source": [
    "**Exemple (suite):** D'une expression d'Ising, on peut construire des matrices, matrice h représent l'interaction entre chaque spin et un champ externe et matrice J représent l'interaction entre tout les deux spins."
   ]
  },
  {
   "cell_type": "code",
   "id": "8589cfa1",
   "metadata": {
    "ExecuteTime": {
     "end_time": "2025-07-21T13:32:33.789209Z",
     "start_time": "2025-07-21T13:32:33.775096Z"
    }
   },
   "source": [
    "(h,J) = build_J_h(expr_ising)\n",
    "print(h)\n",
    "print(J)"
   ],
   "outputs": [
    {
     "name": "stdout",
     "output_type": "stream",
     "text": [
      "(-164, -124, -72, 160)\n",
      "[[   0   38  -36 -128]\n",
      " [   0    0    4 -128]\n",
      " [   0    0    0   32]\n",
      " [   0    0    0    0]]\n"
     ]
    }
   ],
   "execution_count": 23
  },
  {
   "cell_type": "markdown",
   "id": "581f19cd",
   "metadata": {},
   "source": [
    "# Solveur pour Modèle Ising"
   ]
  },
  {
   "cell_type": "markdown",
   "id": "6a87ce8d",
   "metadata": {},
   "source": [
    "## Step4: Constuire linear et quadratique dictionnaire.\n",
    "\n",
    "Ils sont des paramètre nessessaire pour appeler le solveur Dimod\n",
    "1. linear dictionnaire: {key(nom du variable en string) : valeur(coef de cette variavle dans expression d'Ising)}\n",
    "\n",
    "2. quadratique dictionnaire: {key(un truple de nom des deux variables en string) : valeur(coef de ces deux variables dans expression d'Ising)}"
   ]
  },
  {
   "cell_type": "code",
   "id": "ef74242e",
   "metadata": {
    "ExecuteTime": {
     "end_time": "2025-07-21T13:32:34.977239Z",
     "start_time": "2025-07-21T13:32:33.905801Z"
    }
   },
   "source": [
    "import dimod \n",
    "from dwave.preprocessing.composites import SpinReversalTransformComposite"
   ],
   "outputs": [],
   "execution_count": 24
  },
  {
   "cell_type": "code",
   "id": "ad47fd04",
   "metadata": {
    "ExecuteTime": {
     "end_time": "2025-07-21T13:32:35.018875Z",
     "start_time": "2025-07-21T13:32:35.007641Z"
    }
   },
   "source": [
    "# Compose the sampler\n",
    "base_sampler = dimod.ExactSolver()\n",
    "composed_sampler = SpinReversalTransformComposite(base_sampler)\n",
    "base_sampler in composed_sampler.children"
   ],
   "outputs": [
    {
     "data": {
      "text/plain": [
       "True"
      ]
     },
     "execution_count": 25,
     "metadata": {},
     "output_type": "execute_result"
    }
   ],
   "execution_count": 25
  },
  {
   "cell_type": "markdown",
   "id": "bc364651",
   "metadata": {},
   "source": [
    "From h and J build linaer and quadratic dict"
   ]
  },
  {
   "cell_type": "code",
   "id": "d8f7e648",
   "metadata": {
    "ExecuteTime": {
     "end_time": "2025-07-21T13:32:35.145050Z",
     "start_time": "2025-07-21T13:32:35.133940Z"
    }
   },
   "source": [
    "def get_solver_parameter(expr_ising):\n",
    "    linear = {}\n",
    "    quadratic ={}\n",
    "    offset = 0\n",
    "\n",
    "    for term in expr_ising.args:\n",
    "        variables_liste = sorted(term.free_symbols, key=sort_key)\n",
    "        coef = term.as_coeff_mul()[0]\n",
    "        if len(term.free_symbols) ==0:\n",
    "            offset = coef\n",
    "        if len(term.free_symbols) ==1:\n",
    "            linear[variables_liste[0].name] = coef\n",
    "        elif len(term.free_symbols) ==2:\n",
    "            quadratic[(variables_liste[0].name,variables_liste[1].name)] = coef\n",
    "\n",
    "    return (linear,quadratic,offset)"
   ],
   "outputs": [],
   "execution_count": 26
  },
  {
   "cell_type": "markdown",
   "id": "83bb3f32",
   "metadata": {},
   "source": [
    "exemple"
   ]
  },
  {
   "cell_type": "code",
   "id": "4f013e48",
   "metadata": {
    "ExecuteTime": {
     "end_time": "2025-07-21T13:32:35.229239Z",
     "start_time": "2025-07-21T13:32:35.218392Z"
    }
   },
   "source": "get_solver_parameter(expr_ising)",
   "outputs": [
    {
     "data": {
      "text/plain": [
       "({'p1': -164, 'q1': -124, 'q2': -72, 'x1': 160},\n",
       " {('p1', 'x1'): -128,\n",
       "  ('q1', 'x1'): -128,\n",
       "  ('p1', 'q2'): -36,\n",
       "  ('q1', 'q2'): 4,\n",
       "  ('q2', 'x1'): 32,\n",
       "  ('p1', 'q1'): 38},\n",
       " 418)"
      ]
     },
     "execution_count": 27,
     "metadata": {},
     "output_type": "execute_result"
    }
   ],
   "execution_count": 27
  },
  {
   "cell_type": "markdown",
   "id": "b42a06be",
   "metadata": {},
   "source": [
    "## Step5: Compiler pour obtenir modèle et la solution"
   ]
  },
  {
   "cell_type": "code",
   "id": "8f70709c",
   "metadata": {
    "ExecuteTime": {
     "end_time": "2025-07-21T13:32:35.312440Z",
     "start_time": "2025-07-21T13:32:35.304834Z"
    }
   },
   "source": [
    "def get_solution(expr_ising):\n",
    "    (linear,quadratic,offset) = get_solver_parameter(expr_ising)\n",
    "    response = composed_sampler.sample_ising(linear, quadratic)  #response.data() return (solution, energy, num_occurrences)\n",
    "    solution = next(response.data())[0]\n",
    "    return solution"
   ],
   "outputs": [],
   "execution_count": 28
  },
  {
   "cell_type": "code",
   "id": "b498e1a3",
   "metadata": {
    "ExecuteTime": {
     "end_time": "2025-07-21T13:32:35.434618Z",
     "start_time": "2025-07-21T13:32:35.415623Z"
    }
   },
   "source": [
    "solution = get_solution(expr_ising)\n",
    "solution"
   ],
   "outputs": [
    {
     "data": {
      "text/plain": [
       "{'p1': np.int8(1), 'x1': np.int8(1), 'q1': np.int8(1), 'q2': np.int8(1)}"
      ]
     },
     "execution_count": 29,
     "metadata": {},
     "output_type": "execute_result"
    }
   ],
   "execution_count": 29
  },
  {
   "cell_type": "markdown",
   "id": "5665b7c4",
   "metadata": {},
   "source": [
    "La solution est une dictionnaire avec le key: nom de spin/binary en string; la valeur: la valeur de spin/binary qui est -1 ou 1."
   ]
  },
  {
   "cell_type": "markdown",
   "id": "9e863d62",
   "metadata": {},
   "source": [
    "## Steps6: Factorisation\n",
    "### Calculer p et q \n",
    "On les calcule en remplaçant les valeurs dans la solution trouvée par le solver et l'expressions de p et q."
   ]
  },
  {
   "cell_type": "code",
   "id": "ff513ba7",
   "metadata": {
    "ExecuteTime": {
     "end_time": "2025-07-21T13:32:35.601726Z",
     "start_time": "2025-07-21T13:32:35.593467Z"
    }
   },
   "source": [
    "def calcule_p_q(solution,p,q):\n",
    "    dic_varialbe_value = {}\n",
    "    for var in variables:\n",
    "        if(solution[var.name] == np.int8(1)):\n",
    "            dic_varialbe_value[var] = int(1)\n",
    "        else:\n",
    "            dic_varialbe_value[var] = int(0)\n",
    "\n",
    "    p_value = p.subs(dic_varialbe_value)\n",
    "    q_value = q.subs(dic_varialbe_value)\n",
    "    \n",
    "    return (p_value.evalf(),q_value.evalf())"
   ],
   "outputs": [],
   "execution_count": 30
  },
  {
   "cell_type": "code",
   "id": "5bf25903",
   "metadata": {
    "ExecuteTime": {
     "end_time": "2025-07-21T13:32:35.681843Z",
     "start_time": "2025-07-21T13:32:35.665103Z"
    }
   },
   "source": [
    "calcule_p_q(solution,p,q)"
   ],
   "outputs": [
    {
     "data": {
      "text/plain": [
       "(3.00000000000000, 7.00000000000000)"
      ]
     },
     "execution_count": 31,
     "metadata": {},
     "output_type": "execute_result"
    }
   ],
   "execution_count": 31
  },
  {
   "cell_type": "markdown",
   "id": "c9ad4620",
   "metadata": {},
   "source": [
    "### Verifier si N est une puissance pure"
   ]
  },
  {
   "cell_type": "code",
   "id": "d9c4dfa1",
   "metadata": {
    "ExecuteTime": {
     "end_time": "2025-07-21T13:32:35.876681Z",
     "start_time": "2025-07-21T13:32:35.867504Z"
    }
   },
   "source": [
    "def find_pure_power(N):\n",
    "    if N < 4:\n",
    "        return None\n",
    "    low = 2\n",
    "    high = math.ceil(math.log2(N))\n",
    "    while low <= high:\n",
    "        mid = (low + high) // 2\n",
    "        power = mid ** 2\n",
    "        if power == N:\n",
    "            return mid\n",
    "        elif power < N:\n",
    "            low = mid + 1\n",
    "        else:\n",
    "            high = mid - 1\n",
    "    return None"
   ],
   "outputs": [],
   "execution_count": 32
  },
  {
   "cell_type": "markdown",
   "id": "c51d0e26",
   "metadata": {},
   "source": [
    "### Sum up fontion"
   ]
  },
  {
   "cell_type": "code",
   "id": "e35c7c16",
   "metadata": {
    "ExecuteTime": {
     "end_time": "2025-07-21T13:32:36.050111Z",
     "start_time": "2025-07-21T13:32:36.025230Z"
    }
   },
   "source": [
    "def factorization(N,l1,l2):\n",
    "    global variables, variables_Ising, dictionaire_auxiliary_variable, res\n",
    "    variables = []\n",
    "    variables_Ising = []\n",
    "    dictionaire_auxiliary_variable = {}\n",
    "    res = 1\n",
    "\n",
    "    (p,q) = set_variable(l1,l2)### p et q expression\n",
    "    print(f\"{N} = ({p}) * ({q})\")\n",
    "\n",
    "    #power = find_pure_power(N)\n",
    "    #if find_pure_power(N) :\n",
    "    #    (p_int,q_int) = (power,power)\n",
    "    #else:\n",
    "    reduct_demension_expr = get_reduct_expression(N,p,q)\n",
    "    expr_ising = transfers_qubo2Ising(reduct_demension_expr)\n",
    "    print(\"expression de Ising est : \", expr_ising)\n",
    "    print(build_J_h(expr_ising))\n",
    "    solution = get_solution(expr_ising)\n",
    "    print(solution)\n",
    "        \n",
    "    (p_val,q_val) = calcule_p_q(solution,p,q)\n",
    "    (p_int,q_int) = (int(p_val),int(q_val))\n",
    "    print(f\"La factorisation de {N} est {p_int} * {q_int}.\")\n",
    "    print (p_int*q_int == N)"
   ],
   "outputs": [],
   "execution_count": 33
  },
  {
   "cell_type": "markdown",
   "id": "a8a5e307",
   "metadata": {},
   "source": [
    "## Call function"
   ]
  },
  {
   "cell_type": "code",
   "id": "89e50022",
   "metadata": {
    "ExecuteTime": {
     "end_time": "2025-07-21T13:32:36.167346Z",
     "start_time": "2025-07-21T13:32:36.101697Z"
    }
   },
   "source": [
    "N=15\n",
    "l1=2\n",
    "l2=3\n",
    "factorization(N,l1,l2)"
   ],
   "outputs": [
    {
     "name": "stdout",
     "output_type": "stream",
     "text": [
      "15 = (2*p1 + 1) * (2*q1 + 4*q2 + 1)\n",
      "expression de Ising est :  50*p1*q1 - 12*p1*q2 - 128*p1*x1 - 116*p1 + 4*q1*q2 - 128*q1*x1 - 100*q1 + 32*q2*x1 - 24*q2 + 160*x1 + 298\n",
      "((-116, -100, -24, 160), array([[   0,   50,  -12, -128],\n",
      "       [   0,    0,    4, -128],\n",
      "       [   0,    0,    0,   32],\n",
      "       [   0,    0,    0,    0]]))\n",
      "{'p1': np.int8(1), 'x1': np.int8(-1), 'q1': np.int8(-1), 'q2': np.int8(1)}\n",
      "La factorisation de 15 est 3 * 5.\n",
      "True\n"
     ]
    }
   ],
   "execution_count": 34
  },
  {
   "cell_type": "code",
   "id": "201c2eaf",
   "metadata": {
    "ExecuteTime": {
     "end_time": "2025-07-21T13:32:36.265738Z",
     "start_time": "2025-07-21T13:32:36.241955Z"
    }
   },
   "source": [
    "N=21\n",
    "l1=2\n",
    "l2=3\n",
    "factorization(N,l1,l2)"
   ],
   "outputs": [
    {
     "name": "stdout",
     "output_type": "stream",
     "text": [
      "21 = (2*p1 + 1) * (2*q1 + 4*q2 + 1)\n",
      "expression de Ising est :  38*p1*q1 - 36*p1*q2 - 128*p1*x1 - 164*p1 + 4*q1*q2 - 128*q1*x1 - 124*q1 + 32*q2*x1 - 72*q2 + 160*x1 + 418\n",
      "((-164, -124, -72, 160), array([[   0,   38,  -36, -128],\n",
      "       [   0,    0,    4, -128],\n",
      "       [   0,    0,    0,   32],\n",
      "       [   0,    0,    0,    0]]))\n",
      "{'p1': np.int8(1), 'x1': np.int8(1), 'q1': np.int8(1), 'q2': np.int8(1)}\n",
      "La factorisation de 21 est 3 * 7.\n",
      "True\n"
     ]
    }
   ],
   "execution_count": 35
  },
  {
   "cell_type": "code",
   "id": "cdebbd4a",
   "metadata": {
    "ExecuteTime": {
     "end_time": "2025-07-21T13:32:36.478442Z",
     "start_time": "2025-07-21T13:32:36.325752Z"
    }
   },
   "source": [
    "N=33\n",
    "l1=2\n",
    "l2=4\n",
    "factorization(N,l1,l2)"
   ],
   "outputs": [
    {
     "name": "stdout",
     "output_type": "stream",
     "text": [
      "33 = (2*p1 + 1) * (2*q1 + 4*q2 + 8*q3 + 1)\n",
      "expression de Ising est :  142*p1*q1 + 172*p1*q2 - 104*p1*q3 - 384*p1*x1 - 512*p1*x2 - 748*p1 + 4*q1*q2 + 8*q1*q3 - 384*q1*x1 - 292*q1 + 16*q2*q3 + 32*q2*x1 - 512*q2*x2 - 408*q2 + 64*q3*x1 + 128*q3*x2 - 112*q3 + 480*x1 + 640*x2 + 1914\n",
      "((-748, -408, -292, -112, 480, 640), array([[   0,  142,  172, -104, -384, -512],\n",
      "       [   0,    0,    4,    8, -384,    0],\n",
      "       [   0,    0,    0,   16,   32, -512],\n",
      "       [   0,    0,    0,    0,   64,  128],\n",
      "       [   0,    0,    0,    0,    0,    0],\n",
      "       [   0,    0,    0,    0,    0,    0]]))\n",
      "{'p1': np.int8(1), 'x2': np.int8(-1), 'q2': np.int8(-1), 'x1': np.int8(1), 'q1': np.int8(1), 'q3': np.int8(1)}\n",
      "La factorisation de 33 est 3 * 11.\n",
      "True\n"
     ]
    }
   ],
   "execution_count": 36
  },
  {
   "cell_type": "code",
   "id": "3a63b08a",
   "metadata": {
    "ExecuteTime": {
     "end_time": "2025-07-21T13:32:36.829833Z",
     "start_time": "2025-07-21T13:32:36.566161Z"
    }
   },
   "source": [
    "N=35\n",
    "l1=3\n",
    "l2=3\n",
    "factorization(N,l1,l2)"
   ],
   "outputs": [
    {
     "name": "stdout",
     "output_type": "stream",
     "text": [
      "35 = (2*p1 + 4*p2 + 1) * (2*q1 + 4*q2 + 1)\n",
      "expression de Ising est :  516*p1*p2 + 10*p1*q1 + 420*p1*q2 - 1024*p1*x1 - 128*p1*x2 - 1024*p1*x4 - 1296*p1 + 100*p2*q1 + 376*p2*q2 - 1024*p2*x1 - 384*p2*x3 - 1024*p2*x5 - 1568*p2 + 132*q1*q2 + 32*q1*x1 - 128*q1*x2 - 384*q1*x3 - 256*q1*x6 - 560*q1 + 608*q2*x1 + 32*q2*x2 + 96*q2*x3 - 1024*q2*x4 - 1024*q2*x5 - 256*q2*x6 - 768*q2 - 256*x1*x4 - 256*x1*x5 + 64*x1*x6 + 1216*x1 + 160*x2 + 480*x3 + 768*x4 + 768*x5 + 320*x6 + 6482\n",
      "((-1568, -1296, -768, -560, 160, 320, 480, 768, 768, 1216), array([[    0,   516,    10,   420, -1024,  -128,     0, -1024,     0,\n",
      "            0],\n",
      "       [    0,     0,   100,   376, -1024,     0,  -384,     0, -1024,\n",
      "            0],\n",
      "       [    0,     0,     0,   132,    32,  -128,  -384,     0,     0,\n",
      "         -256],\n",
      "       [    0,     0,     0,     0,   608,    32,    96, -1024, -1024,\n",
      "         -256],\n",
      "       [    0,     0,     0,     0,     0,     0,     0,  -256,  -256,\n",
      "           64],\n",
      "       [    0,     0,     0,     0,     0,     0,     0,     0,     0,\n",
      "            0],\n",
      "       [    0,     0,     0,     0,     0,     0,     0,     0,     0,\n",
      "            0],\n",
      "       [    0,     0,     0,     0,     0,     0,     0,     0,     0,\n",
      "            0],\n",
      "       [    0,     0,     0,     0,     0,     0,     0,     0,     0,\n",
      "            0],\n",
      "       [    0,     0,     0,     0,     0,     0,     0,     0,     0,\n",
      "            0]]))\n",
      "{'p1': np.int8(1), 'x1': np.int8(1), 'x4': np.int8(1), 'p2': np.int8(1), 'x5': np.int8(1), 'q2': np.int8(1), 'x3': np.int8(-1), 'q1': np.int8(-1), 'x6': np.int8(-1), 'x2': np.int8(-1)}\n",
      "La factorisation de 35 est 7 * 5.\n",
      "True\n"
     ]
    }
   ],
   "execution_count": 37
  },
  {
   "cell_type": "code",
   "id": "0f174bf4",
   "metadata": {
    "ExecuteTime": {
     "end_time": "2025-07-21T13:32:37.052066Z",
     "start_time": "2025-07-21T13:32:36.846140Z"
    }
   },
   "source": [
    "N=39\n",
    "l1=2\n",
    "l2=4\n",
    "factorization(N,l1,l2)"
   ],
   "outputs": [
    {
     "name": "stdout",
     "output_type": "stream",
     "text": [
      "39 = (2*p1 + 1) * (2*q1 + 4*q2 + 8*q3 + 1)\n",
      "expression de Ising est :  130*p1*q1 + 148*p1*q2 - 152*p1*q3 - 384*p1*x1 - 512*p1*x2 - 844*p1 + 4*q1*q2 + 8*q1*q3 - 384*q1*x1 - 316*q1 + 16*q2*q3 + 32*q2*x1 - 512*q2*x2 - 456*q2 + 64*q3*x1 + 128*q3*x2 - 208*q3 + 480*x1 + 640*x2 + 2154\n",
      "((-844, -456, -316, -208, 480, 640), array([[   0,  130,  148, -152, -384, -512],\n",
      "       [   0,    0,    4,    8, -384,    0],\n",
      "       [   0,    0,    0,   16,   32, -512],\n",
      "       [   0,    0,    0,    0,   64,  128],\n",
      "       [   0,    0,    0,    0,    0,    0],\n",
      "       [   0,    0,    0,    0,    0,    0]]))\n",
      "{'p1': np.int8(1), 'x2': np.int8(1), 'q2': np.int8(1), 'x1': np.int8(-1), 'q1': np.int8(-1), 'q3': np.int8(1)}\n",
      "La factorisation de 39 est 3 * 13.\n",
      "True\n"
     ]
    }
   ],
   "execution_count": 38
  },
  {
   "cell_type": "code",
   "id": "087fb663",
   "metadata": {
    "ExecuteTime": {
     "end_time": "2025-07-21T13:32:37.567037Z",
     "start_time": "2025-07-21T13:32:37.082998Z"
    }
   },
   "source": [
    "N=55\n",
    "l1=3\n",
    "l2=4\n",
    "factorization(N,l1,l2)"
   ],
   "outputs": [
    {
     "name": "stdout",
     "output_type": "stream",
     "text": [
      "55 = (2*p1 + 4*p2 + 1) * (2*q1 + 4*q2 + 8*q3 + 1)\n",
      "expression de Ising est :  2692*p1*p2 + 98*p1*q1 + 596*p1*q2 + 2792*p1*q3 - 5376*p1*x1 - 384*p1*x2 - 1536*p1*x4 - 6144*p1*x6 - 7368*p1 + 404*p2*q1 + 984*p2*q2 + 2672*p2*q3 - 5376*p2*x1 - 1152*p2*x3 - 2560*p2*x5 - 6144*p2*x7 - 8688*p2 + 132*q1*q2 + 264*q1*q3 + 32*q1*x1 - 384*q1*x2 - 1152*q1*x3 - 256*q1*x8 - 512*q1*x9 - 1480*q1 + 528*q2*q3 + 608*q2*x1 - 1024*q2*x10 + 32*q2*x2 + 96*q2*x3 - 1536*q2*x4 - 2560*q2*x5 - 256*q2*x8 - 2608*q2 + 3392*q3*x1 - 1024*q3*x10 + 64*q3*x2 + 192*q3*x3 + 128*q3*x4 + 384*q3*x5 - 6144*q3*x6 - 6144*q3*x7 - 512*q3*x9 - 3808*q3 + 256*x1*x10 - 256*x1*x4 - 256*x1*x5 - 1536*x1*x6 - 1536*x1*x7 + 64*x1*x8 + 128*x1*x9 + 6272*x1 + 1280*x10 + 480*x2 + 1440*x3 + 1408*x4 + 2688*x5 + 4608*x6 + 4608*x7 + 320*x8 + 640*x9 + 39930\n",
      "((-8688, -7368, -3808, -2608, -1480, 320, 480, 640, 1280, 1408, 1440, 2688, 4608, 4608, 6272), array([[    0,  2692,    98,   596,  2792, -5376,  -384,     0, -1536,\n",
      "            0, -6144,     0,     0,     0,     0],\n",
      "       [    0,     0,   404,   984,  2672, -5376,     0, -1152,     0,\n",
      "        -2560,     0, -6144,     0,     0,     0],\n",
      "       [    0,     0,     0,   132,   264,    32,  -384, -1152,     0,\n",
      "            0,     0,     0,  -256,  -512,     0],\n",
      "       [    0,     0,     0,     0,   528,   608,    32,    96, -1536,\n",
      "        -2560,     0,     0,  -256,     0, -1024],\n",
      "       [    0,     0,     0,     0,     0,  3392,    64,   192,   128,\n",
      "          384, -6144, -6144,     0,  -512, -1024],\n",
      "       [    0,     0,     0,     0,     0,     0,     0,     0,  -256,\n",
      "         -256, -1536, -1536,    64,   128,   256],\n",
      "       [    0,     0,     0,     0,     0,     0,     0,     0,     0,\n",
      "            0,     0,     0,     0,     0,     0],\n",
      "       [    0,     0,     0,     0,     0,     0,     0,     0,     0,\n",
      "            0,     0,     0,     0,     0,     0],\n",
      "       [    0,     0,     0,     0,     0,     0,     0,     0,     0,\n",
      "            0,     0,     0,     0,     0,     0],\n",
      "       [    0,     0,     0,     0,     0,     0,     0,     0,     0,\n",
      "            0,     0,     0,     0,     0,     0],\n",
      "       [    0,     0,     0,     0,     0,     0,     0,     0,     0,\n",
      "            0,     0,     0,     0,     0,     0],\n",
      "       [    0,     0,     0,     0,     0,     0,     0,     0,     0,\n",
      "            0,     0,     0,     0,     0,     0],\n",
      "       [    0,     0,     0,     0,     0,     0,     0,     0,     0,\n",
      "            0,     0,     0,     0,     0,     0],\n",
      "       [    0,     0,     0,     0,     0,     0,     0,     0,     0,\n",
      "            0,     0,     0,     0,     0,     0],\n",
      "       [    0,     0,     0,     0,     0,     0,     0,     0,     0,\n",
      "            0,     0,     0,     0,     0,     0]]))\n",
      "{'p1': np.int8(-1), 'x6': np.int8(-1), 'p2': np.int8(1), 'x7': np.int8(1), 'q3': np.int8(1), 'x1': np.int8(-1), 'x5': np.int8(-1), 'q2': np.int8(-1), 'x4': np.int8(-1), 'x3': np.int8(1), 'q1': np.int8(1), 'x10': np.int8(-1), 'x9': np.int8(1), 'x2': np.int8(-1), 'x8': np.int8(-1)}\n",
      "La factorisation de 55 est 5 * 11.\n",
      "True\n"
     ]
    }
   ],
   "execution_count": 39
  },
  {
   "cell_type": "code",
   "id": "96624454",
   "metadata": {
    "ExecuteTime": {
     "end_time": "2025-07-21T13:32:37.997125Z",
     "start_time": "2025-07-21T13:32:37.591015Z"
    }
   },
   "source": [
    "N=65\n",
    "l1=3\n",
    "l2=4\n",
    "factorization(N,l1,l2)"
   ],
   "outputs": [
    {
     "name": "stdout",
     "output_type": "stream",
     "text": [
      "65 = (2*p1 + 4*p2 + 1) * (2*q1 + 4*q2 + 8*q3 + 1)\n",
      "expression de Ising est :  2692*p1*p2 + 78*p1*q1 + 556*p1*q2 + 2712*p1*q3 - 5376*p1*x1 - 384*p1*x2 - 1536*p1*x4 - 6144*p1*x6 - 7528*p1 + 364*p2*q1 + 904*p2*q2 + 2512*p2*q3 - 5376*p2*x1 - 1152*p2*x3 - 2560*p2*x5 - 6144*p2*x7 - 9008*p2 + 132*q1*q2 + 264*q1*q3 + 32*q1*x1 - 384*q1*x2 - 1152*q1*x3 - 256*q1*x8 - 512*q1*x9 - 1560*q1 + 528*q2*q3 + 608*q2*x1 - 1024*q2*x10 + 32*q2*x2 + 96*q2*x3 - 1536*q2*x4 - 2560*q2*x5 - 256*q2*x8 - 2768*q2 + 3392*q3*x1 - 1024*q3*x10 + 64*q3*x2 + 192*q3*x3 + 128*q3*x4 + 384*q3*x5 - 6144*q3*x6 - 6144*q3*x7 - 512*q3*x9 - 4128*q3 + 256*x1*x10 - 256*x1*x4 - 256*x1*x5 - 1536*x1*x6 - 1536*x1*x7 + 64*x1*x8 + 128*x1*x9 + 6272*x1 + 1280*x10 + 480*x2 + 1440*x3 + 1408*x4 + 2688*x5 + 4608*x6 + 4608*x7 + 320*x8 + 640*x9 + 40490\n",
      "((-9008, -7528, -4128, -2768, -1560, 320, 480, 640, 1280, 1408, 1440, 2688, 4608, 4608, 6272), array([[    0,  2692,    78,   556,  2712, -5376,  -384,     0, -1536,\n",
      "            0, -6144,     0,     0,     0,     0],\n",
      "       [    0,     0,   364,   904,  2512, -5376,     0, -1152,     0,\n",
      "        -2560,     0, -6144,     0,     0,     0],\n",
      "       [    0,     0,     0,   132,   264,    32,  -384, -1152,     0,\n",
      "            0,     0,     0,  -256,  -512,     0],\n",
      "       [    0,     0,     0,     0,   528,   608,    32,    96, -1536,\n",
      "        -2560,     0,     0,  -256,     0, -1024],\n",
      "       [    0,     0,     0,     0,     0,  3392,    64,   192,   128,\n",
      "          384, -6144, -6144,     0,  -512, -1024],\n",
      "       [    0,     0,     0,     0,     0,     0,     0,     0,  -256,\n",
      "         -256, -1536, -1536,    64,   128,   256],\n",
      "       [    0,     0,     0,     0,     0,     0,     0,     0,     0,\n",
      "            0,     0,     0,     0,     0,     0],\n",
      "       [    0,     0,     0,     0,     0,     0,     0,     0,     0,\n",
      "            0,     0,     0,     0,     0,     0],\n",
      "       [    0,     0,     0,     0,     0,     0,     0,     0,     0,\n",
      "            0,     0,     0,     0,     0,     0],\n",
      "       [    0,     0,     0,     0,     0,     0,     0,     0,     0,\n",
      "            0,     0,     0,     0,     0,     0],\n",
      "       [    0,     0,     0,     0,     0,     0,     0,     0,     0,\n",
      "            0,     0,     0,     0,     0,     0],\n",
      "       [    0,     0,     0,     0,     0,     0,     0,     0,     0,\n",
      "            0,     0,     0,     0,     0,     0],\n",
      "       [    0,     0,     0,     0,     0,     0,     0,     0,     0,\n",
      "            0,     0,     0,     0,     0,     0],\n",
      "       [    0,     0,     0,     0,     0,     0,     0,     0,     0,\n",
      "            0,     0,     0,     0,     0,     0],\n",
      "       [    0,     0,     0,     0,     0,     0,     0,     0,     0,\n",
      "            0,     0,     0,     0,     0,     0]]))\n",
      "{'p1': np.int8(-1), 'x6': np.int8(-1), 'p2': np.int8(1), 'x7': np.int8(1), 'q3': np.int8(1), 'x1': np.int8(-1), 'x5': np.int8(1), 'q2': np.int8(1), 'x4': np.int8(-1), 'x3': np.int8(-1), 'q1': np.int8(-1), 'x10': np.int8(1), 'x9': np.int8(-1), 'x2': np.int8(-1), 'x8': np.int8(-1)}\n",
      "La factorisation de 65 est 5 * 13.\n",
      "True\n"
     ]
    }
   ],
   "execution_count": 40
  },
  {
   "cell_type": "code",
   "id": "e4679576",
   "metadata": {
    "ExecuteTime": {
     "end_time": "2025-07-21T13:33:30.498017Z",
     "start_time": "2025-07-21T13:33:24.290183Z"
    }
   },
   "source": [
    "N=143\n",
    "l1=4\n",
    "l2=4\n",
    "factorization(N,l1,l2)"
   ],
   "outputs": [
    {
     "name": "stdout",
     "output_type": "stream",
     "text": [
      "143 = (2*p1 + 4*p2 + 8*p3 + 1) * (2*q1 + 4*q2 + 8*q3 + 1)\n",
      "expression de Ising est :  2692*p1*p2 + 5384*p1*p3 - 78*p1*q1 + 1268*p1*q2 + 8232*p1*q3 - 5376*p1*x1 - 18432*p1*x12 - 384*p1*x2 - 10752*p1*x3 - 3584*p1*x5 - 21312*p1 + 10768*p2*p3 + 52*p2*q1 + 2328*p2*q2 + 13552*p2*q3 - 5376*p2*x1 - 30720*p2*x10 - 1152*p2*x4 - 21504*p2*x6 - 6656*p2*x8 - 36576*p2 + 936*p3*q1 + 3824*p3*q2 + 15456*p3*q3 - 36864*p3*x11 - 10752*p3*x3 - 21504*p3*x6 - 3840*p3*x7 - 11264*p3*x9 - 48960*p3 + 900*q1*q2 + 1800*q1*q3 + 32*q1*x1 - 1792*q1*x13 - 3584*q1*x14 - 384*q1*x2 + 64*q1*x3 - 1152*q1*x4 + 128*q1*x6 - 3840*q1*x7 - 7200*q1 + 3600*q2*q3 + 608*q2*x1 - 1792*q2*x13 - 7168*q2*x15 + 32*q2*x2 + 1216*q2*x3 + 96*q2*x4 - 3584*q2*x5 + 2432*q2*x6 + 320*q2*x7 - 6656*q2*x8 - 11264*q2*x9 - 14400*q2 + 3392*q3*x1 - 30720*q3*x10 - 36864*q3*x11 - 18432*q3*x12 - 3584*q3*x14 - 7168*q3*x15 + 64*q3*x2 + 6784*q3*x3 + 192*q3*x4 + 128*q3*x5 + 13568*q3*x6 + 640*q3*x7 + 384*q3*x8 + 1280*q3*x9 - 28800*q3 - 1536*x1*x10 - 1536*x1*x12 + 64*x1*x13 + 128*x1*x14 + 256*x1*x15 - 256*x1*x5 - 256*x1*x8 + 6272*x1 - 6144*x10*x6 + 23040*x10 - 3072*x11*x3 - 6144*x11*x6 + 27648*x11 - 3072*x12*x3 + 13824*x12 + 128*x13*x3 + 256*x13*x6 + 2240*x13 + 256*x14*x3 + 512*x14*x6 + 4480*x14 + 512*x15*x3 + 1024*x15*x6 + 8960*x15 + 480*x2 - 512*x3*x5 - 512*x3*x9 + 12544*x3 + 1440*x4 + 2944*x5 - 1024*x6*x8 - 1024*x6*x9 + 25088*x6 + 4800*x7 + 5760*x8 + 11008*x9 + 259466\n",
      "((-48960, -36576, -28800, -21312, -14400, -7200, 480, 1440, 2240, 2944, 4480, 4800, 5760, 6272, 8960, 11008, 12544, 13824, 23040, 25088, 27648), array([[     0,   2692,   5384,    -78,   1268,   8232,  -5376,   -384,\n",
      "        -10752,      0,  -3584,      0,      0,      0,      0,      0,\n",
      "             0, -18432,      0,      0,      0],\n",
      "       [     0,      0,  10768,     52,   2328,  13552,  -5376,      0,\n",
      "             0,  -1152,      0, -21504,      0,  -6656,      0, -30720,\n",
      "             0,      0,      0,      0,      0],\n",
      "       [     0,      0,      0,    936,   3824,  15456,      0,      0,\n",
      "        -10752,      0,      0, -21504,  -3840,      0, -11264,      0,\n",
      "        -36864,      0,      0,      0,      0],\n",
      "       [     0,      0,      0,      0,    900,   1800,     32,   -384,\n",
      "            64,  -1152,      0,    128,  -3840,      0,      0,      0,\n",
      "             0,      0,  -1792,  -3584,      0],\n",
      "       [     0,      0,      0,      0,      0,   3600,    608,     32,\n",
      "          1216,     96,  -3584,   2432,    320,  -6656, -11264,      0,\n",
      "             0,      0,  -1792,      0,  -7168],\n",
      "       [     0,      0,      0,      0,      0,      0,   3392,     64,\n",
      "          6784,    192,    128,  13568,    640,    384,   1280, -30720,\n",
      "        -36864, -18432,      0,  -3584,  -7168],\n",
      "       [     0,      0,      0,      0,      0,      0,      0,      0,\n",
      "             0,      0,   -256,      0,      0,   -256,      0,  -1536,\n",
      "             0,  -1536,     64,    128,    256],\n",
      "       [     0,      0,      0,      0,      0,      0,      0,      0,\n",
      "             0,      0,      0,      0,      0,      0,      0,      0,\n",
      "             0,      0,      0,      0,      0],\n",
      "       [     0,      0,      0,      0,      0,      0,      0,      0,\n",
      "             0,      0,   -512,      0,      0,      0,   -512,      0,\n",
      "         -3072,  -3072,    128,    256,    512],\n",
      "       [     0,      0,      0,      0,      0,      0,      0,      0,\n",
      "             0,      0,      0,      0,      0,      0,      0,      0,\n",
      "             0,      0,      0,      0,      0],\n",
      "       [     0,      0,      0,      0,      0,      0,      0,      0,\n",
      "             0,      0,      0,      0,      0,      0,      0,      0,\n",
      "             0,      0,      0,      0,      0],\n",
      "       [     0,      0,      0,      0,      0,      0,      0,      0,\n",
      "             0,      0,      0,      0,      0,  -1024,  -1024,  -6144,\n",
      "         -6144,      0,    256,    512,   1024],\n",
      "       [     0,      0,      0,      0,      0,      0,      0,      0,\n",
      "             0,      0,      0,      0,      0,      0,      0,      0,\n",
      "             0,      0,      0,      0,      0],\n",
      "       [     0,      0,      0,      0,      0,      0,      0,      0,\n",
      "             0,      0,      0,      0,      0,      0,      0,      0,\n",
      "             0,      0,      0,      0,      0],\n",
      "       [     0,      0,      0,      0,      0,      0,      0,      0,\n",
      "             0,      0,      0,      0,      0,      0,      0,      0,\n",
      "             0,      0,      0,      0,      0],\n",
      "       [     0,      0,      0,      0,      0,      0,      0,      0,\n",
      "             0,      0,      0,      0,      0,      0,      0,      0,\n",
      "             0,      0,      0,      0,      0],\n",
      "       [     0,      0,      0,      0,      0,      0,      0,      0,\n",
      "             0,      0,      0,      0,      0,      0,      0,      0,\n",
      "             0,      0,      0,      0,      0],\n",
      "       [     0,      0,      0,      0,      0,      0,      0,      0,\n",
      "             0,      0,      0,      0,      0,      0,      0,      0,\n",
      "             0,      0,      0,      0,      0],\n",
      "       [     0,      0,      0,      0,      0,      0,      0,      0,\n",
      "             0,      0,      0,      0,      0,      0,      0,      0,\n",
      "             0,      0,      0,      0,      0],\n",
      "       [     0,      0,      0,      0,      0,      0,      0,      0,\n",
      "             0,      0,      0,      0,      0,      0,      0,      0,\n",
      "             0,      0,      0,      0,      0],\n",
      "       [     0,      0,      0,      0,      0,      0,      0,      0,\n",
      "             0,      0,      0,      0,      0,      0,      0,      0,\n",
      "             0,      0,      0,      0,      0]]))\n",
      "{'p3': np.int8(1), 'x11': np.int8(1), 'q3': np.int8(1), 'p2': np.int8(1), 'x10': np.int8(1), 'x6': np.int8(1), 'p1': np.int8(-1), 'x12': np.int8(-1), 'x9': np.int8(-1), 'q2': np.int8(-1), 'x3': np.int8(-1), 'x15': np.int8(-1), 'x8': np.int8(-1), 'x1': np.int8(-1), 'x7': np.int8(1), 'q1': np.int8(1), 'x5': np.int8(-1), 'x14': np.int8(1), 'x13': np.int8(-1), 'x4': np.int8(1), 'x2': np.int8(-1)}\n",
      "La factorisation de 143 est 13 * 11.\n",
      "True\n"
     ]
    }
   ],
   "execution_count": 44
  },
  {
   "cell_type": "code",
   "id": "64b88891",
   "metadata": {
    "ExecuteTime": {
     "end_time": "2025-07-21T13:32:38.093011Z",
     "start_time": "2025-07-21T13:32:38.089102Z"
    }
   },
   "source": [],
   "outputs": [],
   "execution_count": null
  },
  {
   "cell_type": "code",
   "id": "1ae2c524",
   "metadata": {
    "ExecuteTime": {
     "end_time": "2025-07-21T13:32:38.144916Z",
     "start_time": "2025-07-21T13:32:38.141660Z"
    }
   },
   "source": [],
   "outputs": [],
   "execution_count": null
  },
  {
   "cell_type": "code",
   "id": "7e86f90c",
   "metadata": {
    "ExecuteTime": {
     "end_time": "2025-07-21T13:32:38.249508Z",
     "start_time": "2025-07-21T13:32:38.246530Z"
    }
   },
   "source": [],
   "outputs": [],
   "execution_count": null
  },
  {
   "cell_type": "code",
   "id": "26d4ec60",
   "metadata": {
    "ExecuteTime": {
     "end_time": "2025-07-21T13:32:38.380879Z",
     "start_time": "2025-07-21T13:32:38.376800Z"
    }
   },
   "source": [],
   "outputs": [],
   "execution_count": null
  },
  {
   "cell_type": "code",
   "id": "31663402",
   "metadata": {
    "ExecuteTime": {
     "end_time": "2025-07-21T13:32:38.528642Z",
     "start_time": "2025-07-21T13:32:38.523523Z"
    }
   },
   "source": [],
   "outputs": [],
   "execution_count": null
  },
  {
   "cell_type": "code",
   "id": "420ef95f",
   "metadata": {
    "ExecuteTime": {
     "end_time": "2025-07-21T13:32:38.643309Z",
     "start_time": "2025-07-21T13:32:38.639814Z"
    }
   },
   "source": [],
   "outputs": [],
   "execution_count": null
  },
  {
   "cell_type": "code",
   "id": "5eea7b43",
   "metadata": {
    "ExecuteTime": {
     "end_time": "2025-07-21T13:32:38.742960Z",
     "start_time": "2025-07-21T13:32:38.736619Z"
    }
   },
   "source": [],
   "outputs": [],
   "execution_count": null
  },
  {
   "cell_type": "markdown",
   "id": "a3a12e7e",
   "metadata": {},
   "source": [
    "# RunTime"
   ]
  },
  {
   "cell_type": "code",
   "id": "5f9bc5b9",
   "metadata": {
    "ExecuteTime": {
     "end_time": "2025-07-21T13:32:41.148395Z",
     "start_time": "2025-07-21T13:32:38.823244Z"
    }
   },
   "source": [
    "import time\n",
    "import matplotlib.pyplot as plt\n",
    "import numpy as np\n",
    "\n",
    "# timer\n",
    "def measure_time(func, *args, **kwargs):\n",
    "    start = time.time()\n",
    "    result = func(*args, **kwargs)\n",
    "    end = time.time()\n",
    "    return result, end - start\n",
    "\n",
    "# test fonction\n",
    "def test_runtime(parameters):\n",
    "    logN_values = []\n",
    "    times = []\n",
    "    \n",
    "    for N, l1, l2 in parameters:\n",
    "        # reset variables global\n",
    "        global variables, variables_Ising, dictionaire_auxiliary_variable, res\n",
    "        variables = []\n",
    "        variables_Ising = []\n",
    "        dictionaire_auxiliary_variable = {}\n",
    "        res = 1\n",
    "        \n",
    "        # mesure time\n",
    "        _, elapsed_time = measure_time(factorization, N, l1, l2)\n",
    "        logN_values.append(np.log2(N))\n",
    "        times.append(elapsed_time)\n",
    "        print(f\"N={N}, l1={l1}, l2={l2}: Time = {elapsed_time:.4f} sec\")\n",
    "    \n",
    "    return logN_values, times\n",
    "\n",
    "\n",
    "parameters = [(15,2,3), (21,2,3), (35,3,3), ]\n",
    "#  (65,3,4),(143,4,4),(403,4,5),(899,5,50)\n",
    "logN_values, times = test_runtime(parameters)\n",
    "\n",
    "plt.figure(figsize=(10, 6))\n",
    "plt.plot(logN_values, times, 'o-', label='Execution Time')\n",
    "plt.xlabel('log₂(N)')\n",
    "plt.ylabel('Time (seconds)')\n",
    "plt.title('Factorization Runtime vs log₂(N)')\n",
    "plt.grid(True)\n",
    "plt.legend()\n",
    "\n",
    "for i, (N, l1, l2) in enumerate(parameters):\n",
    "    plt.annotate(f'log2N={math.ceil(math.log2(N))}\\nl1={l1}, l2={l2}', \n",
    "                 (logN_values[i], times[i]),\n",
    "                 textcoords=\"offset points\",\n",
    "                 xytext=(10,-15),\n",
    "                 ha='center')\n",
    "\n",
    "plt.tight_layout()\n",
    "plt.show()"
   ],
   "outputs": [
    {
     "name": "stdout",
     "output_type": "stream",
     "text": [
      "15 = (2*p1 + 1) * (2*q1 + 4*q2 + 1)\n",
      "expression de Ising est :  50*p1*q1 - 12*p1*q2 - 128*p1*x1 - 116*p1 + 4*q1*q2 - 128*q1*x1 - 100*q1 + 32*q2*x1 - 24*q2 + 160*x1 + 298\n",
      "((-116, -100, -24, 160), array([[   0,   50,  -12, -128],\n",
      "       [   0,    0,    4, -128],\n",
      "       [   0,    0,    0,   32],\n",
      "       [   0,    0,    0,    0]]))\n",
      "{'p1': np.int8(1), 'x1': np.int8(-1), 'q1': np.int8(-1), 'q2': np.int8(1)}\n",
      "La factorisation de 15 est 3 * 5.\n",
      "True\n",
      "N=15, l1=2, l2=3: Time = 0.0129 sec\n",
      "21 = (2*p1 + 1) * (2*q1 + 4*q2 + 1)\n",
      "expression de Ising est :  38*p1*q1 - 36*p1*q2 - 128*p1*x1 - 164*p1 + 4*q1*q2 - 128*q1*x1 - 124*q1 + 32*q2*x1 - 72*q2 + 160*x1 + 418\n",
      "((-164, -124, -72, 160), array([[   0,   38,  -36, -128],\n",
      "       [   0,    0,    4, -128],\n",
      "       [   0,    0,    0,   32],\n",
      "       [   0,    0,    0,    0]]))\n",
      "{'p1': np.int8(1), 'x1': np.int8(1), 'q1': np.int8(1), 'q2': np.int8(1)}\n",
      "La factorisation de 21 est 3 * 7.\n",
      "True\n",
      "N=21, l1=2, l2=3: Time = 0.0115 sec\n",
      "35 = (2*p1 + 4*p2 + 1) * (2*q1 + 4*q2 + 1)\n",
      "expression de Ising est :  516*p1*p2 + 10*p1*q1 + 420*p1*q2 - 1024*p1*x1 - 128*p1*x2 - 1024*p1*x4 - 1296*p1 + 100*p2*q1 + 376*p2*q2 - 1024*p2*x1 - 384*p2*x3 - 1024*p2*x5 - 1568*p2 + 132*q1*q2 + 32*q1*x1 - 128*q1*x2 - 384*q1*x3 - 256*q1*x6 - 560*q1 + 608*q2*x1 + 32*q2*x2 + 96*q2*x3 - 1024*q2*x4 - 1024*q2*x5 - 256*q2*x6 - 768*q2 - 256*x1*x4 - 256*x1*x5 + 64*x1*x6 + 1216*x1 + 160*x2 + 480*x3 + 768*x4 + 768*x5 + 320*x6 + 6482\n",
      "((-1568, -1296, -768, -560, 160, 320, 480, 768, 768, 1216), array([[    0,   516,    10,   420, -1024,  -128,     0, -1024,     0,\n",
      "            0],\n",
      "       [    0,     0,   100,   376, -1024,     0,  -384,     0, -1024,\n",
      "            0],\n",
      "       [    0,     0,     0,   132,    32,  -128,  -384,     0,     0,\n",
      "         -256],\n",
      "       [    0,     0,     0,     0,   608,    32,    96, -1024, -1024,\n",
      "         -256],\n",
      "       [    0,     0,     0,     0,     0,     0,     0,  -256,  -256,\n",
      "           64],\n",
      "       [    0,     0,     0,     0,     0,     0,     0,     0,     0,\n",
      "            0],\n",
      "       [    0,     0,     0,     0,     0,     0,     0,     0,     0,\n",
      "            0],\n",
      "       [    0,     0,     0,     0,     0,     0,     0,     0,     0,\n",
      "            0],\n",
      "       [    0,     0,     0,     0,     0,     0,     0,     0,     0,\n",
      "            0],\n",
      "       [    0,     0,     0,     0,     0,     0,     0,     0,     0,\n",
      "            0]]))\n",
      "{'p1': np.int8(-1), 'x1': np.int8(-1), 'x4': np.int8(-1), 'p2': np.int8(1), 'x5': np.int8(1), 'q2': np.int8(1), 'x3': np.int8(1), 'q1': np.int8(1), 'x6': np.int8(1), 'x2': np.int8(-1)}\n",
      "La factorisation de 35 est 5 * 7.\n",
      "True\n",
      "N=35, l1=3, l2=3: Time = 0.0833 sec\n"
     ]
    },
    {
     "data": {
      "text/plain": [
       "<Figure size 1000x600 with 1 Axes>"
      ],
      "image/png": "[encoded data removed]"
     },
     "metadata": {},
     "output_type": "display_data"
    }
   ],
   "execution_count": 42
  }
 ],
 "metadata": {
  "kernelspec": {
   "display_name": "Python 3",
   "language": "python",
   "name": "python3"
  },
  "language_info": {
   "codemirror_mode": {
    "name": "ipython",
    "version": 3
   },
   "file_extension": ".py",
   "mimetype": "text/x-python",
   "name": "python",
   "nbconvert_exporter": "python",
   "pygments_lexer": "ipython3",
   "version": "3.13.2"
  }
 },
 "nbformat": 4,
 "nbformat_minor": 5
}
