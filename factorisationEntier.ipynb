{
 "cells": [
  {
   "cell_type": "markdown",
   "id": "7ce0853f",
   "metadata": {},
   "source": [
    "# Factorisation d'entiers en le transformant dans le modèle QUBO (ou d'Ising)"
   ]
  },
  {
   "cell_type": "markdown",
   "id": "62443ef9",
   "metadata": {},
   "source": [
    "Présentation générale de l'idée en quelques lignes"
   ]
  },
  {
   "cell_type": "code",
   "id": "fc697531-87c3-4b1c-9b3b-2a27a85c7515",
   "metadata": {
    "ExecuteTime": {
     "end_time": "2025-07-24T08:26:20.405689Z",
     "start_time": "2025-07-24T08:26:17.753730Z"
    }
   },
   "source": [
    "import sympy as sp\n",
    "import numpy as np\n",
    "import math\n",
    "from pprint import *"
   ],
   "outputs": [],
   "execution_count": 1
  },
  {
   "cell_type": "markdown",
   "id": "f1b1ca2b",
   "metadata": {},
   "source": [
    "#### variables globales\n",
    "1. variables : une liste contient des symboles créés; utilisé dans la partie expressions\n",
    "2. dictionaire_auxiliary_variable : des variables créées pour remplacer le produit de deux variables dans p et q\n",
    "3. res : number , pour créer le nom des variables\n",
    "4. variables_Ising : variables dans Hamiltonain expresstion\n",
    "5. dict_variables_binary : map variables dans hamiltonian et variables dans modèle"
   ]
  },
  {
   "cell_type": "code",
   "id": "befa202d",
   "metadata": {
    "ExecuteTime": {
     "end_time": "2025-07-24T08:26:20.431789Z",
     "start_time": "2025-07-24T08:26:20.425663Z"
    }
   },
   "source": [
    "variables=[]\n",
    "dictionaire_auxiliary_variable={}\n",
    "res=1\n",
    "variables_Ising =[]\n",
    "dict_variable_model_map={}"
   ],
   "outputs": [],
   "execution_count": 2
  },
  {
   "cell_type": "markdown",
   "id": "dff345f4",
   "metadata": {},
   "source": [
    "# Expression"
   ]
  },
  {
   "cell_type": "markdown",
   "id": "74df7cef",
   "metadata": {},
   "source": [
    "## Step 0 : dénifir la fonction $f = (N-pq)^2$\n",
    "On utilise `Sympy` pour travailler sur des expressions symboliques du calcul formel.\n",
    "Dans le monde symbolique de `Sympy`, il faut définir des variables symboliques:"
   ]
  },
  {
   "cell_type": "code",
   "id": "3da50a77-455a-4a61-a49e-0fc77d876a3d",
   "metadata": {
    "ExecuteTime": {
     "end_time": "2025-07-24T08:26:20.450781Z",
     "start_time": "2025-07-24T08:26:20.443024Z"
    }
   },
   "source": [
    "# Créer un symbole à partir d'un nom en string\n",
    "def create_variables(var_name):\n",
    "    if isinstance(var_name, str) :\n",
    "        try:\n",
    "            symbol = sp.symbols(var_name)\n",
    "            globals()[var_name] = symbol\n",
    "            variables.append(symbol)\n",
    "        except ValueError:\n",
    "            print(f\"{var_name} ValueError\")\n",
    "    return symbol"
   ],
   "outputs": [],
   "execution_count": 3
  },
  {
   "cell_type": "markdown",
   "id": "7d804f64",
   "metadata": {},
   "source": [
    "### Définir les expressions symboliques pour les écritures de $p$ et $q$ en binaire.\n",
    "\n",
    "On suppose $p$ et $q$ impairs (sinon la factorisation de $N$ serait triviale).\n",
    "\n",
    "$p$ en binaire peut être représenté comme:\n",
    "\n",
    "(pl1-1,..p1,1) = pl1-1 * 2 ** (l1-1) + ... + p1 * 2 **1 +1\n",
    "\n",
    "$q$ en binaire peut être représenté comme:\n",
    "\n",
    "(ql2-1,..,q1,1) = ql2-1 * 2 ** (l2-1) + ... + q1 * 2 **1 +1\n",
    "\n",
    "Avec $l1=\\lfloor\\log_2(p)\\rfloor$ et $l2 =\\lfloor\\log_2(q)\\rfloor$"
   ]
  },
  {
   "cell_type": "code",
   "id": "f436a576",
   "metadata": {
    "ExecuteTime": {
     "end_time": "2025-07-24T08:26:20.474714Z",
     "start_time": "2025-07-24T08:26:20.467062Z"
    }
   },
   "source": [
    "def set_variable(l1,l2):\n",
    "    # length de p et q sont suposés logN/2\n",
    "    #length_N = math.ceil(math.log2(N))\n",
    "    #l1 = l2 = math.ceil(length_N/2)\n",
    "    #p\n",
    "    expr_p = 1\n",
    "    for i in range(1,l1):\n",
    "        var_name = ('p'+ str(i))\n",
    "        var = create_variables(var_name)\n",
    "        expr_p = 2**i * var + expr_p \n",
    "    #q\n",
    "    expr_q = 1\n",
    "    for i in range(1,l2):\n",
    "        var_name = ('q'+ str(i))\n",
    "        var = create_variables(var_name)\n",
    "        expr_q = 2**i * var + expr_q\n",
    "    return (expr_p,expr_q)"
   ],
   "outputs": [],
   "execution_count": 4
  },
  {
   "cell_type": "code",
   "id": "958c36c4",
   "metadata": {
    "ExecuteTime": {
     "end_time": "2025-07-24T08:26:20.617256Z",
     "start_time": "2025-07-24T08:26:20.500113Z"
    }
   },
   "source": [
    "(p,q) = set_variable(2,3)\n",
    "print(p,q)"
   ],
   "outputs": [
    {
     "name": "stdout",
     "output_type": "stream",
     "text": [
      "2*p1 + 1 2*q1 + 4*q2 + 1\n"
     ]
    }
   ],
   "execution_count": 5
  },
  {
   "cell_type": "markdown",
   "id": "e4a54004",
   "metadata": {},
   "source": [
    "### Définir l'expression symbolique $(N-p*q)^2$\n",
    "\n",
    "Le min de cette expression dans $\\mathbb{Z}$ est $0$, dans ce cas $N = p*q$."
   ]
  },
  {
   "cell_type": "code",
   "id": "9716a1dc",
   "metadata": {
    "ExecuteTime": {
     "end_time": "2025-07-24T08:26:21.492457Z",
     "start_time": "2025-07-24T08:26:21.487703Z"
    }
   },
   "source": [
    "def define_function(N,p,q):\n",
    "    expr_pq = p *q\n",
    "    return (N - expr_pq)**2"
   ],
   "outputs": [],
   "execution_count": 6
  },
  {
   "cell_type": "markdown",
   "id": "df75def9",
   "metadata": {},
   "source": [
    "**Exemple :** On définit l'expression symbolique pour $N=15$ avec $p=2*p_1 + 1$ et $q=2*q1 + 4*q2 + 1$"
   ]
  },
  {
   "cell_type": "code",
   "id": "ad87e4ec",
   "metadata": {
    "ExecuteTime": {
     "end_time": "2025-07-24T08:26:21.589167Z",
     "start_time": "2025-07-24T08:26:21.574510Z"
    }
   },
   "source": [
    "expr = define_function(21,p,q)\n",
    "print(expr)"
   ],
   "outputs": [
    {
     "name": "stdout",
     "output_type": "stream",
     "text": [
      "(-(2*p1 + 1)*(2*q1 + 4*q2 + 1) + 21)**2\n"
     ]
    }
   ],
   "execution_count": 7
  },
  {
   "cell_type": "markdown",
   "id": "4e3da051",
   "metadata": {},
   "source": [
    "On peut développer cette expression avec `sp.expand(expr)` .\n",
    "\n",
    "On obtient l'expression suivante    \n",
    "    $\\displaystyle 16 p_{1}^{2} q_{1}^{2} + 64 p_{1}^{2} q_{1} q_{2} + 16 p_{1}^{2} q_{1} + 64 p_{1}^{2} q_{2}^{2} + 32 p_{1}^{2} q_{2} + 4 p_{1}^{2} + 16 p_{1} q_{1}^{2} + 64 p_{1} q_{1} q_{2} - 104 p_{1} q_{1} + 64 p_{1} q_{2}^{2} - 208 p_{1} q_{2} - 56 p_{1} + 4 q_{1}^{2} + 16 q_{1} q_{2} - 56 q_{1} + 16 q_{2}^{2} - 112 q_{2} + 196$\n"
   ]
  },
  {
   "cell_type": "markdown",
   "id": "654fcebe",
   "metadata": {},
   "source": [
    "## Step 1: Réduire les puissances dans l'expression\n",
    "\n",
    "L'expression obtenue avant peut être simplifiée: la puissance de toutes les variables est égale à 1.\n",
    "\n",
    "$p_1^2 = p_1$, car $1 * 1 = 1$ et $0 * 0 = 0$"
   ]
  },
  {
   "cell_type": "code",
   "id": "bb30b8b4",
   "metadata": {
    "ExecuteTime": {
     "end_time": "2025-07-24T08:26:21.704868Z",
     "start_time": "2025-07-24T08:26:21.700021Z"
    }
   },
   "source": [
    "def reduct_variable_power_term(term):\n",
    "    new_term = 1\n",
    "    for variable,power in term.as_powers_dict().items():\n",
    "        new_term *= variable\n",
    "    return new_term\n",
    "\n",
    "def reduct_variable_power_function(expr):\n",
    "    expanded_expr = sp.expand(expr)\n",
    "    expanded_reducted = 0\n",
    "    for term in expanded_expr.args:\n",
    "        new_term = reduct_variable_power_term(term)\n",
    "        expanded_reducted += new_term\n",
    "    return expanded_reducted\n"
   ],
   "outputs": [],
   "execution_count": 8
  },
  {
   "cell_type": "markdown",
   "id": "40f2674b",
   "metadata": {},
   "source": [
    "**exemple (suite):** En utilisant l'expression définie avant on obtient:"
   ]
  },
  {
   "cell_type": "code",
   "id": "7a37aa64",
   "metadata": {
    "ExecuteTime": {
     "end_time": "2025-07-24T08:26:21.913894Z",
     "start_time": "2025-07-24T08:26:21.857669Z"
    }
   },
   "source": [
    "expr_reduct_power = reduct_variable_power_function(expr)\n",
    "print(expr_reduct_power)"
   ],
   "outputs": [
    {
     "name": "stdout",
     "output_type": "stream",
     "text": [
      "128*p1*q1*q2 - 104*p1*q1 - 144*p1*q2 - 76*p1 + 16*q1*q2 - 76*q1 - 144*q2 + 400\n"
     ]
    }
   ],
   "execution_count": 9
  },
  {
   "cell_type": "markdown",
   "id": "8f8c7371",
   "metadata": {},
   "source": [
    "## Step 2: Réduire les termes pour qu'ils ne fassent jamais intervenir plus de deux variables"
   ]
  },
  {
   "cell_type": "markdown",
   "id": "d9d7b202",
   "metadata": {},
   "source": [
    "### Réduction degrée formule"
   ]
  },
  {
   "metadata": {
    "ExecuteTime": {
     "end_time": "2025-07-24T08:26:22.026449Z",
     "start_time": "2025-07-24T08:26:22.021842Z"
    }
   },
   "cell_type": "code",
   "source": [
    "# les varaiables sont sort par la lettre puis un nombre: \"x12\" -> \"x\" 12\n",
    "def sort_key(variable):\n",
    "    name = str(variable)\n",
    "    # Split le nom du variable à deux parties: letter & number \n",
    "    letter = name[0]\n",
    "    number = int(name[1:])\n",
    "    return (letter, number)"
   ],
   "id": "046dc39a",
   "outputs": [],
   "execution_count": 10
  },
  {
   "cell_type": "code",
   "id": "ae33fd5d",
   "metadata": {
    "ExecuteTime": {
     "end_time": "2025-07-24T08:26:22.098365Z",
     "start_time": "2025-07-24T08:26:22.081327Z"
    }
   },
   "source": [
    "# Pour chaque terme compose de >= 3 variables, \n",
    "# Les 3 première variables devrait participer dans la réduction\n",
    "# Les autres variables et le coef construit terme qui est terme resté\n",
    "# Un nouveau terme : mulp (réduction, teme resté)\n",
    "def build_rest_term(coef , rest_variable_liste):\n",
    "    new_term = coef\n",
    "    while(len(rest_variable_liste)!=0):\n",
    "        new_term = new_term * rest_variable_liste[-1]\n",
    "        rest_variable_liste.pop()\n",
    "    return new_term\n",
    "\n",
    "def IsExisted(variables_liste):\n",
    "    for key, value in dictionaire_auxiliary_variable.items():\n",
    "        bl = (value[0] in variables_liste) and (value[1] in variables_liste)\n",
    "        if bl :\n",
    "            return (key,value)\n",
    "    return None\n",
    "\n",
    "# si #variables > 2 : diemension -1\n",
    "def reduct_demension_term(coef,variables_liste):\n",
    "    global res\n",
    "\n",
    "    coef_is_positif = coef > 0\n",
    "\n",
    "    # sélection les 3 premières variables\n",
    "    [x_1, x_2, x_3] = variables_liste[:3]\n",
    "    \n",
    "    # garder le reste des variables\n",
    "    rest_variables_liste= variables_liste[3:]\n",
    "    rest_term = build_rest_term(abs(coef), rest_variables_liste)\n",
    "\n",
    "    # commence la réduction dimension\n",
    "    tup=(x_1,x_2)\n",
    "    #check dict s'il existe déjà une variable auxiliary qui = les deux meme variable\n",
    "    key = next((k for k, v in dictionaire_auxiliary_variable.items() if v == tup), None)\n",
    "\n",
    "    if key==None:#sinon, il faut creer une variable auxiliary\n",
    "        var_name = \"x\" + str(res)\n",
    "        x_4 = create_variables(var_name)\n",
    "        dictionaire_auxiliary_variable[x_4]=(x_1,x_2)\n",
    "        res += 1 \n",
    "    else:\n",
    "        x_4 = key \n",
    "\n",
    "    if coef_is_positif:\n",
    "        reduct_formula = x_4 * x_3 + 2 * (x_1 * x_2 - 2 * x_1 * x_4 - 2 * x_2 * x_4 + 3 * x_4)\n",
    "    else:\n",
    "        reduct_formula = -1 * x_4 * x_3 + 2 * (x_1 * x_2 - 2 * x_1 * x_4 - 2 * x_2 * x_4 + 3 * x_4)\n",
    "    reduct_formula = sp.expand(reduct_formula)\n",
    "\n",
    "    # mulp\n",
    "    expr_reduct = rest_term * reduct_formula\n",
    "    return sp.expand(expr_reduct)"
   ],
   "outputs": [],
   "execution_count": 11
  },
  {
   "cell_type": "markdown",
   "id": "64471154",
   "metadata": {},
   "source": [
    "### Réduction procède"
   ]
  },
  {
   "cell_type": "code",
   "id": "5eafc9fa",
   "metadata": {
    "ExecuteTime": {
     "end_time": "2025-07-24T08:26:22.168166Z",
     "start_time": "2025-07-24T08:26:22.159057Z"
    }
   },
   "source": [
    "def reduct_demension_expression(expr):\n",
    "\n",
    "    new_expr = 0\n",
    "    need_reduction = False\n",
    "\n",
    "    for term in expr.args:\n",
    "        # get coefficant(la constante) et variables(dans une liste)\n",
    "        variables_liste = sorted(term.free_symbols, key=sort_key)\n",
    "        coef = term.as_coeff_mul()[0]\n",
    "\n",
    "        # pour les termes qui ont plus de 2 variables, il faut appliquer la formule de réduction\n",
    "        if len(variables_liste) > 2 :\n",
    "            if len(variables_liste) > 3 :\n",
    "                need_reduction = True\n",
    "            new_term = reduct_demension_term(coef, variables_liste) \n",
    "            new_expr +=  new_term\n",
    "        else:\n",
    "            # sinon, on ne fait rien et les met directement dans la nouvelle expression\n",
    "            new_expr += term\n",
    "\n",
    "    if need_reduction:\n",
    "        return reduct_demension_expression(new_expr)\n",
    "    else:\n",
    "        return new_expr"
   ],
   "outputs": [],
   "execution_count": 12
  },
  {
   "cell_type": "markdown",
   "id": "fae28cc0",
   "metadata": {},
   "source": [
    "**Exemple (suite):** réduisons le nombre de variables utilisées dans chaque terme de l'expression simplifiée précédente:"
   ]
  },
  {
   "metadata": {
    "ExecuteTime": {
     "end_time": "2025-07-24T08:26:22.223810Z",
     "start_time": "2025-07-24T08:26:22.194960Z"
    }
   },
   "cell_type": "code",
   "source": "expr_reduct_power",
   "id": "3d65fc47aefb0a0",
   "outputs": [
    {
     "data": {
      "text/plain": [
       "128*p1*q1*q2 - 104*p1*q1 - 144*p1*q2 - 76*p1 + 16*q1*q2 - 76*q1 - 144*q2 + 400"
      ],
      "text/latex": "$\\displaystyle 128 p_{1} q_{1} q_{2} - 104 p_{1} q_{1} - 144 p_{1} q_{2} - 76 p_{1} + 16 q_{1} q_{2} - 76 q_{1} - 144 q_{2} + 400$"
     },
     "execution_count": 13,
     "metadata": {},
     "output_type": "execute_result"
    }
   ],
   "execution_count": 13
  },
  {
   "cell_type": "code",
   "id": "96f74c95",
   "metadata": {
    "ExecuteTime": {
     "end_time": "2025-07-24T08:26:22.351488Z",
     "start_time": "2025-07-24T08:26:22.334647Z"
    }
   },
   "source": [
    "\n",
    "reduct_demension_expr = reduct_demension_expression(expr_reduct_power)\n",
    "print(reduct_demension_expr)"
   ],
   "outputs": [
    {
     "name": "stdout",
     "output_type": "stream",
     "text": [
      "152*p1*q1 - 144*p1*q2 - 512*p1*x1 - 76*p1 + 16*q1*q2 - 512*q1*x1 - 76*q1 + 128*q2*x1 - 144*q2 + 768*x1 + 400\n"
     ]
    }
   ],
   "execution_count": 14
  },
  {
   "cell_type": "code",
   "id": "97d3911b",
   "metadata": {
    "ExecuteTime": {
     "end_time": "2025-07-24T08:26:22.596207Z",
     "start_time": "2025-07-24T08:26:22.589768Z"
    }
   },
   "source": [
    "dictionaire_auxiliary_variable"
   ],
   "outputs": [
    {
     "data": {
      "text/plain": [
       "{x1: (p1, q1)}"
      ]
     },
     "execution_count": 15,
     "metadata": {},
     "output_type": "execute_result"
    }
   ],
   "execution_count": 15
  },
  {
   "cell_type": "code",
   "id": "b2ae8b80",
   "metadata": {
    "ExecuteTime": {
     "end_time": "2025-07-24T08:26:22.787597Z",
     "start_time": "2025-07-24T08:26:22.780341Z"
    }
   },
   "source": [
    "variables"
   ],
   "outputs": [
    {
     "data": {
      "text/plain": [
       "[p1, q1, q2, x1]"
      ]
     },
     "execution_count": 16,
     "metadata": {},
     "output_type": "execute_result"
    }
   ],
   "execution_count": 16
  },
  {
   "cell_type": "code",
   "id": "bc1db409",
   "metadata": {
    "ExecuteTime": {
     "end_time": "2025-07-24T08:26:22.886609Z",
     "start_time": "2025-07-24T08:26:22.881426Z"
    }
   },
   "source": [
    "# obtient l'expression finale\n",
    "def get_reduct_expression(N,p,q):\n",
    "    expr = define_function(N,p,q)\n",
    "    expr_reduct_power = reduct_variable_power_function(expr)\n",
    "    reduct_demension_expr = reduct_demension_expression(expr_reduct_power)\n",
    "    return reduct_demension_expr"
   ],
   "outputs": [],
   "execution_count": 17
  },
  {
   "cell_type": "code",
   "id": "e6424ec3",
   "metadata": {
    "ExecuteTime": {
     "end_time": "2025-07-24T08:26:23.021586Z",
     "start_time": "2025-07-24T08:26:23.012546Z"
    }
   },
   "source": [
    "# de reduct_demension_expr à reduct_variable_power_function\n",
    "# pour vérifier\n",
    "def detransfer_expr(reduct_demension_expr):\n",
    "    dict_inverse = {valeur: cle for cle, valeur in dictionaire_auxiliary_variable.items()}\n",
    "    new_expr = reduct_demension_expr.subs(dict_inverse)\n",
    "    return sp.expand(new_expr)"
   ],
   "outputs": [],
   "execution_count": 18
  },
  {
   "cell_type": "code",
   "id": "03f637ac",
   "metadata": {
    "ExecuteTime": {
     "end_time": "2025-07-24T08:26:23.089111Z",
     "start_time": "2025-07-24T08:26:23.055076Z"
    }
   },
   "source": [
    "detransfer_expr(reduct_demension_expr)"
   ],
   "outputs": [
    {
     "data": {
      "text/plain": [
       "152*p1*q1 - 144*p1*q2 - 512*p1*x1 - 76*p1 + 16*q1*q2 - 512*q1*x1 - 76*q1 + 128*q2*x1 - 144*q2 + 768*x1 + 400"
      ],
      "text/latex": "$\\displaystyle 152 p_{1} q_{1} - 144 p_{1} q_{2} - 512 p_{1} x_{1} - 76 p_{1} + 16 q_{1} q_{2} - 512 q_{1} x_{1} - 76 q_{1} + 128 q_{2} x_{1} - 144 q_{2} + 768 x_{1} + 400$"
     },
     "execution_count": 19,
     "metadata": {},
     "output_type": "execute_result"
    }
   ],
   "execution_count": 19
  },
  {
   "cell_type": "markdown",
   "id": "20fe5048",
   "metadata": {},
   "source": [
    "# Factorisation d'entiers en le transformant dans le modèle QUBO (ou d'Ising)"
   ]
  },
  {
   "cell_type": "markdown",
   "id": "3a9a759d",
   "metadata": {},
   "source": [
    "Cette expression est un problème d'optimisation binaire quadratique sans contrainte (QUBO) sur 4 variables ($p_1,q_1,q_2,x_1$) qui peut\n",
    "être transformé en un hamiltonien d'Ising équivalent"
   ]
  },
  {
   "cell_type": "markdown",
   "id": "96abd0f9",
   "metadata": {},
   "source": [
    "On fait appel à la librairie [Dimod](https://test-projecttemplate-dimod.readthedocs.io/en/release_notes/introduction.html) qui permet de créer un modèle d'Ising à partir d'une expression mathématique donnée sous la forme symbolique."
   ]
  },
  {
   "cell_type": "markdown",
   "id": "d577b4de",
   "metadata": {},
   "source": [
    "## Step3: Transfer de Qubo à Ising "
   ]
  },
  {
   "cell_type": "markdown",
   "id": "58a38959",
   "metadata": {},
   "source": [
    "De reduct_demension_expr, on remplace les variables du Qubo problème aux variables du Ising problème:\n",
    "\n",
    "$\\displaystyle variable_q \\in \\{0,1\\} = (variable_i +1)/2$ avec $ variable_i \\in \\{-1,1\\} $"
   ]
  },
  {
   "cell_type": "code",
   "id": "2c3e0633",
   "metadata": {
    "ExecuteTime": {
     "end_time": "2025-07-24T08:26:23.171275Z",
     "start_time": "2025-07-24T08:26:23.165219Z"
    }
   },
   "source": [
    "def transfers_qubo2Ising(reduct_demension_expr):\n",
    "    \n",
    "    subs_relations = {(variable, ( variable + 1 ) /2) for variable in variables}\n",
    "    \n",
    "    # Après la substitution, variables dans l'expression sont des variables d'Ising dans {-1,+1}\n",
    "    new_expr = reduct_demension_expr.subs(subs_relations)\n",
    "    new_expr = sp.expand(new_expr)\n",
    "    return new_expr"
   ],
   "outputs": [],
   "execution_count": 20
  },
  {
   "cell_type": "markdown",
   "id": "0241b72e",
   "metadata": {},
   "source": [
    "**Exemple (suite):** On transforme l'expression réduite précédente en une expression pour le modèle d'Ising qui pourra être transformé par la librairie"
   ]
  },
  {
   "cell_type": "code",
   "id": "5769ee20",
   "metadata": {
    "ExecuteTime": {
     "end_time": "2025-07-24T08:26:23.341343Z",
     "start_time": "2025-07-24T08:26:23.298825Z"
    }
   },
   "source": [
    "expr_ising = transfers_qubo2Ising(reduct_demension_expr)\n",
    "print(expr_ising)"
   ],
   "outputs": [
    {
     "name": "stdout",
     "output_type": "stream",
     "text": [
      "38*p1*q1 - 36*p1*q2 - 128*p1*x1 - 164*p1 + 4*q1*q2 - 128*q1*x1 - 124*q1 + 32*q2*x1 - 72*q2 + 160*x1 + 418\n"
     ]
    }
   ],
   "execution_count": 21
  },
  {
   "cell_type": "markdown",
   "id": "da1c296b",
   "metadata": {},
   "source": [
    "#### Calcule de h et J est optionnel. h et J pourrait être utilisé pour d'autres solvers"
   ]
  },
  {
   "cell_type": "markdown",
   "id": "ab587719",
   "metadata": {},
   "source": [
    "De l'expression ising, on peut définir:\n",
    "1. h qui contient (les coeffients des termes qui ont une degrèe de 1)\n",
    "2. J est une matrice de diension 2, $J_{ij}$ est l'interaction entre $spin_i$ et $spin_j$. i et j sont l'indice des variables de la liste $variables$, $J_{ij} =$ coefficient de $(variables[i] * variables[j])$\n",
    "\n"
   ]
  },
  {
   "cell_type": "code",
   "id": "2079ac07",
   "metadata": {
    "ExecuteTime": {
     "end_time": "2025-07-24T08:26:23.538112Z",
     "start_time": "2025-07-24T08:26:23.528235Z"
    }
   },
   "source": [
    "def build_h(expr):\n",
    "    #len de h est le nombre de variables \n",
    "    h=()\n",
    "    for term in expr.args:\n",
    "        if len(term.free_symbols) == 1:\n",
    "            h = h + (term.as_coeff_mul()[0],)\n",
    "    return h\n",
    "\n",
    "\n",
    "def build_J_h(expr):\n",
    "\n",
    "    terms = expr.args \n",
    "\n",
    "    # 1-variable : reconstruire une expression pour calculer le coef des termes\n",
    "    new_expr = 0\n",
    "\n",
    "    matrix_J = np.zeros((len(variables), len(variables)), dtype=int)  # les len-1 premières variables * les len-1 dernière variables\n",
    "\n",
    "    for term in terms:\n",
    "        if len(term.free_symbols) == 2:\n",
    "            # 2-variables : créer la matrice J\n",
    "            list_variable_term = sorted(term.free_symbols, key=sort_key)\n",
    "            coef = term.as_coeff_mul()[0]\n",
    "            i = variables.index(list_variable_term[0])\n",
    "            j = variables.index(list_variable_term[1])\n",
    "            \n",
    "            \n",
    "            matrix_J[i][j] = coef\n",
    "        else:\n",
    "            # 1-variable\n",
    "            new_expr += term\n",
    "\n",
    "    tuple_h = build_h(new_expr)\n",
    "    return tuple_h,matrix_J"
   ],
   "outputs": [],
   "execution_count": 22
  },
  {
   "cell_type": "markdown",
   "id": "93011ea3",
   "metadata": {},
   "source": [
    "**Exemple (suite):** D'une expression d'Ising, on peut construire des matrices, matrice h représent l'interaction entre chaque spin et un champ externe et matrice J représent l'interaction entre tout les deux spins."
   ]
  },
  {
   "cell_type": "code",
   "id": "8589cfa1",
   "metadata": {
    "ExecuteTime": {
     "end_time": "2025-07-24T08:26:23.579637Z",
     "start_time": "2025-07-24T08:26:23.571531Z"
    }
   },
   "source": [
    "(h,J) = build_J_h(expr_ising)\n",
    "print(h)\n",
    "print(J)"
   ],
   "outputs": [
    {
     "name": "stdout",
     "output_type": "stream",
     "text": [
      "(-164, -124, -72, 160)\n",
      "[[   0   38  -36 -128]\n",
      " [   0    0    4 -128]\n",
      " [   0    0    0   32]\n",
      " [   0    0    0    0]]\n"
     ]
    }
   ],
   "execution_count": 23
  },
  {
   "cell_type": "markdown",
   "id": "581f19cd",
   "metadata": {},
   "source": [
    "# Solveur pour Modèle Ising"
   ]
  },
  {
   "cell_type": "markdown",
   "id": "6a87ce8d",
   "metadata": {},
   "source": [
    "## Step4: Constuire linear et quadratique dictionnaire.\n",
    "\n",
    "Ils sont des paramètre nessessaire pour appeler le solveur Dimod\n",
    "1. linear dictionnaire: {key(nom du variable en string) : valeur(coef de cette variavle dans expression d'Ising)}\n",
    "\n",
    "2. quadratique dictionnaire: {key(un truple de nom des deux variables en string) : valeur(coef de ces deux variables dans expression d'Ising)}"
   ]
  },
  {
   "cell_type": "code",
   "id": "ef74242e",
   "metadata": {
    "ExecuteTime": {
     "end_time": "2025-07-24T08:26:26.215444Z",
     "start_time": "2025-07-24T08:26:23.655482Z"
    }
   },
   "source": [
    "import dimod \n",
    "from dwave.preprocessing.composites import SpinReversalTransformComposite"
   ],
   "outputs": [],
   "execution_count": 24
  },
  {
   "cell_type": "code",
   "id": "ad47fd04",
   "metadata": {
    "ExecuteTime": {
     "end_time": "2025-07-24T08:26:26.287553Z",
     "start_time": "2025-07-24T08:26:26.264445Z"
    }
   },
   "source": [
    "# Compose the sampler\n",
    "base_sampler = dimod.ExactSolver()\n",
    "composed_sampler = SpinReversalTransformComposite(base_sampler)\n",
    "base_sampler in composed_sampler.children"
   ],
   "outputs": [
    {
     "data": {
      "text/plain": [
       "True"
      ]
     },
     "execution_count": 25,
     "metadata": {},
     "output_type": "execute_result"
    }
   ],
   "execution_count": 25
  },
  {
   "cell_type": "markdown",
   "id": "bc364651",
   "metadata": {},
   "source": [
    "From h and J build linaer and quadratic dict"
   ]
  },
  {
   "cell_type": "code",
   "id": "d8f7e648",
   "metadata": {
    "ExecuteTime": {
     "end_time": "2025-07-24T08:26:26.441504Z",
     "start_time": "2025-07-24T08:26:26.427255Z"
    }
   },
   "source": [
    "def get_solver_parameter(expr_ising):\n",
    "    linear = {}\n",
    "    quadratic ={}\n",
    "    offset = 0\n",
    "\n",
    "    for term in expr_ising.args:\n",
    "        variables_liste = sorted(term.free_symbols, key=sort_key)\n",
    "        coef = term.as_coeff_mul()[0]\n",
    "        if len(term.free_symbols) ==0:\n",
    "            offset = coef\n",
    "        if len(term.free_symbols) ==1:\n",
    "            linear[variables_liste[0].name] = coef\n",
    "        elif len(term.free_symbols) ==2:\n",
    "            quadratic[(variables_liste[0].name,variables_liste[1].name)] = coef\n",
    "\n",
    "    return (linear,quadratic,offset)"
   ],
   "outputs": [],
   "execution_count": 26
  },
  {
   "cell_type": "markdown",
   "id": "83bb3f32",
   "metadata": {},
   "source": [
    "exemple"
   ]
  },
  {
   "cell_type": "code",
   "id": "4f013e48",
   "metadata": {
    "ExecuteTime": {
     "end_time": "2025-07-24T08:26:26.662859Z",
     "start_time": "2025-07-24T08:26:26.641469Z"
    }
   },
   "source": "get_solver_parameter(expr_ising)",
   "outputs": [
    {
     "data": {
      "text/plain": [
       "({'p1': -164, 'q1': -124, 'q2': -72, 'x1': 160},\n",
       " {('p1', 'x1'): -128,\n",
       "  ('q1', 'x1'): -128,\n",
       "  ('p1', 'q2'): -36,\n",
       "  ('q1', 'q2'): 4,\n",
       "  ('q2', 'x1'): 32,\n",
       "  ('p1', 'q1'): 38},\n",
       " 418)"
      ]
     },
     "execution_count": 27,
     "metadata": {},
     "output_type": "execute_result"
    }
   ],
   "execution_count": 27
  },
  {
   "cell_type": "markdown",
   "id": "b42a06be",
   "metadata": {},
   "source": [
    "## Step5: Compiler pour obtenir modèle et la solution"
   ]
  },
  {
   "cell_type": "code",
   "id": "8f70709c",
   "metadata": {
    "ExecuteTime": {
     "end_time": "2025-07-24T08:26:27.033411Z",
     "start_time": "2025-07-24T08:26:27.020515Z"
    }
   },
   "source": [
    "def get_solution(expr_ising):\n",
    "    (linear,quadratic,offset) = get_solver_parameter(expr_ising)\n",
    "    response = composed_sampler.sample_ising(linear, quadratic)  #response.data() return (solution, energy, num_occurrences)\n",
    "    solution = next(response.data())[0]\n",
    "    return solution"
   ],
   "outputs": [],
   "execution_count": 28
  },
  {
   "cell_type": "code",
   "id": "b498e1a3",
   "metadata": {
    "ExecuteTime": {
     "end_time": "2025-07-24T08:26:27.140639Z",
     "start_time": "2025-07-24T08:26:27.117248Z"
    }
   },
   "source": [
    "solution = get_solution(expr_ising)\n",
    "solution"
   ],
   "outputs": [
    {
     "data": {
      "text/plain": [
       "{'p1': np.int8(1), 'x1': np.int8(1), 'q1': np.int8(1), 'q2': np.int8(1)}"
      ]
     },
     "execution_count": 29,
     "metadata": {},
     "output_type": "execute_result"
    }
   ],
   "execution_count": 29
  },
  {
   "cell_type": "markdown",
   "id": "5665b7c4",
   "metadata": {},
   "source": [
    "La solution est une dictionnaire avec le key: nom de spin/binary en string; la valeur: la valeur de spin/binary qui est -1 ou 1."
   ]
  },
  {
   "cell_type": "markdown",
   "id": "9e863d62",
   "metadata": {},
   "source": [
    "## Steps6: Factorisation\n",
    "### Calculer p et q \n",
    "On les calcule en remplaçant les valeurs dans la solution trouvée par le solver et l'expressions de p et q."
   ]
  },
  {
   "cell_type": "code",
   "id": "ff513ba7",
   "metadata": {
    "ExecuteTime": {
     "end_time": "2025-07-24T08:26:27.281826Z",
     "start_time": "2025-07-24T08:26:27.269658Z"
    }
   },
   "source": [
    "def calcule_p_q(solution,p,q):\n",
    "    dic_varialbe_value = {}\n",
    "    for var in variables:\n",
    "        if(solution[var.name] == np.int8(1)):\n",
    "            dic_varialbe_value[var] = int(1)\n",
    "        else:\n",
    "            dic_varialbe_value[var] = int(0)\n",
    "\n",
    "    p_value = p.subs(dic_varialbe_value)\n",
    "    q_value = q.subs(dic_varialbe_value)\n",
    "    \n",
    "    return (p_value.evalf(),q_value.evalf())"
   ],
   "outputs": [],
   "execution_count": 30
  },
  {
   "cell_type": "code",
   "id": "5bf25903",
   "metadata": {
    "ExecuteTime": {
     "end_time": "2025-07-24T08:26:27.564704Z",
     "start_time": "2025-07-24T08:26:27.547742Z"
    }
   },
   "source": [
    "calcule_p_q(solution,p,q)"
   ],
   "outputs": [
    {
     "data": {
      "text/plain": [
       "(3.00000000000000, 7.00000000000000)"
      ]
     },
     "execution_count": 31,
     "metadata": {},
     "output_type": "execute_result"
    }
   ],
   "execution_count": 31
  },
  {
   "cell_type": "markdown",
   "id": "c9ad4620",
   "metadata": {},
   "source": [
    "### Verifier si N est une puissance pure"
   ]
  },
  {
   "cell_type": "code",
   "id": "d9c4dfa1",
   "metadata": {
    "ExecuteTime": {
     "end_time": "2025-07-24T08:26:27.671189Z",
     "start_time": "2025-07-24T08:26:27.661300Z"
    }
   },
   "source": [
    "def find_pure_power(N):\n",
    "    if N < 4:\n",
    "        return None\n",
    "    low = 2\n",
    "    high = math.ceil(math.log2(N))\n",
    "    while low <= high:\n",
    "        mid = (low + high) // 2\n",
    "        power = mid ** 2\n",
    "        if power == N:\n",
    "            return mid\n",
    "        elif power < N:\n",
    "            low = mid + 1\n",
    "        else:\n",
    "            high = mid - 1\n",
    "    return None"
   ],
   "outputs": [],
   "execution_count": 32
  },
  {
   "cell_type": "markdown",
   "id": "c51d0e26",
   "metadata": {},
   "source": [
    "### Sum up fontion"
   ]
  },
  {
   "cell_type": "code",
   "id": "e35c7c16",
   "metadata": {
    "ExecuteTime": {
     "end_time": "2025-07-24T09:07:14.483984Z",
     "start_time": "2025-07-24T09:07:14.475273Z"
    }
   },
   "source": [
    "def factorization(N,l1,l2):\n",
    "    global variables, variables_Ising, dictionaire_auxiliary_variable, res\n",
    "    variables = []\n",
    "    variables_Ising = []\n",
    "    dictionaire_auxiliary_variable = {}\n",
    "    res = 1\n",
    "\n",
    "    (p,q) = set_variable(l1,l2)### p et q expression\n",
    "    #print(f\"{N} = ({p}) * ({q})\")\n",
    "\n",
    "    #power = find_pure_power(N)\n",
    "    #if find_pure_power(N) :\n",
    "    #    (p_int,q_int) = (power,power)\n",
    "    #else:\n",
    "    reduct_demension_expr = get_reduct_expression(N,p,q)\n",
    "    expr_ising = transfers_qubo2Ising(reduct_demension_expr)\n",
    "    #print(\"expression de Ising est : \", expr_ising)\n",
    "    #print(build_J_h(expr_ising))\n",
    "    solution = get_solution(expr_ising)\n",
    "    #print(solution)\n",
    "        \n",
    "    (p_val,q_val) = calcule_p_q(solution,p,q)\n",
    "    (p_int,q_int) = (int(p_val),int(q_val))\n",
    "    print(f\"La factorisation de {N} est {p_int} * {q_int}.\")\n",
    "    print (p_int*q_int == N)"
   ],
   "outputs": [],
   "execution_count": 52
  },
  {
   "cell_type": "markdown",
   "id": "a8a5e307",
   "metadata": {},
   "source": [
    "## Call function"
   ]
  },
  {
   "cell_type": "code",
   "id": "89e50022",
   "metadata": {
    "ExecuteTime": {
     "end_time": "2025-07-24T09:07:16.256390Z",
     "start_time": "2025-07-24T09:07:16.242207Z"
    }
   },
   "source": [
    "N=15\n",
    "l1=2\n",
    "l2=3\n",
    "factorization(N,l1,l2)"
   ],
   "outputs": [
    {
     "name": "stdout",
     "output_type": "stream",
     "text": [
      "La factorisation de 15 est 3 * 5.\n",
      "True\n"
     ]
    }
   ],
   "execution_count": 53
  },
  {
   "cell_type": "code",
   "id": "201c2eaf",
   "metadata": {
    "ExecuteTime": {
     "end_time": "2025-07-24T09:07:17.814981Z",
     "start_time": "2025-07-24T09:07:17.797655Z"
    }
   },
   "source": [
    "N=21\n",
    "l1=2\n",
    "l2=3\n",
    "factorization(N,l1,l2)"
   ],
   "outputs": [
    {
     "name": "stdout",
     "output_type": "stream",
     "text": [
      "La factorisation de 21 est 3 * 7.\n",
      "True\n"
     ]
    }
   ],
   "execution_count": 54
  },
  {
   "cell_type": "code",
   "id": "cdebbd4a",
   "metadata": {
    "ExecuteTime": {
     "end_time": "2025-07-24T09:07:19.449536Z",
     "start_time": "2025-07-24T09:07:19.412006Z"
    }
   },
   "source": [
    "N=33\n",
    "l1=2\n",
    "l2=4\n",
    "factorization(N,l1,l2)"
   ],
   "outputs": [
    {
     "name": "stdout",
     "output_type": "stream",
     "text": [
      "La factorisation de 33 est 3 * 11.\n",
      "True\n"
     ]
    }
   ],
   "execution_count": 55
  },
  {
   "cell_type": "code",
   "id": "3a63b08a",
   "metadata": {
    "ExecuteTime": {
     "end_time": "2025-07-24T09:07:21.762215Z",
     "start_time": "2025-07-24T09:07:21.662190Z"
    }
   },
   "source": [
    "N=35\n",
    "l1=3\n",
    "l2=3\n",
    "factorization(N,l1,l2)"
   ],
   "outputs": [
    {
     "name": "stdout",
     "output_type": "stream",
     "text": [
      "La factorisation de 35 est 5 * 7.\n",
      "True\n"
     ]
    }
   ],
   "execution_count": 56
  },
  {
   "cell_type": "code",
   "id": "0f174bf4",
   "metadata": {
    "ExecuteTime": {
     "end_time": "2025-07-24T09:07:24.205345Z",
     "start_time": "2025-07-24T09:07:24.157798Z"
    }
   },
   "source": [
    "N=39\n",
    "l1=2\n",
    "l2=4\n",
    "factorization(N,l1,l2)"
   ],
   "outputs": [
    {
     "name": "stdout",
     "output_type": "stream",
     "text": [
      "La factorisation de 39 est 3 * 13.\n",
      "True\n"
     ]
    }
   ],
   "execution_count": 57
  },
  {
   "cell_type": "code",
   "id": "087fb663",
   "metadata": {
    "ExecuteTime": {
     "end_time": "2025-07-24T09:07:25.850458Z",
     "start_time": "2025-07-24T09:07:25.609414Z"
    }
   },
   "source": [
    "N=55\n",
    "l1=3\n",
    "l2=4\n",
    "factorization(N,l1,l2)"
   ],
   "outputs": [
    {
     "name": "stdout",
     "output_type": "stream",
     "text": [
      "La factorisation de 55 est 5 * 11.\n",
      "True\n"
     ]
    }
   ],
   "execution_count": 58
  },
  {
   "cell_type": "code",
   "id": "96624454",
   "metadata": {
    "ExecuteTime": {
     "end_time": "2025-07-24T09:07:27.854820Z",
     "start_time": "2025-07-24T09:07:27.645403Z"
    }
   },
   "source": [
    "N=65\n",
    "l1=3\n",
    "l2=4\n",
    "factorization(N,l1,l2)"
   ],
   "outputs": [
    {
     "name": "stdout",
     "output_type": "stream",
     "text": [
      "La factorisation de 65 est 5 * 13.\n",
      "True\n"
     ]
    }
   ],
   "execution_count": 59
  },
  {
   "metadata": {
    "ExecuteTime": {
     "end_time": "2025-07-24T09:07:55.067449Z",
     "start_time": "2025-07-24T09:07:54.722423Z"
    }
   },
   "cell_type": "code",
   "source": [
    "N=91\n",
    "l1=3\n",
    "l2=4\n",
    "factorization(N,l1,l2)"
   ],
   "id": "e6ee65c4b40b2aa6",
   "outputs": [
    {
     "name": "stdout",
     "output_type": "stream",
     "text": [
      "La factorisation de 91 est 7 * 13.\n",
      "True\n"
     ]
    }
   ],
   "execution_count": 61
  },
  {
   "cell_type": "code",
   "id": "e4679576",
   "metadata": {
    "ExecuteTime": {
     "end_time": "2025-07-24T09:08:08.421484Z",
     "start_time": "2025-07-24T09:08:04.113871Z"
    }
   },
   "source": [
    "N=143\n",
    "l1=4\n",
    "l2=4\n",
    "factorization(N,l1,l2)"
   ],
   "outputs": [
    {
     "name": "stdout",
     "output_type": "stream",
     "text": [
      "La factorisation de 143 est 13 * 11.\n",
      "True\n"
     ]
    }
   ],
   "execution_count": 62
  },
  {
   "cell_type": "code",
   "id": "1ae2c524",
   "metadata": {
    "ExecuteTime": {
     "end_time": "2025-07-24T09:18:32.203860Z",
     "start_time": "2025-07-24T09:18:31.963216Z"
    }
   },
   "source": [
    "N=51\n",
    "l1=2\n",
    "l2=5\n",
    "factorization(N,l1,l2)"
   ],
   "outputs": [
    {
     "name": "stdout",
     "output_type": "stream",
     "text": [
      "La factorisation de 51 est 3 * 17.\n",
      "True\n"
     ]
    }
   ],
   "execution_count": 67
  },
  {
   "cell_type": "code",
   "id": "7e86f90c",
   "metadata": {
    "ExecuteTime": {
     "end_time": "2025-07-24T09:19:19.345695Z",
     "start_time": "2025-07-24T09:19:13.220238Z"
    }
   },
   "source": [
    "N=119\n",
    "l1=3\n",
    "l2=5\n",
    "factorization(N,l1,l2)"
   ],
   "outputs": [
    {
     "name": "stdout",
     "output_type": "stream",
     "text": [
      "La factorisation de 119 est 7 * 17.\n",
      "True\n"
     ]
    }
   ],
   "execution_count": 70
  },
  {
   "metadata": {
    "ExecuteTime": {
     "end_time": "2025-07-24T09:29:58.055798Z",
     "start_time": "2025-07-24T09:19:51.757964Z"
    }
   },
   "cell_type": "code",
   "source": [
    "N=187\n",
    "l1=4\n",
    "l2=5\n",
    "factorization(N,l1,l2)"
   ],
   "id": "64b88891",
   "outputs": [
    {
     "ename": "MemoryError",
     "evalue": "Unable to allocate 11.0 GiB for an array with shape (268435456,) and data type [('sample', 'i1', (28,)), ('energy', '<f8'), ('num_occurrences', '<i8')]",
     "output_type": "error",
     "traceback": [
      "\u001B[31m---------------------------------------------------------------------------\u001B[39m",
      "\u001B[31mMemoryError\u001B[39m                               Traceback (most recent call last)",
      "\u001B[36mCell\u001B[39m\u001B[36m \u001B[39m\u001B[32mIn[75]\u001B[39m\u001B[32m, line 4\u001B[39m\n\u001B[32m      2\u001B[39m l1=\u001B[32m4\u001B[39m\n\u001B[32m      3\u001B[39m l2=\u001B[32m5\u001B[39m\n\u001B[32m----> \u001B[39m\u001B[32m4\u001B[39m \u001B[43mfactorization\u001B[49m\u001B[43m(\u001B[49m\u001B[43mN\u001B[49m\u001B[43m,\u001B[49m\u001B[43ml1\u001B[49m\u001B[43m,\u001B[49m\u001B[43ml2\u001B[49m\u001B[43m)\u001B[49m\n",
      "\u001B[36mCell\u001B[39m\u001B[36m \u001B[39m\u001B[32mIn[52]\u001B[39m\u001B[32m, line 19\u001B[39m, in \u001B[36mfactorization\u001B[39m\u001B[34m(N, l1, l2)\u001B[39m\n\u001B[32m     16\u001B[39m expr_ising = transfers_qubo2Ising(reduct_demension_expr)\n\u001B[32m     17\u001B[39m \u001B[38;5;66;03m#print(\"expression de Ising est : \", expr_ising)\u001B[39;00m\n\u001B[32m     18\u001B[39m \u001B[38;5;66;03m#print(build_J_h(expr_ising))\u001B[39;00m\n\u001B[32m---> \u001B[39m\u001B[32m19\u001B[39m solution = \u001B[43mget_solution\u001B[49m\u001B[43m(\u001B[49m\u001B[43mexpr_ising\u001B[49m\u001B[43m)\u001B[49m\n\u001B[32m     20\u001B[39m \u001B[38;5;66;03m#print(solution)\u001B[39;00m\n\u001B[32m     22\u001B[39m (p_val,q_val) = calcule_p_q(solution,p,q)\n",
      "\u001B[36mCell\u001B[39m\u001B[36m \u001B[39m\u001B[32mIn[28]\u001B[39m\u001B[32m, line 3\u001B[39m, in \u001B[36mget_solution\u001B[39m\u001B[34m(expr_ising)\u001B[39m\n\u001B[32m      1\u001B[39m \u001B[38;5;28;01mdef\u001B[39;00m\u001B[38;5;250m \u001B[39m\u001B[34mget_solution\u001B[39m(expr_ising):\n\u001B[32m      2\u001B[39m     (linear,quadratic,offset) = get_solver_parameter(expr_ising)\n\u001B[32m----> \u001B[39m\u001B[32m3\u001B[39m     response = \u001B[43mcomposed_sampler\u001B[49m\u001B[43m.\u001B[49m\u001B[43msample_ising\u001B[49m\u001B[43m(\u001B[49m\u001B[43mlinear\u001B[49m\u001B[43m,\u001B[49m\u001B[43m \u001B[49m\u001B[43mquadratic\u001B[49m\u001B[43m)\u001B[49m  \u001B[38;5;66;03m#response.data() return (solution, energy, num_occurrences)\u001B[39;00m\n\u001B[32m      4\u001B[39m     solution = \u001B[38;5;28mnext\u001B[39m(response.data())[\u001B[32m0\u001B[39m]\n\u001B[32m      5\u001B[39m     \u001B[38;5;28;01mreturn\u001B[39;00m solution\n",
      "\u001B[36mFile \u001B[39m\u001B[32m~\\AppData\\Local\\Programs\\Python\\Python313\\Lib\\site-packages\\dimod\\core\\sampler.py:267\u001B[39m, in \u001B[36mSampler.sample_ising\u001B[39m\u001B[34m(self, h, J, **parameters)\u001B[39m\n\u001B[32m    244\u001B[39m \u001B[38;5;250m\u001B[39m\u001B[33;03m\"\"\"Sample from an Ising model using the implemented sample method.\u001B[39;00m\n\u001B[32m    245\u001B[39m \n\u001B[32m    246\u001B[39m \u001B[33;03mThis method is inherited from the :class:`.Sampler` base class.\u001B[39;00m\n\u001B[32m   (...)\u001B[39m\u001B[32m    264\u001B[39m \n\u001B[32m    265\u001B[39m \u001B[33;03m\"\"\"\u001B[39;00m\n\u001B[32m    266\u001B[39m bqm = BinaryQuadraticModel.from_ising(h, J)\n\u001B[32m--> \u001B[39m\u001B[32m267\u001B[39m \u001B[38;5;28;01mreturn\u001B[39;00m \u001B[38;5;28;43mself\u001B[39;49m\u001B[43m.\u001B[49m\u001B[43msample\u001B[49m\u001B[43m(\u001B[49m\u001B[43mbqm\u001B[49m\u001B[43m,\u001B[49m\u001B[43m \u001B[49m\u001B[43m*\u001B[49m\u001B[43m*\u001B[49m\u001B[43mparameters\u001B[49m\u001B[43m)\u001B[49m\n",
      "\u001B[36mFile \u001B[39m\u001B[32m~\\AppData\\Local\\Programs\\Python\\Python313\\Lib\\site-packages\\dimod\\decorators.py:86\u001B[39m, in \u001B[36mnonblocking_sample_method.<locals>._sample\u001B[39m\u001B[34m(*args, **kwargs)\u001B[39m\n\u001B[32m     83\u001B[39m iterator = f(*args, **kwargs)\n\u001B[32m     85\u001B[39m \u001B[38;5;66;03m# resolve blocking part now, and make hook for the non-blocking part\u001B[39;00m\n\u001B[32m---> \u001B[39m\u001B[32m86\u001B[39m \u001B[38;5;28;01mreturn\u001B[39;00m SampleSet.from_future(\u001B[38;5;28;43mnext\u001B[39;49m\u001B[43m(\u001B[49m\u001B[43miterator\u001B[49m\u001B[43m)\u001B[49m, \u001B[38;5;28;01mlambda\u001B[39;00m _: \u001B[38;5;28mnext\u001B[39m(iterator))\n",
      "\u001B[36mFile \u001B[39m\u001B[32m~\\AppData\\Local\\Programs\\Python\\Python313\\Lib\\site-packages\\dwave\\preprocessing\\composites\\spin_reversal_transform.py:201\u001B[39m, in \u001B[36mSpinReversalTransformComposite.sample\u001B[39m\u001B[34m(self, bqm, num_spin_reversal_transforms, **kwargs)\u001B[39m\n\u001B[32m    198\u001B[39m             bqm.flip_variable(v)\n\u001B[32m    199\u001B[39m     flipped[transform] = ~flipped[transform]\n\u001B[32m--> \u001B[39m\u001B[32m201\u001B[39m     samplesets.append(\u001B[43msampler\u001B[49m\u001B[43m.\u001B[49m\u001B[43msample\u001B[49m\u001B[43m(\u001B[49m\u001B[43mbqm\u001B[49m\u001B[43m,\u001B[49m\u001B[43m \u001B[49m\u001B[43m*\u001B[49m\u001B[43m*\u001B[49m\u001B[43mkwargs\u001B[49m\u001B[43m)\u001B[49m)\n\u001B[32m    203\u001B[39m \u001B[38;5;66;03m# Yield a view of the samplesets that reports done()-ness\u001B[39;00m\n\u001B[32m    204\u001B[39m \u001B[38;5;28;01myield\u001B[39;00m \u001B[38;5;28mself\u001B[39m._SampleSets(samplesets)\n",
      "\u001B[36mFile \u001B[39m\u001B[32m~\\AppData\\Local\\Programs\\Python\\Python313\\Lib\\site-packages\\dimod\\reference\\samplers\\exact_solver.py:88\u001B[39m, in \u001B[36mExactSolver.sample\u001B[39m\u001B[34m(self, bqm, **kwargs)\u001B[39m\n\u001B[32m     85\u001B[39m \u001B[38;5;28;01mif\u001B[39;00m bqm.vartype \u001B[38;5;129;01mis\u001B[39;00m Vartype.SPIN:\n\u001B[32m     86\u001B[39m     samples = \u001B[32m2\u001B[39m*samples - \u001B[32m1\u001B[39m\n\u001B[32m---> \u001B[39m\u001B[32m88\u001B[39m \u001B[38;5;28;01mreturn\u001B[39;00m \u001B[43mSampleSet\u001B[49m\u001B[43m.\u001B[49m\u001B[43mfrom_samples_bqm\u001B[49m\u001B[43m(\u001B[49m\u001B[43m(\u001B[49m\u001B[43msamples\u001B[49m\u001B[43m,\u001B[49m\u001B[43m \u001B[49m\u001B[38;5;28;43mlist\u001B[39;49m\u001B[43m(\u001B[49m\u001B[43mbqm\u001B[49m\u001B[43m.\u001B[49m\u001B[43mvariables\u001B[49m\u001B[43m)\u001B[49m\u001B[43m)\u001B[49m\u001B[43m,\u001B[49m\u001B[43m \u001B[49m\u001B[43mbqm\u001B[49m\u001B[43m)\u001B[49m\n",
      "\u001B[36mFile \u001B[39m\u001B[32m~\\AppData\\Local\\Programs\\Python\\Python313\\Lib\\site-packages\\dimod\\sampleset.py:816\u001B[39m, in \u001B[36mSampleSet.from_samples_bqm\u001B[39m\u001B[34m(cls, samples_like, bqm, **kwargs)\u001B[39m\n\u001B[32m    812\u001B[39m samples_like = as_samples(samples_like)\n\u001B[32m    814\u001B[39m energies = bqm.energies(samples_like)\n\u001B[32m--> \u001B[39m\u001B[32m816\u001B[39m \u001B[38;5;28;01mreturn\u001B[39;00m \u001B[38;5;28;43mcls\u001B[39;49m\u001B[43m.\u001B[49m\u001B[43mfrom_samples\u001B[49m\u001B[43m(\u001B[49m\u001B[43msamples_like\u001B[49m\u001B[43m,\u001B[49m\u001B[43m \u001B[49m\u001B[43menergy\u001B[49m\u001B[43m=\u001B[49m\u001B[43menergies\u001B[49m\u001B[43m,\u001B[49m\u001B[43m \u001B[49m\u001B[43mvartype\u001B[49m\u001B[43m=\u001B[49m\u001B[43mbqm\u001B[49m\u001B[43m.\u001B[49m\u001B[43mvartype\u001B[49m\u001B[43m,\u001B[49m\u001B[43m \u001B[49m\u001B[43m*\u001B[49m\u001B[43m*\u001B[49m\u001B[43mkwargs\u001B[49m\u001B[43m)\u001B[49m\n",
      "\u001B[36mFile \u001B[39m\u001B[32m~\\AppData\\Local\\Programs\\Python\\Python313\\Lib\\site-packages\\dimod\\sampleset.py:751\u001B[39m, in \u001B[36mSampleSet.from_samples\u001B[39m\u001B[34m(cls, samples_like, vartype, energy, info, num_occurrences, aggregate_samples, sort_labels, **vectors)\u001B[39m\n\u001B[32m    748\u001B[39m     vectors[key] = vector = np.asarray(vector)\n\u001B[32m    749\u001B[39m     datatypes.append((key, vector.dtype, vector.shape[\u001B[32m1\u001B[39m:]))\n\u001B[32m--> \u001B[39m\u001B[32m751\u001B[39m record = np.rec.array(\u001B[43mnp\u001B[49m\u001B[43m.\u001B[49m\u001B[43mzeros\u001B[49m\u001B[43m(\u001B[49m\u001B[43mnum_samples\u001B[49m\u001B[43m,\u001B[49m\u001B[43m \u001B[49m\u001B[43mdtype\u001B[49m\u001B[43m=\u001B[49m\u001B[43mdatatypes\u001B[49m\u001B[43m)\u001B[49m)\n\u001B[32m    752\u001B[39m record[\u001B[33m'\u001B[39m\u001B[33msample\u001B[39m\u001B[33m'\u001B[39m] = samples\n\u001B[32m    753\u001B[39m record[\u001B[33m'\u001B[39m\u001B[33menergy\u001B[39m\u001B[33m'\u001B[39m] = energy\n",
      "\u001B[31mMemoryError\u001B[39m: Unable to allocate 11.0 GiB for an array with shape (268435456,) and data type [('sample', 'i1', (28,)), ('energy', '<f8'), ('num_occurrences', '<i8')]"
     ]
    }
   ],
   "execution_count": 75
  },
  {
   "cell_type": "code",
   "id": "420ef95f",
   "metadata": {
    "ExecuteTime": {
     "end_time": "2025-07-24T08:26:37.916037Z",
     "start_time": "2025-07-24T08:26:37.909530Z"
    }
   },
   "source": [],
   "outputs": [],
   "execution_count": null
  },
  {
   "cell_type": "code",
   "id": "5eea7b43",
   "metadata": {
    "ExecuteTime": {
     "end_time": "2025-07-24T08:26:37.984665Z",
     "start_time": "2025-07-24T08:26:37.978936Z"
    }
   },
   "source": [],
   "outputs": [],
   "execution_count": null
  },
  {
   "cell_type": "markdown",
   "id": "a3a12e7e",
   "metadata": {},
   "source": [
    "# RunTime"
   ]
  },
  {
   "cell_type": "code",
   "id": "5f9bc5b9",
   "metadata": {
    "ExecuteTime": {
     "end_time": "2025-07-24T09:29:59.254870500Z",
     "start_time": "2025-07-24T08:26:38.003585Z"
    }
   },
   "source": [
    "import time\n",
    "import matplotlib.pyplot as plt\n",
    "import numpy as np\n",
    "\n",
    "# timer\n",
    "def measure_time(func, *args, **kwargs):\n",
    "    start = time.time()\n",
    "    result = func(*args, **kwargs)\n",
    "    end = time.time()\n",
    "    return result, end - start\n",
    "\n",
    "# test fonction\n",
    "def test_runtime(parameters):\n",
    "    logN_values = []\n",
    "    times = []\n",
    "\n",
    "    for N, l1, l2 in parameters:\n",
    "        # reset variables global\n",
    "        global variables, variables_Ising, dictionaire_auxiliary_variable, res\n",
    "        variables = []\n",
    "        variables_Ising = []\n",
    "        dictionaire_auxiliary_variable = {}\n",
    "        res = 1\n",
    "\n",
    "        # mesure time\n",
    "        _, elapsed_time = measure_time(factorization, N, l1, l2)\n",
    "        logN_values.append(np.log2(N))\n",
    "        times.append(elapsed_time)\n",
    "        print(f\"N={N}, l1={l1}, l2={l2}: Time = {elapsed_time:.4f} sec\")\n",
    "\n",
    "    return logN_values, times\n",
    "\n",
    "\n",
    "parameters = [(15,2,3), (21,2,3), (35,3,3), ]\n",
    "#  (65,3,4),(143,4,4),(403,4,5),(899,5,50)\n",
    "logN_values, times = test_runtime(parameters)\n",
    "\n",
    "plt.figure(figsize=(10, 6))\n",
    "plt.plot(logN_values, times, 'o-', label='Execution Time')\n",
    "plt.xlabel('log₂(N)')\n",
    "plt.ylabel('Time (seconds)')\n",
    "plt.title('Factorization Runtime vs log₂(N)')\n",
    "plt.grid(True)\n",
    "plt.legend()\n",
    "\n",
    "for i, (N, l1, l2) in enumerate(parameters):\n",
    "    plt.annotate(f'log2N={math.ceil(math.log2(N))}\\nl1={l1}, l2={l2}',\n",
    "                 (logN_values[i], times[i]),\n",
    "                 textcoords=\"offset points\",\n",
    "                 xytext=(10,-15),\n",
    "                 ha='center')\n",
    "\n",
    "plt.tight_layout()\n",
    "plt.show()"
   ],
   "outputs": [
    {
     "name": "stdout",
     "output_type": "stream",
     "text": [
      "15 = (2*p1 + 1) * (2*q1 + 4*q2 + 1)\n",
      "expression de Ising est :  50*p1*q1 - 12*p1*q2 - 128*p1*x1 - 116*p1 + 4*q1*q2 - 128*q1*x1 - 100*q1 + 32*q2*x1 - 24*q2 + 160*x1 + 298\n",
      "((-116, -100, -24, 160), array([[   0,   50,  -12, -128],\n",
      "       [   0,    0,    4, -128],\n",
      "       [   0,    0,    0,   32],\n",
      "       [   0,    0,    0,    0]]))\n",
      "{'p1': np.int8(1), 'x1': np.int8(-1), 'q1': np.int8(-1), 'q2': np.int8(1)}\n",
      "La factorisation de 15 est 3 * 5.\n",
      "True\n",
      "N=15, l1=2, l2=3: Time = 0.0174 sec\n",
      "21 = (2*p1 + 1) * (2*q1 + 4*q2 + 1)\n",
      "expression de Ising est :  38*p1*q1 - 36*p1*q2 - 128*p1*x1 - 164*p1 + 4*q1*q2 - 128*q1*x1 - 124*q1 + 32*q2*x1 - 72*q2 + 160*x1 + 418\n",
      "((-164, -124, -72, 160), array([[   0,   38,  -36, -128],\n",
      "       [   0,    0,    4, -128],\n",
      "       [   0,    0,    0,   32],\n",
      "       [   0,    0,    0,    0]]))\n",
      "{'p1': np.int8(1), 'x1': np.int8(1), 'q1': np.int8(1), 'q2': np.int8(1)}\n",
      "La factorisation de 21 est 3 * 7.\n",
      "True\n",
      "N=21, l1=2, l2=3: Time = 0.0105 sec\n",
      "35 = (2*p1 + 4*p2 + 1) * (2*q1 + 4*q2 + 1)\n",
      "expression de Ising est :  516*p1*p2 + 10*p1*q1 + 420*p1*q2 - 1024*p1*x1 - 128*p1*x2 - 1024*p1*x4 - 1296*p1 + 100*p2*q1 + 376*p2*q2 - 1024*p2*x1 - 384*p2*x3 - 1024*p2*x5 - 1568*p2 + 132*q1*q2 + 32*q1*x1 - 128*q1*x2 - 384*q1*x3 - 256*q1*x6 - 560*q1 + 608*q2*x1 + 32*q2*x2 + 96*q2*x3 - 1024*q2*x4 - 1024*q2*x5 - 256*q2*x6 - 768*q2 - 256*x1*x4 - 256*x1*x5 + 64*x1*x6 + 1216*x1 + 160*x2 + 480*x3 + 768*x4 + 768*x5 + 320*x6 + 6482\n",
      "((-1568, -1296, -768, -560, 160, 320, 480, 768, 768, 1216), array([[    0,   516,    10,   420, -1024,  -128,     0, -1024,     0,\n",
      "            0],\n",
      "       [    0,     0,   100,   376, -1024,     0,  -384,     0, -1024,\n",
      "            0],\n",
      "       [    0,     0,     0,   132,    32,  -128,  -384,     0,     0,\n",
      "         -256],\n",
      "       [    0,     0,     0,     0,   608,    32,    96, -1024, -1024,\n",
      "         -256],\n",
      "       [    0,     0,     0,     0,     0,     0,     0,  -256,  -256,\n",
      "           64],\n",
      "       [    0,     0,     0,     0,     0,     0,     0,     0,     0,\n",
      "            0],\n",
      "       [    0,     0,     0,     0,     0,     0,     0,     0,     0,\n",
      "            0],\n",
      "       [    0,     0,     0,     0,     0,     0,     0,     0,     0,\n",
      "            0],\n",
      "       [    0,     0,     0,     0,     0,     0,     0,     0,     0,\n",
      "            0],\n",
      "       [    0,     0,     0,     0,     0,     0,     0,     0,     0,\n",
      "            0]]))\n",
      "{'p1': np.int8(1), 'x1': np.int8(1), 'x4': np.int8(1), 'p2': np.int8(1), 'x5': np.int8(1), 'q2': np.int8(1), 'x3': np.int8(-1), 'q1': np.int8(-1), 'x6': np.int8(-1), 'x2': np.int8(-1)}\n",
      "La factorisation de 35 est 7 * 5.\n",
      "True\n",
      "N=35, l1=3, l2=3: Time = 0.0763 sec\n"
     ]
    },
    {
     "data": {
      "text/plain": [
       "<Figure size 1000x600 with 1 Axes>"
      ],
      "image/png": "[encoded data removed]"
     },
     "metadata": {},
     "output_type": "display_data"
    }
   ],
   "execution_count": 42
  }
 ],
 "metadata": {
  "kernelspec": {
   "display_name": "Python 3",
   "language": "python",
   "name": "python3"
  },
  "language_info": {
   "codemirror_mode": {
    "name": "ipython",
    "version": 3
   },
   "file_extension": ".py",
   "mimetype": "text/x-python",
   "name": "python",
   "nbconvert_exporter": "python",
   "pygments_lexer": "ipython3",
   "version": "3.13.2"
  }
 },
 "nbformat": 4,
 "nbformat_minor": 5
}
