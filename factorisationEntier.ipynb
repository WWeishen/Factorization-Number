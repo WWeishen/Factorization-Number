{
 "cells": [
  {
   "cell_type": "code",
   "execution_count": 1,
   "id": "fc697531-87c3-4b1c-9b3b-2a27a85c7515",
   "metadata": {},
   "outputs": [],
   "source": [
    "import sympy as sp\n",
    "import numpy as np\n",
    "#import math"
   ]
  },
  {
   "cell_type": "markdown",
   "id": "f1b1ca2b",
   "metadata": {},
   "source": [
    "#### variables globales\n",
    "1. variables : une liste contient des symboles créés; utilisé dans la partie expressions\n",
    "2. dictionaire_auxiliary_variable : des variables créées pour remplacer le produit de deux variables dans p et q\n",
    "3. res : number , pour créer le nom des variables\n",
    "4. variables_Ising : variables dans Hamiltonain expresstion\n",
    "5. dict_variables_binary : map variables dans hamiltonian et variables dans modèle"
   ]
  },
  {
   "cell_type": "code",
   "execution_count": 2,
   "id": "befa202d",
   "metadata": {},
   "outputs": [],
   "source": [
    "variables=[]\n",
    "dictionaire_auxiliary_variable={}\n",
    "res=1\n",
    "variables_Ising =[]\n",
    "dict_variable_model_map={}"
   ]
  },
  {
   "cell_type": "markdown",
   "id": "dff345f4",
   "metadata": {},
   "source": [
    "# Expression"
   ]
  },
  {
   "cell_type": "markdown",
   "id": "74df7cef",
   "metadata": {},
   "source": [
    "## Step 0 : dénifir la fonction f() = (N-pq)²"
   ]
  },
  {
   "cell_type": "code",
   "execution_count": 3,
   "id": "3da50a77-455a-4a61-a49e-0fc77d876a3d",
   "metadata": {},
   "outputs": [],
   "source": [
    "# Créer un symbole à partir d'un nom en string\n",
    "def create_variables(var_name):\n",
    "    if isinstance(var_name, str) :\n",
    "        try:\n",
    "            symbol = sp.symbols(var_name)\n",
    "            globals()[var_name] = symbol\n",
    "            variables.append(symbol)\n",
    "        except ValueError:\n",
    "            print(f\"{var_name} ValueError\")\n",
    "    return symbol"
   ]
  },
  {
   "cell_type": "markdown",
   "id": "7d804f64",
   "metadata": {},
   "source": [
    "### Définir variables pour p et q\n",
    "##### p en binaire peut être représenté comme:\n",
    "##### (pl1-1,..p1,1) = pl1-1 * 2 ** (l1-1) + ... + p1 * 2 **1 +1\n",
    "##### q en binaire peut être représenté comme:\n",
    "##### (ql2-1,..,q1,1) = ql2-1 * 2 ** (l2-1) + ... + q1 * 2 **1 +1"
   ]
  },
  {
   "cell_type": "code",
   "execution_count": 4,
   "id": "f436a576",
   "metadata": {},
   "outputs": [],
   "source": [
    "def set_variable(l1,l2):\n",
    "    #p\n",
    "    expr_p = 1\n",
    "    for i in range(1,l1):\n",
    "        var_name = ('p'+ str(i))\n",
    "        var = create_variables(var_name)\n",
    "        expr_p = 2**i * var + expr_p \n",
    "    #q\n",
    "    expr_q = 1\n",
    "    for i in range(1,l2):\n",
    "        var_name = ('q'+ str(i))\n",
    "        var = create_variables(var_name)\n",
    "        expr_q = 2**i * var + expr_q\n",
    "    return (expr_p,expr_q)"
   ]
  },
  {
   "cell_type": "markdown",
   "id": "e4a54004",
   "metadata": {},
   "source": [
    "### Expression = (N-p*q)²\n",
    "##### Le min de cette expression dans Z est 0, dans ce cas N = p*q."
   ]
  },
  {
   "cell_type": "code",
   "execution_count": 5,
   "id": "e13a11ee",
   "metadata": {},
   "outputs": [],
   "source": [
    "def define_function(N,l1,l2):\n",
    "    expr_pq = 1\n",
    "    pq_variable = set_variable(l1,l2)\n",
    "    for item in pq_variable:\n",
    "        expr_pq = expr_pq * item\n",
    "    return (N - expr_pq)**2\n",
    "\n",
    "#expr = define_function(15,2,3)\n",
    "#expr"
   ]
  },
  {
   "cell_type": "markdown",
   "id": "654fcebe",
   "metadata": {},
   "source": [
    "## Step 1: Réduire la fonction (le power de toutes les variables en 1)\n",
    "##### p_1**2 = p_1, car 1 * 1 = 1 et 0 * 0 = 0"
   ]
  },
  {
   "cell_type": "code",
   "execution_count": 6,
   "id": "bb30b8b4",
   "metadata": {},
   "outputs": [],
   "source": [
    "def reduct_variable_power_term(term):\n",
    "    new_term = 1\n",
    "    for variable,power in term.as_powers_dict().items():\n",
    "        new_term *= variable\n",
    "    return new_term\n",
    "\n",
    "def reduct_variable_power_function(expr):\n",
    "    expanded_expr = sp.expand(expr)\n",
    "    expanded_reducted = 0\n",
    "    for term in expanded_expr.args:\n",
    "        new_term = reduct_variable_power_term(term)\n",
    "        expanded_reducted += new_term\n",
    "    return expanded_reducted\n",
    "\n",
    "#expr_reduct_power = reduct_variable_power_function(expr)\n",
    "#expr_reduct_power\n"
   ]
  },
  {
   "cell_type": "markdown",
   "id": "8f8c7371",
   "metadata": {},
   "source": [
    "## Step 2: Réduire les termes pour que ils ont tous une degrée <= 2"
   ]
  },
  {
   "cell_type": "code",
   "execution_count": 7,
   "id": "046dc39a",
   "metadata": {},
   "outputs": [],
   "source": [
    "# les varaiables sont sort par la lettre puis un nombre: \"x12\" -> \"x\" 12\n",
    "def sort_key(variable):\n",
    "    name = str(variable)\n",
    "    # Split le nom du variable aux deux parties: letter & number \n",
    "    letter = name[0]\n",
    "    number = int(name[1:])\n",
    "    return (letter, number)"
   ]
  },
  {
   "cell_type": "markdown",
   "id": "d9d7b202",
   "metadata": {},
   "source": [
    "### réduction degrée formule"
   ]
  },
  {
   "cell_type": "code",
   "execution_count": 8,
   "id": "ae33fd5d",
   "metadata": {},
   "outputs": [],
   "source": [
    "def rest_term(coef , rest_variable_liste):\n",
    "    new_term = coef\n",
    "    while(len(rest_variable_liste)!=0):\n",
    "        new_term = new_term * rest_variable_liste[0]\n",
    "        rest_variable_liste.pop()\n",
    "    return new_term\n",
    "\n",
    "# si #variables > 2 : diemension -1\n",
    "def reduct_demension_term(coef,variables_liste):    \n",
    "    global res\n",
    "\n",
    "    # sélection les 3 premières variables\n",
    "    [x_1, x_2, x_3] = variables_liste[:3]\n",
    "    \n",
    "    # garder le reste des variables\n",
    "    rest_variables_liste= variables_liste[3:]\n",
    "    rest_expr = rest_term(coef , rest_variables_liste)\n",
    "\n",
    "    # commence la réduction dimension\n",
    "    tup=(x_1,x_2)\n",
    "    #check dict s'il existe déjà une variable auxiliary qui = les deux meme variable\n",
    "    key = next((k for k, v in dictionaire_auxiliary_variable.items() if v == tup), None)\n",
    "    if key==None:#sinon, il faut creer une variable auxiliary\n",
    "        var_name = \"x\" + str(res)\n",
    "        x_4 = create_variables(var_name)\n",
    "        dictionaire_auxiliary_variable[x_4]=(x_1,x_2)\n",
    "        res += 1 \n",
    "    else:\n",
    "        x_4 = key \n",
    "\n",
    "    expr_reduct_formula = x_4 * x_3 + 2 * (x_1 * x_2 - 2 * x_1 * x_4 - 2 * x_2 * x_4 + 3 * x_4)\n",
    "\n",
    "    expr_reduct = rest_expr * expr_reduct_formula\n",
    "    return sp.expand(expr_reduct)\n"
   ]
  },
  {
   "cell_type": "markdown",
   "id": "64471154",
   "metadata": {},
   "source": [
    "### Réduction procède"
   ]
  },
  {
   "cell_type": "code",
   "execution_count": 9,
   "id": "5eafc9fa",
   "metadata": {},
   "outputs": [],
   "source": [
    "def reduct_demension_expression(expr):\n",
    "    new_expr = 0\n",
    "    need_reduction = False\n",
    "\n",
    "    for term in expr.args:\n",
    "        # get coefficant(la constante) et variables(dans une liste)\n",
    "        variables_liste = sorted(term.free_symbols, key=sort_key)\n",
    "        coef = term.as_coeff_mul()[0]\n",
    "\n",
    "        # pour les termes qui ont plus de 2 variables, il faut appliquer la formule de réduction\n",
    "        if len(variables_liste) > 2 :\n",
    "            if len(variables_liste) > 3 :  \n",
    "                need_reduction = True\n",
    "            new_term = reduct_demension_term(coef, variables_liste) \n",
    "            new_expr +=  new_term\n",
    "        else:\n",
    "            # sinon, on ne fait rien et les met directement dans la nouvelle expression\n",
    "            new_expr += term\n",
    "\n",
    "    if need_reduction: # récursive\n",
    "        return reduct_demension_expression(new_expr)\n",
    "    else:\n",
    "        return new_expr\n",
    "\n",
    "#reduct_demension_expr = reduct_demension_expression(expr_reduct_power)\n",
    "#reduct_demension_expr"
   ]
  },
  {
   "cell_type": "markdown",
   "id": "96abd0f9",
   "metadata": {},
   "source": [
    "# Trouver paramètres pour la construction de modèle Ising / Qubo "
   ]
  },
  {
   "cell_type": "markdown",
   "id": "d577b4de",
   "metadata": {},
   "source": [
    "## Step3: Calculer h et J"
   ]
  },
  {
   "cell_type": "markdown",
   "id": "58a38959",
   "metadata": {},
   "source": [
    "1. Ising : transfer de Qubo à Ising \n",
    "\n",
    "De reduct_demension_expr, on utilise les formule comme:\n",
    "\n",
    "    variable = (variable_ising +1)/2"
   ]
  },
  {
   "cell_type": "code",
   "execution_count": 10,
   "id": "2c3e0633",
   "metadata": {},
   "outputs": [],
   "source": [
    "# créer variable à partir des variables pour modèle Ising\n",
    "def create_variable_Ising(var_name):\n",
    "    if isinstance(var_name, str) :\n",
    "        try:\n",
    "            symbol = sp.symbols(var_name)\n",
    "            globals()[var_name] = symbol\n",
    "            variables_Ising.append(symbol)\n",
    "        except ValueError:\n",
    "            print(f\"{var_name} ValueError\")\n",
    "    return symbol\n",
    "\n",
    "\n",
    "# définir H\n",
    "def transfers_qubo2Ising(reduct_demension_expr):\n",
    "    n = len(variables)\n",
    "    H = 0\n",
    "\n",
    "    # Pour chaque variable, on crée une variables d'Ising avec le nom \"si\"\n",
    "    for i in range(1,n+1):\n",
    "        var_name = ('s'+ str(i))\n",
    "        var_model = create_variable_Ising(var_name)\n",
    "        dict_variable_model_map[variables[i-1]] = var_model\n",
    "\n",
    "    # variable = (variable_ising +1)/2\n",
    "    # subs_relations = [(variables[i], (variables_Ising[i] + 1) / 2) for i in range(n)]\n",
    "    subs_relations = [(variables[i], (dict_variable_model_map[variables[i]] + 1) / 2) for i in range(n)]\n",
    "    new_expr = reduct_demension_expr.subs(subs_relations)\n",
    "    new_expr = sp.expand(new_expr)\n",
    "    return new_expr\n",
    "\n",
    "#expr_ising = transfers_qubo2Ising(reduct_demension_expr)\n",
    "#expr_ising\n"
   ]
  },
  {
   "cell_type": "code",
   "execution_count": 11,
   "id": "cbdaa2bc",
   "metadata": {},
   "outputs": [],
   "source": [
    "def get_key_by_value(dictionary, value):\n",
    "    for key, val in dictionary.items():\n",
    "        if val == value:\n",
    "            return key\n",
    "    return None"
   ]
  },
  {
   "cell_type": "code",
   "execution_count": 12,
   "id": "2079ac07",
   "metadata": {},
   "outputs": [],
   "source": [
    "def build_h(expr):\n",
    "    #len de h est le nombre de variables \n",
    "    h=()\n",
    "    for term in expr.args:\n",
    "        if len(term.free_symbols) == 1:\n",
    "            h = h + (term.as_coeff_mul()[0]/-2 ,)\n",
    "    return h\n",
    "\n",
    "\n",
    "def build_J_h(expr):\n",
    "\n",
    "    terms = expr.args \n",
    "\n",
    "    # 1-variable : reconstruire une expression pour calculer le coef des termes\n",
    "    new_expr = 0\n",
    "\n",
    "    matrix_J = np.zeros((len(variables), len(variables)), dtype=int)\n",
    "\n",
    "    for term in terms:\n",
    "        if len(term.free_symbols) == 2:\n",
    "            # 2-variables : créer la matrice J\n",
    "            list_variable_term = sorted(term.free_symbols, key=sort_key)\n",
    "            coef = term.as_coeff_mul()[0]\n",
    "            i = variables.index(get_key_by_value(dict_variable_model_map, list_variable_term[0]))\n",
    "            j = variables.index(get_key_by_value(dict_variable_model_map, list_variable_term[1]))\n",
    "            \n",
    "            matrix_J[i][j] = coef/2\n",
    "        else:\n",
    "            # 1-variable\n",
    "            new_expr += term\n",
    "\n",
    "    tuple_h = build_h(new_expr)\n",
    "    return tuple_h,matrix_J"
   ]
  },
  {
   "cell_type": "code",
   "execution_count": 13,
   "id": "297f4439",
   "metadata": {},
   "outputs": [],
   "source": [
    "def build_h_Q(expr):\n",
    "    #len de h est le nombre de variables \n",
    "    h=()\n",
    "    for term in expr.args:\n",
    "        if len(term.free_symbols) == 1:\n",
    "            h = h + (term.as_coeff_mul()[0],)\n",
    "    return h\n",
    "\n",
    "\n",
    "def build_J_h_Q(expr):\n",
    "\n",
    "    terms = expr.args \n",
    "\n",
    "    # 1-variable : reconstruire une expression pour calculer le coef des termes\n",
    "    new_expr = 0\n",
    "\n",
    "    matrix_J = np.zeros((len(variables), len(variables)), dtype=int)\n",
    "\n",
    "    for term in terms:\n",
    "        if len(term.free_symbols) == 2:\n",
    "            # 2-variables : créer la matrice J\n",
    "            list_variable_term = sorted(term.free_symbols, key=sort_key)\n",
    "            coef = term.as_coeff_mul()[0]     \n",
    "            i = variables.index(list_variable_term[0])\n",
    "            j = variables.index(list_variable_term[1])\n",
    "            \n",
    "            matrix_J[i][j] = coef\n",
    "        else:\n",
    "            # 1-variable\n",
    "            new_expr += term\n",
    "\n",
    "    tuple_h = build_h_Q(new_expr)\n",
    "    return tuple_h,matrix_J"
   ]
  },
  {
   "cell_type": "markdown",
   "id": "a0df320d",
   "metadata": {},
   "source": [
    "sum up fonction"
   ]
  },
  {
   "cell_type": "code",
   "execution_count": 14,
   "id": "e9b403c1",
   "metadata": {},
   "outputs": [],
   "source": [
    "# obtient l'expression finale\n",
    "def get_reduct_expression(N,l1,l2):\n",
    "    expr = define_function(N,l1,l2)\n",
    "    expr_reduct_power = reduct_variable_power_function(expr)\n",
    "    reduct_demension_expr = reduct_demension_expression(expr_reduct_power)\n",
    "    return reduct_demension_expr\n",
    "\n",
    "\n",
    "#1. Ising\n",
    "def get_h_and_J_Ising(N,l1,l2):\n",
    "    reduct_demension_expr = get_reduct_expression(N,l1,l2)\n",
    "    ising_expr = transfers_qubo2Ising(reduct_demension_expr) #trans\n",
    "    tuple_h,matrix_J = build_J_h(ising_expr)\n",
    "    return tuple_h,matrix_J\n",
    "\n",
    "#2. Qubo\n",
    "def get_h_and_J_Qubo(N,l1,l2):\n",
    "    reduct_demension_expr = get_reduct_expression(N,l1,l2)\n",
    "    tuple_h,matrix_J = build_J_h_Q(reduct_demension_expr)\n",
    "    return tuple_h,matrix_J"
   ]
  },
  {
   "cell_type": "markdown",
   "id": "581f19cd",
   "metadata": {},
   "source": [
    "# Modèle Ising/Qubo "
   ]
  },
  {
   "cell_type": "code",
   "execution_count": 15,
   "id": "ef74242e",
   "metadata": {},
   "outputs": [],
   "source": [
    "#import qubo modèle huristique\n",
    "from pyqubo import Spin,Binary\n",
    "from pyqubo import solve_qubo\n",
    "import neal"
   ]
  },
  {
   "cell_type": "markdown",
   "id": "6a87ce8d",
   "metadata": {},
   "source": [
    "## Step4: Définir la formule Hamiltonian"
   ]
  },
  {
   "cell_type": "markdown",
   "id": "07ebd831",
   "metadata": {},
   "source": [
    "1. Ising"
   ]
  },
  {
   "cell_type": "code",
   "execution_count": 16,
   "id": "45709319",
   "metadata": {},
   "outputs": [],
   "source": [
    "# définir formule H\n",
    "def H_pyqubo_ising(N,l1,l2):\n",
    "    (h,J)=get_h_and_J_Ising(N,l1,l2)\n",
    "    print(\"****************\")\n",
    "    print(f\"N est : {N}\")\n",
    "    print(f\"h est : {h}\")\n",
    "    print(f\"J est : {J}\")\n",
    "\n",
    "    hamiltonian_expr = 0\n",
    "    n=len(h)\n",
    "    spins=[]\n",
    "\n",
    "    for i in range(1,n+1):\n",
    "        var_name = ('s'+ str(i))\n",
    "        spin = Spin(var_name)\n",
    "        spins.append(spin)\n",
    "        dict_variable_model_map[variables[i-1]] = var_name\n",
    "\n",
    "    for i in range(n):\n",
    "        for j in range(n):\n",
    "            hamiltonian_expr -= J[i, j] * spins[i] * spins[j]\n",
    "        hamiltonian_expr -= h[i] * spins[i]\n",
    "    return hamiltonian_expr"
   ]
  },
  {
   "cell_type": "markdown",
   "id": "3b982f99",
   "metadata": {},
   "source": [
    "2. Qubo"
   ]
  },
  {
   "cell_type": "code",
   "execution_count": 17,
   "id": "a966f1bb",
   "metadata": {},
   "outputs": [],
   "source": [
    "# not clean yet\n",
    "\n",
    "def H_pyqubo_qubo(N,l1,l2):\n",
    "    (h,J)=get_h_and_J_Qubo(N,l1,l2)\n",
    "    print(\"****************\")\n",
    "    print(f\"N est : {N}\")\n",
    "    print(f\"h est : {h}\")\n",
    "    print(f\"J est : {J}\")\n",
    "\n",
    "    hamiltonian_expr = 0\n",
    "    n=len(h)\n",
    "    binarys=[]\n",
    "\n",
    "    for i in range(1,n+1):\n",
    "        var_name = ('s'+ str(i))\n",
    "        binary = Binary(var_name)\n",
    "        binarys.append(binary)\n",
    "        dict_variable_model_map[variables[i-1]] = var_name\n",
    "\n",
    "    for i in range(n):\n",
    "        for j in range(n):\n",
    "            hamiltonian_expr -= J[i, j] * binarys[i] * binarys[j]\n",
    "        hamiltonian_expr -= h[i] * binarys[i]\n",
    "    return hamiltonian_expr\n"
   ]
  },
  {
   "cell_type": "markdown",
   "id": "b42a06be",
   "metadata": {},
   "source": [
    "### Compiler pour obtenir modèle"
   ]
  },
  {
   "cell_type": "markdown",
   "id": "2816515c",
   "metadata": {},
   "source": [
    "1. qubo, offset = model.to_qubo() to get QUBO coefficients\n",
    "2. linear, quadratic, offset = model.to_ising() to get Ising coefficients\n",
    "\n",
    "Comme on voudrais obtenir des valeurs \\in {0,1}, on utilise to_qubo()"
   ]
  },
  {
   "cell_type": "code",
   "execution_count": 18,
   "id": "d273694c",
   "metadata": {},
   "outputs": [],
   "source": [
    "def get_solution(hamiltonian_expr):\n",
    "    model = hamiltonian_expr.compile()\n",
    "    bqm = model.to_bqm()\n",
    "    sa = neal.SimulatedAnnealingSampler()\n",
    "    sampleset = sa.sample(bqm, num_reads=1000)\n",
    "    decoded_samples = model.decode_sampleset(sampleset)\n",
    "    best_sample = min(decoded_samples, key=lambda x: x.energy)\n",
    "    return best_sample.sample"
   ]
  },
  {
   "cell_type": "code",
   "execution_count": 19,
   "id": "1f60f7e9",
   "metadata": {},
   "outputs": [],
   "source": [
    "# not clean\n",
    "def model_qubo(hamiltonian_expr):\n",
    "    #Compile the Hamiltonian to get a model\n",
    "    model = hamiltonian_expr.compile()  \n",
    "\n",
    "    qubo, offset = model.to_qubo()\n",
    "    solution = solve_qubo(qubo, num_reads=1000)\n",
    "    return solution"
   ]
  },
  {
   "cell_type": "code",
   "execution_count": 20,
   "id": "5f45eeb5",
   "metadata": {},
   "outputs": [],
   "source": [
    "# not clean\n",
    "def model_ising(hamiltonian_expr):\n",
    "    # Compile the Hamiltonian to get a model\n",
    "    model = hamiltonian_expr.compile()  \n",
    "    \n",
    "    bqm = model.to_bqm()\n",
    "    sa = neal.SimulatedAnnealingSampler()\n",
    "    sampleset = sa.sample(bqm, num_reads=1000)\n",
    "    decoded_samples = model.decode_sampleset(sampleset)\n",
    "    best_sample = min(decoded_samples, key=lambda x: x.energy)\n",
    "    return best_sample.sample"
   ]
  },
  {
   "cell_type": "markdown",
   "id": "a8a5e307",
   "metadata": {},
   "source": [
    "# Call function"
   ]
  },
  {
   "cell_type": "code",
   "execution_count": 21,
   "id": "03da796e",
   "metadata": {},
   "outputs": [],
   "source": [
    "def print_p_q(solution):\n",
    "    p_bits = []\n",
    "    q_bits = []\n",
    "\n",
    "    print(solution)\n",
    "    \n",
    "    for var in variables:\n",
    "        if var.name.startswith('p'):\n",
    "            p_bits.append(solution[dict_variable_model_map[var]])\n",
    "        elif var.name.startswith('q'):\n",
    "            q_bits.append(solution[dict_variable_model_map[var]])\n",
    "\n",
    "    p_bits.append(1)\n",
    "    q_bits.append(1) \n",
    "\n",
    "    p_bin_str = ''.join(map(str, p_bits))\n",
    "    q_bin_str = ''.join(map(str, q_bits))\n",
    "\n",
    "    p_dec = int(p_bin_str, 2)\n",
    "    q_dec = int(q_bin_str, 2)\n",
    "\n",
    "    return (p_dec , q_dec)\n",
    "\n",
    "\n",
    "def factorization_I(N,l1,l2):\n",
    "    global variables, variables_Ising, dictionaire_auxiliary_variable, res\n",
    "    variables = []\n",
    "    variables_Ising = []\n",
    "    dictionaire_auxiliary_variable = {}\n",
    "    res = 1\n",
    "\n",
    "    hamiltonian_expr_i = H_pyqubo_ising(N,l1,l2)\n",
    "    solution = get_solution(hamiltonian_expr_i)\n",
    "    (p,q) = print_p_q(solution)\n",
    "    print(f\"La factorisation de {N} est {p} * {q}.\")\n",
    "    return p*q == N\n",
    "\n",
    "def factorization_Q(N,l1,l2):\n",
    "    global variables, variables_Ising, dictionaire_auxiliary_variable, res\n",
    "    variables = []\n",
    "    variables_Ising = []\n",
    "    dictionaire_auxiliary_variable = {}\n",
    "    res = 1\n",
    "\n",
    "    hamiltonian_expr_q = H_pyqubo_qubo(N,l1,l2)\n",
    "    solution = get_solution(hamiltonian_expr_q)\n",
    "    (p,q) = print_p_q(solution)\n",
    "    print(f\"La factorisation de {N} est {p} * {q}.\")\n",
    "    return p*q == N\n"
   ]
  },
  {
   "cell_type": "code",
   "execution_count": 22,
   "id": "89e50022",
   "metadata": {},
   "outputs": [
    {
     "name": "stdout",
     "output_type": "stream",
     "text": [
      "****************\n",
      "N est : 15\n",
      "h est : (58, 50, 12, -80)\n",
      "J est : [[  0  25  -6 -64]\n",
      " [  0   0   2 -64]\n",
      " [  0   0   0  16]\n",
      " [  0   0   0   0]]\n",
      "{'s1': 1, 's2': 1, 's3': 0, 's4': 0}\n",
      "La factorisation de 15 est 3 * 5.\n",
      "****************\n",
      "N est : 15\n",
      "h est : (-96, -52, -52, 768)\n",
      "J est : [[   0  200  -48 -512]\n",
      " [   0    0   16 -512]\n",
      " [   0    0    0  128]\n",
      " [   0    0    0    0]]\n",
      "{'s1': 0, 's2': 0, 's3': 1, 's4': 1}\n",
      "La factorisation de 15 est 1 * 3.\n"
     ]
    },
    {
     "data": {
      "text/plain": [
       "False"
      ]
     },
     "execution_count": 22,
     "metadata": {},
     "output_type": "execute_result"
    }
   ],
   "source": [
    "N=15\n",
    "l1=2\n",
    "l2=3\n",
    "factorization_I(N,l1,l2)\n",
    "factorization_Q(N,l1,l2)"
   ]
  },
  {
   "cell_type": "code",
   "execution_count": 23,
   "id": "201c2eaf",
   "metadata": {},
   "outputs": [
    {
     "name": "stdout",
     "output_type": "stream",
     "text": [
      "****************\n",
      "N est : 21\n",
      "h est : (82, 62, 36, -80)\n",
      "J est : [[  0  19 -18 -64]\n",
      " [  0   0   2 -64]\n",
      " [  0   0   0  16]\n",
      " [  0   0   0   0]]\n"
     ]
    },
    {
     "name": "stdout",
     "output_type": "stream",
     "text": [
      "{'s1': 1, 's2': 1, 's3': 1, 's4': 0}\n",
      "La factorisation de 21 est 3 * 7.\n",
      "****************\n",
      "N est : 21\n",
      "h est : (-144, -76, -76, 768)\n",
      "J est : [[   0  152 -144 -512]\n",
      " [   0    0   16 -512]\n",
      " [   0    0    0  128]\n",
      " [   0    0    0    0]]\n",
      "{'s1': 0, 's2': 0, 's3': 1, 's4': 1}\n",
      "La factorisation de 21 est 1 * 3.\n"
     ]
    },
    {
     "data": {
      "text/plain": [
       "False"
      ]
     },
     "execution_count": 23,
     "metadata": {},
     "output_type": "execute_result"
    }
   ],
   "source": [
    "N=21\n",
    "l1=2\n",
    "l2=3\n",
    "factorization_I(N,l1,l2)\n",
    "factorization_Q(N,l1,l2)"
   ]
  },
  {
   "cell_type": "code",
   "execution_count": 24,
   "id": "cdebbd4a",
   "metadata": {},
   "outputs": [
    {
     "name": "stdout",
     "output_type": "stream",
     "text": [
      "****************\n",
      "N est : 33\n",
      "h est : (374, 204, 146, 56, -240, -320)\n",
      "J est : [[   0   71   86  -52 -192 -256]\n",
      " [   0    0    2    4 -192    0]\n",
      " [   0    0    0    8   16 -256]\n",
      " [   0    0    0    0   32   64]\n",
      " [   0    0    0    0    0    0]\n",
      " [   0    0    0    0    0    0]]\n",
      "{'s1': 1, 's2': 1, 's3': 1, 's4': 0, 's5': 0, 's6': 0}\n",
      "La factorisation de 33 est 3 * 13.\n",
      "****************\n",
      "N est : 33\n",
      "h est : (-448, -240, -124, -124, 2304, 3072)\n",
      "J est : [[    0   568   688  -416 -1536 -2048]\n",
      " [    0     0    16    32 -1536     0]\n",
      " [    0     0     0    64   128 -2048]\n",
      " [    0     0     0     0   256   512]\n",
      " [    0     0     0     0     0     0]\n",
      " [    0     0     0     0     0     0]]\n",
      "{'s1': 0, 's2': 0, 's3': 0, 's4': 1, 's5': 1, 's6': 1}\n",
      "La factorisation de 33 est 1 * 3.\n"
     ]
    },
    {
     "data": {
      "text/plain": [
       "False"
      ]
     },
     "execution_count": 24,
     "metadata": {},
     "output_type": "execute_result"
    }
   ],
   "source": [
    "N=33\n",
    "l1=2\n",
    "l2=4\n",
    "factorization_I(N,l1,l2)\n",
    "factorization_Q(N,l1,l2)"
   ]
  },
  {
   "cell_type": "code",
   "execution_count": 25,
   "id": "3a63b08a",
   "metadata": {},
   "outputs": [
    {
     "name": "stdout",
     "output_type": "stream",
     "text": [
      "****************\n",
      "N est : 35\n",
      "h est : (640, 640, 280, 272, 136, -80, -160, -240, -608, -640)\n",
      "J est : [[   0  258    5 -302 -512  -64    0  512    0    0]\n",
      " [   0    0   50 -324 -512    0 -192    0  512    0]\n",
      " [   0    0    0   66   16  -64 -192    0    0 -128]\n",
      " [   0    0    0    0  304   16   48  512  512 -128]\n",
      " [   0    0    0    0    0    0    0 -128 -128   32]\n",
      " [   0    0    0    0    0    0    0    0    0    0]\n",
      " [   0    0    0    0    0    0    0    0    0    0]\n",
      " [   0    0    0    0    0    0    0    0    0    0]\n",
      " [   0    0    0    0    0    0    0    0    0    0]\n",
      " [   0    0    0    0    0    0    0    0    0    0]]\n",
      "{'s1': 1, 's3': 1, 's10': 0, 's2': 1, 's4': 0, 's5': 0, 's6': 0, 's7': 0, 's8': 0, 's9': 0}\n",
      "La factorisation de 35 est 7 * 5.\n",
      "****************\n",
      "N est : 35\n",
      "h est : (-6144, -6144, -256, -256, -132, -132, 768, 1536, 2304, 6144)\n",
      "J est : [[    0  2064    40 -2416 -4096  -512     0  4096     0     0]\n",
      " [    0     0   400 -2592 -4096     0 -1536     0  4096     0]\n",
      " [    0     0     0   528   128  -512 -1536     0     0 -1024]\n",
      " [    0     0     0     0  2432   128   384  4096  4096 -1024]\n",
      " [    0     0     0     0     0     0     0 -1024 -1024   256]\n",
      " [    0     0     0     0     0     0     0     0     0     0]\n",
      " [    0     0     0     0     0     0     0     0     0     0]\n",
      " [    0     0     0     0     0     0     0     0     0     0]\n",
      " [    0     0     0     0     0     0     0     0     0     0]\n",
      " [    0     0     0     0     0     0     0     0     0     0]]\n",
      "{'s1': 0, 's3': 0, 's10': 1, 's2': 0, 's4': 1, 's5': 1, 's6': 0, 's7': 1, 's8': 1, 's9': 1}\n",
      "La factorisation de 35 est 1 * 3.\n"
     ]
    },
    {
     "data": {
      "text/plain": [
       "False"
      ]
     },
     "execution_count": 25,
     "metadata": {},
     "output_type": "execute_result"
    }
   ],
   "source": [
    "N=35\n",
    "l1=3\n",
    "l2=3\n",
    "factorization_I(N,l1,l2)\n",
    "factorization_Q(N,l1,l2)"
   ]
  },
  {
   "cell_type": "code",
   "execution_count": 26,
   "id": "0f174bf4",
   "metadata": {},
   "outputs": [
    {
     "name": "stdout",
     "output_type": "stream",
     "text": [
      "****************\n",
      "N est : 39\n",
      "h est : (422, 228, 158, 104, -240, -320)\n",
      "J est : [[   0   65   74  -76 -192 -256]\n",
      " [   0    0    2    4 -192    0]\n",
      " [   0    0    0    8   16 -256]\n",
      " [   0    0    0    0   32   64]\n",
      " [   0    0    0    0    0    0]\n",
      " [   0    0    0    0    0    0]]\n",
      "{'s1': 1, 's2': 1, 's3': 1, 's4': 0, 's5': 0, 's6': 0}\n",
      "La factorisation de 39 est 3 * 13.\n",
      "****************\n",
      "N est : 39\n",
      "h est : (-544, -288, -148, -148, 2304, 3072)\n",
      "J est : [[    0   520   592  -608 -1536 -2048]\n",
      " [    0     0    16    32 -1536     0]\n",
      " [    0     0     0    64   128 -2048]\n",
      " [    0     0     0     0   256   512]\n",
      " [    0     0     0     0     0     0]\n",
      " [    0     0     0     0     0     0]]\n",
      "{'s1': 0, 's2': 0, 's3': 0, 's4': 1, 's5': 1, 's6': 1}\n",
      "La factorisation de 39 est 1 * 3.\n"
     ]
    },
    {
     "data": {
      "text/plain": [
       "False"
      ]
     },
     "execution_count": 26,
     "metadata": {},
     "output_type": "execute_result"
    }
   ],
   "source": [
    "N=39\n",
    "l1=2\n",
    "l2=4\n",
    "factorization_I(N,l1,l2)\n",
    "factorization_Q(N,l1,l2)"
   ]
  }
 ],
 "metadata": {
  "kernelspec": {
   "display_name": "Python 3",
   "language": "python",
   "name": "python3"
  },
  "language_info": {
   "codemirror_mode": {
    "name": "ipython",
    "version": 3
   },
   "file_extension": ".py",
   "mimetype": "text/x-python",
   "name": "python",
   "nbconvert_exporter": "python",
   "pygments_lexer": "ipython3",
   "version": "3.13.2"
  }
 },
 "nbformat": 4,
 "nbformat_minor": 5
}
