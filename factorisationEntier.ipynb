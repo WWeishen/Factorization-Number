{
 "cells": [
  {
   "cell_type": "code",
   "execution_count": 2,
   "id": "fc697531-87c3-4b1c-9b3b-2a27a85c7515",
   "metadata": {},
   "outputs": [],
   "source": [
    "import sympy as sp\n",
    "import numpy as np\n",
    "import math"
   ]
  },
  {
   "cell_type": "markdown",
   "id": "f1b1ca2b",
   "metadata": {},
   "source": [
    "#### variables globales\n",
    "1. variables : une liste contient des symboles créés; utilisé dans la partie expressions\n",
    "2. \n",
    "3."
   ]
  },
  {
   "cell_type": "markdown",
   "id": "74df7cef",
   "metadata": {},
   "source": [
    "## Step 0 : dénifir la fonction f() = (N-pq)²"
   ]
  },
  {
   "cell_type": "code",
   "execution_count": 3,
   "id": "3da50a77-455a-4a61-a49e-0fc77d876a3d",
   "metadata": {},
   "outputs": [],
   "source": [
    "# Créer un symbole à partir d'un nom en string\n",
    "def create_variables(var_name):\n",
    "    if isinstance(var_name, str) :\n",
    "        try:\n",
    "            symbol = sp.symbols(var_name)\n",
    "            globals()[var_name] = symbol\n",
    "            variables.append(symbol)\n",
    "        except ValueError:\n",
    "            print(f\"{var_name} ValueError\")\n",
    "    return symbol"
   ]
  },
  {
   "cell_type": "markdown",
   "id": "7d804f64",
   "metadata": {},
   "source": [
    "### Définir variables pour p et q\n",
    "##### p en binaire peut être représenté comme:\n",
    "##### (pl1-1,..p1,1) = pl1-1 * 2 ** (l1-1) + ... + p1 * 2 **1 +1\n",
    "##### q en binaire peut être représenté comme:\n",
    "##### (ql2-1,..,q1,1) = ql2-1 * 2 ** (l2-1) + ... + q1 * 2 **1 +1"
   ]
  },
  {
   "cell_type": "code",
   "execution_count": 4,
   "id": "f436a576",
   "metadata": {},
   "outputs": [],
   "source": [
    "def set_variable(l1,l2):\n",
    "    #p\n",
    "    expr_p = 1\n",
    "    for i in range(1,l1):\n",
    "        var_name = ('p'+ str(i))\n",
    "        var = create_variables(var_name)\n",
    "        expr_p = 2**i * var + expr_p \n",
    "    #q\n",
    "    expr_q = 1\n",
    "    for i in range(1,l2):\n",
    "        var_name = ('q'+ str(i))\n",
    "        var = create_variables(var_name)\n",
    "        expr_q = 2**i * var + expr_q\n",
    "    return (expr_p,expr_q)"
   ]
  },
  {
   "cell_type": "markdown",
   "id": "e4a54004",
   "metadata": {},
   "source": [
    "### Fonction f = (N-p*q)²\n",
    "##### Le min de cette fonction dans Z est(N-p*q)²=0, dans ce cas N = p*q."
   ]
  },
  {
   "cell_type": "code",
   "execution_count": 5,
   "id": "e13a11ee",
   "metadata": {},
   "outputs": [],
   "source": [
    "def define_function(N,l1,l2):\n",
    "    expr_pq = 1\n",
    "    pq_variable = set_variable(l1,l2)\n",
    "    for item in pq_variable:\n",
    "        expr_pq = expr_pq * item\n",
    "    return (N - expr_pq)**2\n",
    "\n",
    "#expr = define_function(15)\n",
    "#expr\n"
   ]
  },
  {
   "cell_type": "markdown",
   "id": "654fcebe",
   "metadata": {},
   "source": [
    "### Step 1: Réduire la fonction en mettant le power des variables en 1\n",
    "##### Par exemple de p_1**2 à p_1, car 1 * 1 = 1 & 0 * 0 = 0"
   ]
  },
  {
   "cell_type": "code",
   "execution_count": 6,
   "id": "bb30b8b4",
   "metadata": {},
   "outputs": [],
   "source": [
    "def reduct_variable_power_term(term):\n",
    "    new_term = 1\n",
    "    for variable,power in term.as_powers_dict().items():\n",
    "        new_term *= variable\n",
    "    return new_term\n",
    "\n",
    "def reduct_variable_power_function(expr):\n",
    "    expanded_expr = sp.expand(expr)\n",
    "    expanded_reducted = 0\n",
    "    for term in expanded_expr.args:\n",
    "        new_term = reduct_variable_power_term(term)\n",
    "        expanded_reducted += new_term\n",
    "    return expanded_reducted\n",
    "\n",
    "#expr_reduct_power = reduct_variable_power_function(expr)\n",
    "#expr_reduct_power\n"
   ]
  },
  {
   "cell_type": "markdown",
   "id": "8f8c7371",
   "metadata": {},
   "source": [
    "## Step 2: Réduire les termes qui ont une degrée max est 2."
   ]
  },
  {
   "cell_type": "code",
   "execution_count": 7,
   "id": "046dc39a",
   "metadata": {},
   "outputs": [],
   "source": [
    "# les varaiables sont sort par la lettre puis un nombre: \"x12\" -> \"x\" 12\n",
    "def sort_key(variable):\n",
    "    name = str(variable)\n",
    "    # Split le nom du variable aux deux parties: letter & number \n",
    "    letter = name[0]\n",
    "    number = int(name[1:])\n",
    "    return (letter, number)\n"
   ]
  },
  {
   "cell_type": "markdown",
   "id": "d9d7b202",
   "metadata": {},
   "source": [
    "### réduction degrée formule"
   ]
  },
  {
   "cell_type": "code",
   "execution_count": 8,
   "id": "ae33fd5d",
   "metadata": {},
   "outputs": [],
   "source": [
    "\n",
    "def rest_term(coef , rest_variable_liste):\n",
    "    new_term = coef\n",
    "    while(len(rest_variable_liste)!=0):\n",
    "        new_term = new_term * rest_variable_liste[0]\n",
    "        rest_variable_liste.pop()\n",
    "    return new_term\n",
    "\n",
    "\n",
    "# si #variables > 2 : diemension -1\n",
    "def reduct_demension_term(coef,variables_liste):    \n",
    "    global res\n",
    "\n",
    "    # sélection les 3 premières variables\n",
    "    [x_1, x_2, x_3] = variables_liste[:3]\n",
    "    \n",
    "    # garder le reste des variables\n",
    "    rest_variables_liste= variables_liste[3:]\n",
    "    rest_expr = rest_term(coef , rest_variables_liste)\n",
    "\n",
    "    # commence la réduction dimension\n",
    "    tup=(x_1,x_2)\n",
    "    #check dict s'il existe déjà une variable auxiliary qui = les deux meme variable\n",
    "    key = next((k for k, v in dictionaire_auxiliary_variable.items() if v == tup), None)\n",
    "    if key==None:#sinon, il faut creer une variable auxiliary\n",
    "        var_name = \"x\" + str(res)\n",
    "        x_4 = create_variables(var_name)\n",
    "        dictionaire_auxiliary_variable[x_4]=(x_1,x_2)\n",
    "        res += 1 \n",
    "    else:\n",
    "        x_4 = key \n",
    "\n",
    "    expr_reduct_formula = x_4 * x_3 + 2 * (x_1 * x_2 - 2 * x_1 * x_4 - 2 * x_2 * x_4 + 3 * x_4)\n",
    "\n",
    "    expr_reduct = rest_expr * expr_reduct_formula\n",
    "    return sp.expand(expr_reduct)\n"
   ]
  },
  {
   "cell_type": "markdown",
   "id": "64471154",
   "metadata": {},
   "source": [
    "### Réduction procède"
   ]
  },
  {
   "cell_type": "code",
   "execution_count": 9,
   "id": "5eafc9fa",
   "metadata": {},
   "outputs": [],
   "source": [
    "def reduct_demension_function(expr):\n",
    "    new_expr = 0\n",
    "    need_reduction = False\n",
    "\n",
    "    for term in expr.args:\n",
    "        # get coefficant(la constante) et variables(dans une liste)\n",
    "        variables_liste = sorted(term.free_symbols, key=sort_key)\n",
    "        coef = term.as_coeff_mul()[0]\n",
    "\n",
    "        # pour les termes qui ont plus de 2 variables, il faut appliquer la formule de réduction\n",
    "        if len(variables_liste) > 2 :\n",
    "            if len(variables_liste) > 3 :  \n",
    "                need_reduction = True\n",
    "            new_term = reduct_demension_term(coef, variables_liste) \n",
    "            new_expr +=  new_term\n",
    "        else:\n",
    "            # sinon, on ne fait rien et les met directement dans la nouvelle expression\n",
    "            new_expr += term\n",
    "\n",
    "    if need_reduction: # récursive\n",
    "        return reduct_demension_function(new_expr)\n",
    "    else:\n",
    "        return new_expr\n",
    "\n",
    "#reduct_demension_expr = reduct_demension_function(expr_reduct_power)\n",
    "#reduct_demension_expr"
   ]
  },
  {
   "cell_type": "markdown",
   "id": "d577b4de",
   "metadata": {},
   "source": [
    "## Step3: Calculer h et J"
   ]
  },
  {
   "cell_type": "markdown",
   "id": "58a38959",
   "metadata": {},
   "source": [
    "1. Ising : transfer de Qubo à Ising \n",
    "###### De reduct_demension_expr, on utilise les formule comme:\n",
    "###### a * x_i = a * (s_i + 1) / 2 \n",
    "###### (a * x_i * x_j) = a * (s_i + 1) * (s_j + 1) / 4"
   ]
  },
  {
   "cell_type": "code",
   "execution_count": 10,
   "id": "2c3e0633",
   "metadata": {},
   "outputs": [],
   "source": [
    "# créer variable à partir des variables dans modèle d'Ising\n",
    "\n",
    "def create_variable_Ising(var_name):\n",
    "    if isinstance(var_name, str) :\n",
    "        try:\n",
    "            symbol = sp.symbols(var_name)\n",
    "            globals()[var_name] = symbol\n",
    "            variables_Ising.append(symbol)\n",
    "        except ValueError:\n",
    "            print(f\"{var_name} ValueError\")\n",
    "    return symbol\n",
    "\n",
    "\n",
    "# définir H\n",
    "def transfers_qubo2Ising(reduct_demension_expr):\n",
    "\n",
    "    n = len(variables)\n",
    "    H = 0\n",
    "    for i in range(1,n+1):\n",
    "        var_name = ('s'+ str(i))\n",
    "        create_variable_Ising(var_name)\n",
    "\n",
    "    # variable = (variable_ising +1)/2\n",
    "    subs_relations = [(variables[i], (variables_Ising[i] + 1) / 2) for i in range(n)]\n",
    "    new_expr = reduct_demension_expr.subs(subs_relations)\n",
    "    new_expr = sp.expand(new_expr)\n",
    "    return new_expr\n"
   ]
  },
  {
   "cell_type": "code",
   "execution_count": 11,
   "id": "e2a3e7ff",
   "metadata": {},
   "outputs": [],
   "source": [
    "def build_h_Ising(expr):\n",
    "    #len de h est le nombre de variables \n",
    "    h=()\n",
    "    for term in expr.args:\n",
    "        if len(term.free_symbols) == 1:\n",
    "            h = h + (term.as_coeff_mul()[0]/-2 ,)\n",
    "    return h\n",
    "\n",
    "def build_J_h_Ising(tranfrers_expr):    \n",
    "    terms = tranfrers_expr.args \n",
    "    # Update le coef des termes avec seulement des termes avec dimension 1.\n",
    "    new_expr = 0\n",
    "    # Matrice contient les coef des termes avec dimension 2. \n",
    "    matrix_J = np.zeros((len(variables_Ising), len(variables_Ising)), dtype=int)\n",
    "    for term in terms:\n",
    "        if len(term.free_symbols) == 2:\n",
    "            # 2-variables : créer la matrice J\n",
    "            list_variable_term = sorted(term.free_symbols, key=sort_key)\n",
    "            coef = term.as_coeff_mul()[0]#/4\n",
    "            i = variables_Ising.index(list_variable_term[0])\n",
    "            j = variables_Ising.index(list_variable_term[1])\n",
    "            matrix_J[i][j] = coef/2\n",
    "        else:\n",
    "            # 1-variable : reconstruire une expression pour calculer le coef des termes\n",
    "            new_expr += term\n",
    "    tuple_h = build_h_Ising(new_expr)\n",
    "\n",
    "    return tuple_h,matrix_J"
   ]
  },
  {
   "cell_type": "markdown",
   "id": "7fdb1548",
   "metadata": {},
   "source": [
    "2. Qubo : on utilise directement l'expression reduct_demension_expr pour calculer h et J"
   ]
  },
  {
   "cell_type": "code",
   "execution_count": 12,
   "id": "06c42d89",
   "metadata": {},
   "outputs": [],
   "source": [
    "def build_h_Qubo(expr):\n",
    "    #len de h est le nombre de variables \n",
    "    h=()\n",
    "    for term in expr.args:\n",
    "        if len(term.free_symbols) == 1:\n",
    "            h += (term.as_coeff_mul()[0],)\n",
    "    return h\n",
    "\n",
    "def build_J_h_Qubo(reduct_demension_expr):\n",
    "    terms = reduct_demension_expr.args \n",
    "    new_expr = 0\n",
    "    matrix_J = np.zeros((len(variables), len(variables)), dtype=int)\n",
    "    for term in terms:\n",
    "        if len(term.free_symbols) == 2:\n",
    "            # 2-variables : créer la matrice J\n",
    "            list_variable_term = sorted(term.free_symbols, key=sort_key)\n",
    "            coef = term.as_coeff_mul()[0]\n",
    "            i = variables.index(list_variable_term[0])\n",
    "            j = variables.index(list_variable_term[1])\n",
    "            matrix_J[i][j] = coef\n",
    "        else:\n",
    "            # 1-variable : reconstruire une expression pour calculer le coef des termes\n",
    "            new_expr += term\n",
    "    tuple_h = build_h_Qubo(new_expr)\n",
    "    return tuple_h,matrix_J"
   ]
  },
  {
   "cell_type": "markdown",
   "id": "a0df320d",
   "metadata": {},
   "source": [
    "sum up fonction"
   ]
  },
  {
   "cell_type": "code",
   "execution_count": 13,
   "id": "e9b403c1",
   "metadata": {},
   "outputs": [],
   "source": [
    "def get_reduct_expression(N,l1,l2):\n",
    "    expr = define_function(N,l1,l2)\n",
    "    expr_reduct_power = reduct_variable_power_function(expr)\n",
    "    reduct_demension_expr = reduct_demension_function(expr_reduct_power)\n",
    "    return reduct_demension_expr\n",
    "\n",
    "def get_h_and_J_Ising(N,l1,l2):\n",
    "    reduct_demension_expr = get_reduct_expression(N,l1,l2)\n",
    "    ising_expr = transfers_qubo2Ising(reduct_demension_expr)\n",
    "    tuple_h,matrix_J = build_J_h_Ising(ising_expr)\n",
    "    return tuple_h,matrix_J\n",
    "\n",
    "def get_h_and_J_Qubo(N,l1,l2):\n",
    "    reduct_demension_expr = get_reduct_expression(N,l1,l2)\n",
    "    tuple_h,matrix_J = build_J_h_Qubo(reduct_demension_expr)\n",
    "    return tuple_h,matrix_J"
   ]
  },
  {
   "cell_type": "markdown",
   "id": "aeb18be1",
   "metadata": {},
   "source": [
    "## Step4: Solver pour trouver la solution"
   ]
  },
  {
   "cell_type": "code",
   "execution_count": 14,
   "id": "ef74242e",
   "metadata": {},
   "outputs": [],
   "source": [
    "#import qubo modèle huristique\n",
    "from pyqubo import Spin,Binary\n",
    "from pyqubo import solve_qubo\n",
    "import neal"
   ]
  },
  {
   "cell_type": "markdown",
   "id": "6a87ce8d",
   "metadata": {},
   "source": [
    "### Définir la formule Hamiltonian"
   ]
  },
  {
   "cell_type": "markdown",
   "id": "07ebd831",
   "metadata": {},
   "source": [
    "1. Ising"
   ]
  },
  {
   "cell_type": "code",
   "execution_count": 15,
   "id": "45709319",
   "metadata": {},
   "outputs": [],
   "source": [
    "# définir formule H\n",
    "def H_pyqubo_ising(N,l1,l2):\n",
    "    (h,J)=get_h_and_J_Ising(N,l1,l2)\n",
    "    print(\"****************\")\n",
    "    print(f\"N est : {N}\")\n",
    "    print(f\"h est : {h}\")\n",
    "    print(f\"J est : {J}\")\n",
    "\n",
    "    hamiltonian_expr = 0\n",
    "    n=len(h)\n",
    "\n",
    "    # définir spin; nombre de spin == nombre de variables\n",
    "    spins = [Spin(f's{i + 1}') for i in range(n)]\n",
    "    for i in range(n):\n",
    "        for j in range(n):\n",
    "            hamiltonian_expr -= J[i, j] * spins[i] * spins[j]\n",
    "        hamiltonian_expr -= h[i] * spins[i]\n",
    "    return hamiltonian_expr\n"
   ]
  },
  {
   "cell_type": "markdown",
   "id": "3b982f99",
   "metadata": {},
   "source": [
    "2. Qubo"
   ]
  },
  {
   "cell_type": "code",
   "execution_count": 16,
   "id": "a966f1bb",
   "metadata": {},
   "outputs": [],
   "source": [
    "def H_pyqubo_qubo(N,l1,l2):\n",
    "    (h,J)=get_h_and_J_Qubo(N,l1,l2)\n",
    "    print(\"****************\")\n",
    "    print(f\"N est : {N}\")\n",
    "    print(f\"h est : {h}\")\n",
    "    print(f\"J est : {J}\")\n",
    "\n",
    "    hamiltonian_expr = 0\n",
    "    n=len(h)\n",
    "\n",
    "    # définir qubo binaire; nombre qubo binaire == nombre de variables\n",
    "    #binary = [Binary(f'b{i + 1}') for i in range(n)]\n",
    "\n",
    "    binary = []\n",
    "    #dict_variable_binary={}\n",
    "    num = 1\n",
    "\n",
    "    for i in variables:\n",
    "        bin = Binary(f'b{num}')\n",
    "        binary.append(bin)\n",
    "        dict_variable_binary[i]= bin\n",
    "        num += 1\n",
    "\n",
    "    for i in range(n):\n",
    "        for j in range(n):\n",
    "            hamiltonian_expr -= J[i, j] * binary[i] * binary[j]\n",
    "        hamiltonian_expr -= h[i] * binary[i]\n",
    "\n",
    "    return hamiltonian_expr"
   ]
  },
  {
   "cell_type": "markdown",
   "id": "b42a06be",
   "metadata": {},
   "source": [
    "### Compiler pour obtenir modèle"
   ]
  },
  {
   "cell_type": "code",
   "execution_count": 17,
   "id": "1f60f7e9",
   "metadata": {},
   "outputs": [],
   "source": [
    "def model_qubo(hamiltonian_expr):\n",
    "    model = hamiltonian_expr.compile()  \n",
    "    qubo, offset = model.to_qubo()\n",
    "    solution = solve_qubo(qubo, num_reads=10)\n",
    "    return solution"
   ]
  },
  {
   "cell_type": "code",
   "execution_count": 18,
   "id": "5f45eeb5",
   "metadata": {},
   "outputs": [],
   "source": [
    "def model_qubo1(hamiltonian_expr):\n",
    "    model = hamiltonian_expr.compile()  \n",
    "    bqm = model.to_bqm()\n",
    "    sa = neal.SimulatedAnnealingSampler()\n",
    "    sampleset = sa.sample(bqm, num_reads=10)\n",
    "    decoded_samples = model.decode_sampleset(sampleset)\n",
    "    best_sample = min(decoded_samples, key=lambda x: x.energy)\n",
    "    return best_sample.sample"
   ]
  },
  {
   "cell_type": "markdown",
   "id": "a8a5e307",
   "metadata": {},
   "source": [
    "# Call function"
   ]
  },
  {
   "cell_type": "code",
   "execution_count": 19,
   "id": "03da796e",
   "metadata": {},
   "outputs": [],
   "source": [
    "def factorization_I(N,l1,l2):\n",
    "    hamiltonian_expr_i = H_pyqubo_ising(N,l1,l2)\n",
    "    solution = model_qubo1(hamiltonian_expr_i)\n",
    "    print(solution)\n",
    "    print_p_q_I(solution,N)\n",
    "    return solution\n",
    "\n",
    "def print_p_q_I(solution,N):\n",
    "    p_bits = []\n",
    "    q_bits = []\n",
    "\n",
    "    for varIsing, var in zip(variables_Ising, variables):\n",
    "        if var.name.startswith('p'):\n",
    "            p_bits.append(solution[varIsing.name])\n",
    "        elif var.name.startswith('q'):\n",
    "            q_bits.append(solution[varIsing.name])\n",
    "\n",
    "    p_bits.append(1)\n",
    "    q_bits.append(1) \n",
    "\n",
    "    p_bin_str = ''.join(map(str, p_bits))\n",
    "    q_bin_str = ''.join(map(str, q_bits))\n",
    "\n",
    "    p_dec = int(p_bin_str, 2)\n",
    "    q_dec = int(q_bin_str, 2)\n",
    "\n",
    "    print(f\"La factorisation de {N} est {p_dec} * {q_dec}.\")"
   ]
  },
  {
   "cell_type": "code",
   "execution_count": 24,
   "id": "f992df80",
   "metadata": {},
   "outputs": [],
   "source": [
    "def factorization_Q(N,l1,l2):\n",
    "    hamiltonian_expr_q = H_pyqubo_qubo(N,l1,l2)\n",
    "    solution = model_qubo1(hamiltonian_expr_q)\n",
    "    return solution\n",
    "\n",
    "def print_p_q_Q(solution,N):\n",
    "    p_bits = []\n",
    "    q_bits = []\n",
    "\n",
    "    #for varIsing, var in zip(variables, variables):\n",
    "    #    if var.name.startswith('p'):\n",
    "    #        p_bits.append(solution[varIsing.name])\n",
    "    #    elif var.name.startswith('q'):\n",
    "    #        q_bits.append(solution[varIsing.name])\n",
    "\n",
    "    p_bits.append(1)\n",
    "    q_bits.append(1) \n",
    "\n",
    "    p_bin_str = ''.join(map(str, p_bits))\n",
    "    q_bin_str = ''.join(map(str, q_bits))\n",
    "\n",
    "    p_dec = int(p_bin_str, 2)\n",
    "    q_dec = int(q_bin_str, 2)\n",
    "\n",
    "    print(f\"La factorisation de {N} est {p_dec} * {q_dec}.\")\n",
    "\n",
    "    return p_dec * q_dec == N"
   ]
  },
  {
   "cell_type": "code",
   "execution_count": 25,
   "id": "89e50022",
   "metadata": {},
   "outputs": [
    {
     "name": "stdout",
     "output_type": "stream",
     "text": [
      "****************\n",
      "N est : 25\n",
      "h est : (640, 640, 240, 192, 96, -80, -160, -240, -608, -720)\n",
      "J est : [[   0  258   15 -282 -512  -64    0  512    0    0]\n",
      " [   0    0   70 -284 -512    0 -192    0  512    0]\n",
      " [   0    0    0   66   16  -64 -192    0    0 -128]\n",
      " [   0    0    0    0  304   16   48  512  512 -128]\n",
      " [   0    0    0    0    0    0    0 -128 -128   32]\n",
      " [   0    0    0    0    0    0    0    0    0    0]\n",
      " [   0    0    0    0    0    0    0    0    0    0]\n",
      " [   0    0    0    0    0    0    0    0    0    0]\n",
      " [   0    0    0    0    0    0    0    0    0    0]\n",
      " [   0    0    0    0    0    0    0    0    0    0]]\n",
      "{'s1': 1, 's3': 1, 's10': 0, 's2': 1, 's4': 0, 's5': 0, 's6': 0, 's7': 0, 's8': 0, 's9': 0}\n",
      "La factorisation de 25 est 7 * 5.\n",
      "****************\n",
      "N est : 25\n",
      "h est : (-6144, -6144, -176, -176, -92, -92, 768, 1536, 2304, 6144)\n",
      "J est : [[    0  2064   120 -2256 -4096  -512     0  4096     0     0     0     0\n",
      "      0     0]\n",
      " [    0     0   560 -2272 -4096     0 -1536     0  4096     0     0     0\n",
      "      0     0]\n",
      " [    0     0     0   528   128  -512 -1536     0     0 -1024     0     0\n",
      "      0     0]\n",
      " [    0     0     0     0  2432   128   384  4096  4096 -1024     0     0\n",
      "      0     0]\n",
      " [    0     0     0     0     0     0     0 -1024 -1024   256     0     0\n",
      "      0     0]\n",
      " [    0     0     0     0     0     0     0     0     0     0     0     0\n",
      "      0     0]\n",
      " [    0     0     0     0     0     0     0     0     0     0     0     0\n",
      "      0     0]\n",
      " [    0     0     0     0     0     0     0     0     0     0     0     0\n",
      "      0     0]\n",
      " [    0     0     0     0     0     0     0     0     0     0     0     0\n",
      "      0     0]\n",
      " [    0     0     0     0     0     0     0     0     0     0     0     0\n",
      "      0     0]\n",
      " [    0     0     0     0     0     0     0     0     0     0     0     0\n",
      "      0     0]\n",
      " [    0     0     0     0     0     0     0     0     0     0     0     0\n",
      "      0     0]\n",
      " [    0     0     0     0     0     0     0     0     0     0     0     0\n",
      "      0     0]\n",
      " [    0     0     0     0     0     0     0     0     0     0     0     0\n",
      "      0     0]]\n"
     ]
    }
   ],
   "source": [
    "variables=[]\n",
    "dictionaire_auxiliary_variable={}\n",
    "res=1\n",
    "variables_Ising =[]\n",
    "dict_variable_binary={}\n",
    "#variales_Ising: une liste global contient des string qui sont le nom des variables dans qubo, sert à compter le nombre de variables dans qubo\n",
    "N=25\n",
    "l1=3\n",
    "l2=3\n",
    "solution = factorization_I(N,l1,l2)\n",
    "\n",
    "solution1 = factorization_Q(N,l1,l2)"
   ]
  },
  {
   "cell_type": "code",
   "execution_count": 22,
   "id": "0749868b",
   "metadata": {},
   "outputs": [
    {
     "name": "stdout",
     "output_type": "stream",
     "text": [
      "****************\n",
      "N est : 35\n",
      "h est : (640, 640, 280, 272, 136, -80, -160, -240, -608, -640)\n",
      "J est : [[   0  258    5 -302 -512  -64    0  512    0    0]\n",
      " [   0    0   50 -324 -512    0 -192    0  512    0]\n",
      " [   0    0    0   66   16  -64 -192    0    0 -128]\n",
      " [   0    0    0    0  304   16   48  512  512 -128]\n",
      " [   0    0    0    0    0    0    0 -128 -128   32]\n",
      " [   0    0    0    0    0    0    0    0    0    0]\n",
      " [   0    0    0    0    0    0    0    0    0    0]\n",
      " [   0    0    0    0    0    0    0    0    0    0]\n",
      " [   0    0    0    0    0    0    0    0    0    0]\n",
      " [   0    0    0    0    0    0    0    0    0    0]]\n",
      "{'s1': 1, 's3': 1, 's10': 0, 's2': 1, 's4': 0, 's5': 0, 's6': 0, 's7': 0, 's8': 0, 's9': 0}\n",
      "La factorisation de 35 est 7 * 5.\n"
     ]
    }
   ],
   "source": [
    "variables=[]\n",
    "dictionaire_auxiliary_variable={}\n",
    "res=1\n",
    "variables_Ising =[]\n",
    "dict_variable_binary={}\n",
    "#variales_Ising: une liste global contient des string qui sont le nom des variables dans qubo, sert à compter le nombre de variables dans qubo\n",
    "N=35\n",
    "l1=3\n",
    "l2=3\n",
    "solution = factorization_I(N,l1,l2)"
   ]
  },
  {
   "cell_type": "markdown",
   "id": "8f208d55",
   "metadata": {},
   "source": [
    "## Solver2 DKenefake/Hercules\n"
   ]
  },
  {
   "cell_type": "code",
   "execution_count": null,
   "id": "b5bc033d",
   "metadata": {},
   "outputs": [],
   "source": []
  },
  {
   "cell_type": "code",
   "execution_count": 23,
   "id": "ee1c4c9e",
   "metadata": {},
   "outputs": [
    {
     "ename": "ModuleNotFoundError",
     "evalue": "No module named 'hercules'",
     "output_type": "error",
     "traceback": [
      "\u001b[31m---------------------------------------------------------------------------\u001b[39m",
      "\u001b[31mModuleNotFoundError\u001b[39m                       Traceback (most recent call last)",
      "\u001b[36mCell\u001b[39m\u001b[36m \u001b[39m\u001b[32mIn[23]\u001b[39m\u001b[32m, line 1\u001b[39m\n\u001b[32m----> \u001b[39m\u001b[32m1\u001b[39m \u001b[38;5;28;01mimport\u001b[39;00m\u001b[38;5;250m \u001b[39m\u001b[34;01mhercules\u001b[39;00m\n\u001b[32m      2\u001b[39m \u001b[38;5;28;01mimport\u001b[39;00m\u001b[38;5;250m \u001b[39m\u001b[34;01mrandom\u001b[39;00m\n\u001b[32m      3\u001b[39m \u001b[38;5;28;01mimport\u001b[39;00m\u001b[38;5;250m \u001b[39m\u001b[34;01mtime\u001b[39;00m\n",
      "\u001b[31mModuleNotFoundError\u001b[39m: No module named 'hercules'"
     ]
    }
   ],
   "source": [
    "import hercules\n",
    "import random\n",
    "import time\n",
    "\n",
    "# set a random seed\n",
    "random.seed(time.time())\n",
    "\n",
    "# read in the qubo problem\n",
    "problem = hercules.read_qubo('test_large.qubo')\n",
    "num_x = problem[-1]\n",
    "\n",
    "# create a random initial point\n",
    "x_0 = [random.randint(0, 1) for i in range(num_x)]\n",
    "\n",
    "# start timing\n",
    "start = time.time()\n",
    "\n",
    "# solve the QUBO problem via the mixed local search heuristic with, initial point x_0, for 50 iterations\n",
    "x_soln, obj = hercules.mls(problem, x_0, 50)\n",
    "\n",
    "# stop timing\n",
    "end = time.time()\n",
    "\n",
    "# print the objective value of the solution\n",
    "print('Solution: ', obj, ' in ', end - start, ' seconds')\n"
   ]
  }
 ],
 "metadata": {
  "kernelspec": {
   "display_name": "Python 3",
   "language": "python",
   "name": "python3"
  },
  "language_info": {
   "codemirror_mode": {
    "name": "ipython",
    "version": 3
   },
   "file_extension": ".py",
   "mimetype": "text/x-python",
   "name": "python",
   "nbconvert_exporter": "python",
   "pygments_lexer": "ipython3",
   "version": "3.13.2"
  }
 },
 "nbformat": 4,
 "nbformat_minor": 5
}
