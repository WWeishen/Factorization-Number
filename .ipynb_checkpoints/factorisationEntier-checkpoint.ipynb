{
 "cells": [
  {
   "cell_type": "code",
   "execution_count": 2,
   "id": "fc697531-87c3-4b1c-9b3b-2a27a85c7515",
   "metadata": {},
   "outputs": [],
   "source": [
    "import sympy as sp\n",
    "# Une liste pour stocker les nom des variables\n",
    "variables_name=[]"
   ]
  },
  {
   "cell_type": "markdown",
   "id": "a733b336-202a-4207-a352-55122a5ff553",
   "metadata": {},
   "source": [
    "### On prend N=143 comme exemple. On utilise la formule qui represnet la relation entre les variable en utilisant la méthode de Table dde Multp."
   ]
  },
  {
   "cell_type": "code",
   "execution_count": 3,
   "id": "3da50a77-455a-4a61-a49e-0fc77d876a3d",
   "metadata": {},
   "outputs": [],
   "source": [
    "#créer une liste pour stocker symbols des variables\n",
    "def create_variables(*variable_list):\n",
    "    for var_name in variable_list:\n",
    "        if isinstance(var_name, str):\n",
    "            try:\n",
    "                variables_name.append(var_name)\n",
    "                symbol = sp.symbols(var_name)\n",
    "                globals()[var_name] = symbol\n",
    "            except ValueError:\n",
    "                print(f\"{var_name} invalid\")\n",
    "        else:\n",
    "            print(f\"{var_name} is an invalide string\")\n",
    "    return variables_name"
   ]
  },
  {
   "cell_type": "code",
   "execution_count": 4,
   "id": "95162aa4-346a-415c-8dd9-118cacfbb184",
   "metadata": {},
   "outputs": [],
   "source": [
    "# définir l'expression\n",
    "create_variables('q_1','q_2','p_1','p_2','c_1','c_2','c_3','c_4')\n",
    "expr = (2*p_2+ 2*p_1*q_1+ 2*q_2- 8*c_2- 4*c_1+ p_1+ q_1- 3)**2 + (2*q_1 + 2*p_2*q_2+ 2*p_1+ 2*c_2- 8*c_4- 4*c_3+ p_2*q_1+ p_1*q_2+ c_1+ 1)**2 + (q_2+ p_2+ c_3+ 2*c_4- 2)**2"
   ]
  },
  {
   "cell_type": "code",
   "execution_count": 5,
   "id": "f617b01b-6440-4c48-9cff-27dc65e3b100",
   "metadata": {},
   "outputs": [
    {
     "data": {
      "text/latex": [
       "$\\displaystyle \\left(c_{3} + 2 c_{4} + p_{2} + q_{2} - 2\\right)^{2} + \\left(- 4 c_{1} - 8 c_{2} + 2 p_{1} q_{1} + p_{1} + 2 p_{2} + q_{1} + 2 q_{2} - 3\\right)^{2} + \\left(c_{1} + 2 c_{2} - 4 c_{3} - 8 c_{4} + p_{1} q_{2} + 2 p_{1} + p_{2} q_{1} + 2 p_{2} q_{2} + 2 q_{1} + 1\\right)^{2}$"
      ],
      "text/plain": [
       "(c_3 + 2*c_4 + p_2 + q_2 - 2)**2 + (-4*c_1 - 8*c_2 + 2*p_1*q_1 + p_1 + 2*p_2 + q_1 + 2*q_2 - 3)**2 + (c_1 + 2*c_2 - 4*c_3 - 8*c_4 + p_1*q_2 + 2*p_1 + p_2*q_1 + 2*p_2*q_2 + 2*q_1 + 1)**2"
      ]
     },
     "execution_count": 5,
     "metadata": {},
     "output_type": "execute_result"
    }
   ],
   "source": [
    "expr"
   ]
  },
  {
   "cell_type": "code",
   "execution_count": 7,
   "id": "dc414231-7e3d-4bd4-b831-73f138907f72",
   "metadata": {},
   "outputs": [
    {
     "name": "stdout",
     "output_type": "stream",
     "text": [
      "c_2*p_1*q_1, -32\n",
      "c_4*p_2*q_2, -32\n",
      "c_1*p_1*q_1, -16\n",
      "c_3*p_2*q_2, -16\n",
      "c_4*p_1*q_2, -16\n",
      "c_4*p_2*q_1, -16\n",
      "c_3*p_1*q_2, -8\n",
      "c_3*p_2*q_1, -8\n",
      "c_1*p_1*q_2, 2\n",
      "c_1*p_2*q_1, 2\n",
      "c_1*p_2*q_2, 4\n",
      "c_2*p_1*q_2, 4\n",
      "c_2*p_2*q_1, 4\n",
      "p_1*p_2*q_2**2, 4\n",
      "p_2**2*q_1*q_2, 4\n",
      "c_2*p_2*q_2, 8\n",
      "p_1*p_2*q_2, 8\n",
      "p_2*q_1*q_2, 8\n",
      "p_1*p_2*q_1, 12\n",
      "p_1*q_1*q_2, 12\n"
     ]
    }
   ],
   "source": [
    "# expand\n",
    "expanded_expr = sp.expand(expr)\n",
    "\n",
    "ternary_terms = {}\n",
    "# parcourir chaque terme\n",
    "for term in expanded_expr.args:\n",
    "    # coeffcient du terme\n",
    "    coeff = term.as_coeff_mul()[0]\n",
    "    # variable du tarme\n",
    "    variables = term.as_coeff_mul()[1]\n",
    "    # nombre des variables du terme\n",
    "    num_vars = len(set(sp.flatten(variables)))\n",
    "    if num_vars == 3:\n",
    "        # mettre le terme dans un dictionnaire s'il contient 3 variables\n",
    "        ternary_terms[sp.Mul(*variables)] = coeff\n",
    "\n",
    "for term, coeff in ternary_terms.items():\n",
    "    print(f\"{term}, {coeff}\")"
   ]
  },
  {
   "cell_type": "code",
   "execution_count": null,
   "id": "c4e8f2dd-49d6-4e25-a98b-532d1e6fa7b5",
   "metadata": {},
   "outputs": [],
   "source": [
    "def substitution_terme(ternary_terms):\n",
    "    for term, coeff in ternary_terms.items():\n",
    "        if coeff > 0:\n",
    "            new_term = substitution_positive_terme(term)\n",
    "        else:\n",
    "            new_term = substitution_negative_terme(term)\n",
    "    return new_term"
   ]
  },
  {
   "cell_type": "code",
   "execution_count": 28,
   "id": "037462f1-4241-410a-8d5b-fb0014f8c8a2",
   "metadata": {},
   "outputs": [
    {
     "data": {
      "text/plain": [
       "[p_1, q_1, c_2]"
      ]
     },
     "execution_count": 28,
     "metadata": {},
     "output_type": "execute_result"
    }
   ],
   "source": [
    "first_item = list(ternary_terms.items())[0]\n",
    "\n",
    "list_from_set = list(first_item[0].free_symbols)\n",
    "list_from_set"
   ]
  },
  {
   "cell_type": "code",
   "execution_count": 30,
   "id": "1a520e8f-9dfe-4e6d-9b1a-053d1bf66888",
   "metadata": {},
   "outputs": [
    {
     "data": {
      "text/latex": [
       "$\\displaystyle p_{1} + 1$"
      ],
      "text/plain": [
       "p_1 + 1"
      ]
     },
     "execution_count": 30,
     "metadata": {},
     "output_type": "execute_result"
    }
   ],
   "source": [
    "list_from_set[0]+1"
   ]
  },
  {
   "cell_type": "code",
   "execution_count": 24,
   "id": "a24f20b2-2858-4001-9225-74ed568004ff",
   "metadata": {},
   "outputs": [],
   "source": [
    "# créer new varibale\n",
    "res=1\n",
    "def create_new_variable():\n",
    "    var_name = 'x_' + str(res)\n",
    "    if var_name not in variables_name:\n",
    "        variables_name.append(var_name)\n",
    "        symbol = sp.symbols(var_name)\n",
    "        globals()[var_name] = symbol\n",
    "        res=res+1\n",
    "    return symbol    "
   ]
  },
  {
   "cell_type": "code",
   "execution_count": 21,
   "id": "845d3238-8ce9-421e-801f-86ee0205edd5",
   "metadata": {},
   "outputs": [
    {
     "name": "stdout",
     "output_type": "stream",
     "text": [
      "p_1\n",
      "q_1\n",
      "c_2\n"
     ]
    }
   ],
   "source": [
    "symbols_in_term = first_item[0].free_symbols\n",
    "type(symbols_in_term)\n",
    "for ele in symbols_in_term:\n",
    "    print(ele)"
   ]
  },
  {
   "cell_type": "code",
   "execution_count": null,
   "id": "5176033d-9c91-4db1-8d82-3cdadb9c3894",
   "metadata": {},
   "outputs": [],
   "source": []
  },
  {
   "cell_type": "code",
   "execution_count": null,
   "id": "de80bea2-0fd0-4b86-b1f1-6cb817e21926",
   "metadata": {},
   "outputs": [],
   "source": [
    "first_item\n",
    "def substitution_positive_terme(item):\n",
    "    symbols_in_term = item.free_symbols\n",
    "    new_var = create_new_variable()\n",
    "\n",
    "def substitution_negative_terme(item):\n",
    "    # on suppose que new_var = item \n",
    "    symbols_in_term = item.free_symbols\n",
    "    new_var = create_new_variable()\n",
    "    \n",
    "    "
   ]
  },
  {
   "cell_type": "code",
   "execution_count": null,
   "id": "bdeff39d-6e0c-4b41-b52b-c3531f294892",
   "metadata": {},
   "outputs": [],
   "source": []
  },
  {
   "cell_type": "code",
   "execution_count": null,
   "id": "804f2148-bd65-47d8-b462-d200fb80d4a3",
   "metadata": {},
   "outputs": [],
   "source": []
  },
  {
   "cell_type": "code",
   "execution_count": 10,
   "id": "9c6dccf4-476c-4fdf-abf4-06e117b71d88",
   "metadata": {},
   "outputs": [
    {
     "name": "stdout",
     "output_type": "stream",
     "text": [
      "yes\n"
     ]
    }
   ],
   "source": [
    "if 'p' not in variables_name:\n",
    "    print(\"yes\")\n",
    "else:\n",
    "    print(\"no\")"
   ]
  },
  {
   "cell_type": "code",
   "execution_count": null,
   "id": "8e0f48bc-e937-4edd-9212-397c9c12eb7d",
   "metadata": {},
   "outputs": [],
   "source": []
  },
  {
   "cell_type": "code",
   "execution_count": null,
   "id": "bd6c68e2-2ee6-46b3-9186-b3d40edb82b1",
   "metadata": {},
   "outputs": [],
   "source": []
  },
  {
   "cell_type": "code",
   "execution_count": null,
   "id": "71bcd81f-a623-4362-8d4e-811e8b985913",
   "metadata": {},
   "outputs": [],
   "source": []
  },
  {
   "cell_type": "code",
   "execution_count": null,
   "id": "a687a211-02e2-48bd-885a-f7c917a88c80",
   "metadata": {},
   "outputs": [],
   "source": []
  },
  {
   "cell_type": "code",
   "execution_count": null,
   "id": "3c8b6f9c-9d19-4bc2-a527-440697c934ac",
   "metadata": {},
   "outputs": [],
   "source": []
  },
  {
   "cell_type": "code",
   "execution_count": null,
   "id": "8bb0d2d3-d304-4e43-85ee-9e7350acfc8d",
   "metadata": {},
   "outputs": [],
   "source": []
  },
  {
   "cell_type": "code",
   "execution_count": null,
   "id": "702bac85-3c32-4287-b692-cabd9faa58fa",
   "metadata": {},
   "outputs": [],
   "source": [
    "#Formule de réduction de dimensionnalité\n",
    "x_1 = sp.symbols('x_1')\n",
    "x_2 = sp.symbols('x_2')\n",
    "x_3 = sp.symbols('x_3')\n",
    "x_4 = sp.symbols('x_4')\n",
    "\n",
    "substitution_formula = x_4 * x_3 + x_1 * x_2 - x_1 * x_4 - x_2 * x_4 + x_4\n"
   ]
  },
  {
   "cell_type": "code",
   "execution_count": null,
   "id": "a1830d8c-cc39-42a1-a9de-21de083ef10d",
   "metadata": {},
   "outputs": [],
   "source": []
  }
 ],
 "metadata": {
  "kernelspec": {
   "display_name": "Python 3 (ipykernel)",
   "language": "python",
   "name": "python3"
  },
  "language_info": {
   "codemirror_mode": {
    "name": "ipython",
    "version": 3
   },
   "file_extension": ".py",
   "mimetype": "text/x-python",
   "name": "python",
   "nbconvert_exporter": "python",
   "pygments_lexer": "ipython3",
   "version": "3.13.2"
  }
 },
 "nbformat": 4,
 "nbformat_minor": 5
}
