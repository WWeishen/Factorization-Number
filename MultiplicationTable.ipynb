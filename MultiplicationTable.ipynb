{
 "cells": [
  {
   "metadata": {},
   "cell_type": "markdown",
   "source": "# Modified Multiplication Table Method",
   "id": "e1457085d4f0182b"
  },
  {
   "metadata": {},
   "cell_type": "markdown",
   "source": [
    "## Definir fonction\n",
    "\n",
    "fonction objective"
   ],
   "id": "db89e8a88bb886fa"
  },
  {
   "metadata": {
    "ExecuteTime": {
     "end_time": "2025-07-01T13:05:59.266025Z",
     "start_time": "2025-07-01T13:05:59.235258Z"
    }
   },
   "cell_type": "code",
   "source": [
    "import sympy as sp\n",
    "import numpy as np\n",
    "import math\n",
    "\n",
    "from networkx.classes import is_empty\n",
    "from numpy.matlib import empty\n",
    "\n",
    "\n",
    "global variables\n",
    "variables=[]\n",
    "dictionaire_auxiliary_variable={}\n",
    "res=1\n",
    "\n",
    "def variable_name(n,prefix):  # np est len de p en binaire, nq est len de q en binaire\n",
    "    var_name_list = []\n",
    "    for i in range(n):\n",
    "        var_name_list.append(prefix+str(i+1))\n",
    "    return var_name_list\n",
    "\n",
    "def create_variables(var_name):\n",
    "    if isinstance(var_name, str) :\n",
    "        try:\n",
    "            symbol = sp.symbols(var_name)\n",
    "            globals()[var_name] = symbol\n",
    "            variables.append(symbol)\n",
    "        except ValueError:\n",
    "            print(f\"{var_name} ValueError\")\n",
    "    return symbol\n",
    "\n",
    "def create_varibales_from_list(list):\n",
    "    for element in list:\n",
    "        create_variables(element)\n"
   ],
   "id": "2519e775a7950ebb",
   "outputs": [],
   "execution_count": 40
  },
  {
   "metadata": {
    "ExecuteTime": {
     "end_time": "2025-07-01T13:05:59.390010Z",
     "start_time": "2025-07-01T13:05:59.367741Z"
    }
   },
   "cell_type": "code",
   "source": [
    "p_varname = variable_name(4,'p')\n",
    "q_varname = variable_name(4,'q')\n",
    "c_varname = variable_name(4,'c')\n",
    "\n",
    "create_varibales_from_list(p_varname)\n",
    "create_varibales_from_list(q_varname)\n",
    "create_varibales_from_list(c_varname)"
   ],
   "id": "bd8c72ca7f084c40",
   "outputs": [],
   "execution_count": 41
  },
  {
   "metadata": {
    "ExecuteTime": {
     "end_time": "2025-07-01T13:05:59.573768Z",
     "start_time": "2025-07-01T13:05:59.515230Z"
    }
   },
   "cell_type": "code",
   "source": [
    "expr = (\n",
    "    (2 * sp.Symbol('p2') + 2 * sp.Symbol('p1') * sp.Symbol('q1') + 2 * sp.Symbol('q2')\n",
    "     - 8 * sp.Symbol('c2') - 4 * sp.Symbol('c1') + sp.Symbol('p1') + sp.Symbol('q1') - 3)**2\n",
    "    + (2 * sp.Symbol('q1') + 2 * sp.Symbol('p2') * sp.Symbol('q2') + 2 * sp.Symbol('p1')\n",
    "       + 2 * sp.Symbol('c2') - 8 * sp.Symbol('c4') - 4 * sp.Symbol('c3')\n",
    "       + sp.Symbol('p2') * sp.Symbol('q1') + sp.Symbol('p1') * sp.Symbol('q2')\n",
    "       + sp.Symbol('c1') + 1)**2\n",
    "    + (sp.Symbol('q2') + sp.Symbol('p2') + sp.Symbol('c3') + 2 * sp.Symbol('c4') - 2)**2\n",
    ")\n",
    "\n",
    "expr"
   ],
   "id": "d36a15b6d3090338",
   "outputs": [
    {
     "data": {
      "text/plain": [
       "(c3 + 2*c4 + p2 + q2 - 2)**2 + (-4*c1 - 8*c2 + 2*p1*q1 + p1 + 2*p2 + q1 + 2*q2 - 3)**2 + (c1 + 2*c2 - 4*c3 - 8*c4 + p1*q2 + 2*p1 + p2*q1 + 2*p2*q2 + 2*q1 + 1)**2"
      ],
      "text/latex": "$\\displaystyle \\left(c_{3} + 2 c_{4} + p_{2} + q_{2} - 2\\right)^{2} + \\left(- 4 c_{1} - 8 c_{2} + 2 p_{1} q_{1} + p_{1} + 2 p_{2} + q_{1} + 2 q_{2} - 3\\right)^{2} + \\left(c_{1} + 2 c_{2} - 4 c_{3} - 8 c_{4} + p_{1} q_{2} + 2 p_{1} + p_{2} q_{1} + 2 p_{2} q_{2} + 2 q_{1} + 1\\right)^{2}$"
     },
     "execution_count": 42,
     "metadata": {},
     "output_type": "execute_result"
    }
   ],
   "execution_count": 42
  },
  {
   "metadata": {
    "ExecuteTime": {
     "end_time": "2025-07-01T13:05:59.721948Z",
     "start_time": "2025-07-01T13:05:59.687491Z"
    }
   },
   "cell_type": "code",
   "source": [
    "def reduct_variable_power_term(term):\n",
    "    new_term = 1\n",
    "    for variable,power in term.as_powers_dict().items():\n",
    "        new_term *= variable\n",
    "    return new_term\n",
    "\n",
    "def reduct_variable_power_function(expr):\n",
    "    expanded_expr = sp.expand(expr)\n",
    "    expanded_reducted = 0\n",
    "    for term in expanded_expr.args:\n",
    "        new_term = reduct_variable_power_term(term)\n",
    "        expanded_reducted += new_term\n",
    "    return expanded_reducted\n",
    "\n",
    "# les varaiables sont sort par la lettre puis un nombre: \"x12\" -> \"x\" 12\n",
    "def sort_key(variable):\n",
    "    name = str(variable)\n",
    "    # Split le nom du variable aux deux parties: letter & number\n",
    "    letter = name[0]\n",
    "    number = int(name[1:])\n",
    "    return (letter, number)\n",
    "\n",
    "def rest_term(coef , rest_variable_liste):\n",
    "    new_term = coef\n",
    "    while(len(rest_variable_liste)!=0):\n",
    "        new_term = new_term * rest_variable_liste[0]\n",
    "        rest_variable_liste.pop()\n",
    "    return new_term\n",
    "\n",
    "# si #variables > 2 : diemension -1\n",
    "def reduct_demension_term(coef,variables_liste):\n",
    "    global res\n",
    "\n",
    "    # sélection les 3 premières variables\n",
    "    [x_1, x_2, x_3] = variables_liste[:3]\n",
    "\n",
    "    # garder le reste des variables\n",
    "    rest_variables_liste= variables_liste[3:]\n",
    "    rest_expr = rest_term(coef , rest_variables_liste)\n",
    "\n",
    "    # commence la réduction dimension\n",
    "    tup=(x_1,x_2)\n",
    "    #check dict s'il existe déjà une variable auxiliary qui = les deux meme variable\n",
    "    key = next((k for k, v in dictionaire_auxiliary_variable.items() if v == tup), None)\n",
    "    if key==None:#sinon, il faut creer une variable auxiliary\n",
    "        var_name = \"x\" + str(res)\n",
    "        x_4 = create_variables(var_name)\n",
    "        dictionaire_auxiliary_variable[x_4]=(x_1,x_2)\n",
    "        res += 1\n",
    "    else:\n",
    "        x_4 = key\n",
    "\n",
    "    expr_reduct_formula = x_4 * x_3 + 2 * (x_1 * x_2 - 2 * x_1 * x_4 - 2 * x_2 * x_4 + 3 * x_4)\n",
    "\n",
    "    expr_reduct = rest_expr * expr_reduct_formula\n",
    "    return sp.expand(expr_reduct)\n",
    "\n",
    "def reduct_demension_expression(expr):\n",
    "    new_expr = 0\n",
    "    need_reduction = False\n",
    "\n",
    "    for term in expr.args:\n",
    "        # get coefficant(la constante) et variables(dans une liste)\n",
    "        variables_liste = sorted(term.free_symbols, key=sort_key)\n",
    "        coef = term.as_coeff_mul()[0]\n",
    "\n",
    "        # pour les termes qui ont plus de 2 variables, il faut appliquer la formule de réduction\n",
    "        if len(variables_liste) > 2 :\n",
    "            if len(variables_liste) > 3 :\n",
    "                need_reduction = True\n",
    "            new_term = reduct_demension_term(coef, variables_liste)\n",
    "            new_expr +=  new_term\n",
    "        else:\n",
    "            # sinon, on ne fait rien et les met directement dans la nouvelle expression\n",
    "            new_expr += term\n",
    "\n",
    "    if need_reduction: # récursive\n",
    "        return reduct_demension_expression(new_expr)\n",
    "    else:\n",
    "        return new_expr"
   ],
   "id": "ab12edf600a6b7dd",
   "outputs": [],
   "execution_count": 43
  },
  {
   "metadata": {
    "ExecuteTime": {
     "end_time": "2025-07-01T13:06:00.491651Z",
     "start_time": "2025-07-01T13:05:59.770989Z"
    }
   },
   "cell_type": "code",
   "source": [
    "expr_reduct_power = reduct_variable_power_function(expr)\n",
    "reduct_dimension_expr = reduct_demension_expression(expr_reduct_power)\n",
    "reduct_dimension_expr"
   ],
   "id": "6b5dd74d4b78799c",
   "outputs": [
    {
     "data": {
      "text/plain": [
       "68*c1*c2 - 8*c1*c3 - 16*c1*c4 - 32*c1*p1 - 4*c1*p2 - 4*c1*q1 - 16*c1*q2 + 56*c1*x3 - 24*c1*x7 + 43*c1 - 16*c2*c3 - 32*c2*c4 - 64*c2*p1 - 8*c2*p2 - 8*c2*q1 - 32*c2*q2 + 112*c2*x1 - 48*c2*x8 + 120*c2 + 68*c3*c4 - 32*c3*p1 - 46*c3*p2 - 16*c3*q1 + 2*c3*q2 + 96*c3*x4 + 32*c3*x6 + 5*c3 - 64*c4*p1 - 92*c4*p2 - 32*c4*q1 + 4*c4*q2 + 192*c4*x2 + 64*c4*x5 + 44*c4 + 60*p1*p2 + 34*p1*q1 - 5*p1*q2 + 112*p1*x1 - 48*p1*x10 + 32*p1*x12 + 56*p1*x3 + 64*p1*x5 + 32*p1*x6 - 112*p1*x9 + 3*p1 + 35*p2*q1 + 2*p2*q2 - 48*p2*x11 + 32*p2*x13 + 192*p2*x2 + 96*p2*x4 - 24*p2*x7 - 48*p2*x8 - 112*p2*x9 - 11*p2 + 8*q1*q2 - 32*q1*x1 - 48*q1*x10 - 48*q1*x11 - 8*q1*x14 - 16*q1*x2 - 16*q1*x3 - 8*q1*x4 + 2*q1*x7 + 4*q1*x8 + 12*q1*x9 + 3*q1 + 4*q2*x1 + 12*q2*x10 + 12*q2*x11 + 32*q2*x12 + 32*q2*x13 - 8*q2*x14 - 32*q2*x2 + 2*q2*x3 - 16*q2*x4 - 16*q2*x5 - 8*q2*x6 + 4*q2*x7 + 8*q2*x8 + 28*q2*x9 - 11*q2 - 168*x1 + 72*x10 + 72*x11 - 8*x12*x9 - 48*x12 - 8*x13*x9 - 48*x13 + 2*x14*x9 + 12*x14 - 288*x2 - 84*x3 - 144*x4 - 96*x5 - 48*x6 + 36*x7 + 72*x8 + 168*x9 + 14"
      ],
      "text/latex": "$\\displaystyle 68 c_{1} c_{2} - 8 c_{1} c_{3} - 16 c_{1} c_{4} - 32 c_{1} p_{1} - 4 c_{1} p_{2} - 4 c_{1} q_{1} - 16 c_{1} q_{2} + 56 c_{1} x_{3} - 24 c_{1} x_{7} + 43 c_{1} - 16 c_{2} c_{3} - 32 c_{2} c_{4} - 64 c_{2} p_{1} - 8 c_{2} p_{2} - 8 c_{2} q_{1} - 32 c_{2} q_{2} + 112 c_{2} x_{1} - 48 c_{2} x_{8} + 120 c_{2} + 68 c_{3} c_{4} - 32 c_{3} p_{1} - 46 c_{3} p_{2} - 16 c_{3} q_{1} + 2 c_{3} q_{2} + 96 c_{3} x_{4} + 32 c_{3} x_{6} + 5 c_{3} - 64 c_{4} p_{1} - 92 c_{4} p_{2} - 32 c_{4} q_{1} + 4 c_{4} q_{2} + 192 c_{4} x_{2} + 64 c_{4} x_{5} + 44 c_{4} + 60 p_{1} p_{2} + 34 p_{1} q_{1} - 5 p_{1} q_{2} + 112 p_{1} x_{1} - 48 p_{1} x_{10} + 32 p_{1} x_{12} + 56 p_{1} x_{3} + 64 p_{1} x_{5} + 32 p_{1} x_{6} - 112 p_{1} x_{9} + 3 p_{1} + 35 p_{2} q_{1} + 2 p_{2} q_{2} - 48 p_{2} x_{11} + 32 p_{2} x_{13} + 192 p_{2} x_{2} + 96 p_{2} x_{4} - 24 p_{2} x_{7} - 48 p_{2} x_{8} - 112 p_{2} x_{9} - 11 p_{2} + 8 q_{1} q_{2} - 32 q_{1} x_{1} - 48 q_{1} x_{10} - 48 q_{1} x_{11} - 8 q_{1} x_{14} - 16 q_{1} x_{2} - 16 q_{1} x_{3} - 8 q_{1} x_{4} + 2 q_{1} x_{7} + 4 q_{1} x_{8} + 12 q_{1} x_{9} + 3 q_{1} + 4 q_{2} x_{1} + 12 q_{2} x_{10} + 12 q_{2} x_{11} + 32 q_{2} x_{12} + 32 q_{2} x_{13} - 8 q_{2} x_{14} - 32 q_{2} x_{2} + 2 q_{2} x_{3} - 16 q_{2} x_{4} - 16 q_{2} x_{5} - 8 q_{2} x_{6} + 4 q_{2} x_{7} + 8 q_{2} x_{8} + 28 q_{2} x_{9} - 11 q_{2} - 168 x_{1} + 72 x_{10} + 72 x_{11} - 8 x_{12} x_{9} - 48 x_{12} - 8 x_{13} x_{9} - 48 x_{13} + 2 x_{14} x_{9} + 12 x_{14} - 288 x_{2} - 84 x_{3} - 144 x_{4} - 96 x_{5} - 48 x_{6} + 36 x_{7} + 72 x_{8} + 168 x_{9} + 14$"
     },
     "execution_count": 44,
     "metadata": {},
     "output_type": "execute_result"
    }
   ],
   "execution_count": 44
  },
  {
   "metadata": {
    "ExecuteTime": {
     "end_time": "2025-07-01T13:06:00.642204Z",
     "start_time": "2025-07-01T13:06:00.627226Z"
    }
   },
   "cell_type": "code",
   "source": "print(type(reduct_dimension_expr))",
   "id": "5c3cebe9f9f36ae1",
   "outputs": [
    {
     "name": "stdout",
     "output_type": "stream",
     "text": [
      "<class 'sympy.core.add.Add'>\n"
     ]
    }
   ],
   "execution_count": 45
  },
  {
   "metadata": {
    "ExecuteTime": {
     "end_time": "2025-07-01T13:06:03.363009Z",
     "start_time": "2025-07-01T13:06:00.726609Z"
    }
   },
   "cell_type": "code",
   "source": [
    "def transfers_qubo2Ising(reduct_demension_expr):\n",
    "    subs_relations = {(variable, ( variable + 1 ) /2) for variable in variables}\n",
    "\n",
    "    # Après la substitution, variables dans l'expression sont des variables d'Ising dans {-1,+1}\n",
    "    new_expr = reduct_demension_expr.subs(subs_relations)\n",
    "    new_expr = sp.expand(new_expr)\n",
    "    return new_expr\n",
    "\n",
    "expr_ising = transfers_qubo2Ising(reduct_dimension_expr)\n",
    "\n",
    "import dimod\n",
    "from dwave.preprocessing.composites import SpinReversalTransformComposite\n",
    "\n",
    "def get_solver_parameter(expr_ising):\n",
    "    linear = {}\n",
    "    quadratic ={}\n",
    "    offset = 0\n",
    "\n",
    "    for term in expr_ising.args:\n",
    "        variables_liste = sorted(term.free_symbols, key=sort_key)\n",
    "        coef = term.as_coeff_mul()[0]\n",
    "        if len(term.free_symbols) ==0:\n",
    "            offset = coef\n",
    "        if len(term.free_symbols) ==1:\n",
    "            linear[variables_liste[0].name] = coef\n",
    "        elif len(term.free_symbols) ==2:\n",
    "            quadratic[(variables_liste[0].name,variables_liste[1].name)] = coef\n",
    "\n",
    "    return (linear,quadratic,offset)\n",
    "\n",
    "(linear,quadratic,offset) = get_solver_parameter(expr_ising)"
   ],
   "id": "8f4c6ca19746658",
   "outputs": [],
   "execution_count": 46
  },
  {
   "metadata": {
    "ExecuteTime": {
     "end_time": "2025-07-01T13:06:03.574209Z",
     "start_time": "2025-07-01T13:06:03.563081Z"
    }
   },
   "cell_type": "code",
   "source": "print(linear)",
   "id": "3e268117316c44d8",
   "outputs": [
    {
     "name": "stdout",
     "output_type": "stream",
     "text": [
      "{'x2': -60, 'x1': -35, 'x4': -30, 'x5': -20, 'x12': -10, 'x13': -10, 'x6': -10, 'x10': 15, 'x11': 15, 'x8': 15, 'c4': 45, 'c2': 53, 'q1': -135/4, 'x3': -35/2, 'q2': -5/4, 'x14': 5/2, 'p2': 13/4, 'x7': 15/2, 'p1': 39/4, 'c3': 45/2, 'c1': 53/2, 'x9': 69/2}\n"
     ]
    }
   ],
   "execution_count": 47
  },
  {
   "metadata": {
    "ExecuteTime": {
     "end_time": "2025-07-01T13:06:03.712968Z",
     "start_time": "2025-07-01T13:06:03.694629Z"
    }
   },
   "cell_type": "code",
   "source": "quadratic",
   "id": "9fb8a47414403b",
   "outputs": [
    {
     "data": {
      "text/plain": [
       "{('c4', 'q2'): 1,\n",
       " ('q1', 'x8'): 1,\n",
       " ('q2', 'x1'): 1,\n",
       " ('q2', 'x7'): 1,\n",
       " ('c3', 'q2'): 1/2,\n",
       " ('p2', 'q2'): 1/2,\n",
       " ('q1', 'x7'): 1/2,\n",
       " ('q2', 'x3'): 1/2,\n",
       " ('x9', 'x14'): 1/2,\n",
       " ('c1', 'p2'): -1,\n",
       " ('c1', 'q1'): -1,\n",
       " ('p1', 'x9'): -28,\n",
       " ('p2', 'x9'): -28,\n",
       " ('c4', 'p2'): -23,\n",
       " ('c2', 'p1'): -16,\n",
       " ('c4', 'p1'): -16,\n",
       " ('c2', 'x8'): -12,\n",
       " ('p1', 'x10'): -12,\n",
       " ('p2', 'x11'): -12,\n",
       " ('p2', 'x8'): -12,\n",
       " ('q1', 'x10'): -12,\n",
       " ('q1', 'x11'): -12,\n",
       " ('c1', 'p1'): -8,\n",
       " ('c2', 'c4'): -8,\n",
       " ('c2', 'q2'): -8,\n",
       " ('c3', 'p1'): -8,\n",
       " ('c4', 'q1'): -8,\n",
       " ('q1', 'x1'): -8,\n",
       " ('q2', 'x2'): -8,\n",
       " ('c1', 'x7'): -6,\n",
       " ('p2', 'x7'): -6,\n",
       " ('c1', 'c4'): -4,\n",
       " ('c1', 'q2'): -4,\n",
       " ('c2', 'c3'): -4,\n",
       " ('c3', 'q1'): -4,\n",
       " ('q1', 'x2'): -4,\n",
       " ('q1', 'x3'): -4,\n",
       " ('q2', 'x4'): -4,\n",
       " ('q2', 'x5'): -4,\n",
       " ('c1', 'c3'): -2,\n",
       " ('c2', 'p2'): -2,\n",
       " ('c2', 'q1'): -2,\n",
       " ('q1', 'x14'): -2,\n",
       " ('q1', 'x4'): -2,\n",
       " ('q2', 'x14'): -2,\n",
       " ('q2', 'x6'): -2,\n",
       " ('x9', 'x12'): -2,\n",
       " ('x9', 'x13'): -2,\n",
       " ('q1', 'q2'): 2,\n",
       " ('q2', 'x8'): 2,\n",
       " ('q1', 'x9'): 3,\n",
       " ('q2', 'x10'): 3,\n",
       " ('q2', 'x11'): 3,\n",
       " ('q2', 'x9'): 7,\n",
       " ('c3', 'x6'): 8,\n",
       " ('p1', 'x12'): 8,\n",
       " ('p1', 'x6'): 8,\n",
       " ('p2', 'x13'): 8,\n",
       " ('q2', 'x12'): 8,\n",
       " ('q2', 'x13'): 8,\n",
       " ('c1', 'x3'): 14,\n",
       " ('p1', 'x3'): 14,\n",
       " ('p1', 'p2'): 15,\n",
       " ('c4', 'x5'): 16,\n",
       " ('p1', 'x5'): 16,\n",
       " ('c1', 'c2'): 17,\n",
       " ('c3', 'c4'): 17,\n",
       " ('c3', 'x4'): 24,\n",
       " ('p2', 'x4'): 24,\n",
       " ('c2', 'x1'): 28,\n",
       " ('p1', 'x1'): 28,\n",
       " ('c4', 'x2'): 48,\n",
       " ('p2', 'x2'): 48,\n",
       " ('c3', 'p2'): -23/2,\n",
       " ('p1', 'q2'): -5/4,\n",
       " ('p1', 'q1'): 17/2,\n",
       " ('p2', 'q1'): 35/4}"
      ]
     },
     "execution_count": 48,
     "metadata": {},
     "output_type": "execute_result"
    }
   ],
   "execution_count": 48
  },
  {
   "metadata": {
    "ExecuteTime": {
     "end_time": "2025-07-01T13:06:03.820802Z",
     "start_time": "2025-07-01T13:06:03.810327Z"
    }
   },
   "cell_type": "code",
   "source": [
    "import numpy as np\n",
    "\n",
    "def dict_to_matrix(data_dict):\n",
    "    # 收集所有唯一的节点\n",
    "    nodes = set()\n",
    "    for key in data_dict.keys():\n",
    "        nodes.add(key[0])\n",
    "        nodes.add(key[1])\n",
    "\n",
    "    # 对节点进行排序，确保顺序固定\n",
    "    sorted_nodes = sorted(nodes)\n",
    "\n",
    "    # 创建节点到索引的映射\n",
    "    node_to_index = {node: i for i, node in enumerate(sorted_nodes)}\n",
    "\n",
    "    # 创建零矩阵\n",
    "    matrix_size = len(sorted_nodes)\n",
    "    matrix = np.zeros((matrix_size, matrix_size))\n",
    "\n",
    "    # 填充矩阵\n",
    "    for (node1, node2), value in data_dict.items():\n",
    "        i = node_to_index[node1]\n",
    "        j = node_to_index[node2]\n",
    "        matrix[i, j] = value\n",
    "\n",
    "    return matrix, sorted_nodes"
   ],
   "id": "97819e628acba7ae",
   "outputs": [],
   "execution_count": 49
  },
  {
   "metadata": {
    "ExecuteTime": {
     "end_time": "2025-07-01T13:06:03.919179Z",
     "start_time": "2025-07-01T13:06:03.905096Z"
    }
   },
   "cell_type": "code",
   "source": [
    "matrix, nodes = dict_to_matrix(quadratic)\n",
    "print(matrix)"
   ],
   "id": "b1f43ae66731c975",
   "outputs": [
    {
     "name": "stdout",
     "output_type": "stream",
     "text": [
      "[[  0.    17.    -2.    -4.    -8.    -1.    -1.    -4.     0.     0.\n",
      "    0.     0.     0.     0.     0.    14.     0.     0.     0.    -6.\n",
      "    0.     0.  ]\n",
      " [  0.     0.    -4.    -8.   -16.    -2.    -2.    -8.    28.     0.\n",
      "    0.     0.     0.     0.     0.     0.     0.     0.     0.     0.\n",
      "  -12.     0.  ]\n",
      " [  0.     0.     0.    17.    -8.   -11.5   -4.     0.5    0.     0.\n",
      "    0.     0.     0.     0.     0.     0.    24.     0.     8.     0.\n",
      "    0.     0.  ]\n",
      " [  0.     0.     0.     0.   -16.   -23.    -8.     1.     0.     0.\n",
      "    0.     0.     0.     0.    48.     0.     0.    16.     0.     0.\n",
      "    0.     0.  ]\n",
      " [  0.     0.     0.     0.     0.    15.     8.5   -1.25  28.   -12.\n",
      "    0.     8.     0.     0.     0.    14.     0.    16.     8.     0.\n",
      "    0.   -28.  ]\n",
      " [  0.     0.     0.     0.     0.     0.     8.75   0.5    0.     0.\n",
      "  -12.     0.     8.     0.    48.     0.    24.     0.     0.    -6.\n",
      "  -12.   -28.  ]\n",
      " [  0.     0.     0.     0.     0.     0.     0.     2.    -8.   -12.\n",
      "  -12.     0.     0.    -2.    -4.    -4.    -2.     0.     0.     0.5\n",
      "    1.     3.  ]\n",
      " [  0.     0.     0.     0.     0.     0.     0.     0.     1.     3.\n",
      "    3.     8.     8.    -2.    -8.     0.5   -4.    -4.    -2.     1.\n",
      "    2.     7.  ]\n",
      " [  0.     0.     0.     0.     0.     0.     0.     0.     0.     0.\n",
      "    0.     0.     0.     0.     0.     0.     0.     0.     0.     0.\n",
      "    0.     0.  ]\n",
      " [  0.     0.     0.     0.     0.     0.     0.     0.     0.     0.\n",
      "    0.     0.     0.     0.     0.     0.     0.     0.     0.     0.\n",
      "    0.     0.  ]\n",
      " [  0.     0.     0.     0.     0.     0.     0.     0.     0.     0.\n",
      "    0.     0.     0.     0.     0.     0.     0.     0.     0.     0.\n",
      "    0.     0.  ]\n",
      " [  0.     0.     0.     0.     0.     0.     0.     0.     0.     0.\n",
      "    0.     0.     0.     0.     0.     0.     0.     0.     0.     0.\n",
      "    0.     0.  ]\n",
      " [  0.     0.     0.     0.     0.     0.     0.     0.     0.     0.\n",
      "    0.     0.     0.     0.     0.     0.     0.     0.     0.     0.\n",
      "    0.     0.  ]\n",
      " [  0.     0.     0.     0.     0.     0.     0.     0.     0.     0.\n",
      "    0.     0.     0.     0.     0.     0.     0.     0.     0.     0.\n",
      "    0.     0.  ]\n",
      " [  0.     0.     0.     0.     0.     0.     0.     0.     0.     0.\n",
      "    0.     0.     0.     0.     0.     0.     0.     0.     0.     0.\n",
      "    0.     0.  ]\n",
      " [  0.     0.     0.     0.     0.     0.     0.     0.     0.     0.\n",
      "    0.     0.     0.     0.     0.     0.     0.     0.     0.     0.\n",
      "    0.     0.  ]\n",
      " [  0.     0.     0.     0.     0.     0.     0.     0.     0.     0.\n",
      "    0.     0.     0.     0.     0.     0.     0.     0.     0.     0.\n",
      "    0.     0.  ]\n",
      " [  0.     0.     0.     0.     0.     0.     0.     0.     0.     0.\n",
      "    0.     0.     0.     0.     0.     0.     0.     0.     0.     0.\n",
      "    0.     0.  ]\n",
      " [  0.     0.     0.     0.     0.     0.     0.     0.     0.     0.\n",
      "    0.     0.     0.     0.     0.     0.     0.     0.     0.     0.\n",
      "    0.     0.  ]\n",
      " [  0.     0.     0.     0.     0.     0.     0.     0.     0.     0.\n",
      "    0.     0.     0.     0.     0.     0.     0.     0.     0.     0.\n",
      "    0.     0.  ]\n",
      " [  0.     0.     0.     0.     0.     0.     0.     0.     0.     0.\n",
      "    0.     0.     0.     0.     0.     0.     0.     0.     0.     0.\n",
      "    0.     0.  ]\n",
      " [  0.     0.     0.     0.     0.     0.     0.     0.     0.     0.\n",
      "    0.    -2.    -2.     0.5    0.     0.     0.     0.     0.     0.\n",
      "    0.     0.  ]]\n"
     ]
    }
   ],
   "execution_count": 50
  },
  {
   "metadata": {
    "ExecuteTime": {
     "end_time": "2025-07-01T13:06:03.968386Z",
     "start_time": "2025-07-01T13:06:03.963898Z"
    }
   },
   "cell_type": "code",
   "source": "",
   "id": "a56e1a4aeed404a0",
   "outputs": [],
   "execution_count": null
  },
  {
   "metadata": {
    "ExecuteTime": {
     "end_time": "2025-07-01T13:06:04.053689Z",
     "start_time": "2025-07-01T13:06:04.046796Z"
    }
   },
   "cell_type": "code",
   "source": "",
   "id": "3401669109972d91",
   "outputs": [],
   "execution_count": null
  },
  {
   "metadata": {
    "ExecuteTime": {
     "end_time": "2025-07-01T13:06:04.231938Z",
     "start_time": "2025-07-01T13:06:04.220432Z"
    }
   },
   "cell_type": "code",
   "source": "",
   "id": "b372c0d88d83d8c8",
   "outputs": [],
   "execution_count": null
  },
  {
   "metadata": {
    "ExecuteTime": {
     "end_time": "2025-07-01T13:06:04.401099Z",
     "start_time": "2025-07-01T13:06:04.396771Z"
    }
   },
   "cell_type": "code",
   "source": "",
   "id": "c7930bf77028a4da",
   "outputs": [],
   "execution_count": null
  },
  {
   "metadata": {},
   "cell_type": "markdown",
   "source": [
    "# action\n",
    "\n",
    "Exemple: N= 143 = 13 * 11"
   ],
   "id": "92c37890b84d89da"
  },
  {
   "metadata": {
    "ExecuteTime": {
     "end_time": "2025-07-01T13:06:04.498344Z",
     "start_time": "2025-07-01T13:06:04.487270Z"
    }
   },
   "cell_type": "code",
   "source": [
    "# Créer un symbole à partir d'un nom en string\n",
    "def create_variables(var_name):\n",
    "    if isinstance(var_name, str) :\n",
    "        try:\n",
    "            symbol = sp.symbols(var_name)\n",
    "            globals()[var_name] = symbol\n",
    "            variables.append(symbol)\n",
    "        except ValueError:\n",
    "            print(f\"{var_name} ValueError\")\n",
    "    return symbol\n",
    "\n",
    "def set_variable(l,prefix):\n",
    "    # length de p et q sont suposés logN/2\n",
    "    #length_N = math.ceil(math.log2(N))\n",
    "    #l1 = l2 = math.ceil(length_N/2)\n",
    "\n",
    "    expr = 1\n",
    "    var_binary = [1]\n",
    "    for i in range(1,l-1):\n",
    "        var_name = (prefix+ str(i))\n",
    "        var = create_variables(var_name)\n",
    "        expr = 2**i * var + expr\n",
    "        var_binary.append(var)\n",
    "    expr = expr + 2 ** (l-1)\n",
    "    var_binary.append(1)\n",
    "    var_binary = var_binary[::-1]\n",
    "    return (expr,var_binary)\n",
    "\n",
    "def get_N_binary(N):\n",
    "    binary_str = np.binary_repr(N)\n",
    "    binary_list = [int(bit) for bit in binary_str]\n",
    "    return binary_list"
   ],
   "id": "bd87cfb3e1a417f8",
   "outputs": [],
   "execution_count": 51
  },
  {
   "metadata": {
    "ExecuteTime": {
     "end_time": "2025-07-01T13:06:04.678867Z",
     "start_time": "2025-07-01T13:06:04.642051Z"
    }
   },
   "cell_type": "code",
   "source": [
    "(p_expr,p_binary) = set_variable(4,\"p\")\n",
    "print(f\"p_expr = {p_expr}\")\n",
    "print(f\"p_binary = {p_binary}\")\n",
    "\n",
    "(q_expr,q_binary) = set_variable(4,\"q\")\n",
    "print(f\"q_expr = {q_expr}\")\n",
    "print(f\"q_binary = {q_binary}\")\n",
    "\n",
    "N_binary = get_N_binary(143)\n",
    "print(f\"N_binary = {N_binary}\")"
   ],
   "id": "e9b48dc5da4a3f5e",
   "outputs": [
    {
     "name": "stdout",
     "output_type": "stream",
     "text": [
      "p_expr = 2*p1 + 4*p2 + 9\n",
      "p_binary = [1, p2, p1, 1]\n",
      "q_expr = 2*q1 + 4*q2 + 9\n",
      "q_binary = [1, q2, q1, 1]\n",
      "N_binary = [1, 0, 0, 0, 1, 1, 1, 1]\n"
     ]
    }
   ],
   "execution_count": 52
  },
  {
   "metadata": {},
   "cell_type": "markdown",
   "source": [
    "## table de mulp\n",
    "\n",
    "ligne par ligne"
   ],
   "id": "56bd72cd03fe0a52"
  },
  {
   "metadata": {
    "ExecuteTime": {
     "end_time": "2025-07-01T13:06:04.768539Z",
     "start_time": "2025-07-01T13:06:04.746902Z"
    }
   },
   "cell_type": "code",
   "source": [
    "def table_multiplication_ligne(coef,p_binary):\n",
    "    lst = [coef * element for element in p_binary]\n",
    "    return lst\n",
    "\n",
    "def table_multiplication(p_binary,q_binary,N_binary):\n",
    "    table = []\n",
    "    lst = q_binary.copy()\n",
    "    res = 0\n",
    "    while not lst == []:\n",
    "        element = lst.pop()\n",
    "        ele = table_multiplication_ligne(element,p_binary)\n",
    "        for i in range(res):\n",
    "            ele.append(0)\n",
    "        table.append(ele)\n",
    "        res+=1\n",
    "    table.append(N_binary)\n",
    "    return table\n"
   ],
   "id": "2e40dcf90c2514f4",
   "outputs": [],
   "execution_count": 53
  },
  {
   "metadata": {
    "ExecuteTime": {
     "end_time": "2025-07-01T13:06:05.183279Z",
     "start_time": "2025-07-01T13:06:05.153114Z"
    }
   },
   "cell_type": "code",
   "source": [
    "table = table_multiplication(p_binary,q_binary,N_binary)\n",
    "table"
   ],
   "id": "db2e8c12f9997d98",
   "outputs": [
    {
     "data": {
      "text/plain": [
       "[[1, p2, p1, 1],\n",
       " [q1, p2*q1, p1*q1, q1, 0],\n",
       " [q2, p2*q2, p1*q2, q2, 0, 0],\n",
       " [1, p2, p1, 1, 0, 0, 0],\n",
       " [1, 0, 0, 0, 1, 1, 1, 1]]"
      ]
     },
     "execution_count": 54,
     "metadata": {},
     "output_type": "execute_result"
    }
   ],
   "execution_count": 54
  },
  {
   "metadata": {
    "ExecuteTime": {
     "end_time": "2025-07-01T13:06:05.255115Z",
     "start_time": "2025-07-01T13:06:05.238693Z"
    }
   },
   "cell_type": "code",
   "source": [
    "def adjust_table(table):\n",
    "    max_cols = max(len(row) for row in table)\n",
    "    complet_table = np.array([[0]*(max_cols - len(row)) + row for row in table], dtype=object)\n",
    "    return complet_table"
   ],
   "id": "d6ce10124ec6f118",
   "outputs": [],
   "execution_count": 55
  },
  {
   "metadata": {
    "ExecuteTime": {
     "end_time": "2025-07-01T13:06:05.488961Z",
     "start_time": "2025-07-01T13:06:05.466170Z"
    }
   },
   "cell_type": "code",
   "source": [
    "table_complet = adjust_table(table)\n",
    "print(table_complet)"
   ],
   "id": "6efc939aabc9f9e1",
   "outputs": [
    {
     "name": "stdout",
     "output_type": "stream",
     "text": [
      "[[0 0 0 0 1 p2 p1 1]\n",
      " [0 0 0 q1 p2*q1 p1*q1 q1 0]\n",
      " [0 0 q2 p2*q2 p1*q2 q2 0 0]\n",
      " [0 1 p2 p1 1 0 0 0]\n",
      " [1 0 0 0 1 1 1 1]]\n"
     ]
    }
   ],
   "execution_count": 56
  },
  {
   "metadata": {},
   "cell_type": "markdown",
   "source": "## explore la table par bloc",
   "id": "ba6534d40d86458d"
  },
  {
   "metadata": {
    "ExecuteTime": {
     "end_time": "2025-07-01T14:37:47.347418Z",
     "start_time": "2025-07-01T14:37:47.329359Z"
    }
   },
   "cell_type": "code",
   "source": [
    "col_per_bloc = 2\n",
    "rows,columns = table_complet.shape\n",
    "print(rows,columns)\n",
    "col_1 = table_complet[:, columns - 2 ]\n",
    "col_2 = table_complet[:, columns - 3 ]\n",
    "print(col_1,col_2)\n",
    "\n",
    "c_res = 1 #c_i"
   ],
   "id": "dacf965d46713e6",
   "outputs": [
    {
     "name": "stdout",
     "output_type": "stream",
     "text": [
      "5 8\n",
      "[p1 q1 0 0 1] [p2 p1*q1 q2 0 1]\n"
     ]
    }
   ],
   "execution_count": 89
  },
  {
   "metadata": {
    "ExecuteTime": {
     "end_time": "2025-07-01T15:20:22.317561Z",
     "start_time": "2025-07-01T15:20:22.308232Z"
    }
   },
   "cell_type": "code",
   "source": [
    "def num_carry(col):\n",
    "    expr = sum(col[:-1])\n",
    "    max = len(expr.args) # suppose all the terms have value 1 so that the number of the terms is the max value of the sum of the column\n",
    "    binary_str = np.binary_repr(max)\n",
    "    last_bit = binary_str[-1]\n",
    "\n",
    "    if last_bit != col[-1]:\n",
    "        max -= 1\n",
    "    num = len(np.binary_repr(max)) - 1\n",
    "    return num"
   ],
   "id": "5fc6ba4eefc0ee17",
   "outputs": [],
   "execution_count": 110
  },
  {
   "metadata": {
    "ExecuteTime": {
     "end_time": "2025-07-01T15:20:26.600205Z",
     "start_time": "2025-07-01T15:20:26.582277Z"
    }
   },
   "cell_type": "code",
   "source": [
    "print(num_carry(col_1))\n",
    "print(num_carry(col_2))"
   ],
   "id": "3e3133a94ef117f1",
   "outputs": [
    {
     "name": "stdout",
     "output_type": "stream",
     "text": [
      "0\n",
      "1\n"
     ]
    }
   ],
   "execution_count": 111
  },
  {
   "metadata": {},
   "cell_type": "code",
   "outputs": [],
   "execution_count": null,
   "source": [
    "def define_carry_var(num_carry):\n",
    "    for i in range(num_carry):\n",
    "        create_variables(\"c\" + str(c_res))"
   ],
   "id": "a0a3ea57856b3fc6"
  },
  {
   "metadata": {},
   "cell_type": "code",
   "outputs": [],
   "execution_count": null,
   "source": [
    "def define_function_bloc(col_1,col_2):\n",
    "\n"
   ],
   "id": "d971e9f99a9cfc1b"
  }
 ],
 "metadata": {
  "kernelspec": {
   "display_name": "Python 3",
   "language": "python",
   "name": "python3"
  },
  "language_info": {
   "codemirror_mode": {
    "name": "ipython",
    "version": 2
   },
   "file_extension": ".py",
   "mimetype": "text/x-python",
   "name": "python",
   "nbconvert_exporter": "python",
   "pygments_lexer": "ipython2",
   "version": "2.7.6"
  }
 },
 "nbformat": 4,
 "nbformat_minor": 5
}
