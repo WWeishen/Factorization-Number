{
 "cells": [
  {
   "metadata": {},
   "cell_type": "markdown",
   "source": "# Modified Multiplication Table Method",
   "id": "e1457085d4f0182b"
  },
  {
   "metadata": {},
   "cell_type": "markdown",
   "source": [
    "## Definir fonction\n",
    "\n",
    "fonction objective"
   ],
   "id": "db89e8a88bb886fa"
  },
  {
   "metadata": {
    "ExecuteTime": {
     "end_time": "2025-07-04T07:17:48.955681Z",
     "start_time": "2025-07-04T07:17:48.174292Z"
    }
   },
   "cell_type": "code",
   "source": [
    "from email.utils import collapse_rfc2231_value\n",
    "\n",
    "import sympy as sp\n",
    "import numpy as np\n",
    "import math\n",
    "import copy\n",
    "\n",
    "global variables\n",
    "variables=[]\n",
    "dictionaire_auxiliary_variable={}\n",
    "res=1\n",
    "\n",
    "def variable_name(n,prefix):  # np est len de p en binaire, nq est len de q en binaire\n",
    "    var_name_list = []\n",
    "    for i in range(n):\n",
    "        var_name_list.append(prefix+str(i+1))\n",
    "    return var_name_list\n",
    "\n",
    "def create_variables(var_name):\n",
    "    if isinstance(var_name, str) :\n",
    "        try:\n",
    "            symbol = sp.symbols(var_name)\n",
    "            globals()[var_name] = symbol\n",
    "            variables.append(symbol)\n",
    "        except ValueError:\n",
    "            print(f\"{var_name} ValueError\")\n",
    "    return symbol\n",
    "\n",
    "def create_varibales_from_list(list):\n",
    "    for element in list:\n",
    "        create_variables(element)\n",
    "    return\n",
    "\n",
    "def reduct_variable_power_term(term):\n",
    "    new_term = 1\n",
    "    for variable,power in term.as_powers_dict().items():\n",
    "        new_term *= variable\n",
    "    return new_term\n",
    "\n",
    "def reduct_variable_power_function(expr):\n",
    "    expanded_expr = sp.expand(expr)\n",
    "    expanded_reducted = 0\n",
    "    for term in expanded_expr.args:\n",
    "        new_term = reduct_variable_power_term(term)\n",
    "        expanded_reducted += new_term\n",
    "    return expanded_reducted\n",
    "\n",
    "def sort_key(variable):\n",
    "    name = str(variable)\n",
    "    # Split le nom du variable à deux parties: letter & number\n",
    "    letter = name[0]\n",
    "    number = int(name[1:])\n",
    "    return (letter, number)\n",
    "\n",
    "def rest_term(coef , rest_variable_liste):\n",
    "    new_term = coef\n",
    "    while(len(rest_variable_liste)!=0):\n",
    "        new_term = new_term * rest_variable_liste[0]\n",
    "        rest_variable_liste.pop()\n",
    "    return new_term\n",
    "\n",
    "def reduct_demension_term(coef,variables_liste):\n",
    "    global res\n",
    "\n",
    "    # sélection les 3 premières variables\n",
    "    [x_1, x_2, x_3] = variables_liste[:3]\n",
    "\n",
    "    # garder le reste des variables\n",
    "    rest_variables_liste= variables_liste[3:]\n",
    "    rest_expr = rest_term(coef , rest_variables_liste)\n",
    "\n",
    "    # commence la réduction dimension\n",
    "    tup=(x_1,x_2)\n",
    "    #check dict s'il existe déjà une variable auxiliary qui = les deux meme variable\n",
    "    key = next((k for k, v in dictionaire_auxiliary_variable.items() if v == tup), None)\n",
    "    if key==None:#sinon, il faut creer une variable auxiliary\n",
    "        var_name = \"x\" + str(res)\n",
    "        x_4 = create_variables(var_name)\n",
    "        dictionaire_auxiliary_variable[x_4]=(x_1,x_2)\n",
    "        res += 1\n",
    "    else:\n",
    "        x_4 = key\n",
    "\n",
    "    expr_reduct_formula = x_4 * x_3 + 2 * (x_1 * x_2 - 2 * x_1 * x_4 - 2 * x_2 * x_4 + 3 * x_4)\n",
    "\n",
    "    expr_reduct = rest_expr * expr_reduct_formula\n",
    "    return sp.expand(expr_reduct)\n",
    "\n",
    "def reduct_demension_expression(expr):\n",
    "    new_expr = 0\n",
    "    need_reduction = False\n",
    "\n",
    "    for term in expr.args:\n",
    "        # get coefficant(la constante) et variables(dans une liste)\n",
    "        variables_liste = sorted(term.free_symbols, key=sort_key)\n",
    "        coef = term.as_coeff_mul()[0]\n",
    "\n",
    "        # pour les termes qui ont plus de 2 variables, il faut appliquer la formule de réduction\n",
    "        if len(variables_liste) > 2 :\n",
    "            if len(variables_liste) > 3 :\n",
    "                need_reduction = True\n",
    "            new_term = reduct_demension_term(coef, variables_liste)\n",
    "            new_expr +=  new_term\n",
    "        else:\n",
    "            # sinon, on ne fait rien et les met directement dans la nouvelle expression\n",
    "            new_expr += term\n",
    "\n",
    "    if need_reduction: # récursive\n",
    "        return reduct_demension_expression(new_expr)\n",
    "    else:\n",
    "        return new_expr\n",
    "\n",
    "def reduct_expression(expr_init):\n",
    "    expr = sp.expand(expr_init)\n",
    "    expr_reduct_power = reduct_variable_power_function(expr)\n",
    "    reduct_dimension_expr = reduct_demension_expression(expr_reduct_power)\n",
    "    return reduct_dimension_expr\n",
    "\n",
    "def transfers_qubo2Ising(reduct_demension_expr):\n",
    "    subs_relations = {(variable, ( variable + 1 ) /2) for variable in variables}\n",
    "\n",
    "    # Après la substitution, variables dans l'expression sont des variables d'Ising dans {-1,+1}\n",
    "    new_expr = reduct_demension_expr.subs(subs_relations)\n",
    "    new_expr = sp.expand(new_expr)\n",
    "    return new_expr"
   ],
   "id": "2519e775a7950ebb",
   "outputs": [],
   "execution_count": 1
  },
  {
   "metadata": {
    "ExecuteTime": {
     "end_time": "2025-07-04T07:17:49.121803Z",
     "start_time": "2025-07-04T07:17:49.116156Z"
    }
   },
   "cell_type": "code",
   "source": "",
   "id": "c7930bf77028a4da",
   "outputs": [],
   "execution_count": null
  },
  {
   "metadata": {},
   "cell_type": "markdown",
   "source": [
    "# action\n",
    "\n",
    "Exemple: N= 143 = 13 * 11"
   ],
   "id": "92c37890b84d89da"
  },
  {
   "metadata": {
    "ExecuteTime": {
     "end_time": "2025-07-04T07:17:49.512476Z",
     "start_time": "2025-07-04T07:17:49.505836Z"
    }
   },
   "cell_type": "code",
   "source": [
    "def set_variable(l,prefix):\n",
    "    # length de p et q sont suposés logN/2\n",
    "    #length_N = math.ceil(math.log2(N))\n",
    "    #l1 = l2 = math.ceil(length_N/2)\n",
    "\n",
    "    expr = 1\n",
    "    var_binary = [1]\n",
    "    for i in range(1,l-1):\n",
    "        var_name = (prefix+ str(i))\n",
    "        var = create_variables(var_name)\n",
    "        expr = 2**i * var + expr\n",
    "        var_binary.append(var)\n",
    "    expr = expr + 2 ** (l-1)\n",
    "    var_binary.append(1)\n",
    "    var_binary = var_binary[::-1]\n",
    "    return (expr,var_binary)\n",
    "\n",
    "def get_N_binary(N):\n",
    "    binary_str = np.binary_repr(N)\n",
    "    binary_list = [int(bit) for bit in binary_str]\n",
    "    return binary_list"
   ],
   "id": "bd87cfb3e1a417f8",
   "outputs": [],
   "execution_count": 2
  },
  {
   "metadata": {
    "ExecuteTime": {
     "end_time": "2025-07-04T07:17:49.811264Z",
     "start_time": "2025-07-04T07:17:49.711825Z"
    }
   },
   "cell_type": "code",
   "source": [
    "# exemple : 35 = 5 * 7\n",
    "\n",
    "(p_expr,p_binary) = set_variable(4,\"p\")\n",
    "print(f\"p_expr = {p_expr}\")\n",
    "print(f\"p_binary = {p_binary}\")\n",
    "\n",
    "(q_expr,q_binary) = set_variable(4,\"q\")\n",
    "print(f\"q_expr = {q_expr}\")\n",
    "print(f\"q_binary = {q_binary}\")\n",
    "\n",
    "N_binary = get_N_binary(143)\n",
    "print(f\"N_binary = {N_binary}\")\n",
    "\n",
    "N_binary_transposed = N_binary[::-1]\n",
    "print(f\"N_binary_transposed = {N_binary_transposed}\")"
   ],
   "id": "e9b48dc5da4a3f5e",
   "outputs": [
    {
     "name": "stdout",
     "output_type": "stream",
     "text": [
      "p_expr = 2*p1 + 4*p2 + 9\n",
      "p_binary = [1, p2, p1, 1]\n",
      "q_expr = 2*q1 + 4*q2 + 9\n",
      "q_binary = [1, q2, q1, 1]\n",
      "N_binary = [1, 0, 0, 0, 1, 1, 1, 1]\n",
      "N_binary_transposed = [1, 1, 1, 1, 0, 0, 0, 1]\n"
     ]
    }
   ],
   "execution_count": 3
  },
  {
   "metadata": {},
   "cell_type": "markdown",
   "source": [
    "## table de mulp\n",
    "\n",
    "ligne par ligne"
   ],
   "id": "56bd72cd03fe0a52"
  },
  {
   "metadata": {
    "ExecuteTime": {
     "end_time": "2025-07-04T07:17:49.851215Z",
     "start_time": "2025-07-04T07:17:49.843712Z"
    }
   },
   "cell_type": "code",
   "source": [
    "def table_multiplication_ligne(coef,p_binary):\n",
    "    lst = [coef * element for element in p_binary]\n",
    "    return lst\n",
    "\n",
    "def table_multiplication(p_binary,q_binary):\n",
    "    table = []\n",
    "    lst = q_binary.copy()\n",
    "    res = 0\n",
    "    while not lst == []:\n",
    "        element = lst.pop()\n",
    "        ele = table_multiplication_ligne(element,p_binary)\n",
    "        for i in range(res):\n",
    "            ele.append(0)\n",
    "        table.append(ele)\n",
    "        res+=1\n",
    "    #table.append(N_binary)\n",
    "    return table\n"
   ],
   "id": "2e40dcf90c2514f4",
   "outputs": [],
   "execution_count": 4
  },
  {
   "metadata": {
    "ExecuteTime": {
     "end_time": "2025-07-04T07:17:49.994914Z",
     "start_time": "2025-07-04T07:17:49.983382Z"
    }
   },
   "cell_type": "code",
   "source": [
    "table = table_multiplication(p_binary,q_binary)\n",
    "table"
   ],
   "id": "db2e8c12f9997d98",
   "outputs": [
    {
     "data": {
      "text/plain": [
       "[[1, p2, p1, 1],\n",
       " [q1, p2*q1, p1*q1, q1, 0],\n",
       " [q2, p2*q2, p1*q2, q2, 0, 0],\n",
       " [1, p2, p1, 1, 0, 0, 0]]"
      ]
     },
     "execution_count": 5,
     "metadata": {},
     "output_type": "execute_result"
    }
   ],
   "execution_count": 5
  },
  {
   "metadata": {
    "ExecuteTime": {
     "end_time": "2025-07-04T07:17:50.104727Z",
     "start_time": "2025-07-04T07:17:50.096666Z"
    }
   },
   "cell_type": "code",
   "source": [
    "def adjust_table(table):\n",
    "    max_cols = max(len(row) for row in table)\n",
    "    complet_table = [[0]*(max_cols - len(row)) + row for row in table]\n",
    "    return complet_table"
   ],
   "id": "d6ce10124ec6f118",
   "outputs": [],
   "execution_count": 6
  },
  {
   "metadata": {
    "ExecuteTime": {
     "end_time": "2025-07-04T07:17:50.174120Z",
     "start_time": "2025-07-04T07:17:50.163554Z"
    }
   },
   "cell_type": "code",
   "source": [
    "table_complet = adjust_table(table)\n",
    "table_complet"
   ],
   "id": "6efc939aabc9f9e1",
   "outputs": [
    {
     "data": {
      "text/plain": [
       "[[0, 0, 0, 1, p2, p1, 1],\n",
       " [0, 0, q1, p2*q1, p1*q1, q1, 0],\n",
       " [0, q2, p2*q2, p1*q2, q2, 0, 0],\n",
       " [1, p2, p1, 1, 0, 0, 0]]"
      ]
     },
     "execution_count": 7,
     "metadata": {},
     "output_type": "execute_result"
    }
   ],
   "execution_count": 7
  },
  {
   "metadata": {},
   "cell_type": "markdown",
   "source": "## Transferme à une table de mulptication colonne",
   "id": "e15df85748d460a"
  },
  {
   "metadata": {
    "ExecuteTime": {
     "end_time": "2025-07-04T07:17:50.259776Z",
     "start_time": "2025-07-04T07:17:50.248239Z"
    }
   },
   "cell_type": "code",
   "source": [
    "def define_table_transposed(table_complet):\n",
    "    table_transposed = [[row[i] for row in table_complet] for i in range(len(table_complet[0]))]\n",
    "    table_transposed = table_transposed[::-1]\n",
    "    return table_transposed\n",
    "\n",
    "table_transposed = define_table_transposed(table_complet)\n",
    "table_transposed"
   ],
   "id": "2ed92bb33a88d610",
   "outputs": [
    {
     "data": {
      "text/plain": [
       "[[1, 0, 0, 0],\n",
       " [p1, q1, 0, 0],\n",
       " [p2, p1*q1, q2, 0],\n",
       " [1, p2*q1, p1*q2, 1],\n",
       " [0, q1, p2*q2, p1],\n",
       " [0, 0, q2, p2],\n",
       " [0, 0, 0, 1]]"
      ]
     },
     "execution_count": 8,
     "metadata": {},
     "output_type": "execute_result"
    }
   ],
   "execution_count": 8
  },
  {
   "metadata": {},
   "cell_type": "markdown",
   "source": "## Explore la table par bloc",
   "id": "ba6534d40d86458d"
  },
  {
   "metadata": {},
   "cell_type": "markdown",
   "source": [
    "Suivant le nombre des variables(de p et q) par colonne et la bit de N qui se situ sur le même colonne, on calcule le nombre de variables \"carry\" qu'on doit créer.\n",
    "\n",
    "Sommes max : on suppose que tout les variables ont valeur 1. Si la dernière bit de cette sommes ait la même bit que la bit de N du colonne, la sommes max = cette sommes. Sinon, la sommes max = cette sommes -1. le nombre de carry variables est donc le nombre de bit de sommes max -1."
   ],
   "id": "5bec811cf891f4c4"
  },
  {
   "metadata": {
    "ExecuteTime": {
     "end_time": "2025-07-04T07:17:50.350029Z",
     "start_time": "2025-07-04T07:17:50.334170Z"
    }
   },
   "cell_type": "code",
   "source": [
    "def num_carry(table,N_binary_transposed ,num_col):\n",
    "    print(num_col)\n",
    "    expr = sum(table[num_col])\n",
    "    if isinstance(expr, (int)):\n",
    "        max = 1\n",
    "    else:\n",
    "        max = len(expr.args)   # suppose all the terms have value 1 so that the number of the terms is the max value of the sum of the column\n",
    "    binary_str = np.binary_repr(max)\n",
    "    last_bit = binary_str[-1]\n",
    "\n",
    "    if last_bit != N_binary_transposed[num_col]:\n",
    "        max -= 1\n",
    "    num = len(np.binary_repr(max)) - 1\n",
    "    return num\n",
    "\n",
    "num_carry(table_transposed,N_binary_transposed,5)"
   ],
   "id": "5fc6ba4eefc0ee17",
   "outputs": [
    {
     "name": "stdout",
     "output_type": "stream",
     "text": [
      "5\n"
     ]
    },
    {
     "data": {
      "text/plain": [
       "0"
      ]
     },
     "execution_count": 9,
     "metadata": {},
     "output_type": "execute_result"
    }
   ],
   "execution_count": 9
  },
  {
   "metadata": {
    "ExecuteTime": {
     "end_time": "2025-07-04T07:17:50.563146Z",
     "start_time": "2025-07-04T07:17:50.452534Z"
    }
   },
   "cell_type": "code",
   "source": [
    "def define_carry_var(num_carry):\n",
    "    global c_res\n",
    "    carry_var = []\n",
    "    for i in range(num_carry):\n",
    "        var = create_variables(\"c\" + str(c_res))\n",
    "        carry_var.append(var)\n",
    "        c_res+=1\n",
    "    return carry_var"
   ],
   "id": "a0a3ea57856b3fc6",
   "outputs": [],
   "execution_count": 10
  },
  {
   "metadata": {},
   "cell_type": "markdown",
   "source": "## Table de mulplication par colonne avec les variables de carry",
   "id": "10d66d5fed1e0e18"
  },
  {
   "metadata": {
    "ExecuteTime": {
     "end_time": "2025-07-04T07:17:50.677577Z",
     "start_time": "2025-07-04T07:17:50.660248Z"
    }
   },
   "cell_type": "code",
   "source": [
    "def define_carry_table(table_transposed,num_per_bloc,N_binary):\n",
    "    global c_res\n",
    "    c_res = 1\n",
    "\n",
    "    #table_res = table_transposed.copy()\n",
    "    table_res = copy.deepcopy(table_transposed)\n",
    "    columns = len(table_transposed)\n",
    "\n",
    "    N_binary_transposed = N_binary[::-1]\n",
    "    #obj_function = 0\n",
    "\n",
    "    #begain from the 2nd col\n",
    "    col_num = 1\n",
    "\n",
    "    while col_num < columns:\n",
    "        for i in range(num_per_bloc):\n",
    "            print(table_res)\n",
    "            num = num_carry(table_res,N_binary_transposed,col_num+i)\n",
    "            lst_carry_var = define_carry_var(num) #a list contains the created carry variables.\n",
    "            #rhs += N_binary_transposed[col_num+i]*2**i\n",
    "            for j in range(1,num+1):\n",
    "                if col_num+i+j <= len(table_res)-1:\n",
    "                    table_res[col_num+i+j].append(lst_carry_var[j-1])\n",
    "                else:\n",
    "                    table_res.append([lst_carry_var[j-1]])\n",
    "        col_num += num_per_bloc\n",
    "    return table_res\n",
    "\n",
    "table_carry = define_carry_table(table_transposed,2,N_binary)\n",
    "table_carry"
   ],
   "id": "d971e9f99a9cfc1b",
   "outputs": [
    {
     "name": "stdout",
     "output_type": "stream",
     "text": [
      "[[1, 0, 0, 0], [p1, q1, 0, 0], [p2, p1*q1, q2, 0], [1, p2*q1, p1*q2, 1], [0, q1, p2*q2, p1], [0, 0, q2, p2], [0, 0, 0, 1]]\n",
      "1\n",
      "[[1, 0, 0, 0], [p1, q1, 0, 0], [p2, p1*q1, q2, 0], [1, p2*q1, p1*q2, 1], [0, q1, p2*q2, p1], [0, 0, q2, p2], [0, 0, 0, 1]]\n",
      "2\n",
      "[[1, 0, 0, 0], [p1, q1, 0, 0], [p2, p1*q1, q2, 0], [1, p2*q1, p1*q2, 1, c1], [0, q1, p2*q2, p1], [0, 0, q2, p2], [0, 0, 0, 1]]\n",
      "3\n",
      "[[1, 0, 0, 0], [p1, q1, 0, 0], [p2, p1*q1, q2, 0], [1, p2*q1, p1*q2, 1, c1], [0, q1, p2*q2, p1, c2], [0, 0, q2, p2], [0, 0, 0, 1]]\n",
      "4\n",
      "[[1, 0, 0, 0], [p1, q1, 0, 0], [p2, p1*q1, q2, 0], [1, p2*q1, p1*q2, 1, c1], [0, q1, p2*q2, p1, c2], [0, 0, q2, p2, c3], [0, 0, 0, 1]]\n",
      "5\n",
      "[[1, 0, 0, 0], [p1, q1, 0, 0], [p2, p1*q1, q2, 0], [1, p2*q1, p1*q2, 1, c1], [0, q1, p2*q2, p1, c2], [0, 0, q2, p2, c3], [0, 0, 0, 1, c4]]\n",
      "6\n"
     ]
    },
    {
     "data": {
      "text/plain": [
       "[[1, 0, 0, 0],\n",
       " [p1, q1, 0, 0],\n",
       " [p2, p1*q1, q2, 0],\n",
       " [1, p2*q1, p1*q2, 1, c1],\n",
       " [0, q1, p2*q2, p1, c2],\n",
       " [0, 0, q2, p2, c3],\n",
       " [0, 0, 0, 1, c4]]"
      ]
     },
     "execution_count": 11,
     "metadata": {},
     "output_type": "execute_result"
    }
   ],
   "execution_count": 11
  },
  {
   "metadata": {},
   "cell_type": "markdown",
   "source": [
    "## Define function\n",
    "\n",
    "On peut définir la fonction objective.\n",
    "\n",
    "Pour chque bloc, on peut définir une équation : la sommes des variables de p et q = la sommes des variables de carry et les bit de N (suivant la position de bit, les variables ont des poids différent)"
   ],
   "id": "bda75e954031f70f"
  },
  {
   "metadata": {
    "ExecuteTime": {
     "end_time": "2025-07-04T07:17:50.753154Z",
     "start_time": "2025-07-04T07:17:50.742309Z"
    }
   },
   "cell_type": "code",
   "source": [
    "def define_function(table_carry,num_col_per_bloc,N_binary_transposed):\n",
    "    columns = len(table_carry)\n",
    "    first_col_num = 1\n",
    "    obj_function = 0\n",
    "\n",
    "# per bloc\n",
    "    while first_col_num < columns:\n",
    "        lhs = 0\n",
    "        rhs = 0\n",
    "\n",
    "        for i in range(num_col_per_bloc):\n",
    "            col_num = first_col_num + i\n",
    "            lhs += sum(table_carry[col_num]) * 2 ** i\n",
    "            rhs += N_binary_transposed[col_num] * 2 ** i                # N_binary\n",
    "\n",
    "            if col_num+num_col_per_bloc < len(table_carry):\n",
    "                carry_level = table_carry[col_num + num_col_per_bloc]   # 2 is the num_col_per_bloc\n",
    "                carry_list=[]\n",
    "                for ele in carry_level:\n",
    "                    if isinstance(ele,sp.Symbol):\n",
    "                        if ele.name.startswith(\"c\"):\n",
    "                            carry_list.append(ele)\n",
    "                for element in carry_list:\n",
    "                    rhs += element * 2**(2+i)\n",
    "            else: # it's the last column of the last bloc\n",
    "                # comple the last bit of the N_binary\n",
    "                rhs += N_binary_transposed[col_num + 1] * 2 ** (i + 1)\n",
    "\n",
    "        term = (lhs - rhs)**2\n",
    "        print(term)\n",
    "        obj_function+=term\n",
    "\n",
    "        first_col_num += num_col_per_bloc\n",
    "    return obj_function\n",
    "\n"
   ],
   "id": "23e9af1cf3ec8f81",
   "outputs": [],
   "execution_count": 12
  },
  {
   "metadata": {
    "ExecuteTime": {
     "end_time": "2025-07-04T07:17:50.880047Z",
     "start_time": "2025-07-04T07:17:50.839165Z"
    }
   },
   "cell_type": "code",
   "source": [
    "expr = define_function(table_carry,2,N_binary_transposed)\n",
    "expr"
   ],
   "id": "6f767defe5986a50",
   "outputs": [
    {
     "name": "stdout",
     "output_type": "stream",
     "text": [
      "(-4*c1 - 8*c2 + 2*p1*q1 + p1 + 2*p2 + q1 + 2*q2 - 3)**2\n",
      "(c1 + 2*c2 - 4*c3 - 8*c4 + p1*q2 + 2*p1 + p2*q1 + 2*p2*q2 + 2*q1 + 1)**2\n",
      "(c3 + 2*c4 + p2 + q2 - 2)**2\n"
     ]
    },
    {
     "data": {
      "text/plain": [
       "(c3 + 2*c4 + p2 + q2 - 2)**2 + (-4*c1 - 8*c2 + 2*p1*q1 + p1 + 2*p2 + q1 + 2*q2 - 3)**2 + (c1 + 2*c2 - 4*c3 - 8*c4 + p1*q2 + 2*p1 + p2*q1 + 2*p2*q2 + 2*q1 + 1)**2"
      ],
      "text/latex": "$\\displaystyle \\left(c_{3} + 2 c_{4} + p_{2} + q_{2} - 2\\right)^{2} + \\left(- 4 c_{1} - 8 c_{2} + 2 p_{1} q_{1} + p_{1} + 2 p_{2} + q_{1} + 2 q_{2} - 3\\right)^{2} + \\left(c_{1} + 2 c_{2} - 4 c_{3} - 8 c_{4} + p_{1} q_{2} + 2 p_{1} + p_{2} q_{1} + 2 p_{2} q_{2} + 2 q_{1} + 1\\right)^{2}$"
     },
     "execution_count": 13,
     "metadata": {},
     "output_type": "execute_result"
    }
   ],
   "execution_count": 13
  },
  {
   "metadata": {},
   "cell_type": "markdown",
   "source": [
    " # forme quadratique\n",
    "\n",
    "réduction de power et >2terme"
   ],
   "id": "a496e3924de6aa19"
  },
  {
   "metadata": {
    "ExecuteTime": {
     "end_time": "2025-07-04T07:17:51.174887Z",
     "start_time": "2025-07-04T07:17:51.022142Z"
    }
   },
   "cell_type": "code",
   "source": [
    "expr = sp.expand(expr)\n",
    "expr"
   ],
   "id": "a4dcac8cf1563778",
   "outputs": [
    {
     "data": {
      "text/plain": [
       "17*c1**2 + 68*c1*c2 - 8*c1*c3 - 16*c1*c4 - 16*c1*p1*q1 + 2*c1*p1*q2 - 4*c1*p1 + 2*c1*p2*q1 + 4*c1*p2*q2 - 16*c1*p2 - 4*c1*q1 - 16*c1*q2 + 26*c1 + 68*c2**2 - 16*c2*c3 - 32*c2*c4 - 32*c2*p1*q1 + 4*c2*p1*q2 - 8*c2*p1 + 4*c2*p2*q1 + 8*c2*p2*q2 - 32*c2*p2 - 8*c2*q1 - 32*c2*q2 + 52*c2 + 17*c3**2 + 68*c3*c4 - 8*c3*p1*q2 - 16*c3*p1 - 8*c3*p2*q1 - 16*c3*p2*q2 + 2*c3*p2 - 16*c3*q1 + 2*c3*q2 - 12*c3 + 68*c4**2 - 16*c4*p1*q2 - 32*c4*p1 - 16*c4*p2*q1 - 32*c4*p2*q2 + 4*c4*p2 - 32*c4*q1 + 4*c4*q2 - 24*c4 + 4*p1**2*q1**2 + 4*p1**2*q1 + p1**2*q2**2 + 4*p1**2*q2 + 5*p1**2 + 2*p1*p2*q1*q2 + 12*p1*p2*q1 + 4*p1*p2*q2**2 + 8*p1*p2*q2 + 4*p1*p2 + 4*p1*q1**2 + 12*p1*q1*q2 - 2*p1*q1 + 6*p1*q2 - 2*p1 + p2**2*q1**2 + 4*p2**2*q1*q2 + 4*p2**2*q2**2 + 5*p2**2 + 4*p2*q1**2 + 8*p2*q1*q2 + 6*p2*q1 + 14*p2*q2 - 16*p2 + 5*q1**2 + 4*q1*q2 - 2*q1 + 5*q2**2 - 16*q2 + 14"
      ],
      "text/latex": "$\\displaystyle 17 c_{1}^{2} + 68 c_{1} c_{2} - 8 c_{1} c_{3} - 16 c_{1} c_{4} - 16 c_{1} p_{1} q_{1} + 2 c_{1} p_{1} q_{2} - 4 c_{1} p_{1} + 2 c_{1} p_{2} q_{1} + 4 c_{1} p_{2} q_{2} - 16 c_{1} p_{2} - 4 c_{1} q_{1} - 16 c_{1} q_{2} + 26 c_{1} + 68 c_{2}^{2} - 16 c_{2} c_{3} - 32 c_{2} c_{4} - 32 c_{2} p_{1} q_{1} + 4 c_{2} p_{1} q_{2} - 8 c_{2} p_{1} + 4 c_{2} p_{2} q_{1} + 8 c_{2} p_{2} q_{2} - 32 c_{2} p_{2} - 8 c_{2} q_{1} - 32 c_{2} q_{2} + 52 c_{2} + 17 c_{3}^{2} + 68 c_{3} c_{4} - 8 c_{3} p_{1} q_{2} - 16 c_{3} p_{1} - 8 c_{3} p_{2} q_{1} - 16 c_{3} p_{2} q_{2} + 2 c_{3} p_{2} - 16 c_{3} q_{1} + 2 c_{3} q_{2} - 12 c_{3} + 68 c_{4}^{2} - 16 c_{4} p_{1} q_{2} - 32 c_{4} p_{1} - 16 c_{4} p_{2} q_{1} - 32 c_{4} p_{2} q_{2} + 4 c_{4} p_{2} - 32 c_{4} q_{1} + 4 c_{4} q_{2} - 24 c_{4} + 4 p_{1}^{2} q_{1}^{2} + 4 p_{1}^{2} q_{1} + p_{1}^{2} q_{2}^{2} + 4 p_{1}^{2} q_{2} + 5 p_{1}^{2} + 2 p_{1} p_{2} q_{1} q_{2} + 12 p_{1} p_{2} q_{1} + 4 p_{1} p_{2} q_{2}^{2} + 8 p_{1} p_{2} q_{2} + 4 p_{1} p_{2} + 4 p_{1} q_{1}^{2} + 12 p_{1} q_{1} q_{2} - 2 p_{1} q_{1} + 6 p_{1} q_{2} - 2 p_{1} + p_{2}^{2} q_{1}^{2} + 4 p_{2}^{2} q_{1} q_{2} + 4 p_{2}^{2} q_{2}^{2} + 5 p_{2}^{2} + 4 p_{2} q_{1}^{2} + 8 p_{2} q_{1} q_{2} + 6 p_{2} q_{1} + 14 p_{2} q_{2} - 16 p_{2} + 5 q_{1}^{2} + 4 q_{1} q_{2} - 2 q_{1} + 5 q_{2}^{2} - 16 q_{2} + 14$"
     },
     "execution_count": 14,
     "metadata": {},
     "output_type": "execute_result"
    }
   ],
   "execution_count": 14
  },
  {
   "metadata": {
    "ExecuteTime": {
     "end_time": "2025-07-04T07:17:51.737611Z",
     "start_time": "2025-07-04T07:17:51.459894Z"
    }
   },
   "cell_type": "code",
   "source": [
    "expr_reduct_power = reduct_variable_power_function(expr)\n",
    "expr_reduct_power"
   ],
   "id": "7410d0fa70a81f34",
   "outputs": [
    {
     "data": {
      "text/plain": [
       "68*c1*c2 - 8*c1*c3 - 16*c1*c4 - 16*c1*p1*q1 + 2*c1*p1*q2 - 4*c1*p1 + 2*c1*p2*q1 + 4*c1*p2*q2 - 16*c1*p2 - 4*c1*q1 - 16*c1*q2 + 43*c1 - 16*c2*c3 - 32*c2*c4 - 32*c2*p1*q1 + 4*c2*p1*q2 - 8*c2*p1 + 4*c2*p2*q1 + 8*c2*p2*q2 - 32*c2*p2 - 8*c2*q1 - 32*c2*q2 + 120*c2 + 68*c3*c4 - 8*c3*p1*q2 - 16*c3*p1 - 8*c3*p2*q1 - 16*c3*p2*q2 + 2*c3*p2 - 16*c3*q1 + 2*c3*q2 + 5*c3 - 16*c4*p1*q2 - 32*c4*p1 - 16*c4*p2*q1 - 32*c4*p2*q2 + 4*c4*p2 - 32*c4*q1 + 4*c4*q2 + 44*c4 + 2*p1*p2*q1*q2 + 12*p1*p2*q1 + 12*p1*p2*q2 + 4*p1*p2 + 12*p1*q1*q2 + 10*p1*q1 + 11*p1*q2 + 3*p1 + 12*p2*q1*q2 + 11*p2*q1 + 18*p2*q2 - 11*p2 + 4*q1*q2 + 3*q1 - 11*q2 + 14"
      ],
      "text/latex": "$\\displaystyle 68 c_{1} c_{2} - 8 c_{1} c_{3} - 16 c_{1} c_{4} - 16 c_{1} p_{1} q_{1} + 2 c_{1} p_{1} q_{2} - 4 c_{1} p_{1} + 2 c_{1} p_{2} q_{1} + 4 c_{1} p_{2} q_{2} - 16 c_{1} p_{2} - 4 c_{1} q_{1} - 16 c_{1} q_{2} + 43 c_{1} - 16 c_{2} c_{3} - 32 c_{2} c_{4} - 32 c_{2} p_{1} q_{1} + 4 c_{2} p_{1} q_{2} - 8 c_{2} p_{1} + 4 c_{2} p_{2} q_{1} + 8 c_{2} p_{2} q_{2} - 32 c_{2} p_{2} - 8 c_{2} q_{1} - 32 c_{2} q_{2} + 120 c_{2} + 68 c_{3} c_{4} - 8 c_{3} p_{1} q_{2} - 16 c_{3} p_{1} - 8 c_{3} p_{2} q_{1} - 16 c_{3} p_{2} q_{2} + 2 c_{3} p_{2} - 16 c_{3} q_{1} + 2 c_{3} q_{2} + 5 c_{3} - 16 c_{4} p_{1} q_{2} - 32 c_{4} p_{1} - 16 c_{4} p_{2} q_{1} - 32 c_{4} p_{2} q_{2} + 4 c_{4} p_{2} - 32 c_{4} q_{1} + 4 c_{4} q_{2} + 44 c_{4} + 2 p_{1} p_{2} q_{1} q_{2} + 12 p_{1} p_{2} q_{1} + 12 p_{1} p_{2} q_{2} + 4 p_{1} p_{2} + 12 p_{1} q_{1} q_{2} + 10 p_{1} q_{1} + 11 p_{1} q_{2} + 3 p_{1} + 12 p_{2} q_{1} q_{2} + 11 p_{2} q_{1} + 18 p_{2} q_{2} - 11 p_{2} + 4 q_{1} q_{2} + 3 q_{1} - 11 q_{2} + 14$"
     },
     "execution_count": 15,
     "metadata": {},
     "output_type": "execute_result"
    }
   ],
   "execution_count": 15
  },
  {
   "metadata": {
    "ExecuteTime": {
     "end_time": "2025-07-04T07:17:52.092957Z",
     "start_time": "2025-07-04T07:17:51.795144Z"
    }
   },
   "cell_type": "code",
   "source": [
    "reduct_dimension_expr = reduct_demension_expression(expr_reduct_power)\n",
    "reduct_dimension_expr"
   ],
   "id": "863c1561ac3d53a",
   "outputs": [
    {
     "data": {
      "text/plain": [
       "68*c1*c2 - 8*c1*c3 - 16*c1*c4 - 32*c1*p1 - 4*c1*p2 - 4*c1*q1 - 16*c1*q2 + 56*c1*x3 - 24*c1*x7 + 43*c1 - 16*c2*c3 - 32*c2*c4 - 64*c2*p1 - 8*c2*p2 - 8*c2*q1 - 32*c2*q2 + 112*c2*x1 - 48*c2*x8 + 120*c2 + 68*c3*c4 - 32*c3*p1 - 46*c3*p2 - 16*c3*q1 + 2*c3*q2 + 96*c3*x4 + 32*c3*x6 + 5*c3 - 64*c4*p1 - 92*c4*p2 - 32*c4*q1 + 4*c4*q2 + 192*c4*x2 + 64*c4*x5 + 44*c4 + 60*p1*p2 + 34*p1*q1 - 5*p1*q2 + 112*p1*x1 - 48*p1*x10 + 32*p1*x12 + 56*p1*x3 + 64*p1*x5 + 32*p1*x6 - 112*p1*x9 + 3*p1 + 35*p2*q1 + 2*p2*q2 - 48*p2*x11 + 32*p2*x13 + 192*p2*x2 + 96*p2*x4 - 24*p2*x7 - 48*p2*x8 - 112*p2*x9 - 11*p2 + 8*q1*q2 - 32*q1*x1 - 48*q1*x10 - 48*q1*x11 - 8*q1*x14 - 16*q1*x2 - 16*q1*x3 - 8*q1*x4 + 2*q1*x7 + 4*q1*x8 + 12*q1*x9 + 3*q1 + 4*q2*x1 + 12*q2*x10 + 12*q2*x11 + 32*q2*x12 + 32*q2*x13 - 8*q2*x14 - 32*q2*x2 + 2*q2*x3 - 16*q2*x4 - 16*q2*x5 - 8*q2*x6 + 4*q2*x7 + 8*q2*x8 + 28*q2*x9 - 11*q2 - 168*x1 + 72*x10 + 72*x11 - 8*x12*x9 - 48*x12 - 8*x13*x9 - 48*x13 + 2*x14*x9 + 12*x14 - 288*x2 - 84*x3 - 144*x4 - 96*x5 - 48*x6 + 36*x7 + 72*x8 + 168*x9 + 14"
      ],
      "text/latex": "$\\displaystyle 68 c_{1} c_{2} - 8 c_{1} c_{3} - 16 c_{1} c_{4} - 32 c_{1} p_{1} - 4 c_{1} p_{2} - 4 c_{1} q_{1} - 16 c_{1} q_{2} + 56 c_{1} x_{3} - 24 c_{1} x_{7} + 43 c_{1} - 16 c_{2} c_{3} - 32 c_{2} c_{4} - 64 c_{2} p_{1} - 8 c_{2} p_{2} - 8 c_{2} q_{1} - 32 c_{2} q_{2} + 112 c_{2} x_{1} - 48 c_{2} x_{8} + 120 c_{2} + 68 c_{3} c_{4} - 32 c_{3} p_{1} - 46 c_{3} p_{2} - 16 c_{3} q_{1} + 2 c_{3} q_{2} + 96 c_{3} x_{4} + 32 c_{3} x_{6} + 5 c_{3} - 64 c_{4} p_{1} - 92 c_{4} p_{2} - 32 c_{4} q_{1} + 4 c_{4} q_{2} + 192 c_{4} x_{2} + 64 c_{4} x_{5} + 44 c_{4} + 60 p_{1} p_{2} + 34 p_{1} q_{1} - 5 p_{1} q_{2} + 112 p_{1} x_{1} - 48 p_{1} x_{10} + 32 p_{1} x_{12} + 56 p_{1} x_{3} + 64 p_{1} x_{5} + 32 p_{1} x_{6} - 112 p_{1} x_{9} + 3 p_{1} + 35 p_{2} q_{1} + 2 p_{2} q_{2} - 48 p_{2} x_{11} + 32 p_{2} x_{13} + 192 p_{2} x_{2} + 96 p_{2} x_{4} - 24 p_{2} x_{7} - 48 p_{2} x_{8} - 112 p_{2} x_{9} - 11 p_{2} + 8 q_{1} q_{2} - 32 q_{1} x_{1} - 48 q_{1} x_{10} - 48 q_{1} x_{11} - 8 q_{1} x_{14} - 16 q_{1} x_{2} - 16 q_{1} x_{3} - 8 q_{1} x_{4} + 2 q_{1} x_{7} + 4 q_{1} x_{8} + 12 q_{1} x_{9} + 3 q_{1} + 4 q_{2} x_{1} + 12 q_{2} x_{10} + 12 q_{2} x_{11} + 32 q_{2} x_{12} + 32 q_{2} x_{13} - 8 q_{2} x_{14} - 32 q_{2} x_{2} + 2 q_{2} x_{3} - 16 q_{2} x_{4} - 16 q_{2} x_{5} - 8 q_{2} x_{6} + 4 q_{2} x_{7} + 8 q_{2} x_{8} + 28 q_{2} x_{9} - 11 q_{2} - 168 x_{1} + 72 x_{10} + 72 x_{11} - 8 x_{12} x_{9} - 48 x_{12} - 8 x_{13} x_{9} - 48 x_{13} + 2 x_{14} x_{9} + 12 x_{14} - 288 x_{2} - 84 x_{3} - 144 x_{4} - 96 x_{5} - 48 x_{6} + 36 x_{7} + 72 x_{8} + 168 x_{9} + 14$"
     },
     "execution_count": 16,
     "metadata": {},
     "output_type": "execute_result"
    }
   ],
   "execution_count": 16
  },
  {
   "metadata": {},
   "cell_type": "markdown",
   "source": "# Ising modèle",
   "id": "d4740742fd715d7c"
  },
  {
   "metadata": {
    "ExecuteTime": {
     "end_time": "2025-07-04T07:17:52.886980Z",
     "start_time": "2025-07-04T07:17:52.163908Z"
    }
   },
   "cell_type": "code",
   "source": [
    "expr_ising = transfers_qubo2Ising(reduct_dimension_expr)\n",
    "expr_ising"
   ],
   "id": "e952f92465e70df0",
   "outputs": [
    {
     "data": {
      "text/plain": [
       "17*c1*c2 - 2*c1*c3 - 4*c1*c4 - 8*c1*p1 - c1*p2 - c1*q1 - 4*c1*q2 + 14*c1*x3 - 6*c1*x7 + 53*c1/2 - 4*c2*c3 - 8*c2*c4 - 16*c2*p1 - 2*c2*p2 - 2*c2*q1 - 8*c2*q2 + 28*c2*x1 - 12*c2*x8 + 53*c2 + 17*c3*c4 - 8*c3*p1 - 23*c3*p2/2 - 4*c3*q1 + c3*q2/2 + 24*c3*x4 + 8*c3*x6 + 45*c3/2 - 16*c4*p1 - 23*c4*p2 - 8*c4*q1 + c4*q2 + 48*c4*x2 + 16*c4*x5 + 45*c4 + 15*p1*p2 + 17*p1*q1/2 - 5*p1*q2/4 + 28*p1*x1 - 12*p1*x10 + 8*p1*x12 + 14*p1*x3 + 16*p1*x5 + 8*p1*x6 - 28*p1*x9 + 39*p1/4 + 35*p2*q1/4 + p2*q2/2 - 12*p2*x11 + 8*p2*x13 + 48*p2*x2 + 24*p2*x4 - 6*p2*x7 - 12*p2*x8 - 28*p2*x9 + 13*p2/4 + 2*q1*q2 - 8*q1*x1 - 12*q1*x10 - 12*q1*x11 - 2*q1*x14 - 4*q1*x2 - 4*q1*x3 - 2*q1*x4 + q1*x7/2 + q1*x8 + 3*q1*x9 - 135*q1/4 + q2*x1 + 3*q2*x10 + 3*q2*x11 + 8*q2*x12 + 8*q2*x13 - 2*q2*x14 - 8*q2*x2 + q2*x3/2 - 4*q2*x4 - 4*q2*x5 - 2*q2*x6 + q2*x7 + 2*q2*x8 + 7*q2*x9 - 5*q2/4 - 35*x1 + 15*x10 + 15*x11 - 2*x12*x9 - 10*x12 - 2*x13*x9 - 10*x13 + x14*x9/2 + 5*x14/2 - 60*x2 - 35*x3/2 - 30*x4 - 20*x5 - 10*x6 + 15*x7/2 + 15*x8 + 69*x9/2 - 49"
      ],
      "text/latex": "$\\displaystyle 17 c_{1} c_{2} - 2 c_{1} c_{3} - 4 c_{1} c_{4} - 8 c_{1} p_{1} - c_{1} p_{2} - c_{1} q_{1} - 4 c_{1} q_{2} + 14 c_{1} x_{3} - 6 c_{1} x_{7} + \\frac{53 c_{1}}{2} - 4 c_{2} c_{3} - 8 c_{2} c_{4} - 16 c_{2} p_{1} - 2 c_{2} p_{2} - 2 c_{2} q_{1} - 8 c_{2} q_{2} + 28 c_{2} x_{1} - 12 c_{2} x_{8} + 53 c_{2} + 17 c_{3} c_{4} - 8 c_{3} p_{1} - \\frac{23 c_{3} p_{2}}{2} - 4 c_{3} q_{1} + \\frac{c_{3} q_{2}}{2} + 24 c_{3} x_{4} + 8 c_{3} x_{6} + \\frac{45 c_{3}}{2} - 16 c_{4} p_{1} - 23 c_{4} p_{2} - 8 c_{4} q_{1} + c_{4} q_{2} + 48 c_{4} x_{2} + 16 c_{4} x_{5} + 45 c_{4} + 15 p_{1} p_{2} + \\frac{17 p_{1} q_{1}}{2} - \\frac{5 p_{1} q_{2}}{4} + 28 p_{1} x_{1} - 12 p_{1} x_{10} + 8 p_{1} x_{12} + 14 p_{1} x_{3} + 16 p_{1} x_{5} + 8 p_{1} x_{6} - 28 p_{1} x_{9} + \\frac{39 p_{1}}{4} + \\frac{35 p_{2} q_{1}}{4} + \\frac{p_{2} q_{2}}{2} - 12 p_{2} x_{11} + 8 p_{2} x_{13} + 48 p_{2} x_{2} + 24 p_{2} x_{4} - 6 p_{2} x_{7} - 12 p_{2} x_{8} - 28 p_{2} x_{9} + \\frac{13 p_{2}}{4} + 2 q_{1} q_{2} - 8 q_{1} x_{1} - 12 q_{1} x_{10} - 12 q_{1} x_{11} - 2 q_{1} x_{14} - 4 q_{1} x_{2} - 4 q_{1} x_{3} - 2 q_{1} x_{4} + \\frac{q_{1} x_{7}}{2} + q_{1} x_{8} + 3 q_{1} x_{9} - \\frac{135 q_{1}}{4} + q_{2} x_{1} + 3 q_{2} x_{10} + 3 q_{2} x_{11} + 8 q_{2} x_{12} + 8 q_{2} x_{13} - 2 q_{2} x_{14} - 8 q_{2} x_{2} + \\frac{q_{2} x_{3}}{2} - 4 q_{2} x_{4} - 4 q_{2} x_{5} - 2 q_{2} x_{6} + q_{2} x_{7} + 2 q_{2} x_{8} + 7 q_{2} x_{9} - \\frac{5 q_{2}}{4} - 35 x_{1} + 15 x_{10} + 15 x_{11} - 2 x_{12} x_{9} - 10 x_{12} - 2 x_{13} x_{9} - 10 x_{13} + \\frac{x_{14} x_{9}}{2} + \\frac{5 x_{14}}{2} - 60 x_{2} - \\frac{35 x_{3}}{2} - 30 x_{4} - 20 x_{5} - 10 x_{6} + \\frac{15 x_{7}}{2} + 15 x_{8} + \\frac{69 x_{9}}{2} - 49$"
     },
     "execution_count": 17,
     "metadata": {},
     "output_type": "execute_result"
    }
   ],
   "execution_count": 17
  },
  {
   "metadata": {},
   "cell_type": "markdown",
   "source": "# solver",
   "id": "7372c5f89f9dafb4"
  },
  {
   "metadata": {
    "ExecuteTime": {
     "end_time": "2025-07-04T07:17:53.644648Z",
     "start_time": "2025-07-04T07:17:52.956953Z"
    }
   },
   "cell_type": "code",
   "source": [
    "import dimod\n",
    "from dwave.preprocessing.composites import SpinReversalTransformComposite\n",
    "\n",
    "# Compose the sampler\n",
    "base_sampler = dimod.ExactSolver()\n",
    "composed_sampler = SpinReversalTransformComposite(base_sampler)\n",
    "\n",
    "def get_solver_parameter(expr_ising):\n",
    "    linear = {}\n",
    "    quadratic ={}\n",
    "    offset = 0\n",
    "\n",
    "    for term in expr_ising.args:\n",
    "        variables_liste = sorted(term.free_symbols, key=sort_key)\n",
    "        coef = term.as_coeff_mul()[0]\n",
    "        if len(term.free_symbols) ==0:\n",
    "            offset = coef\n",
    "        if len(term.free_symbols) ==1:\n",
    "            linear[variables_liste[0].name] = coef\n",
    "        elif len(term.free_symbols) ==2:\n",
    "            quadratic[(variables_liste[0].name,variables_liste[1].name)] = coef\n",
    "\n",
    "    return (linear,quadratic,offset)\n",
    "\n",
    "def get_solution(expr_ising):\n",
    "    (linear,quadratic,offset) = get_solver_parameter(expr_ising)\n",
    "    response = composed_sampler.sample_ising(linear, quadratic)  #response.data() return (solution, energy, num_occurrences)\n",
    "    solution = next(response.data())[0]\n",
    "    return solution"
   ],
   "id": "32abf1614dd8db22",
   "outputs": [],
   "execution_count": 18
  },
  {
   "metadata": {
    "ExecuteTime": {
     "end_time": "2025-07-04T07:18:01.944593Z",
     "start_time": "2025-07-04T07:17:53.696362Z"
    }
   },
   "cell_type": "code",
   "source": [
    "solution = get_solution(expr_ising)\n",
    "solution"
   ],
   "id": "5665541c6c875a8b",
   "outputs": [
    {
     "data": {
      "text/plain": [
       "{'c4': np.int8(-1),\n",
       " 'q2': np.int8(1),\n",
       " 'q1': np.int8(1),\n",
       " 'x8': np.int8(-1),\n",
       " 'x1': np.int8(1),\n",
       " 'x7': np.int8(-1),\n",
       " 'c3': np.int8(-1),\n",
       " 'p2': np.int8(-1),\n",
       " 'x3': np.int8(1),\n",
       " 'x9': np.int8(-1),\n",
       " 'x14': np.int8(1),\n",
       " 'c1': np.int8(-1),\n",
       " 'p1': np.int8(-1),\n",
       " 'c2': np.int8(-1),\n",
       " 'x10': np.int8(-1),\n",
       " 'x11': np.int8(-1),\n",
       " 'x2': np.int8(1),\n",
       " 'x4': np.int8(1),\n",
       " 'x5': np.int8(1),\n",
       " 'x6': np.int8(1),\n",
       " 'x12': np.int8(1),\n",
       " 'x13': np.int8(1)}"
      ]
     },
     "execution_count": 19,
     "metadata": {},
     "output_type": "execute_result"
    }
   ],
   "execution_count": 19
  },
  {
   "metadata": {
    "ExecuteTime": {
     "end_time": "2025-07-04T07:18:01.996013Z",
     "start_time": "2025-07-04T07:18:01.990245Z"
    }
   },
   "cell_type": "code",
   "source": [
    "def calcule_p_q(solution,p,q):\n",
    "    dic_varialbe_value = {}\n",
    "    for var in variables:\n",
    "        valeur_ising = solution.get(var.name, np.int8(-1))\n",
    "\n",
    "        if(valeur_ising == np.int8(1)):\n",
    "            dic_varialbe_value[var] = int(1)\n",
    "        else:\n",
    "            dic_varialbe_value[var] = int(0)\n",
    "\n",
    "    p_value = p.subs(dic_varialbe_value)\n",
    "    q_value = q.subs(dic_varialbe_value)\n",
    "\n",
    "    return (p_value.evalf(),q_value.evalf())"
   ],
   "id": "4894be0a1eae8668",
   "outputs": [],
   "execution_count": 20
  },
  {
   "metadata": {
    "ExecuteTime": {
     "end_time": "2025-07-04T07:18:02.052604Z",
     "start_time": "2025-07-04T07:18:02.042114Z"
    }
   },
   "cell_type": "code",
   "source": "calcule_p_q(solution,p_expr,q_expr)",
   "id": "eb2d7d997fd57ff3",
   "outputs": [
    {
     "data": {
      "text/plain": [
       "(9.00000000000000, 15.0000000000000)"
      ]
     },
     "execution_count": 21,
     "metadata": {},
     "output_type": "execute_result"
    }
   ],
   "execution_count": 21
  },
  {
   "metadata": {},
   "cell_type": "markdown",
   "source": "# Sum up function",
   "id": "bc561fcc79f2cbc5"
  },
  {
   "metadata": {
    "ExecuteTime": {
     "end_time": "2025-07-04T07:18:02.143664Z",
     "start_time": "2025-07-04T07:18:02.108464Z"
    }
   },
   "cell_type": "code",
   "source": [
    "def factorization(N,p_len,q_len,num_col_per_bloc):\n",
    "    global p_expr,q_expr,N_binary,N_binary_transposed,variables, dictionaire_auxiliary_variable, res\n",
    "\n",
    "    (p_expr,p_binary) = set_variable(p_len,\"p\")\n",
    "    (q_expr,q_binary) = set_variable(q_len,\"q\")\n",
    "    N_binary = get_N_binary(N)\n",
    "    N_binary_transposed = N_binary[::-1]\n",
    "\n",
    "    table = table_multiplication(p_binary,q_binary)\n",
    "    table_complet = adjust_table(table)\n",
    "    table_transposed = define_table_transposed(table_complet)\n",
    "    table_carry = define_carry_table(table_transposed,num_col_per_bloc,N_binary)\n",
    "\n",
    "    expr_init = define_function(table_carry,num_col_per_bloc,N_binary_transposed)\n",
    "    reduct_expr = reduct_expression(expr_init)\n",
    "\n",
    "    expr_ising = transfers_qubo2Ising(reduct_expr)\n",
    "\n",
    "    solution = get_solution(expr_ising)\n",
    "    (p,q) = calcule_p_q(solution,p_expr,q_expr)\n",
    "\n",
    "    return p,q\n",
    "\n",
    "factorization(35,3,3,2)"
   ],
   "id": "c6ee6dcdf7bbbd17",
   "outputs": [
    {
     "name": "stdout",
     "output_type": "stream",
     "text": [
      "[[1, 0, 0], [p1, q1, 0], [1, p1*q1, 1], [0, q1, p1], [0, 0, 1]]\n",
      "1\n",
      "[[1, 0, 0], [p1, q1, 0], [1, p1*q1, 1], [0, q1, p1], [0, 0, 1]]\n",
      "2\n",
      "[[1, 0, 0], [p1, q1, 0], [1, p1*q1, 1], [0, q1, p1], [0, 0, 1]]\n",
      "3\n",
      "[[1, 0, 0], [p1, q1, 0], [1, p1*q1, 1], [0, q1, p1], [0, 0, 1]]\n",
      "4\n",
      "(2*p1*q1 + p1 + q1 + 3)**2\n",
      "(p1 + q1 - 2)**2\n"
     ]
    },
    {
     "data": {
      "text/plain": [
       "(5.00000000000000, 5.00000000000000)"
      ]
     },
     "execution_count": 22,
     "metadata": {},
     "output_type": "execute_result"
    }
   ],
   "execution_count": 22
  },
  {
   "metadata": {
    "ExecuteTime": {
     "end_time": "2025-07-04T07:18:10.259948Z",
     "start_time": "2025-07-04T07:18:02.200852Z"
    }
   },
   "cell_type": "code",
   "source": "factorization(143,4,4,2)",
   "id": "1005a8b08fcd1481",
   "outputs": [
    {
     "name": "stdout",
     "output_type": "stream",
     "text": [
      "[[1, 0, 0, 0], [p1, q1, 0, 0], [p2, p1*q1, q2, 0], [1, p2*q1, p1*q2, 1], [0, q1, p2*q2, p1], [0, 0, q2, p2], [0, 0, 0, 1]]\n",
      "1\n",
      "[[1, 0, 0, 0], [p1, q1, 0, 0], [p2, p1*q1, q2, 0], [1, p2*q1, p1*q2, 1], [0, q1, p2*q2, p1], [0, 0, q2, p2], [0, 0, 0, 1]]\n",
      "2\n",
      "[[1, 0, 0, 0], [p1, q1, 0, 0], [p2, p1*q1, q2, 0], [1, p2*q1, p1*q2, 1, c1], [0, q1, p2*q2, p1], [0, 0, q2, p2], [0, 0, 0, 1]]\n",
      "3\n",
      "[[1, 0, 0, 0], [p1, q1, 0, 0], [p2, p1*q1, q2, 0], [1, p2*q1, p1*q2, 1, c1], [0, q1, p2*q2, p1, c2], [0, 0, q2, p2], [0, 0, 0, 1]]\n",
      "4\n",
      "[[1, 0, 0, 0], [p1, q1, 0, 0], [p2, p1*q1, q2, 0], [1, p2*q1, p1*q2, 1, c1], [0, q1, p2*q2, p1, c2], [0, 0, q2, p2, c3], [0, 0, 0, 1]]\n",
      "5\n",
      "[[1, 0, 0, 0], [p1, q1, 0, 0], [p2, p1*q1, q2, 0], [1, p2*q1, p1*q2, 1, c1], [0, q1, p2*q2, p1, c2], [0, 0, q2, p2, c3], [0, 0, 0, 1, c4]]\n",
      "6\n",
      "(-4*c1 - 8*c2 + 2*p1*q1 + p1 + 2*p2 + q1 + 2*q2 - 3)**2\n",
      "(c1 + 2*c2 - 4*c3 - 8*c4 + p1*q2 + 2*p1 + p2*q1 + 2*p2*q2 + 2*q1 + 1)**2\n",
      "(c3 + 2*c4 + p2 + q2 - 2)**2\n"
     ]
    },
    {
     "data": {
      "text/plain": [
       "(9.00000000000000, 15.0000000000000)"
      ]
     },
     "execution_count": 23,
     "metadata": {},
     "output_type": "execute_result"
    }
   ],
   "execution_count": 23
  }
 ],
 "metadata": {
  "kernelspec": {
   "display_name": "Python 3",
   "language": "python",
   "name": "python3"
  },
  "language_info": {
   "codemirror_mode": {
    "name": "ipython",
    "version": 2
   },
   "file_extension": ".py",
   "mimetype": "text/x-python",
   "name": "python",
   "nbconvert_exporter": "python",
   "pygments_lexer": "ipython2",
   "version": "2.7.6"
  }
 },
 "nbformat": 4,
 "nbformat_minor": 5
}
