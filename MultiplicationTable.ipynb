{
 "cells": [
  {
   "metadata": {},
   "cell_type": "markdown",
   "source": "# Modified Multiplication Table Method",
   "id": "e1457085d4f0182b"
  },
  {
   "metadata": {},
   "cell_type": "markdown",
   "source": [
    "## Definir fonction\n",
    "\n",
    "import fonctions déjà définites"
   ],
   "id": "db89e8a88bb886fa"
  },
  {
   "metadata": {
    "ExecuteTime": {
     "end_time": "2025-07-16T08:13:13.362731Z",
     "start_time": "2025-07-16T08:13:09.967907Z"
    }
   },
   "cell_type": "code",
   "source": [
    "from email.utils import collapse_rfc2231_value\n",
    "\n",
    "import sympy as sp\n",
    "import numpy as np\n",
    "import math\n",
    "import copy\n",
    "\n",
    "global variables\n",
    "variables=[]\n",
    "dictionaire_auxiliary_variable={}\n",
    "res=1\n",
    "\n",
    "def variable_name(n,prefix):  # np est len de p en binaire, nq est len de q en binaire\n",
    "    var_name_list = []\n",
    "    for i in range(n):\n",
    "        var_name_list.append(prefix+str(i+1))\n",
    "    return var_name_list\n",
    "\n",
    "def create_variables(var_name):\n",
    "    if isinstance(var_name, str) :\n",
    "        try:\n",
    "            symbol = sp.symbols(var_name)\n",
    "            globals()[var_name] = symbol\n",
    "            variables.append(symbol)\n",
    "        except ValueError:\n",
    "            print(f\"{var_name} ValueError\")\n",
    "    return symbol\n",
    "\n",
    "def create_varibales_from_list(list):\n",
    "    for element in list:\n",
    "        create_variables(element)\n",
    "    return\n",
    "\n",
    "def reduct_variable_power_term(term):\n",
    "    new_term = 1\n",
    "    for variable,power in term.as_powers_dict().items():\n",
    "        new_term *= variable\n",
    "    return new_term\n",
    "\n",
    "def reduct_variable_power_function(expr):\n",
    "    expanded_expr = sp.expand(expr)\n",
    "    expanded_reducted = 0\n",
    "    for term in expanded_expr.args:\n",
    "        new_term = reduct_variable_power_term(term)\n",
    "        expanded_reducted += new_term\n",
    "    return expanded_reducted\n",
    "\n",
    "def sort_key(variable):\n",
    "    name = str(variable)\n",
    "    # Split le nom du variable à deux parties: letter & number\n",
    "    letter = name[0]\n",
    "    number = int(name[1:])\n",
    "    return (letter, number)\n",
    "\n",
    "def rest_term(coef , rest_variable_liste):\n",
    "    new_term = coef\n",
    "    while(len(rest_variable_liste)!=0):\n",
    "        new_term = new_term * rest_variable_liste[0]\n",
    "        rest_variable_liste.pop()\n",
    "    return new_term\n",
    "\n",
    "def reduct_demension_term(coef,variables_liste):\n",
    "    global res\n",
    "\n",
    "    # sélection les 3 premières variables\n",
    "    [x_1, x_2, x_3] = variables_liste[:3]\n",
    "\n",
    "    # garder le reste des variables\n",
    "    rest_variables_liste= variables_liste[3:]\n",
    "    rest_expr = rest_term(coef , rest_variables_liste)\n",
    "\n",
    "    # commence la réduction dimension\n",
    "    tup=(x_1,x_2)\n",
    "    #check dict s'il existe déjà une variable auxiliary qui = les deux meme variable\n",
    "    key = next((k for k, v in dictionaire_auxiliary_variable.items() if v == tup), None)\n",
    "    if key==None:#sinon, il faut creer une variable auxiliary\n",
    "        var_name = \"x\" + str(res)\n",
    "        x_4 = create_variables(var_name)\n",
    "        dictionaire_auxiliary_variable[x_4]=(x_1,x_2)\n",
    "        res += 1\n",
    "    else:\n",
    "        x_4 = key\n",
    "\n",
    "    expr_reduct_formula = x_4 * x_3 + 2 * (x_1 * x_2 - 2 * x_1 * x_4 - 2 * x_2 * x_4 + 3 * x_4)\n",
    "\n",
    "    expr_reduct = rest_expr * expr_reduct_formula\n",
    "    return sp.expand(expr_reduct)\n",
    "\n",
    "def reduct_demension_expression(expr):\n",
    "    new_expr = 0\n",
    "    need_reduction = False\n",
    "\n",
    "    for term in expr.args:\n",
    "        # get coefficant(la constante) et variables(dans une liste)\n",
    "        variables_liste = sorted(term.free_symbols, key=sort_key)\n",
    "        coef = term.as_coeff_mul()[0]\n",
    "\n",
    "        # pour les termes qui ont plus de 2 variables, il faut appliquer la formule de réduction\n",
    "        if len(variables_liste) > 2 :\n",
    "            if len(variables_liste) > 3 :\n",
    "                need_reduction = True\n",
    "            new_term = reduct_demension_term(coef, variables_liste)\n",
    "            new_expr +=  new_term\n",
    "        else:\n",
    "            # sinon, on ne fait rien et les met directement dans la nouvelle expression\n",
    "            new_expr += term\n",
    "\n",
    "    if need_reduction: # récursive\n",
    "        return reduct_demension_expression(new_expr)\n",
    "    else:\n",
    "        return new_expr\n",
    "\n",
    "def reduct_expression(expr_init):\n",
    "    expr = sp.expand(expr_init)\n",
    "    expr_reduct_power = reduct_variable_power_function(expr)\n",
    "    reduct_dimension_expr = reduct_demension_expression(expr_reduct_power)\n",
    "    return reduct_dimension_expr\n",
    "\n",
    "def transfers_qubo2Ising(reduct_demension_expr):\n",
    "    subs_relations = {(variable, ( variable + 1 ) /2) for variable in variables}\n",
    "\n",
    "    # Après la substitution, variables dans l'expression sont des variables d'Ising dans {-1,+1}\n",
    "    new_expr = reduct_demension_expr.subs(subs_relations)\n",
    "    new_expr = sp.expand(new_expr)\n",
    "    return new_expr"
   ],
   "id": "2519e775a7950ebb",
   "outputs": [],
   "execution_count": 1
  },
  {
   "metadata": {},
   "cell_type": "markdown",
   "source": [
    "# Action\n",
    "\n",
    "Exemple: N= 143 = 13 * 11"
   ],
   "id": "92c37890b84d89da"
  },
  {
   "metadata": {
    "ExecuteTime": {
     "end_time": "2025-07-16T08:13:39.735595Z",
     "start_time": "2025-07-16T08:13:39.717112Z"
    }
   },
   "cell_type": "code",
   "source": [
    "def set_variable(l,prefix):\n",
    " # l : number of bit\n",
    " # prefix : string, name of variables\n",
    "\n",
    "    expr = 1\n",
    "    var_binary = [1]\n",
    "    for i in range(1,l-1):\n",
    "        var_name = (prefix+ str(i))\n",
    "        var = create_variables(var_name)\n",
    "        expr = 2**i * var + expr\n",
    "        var_binary.append(var)\n",
    "    expr = expr + 2 ** (l-1)\n",
    "    var_binary.append(1)\n",
    "    var_binary = var_binary[::-1]\n",
    "    return (expr,var_binary)\n",
    "\n",
    "def get_N_binary(N):\n",
    "    binary_str = np.binary_repr(N)\n",
    "    binary_list = [int(bit) for bit in binary_str]\n",
    "    return binary_list"
   ],
   "id": "bd87cfb3e1a417f8",
   "outputs": [],
   "execution_count": 2
  },
  {
   "metadata": {
    "ExecuteTime": {
     "end_time": "2025-07-16T08:13:43.665419Z",
     "start_time": "2025-07-16T08:13:43.535010Z"
    }
   },
   "cell_type": "code",
   "source": [
    "(p_expr,p_binary) = set_variable(4,\"p\")\n",
    "print(f\"p_expr = {p_expr}\")\n",
    "print(f\"p_binary = {p_binary}\")\n",
    "\n",
    "(q_expr,q_binary) = set_variable(4,\"q\")\n",
    "print(f\"q_expr = {q_expr}\")\n",
    "print(f\"q_binary = {q_binary}\")\n",
    "\n",
    "N_binary = get_N_binary(143)\n",
    "print(f\"N_binary = {N_binary}\")\n",
    "\n",
    "N_binary_transposed = N_binary[::-1]\n",
    "print(f\"N_binary_transposed = {N_binary_transposed}\")"
   ],
   "id": "fac8c33c0a0c7afd",
   "outputs": [
    {
     "name": "stdout",
     "output_type": "stream",
     "text": [
      "p_expr = 2*p1 + 4*p2 + 9\n",
      "p_binary = [1, p2, p1, 1]\n",
      "q_expr = 2*q1 + 4*q2 + 9\n",
      "q_binary = [1, q2, q1, 1]\n",
      "N_binary = [1, 0, 0, 0, 1, 1, 1, 1]\n",
      "N_binary_transposed = [1, 1, 1, 1, 0, 0, 0, 1]\n"
     ]
    }
   ],
   "execution_count": 3
  },
  {
   "metadata": {},
   "cell_type": "markdown",
   "source": [
    "## Table de mulp\n",
    "\n",
    "On constuit la table de mulplication (p * q) de ligne par ligne\n",
    "\n",
    "étape 1:\n",
    "\n",
    "        p_binary = [1, p2, p1, 1]\n",
    "\n",
    "        q_binary = [1, q2, q1, 1]\n",
    "\n",
    "pour chaque ligne: un bit de q * les bits de p. On utilise 0 pour complèter\n",
    "1. 1 * p = [1, p2, p1, 1]\n",
    "2. q1 * p = [q1, p2*q1, p1*q1, q1, 0]"
   ],
   "id": "56bd72cd03fe0a52"
  },
  {
   "metadata": {
    "ExecuteTime": {
     "end_time": "2025-07-16T08:13:49.226458Z",
     "start_time": "2025-07-16T08:13:49.216882Z"
    }
   },
   "cell_type": "code",
   "source": [
    "def table_multiplication_ligne(coef,p_binary):\n",
    "    lst = [coef * element for element in p_binary]\n",
    "    return lst\n",
    "\n",
    "def table_multiplication(p_binary,q_binary):\n",
    "    table = []\n",
    "    lst = q_binary.copy()\n",
    "    res = 0\n",
    "    while not lst == []:\n",
    "        element = lst.pop()\n",
    "        ele = table_multiplication_ligne(element,p_binary)\n",
    "        for i in range(res):\n",
    "            ele.append(0)\n",
    "        table.append(ele)\n",
    "        res+=1\n",
    "    #table.append(N_binary)\n",
    "    return table"
   ],
   "id": "2e40dcf90c2514f4",
   "outputs": [],
   "execution_count": 4
  },
  {
   "metadata": {
    "ExecuteTime": {
     "end_time": "2025-07-16T08:13:52.219371Z",
     "start_time": "2025-07-16T08:13:52.202092Z"
    }
   },
   "cell_type": "code",
   "source": [
    "table = table_multiplication(p_binary,q_binary)\n",
    "table"
   ],
   "id": "33b5082259575c5a",
   "outputs": [
    {
     "data": {
      "text/plain": [
       "[[1, p2, p1, 1],\n",
       " [q1, p2*q1, p1*q1, q1, 0],\n",
       " [q2, p2*q2, p1*q2, q2, 0, 0],\n",
       " [1, p2, p1, 1, 0, 0, 0]]"
      ]
     },
     "execution_count": 5,
     "metadata": {},
     "output_type": "execute_result"
    }
   ],
   "execution_count": 5
  },
  {
   "metadata": {},
   "cell_type": "markdown",
   "source": [
    "étape 2 :\n",
    "    On utilise 0 pour complèter, bien aligner"
   ],
   "id": "2483d8f5d2159349"
  },
  {
   "metadata": {
    "ExecuteTime": {
     "end_time": "2025-07-16T08:13:55.642632Z",
     "start_time": "2025-07-16T08:13:55.633148Z"
    }
   },
   "cell_type": "code",
   "source": [
    "def adjust_table(table):\n",
    "    max_cols = max(len(row) for row in table)\n",
    "    complet_table = [[0]*(max_cols - len(row)) + row for row in table]\n",
    "    return complet_table"
   ],
   "id": "d6ce10124ec6f118",
   "outputs": [],
   "execution_count": 6
  },
  {
   "metadata": {
    "ExecuteTime": {
     "end_time": "2025-07-16T08:13:57.914630Z",
     "start_time": "2025-07-16T08:13:57.904035Z"
    }
   },
   "cell_type": "code",
   "source": [
    "\n",
    "table_complet = adjust_table(table)\n",
    "table_complet"
   ],
   "id": "95d0908fbf97c0c7",
   "outputs": [
    {
     "data": {
      "text/plain": [
       "[[0, 0, 0, 1, p2, p1, 1],\n",
       " [0, 0, q1, p2*q1, p1*q1, q1, 0],\n",
       " [0, q2, p2*q2, p1*q2, q2, 0, 0],\n",
       " [1, p2, p1, 1, 0, 0, 0]]"
      ]
     },
     "execution_count": 7,
     "metadata": {},
     "output_type": "execute_result"
    }
   ],
   "execution_count": 7
  },
  {
   "metadata": {},
   "cell_type": "markdown",
   "source": "## Obtenir chaque colonne de la table",
   "id": "e15df85748d460a"
  },
  {
   "metadata": {
    "ExecuteTime": {
     "end_time": "2025-07-16T08:14:06.902981Z",
     "start_time": "2025-07-16T08:14:06.894042Z"
    }
   },
   "cell_type": "code",
   "source": [
    "def define_table_transposed(table_complet):\n",
    "    table_transposed = [[row[i] for row in table_complet] for i in range(len(table_complet[0]))]\n",
    "    table_transposed = table_transposed[::-1]\n",
    "    return table_transposed\n"
   ],
   "id": "2ed92bb33a88d610",
   "outputs": [],
   "execution_count": 8
  },
  {
   "metadata": {
    "ExecuteTime": {
     "end_time": "2025-07-16T08:14:08.985876Z",
     "start_time": "2025-07-16T08:14:08.973271Z"
    }
   },
   "cell_type": "code",
   "source": [
    "table_transposed = define_table_transposed(table_complet)\n",
    "table_transposed"
   ],
   "id": "96ec2e96bdcba39f",
   "outputs": [
    {
     "data": {
      "text/plain": [
       "[[1, 0, 0, 0],\n",
       " [p1, q1, 0, 0],\n",
       " [p2, p1*q1, q2, 0],\n",
       " [1, p2*q1, p1*q2, 1],\n",
       " [0, q1, p2*q2, p1],\n",
       " [0, 0, q2, p2],\n",
       " [0, 0, 0, 1]]"
      ]
     },
     "execution_count": 9,
     "metadata": {},
     "output_type": "execute_result"
    }
   ],
   "execution_count": 9
  },
  {
   "metadata": {},
   "cell_type": "markdown",
   "source": "## Explore la table par bloc",
   "id": "ba6534d40d86458d"
  },
  {
   "metadata": {},
   "cell_type": "markdown",
   "source": [
    "On divise la table par bloc. Chaque bloc contient 2 colonnes.(Pourquoi 2? Pour l'instance, on définit 2 suivant notre envie).\n",
    "\n",
    "Par bloc, les variables(de p et q) et 2 bits de N décide le nombre de \"carry\" qu'on doit créer.\n",
    "\n",
    "SommeMax : on suppose que tout les variables ont la valeur 1. Suivant les positions des variables, elle portent des poid différents( soit 2^0 ou 2^1).\n",
    "\n",
    "\n",
    "On cherche une somme max qui ait les deux dernier bits que les deux bits de N, cette somme qui doit être <= SommeMax. Donc,si SommeMax n'a pas les deux meme bits que N, on peut trouvez la vraie valeur maximale en réduisant récursivement SommesMax de un."
   ],
   "id": "5bec811cf891f4c4"
  },
  {
   "metadata": {},
   "cell_type": "markdown",
   "source": [
    "## Définir les carry\n",
    "\n",
    "faut par bloc"
   ],
   "id": "10d66d5fed1e0e18"
  },
  {
   "metadata": {
    "ExecuteTime": {
     "end_time": "2025-07-16T12:12:00.536877Z",
     "start_time": "2025-07-16T12:12:00.516191Z"
    }
   },
   "cell_type": "code",
   "source": [
    "def num_carry(table,N_binary_transposed,first_num_col, num_col_bloc):\n",
    "    expr = 0\n",
    "    for i in range(num_col_bloc):\n",
    "        num_col = first_num_col + i\n",
    "        expr += sum(table[num_col]) * 2 ** i\n",
    "\n",
    "    if isinstance(expr, (int)):\n",
    "        max = expr\n",
    "    else:\n",
    "        # suppose all the terms have value 1 so that the number of the terms is the max value of the sum of the column\n",
    "        variables_res = expr.free_symbols\n",
    "        substitution_dict = {var: 1 for var in variables_res}\n",
    "        max = expr.subs(substitution_dict)\n",
    "\n",
    "    # ici on peux améliorer par rapport au papier: c'est de trouver un max du bloc qui a les meme dernière bits que les meme bloc de bit de N\n",
    "    # binary_str = np.binary_repr(max)\n",
    "    # s=binary_str[-num_col_bloc:]\n",
    "    #\n",
    "    # while [int(char) for char in s] != N_binary_transposed[first_num_col:first_num_col+num_col_bloc]:\n",
    "    #     max -= 1\n",
    "    #     binary_str = np.binary_repr(max)\n",
    "    #     s=binary_str[-num_col_bloc:]\n",
    "\n",
    "    num = len(np.binary_repr(max)) - num_col_bloc\n",
    "    return num\n",
    "\n",
    "def define_carry_var(num_carry):\n",
    "    global c_res\n",
    "    carry_var = []\n",
    "    for i in range(num_carry):\n",
    "        var = create_variables(\"c\" + str(c_res))\n",
    "        carry_var.append(var)\n",
    "        c_res+=1\n",
    "    return carry_var"
   ],
   "id": "c0796102ed1a03de",
   "outputs": [],
   "execution_count": 31
  },
  {
   "metadata": {
    "ExecuteTime": {
     "end_time": "2025-07-16T12:12:02.826661Z",
     "start_time": "2025-07-16T12:12:02.812005Z"
    }
   },
   "cell_type": "code",
   "source": "num_carry(table_transposed,N_binary_transposed,1,2)",
   "id": "c2de5298e16463e2",
   "outputs": [
    {
     "data": {
      "text/plain": [
       "2"
      ]
     },
     "execution_count": 32,
     "metadata": {},
     "output_type": "execute_result"
    }
   ],
   "execution_count": 32
  },
  {
   "metadata": {
    "ExecuteTime": {
     "end_time": "2025-07-16T12:12:10.428437Z",
     "start_time": "2025-07-16T12:12:10.411694Z"
    }
   },
   "cell_type": "code",
   "source": [
    "def define_carry_table(table_transposed,num_per_bloc,N_binary):\n",
    "    global c_res\n",
    "    c_res = 1\n",
    "\n",
    "    #table_res = table_transposed.copy()\n",
    "    table_res = copy.deepcopy(table_transposed)\n",
    "    columns = len(table_transposed)\n",
    "\n",
    "    N_binary_transposed = N_binary[::-1]\n",
    "    #obj_function = 0\n",
    "\n",
    "    #begain from the 2nd col\n",
    "    first_col_num = 1\n",
    "\n",
    "    while first_col_num < columns:\n",
    "        num = num_carry(table_res,N_binary_transposed,first_col_num,num_per_bloc)\n",
    "        if num > 0:\n",
    "            lst_carry_var = define_carry_var(num) #a list contains the created carry variables.\n",
    "            for j in range(num):\n",
    "                carry_col = first_col_num + num_per_bloc + j\n",
    "                if carry_col <= len(table_res)- 1:\n",
    "                    table_res[carry_col].append(lst_carry_var[j])\n",
    "                #elif len(table_res) < len(N_binary_transposed):\n",
    "                #    table_res.append([lst_carry_var[j]])# new column\n",
    "\n",
    "        first_col_num += num_per_bloc\n",
    "    return table_res\n",
    "\n",
    "table_carry = define_carry_table(table_transposed,2,N_binary)\n",
    "table_carry"
   ],
   "id": "d971e9f99a9cfc1b",
   "outputs": [
    {
     "data": {
      "text/plain": [
       "[[1, 0, 0, 0],\n",
       " [p1, q1, 0, 0],\n",
       " [p2, p1*q1, q2, 0],\n",
       " [1, p2*q1, p1*q2, 1, c1],\n",
       " [0, q1, p2*q2, p1, c2],\n",
       " [0, 0, q2, p2, c3],\n",
       " [0, 0, 0, 1, c4]]"
      ]
     },
     "execution_count": 33,
     "metadata": {},
     "output_type": "execute_result"
    }
   ],
   "execution_count": 33
  },
  {
   "metadata": {},
   "cell_type": "markdown",
   "source": [
    "## Define function\n",
    "\n",
    "On peut définir la fonction objective.\n",
    "\n",
    "Pour chque bloc, on peut définir une équation : la sommes des variables de p et q = la sommes des variables de carry et les bit de N (suivant la position de bit, les variables ont des poids différent)"
   ],
   "id": "bda75e954031f70f"
  },
  {
   "metadata": {
    "ExecuteTime": {
     "end_time": "2025-07-16T12:12:52.997143Z",
     "start_time": "2025-07-16T12:12:52.987457Z"
    }
   },
   "cell_type": "code",
   "source": [
    "def define_function(table_carry,num_col_per_bloc,N_binary_transposed):\n",
    "    columns = len(table_carry)\n",
    "    first_col_num = 1  # the 0th column is ignored\n",
    "    obj_function = 0\n",
    "\n",
    "# per bloc\n",
    "    while first_col_num < columns:\n",
    "        lhs = 0\n",
    "        rhs = 0\n",
    "\n",
    "        for i in range(num_col_per_bloc): # i is from 0 to num col -1\n",
    "            col_num = first_col_num + i\n",
    "            if col_num < len(table_carry):\n",
    "                # variables of p and q\n",
    "                lhs += sum(table_carry[col_num]) * 2 ** i\n",
    "                if col_num < len(N_binary_transposed):\n",
    "                    # bits of N\n",
    "                    rhs += N_binary_transposed[col_num] * 2 ** i\n",
    "\n",
    "                # carry\n",
    "                if col_num+num_col_per_bloc < len(table_carry):\n",
    "                    carry_level = table_carry[col_num + num_col_per_bloc]   # 2 is the num_col_per_bloc\n",
    "                    carry_list=[]\n",
    "                    for ele in carry_level:\n",
    "                        if isinstance(ele,sp.Symbol):\n",
    "                            if ele.name.startswith(\"c\"):\n",
    "                                carry_list.append(ele)\n",
    "                    for element in carry_list:\n",
    "                        rhs += element * 2**(2+i)\n",
    "                else: # it's the last column of the last bloc\n",
    "                    # comple the last bit of the N_binary\n",
    "                    if col_num + 1 < len(N_binary_transposed):\n",
    "                        rhs += N_binary_transposed[col_num + 1] * 2 ** (i + 1)\n",
    "\n",
    "        term = (lhs - rhs)**2\n",
    "        obj_function+=term\n",
    "\n",
    "        first_col_num += num_col_per_bloc\n",
    "    return obj_function"
   ],
   "id": "23e9af1cf3ec8f81",
   "outputs": [],
   "execution_count": 34
  },
  {
   "metadata": {
    "ExecuteTime": {
     "end_time": "2025-07-16T12:12:56.002485Z",
     "start_time": "2025-07-16T12:12:55.980438Z"
    }
   },
   "cell_type": "code",
   "source": [
    "expr = define_function(table_carry,2,N_binary_transposed)\n",
    "expr"
   ],
   "id": "6f767defe5986a50",
   "outputs": [
    {
     "data": {
      "text/plain": [
       "(c3 + 2*c4 + p2 + q2 - 2)**2 + (-4*c1 - 8*c2 + 2*p1*q1 + p1 + 2*p2 + q1 + 2*q2 - 3)**2 + (c1 + 2*c2 - 4*c3 - 8*c4 + p1*q2 + 2*p1 + p2*q1 + 2*p2*q2 + 2*q1 + 1)**2"
      ],
      "text/latex": "$\\displaystyle \\left(c_{3} + 2 c_{4} + p_{2} + q_{2} - 2\\right)^{2} + \\left(- 4 c_{1} - 8 c_{2} + 2 p_{1} q_{1} + p_{1} + 2 p_{2} + q_{1} + 2 q_{2} - 3\\right)^{2} + \\left(c_{1} + 2 c_{2} - 4 c_{3} - 8 c_{4} + p_{1} q_{2} + 2 p_{1} + p_{2} q_{1} + 2 p_{2} q_{2} + 2 q_{1} + 1\\right)^{2}$"
     },
     "execution_count": 35,
     "metadata": {},
     "output_type": "execute_result"
    }
   ],
   "execution_count": 35
  },
  {
   "metadata": {},
   "cell_type": "markdown",
   "source": [
    " # forme quadratique\n",
    "\n",
    "réduction de power et >2terme"
   ],
   "id": "a496e3924de6aa19"
  },
  {
   "metadata": {
    "ExecuteTime": {
     "end_time": "2025-07-16T12:13:42.338576Z",
     "start_time": "2025-07-16T12:13:42.280075Z"
    }
   },
   "cell_type": "code",
   "source": [
    "expr = sp.expand(expr)\n",
    "expr"
   ],
   "id": "a4dcac8cf1563778",
   "outputs": [
    {
     "data": {
      "text/plain": [
       "17*c1**2 + 68*c1*c2 - 8*c1*c3 - 16*c1*c4 - 16*c1*p1*q1 + 2*c1*p1*q2 - 4*c1*p1 + 2*c1*p2*q1 + 4*c1*p2*q2 - 16*c1*p2 - 4*c1*q1 - 16*c1*q2 + 26*c1 + 68*c2**2 - 16*c2*c3 - 32*c2*c4 - 32*c2*p1*q1 + 4*c2*p1*q2 - 8*c2*p1 + 4*c2*p2*q1 + 8*c2*p2*q2 - 32*c2*p2 - 8*c2*q1 - 32*c2*q2 + 52*c2 + 17*c3**2 + 68*c3*c4 - 8*c3*p1*q2 - 16*c3*p1 - 8*c3*p2*q1 - 16*c3*p2*q2 + 2*c3*p2 - 16*c3*q1 + 2*c3*q2 - 12*c3 + 68*c4**2 - 16*c4*p1*q2 - 32*c4*p1 - 16*c4*p2*q1 - 32*c4*p2*q2 + 4*c4*p2 - 32*c4*q1 + 4*c4*q2 - 24*c4 + 4*p1**2*q1**2 + 4*p1**2*q1 + p1**2*q2**2 + 4*p1**2*q2 + 5*p1**2 + 2*p1*p2*q1*q2 + 12*p1*p2*q1 + 4*p1*p2*q2**2 + 8*p1*p2*q2 + 4*p1*p2 + 4*p1*q1**2 + 12*p1*q1*q2 - 2*p1*q1 + 6*p1*q2 - 2*p1 + p2**2*q1**2 + 4*p2**2*q1*q2 + 4*p2**2*q2**2 + 5*p2**2 + 4*p2*q1**2 + 8*p2*q1*q2 + 6*p2*q1 + 14*p2*q2 - 16*p2 + 5*q1**2 + 4*q1*q2 - 2*q1 + 5*q2**2 - 16*q2 + 14"
      ],
      "text/latex": "$\\displaystyle 17 c_{1}^{2} + 68 c_{1} c_{2} - 8 c_{1} c_{3} - 16 c_{1} c_{4} - 16 c_{1} p_{1} q_{1} + 2 c_{1} p_{1} q_{2} - 4 c_{1} p_{1} + 2 c_{1} p_{2} q_{1} + 4 c_{1} p_{2} q_{2} - 16 c_{1} p_{2} - 4 c_{1} q_{1} - 16 c_{1} q_{2} + 26 c_{1} + 68 c_{2}^{2} - 16 c_{2} c_{3} - 32 c_{2} c_{4} - 32 c_{2} p_{1} q_{1} + 4 c_{2} p_{1} q_{2} - 8 c_{2} p_{1} + 4 c_{2} p_{2} q_{1} + 8 c_{2} p_{2} q_{2} - 32 c_{2} p_{2} - 8 c_{2} q_{1} - 32 c_{2} q_{2} + 52 c_{2} + 17 c_{3}^{2} + 68 c_{3} c_{4} - 8 c_{3} p_{1} q_{2} - 16 c_{3} p_{1} - 8 c_{3} p_{2} q_{1} - 16 c_{3} p_{2} q_{2} + 2 c_{3} p_{2} - 16 c_{3} q_{1} + 2 c_{3} q_{2} - 12 c_{3} + 68 c_{4}^{2} - 16 c_{4} p_{1} q_{2} - 32 c_{4} p_{1} - 16 c_{4} p_{2} q_{1} - 32 c_{4} p_{2} q_{2} + 4 c_{4} p_{2} - 32 c_{4} q_{1} + 4 c_{4} q_{2} - 24 c_{4} + 4 p_{1}^{2} q_{1}^{2} + 4 p_{1}^{2} q_{1} + p_{1}^{2} q_{2}^{2} + 4 p_{1}^{2} q_{2} + 5 p_{1}^{2} + 2 p_{1} p_{2} q_{1} q_{2} + 12 p_{1} p_{2} q_{1} + 4 p_{1} p_{2} q_{2}^{2} + 8 p_{1} p_{2} q_{2} + 4 p_{1} p_{2} + 4 p_{1} q_{1}^{2} + 12 p_{1} q_{1} q_{2} - 2 p_{1} q_{1} + 6 p_{1} q_{2} - 2 p_{1} + p_{2}^{2} q_{1}^{2} + 4 p_{2}^{2} q_{1} q_{2} + 4 p_{2}^{2} q_{2}^{2} + 5 p_{2}^{2} + 4 p_{2} q_{1}^{2} + 8 p_{2} q_{1} q_{2} + 6 p_{2} q_{1} + 14 p_{2} q_{2} - 16 p_{2} + 5 q_{1}^{2} + 4 q_{1} q_{2} - 2 q_{1} + 5 q_{2}^{2} - 16 q_{2} + 14$"
     },
     "execution_count": 36,
     "metadata": {},
     "output_type": "execute_result"
    }
   ],
   "execution_count": 36
  },
  {
   "metadata": {
    "ExecuteTime": {
     "end_time": "2025-07-16T12:13:43.510395Z",
     "start_time": "2025-07-16T12:13:43.431190Z"
    }
   },
   "cell_type": "code",
   "source": [
    "expr_reduct_power = reduct_variable_power_function(expr)\n",
    "expr_reduct_power"
   ],
   "id": "7410d0fa70a81f34",
   "outputs": [
    {
     "data": {
      "text/plain": [
       "68*c1*c2 - 8*c1*c3 - 16*c1*c4 - 16*c1*p1*q1 + 2*c1*p1*q2 - 4*c1*p1 + 2*c1*p2*q1 + 4*c1*p2*q2 - 16*c1*p2 - 4*c1*q1 - 16*c1*q2 + 43*c1 - 16*c2*c3 - 32*c2*c4 - 32*c2*p1*q1 + 4*c2*p1*q2 - 8*c2*p1 + 4*c2*p2*q1 + 8*c2*p2*q2 - 32*c2*p2 - 8*c2*q1 - 32*c2*q2 + 120*c2 + 68*c3*c4 - 8*c3*p1*q2 - 16*c3*p1 - 8*c3*p2*q1 - 16*c3*p2*q2 + 2*c3*p2 - 16*c3*q1 + 2*c3*q2 + 5*c3 - 16*c4*p1*q2 - 32*c4*p1 - 16*c4*p2*q1 - 32*c4*p2*q2 + 4*c4*p2 - 32*c4*q1 + 4*c4*q2 + 44*c4 + 2*p1*p2*q1*q2 + 12*p1*p2*q1 + 12*p1*p2*q2 + 4*p1*p2 + 12*p1*q1*q2 + 10*p1*q1 + 11*p1*q2 + 3*p1 + 12*p2*q1*q2 + 11*p2*q1 + 18*p2*q2 - 11*p2 + 4*q1*q2 + 3*q1 - 11*q2 + 14"
      ],
      "text/latex": "$\\displaystyle 68 c_{1} c_{2} - 8 c_{1} c_{3} - 16 c_{1} c_{4} - 16 c_{1} p_{1} q_{1} + 2 c_{1} p_{1} q_{2} - 4 c_{1} p_{1} + 2 c_{1} p_{2} q_{1} + 4 c_{1} p_{2} q_{2} - 16 c_{1} p_{2} - 4 c_{1} q_{1} - 16 c_{1} q_{2} + 43 c_{1} - 16 c_{2} c_{3} - 32 c_{2} c_{4} - 32 c_{2} p_{1} q_{1} + 4 c_{2} p_{1} q_{2} - 8 c_{2} p_{1} + 4 c_{2} p_{2} q_{1} + 8 c_{2} p_{2} q_{2} - 32 c_{2} p_{2} - 8 c_{2} q_{1} - 32 c_{2} q_{2} + 120 c_{2} + 68 c_{3} c_{4} - 8 c_{3} p_{1} q_{2} - 16 c_{3} p_{1} - 8 c_{3} p_{2} q_{1} - 16 c_{3} p_{2} q_{2} + 2 c_{3} p_{2} - 16 c_{3} q_{1} + 2 c_{3} q_{2} + 5 c_{3} - 16 c_{4} p_{1} q_{2} - 32 c_{4} p_{1} - 16 c_{4} p_{2} q_{1} - 32 c_{4} p_{2} q_{2} + 4 c_{4} p_{2} - 32 c_{4} q_{1} + 4 c_{4} q_{2} + 44 c_{4} + 2 p_{1} p_{2} q_{1} q_{2} + 12 p_{1} p_{2} q_{1} + 12 p_{1} p_{2} q_{2} + 4 p_{1} p_{2} + 12 p_{1} q_{1} q_{2} + 10 p_{1} q_{1} + 11 p_{1} q_{2} + 3 p_{1} + 12 p_{2} q_{1} q_{2} + 11 p_{2} q_{1} + 18 p_{2} q_{2} - 11 p_{2} + 4 q_{1} q_{2} + 3 q_{1} - 11 q_{2} + 14$"
     },
     "execution_count": 37,
     "metadata": {},
     "output_type": "execute_result"
    }
   ],
   "execution_count": 37
  },
  {
   "metadata": {
    "ExecuteTime": {
     "end_time": "2025-07-16T12:13:44.835136Z",
     "start_time": "2025-07-16T12:13:44.687425Z"
    }
   },
   "cell_type": "code",
   "source": [
    "reduct_dimension_expr = reduct_demension_expression(expr_reduct_power)\n",
    "reduct_dimension_expr"
   ],
   "id": "863c1561ac3d53a",
   "outputs": [
    {
     "data": {
      "text/plain": [
       "68*c1*c2 - 8*c1*c3 - 16*c1*c4 - 32*c1*p1 - 4*c1*p2 - 4*c1*q1 - 16*c1*q2 + 56*c1*x2 - 24*c1*x6 + 43*c1 - 16*c2*c3 - 32*c2*c4 - 64*c2*p1 - 8*c2*p2 - 8*c2*q1 - 32*c2*q2 - 48*c2*x3 + 112*c2*x5 + 120*c2 + 68*c3*c4 - 32*c3*p1 - 46*c3*p2 - 16*c3*q1 + 2*c3*q2 + 96*c3*x1 + 32*c3*x4 + 5*c3 - 64*c4*p1 - 92*c4*p2 - 32*c4*q1 + 4*c4*q2 + 192*c4*x13 + 64*c4*x14 + 44*c4 + 60*p1*p2 + 34*p1*q1 - 5*p1*q2 + 32*p1*x10 + 64*p1*x14 + 56*p1*x2 + 32*p1*x4 + 112*p1*x5 - 112*p1*x7 - 48*p1*x8 + 3*p1 + 35*p2*q1 + 2*p2*q2 + 96*p2*x1 + 32*p2*x11 + 192*p2*x13 - 48*p2*x3 - 24*p2*x6 - 112*p2*x7 - 48*p2*x9 - 11*p2 + 8*q1*q2 - 8*q1*x1 - 8*q1*x12 - 16*q1*x13 - 16*q1*x2 + 4*q1*x3 - 32*q1*x5 + 2*q1*x6 + 12*q1*x7 - 48*q1*x8 - 48*q1*x9 + 3*q1 - 16*q2*x1 + 32*q2*x10 + 32*q2*x11 - 8*q2*x12 - 32*q2*x13 - 16*q2*x14 + 2*q2*x2 + 8*q2*x3 - 8*q2*x4 + 4*q2*x5 + 4*q2*x6 + 28*q2*x7 + 12*q2*x8 + 12*q2*x9 - 11*q2 - 144*x1 - 8*x10*x7 - 48*x10 - 8*x11*x7 - 48*x11 + 2*x12*x7 + 12*x12 - 288*x13 - 96*x14 - 84*x2 + 72*x3 - 48*x4 - 168*x5 + 36*x6 + 168*x7 + 72*x8 + 72*x9 + 14"
      ],
      "text/latex": "$\\displaystyle 68 c_{1} c_{2} - 8 c_{1} c_{3} - 16 c_{1} c_{4} - 32 c_{1} p_{1} - 4 c_{1} p_{2} - 4 c_{1} q_{1} - 16 c_{1} q_{2} + 56 c_{1} x_{2} - 24 c_{1} x_{6} + 43 c_{1} - 16 c_{2} c_{3} - 32 c_{2} c_{4} - 64 c_{2} p_{1} - 8 c_{2} p_{2} - 8 c_{2} q_{1} - 32 c_{2} q_{2} - 48 c_{2} x_{3} + 112 c_{2} x_{5} + 120 c_{2} + 68 c_{3} c_{4} - 32 c_{3} p_{1} - 46 c_{3} p_{2} - 16 c_{3} q_{1} + 2 c_{3} q_{2} + 96 c_{3} x_{1} + 32 c_{3} x_{4} + 5 c_{3} - 64 c_{4} p_{1} - 92 c_{4} p_{2} - 32 c_{4} q_{1} + 4 c_{4} q_{2} + 192 c_{4} x_{13} + 64 c_{4} x_{14} + 44 c_{4} + 60 p_{1} p_{2} + 34 p_{1} q_{1} - 5 p_{1} q_{2} + 32 p_{1} x_{10} + 64 p_{1} x_{14} + 56 p_{1} x_{2} + 32 p_{1} x_{4} + 112 p_{1} x_{5} - 112 p_{1} x_{7} - 48 p_{1} x_{8} + 3 p_{1} + 35 p_{2} q_{1} + 2 p_{2} q_{2} + 96 p_{2} x_{1} + 32 p_{2} x_{11} + 192 p_{2} x_{13} - 48 p_{2} x_{3} - 24 p_{2} x_{6} - 112 p_{2} x_{7} - 48 p_{2} x_{9} - 11 p_{2} + 8 q_{1} q_{2} - 8 q_{1} x_{1} - 8 q_{1} x_{12} - 16 q_{1} x_{13} - 16 q_{1} x_{2} + 4 q_{1} x_{3} - 32 q_{1} x_{5} + 2 q_{1} x_{6} + 12 q_{1} x_{7} - 48 q_{1} x_{8} - 48 q_{1} x_{9} + 3 q_{1} - 16 q_{2} x_{1} + 32 q_{2} x_{10} + 32 q_{2} x_{11} - 8 q_{2} x_{12} - 32 q_{2} x_{13} - 16 q_{2} x_{14} + 2 q_{2} x_{2} + 8 q_{2} x_{3} - 8 q_{2} x_{4} + 4 q_{2} x_{5} + 4 q_{2} x_{6} + 28 q_{2} x_{7} + 12 q_{2} x_{8} + 12 q_{2} x_{9} - 11 q_{2} - 144 x_{1} - 8 x_{10} x_{7} - 48 x_{10} - 8 x_{11} x_{7} - 48 x_{11} + 2 x_{12} x_{7} + 12 x_{12} - 288 x_{13} - 96 x_{14} - 84 x_{2} + 72 x_{3} - 48 x_{4} - 168 x_{5} + 36 x_{6} + 168 x_{7} + 72 x_{8} + 72 x_{9} + 14$"
     },
     "execution_count": 38,
     "metadata": {},
     "output_type": "execute_result"
    }
   ],
   "execution_count": 38
  },
  {
   "metadata": {},
   "cell_type": "markdown",
   "source": "# Ising modèle",
   "id": "d4740742fd715d7c"
  },
  {
   "metadata": {
    "ExecuteTime": {
     "end_time": "2025-07-16T12:13:47.549313Z",
     "start_time": "2025-07-16T12:13:47.201091Z"
    }
   },
   "cell_type": "code",
   "source": [
    "expr_ising = transfers_qubo2Ising(reduct_dimension_expr)\n",
    "expr_ising"
   ],
   "id": "e952f92465e70df0",
   "outputs": [
    {
     "data": {
      "text/plain": [
       "17*c1*c2 - 2*c1*c3 - 4*c1*c4 - 8*c1*p1 - c1*p2 - c1*q1 - 4*c1*q2 + 14*c1*x2 - 6*c1*x6 + 53*c1/2 - 4*c2*c3 - 8*c2*c4 - 16*c2*p1 - 2*c2*p2 - 2*c2*q1 - 8*c2*q2 - 12*c2*x3 + 28*c2*x5 + 53*c2 + 17*c3*c4 - 8*c3*p1 - 23*c3*p2/2 - 4*c3*q1 + c3*q2/2 + 24*c3*x1 + 8*c3*x4 + 45*c3/2 - 16*c4*p1 - 23*c4*p2 - 8*c4*q1 + c4*q2 + 48*c4*x13 + 16*c4*x14 + 45*c4 + 15*p1*p2 + 17*p1*q1/2 - 5*p1*q2/4 + 8*p1*x10 + 16*p1*x14 + 14*p1*x2 + 8*p1*x4 + 28*p1*x5 - 28*p1*x7 - 12*p1*x8 + 39*p1/4 + 35*p2*q1/4 + p2*q2/2 + 24*p2*x1 + 8*p2*x11 + 48*p2*x13 - 12*p2*x3 - 6*p2*x6 - 28*p2*x7 - 12*p2*x9 + 13*p2/4 + 2*q1*q2 - 2*q1*x1 - 2*q1*x12 - 4*q1*x13 - 4*q1*x2 + q1*x3 - 8*q1*x5 + q1*x6/2 + 3*q1*x7 - 12*q1*x8 - 12*q1*x9 - 135*q1/4 - 4*q2*x1 + 8*q2*x10 + 8*q2*x11 - 2*q2*x12 - 8*q2*x13 - 4*q2*x14 + q2*x2/2 + 2*q2*x3 - 2*q2*x4 + q2*x5 + q2*x6 + 7*q2*x7 + 3*q2*x8 + 3*q2*x9 - 5*q2/4 - 30*x1 - 2*x10*x7 - 10*x10 - 2*x11*x7 - 10*x11 + x12*x7/2 + 5*x12/2 - 60*x13 - 20*x14 - 35*x2/2 + 15*x3 - 10*x4 - 35*x5 + 15*x6/2 + 69*x7/2 + 15*x8 + 15*x9 - 49"
      ],
      "text/latex": "$\\displaystyle 17 c_{1} c_{2} - 2 c_{1} c_{3} - 4 c_{1} c_{4} - 8 c_{1} p_{1} - c_{1} p_{2} - c_{1} q_{1} - 4 c_{1} q_{2} + 14 c_{1} x_{2} - 6 c_{1} x_{6} + \\frac{53 c_{1}}{2} - 4 c_{2} c_{3} - 8 c_{2} c_{4} - 16 c_{2} p_{1} - 2 c_{2} p_{2} - 2 c_{2} q_{1} - 8 c_{2} q_{2} - 12 c_{2} x_{3} + 28 c_{2} x_{5} + 53 c_{2} + 17 c_{3} c_{4} - 8 c_{3} p_{1} - \\frac{23 c_{3} p_{2}}{2} - 4 c_{3} q_{1} + \\frac{c_{3} q_{2}}{2} + 24 c_{3} x_{1} + 8 c_{3} x_{4} + \\frac{45 c_{3}}{2} - 16 c_{4} p_{1} - 23 c_{4} p_{2} - 8 c_{4} q_{1} + c_{4} q_{2} + 48 c_{4} x_{13} + 16 c_{4} x_{14} + 45 c_{4} + 15 p_{1} p_{2} + \\frac{17 p_{1} q_{1}}{2} - \\frac{5 p_{1} q_{2}}{4} + 8 p_{1} x_{10} + 16 p_{1} x_{14} + 14 p_{1} x_{2} + 8 p_{1} x_{4} + 28 p_{1} x_{5} - 28 p_{1} x_{7} - 12 p_{1} x_{8} + \\frac{39 p_{1}}{4} + \\frac{35 p_{2} q_{1}}{4} + \\frac{p_{2} q_{2}}{2} + 24 p_{2} x_{1} + 8 p_{2} x_{11} + 48 p_{2} x_{13} - 12 p_{2} x_{3} - 6 p_{2} x_{6} - 28 p_{2} x_{7} - 12 p_{2} x_{9} + \\frac{13 p_{2}}{4} + 2 q_{1} q_{2} - 2 q_{1} x_{1} - 2 q_{1} x_{12} - 4 q_{1} x_{13} - 4 q_{1} x_{2} + q_{1} x_{3} - 8 q_{1} x_{5} + \\frac{q_{1} x_{6}}{2} + 3 q_{1} x_{7} - 12 q_{1} x_{8} - 12 q_{1} x_{9} - \\frac{135 q_{1}}{4} - 4 q_{2} x_{1} + 8 q_{2} x_{10} + 8 q_{2} x_{11} - 2 q_{2} x_{12} - 8 q_{2} x_{13} - 4 q_{2} x_{14} + \\frac{q_{2} x_{2}}{2} + 2 q_{2} x_{3} - 2 q_{2} x_{4} + q_{2} x_{5} + q_{2} x_{6} + 7 q_{2} x_{7} + 3 q_{2} x_{8} + 3 q_{2} x_{9} - \\frac{5 q_{2}}{4} - 30 x_{1} - 2 x_{10} x_{7} - 10 x_{10} - 2 x_{11} x_{7} - 10 x_{11} + \\frac{x_{12} x_{7}}{2} + \\frac{5 x_{12}}{2} - 60 x_{13} - 20 x_{14} - \\frac{35 x_{2}}{2} + 15 x_{3} - 10 x_{4} - 35 x_{5} + \\frac{15 x_{6}}{2} + \\frac{69 x_{7}}{2} + 15 x_{8} + 15 x_{9} - 49$"
     },
     "execution_count": 39,
     "metadata": {},
     "output_type": "execute_result"
    }
   ],
   "execution_count": 39
  },
  {
   "metadata": {},
   "cell_type": "markdown",
   "source": "# solver",
   "id": "7372c5f89f9dafb4"
  },
  {
   "metadata": {
    "ExecuteTime": {
     "end_time": "2025-07-16T12:13:49.366658Z",
     "start_time": "2025-07-16T12:13:49.356811Z"
    }
   },
   "cell_type": "code",
   "source": [
    "import dimod\n",
    "from dwave.preprocessing.composites import SpinReversalTransformComposite\n",
    "\n",
    "# Compose the sampler\n",
    "base_sampler = dimod.ExactSolver()\n",
    "composed_sampler = SpinReversalTransformComposite(base_sampler)\n",
    "\n",
    "def get_solver_parameter(expr_ising):\n",
    "    linear = {}\n",
    "    quadratic ={}\n",
    "    offset = 0\n",
    "\n",
    "    for term in expr_ising.args:\n",
    "        variables_liste = sorted(term.free_symbols, key=sort_key)\n",
    "        coef = term.as_coeff_mul()[0]\n",
    "        if len(term.free_symbols) ==0:\n",
    "            offset = coef\n",
    "        if len(term.free_symbols) ==1:\n",
    "            linear[variables_liste[0].name] = coef\n",
    "        elif len(term.free_symbols) ==2:\n",
    "            quadratic[(variables_liste[0].name,variables_liste[1].name)] = coef\n",
    "\n",
    "    return (linear,quadratic,offset)\n",
    "\n",
    "def get_solution(expr_ising):\n",
    "    (linear,quadratic,offset) = get_solver_parameter(expr_ising)\n",
    "    response = composed_sampler.sample_ising(linear, quadratic)  #response.data() return (solution, energy, num_occurrences)\n",
    "    solution = next(response.data())[0]\n",
    "    return solution"
   ],
   "id": "32abf1614dd8db22",
   "outputs": [],
   "execution_count": 40
  },
  {
   "metadata": {
    "ExecuteTime": {
     "end_time": "2025-07-16T12:14:02.267660Z",
     "start_time": "2025-07-16T12:13:55.027834Z"
    }
   },
   "cell_type": "code",
   "source": [
    "solution = get_solution(expr_ising)\n",
    "solution"
   ],
   "id": "5665541c6c875a8b",
   "outputs": [
    {
     "data": {
      "text/plain": [
       "{'c4': np.int8(-1),\n",
       " 'q2': np.int8(1),\n",
       " 'q1': np.int8(1),\n",
       " 'x3': np.int8(-1),\n",
       " 'x5': np.int8(1),\n",
       " 'x6': np.int8(-1),\n",
       " 'c3': np.int8(-1),\n",
       " 'p2': np.int8(-1),\n",
       " 'x2': np.int8(1),\n",
       " 'x7': np.int8(-1),\n",
       " 'x12': np.int8(1),\n",
       " 'c1': np.int8(-1),\n",
       " 'p1': np.int8(-1),\n",
       " 'c2': np.int8(-1),\n",
       " 'x8': np.int8(-1),\n",
       " 'x9': np.int8(-1),\n",
       " 'x13': np.int8(1),\n",
       " 'x1': np.int8(1),\n",
       " 'x14': np.int8(1),\n",
       " 'x4': np.int8(1),\n",
       " 'x10': np.int8(1),\n",
       " 'x11': np.int8(1)}"
      ]
     },
     "execution_count": 41,
     "metadata": {},
     "output_type": "execute_result"
    }
   ],
   "execution_count": 41
  },
  {
   "metadata": {
    "ExecuteTime": {
     "end_time": "2025-07-16T12:28:31.456575Z",
     "start_time": "2025-07-16T12:28:31.450355Z"
    }
   },
   "cell_type": "code",
   "source": "print(len(solution))",
   "id": "f5494eaab65ee741",
   "outputs": [
    {
     "name": "stdout",
     "output_type": "stream",
     "text": [
      "22\n"
     ]
    }
   ],
   "execution_count": 46
  },
  {
   "metadata": {
    "ExecuteTime": {
     "end_time": "2025-07-16T12:14:04.099890Z",
     "start_time": "2025-07-16T12:14:04.091321Z"
    }
   },
   "cell_type": "code",
   "source": [
    "def calcule_p_q(solution,p,q):\n",
    "    dic_varialbe_value = {}\n",
    "    for var in variables:\n",
    "        valeur_ising = solution.get(var.name, np.int8(-1))\n",
    "\n",
    "        if(valeur_ising == np.int8(1)):\n",
    "            dic_varialbe_value[var] = int(1)\n",
    "        else:\n",
    "            dic_varialbe_value[var] = int(0)\n",
    "\n",
    "    p_value = p.subs(dic_varialbe_value)\n",
    "    q_value = q.subs(dic_varialbe_value)\n",
    "\n",
    "    return (p_value.evalf(),q_value.evalf())"
   ],
   "id": "4894be0a1eae8668",
   "outputs": [],
   "execution_count": 42
  },
  {
   "metadata": {
    "ExecuteTime": {
     "end_time": "2025-07-16T12:14:08.179719Z",
     "start_time": "2025-07-16T12:14:08.168601Z"
    }
   },
   "cell_type": "code",
   "source": "calcule_p_q(solution,p_expr,q_expr)",
   "id": "eb2d7d997fd57ff3",
   "outputs": [
    {
     "data": {
      "text/plain": [
       "(9.00000000000000, 15.0000000000000)"
      ]
     },
     "execution_count": 43,
     "metadata": {},
     "output_type": "execute_result"
    }
   ],
   "execution_count": 43
  },
  {
   "metadata": {},
   "cell_type": "markdown",
   "source": "# Sum up function",
   "id": "bc561fcc79f2cbc5"
  },
  {
   "metadata": {
    "ExecuteTime": {
     "end_time": "2025-07-16T12:14:13.321567Z",
     "start_time": "2025-07-16T12:14:13.233756Z"
    }
   },
   "cell_type": "code",
   "source": [
    "def factorization(N,p_len,q_len,num_col_per_bloc):\n",
    "    global p_expr,q_expr,N_binary,N_binary_transposed,variables, dictionaire_auxiliary_variable, res\n",
    "\n",
    "    (p_expr,p_binary) = set_variable(p_len,\"p\")\n",
    "    (q_expr,q_binary) = set_variable(q_len,\"q\")\n",
    "    N_binary = get_N_binary(N)\n",
    "    N_binary_transposed = N_binary[::-1]\n",
    "\n",
    "    table = table_multiplication(p_binary,q_binary)\n",
    "    table_complet = adjust_table(table)\n",
    "    table_transposed = define_table_transposed(table_complet)\n",
    "    table_carry = define_carry_table(table_transposed,num_col_per_bloc,N_binary)\n",
    "    print(table_carry)\n",
    "\n",
    "    expr_init = define_function(table_carry,num_col_per_bloc,N_binary_transposed)\n",
    "    reduct_expr = reduct_expression(expr_init)\n",
    "\n",
    "    expr_ising = transfers_qubo2Ising(reduct_expr)\n",
    "\n",
    "    solution = get_solution(expr_ising)\n",
    "    (p,q) = calcule_p_q(solution,p_expr,q_expr)\n",
    "\n",
    "    return p,q\n",
    "\n",
    "factorization(35,3,3,2)"
   ],
   "id": "c6ee6dcdf7bbbd17",
   "outputs": [
    {
     "name": "stdout",
     "output_type": "stream",
     "text": [
      "[[1, 0, 0], [p1, q1, 0], [1, p1*q1, 1], [0, q1, p1, c1], [0, 0, 1, c2]]\n"
     ]
    },
    {
     "data": {
      "text/plain": [
       "(5.00000000000000, 7.00000000000000)"
      ]
     },
     "execution_count": 44,
     "metadata": {},
     "output_type": "execute_result"
    }
   ],
   "execution_count": 44
  },
  {
   "metadata": {
    "ExecuteTime": {
     "end_time": "2025-07-16T12:14:22.579680Z",
     "start_time": "2025-07-16T12:14:15.080139Z"
    }
   },
   "cell_type": "code",
   "source": "factorization(143,4,4,2)",
   "id": "1005a8b08fcd1481",
   "outputs": [
    {
     "name": "stdout",
     "output_type": "stream",
     "text": [
      "[[1, 0, 0, 0], [p1, q1, 0, 0], [p2, p1*q1, q2, 0], [1, p2*q1, p1*q2, 1, c1], [0, q1, p2*q2, p1, c2], [0, 0, q2, p2, c3], [0, 0, 0, 1, c4]]\n"
     ]
    },
    {
     "data": {
      "text/plain": [
       "(9.00000000000000, 15.0000000000000)"
      ]
     },
     "execution_count": 45,
     "metadata": {},
     "output_type": "execute_result"
    }
   ],
   "execution_count": 45
  }
 ],
 "metadata": {
  "kernelspec": {
   "display_name": "Python 3",
   "language": "python",
   "name": "python3"
  },
  "language_info": {
   "codemirror_mode": {
    "name": "ipython",
    "version": 2
   },
   "file_extension": ".py",
   "mimetype": "text/x-python",
   "name": "python",
   "nbconvert_exporter": "python",
   "pygments_lexer": "ipython2",
   "version": "2.7.6"
  }
 },
 "nbformat": 4,
 "nbformat_minor": 5
}
