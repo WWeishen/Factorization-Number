{
 "cells": [
  {
   "metadata": {},
   "cell_type": "markdown",
   "source": "# Modified Multiplication Table Method",
   "id": "e1457085d4f0182b"
  },
  {
   "metadata": {},
   "cell_type": "markdown",
   "source": [
    "## Definir fonction\n",
    "\n",
    "fonction objective"
   ],
   "id": "db89e8a88bb886fa"
  },
  {
   "cell_type": "code",
   "id": "initial_id",
   "metadata": {
    "collapsed": true,
    "ExecuteTime": {
     "end_time": "2025-06-27T15:52:13.771178Z",
     "start_time": "2025-06-27T15:52:12.428907Z"
    }
   },
   "source": [
    "import sympy as sp\n",
    "import numpy as np\n",
    "import math\n"
   ],
   "outputs": [],
   "execution_count": 1
  },
  {
   "metadata": {
    "ExecuteTime": {
     "end_time": "2025-06-27T15:52:13.789210Z",
     "start_time": "2025-06-27T15:52:13.780515Z"
    }
   },
   "cell_type": "code",
   "source": [
    "global variables\n",
    "variables=[]\n",
    "variables=[]\n",
    "dictionaire_auxiliary_variable={}\n",
    "res=1\n",
    "variables_Ising =[]\n",
    "dict_variable_model_map={}\n",
    "\n",
    "def variable_name(n,prefix):  # np est len de p en binaire, nq est len de q en binaire\n",
    "    var_name_list = []\n",
    "    for i in range(n):\n",
    "        var_name_list.append(prefix+str(i+1))\n",
    "    return var_name_list\n",
    "\n",
    "def create_variables(var_name):\n",
    "    if isinstance(var_name, str) :\n",
    "        try:\n",
    "            symbol = sp.symbols(var_name)\n",
    "            globals()[var_name] = symbol\n",
    "            variables.append(symbol)\n",
    "        except ValueError:\n",
    "            print(f\"{var_name} ValueError\")\n",
    "    return symbol\n",
    "\n",
    "def create_varibales_from_list(list):\n",
    "    for element in list:\n",
    "        create_variables(element)\n"
   ],
   "id": "2519e775a7950ebb",
   "outputs": [],
   "execution_count": 2
  },
  {
   "metadata": {
    "ExecuteTime": {
     "end_time": "2025-06-27T15:52:14.114806Z",
     "start_time": "2025-06-27T15:52:14.106048Z"
    }
   },
   "cell_type": "code",
   "source": [
    "p_varname = variable_name(4,'p')\n",
    "q_varname = variable_name(4,'q')\n",
    "c_varname = variable_name(4,'c')\n",
    "\n",
    "create_varibales_from_list(p_varname)\n",
    "create_varibales_from_list(q_varname)\n",
    "create_varibales_from_list(c_varname)"
   ],
   "id": "bd8c72ca7f084c40",
   "outputs": [],
   "execution_count": 3
  },
  {
   "metadata": {
    "ExecuteTime": {
     "end_time": "2025-06-27T15:52:14.244181Z",
     "start_time": "2025-06-27T15:52:14.135719Z"
    }
   },
   "cell_type": "code",
   "source": [
    "expr = (\n",
    "    (2 * sp.Symbol('p2') + 2 * sp.Symbol('p1') * sp.Symbol('q1') + 2 * sp.Symbol('q2')\n",
    "     - 8 * sp.Symbol('c2') - 4 * sp.Symbol('c1') + sp.Symbol('p1') + sp.Symbol('q1') - 3)**2\n",
    "    + (2 * sp.Symbol('q1') + 2 * sp.Symbol('p2') * sp.Symbol('q2') + 2 * sp.Symbol('p1')\n",
    "       + 2 * sp.Symbol('c2') - 8 * sp.Symbol('c4') - 4 * sp.Symbol('c3')\n",
    "       + sp.Symbol('p2') * sp.Symbol('q1') + sp.Symbol('p1') * sp.Symbol('q2')\n",
    "       + sp.Symbol('c1') + 1)**2\n",
    "    + (sp.Symbol('q2') + sp.Symbol('p2') + sp.Symbol('c3') + 2 * sp.Symbol('c4') - 2)**2\n",
    ")\n",
    "\n",
    "expr"
   ],
   "id": "d36a15b6d3090338",
   "outputs": [
    {
     "data": {
      "text/plain": [
       "(c3 + 2*c4 + p2 + q2 - 2)**2 + (-4*c1 - 8*c2 + 2*p1*q1 + p1 + 2*p2 + q1 + 2*q2 - 3)**2 + (c1 + 2*c2 - 4*c3 - 8*c4 + p1*q2 + 2*p1 + p2*q1 + 2*p2*q2 + 2*q1 + 1)**2"
      ],
      "text/latex": "$\\displaystyle \\left(c_{3} + 2 c_{4} + p_{2} + q_{2} - 2\\right)^{2} + \\left(- 4 c_{1} - 8 c_{2} + 2 p_{1} q_{1} + p_{1} + 2 p_{2} + q_{1} + 2 q_{2} - 3\\right)^{2} + \\left(c_{1} + 2 c_{2} - 4 c_{3} - 8 c_{4} + p_{1} q_{2} + 2 p_{1} + p_{2} q_{1} + 2 p_{2} q_{2} + 2 q_{1} + 1\\right)^{2}$"
     },
     "execution_count": 4,
     "metadata": {},
     "output_type": "execute_result"
    }
   ],
   "execution_count": 4
  },
  {
   "metadata": {
    "ExecuteTime": {
     "end_time": "2025-06-27T15:52:14.293992Z",
     "start_time": "2025-06-27T15:52:14.268987Z"
    }
   },
   "cell_type": "code",
   "source": [
    "def reduct_variable_power_term(term):\n",
    "    new_term = 1\n",
    "    for variable,power in term.as_powers_dict().items():\n",
    "        new_term *= variable\n",
    "    return new_term\n",
    "\n",
    "def reduct_variable_power_function(expr):\n",
    "    expanded_expr = sp.expand(expr)\n",
    "    expanded_reducted = 0\n",
    "    for term in expanded_expr.args:\n",
    "        new_term = reduct_variable_power_term(term)\n",
    "        expanded_reducted += new_term\n",
    "    return expanded_reducted\n",
    "\n",
    "# les varaiables sont sort par la lettre puis un nombre: \"x12\" -> \"x\" 12\n",
    "def sort_key(variable):\n",
    "    name = str(variable)\n",
    "    # Split le nom du variable aux deux parties: letter & number\n",
    "    letter = name[0]\n",
    "    number = int(name[1:])\n",
    "    return (letter, number)\n",
    "\n",
    "def rest_term(coef , rest_variable_liste):\n",
    "    new_term = coef\n",
    "    while(len(rest_variable_liste)!=0):\n",
    "        new_term = new_term * rest_variable_liste[0]\n",
    "        rest_variable_liste.pop()\n",
    "    return new_term\n",
    "\n",
    "# si #variables > 2 : diemension -1\n",
    "def reduct_demension_term(coef,variables_liste):\n",
    "    global res\n",
    "\n",
    "    # sélection les 3 premières variables\n",
    "    [x_1, x_2, x_3] = variables_liste[:3]\n",
    "\n",
    "    # garder le reste des variables\n",
    "    rest_variables_liste= variables_liste[3:]\n",
    "    rest_expr = rest_term(coef , rest_variables_liste)\n",
    "\n",
    "    # commence la réduction dimension\n",
    "    tup=(x_1,x_2)\n",
    "    #check dict s'il existe déjà une variable auxiliary qui = les deux meme variable\n",
    "    key = next((k for k, v in dictionaire_auxiliary_variable.items() if v == tup), None)\n",
    "    if key==None:#sinon, il faut creer une variable auxiliary\n",
    "        var_name = \"x\" + str(res)\n",
    "        x_4 = create_variables(var_name)\n",
    "        dictionaire_auxiliary_variable[x_4]=(x_1,x_2)\n",
    "        res += 1\n",
    "    else:\n",
    "        x_4 = key\n",
    "\n",
    "    expr_reduct_formula = x_4 * x_3 + 2 * (x_1 * x_2 - 2 * x_1 * x_4 - 2 * x_2 * x_4 + 3 * x_4)\n",
    "\n",
    "    expr_reduct = rest_expr * expr_reduct_formula\n",
    "    return sp.expand(expr_reduct)\n",
    "\n",
    "def reduct_demension_expression(expr):\n",
    "    new_expr = 0\n",
    "    need_reduction = False\n",
    "\n",
    "    for term in expr.args:\n",
    "        # get coefficant(la constante) et variables(dans une liste)\n",
    "        variables_liste = sorted(term.free_symbols, key=sort_key)\n",
    "        coef = term.as_coeff_mul()[0]\n",
    "\n",
    "        # pour les termes qui ont plus de 2 variables, il faut appliquer la formule de réduction\n",
    "        if len(variables_liste) > 2 :\n",
    "            if len(variables_liste) > 3 :\n",
    "                need_reduction = True\n",
    "            new_term = reduct_demension_term(coef, variables_liste)\n",
    "            new_expr +=  new_term\n",
    "        else:\n",
    "            # sinon, on ne fait rien et les met directement dans la nouvelle expression\n",
    "            new_expr += term\n",
    "\n",
    "    if need_reduction: # récursive\n",
    "        return reduct_demension_expression(new_expr)\n",
    "    else:\n",
    "        return new_expr"
   ],
   "id": "ab12edf600a6b7dd",
   "outputs": [],
   "execution_count": 5
  },
  {
   "metadata": {
    "ExecuteTime": {
     "end_time": "2025-06-27T15:52:14.648145Z",
     "start_time": "2025-06-27T15:52:14.336276Z"
    }
   },
   "cell_type": "code",
   "source": [
    "expr_reduct_power = reduct_variable_power_function(expr)\n",
    "reduct_dimension_expr = reduct_demension_expression(expr_reduct_power)"
   ],
   "id": "6b5dd74d4b78799c",
   "outputs": [],
   "execution_count": 6
  },
  {
   "metadata": {
    "ExecuteTime": {
     "end_time": "2025-06-27T15:52:16.387428Z",
     "start_time": "2025-06-27T15:52:14.664191Z"
    }
   },
   "cell_type": "code",
   "source": [
    "def transfers_qubo2Ising(reduct_demension_expr):\n",
    "    subs_relations = {(variable, ( variable + 1 ) /2) for variable in variables}\n",
    "\n",
    "    # Après la substitution, variables dans l'expression sont des variables d'Ising dans {-1,+1}\n",
    "    new_expr = reduct_demension_expr.subs(subs_relations)\n",
    "    new_expr = sp.expand(new_expr)\n",
    "    return new_expr\n",
    "\n",
    "expr_ising = transfers_qubo2Ising(reduct_dimension_expr)\n",
    "\n",
    "import dimod\n",
    "from dwave.preprocessing.composites import SpinReversalTransformComposite\n",
    "\n",
    "def get_solver_parameter(expr_ising):\n",
    "    linear = {}\n",
    "    quadratic ={}\n",
    "    offset = 0\n",
    "\n",
    "    for term in expr_ising.args:\n",
    "        variables_liste = sorted(term.free_symbols, key=sort_key)\n",
    "        coef = term.as_coeff_mul()[0]\n",
    "        if len(term.free_symbols) ==0:\n",
    "            offset = coef\n",
    "        if len(term.free_symbols) ==1:\n",
    "            linear[variables_liste[0].name] = coef\n",
    "        elif len(term.free_symbols) ==2:\n",
    "            quadratic[(variables_liste[0].name,variables_liste[1].name)] = coef\n",
    "\n",
    "    return (linear,quadratic,offset)\n",
    "\n",
    "(linear,quadratic,offset) = get_solver_parameter(expr_ising)"
   ],
   "id": "8f4c6ca19746658",
   "outputs": [],
   "execution_count": 7
  },
  {
   "metadata": {
    "ExecuteTime": {
     "end_time": "2025-06-27T15:52:26.796730Z",
     "start_time": "2025-06-27T15:52:26.790056Z"
    }
   },
   "cell_type": "code",
   "source": "print(linear)",
   "id": "3e268117316c44d8",
   "outputs": [
    {
     "name": "stdout",
     "output_type": "stream",
     "text": [
      "{'x2': -60, 'x1': -35, 'x4': -30, 'x5': -20, 'x12': -10, 'x13': -10, 'x6': -10, 'x10': 15, 'x11': 15, 'x8': 15, 'c4': 45, 'c2': 53, 'q1': -135/4, 'x3': -35/2, 'q2': -5/4, 'x14': 5/2, 'p2': 13/4, 'x7': 15/2, 'p1': 39/4, 'c3': 45/2, 'c1': 53/2, 'x9': 69/2}\n"
     ]
    }
   ],
   "execution_count": 8
  },
  {
   "metadata": {
    "ExecuteTime": {
     "end_time": "2025-06-27T15:52:34.724025Z",
     "start_time": "2025-06-27T15:52:34.704858Z"
    }
   },
   "cell_type": "code",
   "source": "quadratic",
   "id": "9fb8a47414403b",
   "outputs": [
    {
     "data": {
      "text/plain": [
       "{('c4', 'q2'): 1,\n",
       " ('q1', 'x8'): 1,\n",
       " ('q2', 'x1'): 1,\n",
       " ('q2', 'x7'): 1,\n",
       " ('c3', 'q2'): 1/2,\n",
       " ('p2', 'q2'): 1/2,\n",
       " ('q1', 'x7'): 1/2,\n",
       " ('q2', 'x3'): 1/2,\n",
       " ('x9', 'x14'): 1/2,\n",
       " ('c1', 'p2'): -1,\n",
       " ('c1', 'q1'): -1,\n",
       " ('p1', 'x9'): -28,\n",
       " ('p2', 'x9'): -28,\n",
       " ('c4', 'p2'): -23,\n",
       " ('c2', 'p1'): -16,\n",
       " ('c4', 'p1'): -16,\n",
       " ('c2', 'x8'): -12,\n",
       " ('p1', 'x10'): -12,\n",
       " ('p2', 'x11'): -12,\n",
       " ('p2', 'x8'): -12,\n",
       " ('q1', 'x10'): -12,\n",
       " ('q1', 'x11'): -12,\n",
       " ('c1', 'p1'): -8,\n",
       " ('c2', 'c4'): -8,\n",
       " ('c2', 'q2'): -8,\n",
       " ('c3', 'p1'): -8,\n",
       " ('c4', 'q1'): -8,\n",
       " ('q1', 'x1'): -8,\n",
       " ('q2', 'x2'): -8,\n",
       " ('c1', 'x7'): -6,\n",
       " ('p2', 'x7'): -6,\n",
       " ('c1', 'c4'): -4,\n",
       " ('c1', 'q2'): -4,\n",
       " ('c2', 'c3'): -4,\n",
       " ('c3', 'q1'): -4,\n",
       " ('q1', 'x2'): -4,\n",
       " ('q1', 'x3'): -4,\n",
       " ('q2', 'x4'): -4,\n",
       " ('q2', 'x5'): -4,\n",
       " ('c1', 'c3'): -2,\n",
       " ('c2', 'p2'): -2,\n",
       " ('c2', 'q1'): -2,\n",
       " ('q1', 'x14'): -2,\n",
       " ('q1', 'x4'): -2,\n",
       " ('q2', 'x14'): -2,\n",
       " ('q2', 'x6'): -2,\n",
       " ('x9', 'x12'): -2,\n",
       " ('x9', 'x13'): -2,\n",
       " ('q1', 'q2'): 2,\n",
       " ('q2', 'x8'): 2,\n",
       " ('q1', 'x9'): 3,\n",
       " ('q2', 'x10'): 3,\n",
       " ('q2', 'x11'): 3,\n",
       " ('q2', 'x9'): 7,\n",
       " ('c3', 'x6'): 8,\n",
       " ('p1', 'x12'): 8,\n",
       " ('p1', 'x6'): 8,\n",
       " ('p2', 'x13'): 8,\n",
       " ('q2', 'x12'): 8,\n",
       " ('q2', 'x13'): 8,\n",
       " ('c1', 'x3'): 14,\n",
       " ('p1', 'x3'): 14,\n",
       " ('p1', 'p2'): 15,\n",
       " ('c4', 'x5'): 16,\n",
       " ('p1', 'x5'): 16,\n",
       " ('c1', 'c2'): 17,\n",
       " ('c3', 'c4'): 17,\n",
       " ('c3', 'x4'): 24,\n",
       " ('p2', 'x4'): 24,\n",
       " ('c2', 'x1'): 28,\n",
       " ('p1', 'x1'): 28,\n",
       " ('c4', 'x2'): 48,\n",
       " ('p2', 'x2'): 48,\n",
       " ('c3', 'p2'): -23/2,\n",
       " ('p1', 'q2'): -5/4,\n",
       " ('p1', 'q1'): 17/2,\n",
       " ('p2', 'q1'): 35/4}"
      ]
     },
     "execution_count": 9,
     "metadata": {},
     "output_type": "execute_result"
    }
   ],
   "execution_count": 9
  }
 ],
 "metadata": {
  "kernelspec": {
   "display_name": "Python 3",
   "language": "python",
   "name": "python3"
  },
  "language_info": {
   "codemirror_mode": {
    "name": "ipython",
    "version": 2
   },
   "file_extension": ".py",
   "mimetype": "text/x-python",
   "name": "python",
   "nbconvert_exporter": "python",
   "pygments_lexer": "ipython2",
   "version": "2.7.6"
  }
 },
 "nbformat": 4,
 "nbformat_minor": 5
}
