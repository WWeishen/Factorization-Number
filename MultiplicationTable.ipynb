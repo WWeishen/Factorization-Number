{
 "cells": [
  {
   "metadata": {},
   "cell_type": "markdown",
   "source": "# Modified Multiplication Table Method",
   "id": "e1457085d4f0182b"
  },
  {
   "metadata": {
    "ExecuteTime": {
     "end_time": "2025-07-22T09:27:07.298318Z",
     "start_time": "2025-07-22T09:27:06.040705Z"
    }
   },
   "cell_type": "code",
   "source": [
    "from email.utils import collapse_rfc2231_value\n",
    "\n",
    "import sympy as sp\n",
    "import numpy as np\n",
    "import math\n",
    "import copy\n",
    "\n",
    "from sympy import false\n",
    "\n",
    "global variables\n",
    "variables=[]\n",
    "dictionaire_auxiliary_variable={}\n",
    "res=1"
   ],
   "id": "db1cdd16f97ff854",
   "outputs": [],
   "execution_count": 1
  },
  {
   "metadata": {},
   "cell_type": "markdown",
   "source": [
    "## Definir variables\n",
    "\n",
    "Définir l'expression de p et q, ainsi N en binaire pour construire la table"
   ],
   "id": "db89e8a88bb886fa"
  },
  {
   "metadata": {
    "ExecuteTime": {
     "end_time": "2025-07-22T09:27:07.323529Z",
     "start_time": "2025-07-22T09:27:07.311597Z"
    }
   },
   "cell_type": "code",
   "source": [
    "def create_variables(var_name):\n",
    "    if isinstance(var_name, str) :\n",
    "        try:\n",
    "            symbol = sp.symbols(var_name)\n",
    "            globals()[var_name] = symbol\n",
    "            variables.append(symbol)\n",
    "        except ValueError:\n",
    "            print(f\"{var_name} ValueError\")\n",
    "    return symbol\n",
    "\n",
    "def set_variable(l,prefix):\n",
    " # l : number of bit\n",
    " # prefix : string, name of variables\n",
    "\n",
    "    expr = 1\n",
    "    var_binary = [1]\n",
    "    for i in range(1,l-1):\n",
    "        var_name = (prefix+ str(i))\n",
    "        var = create_variables(var_name)\n",
    "        expr = 2**i * var + expr\n",
    "        var_binary.append(var)\n",
    "    expr = expr + 2 ** (l-1)\n",
    "    var_binary.append(1)\n",
    "    var_binary = var_binary[::-1]\n",
    "    return (expr,var_binary)\n",
    "\n",
    "def get_N_binary(N):\n",
    "    binary_str = np.binary_repr(N)\n",
    "    binary_list = [int(bit) for bit in binary_str]\n",
    "    return binary_list"
   ],
   "id": "bd87cfb3e1a417f8",
   "outputs": [],
   "execution_count": 2
  },
  {
   "metadata": {
    "ExecuteTime": {
     "end_time": "2025-07-22T09:27:07.856177Z",
     "start_time": "2025-07-22T09:27:07.755726Z"
    }
   },
   "cell_type": "code",
   "source": [
    "(p_expr,p_binary) = set_variable(3,\"p\")\n",
    "print(f\"p_expr = {p_expr}\")\n",
    "print(f\"p_binary = {p_binary}\")\n",
    "\n",
    "(q_expr,q_binary) = set_variable(4,\"q\")\n",
    "print(f\"q_expr = {q_expr}\")\n",
    "print(f\"q_binary = {q_binary}\")\n",
    "\n",
    "N_binary = get_N_binary(77)\n",
    "print(f\"N_binary = {N_binary}\")\n",
    "\n",
    "N_binary_transposed = N_binary[::-1]\n",
    "print(f\"N_binary_transposed = {N_binary_transposed}\")"
   ],
   "id": "fac8c33c0a0c7afd",
   "outputs": [
    {
     "name": "stdout",
     "output_type": "stream",
     "text": [
      "p_expr = 2*p1 + 5\n",
      "p_binary = [1, p1, 1]\n",
      "q_expr = 2*q1 + 4*q2 + 9\n",
      "q_binary = [1, q2, q1, 1]\n",
      "N_binary = [1, 0, 0, 1, 1, 0, 1]\n",
      "N_binary_transposed = [1, 0, 1, 1, 0, 0, 1]\n"
     ]
    }
   ],
   "execution_count": 3
  },
  {
   "metadata": {},
   "cell_type": "markdown",
   "source": [
    "## Table de mulp\n",
    "\n",
    "###  produit de (p * q): ligne par ligne\n",
    "\n",
    "étape 1:\n",
    "\n",
    "        p_binary = [1, p2, p1, 1]\n",
    "\n",
    "        q_binary = [1, q2, q1, 1]\n",
    "\n",
    "pour chaque ligne: un bit de q * les bits de p. On utilise 0 pour complèter\n",
    "1. p * 1 = [1, p2, p1, 1]\n",
    "2. p * q1 = [q1, p2*q1, p1*q1, q1, 0]"
   ],
   "id": "56bd72cd03fe0a52"
  },
  {
   "metadata": {
    "ExecuteTime": {
     "end_time": "2025-07-22T09:27:07.921189Z",
     "start_time": "2025-07-22T09:27:07.909750Z"
    }
   },
   "cell_type": "code",
   "source": [
    "def table_multiplication_ligne(coef,p_binary):\n",
    "    lst = [coef * element for element in p_binary]\n",
    "    return lst\n",
    "\n",
    "def table_multiplication(p_binary,q_binary):\n",
    "    table = []\n",
    "    lst = q_binary.copy()\n",
    "    res = 0\n",
    "    while not lst == []:\n",
    "        element = lst.pop()\n",
    "        ele = table_multiplication_ligne(element,p_binary)\n",
    "        for i in range(res):\n",
    "            ele.append(0)\n",
    "        table.append(ele)\n",
    "        res+=1\n",
    "    #table.append(N_binary)\n",
    "    return table"
   ],
   "id": "2e40dcf90c2514f4",
   "outputs": [],
   "execution_count": 4
  },
  {
   "metadata": {
    "ExecuteTime": {
     "end_time": "2025-07-22T09:27:07.995816Z",
     "start_time": "2025-07-22T09:27:07.977285Z"
    }
   },
   "cell_type": "code",
   "source": [
    "table = table_multiplication(p_binary,q_binary)\n",
    "table"
   ],
   "id": "33b5082259575c5a",
   "outputs": [
    {
     "data": {
      "text/plain": [
       "[[1, p1, 1], [q1, p1*q1, q1, 0], [q2, p1*q2, q2, 0, 0], [1, p1, 1, 0, 0, 0]]"
      ]
     },
     "execution_count": 5,
     "metadata": {},
     "output_type": "execute_result"
    }
   ],
   "execution_count": 5
  },
  {
   "metadata": {},
   "cell_type": "markdown",
   "source": [
    "étape 2 :\n",
    "    On utilise 0 pour complèter, bien aligner"
   ],
   "id": "2483d8f5d2159349"
  },
  {
   "metadata": {
    "ExecuteTime": {
     "end_time": "2025-07-22T09:27:08.085079Z",
     "start_time": "2025-07-22T09:27:08.073103Z"
    }
   },
   "cell_type": "code",
   "source": [
    "def adjust_table(table):\n",
    "    max_cols = max(len(row) for row in table)\n",
    "    complet_table = [[0]*(max_cols - len(row)) + row for row in table]\n",
    "    return complet_table"
   ],
   "id": "d6ce10124ec6f118",
   "outputs": [],
   "execution_count": 6
  },
  {
   "metadata": {
    "ExecuteTime": {
     "end_time": "2025-07-22T09:27:08.227425Z",
     "start_time": "2025-07-22T09:27:08.206357Z"
    }
   },
   "cell_type": "code",
   "source": [
    "\n",
    "table_complet = adjust_table(table)\n",
    "table_complet"
   ],
   "id": "95d0908fbf97c0c7",
   "outputs": [
    {
     "data": {
      "text/plain": [
       "[[0, 0, 0, 1, p1, 1],\n",
       " [0, 0, q1, p1*q1, q1, 0],\n",
       " [0, q2, p1*q2, q2, 0, 0],\n",
       " [1, p1, 1, 0, 0, 0]]"
      ]
     },
     "execution_count": 7,
     "metadata": {},
     "output_type": "execute_result"
    }
   ],
   "execution_count": 7
  },
  {
   "metadata": {},
   "cell_type": "markdown",
   "source": [
    "étape 3 :\n",
    "    transponser la table afin d'obtenir des valeur sur chaque colonne"
   ],
   "id": "e15df85748d460a"
  },
  {
   "metadata": {
    "ExecuteTime": {
     "end_time": "2025-07-22T09:27:08.313293Z",
     "start_time": "2025-07-22T09:27:08.307374Z"
    }
   },
   "cell_type": "code",
   "source": [
    "def define_table_transposed(table_complet):\n",
    "    table_transposed = [[row[i] for row in table_complet] for i in range(len(table_complet[0]))]\n",
    "    table_transposed = table_transposed[::-1]\n",
    "    return table_transposed\n"
   ],
   "id": "2ed92bb33a88d610",
   "outputs": [],
   "execution_count": 8
  },
  {
   "metadata": {
    "ExecuteTime": {
     "end_time": "2025-07-22T09:27:08.403190Z",
     "start_time": "2025-07-22T09:27:08.391051Z"
    }
   },
   "cell_type": "code",
   "source": [
    "table_transposed = define_table_transposed(table_complet)\n",
    "table_transposed"
   ],
   "id": "96ec2e96bdcba39f",
   "outputs": [
    {
     "data": {
      "text/plain": [
       "[[1, 0, 0, 0],\n",
       " [p1, q1, 0, 0],\n",
       " [1, p1*q1, q2, 0],\n",
       " [0, q1, p1*q2, 1],\n",
       " [0, 0, q2, p1],\n",
       " [0, 0, 0, 1]]"
      ]
     },
     "execution_count": 9,
     "metadata": {},
     "output_type": "execute_result"
    }
   ],
   "execution_count": 9
  },
  {
   "metadata": {},
   "cell_type": "markdown",
   "source": "### Explore la table par bloc",
   "id": "ba6534d40d86458d"
  },
  {
   "metadata": {},
   "cell_type": "markdown",
   "source": [
    "On divise la table par bloc. Chaque bloc contient 2 colonnes.(Pourquoi 2? Pour l'instance, on définit 2 suivant notre envie).\n",
    "\n",
    "Par bloc, les variables(de p et q) et 2 bits de N décide le nombre de retenu qu'on doit créer.\n",
    "\n",
    "SommeMax : on suppose que tout les variables ont la valeur 1. Suivant les positions des variables, elle portent des poid différents( soit 2^0 ou 2^1).\n",
    "\n",
    "\n",
    "On cherche une somme max qui ait les deux dernier bits que les deux bits de N, cette somme qui doit être <= SommeMax. Donc,si SommeMax n'a pas les deux meme bits que N, on peut trouvez la vraie valeur maximale en réduisant récursivement SommesMax de un."
   ],
   "id": "5bec811cf891f4c4"
  },
  {
   "metadata": {},
   "cell_type": "markdown",
   "source": [
    "#### Créer des variables de retenu\n",
    "Par bloc"
   ],
   "id": "10d66d5fed1e0e18"
  },
  {
   "metadata": {
    "ExecuteTime": {
     "end_time": "2025-07-22T09:27:08.499881Z",
     "start_time": "2025-07-22T09:27:08.489526Z"
    }
   },
   "cell_type": "code",
   "source": [
    "def num_carry(table,first_num_col, num_col_bloc):\n",
    "    expr = 0\n",
    "    for i in range(num_col_bloc):\n",
    "        num_col = first_num_col + i\n",
    "        if num_col < len(table):\n",
    "            expr += sum(table[num_col]) * 2 ** i\n",
    "\n",
    "    if isinstance(expr, (int)):\n",
    "        max = expr\n",
    "    else:\n",
    "        # suppose all the terms have value 1 so that the number of the terms is the max value of the sum of the column\n",
    "        variables_res = expr.free_symbols\n",
    "        substitution_dict = {var: 1 for var in variables_res}\n",
    "        max = expr.subs(substitution_dict)\n",
    "\n",
    "    # ici on peux améliorer par rapport au papier: c'est de trouver un max du bloc qui a les meme dernière bits que les meme bloc de bit de N\n",
    "    # binary_str = np.binary_repr(max)\n",
    "    # s=binary_str[-num_col_bloc:]\n",
    "    #\n",
    "    # while [int(char) for char in s] != N_binary_transposed[first_num_col:first_num_col+num_col_bloc]:\n",
    "    #     max -= 1\n",
    "    #     binary_str = np.binary_repr(max)\n",
    "    #     s=binary_str[-num_col_bloc:]\n",
    "\n",
    "    num = len(np.binary_repr(max)) - num_col_bloc\n",
    "    return num\n",
    "\n",
    "def define_carry_var(num_carry):\n",
    "    global c_res\n",
    "    carry_var = []\n",
    "    for i in range(num_carry):\n",
    "        var = create_variables(\"c\" + str(c_res))\n",
    "        carry_var.append(var)\n",
    "        c_res+=1\n",
    "    return carry_var"
   ],
   "id": "c0796102ed1a03de",
   "outputs": [],
   "execution_count": 10
  },
  {
   "metadata": {
    "ExecuteTime": {
     "end_time": "2025-07-22T09:27:08.583629Z",
     "start_time": "2025-07-22T09:27:08.570266Z"
    }
   },
   "cell_type": "code",
   "source": "num_carry(table_transposed,1,2)",
   "id": "c2de5298e16463e2",
   "outputs": [
    {
     "data": {
      "text/plain": [
       "2"
      ]
     },
     "execution_count": 11,
     "metadata": {},
     "output_type": "execute_result"
    }
   ],
   "execution_count": 11
  },
  {
   "metadata": {},
   "cell_type": "markdown",
   "source": "### Ajouter des variables de retenue dans la table afin de la complèter",
   "id": "2b5fb3ce43bafa73"
  },
  {
   "metadata": {
    "ExecuteTime": {
     "end_time": "2025-07-22T09:27:08.739978Z",
     "start_time": "2025-07-22T09:27:08.701592Z"
    }
   },
   "cell_type": "code",
   "source": [
    "def define_carry_table(table_transposed,num_per_bloc,N_binary):\n",
    "    global c_res\n",
    "    c_res = 1\n",
    "\n",
    "    #table_res = table_transposed.copy()\n",
    "    table_res = copy.deepcopy(table_transposed)\n",
    "    columns = len(table_transposed)\n",
    "\n",
    "    N_binary_transposed = N_binary[::-1]\n",
    "    #obj_function = 0\n",
    "\n",
    "    #begain from the 2nd col\n",
    "    first_col_num = 1\n",
    "\n",
    "    while first_col_num < columns:\n",
    "        num = num_carry(table_res,first_col_num,num_per_bloc)\n",
    "        if num > 0:\n",
    "            lst_carry_var = define_carry_var(num) #a list contains the created carry variables.\n",
    "            for j in range(num):\n",
    "                carry_col = first_col_num + num_per_bloc + j\n",
    "                if carry_col <= len(table_res)- 1:\n",
    "                    table_res[carry_col].append(lst_carry_var[j])\n",
    "                #elif len(table_res) < len(N_binary_transposed):\n",
    "                #    table_res.append([lst_carry_var[j]])# new column\n",
    "\n",
    "        first_col_num += num_per_bloc\n",
    "    return table_res\n",
    "\n",
    "table_carry = define_carry_table(table_transposed,2,N_binary)\n",
    "table_carry"
   ],
   "id": "d971e9f99a9cfc1b",
   "outputs": [
    {
     "data": {
      "text/plain": [
       "[[1, 0, 0, 0],\n",
       " [p1, q1, 0, 0],\n",
       " [1, p1*q1, q2, 0],\n",
       " [0, q1, p1*q2, 1, c1],\n",
       " [0, 0, q2, p1, c2],\n",
       " [0, 0, 0, 1, c3]]"
      ]
     },
     "execution_count": 12,
     "metadata": {},
     "output_type": "execute_result"
    }
   ],
   "execution_count": 12
  },
  {
   "metadata": {},
   "cell_type": "markdown",
   "source": [
    "## Define function\n",
    "\n",
    "On peut définir la fonction objective.\n",
    "\n",
    "Pour chque bloc, on peut définir une équation : la sommes des variables de p et q = la sommes des variables de carry et les bit de N (suivant la position de bit, les variables ont des poids différent)"
   ],
   "id": "bda75e954031f70f"
  },
  {
   "metadata": {
    "ExecuteTime": {
     "end_time": "2025-07-22T09:27:08.885935Z",
     "start_time": "2025-07-22T09:27:08.869320Z"
    }
   },
   "cell_type": "code",
   "source": [
    "def define_function(table_carry,num_col_per_bloc,N_binary_transposed):\n",
    "    columns = len(table_carry)\n",
    "    first_col_num = 1  # the 0th column is ignored\n",
    "    obj_function = 0\n",
    "\n",
    "# per bloc\n",
    "    while first_col_num < columns:\n",
    "        lhs = 0\n",
    "        rhs = 0\n",
    "\n",
    "        for i in range(num_col_per_bloc): # i is from 0 to num col -1\n",
    "            col_num = first_col_num + i\n",
    "            if col_num < len(table_carry):\n",
    "                # variables of p and q\n",
    "                lhs += sum(table_carry[col_num]) * 2 ** i\n",
    "                if col_num < len(N_binary_transposed):\n",
    "                    # bits of N\n",
    "                    rhs += N_binary_transposed[col_num] * 2 ** i\n",
    "\n",
    "                # carry\n",
    "                if col_num+num_col_per_bloc < len(table_carry):\n",
    "                    carry_level = table_carry[col_num + num_col_per_bloc]   # 2 is the num_col_per_bloc\n",
    "                    carry_list=[]\n",
    "                    for ele in carry_level:\n",
    "                        if isinstance(ele,sp.Symbol):\n",
    "                            if ele.name.startswith(\"c\"):\n",
    "                                carry_list.append(ele)\n",
    "                    for element in carry_list:\n",
    "                        rhs += element * 2**(2+i)\n",
    "                else: # it's the last column of the last bloc\n",
    "                    # comple the last bit of the N_binary\n",
    "                    if col_num + 1 < len(N_binary_transposed):\n",
    "                        rhs += N_binary_transposed[col_num + 1] * 2 ** (i + 1)\n",
    "\n",
    "        term = (lhs - rhs)**2\n",
    "        obj_function+=term\n",
    "\n",
    "        first_col_num += num_col_per_bloc\n",
    "    return obj_function"
   ],
   "id": "23e9af1cf3ec8f81",
   "outputs": [],
   "execution_count": 13
  },
  {
   "metadata": {
    "ExecuteTime": {
     "end_time": "2025-07-22T09:27:08.998261Z",
     "start_time": "2025-07-22T09:27:08.965047Z"
    }
   },
   "cell_type": "code",
   "source": [
    "expr = define_function(table_carry,2,N_binary_transposed)\n",
    "expr"
   ],
   "id": "6f767defe5986a50",
   "outputs": [
    {
     "data": {
      "text/plain": [
       "(c3 - 1)**2 + (-4*c1 - 8*c2 + 2*p1*q1 + p1 + q1 + 2*q2)**2 + (c1 + 2*c2 - 4*c3 + p1*q2 + 2*p1 + q1 + 2*q2)**2"
      ],
      "text/latex": "$\\displaystyle \\left(c_{3} - 1\\right)^{2} + \\left(- 4 c_{1} - 8 c_{2} + 2 p_{1} q_{1} + p_{1} + q_{1} + 2 q_{2}\\right)^{2} + \\left(c_{1} + 2 c_{2} - 4 c_{3} + p_{1} q_{2} + 2 p_{1} + q_{1} + 2 q_{2}\\right)^{2}$"
     },
     "execution_count": 14,
     "metadata": {},
     "output_type": "execute_result"
    }
   ],
   "execution_count": 14
  },
  {
   "metadata": {},
   "cell_type": "markdown",
   "source": [
    " # forme quadratique\n",
    "\n",
    "### Créer variables auxiliaires\n",
    "Avant de commencer la reduction de l'expression, on peut explorer l'expression nous avons obtenu.\n",
    "\n",
    "Il a une structure très particulière : c'est la somme des carrés des expressions. Lorsqu'elles sont élevées au carré et développées, le résultat final doit être quadratique. On examine les expressions à l'intérieur des carrés et trouvons toutes les parties non linéaires (c'est-à-dire les termes quadratiques).\n",
    "\n",
    "Ensuite, on peut créer des variables auxiliaires pour des parties non linéaires."
   ],
   "id": "a496e3924de6aa19"
  },
  {
   "metadata": {
    "ExecuteTime": {
     "end_time": "2025-07-22T09:27:09.087370Z",
     "start_time": "2025-07-22T09:27:09.076861Z"
    }
   },
   "cell_type": "code",
   "source": [
    "def find_quad_term(expr):\n",
    "    square_terms = expr.args\n",
    "    var_pairs = []\n",
    "\n",
    "    for square_term in square_terms:\n",
    "        base = square_term.base\n",
    "        terms = base.args if isinstance(base, sp.Add) else [base]\n",
    "        for term in terms:\n",
    "            symbols=term.free_symbols\n",
    "            if len(symbols) == 2:\n",
    "                var_pairs.append(symbols)\n",
    "\n",
    "    return var_pairs"
   ],
   "id": "39acd1fc86a64977",
   "outputs": [],
   "execution_count": 15
  },
  {
   "metadata": {
    "ExecuteTime": {
     "end_time": "2025-07-22T09:27:09.229681Z",
     "start_time": "2025-07-22T09:27:09.198358Z"
    }
   },
   "cell_type": "code",
   "source": "find_quad_term(expr)",
   "id": "32909b561a365977",
   "outputs": [
    {
     "data": {
      "text/plain": [
       "[{p1, q1}, {p1, q2}]"
      ]
     },
     "execution_count": 16,
     "metadata": {},
     "output_type": "execute_result"
    }
   ],
   "execution_count": 16
  },
  {
   "metadata": {
    "ExecuteTime": {
     "end_time": "2025-07-22T09:27:09.426253Z",
     "start_time": "2025-07-22T09:27:09.418092Z"
    }
   },
   "cell_type": "code",
   "source": [
    "# create auxiliary variables for each quadratic term\n",
    "def create_aux_var_for_quadTerm(expr):\n",
    "    global res,dictionaire_auxiliary_variable\n",
    "    quadTerm_list = find_quad_term(expr)\n",
    "\n",
    "    for var_set in quadTerm_list:\n",
    "        var_name = \"x\" + str(res)\n",
    "        x_4 = create_variables(var_name)\n",
    "        dictionaire_auxiliary_variable[x_4]=var_set\n",
    "        res += 1\n",
    "\n",
    "    return\n",
    "\n",
    "res=1\n",
    "dictionaire_auxiliary_variable={}\n",
    "create_aux_var_for_quadTerm(expr)"
   ],
   "id": "156718d355f59e8d",
   "outputs": [],
   "execution_count": 17
  },
  {
   "metadata": {
    "ExecuteTime": {
     "end_time": "2025-07-22T09:27:09.522935Z",
     "start_time": "2025-07-22T09:27:09.515205Z"
    }
   },
   "cell_type": "code",
   "source": "print(dictionaire_auxiliary_variable)",
   "id": "2681dd20f5f258b0",
   "outputs": [
    {
     "name": "stdout",
     "output_type": "stream",
     "text": [
      "{x1: {p1, q1}, x2: {p1, q2}}\n"
     ]
    }
   ],
   "execution_count": 18
  },
  {
   "metadata": {},
   "cell_type": "markdown",
   "source": "### Réduire les puissances dans l'expression",
   "id": "887c80930d21ee0e"
  },
  {
   "metadata": {},
   "cell_type": "markdown",
   "source": [
    "\n",
    "\n",
    "L'expression obtenue avant peut être simplifiée: la puissance de toutes les variables est égale à 1.\n",
    "\n",
    "$p_1^2 = p_1$, car $1 * 1 = 1$ et $0 * 0 = 0$"
   ],
   "id": "296d9fd984b45a78"
  },
  {
   "metadata": {
    "ExecuteTime": {
     "end_time": "2025-07-22T09:27:09.623671Z",
     "start_time": "2025-07-22T09:27:09.607542Z"
    }
   },
   "cell_type": "code",
   "source": [
    "def reduct_variable_power_term(term):\n",
    "    new_term = 1\n",
    "    for variable,power in term.as_powers_dict().items():\n",
    "        new_term *= variable\n",
    "    return new_term\n",
    "\n",
    "def reduct_variable_power_function(expr):\n",
    "    expanded_expr = sp.expand(expr)\n",
    "    expanded_reducted = 0\n",
    "    for term in expanded_expr.args:\n",
    "        new_term = reduct_variable_power_term(term)\n",
    "        expanded_reducted += new_term\n",
    "    return expanded_reducted"
   ],
   "id": "132575dcb4890b27",
   "outputs": [],
   "execution_count": 19
  },
  {
   "metadata": {
    "ExecuteTime": {
     "end_time": "2025-07-22T09:27:09.801262Z",
     "start_time": "2025-07-22T09:27:09.660938Z"
    }
   },
   "cell_type": "code",
   "source": [
    "expr_reduct_power = reduct_variable_power_function(expr)\n",
    "expr_reduct_power"
   ],
   "id": "7410d0fa70a81f34",
   "outputs": [
    {
     "data": {
      "text/plain": [
       "68*c1*c2 - 8*c1*c3 - 16*c1*p1*q1 + 2*c1*p1*q2 - 4*c1*p1 - 6*c1*q1 - 12*c1*q2 + 17*c1 - 16*c2*c3 - 32*c2*p1*q1 + 4*c2*p1*q2 - 8*c2*p1 - 12*c2*q1 - 24*c2*q2 + 68*c2 - 8*c3*p1*q2 - 16*c3*p1 - 8*c3*q1 - 16*c3*q2 + 15*c3 + 10*p1*q1*q2 + 18*p1*q1 + 21*p1*q2 + 5*p1 + 8*q1*q2 + 2*q1 + 8*q2 + 1"
      ],
      "text/latex": "$\\displaystyle 68 c_{1} c_{2} - 8 c_{1} c_{3} - 16 c_{1} p_{1} q_{1} + 2 c_{1} p_{1} q_{2} - 4 c_{1} p_{1} - 6 c_{1} q_{1} - 12 c_{1} q_{2} + 17 c_{1} - 16 c_{2} c_{3} - 32 c_{2} p_{1} q_{1} + 4 c_{2} p_{1} q_{2} - 8 c_{2} p_{1} - 12 c_{2} q_{1} - 24 c_{2} q_{2} + 68 c_{2} - 8 c_{3} p_{1} q_{2} - 16 c_{3} p_{1} - 8 c_{3} q_{1} - 16 c_{3} q_{2} + 15 c_{3} + 10 p_{1} q_{1} q_{2} + 18 p_{1} q_{1} + 21 p_{1} q_{2} + 5 p_{1} + 8 q_{1} q_{2} + 2 q_{1} + 8 q_{2} + 1$"
     },
     "execution_count": 20,
     "metadata": {},
     "output_type": "execute_result"
    }
   ],
   "execution_count": 20
  },
  {
   "metadata": {},
   "cell_type": "markdown",
   "source": [
    "### Réduire les termes pour qu'ils ne fassent jamais intervenir plus de deux variables\n",
    "Comme nous avons déjà créé des variables auxiliaires, on peut faire la réduction avec le dictionnaire"
   ],
   "id": "525e620f29c724ee"
  },
  {
   "metadata": {
    "ExecuteTime": {
     "end_time": "2025-07-22T09:27:41.605799Z",
     "start_time": "2025-07-22T09:27:41.590112Z"
    }
   },
   "cell_type": "code",
   "source": [
    "# find the correspond auxiliary variable to do the reduction\n",
    "\n",
    "def find_key(dictionary, input_set):\n",
    "    for key, value in dictionary.items():\n",
    "        if isinstance(value, set) and value.issubset(input_set):\n",
    "            return key\n",
    "    return None\n",
    "\n",
    "#x = find_key(dictionaire_auxiliary_variable, expr_reduct_power.args[40].free_symbols)\n",
    "#x"
   ],
   "id": "df8f8345ca8e045b",
   "outputs": [],
   "execution_count": 23
  },
  {
   "metadata": {
    "ExecuteTime": {
     "end_time": "2025-07-22T09:27:41.765217Z",
     "start_time": "2025-07-22T09:27:41.725987Z"
    }
   },
   "cell_type": "code",
   "source": [
    "# Pour chaque terme compose de >= 3 variables,\n",
    "# Pour des combinaision de deux vairables qui ont déjà une variable auxilinaire dans la dictionnaire auront la priorité participer dans la réduction. Le 3ème variable est un des autres variable dans le terme.\n",
    "\n",
    "def select_var_for_formula(term):\n",
    "    global res,dictionaire_auxiliary_variable\n",
    "    x_4 = find_key(dictionaire_auxiliary_variable, term.free_symbols)\n",
    "    set_symbols = term.free_symbols.copy()\n",
    "    if x_4 is not None:\n",
    "        set_var = dictionaire_auxiliary_variable[x_4].copy()\n",
    "\n",
    "        new_set = set_symbols - set_var\n",
    "        x_1 = set_var.pop()\n",
    "        x_2 = set_var.pop()\n",
    "        x_3 = new_set.pop()\n",
    "    else:\n",
    "        x_1 = set_symbols.pop()\n",
    "        x_2 = set_symbols.pop()\n",
    "        x_3 = set_symbols.pop()\n",
    "        new_set = set_symbols\n",
    "        var_name = \"x\" + str(res)\n",
    "        x_4 = create_variables(var_name)\n",
    "        dictionaire_auxiliary_variable[x_4]= {x_1, x_2}\n",
    "        res += 1\n",
    "    return x_1, x_2, x_3, x_4, new_set\n",
    "\n",
    "# Les autres variables(hors les 3 vairbles déjà sélectionnées) et la valeur absolu du coefficiant construit terme qui est terme resté\n",
    "# Un nouveau terme : mulp (réduction, terme resté)\n",
    "\n",
    "def build_rest_term(coef , rest_variable_liste):\n",
    "    new_term = coef\n",
    "    while(len(rest_variable_liste)!=0):\n",
    "        new_term = new_term * rest_variable_liste[-1]\n",
    "        rest_variable_liste.pop()\n",
    "    return new_term\n",
    "\n",
    "def reduct_demension_term(term):\n",
    "    global res\n",
    "\n",
    "    x_1, x_2, x_3, x_4, new_set = select_var_for_formula(term)\n",
    "    coef = term.as_coeff_mul()[0]\n",
    "    coef_is_positif = coef > 0\n",
    "\n",
    "    rest_variables_liste= list(new_set)\n",
    "    rest_term = build_rest_term(abs(coef), rest_variables_liste)\n",
    "\n",
    "    if coef_is_positif:\n",
    "        reduct_formula = x_4 * x_3 + 2 * (x_1 * x_2 - 2 * x_1 * x_4 - 2 * x_2 * x_4 + 3 * x_4)\n",
    "    else:\n",
    "        reduct_formula = -1 * x_4 * x_3 + 2 * (x_1 * x_2 - 2 * x_1 * x_4 - 2 * x_2 * x_4 + 3 * x_4)\n",
    "    reduct_formula = sp.expand(reduct_formula)\n",
    "\n",
    "    # mulp\n",
    "    expr_reduct = rest_term * reduct_formula\n",
    "    return sp.expand(expr_reduct)\n",
    "\n",
    "def reduct_demension_expression(expr):\n",
    "    new_expr = 0\n",
    "    need_reduction = False\n",
    "    for term in expr.args:\n",
    "        variables_set = term.free_symbols\n",
    "        # pour les termes qui ont plus de 2 variables, il faut appliquer la formule de réduction\n",
    "        if len(variables_set) > 2 :\n",
    "            if len(variables_set) > 3 :\n",
    "                need_reduction = True\n",
    "            new_term = reduct_demension_term(term)\n",
    "            new_expr +=  new_term\n",
    "        else:\n",
    "            # sinon, on ne fait rien et les met directement dans la nouvelle expression\n",
    "            new_expr += term\n",
    "\n",
    "    if need_reduction:\n",
    "        return reduct_demension_expression(new_expr)\n",
    "    else:\n",
    "        return new_expr"
   ],
   "id": "882c0ca08327408a",
   "outputs": [],
   "execution_count": 24
  },
  {
   "metadata": {
    "ExecuteTime": {
     "end_time": "2025-07-22T09:27:41.928612Z",
     "start_time": "2025-07-22T09:27:41.812095Z"
    }
   },
   "cell_type": "code",
   "source": [
    "reduct_dimension_expr = reduct_demension_expression(expr_reduct_power)\n",
    "reduct_dimension_expr"
   ],
   "id": "863c1561ac3d53a",
   "outputs": [
    {
     "data": {
      "text/plain": [
       "68*c1*c2 - 8*c1*c3 - 4*c1*p1 - 6*c1*q1 - 12*c1*q2 - 16*c1*x1 + 2*c1*x2 + 17*c1 - 16*c2*c3 - 8*c2*p1 - 12*c2*q1 - 24*c2*q2 - 32*c2*x1 + 4*c2*x2 + 68*c2 - 16*c3*p1 - 8*c3*q1 - 16*c3*q2 - 8*c3*x2 + 15*c3 + 134*p1*q1 + 49*p1*q2 - 232*p1*x1 - 56*p1*x2 + 5*p1 + 8*q1*q2 - 232*q1*x1 + 2*q1 + 10*q2*x1 - 56*q2*x2 + 8*q2 + 348*x1 + 84*x2 + 1"
      ],
      "text/latex": "$\\displaystyle 68 c_{1} c_{2} - 8 c_{1} c_{3} - 4 c_{1} p_{1} - 6 c_{1} q_{1} - 12 c_{1} q_{2} - 16 c_{1} x_{1} + 2 c_{1} x_{2} + 17 c_{1} - 16 c_{2} c_{3} - 8 c_{2} p_{1} - 12 c_{2} q_{1} - 24 c_{2} q_{2} - 32 c_{2} x_{1} + 4 c_{2} x_{2} + 68 c_{2} - 16 c_{3} p_{1} - 8 c_{3} q_{1} - 16 c_{3} q_{2} - 8 c_{3} x_{2} + 15 c_{3} + 134 p_{1} q_{1} + 49 p_{1} q_{2} - 232 p_{1} x_{1} - 56 p_{1} x_{2} + 5 p_{1} + 8 q_{1} q_{2} - 232 q_{1} x_{1} + 2 q_{1} + 10 q_{2} x_{1} - 56 q_{2} x_{2} + 8 q_{2} + 348 x_{1} + 84 x_{2} + 1$"
     },
     "execution_count": 25,
     "metadata": {},
     "output_type": "execute_result"
    }
   ],
   "execution_count": 25
  },
  {
   "metadata": {},
   "cell_type": "markdown",
   "source": "#### sum up fonction",
   "id": "ea3e42a2ed6ab621"
  },
  {
   "metadata": {
    "ExecuteTime": {
     "end_time": "2025-07-22T09:27:42.036113Z",
     "start_time": "2025-07-22T09:27:42.025755Z"
    }
   },
   "cell_type": "code",
   "source": [
    "def reduct_expression(expr_init):\n",
    "    create_aux_var_for_quadTerm(expr_init)\n",
    "    expr = sp.expand(expr_init)\n",
    "\n",
    "    expr_reduct_power = reduct_variable_power_function(expr)\n",
    "    reduct_dimension_expr = reduct_demension_expression(expr_reduct_power)\n",
    "    return reduct_dimension_expr"
   ],
   "id": "b8e9d017fc5b6974",
   "outputs": [],
   "execution_count": 26
  },
  {
   "metadata": {
    "ExecuteTime": {
     "end_time": "2025-07-22T09:27:42.098726Z",
     "start_time": "2025-07-22T09:27:42.051930Z"
    }
   },
   "cell_type": "code",
   "source": [
    "res=1\n",
    "dictionaire_auxiliary_variable={}\n",
    "reduct_demension_expr = reduct_expression(expr)\n",
    "reduct_demension_expr"
   ],
   "id": "d6fc3a6fdc004b66",
   "outputs": [
    {
     "data": {
      "text/plain": [
       "68*c1*c2 - 8*c1*c3 - 4*c1*p1 - 6*c1*q1 - 12*c1*q2 - 16*c1*x1 + 2*c1*x2 + 17*c1 - 16*c2*c3 - 8*c2*p1 - 12*c2*q1 - 24*c2*q2 - 32*c2*x1 + 4*c2*x2 + 68*c2 - 16*c3*p1 - 8*c3*q1 - 16*c3*q2 - 8*c3*x2 + 15*c3 + 134*p1*q1 + 49*p1*q2 - 232*p1*x1 - 56*p1*x2 + 5*p1 + 8*q1*q2 - 232*q1*x1 + 2*q1 + 10*q2*x1 - 56*q2*x2 + 8*q2 + 348*x1 + 84*x2 + 1"
      ],
      "text/latex": "$\\displaystyle 68 c_{1} c_{2} - 8 c_{1} c_{3} - 4 c_{1} p_{1} - 6 c_{1} q_{1} - 12 c_{1} q_{2} - 16 c_{1} x_{1} + 2 c_{1} x_{2} + 17 c_{1} - 16 c_{2} c_{3} - 8 c_{2} p_{1} - 12 c_{2} q_{1} - 24 c_{2} q_{2} - 32 c_{2} x_{1} + 4 c_{2} x_{2} + 68 c_{2} - 16 c_{3} p_{1} - 8 c_{3} q_{1} - 16 c_{3} q_{2} - 8 c_{3} x_{2} + 15 c_{3} + 134 p_{1} q_{1} + 49 p_{1} q_{2} - 232 p_{1} x_{1} - 56 p_{1} x_{2} + 5 p_{1} + 8 q_{1} q_{2} - 232 q_{1} x_{1} + 2 q_{1} + 10 q_{2} x_{1} - 56 q_{2} x_{2} + 8 q_{2} + 348 x_{1} + 84 x_{2} + 1$"
     },
     "execution_count": 27,
     "metadata": {},
     "output_type": "execute_result"
    }
   ],
   "execution_count": 27
  },
  {
   "metadata": {
    "ExecuteTime": {
     "end_time": "2025-07-22T09:27:42.181998Z",
     "start_time": "2025-07-22T09:27:42.169016Z"
    }
   },
   "cell_type": "code",
   "source": "dictionaire_auxiliary_variable",
   "id": "daa1e67ebcf9def",
   "outputs": [
    {
     "data": {
      "text/plain": [
       "{x1: {p1, q1}, x2: {p1, q2}}"
      ]
     },
     "execution_count": 28,
     "metadata": {},
     "output_type": "execute_result"
    }
   ],
   "execution_count": 28
  },
  {
   "metadata": {},
   "cell_type": "markdown",
   "source": [
    "## Factorisation d'entiers en le transformant dans le modèle QUBO (ou d'Ising)\n",
    "\n",
    "Cette expression est un problème d'optimisation binaire quadratique sans contrainte (QUBO) sur 4 variables ($p_1,q_1,q_2,x_1$) qui peut être transformé en un hamiltonien d'Ising équivalent.\n",
    "\n",
    "On fait appel à la librairie [Dimod](https://test-projecttemplate-dimod.readthedocs.io/en/release_notes/introduction.html) qui permet de créer un modèle d'Ising à partir d'une expression mathématique donnée sous la forme symbolique."
   ],
   "id": "d4740742fd715d7c"
  },
  {
   "metadata": {},
   "cell_type": "markdown",
   "source": [
    "### Transfer de Qubo à Ising\n",
    "De reduct_demension_expr, on remplace les variables du Qubo problème aux variables du Ising problème:\n",
    "\n",
    "$\\displaystyle variable_q \\in \\{0,1\\} = (variable_i +1)/2$ avec $ variable_i \\in \\{-1,1\\} $"
   ],
   "id": "99a43ffefeb9a5cf"
  },
  {
   "metadata": {
    "ExecuteTime": {
     "end_time": "2025-07-22T09:27:42.257593Z",
     "start_time": "2025-07-22T09:27:42.247808Z"
    }
   },
   "cell_type": "code",
   "source": [
    "def transfers_qubo2Ising(reduct_demension_expr):\n",
    "    subs_relations = {(variable, ( variable + 1 ) /2) for variable in variables}\n",
    "\n",
    "    # Après la substitution, variables dans l'expression sont des variables d'Ising dans {-1,+1}\n",
    "    new_expr = reduct_demension_expr.subs(subs_relations)\n",
    "    new_expr = sp.expand(new_expr)\n",
    "    return new_expr"
   ],
   "id": "143354c95c7a0bf3",
   "outputs": [],
   "execution_count": 29
  },
  {
   "metadata": {
    "ExecuteTime": {
     "end_time": "2025-07-22T09:27:42.508672Z",
     "start_time": "2025-07-22T09:27:42.372744Z"
    }
   },
   "cell_type": "code",
   "source": [
    "expr_ising = transfers_qubo2Ising(reduct_dimension_expr)\n",
    "expr_ising"
   ],
   "id": "e952f92465e70df0",
   "outputs": [
    {
     "data": {
      "text/plain": [
       "17*c1*c2 - 2*c1*c3 - c1*p1 - 3*c1*q1/2 - 3*c1*q2 - 4*c1*x1 + c1*x2/2 + 29*c1/2 - 4*c2*c3 - 2*c2*p1 - 3*c2*q1 - 6*c2*q2 - 8*c2*x1 + c2*x2 + 29*c2 - 4*c3*p1 - 2*c3*q1 - 4*c3*q2 - 2*c3*x2 - 21*c3/2 + 67*p1*q1/2 + 49*p1*q2/4 - 58*p1*x1 - 14*p1*x2 - 123*p1/4 + 2*q1*q2 - 58*q1*x1 - 28*q1 + 5*q2*x1/2 - 14*q2*x2 - 25*q2/4 + 97*x1/2 + 27*x2/2 + 611/4"
      ],
      "text/latex": "$\\displaystyle 17 c_{1} c_{2} - 2 c_{1} c_{3} - c_{1} p_{1} - \\frac{3 c_{1} q_{1}}{2} - 3 c_{1} q_{2} - 4 c_{1} x_{1} + \\frac{c_{1} x_{2}}{2} + \\frac{29 c_{1}}{2} - 4 c_{2} c_{3} - 2 c_{2} p_{1} - 3 c_{2} q_{1} - 6 c_{2} q_{2} - 8 c_{2} x_{1} + c_{2} x_{2} + 29 c_{2} - 4 c_{3} p_{1} - 2 c_{3} q_{1} - 4 c_{3} q_{2} - 2 c_{3} x_{2} - \\frac{21 c_{3}}{2} + \\frac{67 p_{1} q_{1}}{2} + \\frac{49 p_{1} q_{2}}{4} - 58 p_{1} x_{1} - 14 p_{1} x_{2} - \\frac{123 p_{1}}{4} + 2 q_{1} q_{2} - 58 q_{1} x_{1} - 28 q_{1} + \\frac{5 q_{2} x_{1}}{2} - 14 q_{2} x_{2} - \\frac{25 q_{2}}{4} + \\frac{97 x_{1}}{2} + \\frac{27 x_{2}}{2} + \\frac{611}{4}$"
     },
     "execution_count": 30,
     "metadata": {},
     "output_type": "execute_result"
    }
   ],
   "execution_count": 30
  },
  {
   "metadata": {},
   "cell_type": "markdown",
   "source": "### solver",
   "id": "7372c5f89f9dafb4"
  },
  {
   "metadata": {
    "ExecuteTime": {
     "end_time": "2025-07-22T09:27:44.033271Z",
     "start_time": "2025-07-22T09:27:42.550601Z"
    }
   },
   "cell_type": "code",
   "source": [
    "import dimod\n",
    "from dwave.preprocessing.composites import SpinReversalTransformComposite\n",
    "\n",
    "# Compose the sampler\n",
    "base_sampler = dimod.ExactSolver()\n",
    "composed_sampler = SpinReversalTransformComposite(base_sampler)\n",
    "# les varaiables sont sort par la lettre puis un nombre: \"x12\" -> \"x\" 12\n",
    "def sort_key(variable):\n",
    "    name = str(variable)\n",
    "    # Split le nom du variable à deux parties: letter & number\n",
    "    letter = name[0]\n",
    "    number = int(name[1:])\n",
    "    return (letter, number)\n",
    "\n",
    "def get_solver_parameter(expr_ising):\n",
    "    linear = {}\n",
    "    quadratic ={}\n",
    "    offset = 0\n",
    "\n",
    "    for term in expr_ising.args:\n",
    "        variables_liste = sorted(term.free_symbols, key=sort_key)\n",
    "        coef = term.as_coeff_mul()[0]\n",
    "        if len(term.free_symbols) ==0:\n",
    "            offset = coef\n",
    "        if len(term.free_symbols) ==1:\n",
    "            linear[variables_liste[0].name] = coef\n",
    "        elif len(term.free_symbols) ==2:\n",
    "            quadratic[(variables_liste[0].name,variables_liste[1].name)] = coef\n",
    "\n",
    "    return (linear,quadratic,offset)\n",
    "\n",
    "def get_solution(expr_ising):\n",
    "    (linear,quadratic,offset) = get_solver_parameter(expr_ising)\n",
    "    response = composed_sampler.sample_ising(linear, quadratic)  #response.data() return (solution, energy, num_occurrences)\n",
    "    solution = next(response.data())[0]\n",
    "    return solution"
   ],
   "id": "32abf1614dd8db22",
   "outputs": [],
   "execution_count": 31
  },
  {
   "metadata": {
    "ExecuteTime": {
     "end_time": "2025-07-22T09:27:44.121183Z",
     "start_time": "2025-07-22T09:27:44.096376Z"
    }
   },
   "cell_type": "code",
   "source": [
    "solution = get_solution(expr_ising)\n",
    "solution"
   ],
   "id": "5665541c6c875a8b",
   "outputs": [
    {
     "data": {
      "text/plain": [
       "{'c2': np.int8(-1),\n",
       " 'x2': np.int8(-1),\n",
       " 'c1': np.int8(1),\n",
       " 'p1': np.int8(1),\n",
       " 'x1': np.int8(1),\n",
       " 'q1': np.int8(1),\n",
       " 'q2': np.int8(-1),\n",
       " 'c3': np.int8(1)}"
      ]
     },
     "execution_count": 32,
     "metadata": {},
     "output_type": "execute_result"
    }
   ],
   "execution_count": 32
  },
  {
   "metadata": {
    "ExecuteTime": {
     "end_time": "2025-07-22T09:27:44.242322Z",
     "start_time": "2025-07-22T09:27:44.230636Z"
    }
   },
   "cell_type": "code",
   "source": "print(len(solution))",
   "id": "f5494eaab65ee741",
   "outputs": [
    {
     "name": "stdout",
     "output_type": "stream",
     "text": [
      "8\n"
     ]
    }
   ],
   "execution_count": 33
  },
  {
   "metadata": {},
   "cell_type": "markdown",
   "source": [
    "## Factorisation\n",
    "### Calculer p et q\n",
    "On les calcule en remplaçant les valeurs dans la solution trouvée par le solver et l'expressions de p et q."
   ],
   "id": "ec2beaf61dd2b157"
  },
  {
   "metadata": {
    "ExecuteTime": {
     "end_time": "2025-07-22T09:27:44.333449Z",
     "start_time": "2025-07-22T09:27:44.324795Z"
    }
   },
   "cell_type": "code",
   "source": [
    "def calcule_p_q(solution,p,q):\n",
    "    dic_varialbe_value = {}\n",
    "    for var in variables:\n",
    "        valeur_ising = solution.get(var.name, np.int8(-1))\n",
    "\n",
    "        if(valeur_ising == np.int8(1)):\n",
    "            dic_varialbe_value[var] = int(1)\n",
    "        else:\n",
    "            dic_varialbe_value[var] = int(0)\n",
    "\n",
    "    p_value = p.subs(dic_varialbe_value)\n",
    "    q_value = q.subs(dic_varialbe_value)\n",
    "\n",
    "    return (p_value.evalf(),q_value.evalf())"
   ],
   "id": "4894be0a1eae8668",
   "outputs": [],
   "execution_count": 34
  },
  {
   "metadata": {
    "ExecuteTime": {
     "end_time": "2025-07-22T09:27:44.395036Z",
     "start_time": "2025-07-22T09:27:44.380770Z"
    }
   },
   "cell_type": "code",
   "source": "calcule_p_q(solution,p_expr,q_expr)",
   "id": "eb2d7d997fd57ff3",
   "outputs": [
    {
     "data": {
      "text/plain": [
       "(7.00000000000000, 11.0000000000000)"
      ]
     },
     "execution_count": 35,
     "metadata": {},
     "output_type": "execute_result"
    }
   ],
   "execution_count": 35
  },
  {
   "metadata": {},
   "cell_type": "markdown",
   "source": "## Sum up function",
   "id": "bc561fcc79f2cbc5"
  },
  {
   "metadata": {
    "ExecuteTime": {
     "end_time": "2025-07-22T09:31:07.806296Z",
     "start_time": "2025-07-22T09:31:07.665295Z"
    }
   },
   "cell_type": "code",
   "source": [
    "def factorization(N,p_len,q_len,num_col_per_bloc):\n",
    "    global p_expr,q_expr,N_binary,N_binary_transposed,variables, dictionaire_auxiliary_variable, res\n",
    "\n",
    "    (p_expr,p_binary) = set_variable(p_len,\"p\")\n",
    "    (q_expr,q_binary) = set_variable(q_len,\"q\")\n",
    "    N_binary = get_N_binary(N)\n",
    "    N_binary_transposed = N_binary[::-1]\n",
    "\n",
    "    table = table_multiplication(p_binary,q_binary)\n",
    "    table_complet = adjust_table(table)\n",
    "    table_transposed = define_table_transposed(table_complet)\n",
    "    table_carry = define_carry_table(table_transposed,num_col_per_bloc,N_binary)\n",
    "    #print(table_carry)\n",
    "\n",
    "    expr_init = define_function(table_carry,num_col_per_bloc,N_binary_transposed)\n",
    "    reduct_expr = reduct_expression(expr_init)\n",
    "\n",
    "    expr_ising = transfers_qubo2Ising(reduct_expr)\n",
    "\n",
    "    solution = get_solution(expr_ising)\n",
    "    (p_val,q_val) = calcule_p_q(solution,p_expr,q_expr)\n",
    "    (p_int,q_int) = (int(p_val),int(q_val))\n",
    "    print(f\"La factorisation de {N} est {p_int} * {q_int}.\")\n",
    "    print (p_int*q_int == N)\n",
    "\n",
    "    return p_int,q_int\n",
    "\n",
    "factorization(35,3,3,2)"
   ],
   "id": "c6ee6dcdf7bbbd17",
   "outputs": [
    {
     "name": "stdout",
     "output_type": "stream",
     "text": [
      "La factorisation de 35 est 7 * 5.\n",
      "True\n"
     ]
    },
    {
     "data": {
      "text/plain": [
       "(7, 5)"
      ]
     },
     "execution_count": 49,
     "metadata": {},
     "output_type": "execute_result"
    }
   ],
   "execution_count": 49
  },
  {
   "metadata": {
    "ExecuteTime": {
     "end_time": "2025-07-22T09:31:10.849101Z",
     "start_time": "2025-07-22T09:31:10.639512Z"
    }
   },
   "cell_type": "code",
   "source": "factorization(49,3,3,2)",
   "id": "8d409f8f067b1b54",
   "outputs": [
    {
     "name": "stdout",
     "output_type": "stream",
     "text": [
      "La factorisation de 49 est 7 * 7.\n",
      "True\n"
     ]
    },
    {
     "data": {
      "text/plain": [
       "(7, 7)"
      ]
     },
     "execution_count": 50,
     "metadata": {},
     "output_type": "execute_result"
    }
   ],
   "execution_count": 50
  },
  {
   "metadata": {
    "ExecuteTime": {
     "end_time": "2025-07-22T09:31:14.598213Z",
     "start_time": "2025-07-22T09:31:13.643900Z"
    }
   },
   "cell_type": "code",
   "source": "factorization(143,4,4,2)",
   "id": "7c1d2585cec641bd",
   "outputs": [
    {
     "name": "stdout",
     "output_type": "stream",
     "text": [
      "La factorisation de 143 est 11 * 13.\n",
      "True\n"
     ]
    },
    {
     "data": {
      "text/plain": [
       "(11, 13)"
      ]
     },
     "execution_count": 51,
     "metadata": {},
     "output_type": "execute_result"
    }
   ],
   "execution_count": 51
  },
  {
   "metadata": {
    "ExecuteTime": {
     "end_time": "2025-07-22T09:31:17.366131Z",
     "start_time": "2025-07-22T09:31:17.042977Z"
    }
   },
   "cell_type": "code",
   "source": "factorization(77,3,4,2)",
   "id": "fed27761f9cd2723",
   "outputs": [
    {
     "name": "stdout",
     "output_type": "stream",
     "text": [
      "La factorisation de 77 est 7 * 11.\n",
      "True\n"
     ]
    },
    {
     "data": {
      "text/plain": [
       "(7, 11)"
      ]
     },
     "execution_count": 52,
     "metadata": {},
     "output_type": "execute_result"
    }
   ],
   "execution_count": 52
  }
 ],
 "metadata": {
  "kernelspec": {
   "display_name": "Python 3",
   "language": "python",
   "name": "python3"
  },
  "language_info": {
   "codemirror_mode": {
    "name": "ipython",
    "version": 2
   },
   "file_extension": ".py",
   "mimetype": "text/x-python",
   "name": "python",
   "nbconvert_exporter": "python",
   "pygments_lexer": "ipython2",
   "version": "2.7.6"
  }
 },
 "nbformat": 4,
 "nbformat_minor": 5
}
